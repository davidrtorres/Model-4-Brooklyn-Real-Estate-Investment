{
 "cells": [
  {
   "cell_type": "markdown",
   "metadata": {
    "id": "cQYuKwNMN4B-"
   },
   "source": [
    "By:  David R. Torres<br>\n",
    "Flatiron School<br>\n",
    "Github repo: https://github.com/davidrtorres/dsc-mod-4-project-v2-1-onl01-dtsc-pt-041320/tree/master"
   ]
  },
  {
   "cell_type": "markdown",
   "metadata": {
    "id": "CJtzem1QCZLa"
   },
   "source": [
    "# **Using an ARIMA Model for Time Series Forecasting**"
   ]
  },
  {
   "cell_type": "markdown",
   "metadata": {
    "id": "M3f3mRul-rQB"
   },
   "source": [
    "### **Introduction**\n",
    "Business Problem: I am a consultant for the investment firm Premium Real Estate, LLC.  The firm is interested in investing in the Brooklyn real estate market.  The firm asked me to provide an analysis and make recommendations for investing in real estate in the top 5 zipcodes in Brooklyn, NY.   I used time series forecasting analysis and models to predict the 5 best zip codes to invest in Brooklyn.  I decided that the top zip codes for investment would be ones that offer a high return on investment (ROI).  The ROI will be based on the real estate prices in Brooklyn.  The firm is looking for short-term investments with the highest returns over a 3 year period.  The 'top 5 zipcodes' would be those with the highest ROI over a 3 year period.<br>\n",
    "<br>\n",
    "For the task, I analyzed real estate sales data from Zillow which covers the time period 4-1-1996 to 4-1-2018.<br>\n",
    "I used an Auto Arima model to conduct a gridsearch to find the p,d,qs and Seasonal P,D,Qs with the lowest related AIC scores for each zipcode.  I used a SARIMA model to make predictions regarding the test data.  I used the metric RMSE to evaluate how the models performed in making predictons.  I then made models to perform dynamic forecasts for 3 years.<br>"
   ]
  },
  {
   "cell_type": "code",
   "execution_count": 1,
   "metadata": {},
   "outputs": [
    {
     "name": "stdout",
     "output_type": "stream",
     "text": [
      "test\n"
     ]
    }
   ],
   "source": [
    "print('test')"
   ]
  },
  {
   "cell_type": "code",
   "execution_count": 2,
   "metadata": {
    "colab": {
     "base_uri": "https://localhost:8080/"
    },
    "id": "0Hrqf3EGbiTQ",
    "outputId": "cd270874-e52c-4c29-8a8b-d3ad0f315724"
   },
   "outputs": [
    {
     "name": "stdout",
     "output_type": "stream",
     "text": [
      "Notebook 12-18-20\n"
     ]
    }
   ],
   "source": [
    "print('Notebook 12-18-20')\n",
    "import pandas as pd\n",
    "import numpy as np\n",
    "import matplotlib.pyplot as plt\n",
    "%matplotlib inline\n",
    "\n",
    "from statsmodels.tsa.stattools import adfuller\n",
    "\n",
    "import warnings\n",
    "warnings.filterwarnings('ignore')\n",
    "import itertools\n",
    "import statsmodels.api as sm"
   ]
  },
  {
   "cell_type": "markdown",
   "metadata": {},
   "source": [
    "## Get The Data"
   ]
  },
  {
   "cell_type": "code",
   "execution_count": 3,
   "metadata": {
    "id": "4jpCp8ADcCT3"
   },
   "outputs": [],
   "source": [
    "zillow = pd.read_csv('https://raw.githubusercontent.com/learn-co-students/dsc-mod-4-project-v2-1-onl01-dtsc-ft-070620/master/time-series/zillow_data.csv')"
   ]
  },
  {
   "cell_type": "code",
   "execution_count": 4,
   "metadata": {
    "colab": {
     "base_uri": "https://localhost:8080/",
     "height": 304
    },
    "id": "jII7ir55biTZ",
    "outputId": "6140ac7b-a8ac-4bc4-b3f7-d90b15bb7f94"
   },
   "outputs": [
    {
     "data": {
      "text/html": [
       "<div>\n",
       "<style scoped>\n",
       "    .dataframe tbody tr th:only-of-type {\n",
       "        vertical-align: middle;\n",
       "    }\n",
       "\n",
       "    .dataframe tbody tr th {\n",
       "        vertical-align: top;\n",
       "    }\n",
       "\n",
       "    .dataframe thead th {\n",
       "        text-align: right;\n",
       "    }\n",
       "</style>\n",
       "<table border=\"1\" class=\"dataframe\">\n",
       "  <thead>\n",
       "    <tr style=\"text-align: right;\">\n",
       "      <th></th>\n",
       "      <th>RegionID</th>\n",
       "      <th>Zipcode</th>\n",
       "      <th>City</th>\n",
       "      <th>State</th>\n",
       "      <th>Metro</th>\n",
       "      <th>CountyName</th>\n",
       "      <th>SizeRank</th>\n",
       "      <th>1996-04</th>\n",
       "      <th>1996-05</th>\n",
       "      <th>1996-06</th>\n",
       "      <th>...</th>\n",
       "      <th>2017-07</th>\n",
       "      <th>2017-08</th>\n",
       "      <th>2017-09</th>\n",
       "      <th>2017-10</th>\n",
       "      <th>2017-11</th>\n",
       "      <th>2017-12</th>\n",
       "      <th>2018-01</th>\n",
       "      <th>2018-02</th>\n",
       "      <th>2018-03</th>\n",
       "      <th>2018-04</th>\n",
       "    </tr>\n",
       "  </thead>\n",
       "  <tbody>\n",
       "    <tr>\n",
       "      <th>0</th>\n",
       "      <td>84654</td>\n",
       "      <td>60657</td>\n",
       "      <td>Chicago</td>\n",
       "      <td>IL</td>\n",
       "      <td>Chicago</td>\n",
       "      <td>Cook</td>\n",
       "      <td>1</td>\n",
       "      <td>334200.0</td>\n",
       "      <td>335400.0</td>\n",
       "      <td>336500.0</td>\n",
       "      <td>...</td>\n",
       "      <td>1005500</td>\n",
       "      <td>1007500</td>\n",
       "      <td>1007800</td>\n",
       "      <td>1009600</td>\n",
       "      <td>1013300</td>\n",
       "      <td>1018700</td>\n",
       "      <td>1024400</td>\n",
       "      <td>1030700</td>\n",
       "      <td>1033800</td>\n",
       "      <td>1030600</td>\n",
       "    </tr>\n",
       "    <tr>\n",
       "      <th>1</th>\n",
       "      <td>90668</td>\n",
       "      <td>75070</td>\n",
       "      <td>McKinney</td>\n",
       "      <td>TX</td>\n",
       "      <td>Dallas-Fort Worth</td>\n",
       "      <td>Collin</td>\n",
       "      <td>2</td>\n",
       "      <td>235700.0</td>\n",
       "      <td>236900.0</td>\n",
       "      <td>236700.0</td>\n",
       "      <td>...</td>\n",
       "      <td>308000</td>\n",
       "      <td>310000</td>\n",
       "      <td>312500</td>\n",
       "      <td>314100</td>\n",
       "      <td>315000</td>\n",
       "      <td>316600</td>\n",
       "      <td>318100</td>\n",
       "      <td>319600</td>\n",
       "      <td>321100</td>\n",
       "      <td>321800</td>\n",
       "    </tr>\n",
       "    <tr>\n",
       "      <th>2</th>\n",
       "      <td>91982</td>\n",
       "      <td>77494</td>\n",
       "      <td>Katy</td>\n",
       "      <td>TX</td>\n",
       "      <td>Houston</td>\n",
       "      <td>Harris</td>\n",
       "      <td>3</td>\n",
       "      <td>210400.0</td>\n",
       "      <td>212200.0</td>\n",
       "      <td>212200.0</td>\n",
       "      <td>...</td>\n",
       "      <td>321000</td>\n",
       "      <td>320600</td>\n",
       "      <td>320200</td>\n",
       "      <td>320400</td>\n",
       "      <td>320800</td>\n",
       "      <td>321200</td>\n",
       "      <td>321200</td>\n",
       "      <td>323000</td>\n",
       "      <td>326900</td>\n",
       "      <td>329900</td>\n",
       "    </tr>\n",
       "    <tr>\n",
       "      <th>3</th>\n",
       "      <td>84616</td>\n",
       "      <td>60614</td>\n",
       "      <td>Chicago</td>\n",
       "      <td>IL</td>\n",
       "      <td>Chicago</td>\n",
       "      <td>Cook</td>\n",
       "      <td>4</td>\n",
       "      <td>498100.0</td>\n",
       "      <td>500900.0</td>\n",
       "      <td>503100.0</td>\n",
       "      <td>...</td>\n",
       "      <td>1289800</td>\n",
       "      <td>1287700</td>\n",
       "      <td>1287400</td>\n",
       "      <td>1291500</td>\n",
       "      <td>1296600</td>\n",
       "      <td>1299000</td>\n",
       "      <td>1302700</td>\n",
       "      <td>1306400</td>\n",
       "      <td>1308500</td>\n",
       "      <td>1307000</td>\n",
       "    </tr>\n",
       "    <tr>\n",
       "      <th>4</th>\n",
       "      <td>93144</td>\n",
       "      <td>79936</td>\n",
       "      <td>El Paso</td>\n",
       "      <td>TX</td>\n",
       "      <td>El Paso</td>\n",
       "      <td>El Paso</td>\n",
       "      <td>5</td>\n",
       "      <td>77300.0</td>\n",
       "      <td>77300.0</td>\n",
       "      <td>77300.0</td>\n",
       "      <td>...</td>\n",
       "      <td>119100</td>\n",
       "      <td>119400</td>\n",
       "      <td>120000</td>\n",
       "      <td>120300</td>\n",
       "      <td>120300</td>\n",
       "      <td>120300</td>\n",
       "      <td>120300</td>\n",
       "      <td>120500</td>\n",
       "      <td>121000</td>\n",
       "      <td>121500</td>\n",
       "    </tr>\n",
       "  </tbody>\n",
       "</table>\n",
       "<p>5 rows × 272 columns</p>\n",
       "</div>"
      ],
      "text/plain": [
       "   RegionID  Zipcode      City State              Metro CountyName  SizeRank  \\\n",
       "0     84654    60657   Chicago    IL            Chicago       Cook         1   \n",
       "1     90668    75070  McKinney    TX  Dallas-Fort Worth     Collin         2   \n",
       "2     91982    77494      Katy    TX            Houston     Harris         3   \n",
       "3     84616    60614   Chicago    IL            Chicago       Cook         4   \n",
       "4     93144    79936   El Paso    TX            El Paso    El Paso         5   \n",
       "\n",
       "    1996-04   1996-05   1996-06  ...  2017-07  2017-08  2017-09  2017-10  \\\n",
       "0  334200.0  335400.0  336500.0  ...  1005500  1007500  1007800  1009600   \n",
       "1  235700.0  236900.0  236700.0  ...   308000   310000   312500   314100   \n",
       "2  210400.0  212200.0  212200.0  ...   321000   320600   320200   320400   \n",
       "3  498100.0  500900.0  503100.0  ...  1289800  1287700  1287400  1291500   \n",
       "4   77300.0   77300.0   77300.0  ...   119100   119400   120000   120300   \n",
       "\n",
       "   2017-11  2017-12  2018-01  2018-02  2018-03  2018-04  \n",
       "0  1013300  1018700  1024400  1030700  1033800  1030600  \n",
       "1   315000   316600   318100   319600   321100   321800  \n",
       "2   320800   321200   321200   323000   326900   329900  \n",
       "3  1296600  1299000  1302700  1306400  1308500  1307000  \n",
       "4   120300   120300   120300   120500   121000   121500  \n",
       "\n",
       "[5 rows x 272 columns]"
      ]
     },
     "execution_count": 4,
     "metadata": {},
     "output_type": "execute_result"
    }
   ],
   "source": [
    "zillow.rename(columns={'RegionName': 'Zipcode'}, inplace=True)\n",
    "zillow.head()"
   ]
  },
  {
   "cell_type": "markdown",
   "metadata": {
    "id": "vW2YFMRwxE_f"
   },
   "source": [
    "## Preprocessing Data\n",
    "### Melted Data Function\n",
    "The dataset is from Zillow.com so I had to first reshape the data frame from wide to long format using the function .melt() and then transform it into a time series data frame.  Next, I created a subset of the dataframe for properties located under column 'State' for 'NY' and column 'CountyName' for 'Kings'."
   ]
  },
  {
   "cell_type": "code",
   "execution_count": 5,
   "metadata": {
    "id": "YKnocApwbiTd"
   },
   "outputs": [],
   "source": [
    "def melt_data(df):\n",
    "    \"\"\"\n",
    "    df - is the dataframe\n",
    "    This is a time series so I need a column for dates to become the index.\n",
    "    .melt() function sets up dataframe so date columns can be merged as a single column.  \n",
    "    \"\"\"\n",
    "    melted = pd.melt(df, id_vars=['RegionID','Zipcode', 'City', 'State', 'Metro', 'CountyName', \n",
    "                                  'SizeRank'], var_name='Month', value_name='MeanValue')\n",
    "    melted['Month'] = pd.to_datetime(melted['Month'], format='%Y-%m')\n",
    "    #melted = melted.set_index('Month')\n",
    "    melted = melted.dropna(subset=['MeanValue'])\n",
    "    return melted"
   ]
  },
  {
   "cell_type": "code",
   "execution_count": 6,
   "metadata": {
    "id": "ZNb6xx_sbiTg"
   },
   "outputs": [],
   "source": [
    "all_zipcodes = melt_data(zillow)"
   ]
  },
  {
   "cell_type": "code",
   "execution_count": 7,
   "metadata": {
    "colab": {
     "base_uri": "https://localhost:8080/"
    },
    "id": "HNJOEqCPbiTj",
    "outputId": "8e346e0c-d050-435a-c5b2-f69dd85fc46f"
   },
   "outputs": [
    {
     "data": {
      "text/plain": [
       "Index(['RegionID', 'Zipcode', 'City', 'State', 'Metro', 'CountyName',\n",
       "       'SizeRank', 'Month', 'MeanValue'],\n",
       "      dtype='object')"
      ]
     },
     "execution_count": 7,
     "metadata": {},
     "output_type": "execute_result"
    }
   ],
   "source": [
    "all_zipcodes.columns"
   ]
  },
  {
   "cell_type": "code",
   "execution_count": 8,
   "metadata": {
    "colab": {
     "base_uri": "https://localhost:8080/",
     "height": 359
    },
    "id": "WSfg2hYlbiTn",
    "outputId": "adfeddcc-409e-4f49-8292-0989a48a2703",
    "scrolled": true
   },
   "outputs": [
    {
     "data": {
      "text/html": [
       "<div>\n",
       "<style scoped>\n",
       "    .dataframe tbody tr th:only-of-type {\n",
       "        vertical-align: middle;\n",
       "    }\n",
       "\n",
       "    .dataframe tbody tr th {\n",
       "        vertical-align: top;\n",
       "    }\n",
       "\n",
       "    .dataframe thead th {\n",
       "        text-align: right;\n",
       "    }\n",
       "</style>\n",
       "<table border=\"1\" class=\"dataframe\">\n",
       "  <thead>\n",
       "    <tr style=\"text-align: right;\">\n",
       "      <th></th>\n",
       "      <th>RegionID</th>\n",
       "      <th>Zipcode</th>\n",
       "      <th>City</th>\n",
       "      <th>State</th>\n",
       "      <th>Metro</th>\n",
       "      <th>CountyName</th>\n",
       "      <th>SizeRank</th>\n",
       "      <th>Month</th>\n",
       "      <th>MeanValue</th>\n",
       "    </tr>\n",
       "  </thead>\n",
       "  <tbody>\n",
       "    <tr>\n",
       "      <th>0</th>\n",
       "      <td>84654</td>\n",
       "      <td>60657</td>\n",
       "      <td>Chicago</td>\n",
       "      <td>IL</td>\n",
       "      <td>Chicago</td>\n",
       "      <td>Cook</td>\n",
       "      <td>1</td>\n",
       "      <td>1996-04-01</td>\n",
       "      <td>334200.0</td>\n",
       "    </tr>\n",
       "    <tr>\n",
       "      <th>1</th>\n",
       "      <td>90668</td>\n",
       "      <td>75070</td>\n",
       "      <td>McKinney</td>\n",
       "      <td>TX</td>\n",
       "      <td>Dallas-Fort Worth</td>\n",
       "      <td>Collin</td>\n",
       "      <td>2</td>\n",
       "      <td>1996-04-01</td>\n",
       "      <td>235700.0</td>\n",
       "    </tr>\n",
       "    <tr>\n",
       "      <th>2</th>\n",
       "      <td>91982</td>\n",
       "      <td>77494</td>\n",
       "      <td>Katy</td>\n",
       "      <td>TX</td>\n",
       "      <td>Houston</td>\n",
       "      <td>Harris</td>\n",
       "      <td>3</td>\n",
       "      <td>1996-04-01</td>\n",
       "      <td>210400.0</td>\n",
       "    </tr>\n",
       "    <tr>\n",
       "      <th>3</th>\n",
       "      <td>84616</td>\n",
       "      <td>60614</td>\n",
       "      <td>Chicago</td>\n",
       "      <td>IL</td>\n",
       "      <td>Chicago</td>\n",
       "      <td>Cook</td>\n",
       "      <td>4</td>\n",
       "      <td>1996-04-01</td>\n",
       "      <td>498100.0</td>\n",
       "    </tr>\n",
       "    <tr>\n",
       "      <th>4</th>\n",
       "      <td>93144</td>\n",
       "      <td>79936</td>\n",
       "      <td>El Paso</td>\n",
       "      <td>TX</td>\n",
       "      <td>El Paso</td>\n",
       "      <td>El Paso</td>\n",
       "      <td>5</td>\n",
       "      <td>1996-04-01</td>\n",
       "      <td>77300.0</td>\n",
       "    </tr>\n",
       "    <tr>\n",
       "      <th>5</th>\n",
       "      <td>91733</td>\n",
       "      <td>77084</td>\n",
       "      <td>Houston</td>\n",
       "      <td>TX</td>\n",
       "      <td>Houston</td>\n",
       "      <td>Harris</td>\n",
       "      <td>6</td>\n",
       "      <td>1996-04-01</td>\n",
       "      <td>95000.0</td>\n",
       "    </tr>\n",
       "    <tr>\n",
       "      <th>6</th>\n",
       "      <td>61807</td>\n",
       "      <td>10467</td>\n",
       "      <td>New York</td>\n",
       "      <td>NY</td>\n",
       "      <td>New York</td>\n",
       "      <td>Bronx</td>\n",
       "      <td>7</td>\n",
       "      <td>1996-04-01</td>\n",
       "      <td>152900.0</td>\n",
       "    </tr>\n",
       "    <tr>\n",
       "      <th>7</th>\n",
       "      <td>84640</td>\n",
       "      <td>60640</td>\n",
       "      <td>Chicago</td>\n",
       "      <td>IL</td>\n",
       "      <td>Chicago</td>\n",
       "      <td>Cook</td>\n",
       "      <td>8</td>\n",
       "      <td>1996-04-01</td>\n",
       "      <td>216500.0</td>\n",
       "    </tr>\n",
       "    <tr>\n",
       "      <th>8</th>\n",
       "      <td>91940</td>\n",
       "      <td>77449</td>\n",
       "      <td>Katy</td>\n",
       "      <td>TX</td>\n",
       "      <td>Houston</td>\n",
       "      <td>Harris</td>\n",
       "      <td>9</td>\n",
       "      <td>1996-04-01</td>\n",
       "      <td>95400.0</td>\n",
       "    </tr>\n",
       "    <tr>\n",
       "      <th>9</th>\n",
       "      <td>97564</td>\n",
       "      <td>94109</td>\n",
       "      <td>San Francisco</td>\n",
       "      <td>CA</td>\n",
       "      <td>San Francisco</td>\n",
       "      <td>San Francisco</td>\n",
       "      <td>10</td>\n",
       "      <td>1996-04-01</td>\n",
       "      <td>766000.0</td>\n",
       "    </tr>\n",
       "  </tbody>\n",
       "</table>\n",
       "</div>"
      ],
      "text/plain": [
       "   RegionID  Zipcode           City State              Metro     CountyName  \\\n",
       "0     84654    60657        Chicago    IL            Chicago           Cook   \n",
       "1     90668    75070       McKinney    TX  Dallas-Fort Worth         Collin   \n",
       "2     91982    77494           Katy    TX            Houston         Harris   \n",
       "3     84616    60614        Chicago    IL            Chicago           Cook   \n",
       "4     93144    79936        El Paso    TX            El Paso        El Paso   \n",
       "5     91733    77084        Houston    TX            Houston         Harris   \n",
       "6     61807    10467       New York    NY           New York          Bronx   \n",
       "7     84640    60640        Chicago    IL            Chicago           Cook   \n",
       "8     91940    77449           Katy    TX            Houston         Harris   \n",
       "9     97564    94109  San Francisco    CA      San Francisco  San Francisco   \n",
       "\n",
       "   SizeRank      Month  MeanValue  \n",
       "0         1 1996-04-01   334200.0  \n",
       "1         2 1996-04-01   235700.0  \n",
       "2         3 1996-04-01   210400.0  \n",
       "3         4 1996-04-01   498100.0  \n",
       "4         5 1996-04-01    77300.0  \n",
       "5         6 1996-04-01    95000.0  \n",
       "6         7 1996-04-01   152900.0  \n",
       "7         8 1996-04-01   216500.0  \n",
       "8         9 1996-04-01    95400.0  \n",
       "9        10 1996-04-01   766000.0  "
      ]
     },
     "execution_count": 8,
     "metadata": {},
     "output_type": "execute_result"
    }
   ],
   "source": [
    "all_zipcodes.head(10)"
   ]
  },
  {
   "cell_type": "code",
   "execution_count": 9,
   "metadata": {
    "colab": {
     "base_uri": "https://localhost:8080/",
     "height": 419
    },
    "id": "W-nMbgDpbiTr",
    "outputId": "7ce379a7-f1ee-416d-9979-7ef04a05da0b"
   },
   "outputs": [
    {
     "data": {
      "text/html": [
       "<div>\n",
       "<style scoped>\n",
       "    .dataframe tbody tr th:only-of-type {\n",
       "        vertical-align: middle;\n",
       "    }\n",
       "\n",
       "    .dataframe tbody tr th {\n",
       "        vertical-align: top;\n",
       "    }\n",
       "\n",
       "    .dataframe thead th {\n",
       "        text-align: right;\n",
       "    }\n",
       "</style>\n",
       "<table border=\"1\" class=\"dataframe\">\n",
       "  <thead>\n",
       "    <tr style=\"text-align: right;\">\n",
       "      <th></th>\n",
       "      <th>RegionID</th>\n",
       "      <th>Zipcode</th>\n",
       "      <th>City</th>\n",
       "      <th>State</th>\n",
       "      <th>Metro</th>\n",
       "      <th>CountyName</th>\n",
       "      <th>SizeRank</th>\n",
       "      <th>Month</th>\n",
       "      <th>MeanValue</th>\n",
       "    </tr>\n",
       "  </thead>\n",
       "  <tbody>\n",
       "    <tr>\n",
       "      <th>10</th>\n",
       "      <td>62037</td>\n",
       "      <td>11226</td>\n",
       "      <td>New York</td>\n",
       "      <td>NY</td>\n",
       "      <td>New York</td>\n",
       "      <td>Kings</td>\n",
       "      <td>11</td>\n",
       "      <td>1996-04-01</td>\n",
       "      <td>162000.0</td>\n",
       "    </tr>\n",
       "    <tr>\n",
       "      <th>13</th>\n",
       "      <td>62045</td>\n",
       "      <td>11235</td>\n",
       "      <td>New York</td>\n",
       "      <td>NY</td>\n",
       "      <td>New York</td>\n",
       "      <td>Kings</td>\n",
       "      <td>14</td>\n",
       "      <td>1996-04-01</td>\n",
       "      <td>190500.0</td>\n",
       "    </tr>\n",
       "    <tr>\n",
       "      <th>47</th>\n",
       "      <td>62040</td>\n",
       "      <td>11230</td>\n",
       "      <td>New York</td>\n",
       "      <td>NY</td>\n",
       "      <td>New York</td>\n",
       "      <td>Kings</td>\n",
       "      <td>48</td>\n",
       "      <td>1996-04-01</td>\n",
       "      <td>230100.0</td>\n",
       "    </tr>\n",
       "    <tr>\n",
       "      <th>49</th>\n",
       "      <td>62020</td>\n",
       "      <td>11209</td>\n",
       "      <td>New York</td>\n",
       "      <td>NY</td>\n",
       "      <td>New York</td>\n",
       "      <td>Kings</td>\n",
       "      <td>50</td>\n",
       "      <td>1996-04-01</td>\n",
       "      <td>255700.0</td>\n",
       "    </tr>\n",
       "    <tr>\n",
       "      <th>53</th>\n",
       "      <td>62023</td>\n",
       "      <td>11212</td>\n",
       "      <td>New York</td>\n",
       "      <td>NY</td>\n",
       "      <td>New York</td>\n",
       "      <td>Kings</td>\n",
       "      <td>54</td>\n",
       "      <td>1996-04-01</td>\n",
       "      <td>125000.0</td>\n",
       "    </tr>\n",
       "    <tr>\n",
       "      <th>...</th>\n",
       "      <td>...</td>\n",
       "      <td>...</td>\n",
       "      <td>...</td>\n",
       "      <td>...</td>\n",
       "      <td>...</td>\n",
       "      <td>...</td>\n",
       "      <td>...</td>\n",
       "      <td>...</td>\n",
       "      <td>...</td>\n",
       "    </tr>\n",
       "    <tr>\n",
       "      <th>3887683</th>\n",
       "      <td>62035</td>\n",
       "      <td>11224</td>\n",
       "      <td>New York</td>\n",
       "      <td>NY</td>\n",
       "      <td>New York</td>\n",
       "      <td>Kings</td>\n",
       "      <td>812</td>\n",
       "      <td>2018-04-01</td>\n",
       "      <td>517900.0</td>\n",
       "    </tr>\n",
       "    <tr>\n",
       "      <th>3888027</th>\n",
       "      <td>62033</td>\n",
       "      <td>11222</td>\n",
       "      <td>New York</td>\n",
       "      <td>NY</td>\n",
       "      <td>New York</td>\n",
       "      <td>Kings</td>\n",
       "      <td>1156</td>\n",
       "      <td>2018-04-01</td>\n",
       "      <td>1721100.0</td>\n",
       "    </tr>\n",
       "    <tr>\n",
       "      <th>3888306</th>\n",
       "      <td>62016</td>\n",
       "      <td>11205</td>\n",
       "      <td>New York</td>\n",
       "      <td>NY</td>\n",
       "      <td>New York</td>\n",
       "      <td>Kings</td>\n",
       "      <td>1435</td>\n",
       "      <td>2018-04-01</td>\n",
       "      <td>2248400.0</td>\n",
       "    </tr>\n",
       "    <tr>\n",
       "      <th>3888406</th>\n",
       "      <td>62028</td>\n",
       "      <td>11217</td>\n",
       "      <td>New York</td>\n",
       "      <td>NY</td>\n",
       "      <td>New York</td>\n",
       "      <td>Kings</td>\n",
       "      <td>1535</td>\n",
       "      <td>2018-04-01</td>\n",
       "      <td>3656000.0</td>\n",
       "    </tr>\n",
       "    <tr>\n",
       "      <th>3890600</th>\n",
       "      <td>62038</td>\n",
       "      <td>11228</td>\n",
       "      <td>New York</td>\n",
       "      <td>NY</td>\n",
       "      <td>New York</td>\n",
       "      <td>Kings</td>\n",
       "      <td>3729</td>\n",
       "      <td>2018-04-01</td>\n",
       "      <td>915300.0</td>\n",
       "    </tr>\n",
       "  </tbody>\n",
       "</table>\n",
       "<p>7141 rows × 9 columns</p>\n",
       "</div>"
      ],
      "text/plain": [
       "         RegionID  Zipcode      City State     Metro CountyName  SizeRank  \\\n",
       "10          62037    11226  New York    NY  New York      Kings        11   \n",
       "13          62045    11235  New York    NY  New York      Kings        14   \n",
       "47          62040    11230  New York    NY  New York      Kings        48   \n",
       "49          62020    11209  New York    NY  New York      Kings        50   \n",
       "53          62023    11212  New York    NY  New York      Kings        54   \n",
       "...           ...      ...       ...   ...       ...        ...       ...   \n",
       "3887683     62035    11224  New York    NY  New York      Kings       812   \n",
       "3888027     62033    11222  New York    NY  New York      Kings      1156   \n",
       "3888306     62016    11205  New York    NY  New York      Kings      1435   \n",
       "3888406     62028    11217  New York    NY  New York      Kings      1535   \n",
       "3890600     62038    11228  New York    NY  New York      Kings      3729   \n",
       "\n",
       "             Month  MeanValue  \n",
       "10      1996-04-01   162000.0  \n",
       "13      1996-04-01   190500.0  \n",
       "47      1996-04-01   230100.0  \n",
       "49      1996-04-01   255700.0  \n",
       "53      1996-04-01   125000.0  \n",
       "...            ...        ...  \n",
       "3887683 2018-04-01   517900.0  \n",
       "3888027 2018-04-01  1721100.0  \n",
       "3888306 2018-04-01  2248400.0  \n",
       "3888406 2018-04-01  3656000.0  \n",
       "3890600 2018-04-01   915300.0  \n",
       "\n",
       "[7141 rows x 9 columns]"
      ]
     },
     "execution_count": 9,
     "metadata": {},
     "output_type": "execute_result"
    }
   ],
   "source": [
    "kings_zips = all_zipcodes[(all_zipcodes['CountyName']=='Kings') & (all_zipcodes['State']== 'NY')]\n",
    "kings_zips"
   ]
  },
  {
   "cell_type": "code",
   "execution_count": 10,
   "metadata": {
    "id": "69cDi609biTu"
   },
   "outputs": [],
   "source": [
    "#for loop gets the monthly mean sales price for each Brooklyn zipcode and puts it in dictionary. \n",
    "\n",
    "test_dict = {}\n",
    "\n",
    "for zipcode in kings_zips['Zipcode'].unique(): \n",
    "    all_zips = kings_zips[kings_zips['Zipcode'] == zipcode]\n",
    "    all_zips = all_zips.set_index('Month')['MeanValue']\n",
    "    all_zips = all_zips.asfreq('MS')\n",
    "    all_zips.name = zipcode\n",
    "    test_dict[zipcode] = all_zips\n",
    "    "
   ]
  },
  {
   "cell_type": "code",
   "execution_count": 11,
   "metadata": {
    "colab": {
     "base_uri": "https://localhost:8080/"
    },
    "id": "yJyLlWG8biTx",
    "outputId": "d4be46b8-51b2-4f36-e7d2-d2a0d355d4aa"
   },
   "outputs": [
    {
     "data": {
      "text/plain": [
       "{11226: Month\n",
       " 1996-04-01    162000.0\n",
       " 1996-05-01    162300.0\n",
       " 1996-06-01    162600.0\n",
       " 1996-07-01    163000.0\n",
       " 1996-08-01    163400.0\n",
       "                 ...   \n",
       " 2017-12-01    887800.0\n",
       " 2018-01-01    890500.0\n",
       " 2018-02-01    901700.0\n",
       " 2018-03-01    930700.0\n",
       " 2018-04-01    963200.0\n",
       " Freq: MS, Name: 11226, Length: 265, dtype: float64,\n",
       " 11235: Month\n",
       " 1996-04-01    190500.0\n",
       " 1996-05-01    191000.0\n",
       " 1996-06-01    191500.0\n",
       " 1996-07-01    192000.0\n",
       " 1996-08-01    192500.0\n",
       "                 ...   \n",
       " 2017-12-01    799700.0\n",
       " 2018-01-01    806600.0\n",
       " 2018-02-01    810600.0\n",
       " 2018-03-01    813400.0\n",
       " 2018-04-01    816200.0\n",
       " Freq: MS, Name: 11235, Length: 265, dtype: float64,\n",
       " 11230: Month\n",
       " 1996-04-01     230100.0\n",
       " 1996-05-01     230800.0\n",
       " 1996-06-01     231500.0\n",
       " 1996-07-01     232100.0\n",
       " 1996-08-01     232800.0\n",
       "                 ...    \n",
       " 2017-12-01    1102400.0\n",
       " 2018-01-01    1120200.0\n",
       " 2018-02-01    1141600.0\n",
       " 2018-03-01    1170000.0\n",
       " 2018-04-01    1195400.0\n",
       " Freq: MS, Name: 11230, Length: 265, dtype: float64,\n",
       " 11209: Month\n",
       " 1996-04-01     255700.0\n",
       " 1996-05-01     256600.0\n",
       " 1996-06-01     257300.0\n",
       " 1996-07-01     258100.0\n",
       " 1996-08-01     258900.0\n",
       "                 ...    \n",
       " 2017-12-01    1018900.0\n",
       " 2018-01-01    1023500.0\n",
       " 2018-02-01    1029200.0\n",
       " 2018-03-01    1023000.0\n",
       " 2018-04-01    1015800.0\n",
       " Freq: MS, Name: 11209, Length: 265, dtype: float64,\n",
       " 11212: Month\n",
       " 1996-04-01    125000.0\n",
       " 1996-05-01    125000.0\n",
       " 1996-06-01    125000.0\n",
       " 1996-07-01    125000.0\n",
       " 1996-08-01    125100.0\n",
       "                 ...   \n",
       " 2017-12-01    414900.0\n",
       " 2018-01-01    422300.0\n",
       " 2018-02-01    426300.0\n",
       " 2018-03-01    427100.0\n",
       " 2018-04-01    428400.0\n",
       " Freq: MS, Name: 11212, Length: 265, dtype: float64,\n",
       " 11214: Month\n",
       " 1996-04-01    191000.0\n",
       " 1996-05-01    191200.0\n",
       " 1996-06-01    191500.0\n",
       " 1996-07-01    191900.0\n",
       " 1996-08-01    192100.0\n",
       "                 ...   \n",
       " 2017-12-01    826300.0\n",
       " 2018-01-01    827600.0\n",
       " 2018-02-01    830500.0\n",
       " 2018-03-01    837300.0\n",
       " 2018-04-01    844100.0\n",
       " Freq: MS, Name: 11214, Length: 265, dtype: float64,\n",
       " 11221: Month\n",
       " 1996-04-01     133700.0\n",
       " 1996-05-01     133700.0\n",
       " 1996-06-01     133700.0\n",
       " 1996-07-01     133700.0\n",
       " 1996-08-01     133900.0\n",
       "                 ...    \n",
       " 2017-12-01     998100.0\n",
       " 2018-01-01    1000900.0\n",
       " 2018-02-01    1015400.0\n",
       " 2018-03-01    1037300.0\n",
       " 2018-04-01    1048700.0\n",
       " Freq: MS, Name: 11221, Length: 265, dtype: float64,\n",
       " 11229: Month\n",
       " 1996-04-01    183900.0\n",
       " 1996-05-01    184200.0\n",
       " 1996-06-01    184500.0\n",
       " 1996-07-01    184800.0\n",
       " 1996-08-01    185000.0\n",
       "                 ...   \n",
       " 2017-12-01    741000.0\n",
       " 2018-01-01    748100.0\n",
       " 2018-02-01    755800.0\n",
       " 2018-03-01    766200.0\n",
       " 2018-04-01    775500.0\n",
       " Freq: MS, Name: 11229, Length: 265, dtype: float64,\n",
       " 11234: Month\n",
       " 1996-04-01    172300.0\n",
       " 1996-05-01    172100.0\n",
       " 1996-06-01    171900.0\n",
       " 1996-07-01    171600.0\n",
       " 1996-08-01    171400.0\n",
       "                 ...   \n",
       " 2017-12-01    575000.0\n",
       " 2018-01-01    579400.0\n",
       " 2018-02-01    583200.0\n",
       " 2018-03-01    589400.0\n",
       " 2018-04-01    593300.0\n",
       " Freq: MS, Name: 11234, Length: 265, dtype: float64,\n",
       " 11215: Month\n",
       " 1996-04-01     225700.0\n",
       " 1996-05-01     227500.0\n",
       " 1996-06-01     229400.0\n",
       " 1996-07-01     231600.0\n",
       " 1996-08-01     234100.0\n",
       "                 ...    \n",
       " 2017-12-01    2287100.0\n",
       " 2018-01-01    2288900.0\n",
       " 2018-02-01    2265300.0\n",
       " 2018-03-01    2244900.0\n",
       " 2018-04-01    2243900.0\n",
       " Freq: MS, Name: 11215, Length: 265, dtype: float64,\n",
       " 11211: Month\n",
       " 1996-04-01     133200.0\n",
       " 1996-05-01     132900.0\n",
       " 1996-06-01     132500.0\n",
       " 1996-07-01     132200.0\n",
       " 1996-08-01     131800.0\n",
       "                 ...    \n",
       " 2017-12-01    1463100.0\n",
       " 2018-01-01    1496100.0\n",
       " 2018-02-01    1531100.0\n",
       " 2018-03-01    1581900.0\n",
       " 2018-04-01    1623700.0\n",
       " Freq: MS, Name: 11211, Length: 265, dtype: float64,\n",
       " 11233: Month\n",
       " 1996-04-01    124500.0\n",
       " 1996-05-01    124500.0\n",
       " 1996-06-01    124500.0\n",
       " 1996-07-01    124500.0\n",
       " 1996-08-01    124700.0\n",
       "                 ...   \n",
       " 2017-12-01    809800.0\n",
       " 2018-01-01    800800.0\n",
       " 2018-02-01    806100.0\n",
       " 2018-03-01    829200.0\n",
       " 2018-04-01    852300.0\n",
       " Freq: MS, Name: 11233, Length: 265, dtype: float64,\n",
       " 11236: Month\n",
       " 1996-04-01    160900.0\n",
       " 1996-05-01    161000.0\n",
       " 1996-06-01    161200.0\n",
       " 1996-07-01    161300.0\n",
       " 1996-08-01    161500.0\n",
       "                 ...   \n",
       " 2017-12-01    453600.0\n",
       " 2018-01-01    458400.0\n",
       " 2018-02-01    461600.0\n",
       " 2018-03-01    467200.0\n",
       " 2018-04-01    472000.0\n",
       " Freq: MS, Name: 11236, Length: 265, dtype: float64,\n",
       " 11218: Month\n",
       " 1996-04-01     177200.0\n",
       " 1996-05-01     177000.0\n",
       " 1996-06-01     176800.0\n",
       " 1996-07-01     176700.0\n",
       " 1996-08-01     176800.0\n",
       "                 ...    \n",
       " 2017-12-01    1186400.0\n",
       " 2018-01-01    1174500.0\n",
       " 2018-02-01    1173900.0\n",
       " 2018-03-01    1196100.0\n",
       " 2018-04-01    1220900.0\n",
       " Freq: MS, Name: 11218, Length: 265, dtype: float64,\n",
       " 11223: Month\n",
       " 1996-04-01     207600.0\n",
       " 1996-05-01     208000.0\n",
       " 1996-06-01     208400.0\n",
       " 1996-07-01     208800.0\n",
       " 1996-08-01     209300.0\n",
       "                 ...    \n",
       " 2017-12-01     947800.0\n",
       " 2018-01-01     952100.0\n",
       " 2018-02-01     966600.0\n",
       " 2018-03-01     997000.0\n",
       " 2018-04-01    1026600.0\n",
       " Freq: MS, Name: 11223, Length: 265, dtype: float64,\n",
       " 11208: Month\n",
       " 1996-04-01    126800.0\n",
       " 1996-05-01    126700.0\n",
       " 1996-06-01    126700.0\n",
       " 1996-07-01    126600.0\n",
       " 1996-08-01    126600.0\n",
       "                 ...   \n",
       " 2017-12-01    435400.0\n",
       " 2018-01-01    429900.0\n",
       " 2018-02-01    432300.0\n",
       " 2018-03-01    442400.0\n",
       " 2018-04-01    450600.0\n",
       " Freq: MS, Name: 11208, Length: 265, dtype: float64,\n",
       " 11204: Month\n",
       " 1996-04-01    201100.0\n",
       " 1996-05-01    201100.0\n",
       " 1996-06-01    201100.0\n",
       " 1996-07-01    201100.0\n",
       " 1996-08-01    201100.0\n",
       "                 ...   \n",
       " 2017-12-01    958900.0\n",
       " 2018-01-01    963200.0\n",
       " 2018-02-01    967900.0\n",
       " 2018-03-01    972800.0\n",
       " 2018-04-01    976400.0\n",
       " Freq: MS, Name: 11204, Length: 265, dtype: float64,\n",
       " 11219: Month\n",
       " 1996-04-01     213200.0\n",
       " 1996-05-01     212600.0\n",
       " 1996-06-01     211900.0\n",
       " 1996-07-01     211300.0\n",
       " 1996-08-01     210800.0\n",
       "                 ...    \n",
       " 2017-12-01    1016000.0\n",
       " 2018-01-01    1014400.0\n",
       " 2018-02-01    1023800.0\n",
       " 2018-03-01    1053000.0\n",
       " 2018-04-01    1079600.0\n",
       " Freq: MS, Name: 11219, Length: 265, dtype: float64,\n",
       " 11203: Month\n",
       " 1996-04-01    149000.0\n",
       " 1996-05-01    149200.0\n",
       " 1996-06-01    149400.0\n",
       " 1996-07-01    149600.0\n",
       " 1996-08-01    149700.0\n",
       "                 ...   \n",
       " 2017-12-01    474500.0\n",
       " 2018-01-01    475300.0\n",
       " 2018-02-01    474800.0\n",
       " 2018-03-01    481000.0\n",
       " 2018-04-01    489900.0\n",
       " Freq: MS, Name: 11203, Length: 265, dtype: float64,\n",
       " 11220: Month\n",
       " 1996-04-01    188500.0\n",
       " 1996-05-01    188700.0\n",
       " 1996-06-01    188800.0\n",
       " 1996-07-01    189000.0\n",
       " 1996-08-01    189400.0\n",
       "                 ...   \n",
       " 2017-12-01    903000.0\n",
       " 2018-01-01    906500.0\n",
       " 2018-02-01    910700.0\n",
       " 2018-03-01    915600.0\n",
       " 2018-04-01    917900.0\n",
       " Freq: MS, Name: 11220, Length: 265, dtype: float64,\n",
       " 11216: Month\n",
       " 1996-04-01     146100.0\n",
       " 1996-05-01     146600.0\n",
       " 1996-06-01     147200.0\n",
       " 1996-07-01     147700.0\n",
       " 1996-08-01     148400.0\n",
       "                 ...    \n",
       " 2017-12-01    1545700.0\n",
       " 2018-01-01    1540200.0\n",
       " 2018-02-01    1553600.0\n",
       " 2018-03-01    1578400.0\n",
       " 2018-04-01    1598700.0\n",
       " Freq: MS, Name: 11216, Length: 265, dtype: float64,\n",
       " 11210: Month\n",
       " 1996-04-01    187300.0\n",
       " 1996-05-01    187300.0\n",
       " 1996-06-01    187200.0\n",
       " 1996-07-01    187100.0\n",
       " 1996-08-01    187000.0\n",
       "                 ...   \n",
       " 2017-12-01    802900.0\n",
       " 2018-01-01    809100.0\n",
       " 2018-02-01    814500.0\n",
       " 2018-03-01    816900.0\n",
       " 2018-04-01    819600.0\n",
       " Freq: MS, Name: 11210, Length: 265, dtype: float64,\n",
       " 11224: Month\n",
       " 1996-04-01    158000.0\n",
       " 1996-05-01    157300.0\n",
       " 1996-06-01    156700.0\n",
       " 1996-07-01    156100.0\n",
       " 1996-08-01    155600.0\n",
       "                 ...   \n",
       " 2017-12-01    498700.0\n",
       " 2018-01-01    502000.0\n",
       " 2018-02-01    505600.0\n",
       " 2018-03-01    511600.0\n",
       " 2018-04-01    517900.0\n",
       " Freq: MS, Name: 11224, Length: 265, dtype: float64,\n",
       " 11222: Month\n",
       " 1996-04-01     149200.0\n",
       " 1996-05-01     148400.0\n",
       " 1996-06-01     147500.0\n",
       " 1996-07-01     146600.0\n",
       " 1996-08-01     146000.0\n",
       "                 ...    \n",
       " 2017-12-01    1651200.0\n",
       " 2018-01-01    1661800.0\n",
       " 2018-02-01    1672800.0\n",
       " 2018-03-01    1694000.0\n",
       " 2018-04-01    1721100.0\n",
       " Freq: MS, Name: 11222, Length: 265, dtype: float64,\n",
       " 11228: Month\n",
       " 1996-04-01    219300.0\n",
       " 1996-05-01    219600.0\n",
       " 1996-06-01    219900.0\n",
       " 1996-07-01    220200.0\n",
       " 1996-08-01    220600.0\n",
       "                 ...   \n",
       " 2017-12-01    902200.0\n",
       " 2018-01-01    909000.0\n",
       " 2018-02-01    912800.0\n",
       " 2018-03-01    913900.0\n",
       " 2018-04-01    915300.0\n",
       " Freq: MS, Name: 11228, Length: 265, dtype: float64,\n",
       " 11238: Month\n",
       " 2004-01-01     671200.0\n",
       " 2004-02-01     665400.0\n",
       " 2004-03-01     662500.0\n",
       " 2004-04-01     660200.0\n",
       " 2004-05-01     659200.0\n",
       "                 ...    \n",
       " 2017-12-01    2768900.0\n",
       " 2018-01-01    2810700.0\n",
       " 2018-02-01    2848100.0\n",
       " 2018-03-01    2869600.0\n",
       " 2018-04-01    2885300.0\n",
       " Freq: MS, Name: 11238, Length: 172, dtype: float64,\n",
       " 11205: Month\n",
       " 2004-01-01     833100.0\n",
       " 2004-02-01     821400.0\n",
       " 2004-03-01     812000.0\n",
       " 2004-04-01     805500.0\n",
       " 2004-05-01     801400.0\n",
       "                 ...    \n",
       " 2017-12-01    2251000.0\n",
       " 2018-01-01    2251600.0\n",
       " 2018-02-01    2245300.0\n",
       " 2018-03-01    2243700.0\n",
       " 2018-04-01    2248400.0\n",
       " Freq: MS, Name: 11205, Length: 172, dtype: float64,\n",
       " 11217: Month\n",
       " 2004-01-01    1037600.0\n",
       " 2004-02-01    1035300.0\n",
       " 2004-03-01    1031400.0\n",
       " 2004-04-01    1024000.0\n",
       " 2004-05-01    1014300.0\n",
       "                 ...    \n",
       " 2017-12-01    3404100.0\n",
       " 2018-01-01    3413800.0\n",
       " 2018-02-01    3482900.0\n",
       " 2018-03-01    3588100.0\n",
       " 2018-04-01    3656000.0\n",
       " Freq: MS, Name: 11217, Length: 172, dtype: float64}"
      ]
     },
     "execution_count": 11,
     "metadata": {},
     "output_type": "execute_result"
    }
   ],
   "source": [
    "test_dict"
   ]
  },
  {
   "cell_type": "code",
   "execution_count": 12,
   "metadata": {
    "id": "z3d1JXotbiT1"
   },
   "outputs": [],
   "source": [
    "zip_df = pd.concat(test_dict, axis=1)"
   ]
  },
  {
   "cell_type": "code",
   "execution_count": 13,
   "metadata": {
    "colab": {
     "base_uri": "https://localhost:8080/"
    },
    "id": "YKPSazbabiT4",
    "outputId": "07811b6e-a9fe-4c01-e423-e76f8c091cb5"
   },
   "outputs": [
    {
     "data": {
      "text/plain": [
       "265"
      ]
     },
     "execution_count": 13,
     "metadata": {},
     "output_type": "execute_result"
    }
   ],
   "source": [
    "len(zip_df)"
   ]
  },
  {
   "cell_type": "markdown",
   "metadata": {
    "id": "LRrvB7R75NTO"
   },
   "source": [
    "### **Dataframe of Brooklyn Zipcodes** "
   ]
  },
  {
   "cell_type": "markdown",
   "metadata": {},
   "source": [
    "This is a dataframe of real property located in Brookyln, NY.  These properties were identified in the dataframe 'all_zipcodes' under 'CountyName' as 'King'."
   ]
  },
  {
   "cell_type": "code",
   "execution_count": 14,
   "metadata": {
    "colab": {
     "base_uri": "https://localhost:8080/"
    },
    "id": "rLu9DH6Muc67",
    "outputId": "921d23f4-7911-46b5-9800-6a020e454b45"
   },
   "outputs": [
    {
     "data": {
      "text/plain": [
       "pandas.core.series.Series"
      ]
     },
     "execution_count": 14,
     "metadata": {},
     "output_type": "execute_result"
    }
   ],
   "source": [
    "type(zip_df[11226])"
   ]
  },
  {
   "cell_type": "code",
   "execution_count": 15,
   "metadata": {
    "colab": {
     "base_uri": "https://localhost:8080/",
     "height": 340
    },
    "id": "lejk8RxHbiT7",
    "outputId": "b7ec0a9a-c2f2-4f11-bbdd-bd4346528120"
   },
   "outputs": [
    {
     "data": {
      "text/html": [
       "<div>\n",
       "<style scoped>\n",
       "    .dataframe tbody tr th:only-of-type {\n",
       "        vertical-align: middle;\n",
       "    }\n",
       "\n",
       "    .dataframe tbody tr th {\n",
       "        vertical-align: top;\n",
       "    }\n",
       "\n",
       "    .dataframe thead th {\n",
       "        text-align: right;\n",
       "    }\n",
       "</style>\n",
       "<table border=\"1\" class=\"dataframe\">\n",
       "  <thead>\n",
       "    <tr style=\"text-align: right;\">\n",
       "      <th></th>\n",
       "      <th>11226</th>\n",
       "      <th>11235</th>\n",
       "      <th>11230</th>\n",
       "      <th>11209</th>\n",
       "      <th>11212</th>\n",
       "      <th>11214</th>\n",
       "      <th>11221</th>\n",
       "      <th>11229</th>\n",
       "      <th>11234</th>\n",
       "      <th>11215</th>\n",
       "      <th>...</th>\n",
       "      <th>11203</th>\n",
       "      <th>11220</th>\n",
       "      <th>11216</th>\n",
       "      <th>11210</th>\n",
       "      <th>11224</th>\n",
       "      <th>11222</th>\n",
       "      <th>11228</th>\n",
       "      <th>11238</th>\n",
       "      <th>11205</th>\n",
       "      <th>11217</th>\n",
       "    </tr>\n",
       "    <tr>\n",
       "      <th>Month</th>\n",
       "      <th></th>\n",
       "      <th></th>\n",
       "      <th></th>\n",
       "      <th></th>\n",
       "      <th></th>\n",
       "      <th></th>\n",
       "      <th></th>\n",
       "      <th></th>\n",
       "      <th></th>\n",
       "      <th></th>\n",
       "      <th></th>\n",
       "      <th></th>\n",
       "      <th></th>\n",
       "      <th></th>\n",
       "      <th></th>\n",
       "      <th></th>\n",
       "      <th></th>\n",
       "      <th></th>\n",
       "      <th></th>\n",
       "      <th></th>\n",
       "      <th></th>\n",
       "    </tr>\n",
       "  </thead>\n",
       "  <tbody>\n",
       "    <tr>\n",
       "      <th>1996-04-01</th>\n",
       "      <td>162000.0</td>\n",
       "      <td>190500.0</td>\n",
       "      <td>230100.0</td>\n",
       "      <td>255700.0</td>\n",
       "      <td>125000.0</td>\n",
       "      <td>191000.0</td>\n",
       "      <td>133700.0</td>\n",
       "      <td>183900.0</td>\n",
       "      <td>172300.0</td>\n",
       "      <td>225700.0</td>\n",
       "      <td>...</td>\n",
       "      <td>149000.0</td>\n",
       "      <td>188500.0</td>\n",
       "      <td>146100.0</td>\n",
       "      <td>187300.0</td>\n",
       "      <td>158000.0</td>\n",
       "      <td>149200.0</td>\n",
       "      <td>219300.0</td>\n",
       "      <td>NaN</td>\n",
       "      <td>NaN</td>\n",
       "      <td>NaN</td>\n",
       "    </tr>\n",
       "    <tr>\n",
       "      <th>1996-05-01</th>\n",
       "      <td>162300.0</td>\n",
       "      <td>191000.0</td>\n",
       "      <td>230800.0</td>\n",
       "      <td>256600.0</td>\n",
       "      <td>125000.0</td>\n",
       "      <td>191200.0</td>\n",
       "      <td>133700.0</td>\n",
       "      <td>184200.0</td>\n",
       "      <td>172100.0</td>\n",
       "      <td>227500.0</td>\n",
       "      <td>...</td>\n",
       "      <td>149200.0</td>\n",
       "      <td>188700.0</td>\n",
       "      <td>146600.0</td>\n",
       "      <td>187300.0</td>\n",
       "      <td>157300.0</td>\n",
       "      <td>148400.0</td>\n",
       "      <td>219600.0</td>\n",
       "      <td>NaN</td>\n",
       "      <td>NaN</td>\n",
       "      <td>NaN</td>\n",
       "    </tr>\n",
       "    <tr>\n",
       "      <th>1996-06-01</th>\n",
       "      <td>162600.0</td>\n",
       "      <td>191500.0</td>\n",
       "      <td>231500.0</td>\n",
       "      <td>257300.0</td>\n",
       "      <td>125000.0</td>\n",
       "      <td>191500.0</td>\n",
       "      <td>133700.0</td>\n",
       "      <td>184500.0</td>\n",
       "      <td>171900.0</td>\n",
       "      <td>229400.0</td>\n",
       "      <td>...</td>\n",
       "      <td>149400.0</td>\n",
       "      <td>188800.0</td>\n",
       "      <td>147200.0</td>\n",
       "      <td>187200.0</td>\n",
       "      <td>156700.0</td>\n",
       "      <td>147500.0</td>\n",
       "      <td>219900.0</td>\n",
       "      <td>NaN</td>\n",
       "      <td>NaN</td>\n",
       "      <td>NaN</td>\n",
       "    </tr>\n",
       "    <tr>\n",
       "      <th>1996-07-01</th>\n",
       "      <td>163000.0</td>\n",
       "      <td>192000.0</td>\n",
       "      <td>232100.0</td>\n",
       "      <td>258100.0</td>\n",
       "      <td>125000.0</td>\n",
       "      <td>191900.0</td>\n",
       "      <td>133700.0</td>\n",
       "      <td>184800.0</td>\n",
       "      <td>171600.0</td>\n",
       "      <td>231600.0</td>\n",
       "      <td>...</td>\n",
       "      <td>149600.0</td>\n",
       "      <td>189000.0</td>\n",
       "      <td>147700.0</td>\n",
       "      <td>187100.0</td>\n",
       "      <td>156100.0</td>\n",
       "      <td>146600.0</td>\n",
       "      <td>220200.0</td>\n",
       "      <td>NaN</td>\n",
       "      <td>NaN</td>\n",
       "      <td>NaN</td>\n",
       "    </tr>\n",
       "    <tr>\n",
       "      <th>1996-08-01</th>\n",
       "      <td>163400.0</td>\n",
       "      <td>192500.0</td>\n",
       "      <td>232800.0</td>\n",
       "      <td>258900.0</td>\n",
       "      <td>125100.0</td>\n",
       "      <td>192100.0</td>\n",
       "      <td>133900.0</td>\n",
       "      <td>185000.0</td>\n",
       "      <td>171400.0</td>\n",
       "      <td>234100.0</td>\n",
       "      <td>...</td>\n",
       "      <td>149700.0</td>\n",
       "      <td>189400.0</td>\n",
       "      <td>148400.0</td>\n",
       "      <td>187000.0</td>\n",
       "      <td>155600.0</td>\n",
       "      <td>146000.0</td>\n",
       "      <td>220600.0</td>\n",
       "      <td>NaN</td>\n",
       "      <td>NaN</td>\n",
       "      <td>NaN</td>\n",
       "    </tr>\n",
       "  </tbody>\n",
       "</table>\n",
       "<p>5 rows × 28 columns</p>\n",
       "</div>"
      ],
      "text/plain": [
       "               11226     11235     11230     11209     11212     11214  \\\n",
       "Month                                                                    \n",
       "1996-04-01  162000.0  190500.0  230100.0  255700.0  125000.0  191000.0   \n",
       "1996-05-01  162300.0  191000.0  230800.0  256600.0  125000.0  191200.0   \n",
       "1996-06-01  162600.0  191500.0  231500.0  257300.0  125000.0  191500.0   \n",
       "1996-07-01  163000.0  192000.0  232100.0  258100.0  125000.0  191900.0   \n",
       "1996-08-01  163400.0  192500.0  232800.0  258900.0  125100.0  192100.0   \n",
       "\n",
       "               11221     11229     11234     11215  ...     11203     11220  \\\n",
       "Month                                               ...                       \n",
       "1996-04-01  133700.0  183900.0  172300.0  225700.0  ...  149000.0  188500.0   \n",
       "1996-05-01  133700.0  184200.0  172100.0  227500.0  ...  149200.0  188700.0   \n",
       "1996-06-01  133700.0  184500.0  171900.0  229400.0  ...  149400.0  188800.0   \n",
       "1996-07-01  133700.0  184800.0  171600.0  231600.0  ...  149600.0  189000.0   \n",
       "1996-08-01  133900.0  185000.0  171400.0  234100.0  ...  149700.0  189400.0   \n",
       "\n",
       "               11216     11210     11224     11222     11228  11238  11205  \\\n",
       "Month                                                                        \n",
       "1996-04-01  146100.0  187300.0  158000.0  149200.0  219300.0    NaN    NaN   \n",
       "1996-05-01  146600.0  187300.0  157300.0  148400.0  219600.0    NaN    NaN   \n",
       "1996-06-01  147200.0  187200.0  156700.0  147500.0  219900.0    NaN    NaN   \n",
       "1996-07-01  147700.0  187100.0  156100.0  146600.0  220200.0    NaN    NaN   \n",
       "1996-08-01  148400.0  187000.0  155600.0  146000.0  220600.0    NaN    NaN   \n",
       "\n",
       "            11217  \n",
       "Month              \n",
       "1996-04-01    NaN  \n",
       "1996-05-01    NaN  \n",
       "1996-06-01    NaN  \n",
       "1996-07-01    NaN  \n",
       "1996-08-01    NaN  \n",
       "\n",
       "[5 rows x 28 columns]"
      ]
     },
     "execution_count": 15,
     "metadata": {},
     "output_type": "execute_result"
    }
   ],
   "source": [
    "zip_df.head()"
   ]
  },
  {
   "cell_type": "code",
   "execution_count": 16,
   "metadata": {
    "colab": {
     "base_uri": "https://localhost:8080/",
     "height": 340
    },
    "id": "Wrw_HAgLbiT-",
    "outputId": "0b270185-9f29-4140-c5af-2e7df5f98d7f"
   },
   "outputs": [
    {
     "data": {
      "text/html": [
       "<div>\n",
       "<style scoped>\n",
       "    .dataframe tbody tr th:only-of-type {\n",
       "        vertical-align: middle;\n",
       "    }\n",
       "\n",
       "    .dataframe tbody tr th {\n",
       "        vertical-align: top;\n",
       "    }\n",
       "\n",
       "    .dataframe thead th {\n",
       "        text-align: right;\n",
       "    }\n",
       "</style>\n",
       "<table border=\"1\" class=\"dataframe\">\n",
       "  <thead>\n",
       "    <tr style=\"text-align: right;\">\n",
       "      <th></th>\n",
       "      <th>11226</th>\n",
       "      <th>11235</th>\n",
       "      <th>11230</th>\n",
       "      <th>11209</th>\n",
       "      <th>11212</th>\n",
       "      <th>11214</th>\n",
       "      <th>11221</th>\n",
       "      <th>11229</th>\n",
       "      <th>11234</th>\n",
       "      <th>11215</th>\n",
       "      <th>...</th>\n",
       "      <th>11203</th>\n",
       "      <th>11220</th>\n",
       "      <th>11216</th>\n",
       "      <th>11210</th>\n",
       "      <th>11224</th>\n",
       "      <th>11222</th>\n",
       "      <th>11228</th>\n",
       "      <th>11238</th>\n",
       "      <th>11205</th>\n",
       "      <th>11217</th>\n",
       "    </tr>\n",
       "    <tr>\n",
       "      <th>Month</th>\n",
       "      <th></th>\n",
       "      <th></th>\n",
       "      <th></th>\n",
       "      <th></th>\n",
       "      <th></th>\n",
       "      <th></th>\n",
       "      <th></th>\n",
       "      <th></th>\n",
       "      <th></th>\n",
       "      <th></th>\n",
       "      <th></th>\n",
       "      <th></th>\n",
       "      <th></th>\n",
       "      <th></th>\n",
       "      <th></th>\n",
       "      <th></th>\n",
       "      <th></th>\n",
       "      <th></th>\n",
       "      <th></th>\n",
       "      <th></th>\n",
       "      <th></th>\n",
       "    </tr>\n",
       "  </thead>\n",
       "  <tbody>\n",
       "    <tr>\n",
       "      <th>2017-12-01</th>\n",
       "      <td>887800.0</td>\n",
       "      <td>799700.0</td>\n",
       "      <td>1102400.0</td>\n",
       "      <td>1018900.0</td>\n",
       "      <td>414900.0</td>\n",
       "      <td>826300.0</td>\n",
       "      <td>998100.0</td>\n",
       "      <td>741000.0</td>\n",
       "      <td>575000.0</td>\n",
       "      <td>2287100.0</td>\n",
       "      <td>...</td>\n",
       "      <td>474500.0</td>\n",
       "      <td>903000.0</td>\n",
       "      <td>1545700.0</td>\n",
       "      <td>802900.0</td>\n",
       "      <td>498700.0</td>\n",
       "      <td>1651200.0</td>\n",
       "      <td>902200.0</td>\n",
       "      <td>2768900.0</td>\n",
       "      <td>2251000.0</td>\n",
       "      <td>3404100.0</td>\n",
       "    </tr>\n",
       "    <tr>\n",
       "      <th>2018-01-01</th>\n",
       "      <td>890500.0</td>\n",
       "      <td>806600.0</td>\n",
       "      <td>1120200.0</td>\n",
       "      <td>1023500.0</td>\n",
       "      <td>422300.0</td>\n",
       "      <td>827600.0</td>\n",
       "      <td>1000900.0</td>\n",
       "      <td>748100.0</td>\n",
       "      <td>579400.0</td>\n",
       "      <td>2288900.0</td>\n",
       "      <td>...</td>\n",
       "      <td>475300.0</td>\n",
       "      <td>906500.0</td>\n",
       "      <td>1540200.0</td>\n",
       "      <td>809100.0</td>\n",
       "      <td>502000.0</td>\n",
       "      <td>1661800.0</td>\n",
       "      <td>909000.0</td>\n",
       "      <td>2810700.0</td>\n",
       "      <td>2251600.0</td>\n",
       "      <td>3413800.0</td>\n",
       "    </tr>\n",
       "    <tr>\n",
       "      <th>2018-02-01</th>\n",
       "      <td>901700.0</td>\n",
       "      <td>810600.0</td>\n",
       "      <td>1141600.0</td>\n",
       "      <td>1029200.0</td>\n",
       "      <td>426300.0</td>\n",
       "      <td>830500.0</td>\n",
       "      <td>1015400.0</td>\n",
       "      <td>755800.0</td>\n",
       "      <td>583200.0</td>\n",
       "      <td>2265300.0</td>\n",
       "      <td>...</td>\n",
       "      <td>474800.0</td>\n",
       "      <td>910700.0</td>\n",
       "      <td>1553600.0</td>\n",
       "      <td>814500.0</td>\n",
       "      <td>505600.0</td>\n",
       "      <td>1672800.0</td>\n",
       "      <td>912800.0</td>\n",
       "      <td>2848100.0</td>\n",
       "      <td>2245300.0</td>\n",
       "      <td>3482900.0</td>\n",
       "    </tr>\n",
       "    <tr>\n",
       "      <th>2018-03-01</th>\n",
       "      <td>930700.0</td>\n",
       "      <td>813400.0</td>\n",
       "      <td>1170000.0</td>\n",
       "      <td>1023000.0</td>\n",
       "      <td>427100.0</td>\n",
       "      <td>837300.0</td>\n",
       "      <td>1037300.0</td>\n",
       "      <td>766200.0</td>\n",
       "      <td>589400.0</td>\n",
       "      <td>2244900.0</td>\n",
       "      <td>...</td>\n",
       "      <td>481000.0</td>\n",
       "      <td>915600.0</td>\n",
       "      <td>1578400.0</td>\n",
       "      <td>816900.0</td>\n",
       "      <td>511600.0</td>\n",
       "      <td>1694000.0</td>\n",
       "      <td>913900.0</td>\n",
       "      <td>2869600.0</td>\n",
       "      <td>2243700.0</td>\n",
       "      <td>3588100.0</td>\n",
       "    </tr>\n",
       "    <tr>\n",
       "      <th>2018-04-01</th>\n",
       "      <td>963200.0</td>\n",
       "      <td>816200.0</td>\n",
       "      <td>1195400.0</td>\n",
       "      <td>1015800.0</td>\n",
       "      <td>428400.0</td>\n",
       "      <td>844100.0</td>\n",
       "      <td>1048700.0</td>\n",
       "      <td>775500.0</td>\n",
       "      <td>593300.0</td>\n",
       "      <td>2243900.0</td>\n",
       "      <td>...</td>\n",
       "      <td>489900.0</td>\n",
       "      <td>917900.0</td>\n",
       "      <td>1598700.0</td>\n",
       "      <td>819600.0</td>\n",
       "      <td>517900.0</td>\n",
       "      <td>1721100.0</td>\n",
       "      <td>915300.0</td>\n",
       "      <td>2885300.0</td>\n",
       "      <td>2248400.0</td>\n",
       "      <td>3656000.0</td>\n",
       "    </tr>\n",
       "  </tbody>\n",
       "</table>\n",
       "<p>5 rows × 28 columns</p>\n",
       "</div>"
      ],
      "text/plain": [
       "               11226     11235      11230      11209     11212     11214  \\\n",
       "Month                                                                      \n",
       "2017-12-01  887800.0  799700.0  1102400.0  1018900.0  414900.0  826300.0   \n",
       "2018-01-01  890500.0  806600.0  1120200.0  1023500.0  422300.0  827600.0   \n",
       "2018-02-01  901700.0  810600.0  1141600.0  1029200.0  426300.0  830500.0   \n",
       "2018-03-01  930700.0  813400.0  1170000.0  1023000.0  427100.0  837300.0   \n",
       "2018-04-01  963200.0  816200.0  1195400.0  1015800.0  428400.0  844100.0   \n",
       "\n",
       "                11221     11229     11234      11215  ...     11203     11220  \\\n",
       "Month                                                 ...                       \n",
       "2017-12-01   998100.0  741000.0  575000.0  2287100.0  ...  474500.0  903000.0   \n",
       "2018-01-01  1000900.0  748100.0  579400.0  2288900.0  ...  475300.0  906500.0   \n",
       "2018-02-01  1015400.0  755800.0  583200.0  2265300.0  ...  474800.0  910700.0   \n",
       "2018-03-01  1037300.0  766200.0  589400.0  2244900.0  ...  481000.0  915600.0   \n",
       "2018-04-01  1048700.0  775500.0  593300.0  2243900.0  ...  489900.0  917900.0   \n",
       "\n",
       "                11216     11210     11224      11222     11228      11238  \\\n",
       "Month                                                                       \n",
       "2017-12-01  1545700.0  802900.0  498700.0  1651200.0  902200.0  2768900.0   \n",
       "2018-01-01  1540200.0  809100.0  502000.0  1661800.0  909000.0  2810700.0   \n",
       "2018-02-01  1553600.0  814500.0  505600.0  1672800.0  912800.0  2848100.0   \n",
       "2018-03-01  1578400.0  816900.0  511600.0  1694000.0  913900.0  2869600.0   \n",
       "2018-04-01  1598700.0  819600.0  517900.0  1721100.0  915300.0  2885300.0   \n",
       "\n",
       "                11205      11217  \n",
       "Month                             \n",
       "2017-12-01  2251000.0  3404100.0  \n",
       "2018-01-01  2251600.0  3413800.0  \n",
       "2018-02-01  2245300.0  3482900.0  \n",
       "2018-03-01  2243700.0  3588100.0  \n",
       "2018-04-01  2248400.0  3656000.0  \n",
       "\n",
       "[5 rows x 28 columns]"
      ]
     },
     "execution_count": 16,
     "metadata": {},
     "output_type": "execute_result"
    }
   ],
   "source": [
    "zip_df.tail()"
   ]
  },
  {
   "cell_type": "code",
   "execution_count": 17,
   "metadata": {
    "colab": {
     "base_uri": "https://localhost:8080/"
    },
    "id": "87SNbfDNCTpq",
    "outputId": "2da44572-8ed9-44cf-f300-472db7e30167"
   },
   "outputs": [
    {
     "data": {
      "text/plain": [
       "28"
      ]
     },
     "execution_count": 17,
     "metadata": {},
     "output_type": "execute_result"
    }
   ],
   "source": [
    "len(zip_df.columns)"
   ]
  },
  {
   "cell_type": "code",
   "execution_count": 18,
   "metadata": {
    "colab": {
     "base_uri": "https://localhost:8080/"
    },
    "id": "YuHJxkLobiUC",
    "outputId": "534c5264-6097-42c9-eb20-9d8c0a229671"
   },
   "outputs": [
    {
     "data": {
      "text/plain": [
       "DatetimeIndex(['1996-04-01', '1996-05-01', '1996-06-01', '1996-07-01',\n",
       "               '1996-08-01', '1996-09-01', '1996-10-01', '1996-11-01',\n",
       "               '1996-12-01', '1997-01-01',\n",
       "               ...\n",
       "               '2017-07-01', '2017-08-01', '2017-09-01', '2017-10-01',\n",
       "               '2017-11-01', '2017-12-01', '2018-01-01', '2018-02-01',\n",
       "               '2018-03-01', '2018-04-01'],\n",
       "              dtype='datetime64[ns]', name='Month', length=265, freq='MS')"
      ]
     },
     "execution_count": 18,
     "metadata": {},
     "output_type": "execute_result"
    }
   ],
   "source": [
    "zip_df.index"
   ]
  },
  {
   "cell_type": "code",
   "execution_count": 19,
   "metadata": {
    "colab": {
     "base_uri": "https://localhost:8080/"
    },
    "id": "ngeo31_HbiUG",
    "outputId": "6ce6bb0f-cde9-45e5-f4bd-45febfb5d1fa"
   },
   "outputs": [
    {
     "data": {
      "text/plain": [
       "11226     0\n",
       "11235     0\n",
       "11230     0\n",
       "11209     0\n",
       "11212     0\n",
       "11214     0\n",
       "11221     0\n",
       "11229     0\n",
       "11234     0\n",
       "11215     0\n",
       "11211     0\n",
       "11233     0\n",
       "11236     0\n",
       "11218     0\n",
       "11223     0\n",
       "11208     0\n",
       "11204     0\n",
       "11219     0\n",
       "11203     0\n",
       "11220     0\n",
       "11216     0\n",
       "11210     0\n",
       "11224     0\n",
       "11222     0\n",
       "11228     0\n",
       "11238    93\n",
       "11205    93\n",
       "11217    93\n",
       "dtype: int64"
      ]
     },
     "execution_count": 19,
     "metadata": {},
     "output_type": "execute_result"
    }
   ],
   "source": [
    "zip_df.isna().sum()"
   ]
  },
  {
   "cell_type": "markdown",
   "metadata": {
    "id": "EASqYe0Iu0_6"
   },
   "source": [
    "#### **NaN Values**"
   ]
  },
  {
   "cell_type": "code",
   "execution_count": 20,
   "metadata": {
    "id": "gJ_gRsqNbiUP"
   },
   "outputs": [],
   "source": [
    "zip_df.bfill(inplace=True)"
   ]
  },
  {
   "cell_type": "code",
   "execution_count": 21,
   "metadata": {
    "colab": {
     "base_uri": "https://localhost:8080/"
    },
    "id": "4K3fVTrf_c6z",
    "outputId": "730d4a67-d2c4-463c-e0b8-e0c8f878be25"
   },
   "outputs": [
    {
     "data": {
      "text/plain": [
       "11226    0\n",
       "11235    0\n",
       "11230    0\n",
       "11209    0\n",
       "11212    0\n",
       "11214    0\n",
       "11221    0\n",
       "11229    0\n",
       "11234    0\n",
       "11215    0\n",
       "11211    0\n",
       "11233    0\n",
       "11236    0\n",
       "11218    0\n",
       "11223    0\n",
       "11208    0\n",
       "11204    0\n",
       "11219    0\n",
       "11203    0\n",
       "11220    0\n",
       "11216    0\n",
       "11210    0\n",
       "11224    0\n",
       "11222    0\n",
       "11228    0\n",
       "11238    0\n",
       "11205    0\n",
       "11217    0\n",
       "dtype: int64"
      ]
     },
     "execution_count": 21,
     "metadata": {},
     "output_type": "execute_result"
    }
   ],
   "source": [
    "zip_df.isna().sum()"
   ]
  },
  {
   "cell_type": "code",
   "execution_count": 22,
   "metadata": {
    "colab": {
     "base_uri": "https://localhost:8080/"
    },
    "id": "zfzxZv8MbiUS",
    "outputId": "c6a34f9d-1bd4-46a4-ab7d-479648dfaa7a"
   },
   "outputs": [
    {
     "data": {
      "text/plain": [
       "671200.0     94\n",
       "1177800.0     2\n",
       "1839100.0     1\n",
       "1033400.0     1\n",
       "2530000.0     1\n",
       "             ..\n",
       "2346900.0     1\n",
       "665400.0      1\n",
       "1237600.0     1\n",
       "1361500.0     1\n",
       "1638400.0     1\n",
       "Name: 11238, Length: 171, dtype: int64"
      ]
     },
     "execution_count": 22,
     "metadata": {},
     "output_type": "execute_result"
    }
   ],
   "source": [
    "zip_df[11238].value_counts(dropna=False)"
   ]
  },
  {
   "cell_type": "code",
   "execution_count": 23,
   "metadata": {
    "colab": {
     "base_uri": "https://localhost:8080/"
    },
    "id": "YB3wd8s4biUV",
    "outputId": "e4204c37-f197-4547-b9ef-493fd12dae40"
   },
   "outputs": [
    {
     "data": {
      "text/plain": [
       "Int64Index([11226, 11235, 11230, 11209, 11212, 11214, 11221, 11229, 11234,\n",
       "            11215, 11211, 11233, 11236, 11218, 11223, 11208, 11204, 11219,\n",
       "            11203, 11220, 11216, 11210, 11224, 11222, 11228, 11238, 11205,\n",
       "            11217],\n",
       "           dtype='int64')"
      ]
     },
     "execution_count": 23,
     "metadata": {},
     "output_type": "execute_result"
    }
   ],
   "source": [
    "zip_df.keys()"
   ]
  },
  {
   "cell_type": "code",
   "execution_count": 24,
   "metadata": {
    "colab": {
     "base_uri": "https://localhost:8080/"
    },
    "id": "zS3cFsAR7BzS",
    "outputId": "dca5787b-4712-476b-b12e-544f3b1afd93"
   },
   "outputs": [
    {
     "data": {
      "text/plain": [
       "Month\n",
       "1996-04-01    671200.0\n",
       "1996-05-01    671200.0\n",
       "1996-06-01    671200.0\n",
       "1996-07-01    671200.0\n",
       "1996-08-01    671200.0\n",
       "Freq: MS, Name: 11238, dtype: float64"
      ]
     },
     "execution_count": 24,
     "metadata": {},
     "output_type": "execute_result"
    }
   ],
   "source": [
    "zip_df[11238].head()"
   ]
  },
  {
   "cell_type": "markdown",
   "metadata": {
    "id": "nswxNI8rRCwx"
   },
   "source": [
    "### **Plot of Price Trends of Brooklyn Zipcodes**"
   ]
  },
  {
   "cell_type": "markdown",
   "metadata": {},
   "source": [
    "This is a plot of the time series data for each zip code demonstrating the price trends.  There are 28 zipcodes.  An overall upward trend can be observed from the years 1996 to 2018.  Regarding the housing bubble, we can see in the plot that housing prices peaked in early 2006, started to decline in 2006 and 2007, and then reached lows in 2012.<br>\n",
    "The top 5 zip codes have consistently been top 5 performers for around 14 years.  The bottom 3 zipcodes displayed little change in price over time compared to top priced zip codes.  "
   ]
  },
  {
   "cell_type": "code",
   "execution_count": 25,
   "metadata": {},
   "outputs": [
    {
     "data": {
      "text/plain": [
       "<matplotlib.legend.Legend at 0x7fca414710b8>"
      ]
     },
     "execution_count": 25,
     "metadata": {},
     "output_type": "execute_result"
    },
    {
     "data": {
      "image/png": "[encoded data removed]",
      "text/plain": [
       "<Figure size 864x576 with 1 Axes>"
      ]
     },
     "metadata": {
      "needs_background": "light"
     },
     "output_type": "display_data"
    }
   ],
   "source": [
    "zip_df.plot(figsize=(12,8))\n",
    "plt.title(\"Housing Price Trends \")\n",
    "#plt.set(title=f'Housing Prices by Year - {zip_df.index.freq}')\n",
    "plt.xlabel('Year')\n",
    "plt.ylabel('Brooklyn Real Estate Price Trends for Zipcodes')\n",
    "plt.legend(bbox_to_anchor=(1.05,1),loc='upper left')"
   ]
  },
  {
   "cell_type": "code",
   "execution_count": 26,
   "metadata": {},
   "outputs": [
    {
     "data": {
      "image/png": "[encoded data removed]",
      "text/plain": [
       "<Figure size 432x288 with 1 Axes>"
      ]
     },
     "metadata": {
      "needs_background": "light"
     },
     "output_type": "display_data"
    },
    {
     "data": {
      "text/plain": [
       "<Figure size 432x288 with 0 Axes>"
      ]
     },
     "metadata": {},
     "output_type": "display_data"
    }
   ],
   "source": [
    "#zipcode_grp = melted_df.groupby('Zipcode')\n",
    "mean_value = zip_df.mean()\n",
    "mean_value = mean_value.sort_values(ascending=False).head(10)\n",
    "mean_value.plot.bar(color='blue')\n",
    "plt.title('Top 10 Zipcodes  \\n Highest Mean Value 1996-2018')\n",
    "plt.ylabel('Price ($)')\n",
    "plt.show()\n",
    "plt.savefig('Zipcodes')"
   ]
  },
  {
   "cell_type": "markdown",
   "metadata": {},
   "source": [
    "#### Plot of top 6 zipcodes with highest sale prices over extended periods. "
   ]
  },
  {
   "cell_type": "code",
   "execution_count": 27,
   "metadata": {
    "colab": {
     "base_uri": "https://localhost:8080/",
     "height": 1000
    },
    "id": "IzMDX4LeVQgn",
    "outputId": "02fe9bab-9737-4350-b221-10cebbf52337"
   },
   "outputs": [],
   "source": [
    "zip_df_1 = zip_df[[11217, 11238,11215,11216,11222,11205]]"
   ]
  },
  {
   "cell_type": "code",
   "execution_count": 28,
   "metadata": {
    "colab": {
     "base_uri": "https://localhost:8080/",
     "height": 530
    },
    "id": "wGnxTXmCbiUZ",
    "outputId": "c5839245-9e31-499d-870c-fc4204c6a809"
   },
   "outputs": [
    {
     "data": {
      "text/plain": [
       "<matplotlib.legend.Legend at 0x7fca114d4898>"
      ]
     },
     "execution_count": 28,
     "metadata": {},
     "output_type": "execute_result"
    },
    {
     "data": {
      "image/png": "[encoded data removed]",
      "text/plain": [
       "<Figure size 864x576 with 1 Axes>"
      ]
     },
     "metadata": {
      "needs_background": "light"
     },
     "output_type": "display_data"
    }
   ],
   "source": [
    "zip_df_1.plot(figsize=(12,8))\n",
    "plt.title(\"Top 6 Zipcodes With Highest Real Estate Prices\")\n",
    "#plt.set(title=f'Housing Prices by Year - {zip_df.index.freq}')\n",
    "plt.xlabel('Year')\n",
    "plt.ylabel('Home Prices')\n",
    "plt.legend(bbox_to_anchor=(1.05,1),loc='upper left')"
   ]
  },
  {
   "cell_type": "markdown",
   "metadata": {
    "id": "X5YrChO88Rs5"
   },
   "source": [
    "Zipcodes: 11217, 11238, 11205 had the same values for monthly real easte so I created a plot eliminating these dates.  <br>"
   ]
  },
  {
   "cell_type": "code",
   "execution_count": 29,
   "metadata": {
    "colab": {
     "base_uri": "https://localhost:8080/",
     "height": 450
    },
    "id": "hK18KcJ94w9d",
    "outputId": "f6fb1f99-3962-49cf-8996-c20758d1b8f8"
   },
   "outputs": [
    {
     "data": {
      "text/html": [
       "<div>\n",
       "<style scoped>\n",
       "    .dataframe tbody tr th:only-of-type {\n",
       "        vertical-align: middle;\n",
       "    }\n",
       "\n",
       "    .dataframe tbody tr th {\n",
       "        vertical-align: top;\n",
       "    }\n",
       "\n",
       "    .dataframe thead th {\n",
       "        text-align: right;\n",
       "    }\n",
       "</style>\n",
       "<table border=\"1\" class=\"dataframe\">\n",
       "  <thead>\n",
       "    <tr style=\"text-align: right;\">\n",
       "      <th></th>\n",
       "      <th>11217</th>\n",
       "      <th>11238</th>\n",
       "      <th>11215</th>\n",
       "      <th>11216</th>\n",
       "      <th>11222</th>\n",
       "      <th>11205</th>\n",
       "    </tr>\n",
       "    <tr>\n",
       "      <th>Month</th>\n",
       "      <th></th>\n",
       "      <th></th>\n",
       "      <th></th>\n",
       "      <th></th>\n",
       "      <th></th>\n",
       "      <th></th>\n",
       "    </tr>\n",
       "  </thead>\n",
       "  <tbody>\n",
       "    <tr>\n",
       "      <th>2003-12-01</th>\n",
       "      <td>1037600.0</td>\n",
       "      <td>671200.0</td>\n",
       "      <td>720300.0</td>\n",
       "      <td>356700.0</td>\n",
       "      <td>378200.0</td>\n",
       "      <td>833100.0</td>\n",
       "    </tr>\n",
       "    <tr>\n",
       "      <th>2004-01-01</th>\n",
       "      <td>1037600.0</td>\n",
       "      <td>671200.0</td>\n",
       "      <td>727100.0</td>\n",
       "      <td>362600.0</td>\n",
       "      <td>380700.0</td>\n",
       "      <td>833100.0</td>\n",
       "    </tr>\n",
       "    <tr>\n",
       "      <th>2004-02-01</th>\n",
       "      <td>1035300.0</td>\n",
       "      <td>665400.0</td>\n",
       "      <td>739000.0</td>\n",
       "      <td>368600.0</td>\n",
       "      <td>382000.0</td>\n",
       "      <td>821400.0</td>\n",
       "    </tr>\n",
       "    <tr>\n",
       "      <th>2004-03-01</th>\n",
       "      <td>1031400.0</td>\n",
       "      <td>662500.0</td>\n",
       "      <td>754000.0</td>\n",
       "      <td>374200.0</td>\n",
       "      <td>383200.0</td>\n",
       "      <td>812000.0</td>\n",
       "    </tr>\n",
       "    <tr>\n",
       "      <th>2004-04-01</th>\n",
       "      <td>1024000.0</td>\n",
       "      <td>660200.0</td>\n",
       "      <td>768600.0</td>\n",
       "      <td>379000.0</td>\n",
       "      <td>384700.0</td>\n",
       "      <td>805500.0</td>\n",
       "    </tr>\n",
       "    <tr>\n",
       "      <th>...</th>\n",
       "      <td>...</td>\n",
       "      <td>...</td>\n",
       "      <td>...</td>\n",
       "      <td>...</td>\n",
       "      <td>...</td>\n",
       "      <td>...</td>\n",
       "    </tr>\n",
       "    <tr>\n",
       "      <th>2017-12-01</th>\n",
       "      <td>3404100.0</td>\n",
       "      <td>2768900.0</td>\n",
       "      <td>2287100.0</td>\n",
       "      <td>1545700.0</td>\n",
       "      <td>1651200.0</td>\n",
       "      <td>2251000.0</td>\n",
       "    </tr>\n",
       "    <tr>\n",
       "      <th>2018-01-01</th>\n",
       "      <td>3413800.0</td>\n",
       "      <td>2810700.0</td>\n",
       "      <td>2288900.0</td>\n",
       "      <td>1540200.0</td>\n",
       "      <td>1661800.0</td>\n",
       "      <td>2251600.0</td>\n",
       "    </tr>\n",
       "    <tr>\n",
       "      <th>2018-02-01</th>\n",
       "      <td>3482900.0</td>\n",
       "      <td>2848100.0</td>\n",
       "      <td>2265300.0</td>\n",
       "      <td>1553600.0</td>\n",
       "      <td>1672800.0</td>\n",
       "      <td>2245300.0</td>\n",
       "    </tr>\n",
       "    <tr>\n",
       "      <th>2018-03-01</th>\n",
       "      <td>3588100.0</td>\n",
       "      <td>2869600.0</td>\n",
       "      <td>2244900.0</td>\n",
       "      <td>1578400.0</td>\n",
       "      <td>1694000.0</td>\n",
       "      <td>2243700.0</td>\n",
       "    </tr>\n",
       "    <tr>\n",
       "      <th>2018-04-01</th>\n",
       "      <td>3656000.0</td>\n",
       "      <td>2885300.0</td>\n",
       "      <td>2243900.0</td>\n",
       "      <td>1598700.0</td>\n",
       "      <td>1721100.0</td>\n",
       "      <td>2248400.0</td>\n",
       "    </tr>\n",
       "  </tbody>\n",
       "</table>\n",
       "<p>173 rows × 6 columns</p>\n",
       "</div>"
      ],
      "text/plain": [
       "                11217      11238      11215      11216      11222      11205\n",
       "Month                                                                       \n",
       "2003-12-01  1037600.0   671200.0   720300.0   356700.0   378200.0   833100.0\n",
       "2004-01-01  1037600.0   671200.0   727100.0   362600.0   380700.0   833100.0\n",
       "2004-02-01  1035300.0   665400.0   739000.0   368600.0   382000.0   821400.0\n",
       "2004-03-01  1031400.0   662500.0   754000.0   374200.0   383200.0   812000.0\n",
       "2004-04-01  1024000.0   660200.0   768600.0   379000.0   384700.0   805500.0\n",
       "...               ...        ...        ...        ...        ...        ...\n",
       "2017-12-01  3404100.0  2768900.0  2287100.0  1545700.0  1651200.0  2251000.0\n",
       "2018-01-01  3413800.0  2810700.0  2288900.0  1540200.0  1661800.0  2251600.0\n",
       "2018-02-01  3482900.0  2848100.0  2265300.0  1553600.0  1672800.0  2245300.0\n",
       "2018-03-01  3588100.0  2869600.0  2244900.0  1578400.0  1694000.0  2243700.0\n",
       "2018-04-01  3656000.0  2885300.0  2243900.0  1598700.0  1721100.0  2248400.0\n",
       "\n",
       "[173 rows x 6 columns]"
      ]
     },
     "execution_count": 29,
     "metadata": {},
     "output_type": "execute_result"
    }
   ],
   "source": [
    "zip_no_nan = zip_df_1['2003-12-01':] \n",
    "zip_no_nan"
   ]
  },
  {
   "cell_type": "code",
   "execution_count": 30,
   "metadata": {},
   "outputs": [
    {
     "data": {
      "text/plain": [
       "11217    3656000.0\n",
       "11238    2885300.0\n",
       "11205    2519100.0\n",
       "11215    2288900.0\n",
       "11222    1721100.0\n",
       "11216    1598700.0\n",
       "dtype: float64"
      ]
     },
     "execution_count": 30,
     "metadata": {},
     "output_type": "execute_result"
    }
   ],
   "source": [
    "zip_describe = zip_no_nan.describe().round(3)\n",
    "zip_max = zip_describe.max()\n",
    "zip_max.sort_values(ascending=False)"
   ]
  },
  {
   "cell_type": "code",
   "execution_count": 31,
   "metadata": {
    "colab": {
     "base_uri": "https://localhost:8080/",
     "height": 530
    },
    "id": "CFkJV9N-5Cw9",
    "outputId": "61863eaa-921a-4236-f14a-e7d955c08338"
   },
   "outputs": [
    {
     "data": {
      "text/plain": [
       "<matplotlib.legend.Legend at 0x7fca115c9630>"
      ]
     },
     "execution_count": 31,
     "metadata": {},
     "output_type": "execute_result"
    },
    {
     "data": {
      "image/png": "[encoded data removed]",
      "text/plain": [
       "<Figure size 864x576 with 1 Axes>"
      ]
     },
     "metadata": {
      "needs_background": "light"
     },
     "output_type": "display_data"
    }
   ],
   "source": [
    "zip_no_nan.plot(figsize=(12,8))\n",
    "plt.title(\"Housing Price Trends \")\n",
    "#plt.set(title=f'Housing Prices by Year - {zip_df.index.freq}')\n",
    "plt.xlabel('Year')\n",
    "plt.ylabel('Home Prices')\n",
    "plt.legend(bbox_to_anchor=(1.05,1),loc='upper left')"
   ]
  },
  {
   "cell_type": "code",
   "execution_count": 32,
   "metadata": {
    "colab": {
     "base_uri": "https://localhost:8080/",
     "height": 340
    },
    "id": "LOT5jY4jhLb6",
    "outputId": "e50594ff-7f2c-44f8-dff2-575d442a4d38"
   },
   "outputs": [
    {
     "data": {
      "text/html": [
       "<div>\n",
       "<style scoped>\n",
       "    .dataframe tbody tr th:only-of-type {\n",
       "        vertical-align: middle;\n",
       "    }\n",
       "\n",
       "    .dataframe tbody tr th {\n",
       "        vertical-align: top;\n",
       "    }\n",
       "\n",
       "    .dataframe thead th {\n",
       "        text-align: right;\n",
       "    }\n",
       "</style>\n",
       "<table border=\"1\" class=\"dataframe\">\n",
       "  <thead>\n",
       "    <tr style=\"text-align: right;\">\n",
       "      <th></th>\n",
       "      <th>11226</th>\n",
       "      <th>11235</th>\n",
       "      <th>11230</th>\n",
       "      <th>11209</th>\n",
       "      <th>11212</th>\n",
       "      <th>11214</th>\n",
       "      <th>11221</th>\n",
       "      <th>11229</th>\n",
       "      <th>11234</th>\n",
       "      <th>11215</th>\n",
       "      <th>...</th>\n",
       "      <th>11203</th>\n",
       "      <th>11220</th>\n",
       "      <th>11216</th>\n",
       "      <th>11210</th>\n",
       "      <th>11224</th>\n",
       "      <th>11222</th>\n",
       "      <th>11228</th>\n",
       "      <th>11238</th>\n",
       "      <th>11205</th>\n",
       "      <th>11217</th>\n",
       "    </tr>\n",
       "    <tr>\n",
       "      <th>Month</th>\n",
       "      <th></th>\n",
       "      <th></th>\n",
       "      <th></th>\n",
       "      <th></th>\n",
       "      <th></th>\n",
       "      <th></th>\n",
       "      <th></th>\n",
       "      <th></th>\n",
       "      <th></th>\n",
       "      <th></th>\n",
       "      <th></th>\n",
       "      <th></th>\n",
       "      <th></th>\n",
       "      <th></th>\n",
       "      <th></th>\n",
       "      <th></th>\n",
       "      <th></th>\n",
       "      <th></th>\n",
       "      <th></th>\n",
       "      <th></th>\n",
       "      <th></th>\n",
       "    </tr>\n",
       "  </thead>\n",
       "  <tbody>\n",
       "    <tr>\n",
       "      <th>2017-12-01</th>\n",
       "      <td>887800.0</td>\n",
       "      <td>799700.0</td>\n",
       "      <td>1102400.0</td>\n",
       "      <td>1018900.0</td>\n",
       "      <td>414900.0</td>\n",
       "      <td>826300.0</td>\n",
       "      <td>998100.0</td>\n",
       "      <td>741000.0</td>\n",
       "      <td>575000.0</td>\n",
       "      <td>2287100.0</td>\n",
       "      <td>...</td>\n",
       "      <td>474500.0</td>\n",
       "      <td>903000.0</td>\n",
       "      <td>1545700.0</td>\n",
       "      <td>802900.0</td>\n",
       "      <td>498700.0</td>\n",
       "      <td>1651200.0</td>\n",
       "      <td>902200.0</td>\n",
       "      <td>2768900.0</td>\n",
       "      <td>2251000.0</td>\n",
       "      <td>3404100.0</td>\n",
       "    </tr>\n",
       "    <tr>\n",
       "      <th>2018-01-01</th>\n",
       "      <td>890500.0</td>\n",
       "      <td>806600.0</td>\n",
       "      <td>1120200.0</td>\n",
       "      <td>1023500.0</td>\n",
       "      <td>422300.0</td>\n",
       "      <td>827600.0</td>\n",
       "      <td>1000900.0</td>\n",
       "      <td>748100.0</td>\n",
       "      <td>579400.0</td>\n",
       "      <td>2288900.0</td>\n",
       "      <td>...</td>\n",
       "      <td>475300.0</td>\n",
       "      <td>906500.0</td>\n",
       "      <td>1540200.0</td>\n",
       "      <td>809100.0</td>\n",
       "      <td>502000.0</td>\n",
       "      <td>1661800.0</td>\n",
       "      <td>909000.0</td>\n",
       "      <td>2810700.0</td>\n",
       "      <td>2251600.0</td>\n",
       "      <td>3413800.0</td>\n",
       "    </tr>\n",
       "    <tr>\n",
       "      <th>2018-02-01</th>\n",
       "      <td>901700.0</td>\n",
       "      <td>810600.0</td>\n",
       "      <td>1141600.0</td>\n",
       "      <td>1029200.0</td>\n",
       "      <td>426300.0</td>\n",
       "      <td>830500.0</td>\n",
       "      <td>1015400.0</td>\n",
       "      <td>755800.0</td>\n",
       "      <td>583200.0</td>\n",
       "      <td>2265300.0</td>\n",
       "      <td>...</td>\n",
       "      <td>474800.0</td>\n",
       "      <td>910700.0</td>\n",
       "      <td>1553600.0</td>\n",
       "      <td>814500.0</td>\n",
       "      <td>505600.0</td>\n",
       "      <td>1672800.0</td>\n",
       "      <td>912800.0</td>\n",
       "      <td>2848100.0</td>\n",
       "      <td>2245300.0</td>\n",
       "      <td>3482900.0</td>\n",
       "    </tr>\n",
       "    <tr>\n",
       "      <th>2018-03-01</th>\n",
       "      <td>930700.0</td>\n",
       "      <td>813400.0</td>\n",
       "      <td>1170000.0</td>\n",
       "      <td>1023000.0</td>\n",
       "      <td>427100.0</td>\n",
       "      <td>837300.0</td>\n",
       "      <td>1037300.0</td>\n",
       "      <td>766200.0</td>\n",
       "      <td>589400.0</td>\n",
       "      <td>2244900.0</td>\n",
       "      <td>...</td>\n",
       "      <td>481000.0</td>\n",
       "      <td>915600.0</td>\n",
       "      <td>1578400.0</td>\n",
       "      <td>816900.0</td>\n",
       "      <td>511600.0</td>\n",
       "      <td>1694000.0</td>\n",
       "      <td>913900.0</td>\n",
       "      <td>2869600.0</td>\n",
       "      <td>2243700.0</td>\n",
       "      <td>3588100.0</td>\n",
       "    </tr>\n",
       "    <tr>\n",
       "      <th>2018-04-01</th>\n",
       "      <td>963200.0</td>\n",
       "      <td>816200.0</td>\n",
       "      <td>1195400.0</td>\n",
       "      <td>1015800.0</td>\n",
       "      <td>428400.0</td>\n",
       "      <td>844100.0</td>\n",
       "      <td>1048700.0</td>\n",
       "      <td>775500.0</td>\n",
       "      <td>593300.0</td>\n",
       "      <td>2243900.0</td>\n",
       "      <td>...</td>\n",
       "      <td>489900.0</td>\n",
       "      <td>917900.0</td>\n",
       "      <td>1598700.0</td>\n",
       "      <td>819600.0</td>\n",
       "      <td>517900.0</td>\n",
       "      <td>1721100.0</td>\n",
       "      <td>915300.0</td>\n",
       "      <td>2885300.0</td>\n",
       "      <td>2248400.0</td>\n",
       "      <td>3656000.0</td>\n",
       "    </tr>\n",
       "  </tbody>\n",
       "</table>\n",
       "<p>5 rows × 28 columns</p>\n",
       "</div>"
      ],
      "text/plain": [
       "               11226     11235      11230      11209     11212     11214  \\\n",
       "Month                                                                      \n",
       "2017-12-01  887800.0  799700.0  1102400.0  1018900.0  414900.0  826300.0   \n",
       "2018-01-01  890500.0  806600.0  1120200.0  1023500.0  422300.0  827600.0   \n",
       "2018-02-01  901700.0  810600.0  1141600.0  1029200.0  426300.0  830500.0   \n",
       "2018-03-01  930700.0  813400.0  1170000.0  1023000.0  427100.0  837300.0   \n",
       "2018-04-01  963200.0  816200.0  1195400.0  1015800.0  428400.0  844100.0   \n",
       "\n",
       "                11221     11229     11234      11215  ...     11203     11220  \\\n",
       "Month                                                 ...                       \n",
       "2017-12-01   998100.0  741000.0  575000.0  2287100.0  ...  474500.0  903000.0   \n",
       "2018-01-01  1000900.0  748100.0  579400.0  2288900.0  ...  475300.0  906500.0   \n",
       "2018-02-01  1015400.0  755800.0  583200.0  2265300.0  ...  474800.0  910700.0   \n",
       "2018-03-01  1037300.0  766200.0  589400.0  2244900.0  ...  481000.0  915600.0   \n",
       "2018-04-01  1048700.0  775500.0  593300.0  2243900.0  ...  489900.0  917900.0   \n",
       "\n",
       "                11216     11210     11224      11222     11228      11238  \\\n",
       "Month                                                                       \n",
       "2017-12-01  1545700.0  802900.0  498700.0  1651200.0  902200.0  2768900.0   \n",
       "2018-01-01  1540200.0  809100.0  502000.0  1661800.0  909000.0  2810700.0   \n",
       "2018-02-01  1553600.0  814500.0  505600.0  1672800.0  912800.0  2848100.0   \n",
       "2018-03-01  1578400.0  816900.0  511600.0  1694000.0  913900.0  2869600.0   \n",
       "2018-04-01  1598700.0  819600.0  517900.0  1721100.0  915300.0  2885300.0   \n",
       "\n",
       "                11205      11217  \n",
       "Month                             \n",
       "2017-12-01  2251000.0  3404100.0  \n",
       "2018-01-01  2251600.0  3413800.0  \n",
       "2018-02-01  2245300.0  3482900.0  \n",
       "2018-03-01  2243700.0  3588100.0  \n",
       "2018-04-01  2248400.0  3656000.0  \n",
       "\n",
       "[5 rows x 28 columns]"
      ]
     },
     "execution_count": 32,
     "metadata": {},
     "output_type": "execute_result"
    }
   ],
   "source": [
    "zip_df.tail()"
   ]
  },
  {
   "cell_type": "markdown",
   "metadata": {
    "id": "20YZOH-pEZHr"
   },
   "source": [
    "### **Train/Test Split**\n",
    "The zip_df dataset will be split into train and test sets to be used as inputs for the models.  Train data set is from 1996–04–01 to 2014–01–01. The length of our train data set is 214 rows, or 214 time periods.<br>\n",
    "Test data set is from 2014–01–01 to 2018–04–01. The length of the test data is 52 rows, or 52 time periods. \n",
    "That is the value we will use for our .predict() method. "
   ]
  },
  {
   "cell_type": "code",
   "execution_count": 33,
   "metadata": {
    "id": "cha0zTs-biUc"
   },
   "outputs": [],
   "source": [
    "year = '2014-01-01'\n",
    "train_brk = zip_df.loc[:year]\n",
    "#test_brk = zip_df.loc[year:]\n",
    "test_brk = zip_df.loc['2014-01-02':]"
   ]
  },
  {
   "cell_type": "code",
   "execution_count": 34,
   "metadata": {
    "colab": {
     "base_uri": "https://localhost:8080/"
    },
    "id": "IXnnCEIVbiUf",
    "outputId": "317bca91-3cbe-4d87-caaf-e2970a77f45f"
   },
   "outputs": [
    {
     "name": "stdout",
     "output_type": "stream",
     "text": [
      "265\n",
      "(214, 28)\n",
      "(51, 28)\n"
     ]
    }
   ],
   "source": [
    "print(len(zip_df))\n",
    "print(train_brk.shape)\n",
    "print(test_brk.shape)"
   ]
  },
  {
   "cell_type": "code",
   "execution_count": 35,
   "metadata": {
    "colab": {
     "base_uri": "https://localhost:8080/",
     "height": 340
    },
    "id": "BbwT-gkwG8pF",
    "outputId": "5ca02075-93c9-4bc7-c1e3-a4c448aff728"
   },
   "outputs": [
    {
     "data": {
      "text/plain": [
       "Month\n",
       "1996-04-01     671200.0\n",
       "2014-01-01    1709200.0\n",
       "Name: 11238, dtype: float64"
      ]
     },
     "execution_count": 35,
     "metadata": {},
     "output_type": "execute_result"
    }
   ],
   "source": [
    "train_brk[11238][[0,-1]]"
   ]
  },
  {
   "cell_type": "code",
   "execution_count": 36,
   "metadata": {
    "colab": {
     "base_uri": "https://localhost:8080/",
     "height": 340
    },
    "id": "tnUO2YYy3KVt",
    "outputId": "9e717a8d-10b2-4a5b-e308-e1c73401ac12"
   },
   "outputs": [
    {
     "data": {
      "text/html": [
       "<div>\n",
       "<style scoped>\n",
       "    .dataframe tbody tr th:only-of-type {\n",
       "        vertical-align: middle;\n",
       "    }\n",
       "\n",
       "    .dataframe tbody tr th {\n",
       "        vertical-align: top;\n",
       "    }\n",
       "\n",
       "    .dataframe thead th {\n",
       "        text-align: right;\n",
       "    }\n",
       "</style>\n",
       "<table border=\"1\" class=\"dataframe\">\n",
       "  <thead>\n",
       "    <tr style=\"text-align: right;\">\n",
       "      <th></th>\n",
       "      <th>11226</th>\n",
       "      <th>11235</th>\n",
       "      <th>11230</th>\n",
       "      <th>11209</th>\n",
       "      <th>11212</th>\n",
       "      <th>11214</th>\n",
       "      <th>11221</th>\n",
       "      <th>11229</th>\n",
       "      <th>11234</th>\n",
       "      <th>11215</th>\n",
       "      <th>...</th>\n",
       "      <th>11203</th>\n",
       "      <th>11220</th>\n",
       "      <th>11216</th>\n",
       "      <th>11210</th>\n",
       "      <th>11224</th>\n",
       "      <th>11222</th>\n",
       "      <th>11228</th>\n",
       "      <th>11238</th>\n",
       "      <th>11205</th>\n",
       "      <th>11217</th>\n",
       "    </tr>\n",
       "    <tr>\n",
       "      <th>Month</th>\n",
       "      <th></th>\n",
       "      <th></th>\n",
       "      <th></th>\n",
       "      <th></th>\n",
       "      <th></th>\n",
       "      <th></th>\n",
       "      <th></th>\n",
       "      <th></th>\n",
       "      <th></th>\n",
       "      <th></th>\n",
       "      <th></th>\n",
       "      <th></th>\n",
       "      <th></th>\n",
       "      <th></th>\n",
       "      <th></th>\n",
       "      <th></th>\n",
       "      <th></th>\n",
       "      <th></th>\n",
       "      <th></th>\n",
       "      <th></th>\n",
       "      <th></th>\n",
       "    </tr>\n",
       "  </thead>\n",
       "  <tbody>\n",
       "    <tr>\n",
       "      <th>2014-02-01</th>\n",
       "      <td>590500.0</td>\n",
       "      <td>560000.0</td>\n",
       "      <td>822500.0</td>\n",
       "      <td>822200.0</td>\n",
       "      <td>286800.0</td>\n",
       "      <td>621100.0</td>\n",
       "      <td>577700.0</td>\n",
       "      <td>541600.0</td>\n",
       "      <td>444400.0</td>\n",
       "      <td>1623300.0</td>\n",
       "      <td>...</td>\n",
       "      <td>360700.0</td>\n",
       "      <td>680800.0</td>\n",
       "      <td>792400.0</td>\n",
       "      <td>565400.0</td>\n",
       "      <td>376900.0</td>\n",
       "      <td>954100.0</td>\n",
       "      <td>692700.0</td>\n",
       "      <td>1748800.0</td>\n",
       "      <td>1718500.0</td>\n",
       "      <td>2238400.0</td>\n",
       "    </tr>\n",
       "    <tr>\n",
       "      <th>2014-03-01</th>\n",
       "      <td>602600.0</td>\n",
       "      <td>562300.0</td>\n",
       "      <td>823200.0</td>\n",
       "      <td>827400.0</td>\n",
       "      <td>287000.0</td>\n",
       "      <td>632100.0</td>\n",
       "      <td>584600.0</td>\n",
       "      <td>545000.0</td>\n",
       "      <td>446100.0</td>\n",
       "      <td>1673000.0</td>\n",
       "      <td>...</td>\n",
       "      <td>359900.0</td>\n",
       "      <td>684500.0</td>\n",
       "      <td>810600.0</td>\n",
       "      <td>565800.0</td>\n",
       "      <td>372100.0</td>\n",
       "      <td>959900.0</td>\n",
       "      <td>695800.0</td>\n",
       "      <td>1773300.0</td>\n",
       "      <td>1727000.0</td>\n",
       "      <td>2271000.0</td>\n",
       "    </tr>\n",
       "    <tr>\n",
       "      <th>2014-04-01</th>\n",
       "      <td>618300.0</td>\n",
       "      <td>566300.0</td>\n",
       "      <td>824000.0</td>\n",
       "      <td>829200.0</td>\n",
       "      <td>286500.0</td>\n",
       "      <td>641600.0</td>\n",
       "      <td>600100.0</td>\n",
       "      <td>548300.0</td>\n",
       "      <td>446500.0</td>\n",
       "      <td>1716700.0</td>\n",
       "      <td>...</td>\n",
       "      <td>358600.0</td>\n",
       "      <td>683300.0</td>\n",
       "      <td>829200.0</td>\n",
       "      <td>564200.0</td>\n",
       "      <td>368400.0</td>\n",
       "      <td>953400.0</td>\n",
       "      <td>696900.0</td>\n",
       "      <td>1798700.0</td>\n",
       "      <td>1736700.0</td>\n",
       "      <td>2298000.0</td>\n",
       "    </tr>\n",
       "    <tr>\n",
       "      <th>2014-05-01</th>\n",
       "      <td>632300.0</td>\n",
       "      <td>572000.0</td>\n",
       "      <td>827900.0</td>\n",
       "      <td>830700.0</td>\n",
       "      <td>286400.0</td>\n",
       "      <td>647800.0</td>\n",
       "      <td>619900.0</td>\n",
       "      <td>550600.0</td>\n",
       "      <td>447700.0</td>\n",
       "      <td>1748300.0</td>\n",
       "      <td>...</td>\n",
       "      <td>358900.0</td>\n",
       "      <td>680800.0</td>\n",
       "      <td>852900.0</td>\n",
       "      <td>562100.0</td>\n",
       "      <td>367300.0</td>\n",
       "      <td>953400.0</td>\n",
       "      <td>700100.0</td>\n",
       "      <td>1818100.0</td>\n",
       "      <td>1752000.0</td>\n",
       "      <td>2342400.0</td>\n",
       "    </tr>\n",
       "    <tr>\n",
       "      <th>2014-06-01</th>\n",
       "      <td>638900.0</td>\n",
       "      <td>577500.0</td>\n",
       "      <td>833000.0</td>\n",
       "      <td>833900.0</td>\n",
       "      <td>288000.0</td>\n",
       "      <td>653000.0</td>\n",
       "      <td>639600.0</td>\n",
       "      <td>551200.0</td>\n",
       "      <td>449600.0</td>\n",
       "      <td>1767100.0</td>\n",
       "      <td>...</td>\n",
       "      <td>359200.0</td>\n",
       "      <td>677900.0</td>\n",
       "      <td>877300.0</td>\n",
       "      <td>561900.0</td>\n",
       "      <td>366300.0</td>\n",
       "      <td>957600.0</td>\n",
       "      <td>705200.0</td>\n",
       "      <td>1824000.0</td>\n",
       "      <td>1764200.0</td>\n",
       "      <td>2397200.0</td>\n",
       "    </tr>\n",
       "  </tbody>\n",
       "</table>\n",
       "<p>5 rows × 28 columns</p>\n",
       "</div>"
      ],
      "text/plain": [
       "               11226     11235     11230     11209     11212     11214  \\\n",
       "Month                                                                    \n",
       "2014-02-01  590500.0  560000.0  822500.0  822200.0  286800.0  621100.0   \n",
       "2014-03-01  602600.0  562300.0  823200.0  827400.0  287000.0  632100.0   \n",
       "2014-04-01  618300.0  566300.0  824000.0  829200.0  286500.0  641600.0   \n",
       "2014-05-01  632300.0  572000.0  827900.0  830700.0  286400.0  647800.0   \n",
       "2014-06-01  638900.0  577500.0  833000.0  833900.0  288000.0  653000.0   \n",
       "\n",
       "               11221     11229     11234      11215  ...     11203     11220  \\\n",
       "Month                                                ...                       \n",
       "2014-02-01  577700.0  541600.0  444400.0  1623300.0  ...  360700.0  680800.0   \n",
       "2014-03-01  584600.0  545000.0  446100.0  1673000.0  ...  359900.0  684500.0   \n",
       "2014-04-01  600100.0  548300.0  446500.0  1716700.0  ...  358600.0  683300.0   \n",
       "2014-05-01  619900.0  550600.0  447700.0  1748300.0  ...  358900.0  680800.0   \n",
       "2014-06-01  639600.0  551200.0  449600.0  1767100.0  ...  359200.0  677900.0   \n",
       "\n",
       "               11216     11210     11224     11222     11228      11238  \\\n",
       "Month                                                                     \n",
       "2014-02-01  792400.0  565400.0  376900.0  954100.0  692700.0  1748800.0   \n",
       "2014-03-01  810600.0  565800.0  372100.0  959900.0  695800.0  1773300.0   \n",
       "2014-04-01  829200.0  564200.0  368400.0  953400.0  696900.0  1798700.0   \n",
       "2014-05-01  852900.0  562100.0  367300.0  953400.0  700100.0  1818100.0   \n",
       "2014-06-01  877300.0  561900.0  366300.0  957600.0  705200.0  1824000.0   \n",
       "\n",
       "                11205      11217  \n",
       "Month                             \n",
       "2014-02-01  1718500.0  2238400.0  \n",
       "2014-03-01  1727000.0  2271000.0  \n",
       "2014-04-01  1736700.0  2298000.0  \n",
       "2014-05-01  1752000.0  2342400.0  \n",
       "2014-06-01  1764200.0  2397200.0  \n",
       "\n",
       "[5 rows x 28 columns]"
      ]
     },
     "execution_count": 36,
     "metadata": {},
     "output_type": "execute_result"
    }
   ],
   "source": [
    "test_brk.head()"
   ]
  },
  {
   "cell_type": "code",
   "execution_count": 37,
   "metadata": {
    "colab": {
     "base_uri": "https://localhost:8080/",
     "height": 340
    },
    "id": "xiGyadLfgAnD",
    "outputId": "dce75625-3f27-453b-a1ad-14cda110af77"
   },
   "outputs": [
    {
     "data": {
      "text/html": [
       "<div>\n",
       "<style scoped>\n",
       "    .dataframe tbody tr th:only-of-type {\n",
       "        vertical-align: middle;\n",
       "    }\n",
       "\n",
       "    .dataframe tbody tr th {\n",
       "        vertical-align: top;\n",
       "    }\n",
       "\n",
       "    .dataframe thead th {\n",
       "        text-align: right;\n",
       "    }\n",
       "</style>\n",
       "<table border=\"1\" class=\"dataframe\">\n",
       "  <thead>\n",
       "    <tr style=\"text-align: right;\">\n",
       "      <th></th>\n",
       "      <th>11226</th>\n",
       "      <th>11235</th>\n",
       "      <th>11230</th>\n",
       "      <th>11209</th>\n",
       "      <th>11212</th>\n",
       "      <th>11214</th>\n",
       "      <th>11221</th>\n",
       "      <th>11229</th>\n",
       "      <th>11234</th>\n",
       "      <th>11215</th>\n",
       "      <th>...</th>\n",
       "      <th>11203</th>\n",
       "      <th>11220</th>\n",
       "      <th>11216</th>\n",
       "      <th>11210</th>\n",
       "      <th>11224</th>\n",
       "      <th>11222</th>\n",
       "      <th>11228</th>\n",
       "      <th>11238</th>\n",
       "      <th>11205</th>\n",
       "      <th>11217</th>\n",
       "    </tr>\n",
       "    <tr>\n",
       "      <th>Month</th>\n",
       "      <th></th>\n",
       "      <th></th>\n",
       "      <th></th>\n",
       "      <th></th>\n",
       "      <th></th>\n",
       "      <th></th>\n",
       "      <th></th>\n",
       "      <th></th>\n",
       "      <th></th>\n",
       "      <th></th>\n",
       "      <th></th>\n",
       "      <th></th>\n",
       "      <th></th>\n",
       "      <th></th>\n",
       "      <th></th>\n",
       "      <th></th>\n",
       "      <th></th>\n",
       "      <th></th>\n",
       "      <th></th>\n",
       "      <th></th>\n",
       "      <th></th>\n",
       "    </tr>\n",
       "  </thead>\n",
       "  <tbody>\n",
       "    <tr>\n",
       "      <th>2017-12-01</th>\n",
       "      <td>887800.0</td>\n",
       "      <td>799700.0</td>\n",
       "      <td>1102400.0</td>\n",
       "      <td>1018900.0</td>\n",
       "      <td>414900.0</td>\n",
       "      <td>826300.0</td>\n",
       "      <td>998100.0</td>\n",
       "      <td>741000.0</td>\n",
       "      <td>575000.0</td>\n",
       "      <td>2287100.0</td>\n",
       "      <td>...</td>\n",
       "      <td>474500.0</td>\n",
       "      <td>903000.0</td>\n",
       "      <td>1545700.0</td>\n",
       "      <td>802900.0</td>\n",
       "      <td>498700.0</td>\n",
       "      <td>1651200.0</td>\n",
       "      <td>902200.0</td>\n",
       "      <td>2768900.0</td>\n",
       "      <td>2251000.0</td>\n",
       "      <td>3404100.0</td>\n",
       "    </tr>\n",
       "    <tr>\n",
       "      <th>2018-01-01</th>\n",
       "      <td>890500.0</td>\n",
       "      <td>806600.0</td>\n",
       "      <td>1120200.0</td>\n",
       "      <td>1023500.0</td>\n",
       "      <td>422300.0</td>\n",
       "      <td>827600.0</td>\n",
       "      <td>1000900.0</td>\n",
       "      <td>748100.0</td>\n",
       "      <td>579400.0</td>\n",
       "      <td>2288900.0</td>\n",
       "      <td>...</td>\n",
       "      <td>475300.0</td>\n",
       "      <td>906500.0</td>\n",
       "      <td>1540200.0</td>\n",
       "      <td>809100.0</td>\n",
       "      <td>502000.0</td>\n",
       "      <td>1661800.0</td>\n",
       "      <td>909000.0</td>\n",
       "      <td>2810700.0</td>\n",
       "      <td>2251600.0</td>\n",
       "      <td>3413800.0</td>\n",
       "    </tr>\n",
       "    <tr>\n",
       "      <th>2018-02-01</th>\n",
       "      <td>901700.0</td>\n",
       "      <td>810600.0</td>\n",
       "      <td>1141600.0</td>\n",
       "      <td>1029200.0</td>\n",
       "      <td>426300.0</td>\n",
       "      <td>830500.0</td>\n",
       "      <td>1015400.0</td>\n",
       "      <td>755800.0</td>\n",
       "      <td>583200.0</td>\n",
       "      <td>2265300.0</td>\n",
       "      <td>...</td>\n",
       "      <td>474800.0</td>\n",
       "      <td>910700.0</td>\n",
       "      <td>1553600.0</td>\n",
       "      <td>814500.0</td>\n",
       "      <td>505600.0</td>\n",
       "      <td>1672800.0</td>\n",
       "      <td>912800.0</td>\n",
       "      <td>2848100.0</td>\n",
       "      <td>2245300.0</td>\n",
       "      <td>3482900.0</td>\n",
       "    </tr>\n",
       "    <tr>\n",
       "      <th>2018-03-01</th>\n",
       "      <td>930700.0</td>\n",
       "      <td>813400.0</td>\n",
       "      <td>1170000.0</td>\n",
       "      <td>1023000.0</td>\n",
       "      <td>427100.0</td>\n",
       "      <td>837300.0</td>\n",
       "      <td>1037300.0</td>\n",
       "      <td>766200.0</td>\n",
       "      <td>589400.0</td>\n",
       "      <td>2244900.0</td>\n",
       "      <td>...</td>\n",
       "      <td>481000.0</td>\n",
       "      <td>915600.0</td>\n",
       "      <td>1578400.0</td>\n",
       "      <td>816900.0</td>\n",
       "      <td>511600.0</td>\n",
       "      <td>1694000.0</td>\n",
       "      <td>913900.0</td>\n",
       "      <td>2869600.0</td>\n",
       "      <td>2243700.0</td>\n",
       "      <td>3588100.0</td>\n",
       "    </tr>\n",
       "    <tr>\n",
       "      <th>2018-04-01</th>\n",
       "      <td>963200.0</td>\n",
       "      <td>816200.0</td>\n",
       "      <td>1195400.0</td>\n",
       "      <td>1015800.0</td>\n",
       "      <td>428400.0</td>\n",
       "      <td>844100.0</td>\n",
       "      <td>1048700.0</td>\n",
       "      <td>775500.0</td>\n",
       "      <td>593300.0</td>\n",
       "      <td>2243900.0</td>\n",
       "      <td>...</td>\n",
       "      <td>489900.0</td>\n",
       "      <td>917900.0</td>\n",
       "      <td>1598700.0</td>\n",
       "      <td>819600.0</td>\n",
       "      <td>517900.0</td>\n",
       "      <td>1721100.0</td>\n",
       "      <td>915300.0</td>\n",
       "      <td>2885300.0</td>\n",
       "      <td>2248400.0</td>\n",
       "      <td>3656000.0</td>\n",
       "    </tr>\n",
       "  </tbody>\n",
       "</table>\n",
       "<p>5 rows × 28 columns</p>\n",
       "</div>"
      ],
      "text/plain": [
       "               11226     11235      11230      11209     11212     11214  \\\n",
       "Month                                                                      \n",
       "2017-12-01  887800.0  799700.0  1102400.0  1018900.0  414900.0  826300.0   \n",
       "2018-01-01  890500.0  806600.0  1120200.0  1023500.0  422300.0  827600.0   \n",
       "2018-02-01  901700.0  810600.0  1141600.0  1029200.0  426300.0  830500.0   \n",
       "2018-03-01  930700.0  813400.0  1170000.0  1023000.0  427100.0  837300.0   \n",
       "2018-04-01  963200.0  816200.0  1195400.0  1015800.0  428400.0  844100.0   \n",
       "\n",
       "                11221     11229     11234      11215  ...     11203     11220  \\\n",
       "Month                                                 ...                       \n",
       "2017-12-01   998100.0  741000.0  575000.0  2287100.0  ...  474500.0  903000.0   \n",
       "2018-01-01  1000900.0  748100.0  579400.0  2288900.0  ...  475300.0  906500.0   \n",
       "2018-02-01  1015400.0  755800.0  583200.0  2265300.0  ...  474800.0  910700.0   \n",
       "2018-03-01  1037300.0  766200.0  589400.0  2244900.0  ...  481000.0  915600.0   \n",
       "2018-04-01  1048700.0  775500.0  593300.0  2243900.0  ...  489900.0  917900.0   \n",
       "\n",
       "                11216     11210     11224      11222     11228      11238  \\\n",
       "Month                                                                       \n",
       "2017-12-01  1545700.0  802900.0  498700.0  1651200.0  902200.0  2768900.0   \n",
       "2018-01-01  1540200.0  809100.0  502000.0  1661800.0  909000.0  2810700.0   \n",
       "2018-02-01  1553600.0  814500.0  505600.0  1672800.0  912800.0  2848100.0   \n",
       "2018-03-01  1578400.0  816900.0  511600.0  1694000.0  913900.0  2869600.0   \n",
       "2018-04-01  1598700.0  819600.0  517900.0  1721100.0  915300.0  2885300.0   \n",
       "\n",
       "                11205      11217  \n",
       "Month                             \n",
       "2017-12-01  2251000.0  3404100.0  \n",
       "2018-01-01  2251600.0  3413800.0  \n",
       "2018-02-01  2245300.0  3482900.0  \n",
       "2018-03-01  2243700.0  3588100.0  \n",
       "2018-04-01  2248400.0  3656000.0  \n",
       "\n",
       "[5 rows x 28 columns]"
      ]
     },
     "execution_count": 37,
     "metadata": {},
     "output_type": "execute_result"
    }
   ],
   "source": [
    "test_brk.tail()"
   ]
  },
  {
   "cell_type": "code",
   "execution_count": 38,
   "metadata": {},
   "outputs": [
    {
     "data": {
      "text/plain": [
       "Month\n",
       "2014-02-01    1748800.0\n",
       "2018-04-01    2885300.0\n",
       "Name: 11238, dtype: float64"
      ]
     },
     "execution_count": 38,
     "metadata": {},
     "output_type": "execute_result"
    }
   ],
   "source": [
    "test_brk[11238][[0,-1]]"
   ]
  },
  {
   "cell_type": "markdown",
   "metadata": {
    "id": "2sHi7PMpykLU"
   },
   "source": [
    "## **Auto_Arima Model**\n",
    "Why use an Auto_ARIMA model?  We use the auto-ARIMA process because it identifies the optimal parameters for an ARIMA model.  In order to use an ARIMA model it is essential that p,d,q values are inputted into the model.  Generally for an ARIMA model statisical techniques are used to generate these values by performing the difference to eliminate the non-stationarity and obtaining values from ACF and PACF plots.  I would add that the ACF and PACF plots are hard to interpret.<br>\n",
    "\n",
    "What do p,d and q represent?  The p is the parameter associated with the auto-regressive aspect of the model, which incorporates past values.  For example, forecasting that if it rained a lot over the past few days it's likely that it will rain tomorrow as well.<br>  \n",
    "The d is the parameter associated with the integrated part of the model, which effects the amount of differencing to apply to a time series, i.e., forecasting that the amount of rain tomorrow will be similar to the amount of rain today, if the daily amounts of rain have been similar over the past few days.<br>\n",
    "\n",
    "The q is the parameter associated with the moving average part of the model.<br>\n",
    "\n",
    "In the auto ARIMA, the P,D, and Q describe the same associations as p,d, and q, but correspond with the seasonal components of the model.<br>\n",
    "The auto ARIMA works similar to a grid search to find the optimal values for p, d, and q. The auto ARIMA iterates through all possible combinations of the p,d,q values for each zip code to find out which combination produces the model with the lowest AIC score (best fit).  The final combination of parameters for each zipcode would be determined according the lowest AIC."
   ]
  },
  {
   "cell_type": "code",
   "execution_count": 39,
   "metadata": {
    "id": "eiGr0NJ8biUq"
   },
   "outputs": [],
   "source": [
    "import six\n",
    "import sys\n",
    "sys.modules['sklearn.externals.six'] = six"
   ]
  },
  {
   "cell_type": "code",
   "execution_count": 40,
   "metadata": {
    "colab": {
     "base_uri": "https://localhost:8080/",
     "height": 599
    },
    "id": "WfPzSzhPeMxS",
    "outputId": "5b5b89dc-e358-44a2-d6fe-201340f8280f"
   },
   "outputs": [
    {
     "name": "stdout",
     "output_type": "stream",
     "text": [
      "Requirement already satisfied: pmdarima in /Users/davidtorres/opt/anaconda3/envs/learn-env/lib/python3.6/site-packages (1.2.0)\n",
      "Requirement already satisfied: numpy>=1.15 in /Users/davidtorres/opt/anaconda3/envs/learn-env/lib/python3.6/site-packages (from pmdarima) (1.19.5)\n",
      "Requirement already satisfied: scikit-learn>=0.19 in /Users/davidtorres/opt/anaconda3/envs/learn-env/lib/python3.6/site-packages (from pmdarima) (0.23.2)\n",
      "Requirement already satisfied: pandas>=0.19 in /Users/davidtorres/opt/anaconda3/envs/learn-env/lib/python3.6/site-packages (from pmdarima) (1.1.5)\n",
      "Requirement already satisfied: statsmodels>=0.9.0 in /Users/davidtorres/opt/anaconda3/envs/learn-env/lib/python3.6/site-packages (from pmdarima) (0.11.1)\n",
      "Requirement already satisfied: scipy>=1.2 in /Users/davidtorres/opt/anaconda3/envs/learn-env/lib/python3.6/site-packages (from pmdarima) (1.5.4)\n",
      "Requirement already satisfied: Cython>=0.29 in /Users/davidtorres/opt/anaconda3/envs/learn-env/lib/python3.6/site-packages (from pmdarima) (0.29.17)\n",
      "Requirement already satisfied: python-dateutil>=2.7.3 in /Users/davidtorres/opt/anaconda3/envs/learn-env/lib/python3.6/site-packages (from pandas>=0.19->pmdarima) (2.8.1)\n",
      "Requirement already satisfied: pytz>=2017.2 in /Users/davidtorres/opt/anaconda3/envs/learn-env/lib/python3.6/site-packages (from pandas>=0.19->pmdarima) (2020.1)\n",
      "Requirement already satisfied: six>=1.5 in /Users/davidtorres/opt/anaconda3/envs/learn-env/lib/python3.6/site-packages (from python-dateutil>=2.7.3->pandas>=0.19->pmdarima) (1.15.0)\n",
      "Requirement already satisfied: threadpoolctl>=2.0.0 in /Users/davidtorres/opt/anaconda3/envs/learn-env/lib/python3.6/site-packages (from scikit-learn>=0.19->pmdarima) (2.1.0)\n",
      "Requirement already satisfied: joblib>=0.11 in /Users/davidtorres/opt/anaconda3/envs/learn-env/lib/python3.6/site-packages (from scikit-learn>=0.19->pmdarima) (0.15.1)\n",
      "Requirement already satisfied: patsy>=0.5 in /Users/davidtorres/opt/anaconda3/envs/learn-env/lib/python3.6/site-packages (from statsmodels>=0.9.0->pmdarima) (0.5.1)\n",
      "\u001b[33mWARNING: You are using pip version 21.1.3; however, version 21.2.1 is available.\n",
      "You should consider upgrading via the '/Users/davidtorres/opt/anaconda3/envs/learn-env/bin/python -m pip install --upgrade pip' command.\u001b[0m\n"
     ]
    }
   ],
   "source": [
    "!pip install pmdarima"
   ]
  },
  {
   "cell_type": "code",
   "execution_count": 41,
   "metadata": {
    "id": "DvupPiHBbiUt"
   },
   "outputs": [],
   "source": [
    "import six\n",
    "import joblib\n",
    "import sys\n",
    "sys.modules['sklearn.externals.six'] = six\n",
    "sys.modules['sklearn.externals.joblib'] = joblib\n",
    "import pmdarima as pm\n",
    "from pmdarima import auto_arima"
   ]
  },
  {
   "cell_type": "code",
   "execution_count": 42,
   "metadata": {
    "id": "Y-IO0XR0biUy"
   },
   "outputs": [],
   "source": [
    "def arima_model(df):\n",
    "    \"\"\"\n",
    "    df- dataframe\n",
    "    function is a gridsearch to get optimal p,d,qs and lowest AIC for the model.\n",
    "    q-is moving average\n",
    "    \"\"\"\n",
    "    autoarima_model = auto_arima(df, start_p = 0, start_q = 0, #start_q = 0\n",
    "                              test='adf',             # use adftest to find optimal 'd'\n",
    "                              max_p = 3, max_q = 3,   # maximum p and q\n",
    "                              m = 12,                  #frequency of series \n",
    "                              d = None,               # let model determine 'd', was 1\n",
    "                              seasonal = True, \n",
    "                              start_P=0, D=1, trace = False, #start  #trace= True\n",
    "                              error_action ='ignore',   # we don't want to know if an order does not work \n",
    "                              suppress_warnings = True,  # we don't want convergence warnings \n",
    "                              stepwise = True)           # set to stepwise  \n",
    "       \n",
    "    return autoarima_model\n"
   ]
  },
  {
   "cell_type": "code",
   "execution_count": null,
   "metadata": {
    "id": "gVj63y1ObiU2"
   },
   "outputs": [],
   "source": [
    "stepwise_fit = arima_model(train_brk[11226])"
   ]
  },
  {
   "cell_type": "code",
   "execution_count": null,
   "metadata": {
    "colab": {
     "base_uri": "https://localhost:8080/",
     "height": 482
    },
    "id": "EAlk0GeubiU5",
    "outputId": "48805433-5317-4a12-bf7f-34173354c7b0"
   },
   "outputs": [],
   "source": [
    "stepwise_fit.summary()"
   ]
  },
  {
   "cell_type": "markdown",
   "metadata": {
    "id": "9sB-cPoAF5Qw"
   },
   "source": [
    "### **Dataframe of p,d,qs, Seasonal p,d,qs and lowest AIC**\n",
    "The for loop iterates through the Brooklyn zipcodes dataframe (zip_df) and uses the arima_model function to get the best fit parameters (p,d,qs, Seasonal p,d,qs) and lowest AICs for each Brooklyn zipcode.  The list, arima_list, is then converted into a Pandas dataframe.  "
   ]
  },
  {
   "cell_type": "code",
   "execution_count": null,
   "metadata": {
    "colab": {
     "base_uri": "https://localhost:8080/",
     "height": 917
    },
    "id": "YUSiFW3MIHdV",
    "outputId": "c8d108f6-0f01-45d4-8b5d-b8b3fc421054"
   },
   "outputs": [],
   "source": [
    "arima_list = [['zipcode', 'pdq','seasonal_pdq','aic']] \n",
    "for col in zip_df.columns:\n",
    "  zip_data = arima_model(zip_df[col])\n",
    "  arima_list.append([col,zip_data.order, zip_data.seasonal_order, zip_data.aic()])\n",
    "#result   \n",
    "output_df = pd.DataFrame(arima_list[1:],columns=arima_list[0]) \n",
    "output_df  "
   ]
  },
  {
   "cell_type": "markdown",
   "metadata": {
    "id": "9nCuBStdpptV"
   },
   "source": [
    "## **SARIMA Model**"
   ]
  },
  {
   "cell_type": "markdown",
   "metadata": {
    "id": "o0_z6kcVT5sT"
   },
   "source": [
    "### **Fitting a SARIMA Time Series Model**\n",
    "Using a grid search approach, I used the Auto_Arima model to identify the set of optimal parameters to produce the best fitting model of the time series dataset.  The optimal parameter values are then inputted into the SARIMAX model.  I used a SARIMAX model because it takes into account trends and seasonality.  Acordingly, we can model our data without differencing it and addressing the issue of whether data is stationary or not.<br>    \n",
    "\n",
    "Coef column shows the importance of each feature and how each one impacts the time series patterns. \n",
    "The P>|z| provides the significance of each feature weight.<br>\n",
    "\n",
    "If a weight has a p-value lower or close to 0.05 it is reasonable to retain it in the model.<br>\n",
    "\n",
    "Model diagnostics - the purpose is to ensure that residuals remain uncorrelated, normally distributed having zero mean.  N(0,1)) is the standard notation for a normal distribution with mean 0 and standard deviation of 1).  This is a good indication that the residuals are normally distributed.<br>"
   ]
  },
  {
   "cell_type": "code",
   "execution_count": null,
   "metadata": {
    "id": "CI-u7raor5KT"
   },
   "outputs": [],
   "source": [
    "def fit_ARIMA(df, order=None, seasonal_order=None):\n",
    "    \"\"\"\n",
    "    forecasting statsmodel SARIMAX model\n",
    "    \"\"\"\n",
    "    ARIMA_MODEL = sm.tsa.statespace.SARIMAX(df, \n",
    "                                        order=order, \n",
    "                                        seasonal_order=seasonal_order, \n",
    "                                        enforce_stationarity=False, \n",
    "                                        enforce_invertibility=False)\n",
    "\n",
    "    # Fit the model and print results\n",
    "    output = ARIMA_MODEL.fit()\n",
    "\n",
    "    #display / no tables 1\n",
    "    display(output.summary())\n",
    "    \n",
    "    print('\\n')\n",
    "    print('MODEL DIAGNOSTICS')\n",
    "    \n",
    "    output.plot_diagnostics(figsize=(15, 18));\n",
    "    plt.show()\n",
    "    \n",
    "    return output"
   ]
  },
  {
   "cell_type": "markdown",
   "metadata": {
    "id": "Kn2YvJbJW69c"
   },
   "source": [
    "## **Validating the Model**\n",
    "We're going to see how good our ARIMA model is at forecasting the sale price of homes located in zipcodes 11218 and 11217.  We are going to use One-Step-Ahead Forecasting, Dynamic Forecasting and Out-of-Sample Forecasting with the models to make the forecasting. "
   ]
  },
  {
   "cell_type": "markdown",
   "metadata": {
    "id": "pnDW2sDjXQ4k"
   },
   "source": [
    "### **One-Step-Ahead Forecasting**"
   ]
  },
  {
   "cell_type": "markdown",
   "metadata": {},
   "source": [
    "One Step Ahead forecasting means that forecasts at each point are generated using the full history data up to that point to make the prediction.  Forecast one step ahead into the future with the time series.  This allows us to evaluate how good our model is at predicting just one value ahead. \n",
    "\n",
    "Confidence intervals show us how confident we are in this time period. \n",
    "\n",
    "In order to validate the model, I started by comparing predicted values to real values of the time series.  This will help us understand the accuracy of our forecasts.<br>\n",
    "\n",
    "The methods .get_prediction() and .conf_int()  allow us to obtain the values and related confidence intervals for the time series forecasts.  The method .get_prediction generates in sample predictions and requires a date so that predictions will be made based on the data up to 1/1/2014. The model is going to make a prediction from the known values.  For this part I wil be  working with the whole dataset and not the train or test sets.<br>\n",
    "\n",
    "I set the dynamic parameter to false so that the model produces one-step ahead visuals.  The method .conf_int gives us the upper and lower limits on the values of our predictions of the 'pred' object.  This will generate a dataframe of the upper and lower uncertainty range of our prediction. \n",
    "    "
   ]
  },
  {
   "cell_type": "markdown",
   "metadata": {},
   "source": [
    "### Model Diagnostics\n",
    "In the fit_arima function I included the method '.plot_diagnostics()' to run on the ARIMA output  for a plot of the diagnostics to ensure that none of the assumptions are met. \n",
    "\n",
    "The method '.plot_diagnostics()' enables us to confirm whether the residuals remain uncorrelated and normally distributed having zero mean. In the absence of these assumptions, we can not move forward and need further tweaking of the model.\n",
    "\n",
    "The qq-plot on the bottom left shows that for the most part the ordered distribution of residuals (blue dots) follows the linear trend of the samples taken from a standard normal distribution with N(0, 1).  This is a strong indication that the residuals are normally distributed."
   ]
  },
  {
   "cell_type": "code",
   "execution_count": null,
   "metadata": {},
   "outputs": [],
   "source": [
    "def one_step_function(output_df, zipcode_osa=None):\n",
    "  \n",
    "    zip_params = output_df[output_df['zipcode']== zipcode_osa]\n",
    "    zip_params.pdq.values[0]\n",
    "    zip_params.seasonal_pdq.values[0]\n",
    "\n",
    "    output_sarima = fit_ARIMA(zip_df[zipcode_osa], order=zip_params.pdq.values[0], seasonal_order=zip_params.seasonal_pdq.values[0])\n",
    "  #prediction = output_sar.get_forecast(steps=steps, dynamic=True)\n",
    "    pred = output_sarima.get_prediction(start=pd.to_datetime('2014-01-01'), dynamic=False)\n",
    "    pred_conf = pred.conf_int()\n",
    "    #prediction.predicted_mean\n",
    "\n",
    "  # Get confidence intervals of forecasts\n",
    "   # predict_conf = prediction.conf_int()\n",
    "\n",
    "    return pred, pred_conf, zipcode_osa, output_sarima\n"
   ]
  },
  {
   "cell_type": "code",
   "execution_count": null,
   "metadata": {},
   "outputs": [],
   "source": [
    "#zip_params, output_sarima, pred, pred_conf  = one_step_func(output_df, zipcode = 11218,fit_ARIMA())\n",
    "pred, pred_conf, zipcode_osa,output_sarima =  one_step_function(output_df, zipcode_osa = 11218)"
   ]
  },
  {
   "cell_type": "code",
   "execution_count": null,
   "metadata": {},
   "outputs": [],
   "source": [
    "zip_params = output_df[output_df['zipcode']==11218]\n",
    "zip_params"
   ]
  },
  {
   "cell_type": "code",
   "execution_count": null,
   "metadata": {},
   "outputs": [],
   "source": [
    "zip_params.columns"
   ]
  },
  {
   "cell_type": "code",
   "execution_count": null,
   "metadata": {},
   "outputs": [],
   "source": [
    "zip_params['pdq']"
   ]
  },
  {
   "cell_type": "code",
   "execution_count": null,
   "metadata": {},
   "outputs": [],
   "source": [
    "zip_params.pdq.values[0]"
   ]
  },
  {
   "cell_type": "markdown",
   "metadata": {},
   "source": [
    "#### Plot of One-Step-Ahead Forecasting"
   ]
  },
  {
   "cell_type": "markdown",
   "metadata": {},
   "source": [
    "Below is a plot of the real and forecasted values of the time series to assess how well the model did.  The plot icludes the confidence intervals which in this case overlap the predicted values.  The mean prediction is marked with the orange line.  The uncertainy range is shaded in green.  The uncertainty is due the the random terms that can't be predicted. \n",
    "\n",
    "The central value of the forecast is stored in the .predicted_mean attribute of the pred object.\n",
    "\n",
    "the method .fill_between() produces the shade area between our lower and upper limits.\n",
    "\n",
    "Visually it looks like the model did pretty good at making the predictions for zipcode 11218 because the forecasts align with the true test set values."
   ]
  },
  {
   "cell_type": "code",
   "execution_count": null,
   "metadata": {},
   "outputs": [],
   "source": [
    "zip_df[11218].describe().round(2)"
   ]
  },
  {
   "cell_type": "code",
   "execution_count": null,
   "metadata": {},
   "outputs": [],
   "source": [
    "def one_step_plt(train_brk, test_brk,pred, pred_conf, zip=None):\n",
    "    plt.figure(figsize=(12,5))\n",
    "    # Plot observed values\n",
    "    ax = train_brk[zip].plot(label='observed')\n",
    "    test_brk[zip].plot(label='Test')\n",
    "    # Plot predicted values\n",
    "    pred.predicted_mean.plot(ax=ax, label='One-step ahead Forecast', alpha=0.9)\n",
    "\n",
    "    # Plot the range for confidence intervals\n",
    "    ax.fill_between(pred_conf.index,\n",
    "                    pred_conf.iloc[:, 0],\n",
    "                    pred_conf.iloc[:, 1], color='g', alpha=0.5)\n",
    "\n",
    "    # Set axes labels\n",
    "    ax.set_xlabel('Date')\n",
    "    ax.set_ylabel('Sale Price')\n",
    "    plt.title(f'One-Step-Ahead Forecasting for Zipcode {zip}')\n",
    "    plt.legend();"
   ]
  },
  {
   "cell_type": "code",
   "execution_count": null,
   "metadata": {},
   "outputs": [],
   "source": [
    "one_step_plt(train_brk, test_brk,pred, pred_conf,zip= 11218)"
   ]
  },
  {
   "cell_type": "markdown",
   "metadata": {},
   "source": [
    "#### Check the Model's Accuracy"
   ]
  },
  {
   "cell_type": "markdown",
   "metadata": {},
   "source": [
    "I will check the models' accuracy in making the prediction by using the metric RMSE (Mean Squared Error).  RMSE is the standard deviation of the residuals (prediction errors). Residuals are a measure of how far from the regression line data points are.  RMSE is a measure of how spread out these residuals are. It tells us how concentrated the data is around the line of best fit.\n",
    "\n",
    "Model was able to forecast the average daily real estate sales in the test set within 10,607.48 of the real sales.  The sales in this zip code 11218 range from around 1,003,700.00 to 2,202,400.00.  "
   ]
  },
  {
   "cell_type": "code",
   "execution_count": null,
   "metadata": {},
   "outputs": [],
   "source": [
    "def metric_function(test_brk, pred_type=None, zip=None):\n",
    "    # Get the real and predicted values\n",
    "    forecasted_11238 = pred.predicted_mean\n",
    "    truth_1128 =test_brk[zip]['1996':]\n",
    "\n",
    "    # Compute the root mean square error\n",
    "    mse = ((forecasted_11238 - truth_1128) ** 2).mean()\n",
    "    print('The Mean Squared Error of our forecasts is {}'.format(round(mse, 2)))\n",
    "    #np.sqrt(np.mean((predictions-targets)**2))\n",
    "    rmse = np.sqrt(np.mean((forecasted_11238 - truth_1128) ** 2))\n",
    "    print('The Root Mean Squared Error of our forecasts is {}'.format(round(rmse, 2)))"
   ]
  },
  {
   "cell_type": "code",
   "execution_count": null,
   "metadata": {},
   "outputs": [],
   "source": [
    "metric_function(test_brk, pred_type= pred, zip= 11218)"
   ]
  },
  {
   "cell_type": "code",
   "execution_count": null,
   "metadata": {
    "colab": {
     "base_uri": "https://localhost:8080/"
    },
    "id": "8dvZmONPccci",
    "outputId": "adeaf1d0-e6e4-4c55-c755-4a16440d04f6"
   },
   "outputs": [],
   "source": [
    "train_brk[zipcode].describe().round(3)"
   ]
  },
  {
   "cell_type": "markdown",
   "metadata": {},
   "source": [
    "### Dynamic Forecasting\n",
    "\n",
    "We can make predictions further into the future than just One-Step-Ahead. We predict One-Step-Ahead and use this predicted value to forecast the next value after that.  The forecasts are generated using values from previous forecasted time points. We don't don't know the shock terms after that so the uncertainy level can grow quickly. The more we base the next prediction off of a predicted value the broader the confidence intervals will get.  The farther away we get from last true value the less we can trust the predictions and the more the model is prone to errors.\n",
    "\n",
    "The dynamic is set to True."
   ]
  },
  {
   "cell_type": "code",
   "execution_count": null,
   "metadata": {},
   "outputs": [],
   "source": [
    "def dynamic_forcast_func(output_df, zipcode_df=None):\n",
    "  \n",
    "    zip_params = output_df[output_df['zipcode']== zipcode_df]\n",
    "    zip_params.pdq.values[0]\n",
    "    zip_params.seasonal_pdq.values[0]\n",
    "\n",
    "    output_sarima = fit_ARIMA(zip_df[zipcode_osa], order=zip_params.pdq.values[0], seasonal_order=zip_params.seasonal_pdq.values[0])\n",
    "  \n",
    "    pred_dynamic = output_sarima.get_prediction(start=pd.to_datetime('2014-01-01'), dynamic=True,full_results=True)\n",
    "    pred_dynamic_conf = pred_dynamic.conf_int()\n",
    "    \n",
    "    return pred_dynamic, pred_dynamic_conf, zipcode_df\n"
   ]
  },
  {
   "cell_type": "code",
   "execution_count": null,
   "metadata": {},
   "outputs": [],
   "source": [
    "pred_dynamic, pred_dynamic_conf, zipcode_df = dynamic_forcast_func(output_df, zipcode_df=11218)"
   ]
  },
  {
   "cell_type": "markdown",
   "metadata": {},
   "source": [
    "Plotting the observed and forecasted values of the time series, we see that the Dynamic Forecast displays an upward trend.  The forecast is pretty accurate even when using Dynamic Forecasting.  Model was able to forecast the average daily real estate sales in the test set within 3,724.22 of the real sales.   "
   ]
  },
  {
   "cell_type": "code",
   "execution_count": null,
   "metadata": {
    "id": "QYGkYw8CNXp8"
   },
   "outputs": [],
   "source": [
    "\n",
    "def dynamic_forecast_plot(pred_dynamic,pred_dynamic_conf, train_bk, test_brk, zipcode_df=None):\n",
    "  # Plot the dynamic forecast with confidence intervals.\n",
    "  plt.figure(figsize=(12,5))\n",
    "  # Plot observed values\n",
    "  #ax = train_bk[zipcode_df].plot(label='Observed')\n",
    "  ax = train_brk[zipcode_df].plot(label='observed')\n",
    "  test_brk[zipcode_df].plot(label='Test')  \n",
    "\n",
    "  # Plot predicted values\n",
    "  pred_dynamic.predicted_mean.plot(ax=ax, label='Dynamic Forecast', alpha=0.9)\n",
    "\n",
    "  # Plot the range for confidence intervals\n",
    "  ax.fill_between(pred_dynamic_conf.index,\n",
    "                  pred_dynamic_conf.iloc[:, 0],\n",
    "                  pred_dynamic_conf.iloc[:, 1], color='g', alpha=0.5)\n",
    "\n",
    "  # Set axes labels\n",
    "  ax.set_xlabel('Date')\n",
    "  ax.set_ylabel('Sale Price')\n",
    "  plt.title(f'Dynamic Forecasting for Zipcode {zipcode_df}')  \n",
    "  plt.legend()\n",
    "\n",
    "  return ax"
   ]
  },
  {
   "cell_type": "code",
   "execution_count": null,
   "metadata": {
    "colab": {
     "base_uri": "https://localhost:8080/",
     "height": 362
    },
    "id": "46DeuFE_OC4R",
    "outputId": "2fadcae1-4cc5-4c38-d1b6-d1b826979287"
   },
   "outputs": [],
   "source": [
    "prediction_visual = dynamic_forecast_plot(pred_dynamic,pred_dynamic_conf,train_brk, test_brk, zipcode_df=11218)\n",
    "prediction_visual"
   ]
  },
  {
   "cell_type": "code",
   "execution_count": null,
   "metadata": {},
   "outputs": [],
   "source": [
    "metric_function(train_brk, pred_type= pred_dynamic, zip= 11218)"
   ]
  },
  {
   "cell_type": "markdown",
   "metadata": {},
   "source": [
    "### Out-of-Sample Forecasts\n",
    "I used an ARIMA model to forecast future values beyond the time series.  We need to tell the model how far we are forecasting into the future from the end of the time series dataset.  The .get_forecast() method of our time series output can compute forecasted values for a specified number of steps ahead.  The method .get_forecast() computes the forecasted values for a specified number of steps ahead.  Forecasting much further out into the futre than we had data for.  The farther away we get from the true values the wider the confidence intevals get.\n",
    "\n",
    "The method .conf_int() gets the confidence intervals of forecasts.\n",
    "\n",
    "However, we don't just concentrate on predicted mean.  The confidence interval is very wide.  What needs to be considered is that there's a chance that you could lose money by falling to the negtive side of confidence interval."
   ]
  },
  {
   "cell_type": "code",
   "execution_count": null,
   "metadata": {},
   "outputs": [],
   "source": [
    "def out_sample_forecast(num=None):\n",
    "    steps = num\n",
    "    # Get forecast --- steps ahead in future\n",
    "    prediction_object = output_sarima.get_forecast(steps=steps, dynamic=True)\n",
    "    #prediction_object.predicted_mean\n",
    "    predict_conf = prediction_object.conf_int()\n",
    "    \n",
    "    return prediction_object, predict_conf"
   ]
  },
  {
   "cell_type": "code",
   "execution_count": null,
   "metadata": {},
   "outputs": [],
   "source": [
    "prediction_object, predict_conf = out_sample_forecast(num=300)"
   ]
  },
  {
   "cell_type": "code",
   "execution_count": null,
   "metadata": {},
   "outputs": [],
   "source": [
    "def outside_forecast_plot(prediction_object,predict_conf, y=None, zip_out_df=None):\n",
    "  # Plot the dynamic forecast with confidence intervals.\n",
    "  plt.figure(figsize=(12,5))\n",
    "  # Plot observed values\n",
    "  ax = y[zip_out_df].plot(label='Observed')\n",
    "\n",
    "  # Plot predicted values\n",
    "  prediction_object.predicted_mean.plot(ax=ax, label='Dynamic Forecast', alpha=0.9)\n",
    "\n",
    "  # Plot the range for confidence intervals\n",
    "  ax.fill_between(predict_conf.index,\n",
    "                  predict_conf.iloc[:, 0],\n",
    "                  predict_conf.iloc[:, 1], color='g', alpha=0.5)\n",
    "\n",
    "  # Set axes labels\n",
    "  ax.set_xlabel('Date')\n",
    "  ax.set_ylabel('Sale Price')\n",
    "  plt.title(f'Out of Sample Forecast for Zipcode {zip_out_df}') \n",
    "  plt.legend()\n",
    "\n",
    "  return ax"
   ]
  },
  {
   "cell_type": "code",
   "execution_count": null,
   "metadata": {},
   "outputs": [],
   "source": [
    "outside_forecast_plot(prediction_object,predict_conf, y= zip_df, zip_out_df= 11218)"
   ]
  },
  {
   "cell_type": "code",
   "execution_count": null,
   "metadata": {},
   "outputs": [],
   "source": [
    "metric_function(zip_df, pred_type= prediction_object, zip= 11218)"
   ]
  },
  {
   "cell_type": "markdown",
   "metadata": {},
   "source": [
    "### 11217\n",
    "Zip code 11217 had the highest real estate prices.  The average price is 1,647,587.925.  The highest price is 3,656,000.00 and the lowest price is 1,003,700.00."
   ]
  },
  {
   "cell_type": "code",
   "execution_count": null,
   "metadata": {},
   "outputs": [],
   "source": [
    "zip_df[11217].describe().round(3)"
   ]
  },
  {
   "cell_type": "markdown",
   "metadata": {},
   "source": [
    "### One-Step-Ahead\n",
    "With One-Step-Ahead the model did very well in forecasting.  The below plot shows that the forecasts follows closely the true value. In applying the metric the model was off 28288.15 im making forecasts.  This is really good considering that the average sale price was 1,647,587.925."
   ]
  },
  {
   "cell_type": "code",
   "execution_count": null,
   "metadata": {},
   "outputs": [],
   "source": [
    "pred, pred_conf, zipcode_osa,output_sarima =  one_step_function(output_df, zipcode_osa = 11217)"
   ]
  },
  {
   "cell_type": "code",
   "execution_count": null,
   "metadata": {},
   "outputs": [],
   "source": [
    "one_step_plt(train_brk, test_brk,pred, pred_conf,zip= 11217);"
   ]
  },
  {
   "cell_type": "code",
   "execution_count": null,
   "metadata": {},
   "outputs": [],
   "source": [
    "metric_function(test_brk, pred_type= pred, zip= 11217)"
   ]
  },
  {
   "cell_type": "code",
   "execution_count": null,
   "metadata": {},
   "outputs": [],
   "source": [
    "zip_df[11217].describe().round(3)"
   ]
  },
  {
   "cell_type": "markdown",
   "metadata": {},
   "source": [
    "#### Dynamic Forecast\n",
    "With Dynamic Forecasts the model also did very well in forecasting.  The below plot shows that the forecasts follows an upward trend. The forecast folllows the true values.  In applying the RMSE metric the model was off 14,900.0 in making forecasts.  This is really good considering that the average sale price was 1,647,587.925."
   ]
  },
  {
   "cell_type": "code",
   "execution_count": null,
   "metadata": {},
   "outputs": [],
   "source": [
    "pred_dynamic, pred_dynamic_conf, zipcode_df = dynamic_forcast_func(output_df, zipcode_df=11217)"
   ]
  },
  {
   "cell_type": "code",
   "execution_count": null,
   "metadata": {},
   "outputs": [],
   "source": [
    "prediction_visual = dynamic_forecast_plot(pred_dynamic,pred_dynamic_conf,train_brk, test_brk, zipcode_df=11217)\n",
    "prediction_visual;"
   ]
  },
  {
   "cell_type": "code",
   "execution_count": null,
   "metadata": {},
   "outputs": [],
   "source": [
    "metric_function(train_brk, pred_type= pred_dynamic, zip= 11217)"
   ]
  },
  {
   "cell_type": "markdown",
   "metadata": {},
   "source": [
    "#### Out-of-Sample Forecasts\n",
    "With Out-of-Sample Forecasts the model also did very well forecasting.  The below plot shows that the forecasts follows an upward trend.  In applying the metric the model was off 28090.92 in making forecasts.  This is really good considering that the average sale price was 1,647,587.925.  However, the confidence intervals have a very wide span which means that there's a possibility that there could be a loss. "
   ]
  },
  {
   "cell_type": "code",
   "execution_count": null,
   "metadata": {},
   "outputs": [],
   "source": [
    "prediction_object, predict_conf = out_sample_forecast(num=300)"
   ]
  },
  {
   "cell_type": "code",
   "execution_count": null,
   "metadata": {},
   "outputs": [],
   "source": [
    "outside_forecast_plot(prediction_object,predict_conf, y= zip_df, zip_out_df= 11217)"
   ]
  },
  {
   "cell_type": "code",
   "execution_count": null,
   "metadata": {},
   "outputs": [],
   "source": [
    "metric_function(zip_df, pred_type= prediction_object, zip= 11217)"
   ]
  },
  {
   "cell_type": "markdown",
   "metadata": {
    "id": "3bPEYL5i3dBa"
   },
   "source": [
    "### **Return on Investment DataFrame (ROI)**\n",
    "In this section we are going to determine 3 things: 1) What is the ROI on investment for each zipcode? 2)The top 5 zipcodes with the highest ROIs? 3) How ARIMA models performed in forecasting sales prices for top 5 zipcodes with highest ROIs. \n",
    "\n",
    "What is a ROI?  ROI is a performance measure used to evaluate the profitability of an investment or compare the efficiency of a number of different investments. ROI tries to directly measure the amount of return on a particular investment, relative to the investment’s cost. \n",
    "\n",
    "How is the ROI calculated?  The benefit (or return) of an investment is divided by the cost of the investment. https://www.investopedia.com/terms/r/returnoninvestment.asp "
   ]
  },
  {
   "cell_type": "code",
   "execution_count": null,
   "metadata": {
    "id": "gJbRKj4aT2vW"
   },
   "outputs": [],
   "source": [
    "steps = 36\n",
    "# Get forecast -- steps ahead in future\n",
    "prediction_object = output_sarima.get_forecast(steps=steps, dynamic=True)"
   ]
  },
  {
   "cell_type": "code",
   "execution_count": null,
   "metadata": {
    "id": "Mddn9EwEFoq9"
   },
   "outputs": [],
   "source": [
    "def my_function(prediction_object, zip):\n",
    "  \"\"\"\n",
    "  function gets ROI for 1 zipcode \n",
    "  \"\"\"\n",
    "  df_Summary = pd.concat([pd.DataFrame({f'Predicted_Mean {zip}':prediction_object.predicted_mean}), prediction_object.conf_int()],axis = 1)\n",
    "  df_Summary\n",
    "\n",
    "  # 1st and last data point of df_summary\n",
    "  my_sample = df_Summary.iloc[[0, -1]].round(3)\n",
    "\n",
    "  return my_sample  #df_Summary"
   ]
  },
  {
   "cell_type": "code",
   "execution_count": null,
   "metadata": {},
   "outputs": [],
   "source": [
    "my_output = my_function(prediction_object, zip='11218')\n",
    "my_output"
   ]
  },
  {
   "cell_type": "code",
   "execution_count": null,
   "metadata": {},
   "outputs": [],
   "source": [
    "def my_roi(cost, current):\n",
    "  \"\"\"  \n",
    "  function to calculate ROI \n",
    "  ROI= \n",
    "  Cost of Investment\n",
    "  Current Value of Investment−Cost of Investment\n",
    "  \"\"\"\n",
    "  return (current - cost) / cost"
   ]
  },
  {
   "cell_type": "code",
   "execution_count": null,
   "metadata": {},
   "outputs": [],
   "source": [
    "# cost = my_output.iloc[0,0]\n",
    "# current = my_output.iloc[-1,0]"
   ]
  },
  {
   "cell_type": "code",
   "execution_count": null,
   "metadata": {},
   "outputs": [],
   "source": [
    "# current_lower = my_output.iloc[-1,1]\n",
    "# current_upper = my_output.iloc[-1,2]"
   ]
  },
  {
   "cell_type": "code",
   "execution_count": null,
   "metadata": {},
   "outputs": [],
   "source": [
    "#upper lower end\n",
    "roi_dic = {}\n",
    "\n",
    "cost = my_output.iloc[0,0]\n",
    "current = my_output.iloc[-1,0]\n",
    "current_lower = my_output.iloc[-1,1]\n",
    "current_upper = my_output.iloc[-1,2]\n",
    "\n",
    "my_roi(cost, current)\n",
    "roi_dic['roi'] = my_roi(cost, current)\n",
    "roi_dic['roi_lower'] = my_roi(cost, current_lower)\n",
    "roi_dic['roi_upper'] = my_roi(cost, current_upper)\n",
    "\n",
    "roi_dic"
   ]
  },
  {
   "cell_type": "code",
   "execution_count": null,
   "metadata": {},
   "outputs": [],
   "source": [
    "my_output"
   ]
  },
  {
   "cell_type": "code",
   "execution_count": null,
   "metadata": {},
   "outputs": [],
   "source": [
    "zip_rois={}\n",
    "steps = 36\n",
    "\n",
    "#def zipcode_roi(output_df,):\n",
    "for zipcode in output_df['zipcode'].unique():\n",
    "  pdq = output_df.loc[ output_df['zipcode']==zipcode, 'pdq'].iloc[0] \n",
    "  seasonal = output_df.loc[ output_df['zipcode']==zipcode, 'seasonal_pdq'].iloc[0] \n",
    "  df_ts = zip_df[zipcode]\n",
    "\n",
    "\n",
    "  output_sarima = fit_ARIMA(df_ts, order=pdq, seasonal_order=seasonal)\n",
    "  prediction_object = output_sarima.get_forecast(steps=steps, dynamic=True)\n",
    "  my_output = my_function(prediction_object, zip=zipcode)\n",
    "  \n",
    "  roi_dic = {}\n",
    "\n",
    "  cost = my_output.iloc[0,0]\n",
    "  current = my_output.iloc[-1,0]\n",
    "  current_lower = my_output.iloc[-1,1]\n",
    "  current_upper = my_output.iloc[-1,2]\n",
    "\n",
    "  my_roi(cost, current)\n",
    "  roi_dic['roi'] = my_roi(cost, current)\n",
    "  roi_dic['roi_lower'] = my_roi(cost, current_lower)\n",
    "  roi_dic['roi_upper'] = my_roi(cost, current_upper)\n",
    "\n",
    "  zip_rois[zipcode] = pd.Series(roi_dic)\n",
    "ROI = pd.DataFrame(zip_rois)"
   ]
  },
  {
   "cell_type": "code",
   "execution_count": null,
   "metadata": {},
   "outputs": [],
   "source": [
    "roi_df = ROI.T \n",
    "roi_df.reset_index(inplace=True)\n",
    "roi_df.rename(columns={'index':'zipcode'}, inplace=True)\n",
    "roi_df.style.background_gradient()"
   ]
  },
  {
   "cell_type": "markdown",
   "metadata": {},
   "source": [
    "#### **ROI Chart**"
   ]
  },
  {
   "cell_type": "code",
   "execution_count": null,
   "metadata": {},
   "outputs": [],
   "source": [
    "roi_chart_1 = roi_df.sort_values(by=['roi'],ascending=False)\n",
    "#roi_chart_1 = roi_chart_1.round(3)\n",
    "roi_chart_1.style.background_gradient()"
   ]
  },
  {
   "cell_type": "markdown",
   "metadata": {
    "id": "zX67rcJn1RkE"
   },
   "source": [
    "### **ROI Out-of-Sample Forecasting**\n",
    "Above we determined what the ROI is for each zipcode and we sorted them from highest and lowest.<br>\n",
    "\n",
    "We are going to use Out-of-Sample Forecasting for the top 5 zip codes with the highest ROIs. \n",
    "We will be using 36 steps for forecasting 36 months into future.  The top 5 zipcodes are:<br>\n",
    "11223<br>\n",
    "11210<br>\n",
    "11230<br>\n",
    "11224<br>\n",
    "11233<br>"
   ]
  },
  {
   "cell_type": "code",
   "execution_count": null,
   "metadata": {
    "id": "hwDI7SlCJDHn"
   },
   "outputs": [],
   "source": [
    "def forecast_function(output_df, current_zip=None,steps=None):\n",
    "  \n",
    "  zip_params = output_df[output_df['zipcode']==current_zip]\n",
    "  zip_params.pdq.values[0]\n",
    "  zip_params.seasonal_pdq.values[0]\n",
    "\n",
    "  #steps = 36\n",
    "  output_sar = fit_ARIMA(zip_df[current_zip], order=zip_params.pdq.values[0], seasonal_order=zip_params.seasonal_pdq.values[0])\n",
    "  prediction = output_sar.get_forecast(steps=steps, dynamic=True)\n",
    "  prediction.predicted_mean\n",
    "\n",
    "  # Get confidence intervals of forecasts\n",
    "  predict_conf = prediction.conf_int()\n",
    "\n",
    "  return prediction, predict_conf, current_zip"
   ]
  },
  {
   "cell_type": "code",
   "execution_count": null,
   "metadata": {
    "id": "MI_nUjf6zcfK"
   },
   "outputs": [],
   "source": [
    "def forecast_visual(prediction,predict_conf, y, figsize=None):\n",
    "  \"\"\"\n",
    "  prediction-statsmodel object\n",
    "  predict_conf- pd Dataframe\n",
    "  \"\"\"\n",
    "  print(roi_df[roi_df['zipcode']== current_zip])\n",
    "  print('\\n')\n",
    "  # Plot future predictions with confidence intervals\n",
    "  fig,ax = plt.subplots(figsize=figsize)\n",
    "  ax = y.plot(label='Observed') #(10, 8))\n",
    "  prediction.predicted_mean.plot(ax=ax, label='Future Forecast')\n",
    "  ax.fill_between(predict_conf.index,\n",
    "                  predict_conf.iloc[:, 0],\n",
    "                  predict_conf.iloc[:, 1], color='k', alpha=0.25)\n",
    "  \n",
    "    #I added this and can delete  \n",
    "    #ax.axvline(prediction.predicted_mean.index[12])\n",
    "\n",
    "  label_font = {'weight':'bold','size':18}\n",
    "  ax.set_xlabel('Date',fontdict=label_font)\n",
    "  ax.set_ylabel('Home Prices',fontdict=label_font)\n",
    "  ax.set_title(f'Price Forecast for Zipcode: {y.name} /{steps} Months ',fontdict=label_font)\n",
    "\n",
    "  ax.legend(loc=\"upper left\")\n",
    "\n",
    "  return ax"
   ]
  },
  {
   "cell_type": "markdown",
   "metadata": {
    "id": "mo571ImXNkJl"
   },
   "source": [
    "### **Zipcode: 11223**\n",
    "Zipcode 11223 didn't rank in top 10 zipcodes for highest sales prices.  The average price is 553,853.962 and the highest price is 1,026,600.000.  The lowest price is 207,600.000.\n",
    "\n",
    "Zip code 11223 ranks in 1st place for ROI.  The ROI will be 63% on average.  If an investment is made for a return on the lower end the return will be 16%.  If an investment is made for a return on the upper end the return will be 110.3%.  That is quite a range as far as investments are concerned.  \n",
    "\n",
    "When forecasting we see that there is also quite a range in the confidence intervals.  There is definitely an upward trend in the forecasting.  This will take you into year 2021 and after.<br>\n",
    "It looks like a good investment if we rely solely on the ROI as a factor.  However, looking at forecasting we see that there is definitely potential to make and lose money over the long term. "
   ]
  },
  {
   "cell_type": "code",
   "execution_count": null,
   "metadata": {
    "id": "RHe5na7NNYfJ"
   },
   "outputs": [],
   "source": [
    "#prediction, predict_conf, current_zip =  forecast_function(output_df, current_zip=11210, steps=36)\n",
    "#df_test['Btime'].iloc[0]\n",
    "prediction, predict_conf, current_zip =  forecast_function(output_df, current_zip=roi_chart_1['zipcode'].iloc[0], steps=36)"
   ]
  },
  {
   "cell_type": "code",
   "execution_count": null,
   "metadata": {
    "id": "UDHvVgDl4280"
   },
   "outputs": [],
   "source": [
    "test_brk[roi_chart_1['zipcode'].iloc[0]].plot()"
   ]
  },
  {
   "cell_type": "code",
   "execution_count": null,
   "metadata": {
    "id": "IENiexVWDV7n"
   },
   "outputs": [],
   "source": [
    "zip_df[roi_chart_1['zipcode'].iloc[0]].describe()"
   ]
  },
  {
   "cell_type": "code",
   "execution_count": null,
   "metadata": {},
   "outputs": [],
   "source": [
    "zip_df[roi_chart_1['zipcode'].iloc[0]].describe().round(3)"
   ]
  },
  {
   "cell_type": "code",
   "execution_count": null,
   "metadata": {
    "id": "kEYnbn5D1JVA"
   },
   "outputs": [],
   "source": [
    "forecast_visual_zip = forecast_visual(prediction,predict_conf,test_brk[roi_chart_1['zipcode'].iloc[0]], figsize=(12,8))\n",
    "forecast_visual_zip"
   ]
  },
  {
   "cell_type": "code",
   "execution_count": null,
   "metadata": {},
   "outputs": [],
   "source": [
    "metric_function(test_brk, pred_type= prediction, zip= 11223)"
   ]
  },
  {
   "cell_type": "markdown",
   "metadata": {
    "id": "4vBDuU0xxm7L"
   },
   "source": [
    "### **Zipcode: 11210**\n",
    "Zipcode 11210 didn't rank in top 5 zipcodes for highest sales prices. The average price is 682,390.20 and the highest price is 819600.00. The lowest price is 561900.00.\n",
    "\n",
    "Zip code 11210 ranks in 2nd place for ROI. The ROI will be 0.60% on average. If an investment is made for a return on the lower end the return will be -370.7%. If an investment is made for a return on the upper end the return will be  489.905%. That is quite a range as far as investments are concerned. You can make alot of money but you can also lose a lot.\n",
    "\n",
    "When forecasting we see that there is also quite a range in the confidence intervals. There is a minor upward trend in the forecasting. This will take you into year 2021 and after.\n",
    "It looks like a good investment if we rely solely on the ROI as a factor.  The prediction looks like it is coming in above the average price.  However, looking at forecasting we see that the confidence intervals are so wide.  There is definitely potential to make and lose money over the long term."
   ]
  },
  {
   "cell_type": "code",
   "execution_count": null,
   "metadata": {},
   "outputs": [],
   "source": [
    "#zip_df[11210].describe().round(2)\n",
    "test_brk[11210].describe().round(2)"
   ]
  },
  {
   "cell_type": "code",
   "execution_count": null,
   "metadata": {
    "id": "WTrWMrB2PRMa"
   },
   "outputs": [],
   "source": [
    "prediction, predict_conf, current_zip =  forecast_function(output_df, current_zip=roi_chart_1['zipcode'].iloc[1],steps=36)"
   ]
  },
  {
   "cell_type": "code",
   "execution_count": null,
   "metadata": {
    "id": "cQiP3oLuepRY"
   },
   "outputs": [],
   "source": []
  },
  {
   "cell_type": "code",
   "execution_count": null,
   "metadata": {
    "id": "K5Hix1fpGfLF"
   },
   "outputs": [],
   "source": [
    "test_brk[roi_chart_1['zipcode'].iloc[1]].plot()"
   ]
  },
  {
   "cell_type": "code",
   "execution_count": null,
   "metadata": {
    "id": "8XiBQRYRxwDh"
   },
   "outputs": [],
   "source": [
    "forecast_visual_zip = forecast_visual(prediction,predict_conf,test_brk[roi_chart_1['zipcode'].iloc[1]], figsize=(12,8))\n",
    "forecast_visual_zip"
   ]
  },
  {
   "cell_type": "code",
   "execution_count": null,
   "metadata": {},
   "outputs": [],
   "source": [
    "metric_function(zip_df, pred_type= prediction, zip= 11210)"
   ]
  },
  {
   "cell_type": "markdown",
   "metadata": {
    "id": "UeHWN_hdWGzz"
   },
   "source": [
    "### **Zipcode: 11230**\n",
    "Zipcode 11230 didn't rank in top 5 zipcodes for highest sales prices. The average price is 644988.68  and the highest price is 1,195,400.00. The lowest price is 230,100.00.\n",
    "\n",
    "Zip code 11230 ranks in 3rd place for ROI. The ROI will be 46% on average. If an investment is made for a return on the lower end the return will be %12.0491%. If an investment is made for a return on the upper end the return will be  81.5069%. That is quite a range as far as investments are concerned. ROI is reporting positve results overall.\n",
    "\n",
    "When forecasting we see that there is also quite a range in the confidence intervals. There is quite an upward trend in the forecasting. This will take you into year 2021 and after.\n",
    "It looks like a good investment if we rely solely on the ROI as a factor.  The prediction looks like it is coming in above the average price.  However, looking at forecasting we see that the confidence intervals are so wide.  There is definitely potential to make and lose money over the long term."
   ]
  },
  {
   "cell_type": "code",
   "execution_count": null,
   "metadata": {},
   "outputs": [],
   "source": [
    "zip_df[11230].describe().round(2)"
   ]
  },
  {
   "cell_type": "code",
   "execution_count": null,
   "metadata": {
    "id": "JVOo_NLvOgur"
   },
   "outputs": [],
   "source": [
    "prediction, predict_conf, current_zip =  forecast_function(output_df, current_zip=roi_chart_1['zipcode'].iloc[2],steps=36)"
   ]
  },
  {
   "cell_type": "code",
   "execution_count": null,
   "metadata": {
    "id": "2MQSYku1fCnt"
   },
   "outputs": [],
   "source": [
    "test_brk[roi_chart_1['zipcode'].iloc[2]].describe().round(3)"
   ]
  },
  {
   "cell_type": "code",
   "execution_count": null,
   "metadata": {
    "id": "3jnMlG4pSCwC"
   },
   "outputs": [],
   "source": [
    "test_brk[roi_chart_1['zipcode'].iloc[2]].plot()"
   ]
  },
  {
   "cell_type": "code",
   "execution_count": null,
   "metadata": {
    "id": "LFU_H54wzNjQ"
   },
   "outputs": [],
   "source": [
    "forecast_visual_zip = forecast_visual(prediction,predict_conf,test_brk[roi_chart_1['zipcode'].iloc[2]], figsize=(12,8))\n",
    "forecast_visual_zip"
   ]
  },
  {
   "cell_type": "markdown",
   "metadata": {
    "id": "DrTx3pQBSs6k"
   },
   "source": [
    "### **Zipcode: 11224**\n",
    "Zipcode 11224 didn't rank in top 5 zipcodes for highest sales prices. The average price is 305,133.96 and the highest price is 517,900.00. The lowest price is 142,400.00.\n",
    "\n",
    "Zip code 11224 ranks in 4th place for ROI. The ROI will be 0.456% on average. If an investment is made for a return on the lower end the return will be  -57.4688%. If an investment is made for a return on the upper end the return will be 148.738%. That is quite a range as far as investments are concerned. ROI is reporting both negative and positve results overall.\n",
    "\n",
    "When forecasting we see that there is also quite a range in the confidence intervals. There is quite an upward trend in the forecasting. This will take you into year 2021 and after. It looks like a good investment if we rely solely on the ROI as a factor. The prediction looks like it is coming in above the steadily above the average price. However, looking at forecasting we see that the confidence intervals are so wide. There is definitely potential to make and lose money."
   ]
  },
  {
   "cell_type": "code",
   "execution_count": null,
   "metadata": {},
   "outputs": [],
   "source": [
    "zip_df[11224].describe().round(2)"
   ]
  },
  {
   "cell_type": "code",
   "execution_count": null,
   "metadata": {
    "id": "lwXaHQI8Shx1"
   },
   "outputs": [],
   "source": [
    "prediction, predict_conf, current_zip =  forecast_function(output_df, current_zip=roi_chart_1['zipcode'].iloc[3],steps=36)"
   ]
  },
  {
   "cell_type": "code",
   "execution_count": null,
   "metadata": {
    "id": "hf8IYy0bfWOO"
   },
   "outputs": [],
   "source": [
    "test_brk[11230].describe().round(3)"
   ]
  },
  {
   "cell_type": "code",
   "execution_count": null,
   "metadata": {
    "id": "PLoTjN18TMbH"
   },
   "outputs": [],
   "source": [
    "test_brk[roi_chart_1['zipcode'].iloc[3]].plot()"
   ]
  },
  {
   "cell_type": "code",
   "execution_count": null,
   "metadata": {
    "id": "3MEd2AyGSiMK"
   },
   "outputs": [],
   "source": [
    "forecast_visual_zip = forecast_visual(prediction,predict_conf,test_brk[roi_chart_1['zipcode'].iloc[3]], figsize=(12,8))\n",
    "forecast_visual_zip"
   ]
  },
  {
   "cell_type": "markdown",
   "metadata": {
    "id": "prGAdm_JUMxT"
   },
   "source": [
    "### **Zipcode: 11233**\n",
    "Zipcode 11233 didn't rank in top 5 zipcodes for highest sales prices. The average price is  363,811.321 and the highest price is 852,300.000. The lowest price is 124,500.00.\n",
    "\n",
    "Zip code 11233 ranks in 5th place for ROI. The ROI will be 42.67% on average. If an investment is made for a return on the lower end the return will be  5.3068%. If an investment is made for a return on the upper end the return will be 80.04%. That is quite a range as far as investments are concerned. ROI is reporting positve results overall.  It looks like a good investment if we rely solely on the ROI as a factor. \n",
    "\n",
    "When forecasting we see that there is also quite a range in the confidence intervals. There is quite an upward trend in the forecasting. This will take you into year 2021 and after. The prediction looks like it is coming in above the steadily above the average price. However, looking at forecasting we see that the confidence intervals are so wide. There is definitely potential to make and lose money."
   ]
  },
  {
   "cell_type": "code",
   "execution_count": null,
   "metadata": {},
   "outputs": [],
   "source": [
    "zip_df[11233].describe().round(3)"
   ]
  },
  {
   "cell_type": "code",
   "execution_count": null,
   "metadata": {
    "id": "Q-f6sZyHShhC"
   },
   "outputs": [],
   "source": [
    "prediction, predict_conf, current_zip =  forecast_function(output_df, current_zip=roi_chart_1['zipcode'].iloc[4],steps=36)"
   ]
  },
  {
   "cell_type": "code",
   "execution_count": null,
   "metadata": {
    "id": "rwefTf3VfmJR"
   },
   "outputs": [],
   "source": [
    "test_brk[roi_chart_1['zipcode'].iloc[4]].describe().round(3)"
   ]
  },
  {
   "cell_type": "code",
   "execution_count": null,
   "metadata": {
    "id": "wZJNOGZjUGGv"
   },
   "outputs": [],
   "source": [
    "test_brk[roi_chart_1['zipcode'].iloc[4]].plot()"
   ]
  },
  {
   "cell_type": "code",
   "execution_count": null,
   "metadata": {
    "id": "cK924y5iUFto"
   },
   "outputs": [],
   "source": [
    "\n",
    "forecast_visual_zip = forecast_visual(prediction,predict_conf,test_brk[roi_chart_1['zipcode'].iloc[4]], figsize=(12,8))\n",
    "forecast_visual_zip"
   ]
  },
  {
   "cell_type": "markdown",
   "metadata": {
    "id": "nK-iG68vnSYF"
   },
   "source": [
    "## ***Stationarity***"
   ]
  },
  {
   "cell_type": "markdown",
   "metadata": {
    "id": "1_eC0LxVbiVW"
   },
   "source": [
    "### **Zipcode: 11226**"
   ]
  },
  {
   "cell_type": "code",
   "execution_count": null,
   "metadata": {
    "id": "kiyoxXRrbiVa"
   },
   "outputs": [],
   "source": [
    "zip_df[11226].plot()"
   ]
  },
  {
   "cell_type": "code",
   "execution_count": null,
   "metadata": {
    "id": "Vs5jehRibiVc"
   },
   "outputs": [],
   "source": [
    "def test_stationarity_1(timeseries, window):\n",
    "    \n",
    "    #Defining rolling statistics\n",
    "    rolmean = timeseries.rolling(window=window).mean()\n",
    "    rolstd = timeseries.rolling(window=window).std()\n",
    "\n",
    "    #Plot rolling statistics:\n",
    "    fig = plt.figure(figsize=(12, 8))\n",
    "    orig = plt.plot(timeseries.iloc[window:], color='blue',label='Original')\n",
    "    mean = plt.plot(rolmean, color='red', label='Rolling Mean')\n",
    "    std = plt.plot(rolstd, color='black', label = 'Rolling Std')\n",
    "    plt.legend(loc='upper left')\n",
    "    plt.title('Rolling Mean & Standard Deviation')\n",
    "    plt.legend(bbox_to_anchor=(1.05,1),loc='upper left')\n",
    "    plt.show()\n",
    "    "
   ]
  },
  {
   "cell_type": "code",
   "execution_count": null,
   "metadata": {
    "id": "13wkO7v8biVl"
   },
   "outputs": [],
   "source": [
    "#Not mine\n",
    "\n",
    "def dickey_fuller_test_ind_zip(zip_code):\n",
    "    dftest = adfuller(zip_code)\n",
    "\n",
    "    # Extract and display test results in a user friendly manner\n",
    "    dfoutput = pd.Series(dftest[0:4], index=['Test Statistic','p-value','#Lags Used','Number of Observations Used'])\n",
    "    for key,value in dftest[4].items():\n",
    "        dfoutput['Critical Value (%s)'%key] = value\n",
    "    print(dftest)\n",
    "\n",
    "    print ('Results of Dickey-Fuller Test:')\n",
    "\n",
    "    return dfoutput"
   ]
  },
  {
   "cell_type": "code",
   "execution_count": null,
   "metadata": {
    "id": "qyVRzPIeDZ1g"
   },
   "outputs": [],
   "source": [
    "new_dic = {}\n",
    "for col in zip_df.columns:\n",
    "  zip_test = dickey_fuller_test_ind_zip(zip_df[col])\n",
    "  new_dic[col] = zip_test"
   ]
  },
  {
   "cell_type": "code",
   "execution_count": null,
   "metadata": {
    "id": "hBFqk98vDwwJ"
   },
   "outputs": [],
   "source": [
    "new_dic[11226]"
   ]
  },
  {
   "cell_type": "code",
   "execution_count": null,
   "metadata": {
    "id": "ziJemkmLbiVo"
   },
   "outputs": [],
   "source": [
    "\n",
    "def dickey_fuller_test_zipcodes(df):\n",
    "    for col in df.columns:\n",
    "        dftest = adfuller(df[col])\n",
    "        dfoutput = pd.Series(dftest[0:4], index=['Test Statistic','p-value','#Lags Used','Number of Observations Used'])\n",
    "        for key,value in dftest[4].items():\n",
    "            dfoutput['Critical Value (%s)'%key] = value\n",
    "        print ('Results of Dickey-Fuller Test:')\n",
    "        \n",
    "        print(dfoutput) \n",
    "        #print(dftest)\n",
    "        print ('\\n')         "
   ]
  },
  {
   "cell_type": "code",
   "execution_count": null,
   "metadata": {
    "id": "Qz6HY0rlbiVr"
   },
   "outputs": [],
   "source": [
    "dickey_fuller_test_zipcodes(zip_df)"
   ]
  },
  {
   "cell_type": "code",
   "execution_count": null,
   "metadata": {
    "id": "lB0sVoPSbiVw"
   },
   "outputs": [],
   "source": [
    "X_1 = zip_df.copy()"
   ]
  },
  {
   "cell_type": "code",
   "execution_count": null,
   "metadata": {
    "id": "ABPM-PSLbiWW"
   },
   "outputs": [],
   "source": [
    "def stationary_test(df):\n",
    "    rolling_mean = df.rolling(window=12).mean()\n",
    "    rolling_std = df.rolling(window=12).std()\n",
    "\n",
    "    plt.plot(df,color='blue',label='orignal')\n",
    "    plt.plot(rolling_mean, color='red',label='Rolling Mean')\n",
    "    plt.plot(rolling_std, color='green',label='Rolling STD')\n",
    "    plt.legend(loc='best')\n",
    "    plt.title('Rolling Mean and Rolling Standard Deviation')\n",
    "    #plt.show()\n",
    "    result = adfuller(df)\n",
    "    print('ADF statistic: {}'.format(result[0]))\n",
    "    print('p-value: {}'.format(result[1]))\n",
    "    print('Critical Values:')\n",
    "    for key, value in result[4].items():\n",
    "        print('\\t{} : {}'.format(key,value))\n",
    "        \n",
    "    names = ['Test Statistic','p-value','#Lags Used','# of Observations Used']\n",
    "    res  = dict(zip(names,result[:4]))\n",
    "    res['Stationary Results'] = res['p-value']<.05\n",
    "    \n",
    "    return pd.DataFrame(res,index=['AD Fuller Results'])    "
   ]
  },
  {
   "cell_type": "code",
   "execution_count": null,
   "metadata": {
    "id": "HqQ1UejybiWg"
   },
   "outputs": [],
   "source": [
    "stationary_test(zip_df[11226])"
   ]
  },
  {
   "cell_type": "markdown",
   "metadata": {
    "id": "nfGy_tMXbiWl"
   },
   "source": [
    "###  Zipcode:  11238"
   ]
  },
  {
   "cell_type": "code",
   "execution_count": null,
   "metadata": {
    "id": "H5_2LrbTbiWl"
   },
   "outputs": [],
   "source": [
    "#brooklyn_zips[11226]"
   ]
  },
  {
   "cell_type": "code",
   "execution_count": null,
   "metadata": {
    "id": "o1-rQeYebiWn"
   },
   "outputs": [],
   "source": [
    "#stationary_test(zip_df[11238])"
   ]
  },
  {
   "cell_type": "markdown",
   "metadata": {
    "id": "mEBu8mMMbiWr"
   },
   "source": [
    "### Zipcode:  11215"
   ]
  },
  {
   "cell_type": "code",
   "execution_count": null,
   "metadata": {
    "id": "RqmZzL9EbiWs"
   },
   "outputs": [],
   "source": [
    "stationary_test(zip_df[11226])"
   ]
  },
  {
   "cell_type": "markdown",
   "metadata": {
    "id": "lPfZPRqKbiWu"
   },
   "source": [
    "### Removing Trend\n",
    "#### Log-Transformation (np.log)"
   ]
  },
  {
   "cell_type": "code",
   "execution_count": null,
   "metadata": {
    "id": "zmRJNworbiWv"
   },
   "outputs": [],
   "source": [
    "## Log Transform\n",
    "ts3 = np.log(zip_df[11226])\n",
    "#ts3.plot()\n",
    "stationary_test(ts3)"
   ]
  },
  {
   "cell_type": "markdown",
   "metadata": {
    "id": "GNhy76XObiWz"
   },
   "source": [
    "#### Differencing"
   ]
  },
  {
   "cell_type": "code",
   "execution_count": null,
   "metadata": {
    "id": "tW2BO9YabiW0"
   },
   "outputs": [],
   "source": [
    "\"\"\"\n",
    "#subtracts the ts 1 step forward from itself. Good way of eliminting trend\n",
    "\n",
    "#below ts centered around 0\n",
    "#we achieved stationarity\n",
    "#eliminating day-to-day patterns\n",
    "\"\"\"\n",
    "ts0 = zip_df[11226].diff().dropna()\n",
    "#ts0.plot()\n",
    "\n",
    "stationary_test(ts0)"
   ]
  },
  {
   "cell_type": "markdown",
   "metadata": {
    "id": "997jzmLvbiW4"
   },
   "source": [
    "#### Subtract Rolling Mean "
   ]
  },
  {
   "cell_type": "code",
   "execution_count": null,
   "metadata": {
    "id": "SRxKzj3HbiW4"
   },
   "outputs": [],
   "source": [
    "## Subtract Rolling mean\n",
    "ts2 = (zip_df[11226] - zip_df[11226].rolling(3).mean()).dropna()\n",
    "#ts2.plot()\n",
    "stationary_test(ts2)"
   ]
  },
  {
   "cell_type": "markdown",
   "metadata": {
    "id": "exZwBt4pbiW7"
   },
   "source": [
    "#### Subtract Exponentially-Weighted Mean "
   ]
  },
  {
   "cell_type": "code",
   "execution_count": null,
   "metadata": {
    "id": "tmUDhjm9biW8"
   },
   "outputs": [],
   "source": [
    "## Subtract Exponentially Weight Mean Rolling mean\n",
    "ts4 = (zip_df[11226] - zip_df[11226].ewm(halflife=7).mean()).dropna()\n",
    "#ts4.plot()\n",
    "stationary_test(ts4)"
   ]
  },
  {
   "cell_type": "markdown",
   "metadata": {
    "id": "aCZ_c82dbiW_"
   },
   "source": [
    "#### Seasonal Decomposition "
   ]
  },
  {
   "cell_type": "code",
   "execution_count": null,
   "metadata": {
    "id": "leunRXJLbiW_"
   },
   "outputs": [],
   "source": [
    "from statsmodels.tsa.seasonal import seasonal_decompose\n",
    "decomp = seasonal_decompose(zip_df[11226])#,model='mul')\n",
    "decomp.plot();"
   ]
  },
  {
   "cell_type": "code",
   "execution_count": null,
   "metadata": {
    "id": "gkHCCnT2biXB"
   },
   "outputs": [],
   "source": [
    "## Get ADFuller Results for seasonal component\n",
    "stationary_test(decomp.seasonal)"
   ]
  },
  {
   "cell_type": "code",
   "execution_count": null,
   "metadata": {
    "id": "dZXqBfP1biXD"
   },
   "outputs": [],
   "source": [
    "## Get ADFuller Results for trend component\n",
    "stationary_test(decomp.trend.dropna())"
   ]
  },
  {
   "cell_type": "code",
   "execution_count": null,
   "metadata": {
    "id": "eMm09mYMbiXF"
   },
   "outputs": [],
   "source": [
    "## Get ADFuller Results for resid component\n",
    "stationary_test(decomp.resid.dropna())"
   ]
  },
  {
   "cell_type": "code",
   "execution_count": null,
   "metadata": {
    "id": "pCKduOGAbiXG"
   },
   "outputs": [],
   "source": [
    "decomp.resid.dropna()"
   ]
  },
  {
   "cell_type": "markdown",
   "metadata": {
    "id": "5z_0dUz3pHix"
   },
   "source": [
    "## **RNN**\n",
    "This section concerns using a Recurrent Nueral Network to forecast sale prices."
   ]
  },
  {
   "cell_type": "code",
   "execution_count": null,
   "metadata": {
    "id": "UcgF16-aC9HY"
   },
   "outputs": [],
   "source": [
    "df_rnn = zip_df[[11238]]"
   ]
  },
  {
   "cell_type": "code",
   "execution_count": null,
   "metadata": {
    "id": "EuApwYLOpNYi"
   },
   "outputs": [],
   "source": [
    "df_rnn.head()"
   ]
  },
  {
   "cell_type": "code",
   "execution_count": null,
   "metadata": {
    "id": "RldYgVvKpb2U"
   },
   "outputs": [],
   "source": [
    "df_rnn.plot()"
   ]
  },
  {
   "cell_type": "code",
   "execution_count": null,
   "metadata": {
    "id": "UICQH8rFpg_7"
   },
   "outputs": [],
   "source": [
    "len(df_rnn)"
   ]
  },
  {
   "cell_type": "code",
   "execution_count": null,
   "metadata": {
    "id": "k53J6wRSprSk"
   },
   "outputs": [],
   "source": [
    "265-12"
   ]
  },
  {
   "cell_type": "code",
   "execution_count": null,
   "metadata": {
    "id": "OzY_swDSpv9p"
   },
   "outputs": [],
   "source": [
    "\"\"\"\n",
    "x_train= x_train.reshape(-1, 1)\n",
    "y_train= y_train.reshape(-1, 1)\n",
    "x_test = x_test.reshape(-1, 1)\n",
    "\"\"\"\n",
    "train = df_rnn.iloc[:253]\n",
    "test = df_rnn.iloc[253:]\n",
    "#test = test.reshape(1, -1)\n",
    "#train= train.reshape(-1, 1)"
   ]
  },
  {
   "cell_type": "code",
   "execution_count": null,
   "metadata": {
    "id": "s-KkKABmsVwp"
   },
   "outputs": [],
   "source": [
    "test"
   ]
  },
  {
   "cell_type": "code",
   "execution_count": null,
   "metadata": {
    "id": "CdJPVZ5lp9Vk"
   },
   "outputs": [],
   "source": [
    "len(test)"
   ]
  },
  {
   "cell_type": "code",
   "execution_count": null,
   "metadata": {
    "id": "M6PLWCIvrYe5"
   },
   "outputs": [],
   "source": [
    "train.shape"
   ]
  },
  {
   "cell_type": "code",
   "execution_count": null,
   "metadata": {
    "id": "qOZKOfn3p_hb"
   },
   "outputs": [],
   "source": [
    "from sklearn.preprocessing import MinMaxScaler"
   ]
  },
  {
   "cell_type": "code",
   "execution_count": null,
   "metadata": {
    "id": "EY9a7CYLqK5v"
   },
   "outputs": [],
   "source": [
    "scaler = MinMaxScaler()\n",
    "scaler.fit(train)\n",
    "scaled_train = scaler.transform(train)\n",
    "scaled_test = scaler.transform(test)"
   ]
  },
  {
   "cell_type": "code",
   "execution_count": null,
   "metadata": {
    "id": "lVTsgQRqqN9E"
   },
   "outputs": [],
   "source": [
    "scaled_train"
   ]
  },
  {
   "cell_type": "code",
   "execution_count": null,
   "metadata": {
    "id": "1BqiRwzBtsyv"
   },
   "outputs": [],
   "source": [
    "from keras.preprocessing.sequence import TimeseriesGenerator"
   ]
  },
  {
   "cell_type": "code",
   "execution_count": null,
   "metadata": {
    "id": "lSgXoTnHtfv5"
   },
   "outputs": [],
   "source": [
    "n_input = 2\n",
    "n_features = 1 #smaller batch sizes lead to better training\n",
    "\n",
    "generator = TimeseriesGenerator(scaled_train, scaled_train, length=n_input, batch_size=1)"
   ]
  },
  {
   "cell_type": "code",
   "execution_count": null,
   "metadata": {
    "id": "XPb4lO6muERC"
   },
   "outputs": [],
   "source": [
    "scaled_train[:5]"
   ]
  },
  {
   "cell_type": "code",
   "execution_count": null,
   "metadata": {
    "id": "Rld4djT0uLxl"
   },
   "outputs": [],
   "source": [
    "len(scaled_train)"
   ]
  },
  {
   "cell_type": "code",
   "execution_count": null,
   "metadata": {
    "id": "CflS6hSStmxx"
   },
   "outputs": [],
   "source": [
    "\"\"\"\n",
    "\n",
    "253 - n_input(2)\n",
    "\n",
    "\"\"\"\n",
    "len(generator)"
   ]
  },
  {
   "cell_type": "code",
   "execution_count": null,
   "metadata": {
    "id": "ybi9O1Set5KZ"
   },
   "outputs": [],
   "source": [
    "# #create model and fit it to the generator object\n",
    "# from keras.models import Sequential\n",
    "# from keras.layers import Dense  #for final output later\n",
    "# from keras.layers import LSTM #long short term memory\n",
    "\n",
    "from tensorflow.keras.callbacks import EarlyStopping\n",
    "from tensorflow.keras.preprocessing.sequence import TimeseriesGenerator\n",
    "\n",
    "from tensorflow.keras import Sequential\n",
    "from tensorflow.keras.layers import Input, LSTM, Dense, Dropout, Activation, Flatten\n",
    "from tensorflow.keras.optimizers import Adam"
   ]
  },
  {
   "cell_type": "code",
   "execution_count": null,
   "metadata": {
    "id": "ctvwCzruugGf"
   },
   "outputs": [],
   "source": [
    "n_input = 12 #look at full year of data or 12 months before predicting 13th month\n",
    "n_features = 1 #smaller batch sizes lead to better training\n",
    "               #how many columns you have. WE have 1 column which is time stamp for y\n",
    "\n",
    "train_generator = TimeseriesGenerator(scaled_train, scaled_train, length=n_input, batch_size=1)"
   ]
  },
  {
   "cell_type": "code",
   "execution_count": null,
   "metadata": {
    "id": "RDdsdHC9ujNE"
   },
   "outputs": [],
   "source": [
    "\"\"\"\n",
    "model = Sequential()\n",
    "\n",
    "model.add(LSTM(150, activation='relu', input_shape=(n_input, n_features)))\n",
    "#need to aggregate all the neurons to sngle prediciton\n",
    "model.add(Dense(1)) #added single dense neuron which will directly output our prediction\n",
    "model.compile(optimizer='adam', loss='mse')\n",
    "\n",
    "\"\"\"\n",
    "model = Sequential()\n",
    "\n",
    "model.add(LSTM(150, activation='relu', input_shape=(n_input, n_features)))\n",
    "#need to aggregate all the neurons to sngle prediciton\n",
    "model.add(Dense(1)) #added single dense neuron which will directly output our prediction\n",
    "model.compile(optimizer='adam', loss='mse')"
   ]
  },
  {
   "cell_type": "code",
   "execution_count": null,
   "metadata": {
    "id": "_aOIy_gJumuu"
   },
   "outputs": [],
   "source": [
    "\"\"\"\n",
    "may want to play around w/number of neurons on LSTM layer\n",
    "\"\"\"\n",
    "model.summary()"
   ]
  },
  {
   "cell_type": "code",
   "execution_count": null,
   "metadata": {
    "id": "6uCWYAW-up-U"
   },
   "outputs": [],
   "source": [
    "\"\"\"\n",
    "fit tou our training generator\n",
    "more epochs you use hte longer it's going to take to train\n",
    "1 epoch is a single entire run through of training data\n",
    "\n",
    "We get significant reduciton over 1st couple of epochs then around 15 start seeing convergence\n",
    "\n",
    "\"\"\"\n",
    "model.fit_generator(train_generator, epochs=25)"
   ]
  },
  {
   "cell_type": "code",
   "execution_count": null,
   "metadata": {
    "id": "LMNR-bBZuuHw"
   },
   "outputs": [],
   "source": [
    "model.history.history.keys()"
   ]
  },
  {
   "cell_type": "code",
   "execution_count": null,
   "metadata": {
    "id": "15Sj6zlbu86t"
   },
   "outputs": [],
   "source": [
    "plt.plot(range(len(model.history.history['loss'])),model.history.history['loss']);"
   ]
  },
  {
   "cell_type": "code",
   "execution_count": null,
   "metadata": {
    "id": "W-xSv_-UvGe6"
   },
   "outputs": [],
   "source": [
    "\"\"\"\n",
    "evalute on the test data\n",
    "create an evlauation batch\n",
    "our network trains 1 step ahead\n",
    "\n",
    "our network is 12 network steps \n",
    "    then predict step 13\n",
    "    \n",
    "need last 12 points of training data inorder to predict pt. 1 of test data \n",
    "\n",
    "these are last 12 points of training set\n",
    "\"\"\"\n",
    "first_eval_batch = scaled_train[-12:]\n",
    "first_eval_batch"
   ]
  },
  {
   "cell_type": "code",
   "execution_count": null,
   "metadata": {
    "id": "vgCzkxazvHPl"
   },
   "outputs": [],
   "source": [
    "\"\"\"\n",
    "it now has 3 brackets at the top\n",
    "\"\"\"\n",
    "first_eval_batch = first_eval_batch.reshape((1,n_input,n_features))\n",
    "first_eval_batch"
   ]
  },
  {
   "cell_type": "code",
   "execution_count": null,
   "metadata": {
    "id": "88VY8RZGvLFj"
   },
   "outputs": [],
   "source": [
    "\"\"\"\n",
    "call model on first_eval_batch\n",
    "gives array prediciton\n",
    "means given these 12 points of training data it predicts taht below should be 1st point of test data set\n",
    "\"\"\"\n",
    "model.predict(first_eval_batch)"
   ]
  },
  {
   "cell_type": "code",
   "execution_count": null,
   "metadata": {
    "id": "ULYw3tlmvOZl"
   },
   "outputs": [],
   "source": [
    "scaled_test"
   ]
  },
  {
   "cell_type": "code",
   "execution_count": null,
   "metadata": {
    "id": "aDye7VyzvdkR"
   },
   "outputs": [],
   "source": [
    "\"\"\"\n",
    "not just predict 1st point in test set but the entire test set\n",
    "how to forecast into the future\n",
    "Forecast using RNN model\n",
    "\"\"\"\n",
    "#hold predicitons\n",
    "test_predictions = []\n",
    "#last n_input points from training set\n",
    "first_eval_batch = scaled_train[-n_input:] \n",
    "#reshape to format of RNN wants, (same format as Timeseriesgenerator \n",
    "current_batch = first_eval_batch.reshape((1,n_input,n_features))\n",
    "\n",
    "#hoe far into the futrue will I forecast: length of test set\n",
    "for i in range(len(test)):\n",
    "    #1time step ahead of historical 12 points\n",
    "    current_pred = model.predict(current_batch)[0] #0 is for formatting \n",
    "    test_predictions.append(current_pred)\n",
    "    \n",
    "    #update current batch to include prediciton\n",
    "    current_batch = np.append(current_batch[:,1:,:],[[current_pred]],axis=1)"
   ]
  },
  {
   "cell_type": "code",
   "execution_count": null,
   "metadata": {
    "id": "rUu1zNLavhjj"
   },
   "outputs": [],
   "source": [
    "test_predictions"
   ]
  },
  {
   "cell_type": "code",
   "execution_count": null,
   "metadata": {
    "id": "XYFfcaWUvlAB"
   },
   "outputs": [],
   "source": [
    "true_predictions = scaler.inverse_transform(test_predictions)\n",
    "true_predictions"
   ]
  },
  {
   "cell_type": "code",
   "execution_count": null,
   "metadata": {
    "id": "jmXWtLZJvnp3"
   },
   "outputs": [],
   "source": [
    "test['Predictions'] = true_predictions"
   ]
  },
  {
   "cell_type": "code",
   "execution_count": null,
   "metadata": {
    "id": "pZDdkE08vrEV"
   },
   "outputs": [],
   "source": [
    "test"
   ]
  },
  {
   "cell_type": "markdown",
   "metadata": {
    "id": "l01ERN_JJM48"
   },
   "source": [
    "### **RNN Plot / Sales v Predicted Values**"
   ]
  },
  {
   "cell_type": "code",
   "execution_count": null,
   "metadata": {
    "id": "vZrCDEbsvr-G"
   },
   "outputs": [],
   "source": [
    "\"\"\"\n",
    "sales v predicted values\n",
    "\"\"\"\n",
    "test.plot(figsize=(12,5));"
   ]
  },
  {
   "cell_type": "markdown",
   "metadata": {
    "id": "qYpolS-z3v7q"
   },
   "source": [
    "### **Findings and Recommendations**"
   ]
  },
  {
   "cell_type": "markdown",
   "metadata": {},
   "source": [
    "#### ARIMA Models"
   ]
  },
  {
   "cell_type": "code",
   "execution_count": null,
   "metadata": {},
   "outputs": [],
   "source": [
    "data = {\n",
    "        'One-Step':        [10698.27, 28288.15],\n",
    "        'Dynamic':         [3724.22,14900.00],\n",
    "        'Forecasting':     [10607.48,28090.92]}\n",
    "\n",
    "df_rmse = pd.DataFrame(data, index =['11218',\n",
    "                                '11217'])\n",
    "df_rmse"
   ]
  },
  {
   "cell_type": "markdown",
   "metadata": {},
   "source": [
    "I created ARIMA models to forecast sale prices of properties located in Brooklyn, NY.  I used the auto arima class as a grid search to determine the best p,d,q values and asssociated lowest AIC score for each zipcode.  I used two zip codes to see how ARIMA models performed with this data in forecasting. I used One-Step-Ahead Forecasting, Dynamic Forecasting and Out-of-sample Forecasts.  I evaluated  how the ARIMA models performed with the RMSE metric zipcodes 11218 and 11217.  \n",
    "\n",
    "Overall the models performed really well.  For zip code 11218 the average price was 590,361.51.  One-Step-Ahead forecast, the model was off 10,698.27 when making predictions.  Dynamic Forecasting, the model was off 3,724.22.  "
   ]
  },
  {
   "cell_type": "markdown",
   "metadata": {},
   "source": [
    "#### ROIs"
   ]
  },
  {
   "cell_type": "code",
   "execution_count": null,
   "metadata": {},
   "outputs": [],
   "source": [
    "data = {\n",
    "        'ROI':         [0.63,0.60,0.47,0.46,0.43],\n",
    "        'LOW':         [0.1624,-3.7076,0.12049,0.5746,0.05306],\n",
    "        'High':         [1.103,4.89905,0.815069,1.487380,0.800404]}\n",
    "\n",
    "df_roi = pd.DataFrame(data, index =['11223',\n",
    "                                '11210',\n",
    "                                '11230',\n",
    "                                '11224',\n",
    "                                '11233'])\n",
    "df_roi"
   ]
  },
  {
   "cell_type": "markdown",
   "metadata": {},
   "source": [
    "Above are the Brooklyn zipcodes with the Top 5 ROIs.  What\\'s interesting is that none of the top 5 zipcodes with the highest ROIs were in the top 5 zip codes with the highest \n",
    "sales prices.  For example, zipcode 11223 had the highest ROI of 63%.  On the low side 11223 had an ROI of 16% and on the high side \n",
    "an ROI of 110.3%.  The ROI was in the positive which is important.  Only zipcode 11210 reported a negative ROI on the low side.<br>\n",
    "\n",
    "The zipcode 11217, had the reported highest sale price but only ranked in the middle of  ROI chart \tof 26.1374%\twith low of 14.8246% and high  37.4503% which is still pretty good. \n",
    "\n",
    "I recommend investing in the top zip codes because the ROI calculations are reporting positive returns either on the low end or the high end. "
   ]
  },
  {
   "cell_type": "code",
   "execution_count": null,
   "metadata": {},
   "outputs": [],
   "source": []
  },
  {
   "cell_type": "code",
   "execution_count": null,
   "metadata": {},
   "outputs": [],
   "source": []
  }
 ],
 "metadata": {
  "accelerator": "GPU",
  "colab": {
   "collapsed_sections": [],
   "name": "ts_model_notebook-12-17-20.ipynb",
   "provenance": [],
   "toc_visible": true
  },
  "kernelspec": {
   "display_name": "Python [conda env:learn-env] *",
   "language": "python",
   "name": "conda-env-learn-env-py"
  },
  "language_info": {
   "codemirror_mode": {
    "name": "ipython",
    "version": 3
   },
   "file_extension": ".py",
   "mimetype": "text/x-python",
   "name": "python",
   "nbconvert_exporter": "python",
   "pygments_lexer": "ipython3",
   "version": "3.6.9"
  },
  "toc": {
   "base_numbering": 1,
   "nav_menu": {},
   "number_sections": true,
   "sideBar": true,
   "skip_h1_title": false,
   "title_cell": "Table of Contents",
   "title_sidebar": "Contents",
   "toc_cell": false,
   "toc_position": {
    "height": "calc(100% - 180px)",
    "left": "10px",
    "top": "150px",
    "width": "304.391px"
   },
   "toc_section_display": true,
   "toc_window_display": true
  }
 },
 "nbformat": 4,
 "nbformat_minor": 1
}
