{
 "cells": [
  {
   "cell_type": "markdown",
   "metadata": {
    "id": "cQYuKwNMN4B-"
   },
   "source": [
    "By:  David R. Torres<br>\n",
    "Flatiron School<br>\n",
    "Github repo: https://github.com/davidrtorres/dsc-mod-4-project-v2-1-onl01-dtsc-pt-041320/tree/master"
   ]
  },
  {
   "cell_type": "markdown",
   "metadata": {
    "id": "CJtzem1QCZLa"
   },
   "source": [
    "# **Using an ARIMA Model for Time Series Forecasting**"
   ]
  },
  {
   "cell_type": "markdown",
   "metadata": {
    "id": "M3f3mRul-rQB"
   },
   "source": [
    "### **Introduction**\n",
    "Business Problem: I am a consultant for Premium Real Estate, LLC.  The firm asked me to provide analysis and recommendations for investing in real estate in the top 5 zipcodes in Brooklyn that will provide the highest return on investment.  The investment firm is looking for short-term investments with the highest returns over a 3 year period.  The investment firm isn't looking for long term investments.<br>\n",
    "<br>\n",
    "I will make recommendations based on the real estate prices in Brooklyn. The top 5 zipcodes or 'best' zipcodes will be those with the highest ROI over the 3 year period.<br>\n",
    "<br>\n",
    "For the task, I analyzed real estate sales data from Zillow which covers time period 4-1-1996 to 4-1-2018.<br>\n",
    "I used an auto_arima model to conduct a gridsearch and find the lowest AIC scores and corresponding p,d,qs and Seasonal P,D,Qs.  I used a SARIMA model to make predictions regarding the test data so I could get an idea of how my models were working with making predictions.  I used RMSE to evaluate how my models were performing.  I then made models to perform dynamic forecasts for 3 years.<br>\n"
   ]
  },
  {
   "cell_type": "code",
   "execution_count": 1,
   "metadata": {
    "colab": {
     "base_uri": "https://localhost:8080/"
    },
    "id": "0Hrqf3EGbiTQ",
    "outputId": "cd270874-e52c-4c29-8a8b-d3ad0f315724"
   },
   "outputs": [
    {
     "name": "stdout",
     "output_type": "stream",
     "text": [
      "Notebook 12-18-20\n"
     ]
    }
   ],
   "source": [
    "print('Notebook 12-18-20')\n",
    "import pandas as pd\n",
    "import numpy as np\n",
    "import matplotlib.pyplot as plt\n",
    "%matplotlib inline\n",
    "\n",
    "from statsmodels.tsa.stattools import adfuller\n",
    "\n",
    "import warnings\n",
    "warnings.filterwarnings('ignore')\n",
    "import itertools\n",
    "import statsmodels.api as sm\n",
    "\n",
    "#from matplotlib.pylab import rcParams"
   ]
  },
  {
   "cell_type": "code",
   "execution_count": 2,
   "metadata": {},
   "outputs": [],
   "source": [
    "#pip install PyDrive"
   ]
  },
  {
   "cell_type": "code",
   "execution_count": 3,
   "metadata": {
    "id": "c4jPr_sabxSU"
   },
   "outputs": [],
   "source": [
    "from pydrive.auth import GoogleAuth\n",
    "from pydrive.drive import GoogleDrive\n",
    "#from google.colab import auth\n",
    "from oauth2client.client import GoogleCredentials"
   ]
  },
  {
   "cell_type": "code",
   "execution_count": 4,
   "metadata": {
    "id": "fDmQP-f7biTV"
   },
   "outputs": [],
   "source": [
    "# from google.colab import drive\n",
    "# drive.mount('/content/gdrive')"
   ]
  },
  {
   "cell_type": "code",
   "execution_count": 5,
   "metadata": {
    "id": "4jpCp8ADcCT3"
   },
   "outputs": [],
   "source": [
    "#zillow = pd.read_csv('/content/gdrive/My Drive/data/zillow_data.csv') \n",
    "zillow = pd.read_csv('https://raw.githubusercontent.com/learn-co-students/dsc-mod-4-project-v2-1-onl01-dtsc-ft-070620/master/time-series/zillow_data.csv')"
   ]
  },
  {
   "cell_type": "code",
   "execution_count": 6,
   "metadata": {
    "colab": {
     "base_uri": "https://localhost:8080/",
     "height": 304
    },
    "id": "jII7ir55biTZ",
    "outputId": "6140ac7b-a8ac-4bc4-b3f7-d90b15bb7f94"
   },
   "outputs": [
    {
     "data": {
      "text/html": [
       "<div>\n",
       "<style scoped>\n",
       "    .dataframe tbody tr th:only-of-type {\n",
       "        vertical-align: middle;\n",
       "    }\n",
       "\n",
       "    .dataframe tbody tr th {\n",
       "        vertical-align: top;\n",
       "    }\n",
       "\n",
       "    .dataframe thead th {\n",
       "        text-align: right;\n",
       "    }\n",
       "</style>\n",
       "<table border=\"1\" class=\"dataframe\">\n",
       "  <thead>\n",
       "    <tr style=\"text-align: right;\">\n",
       "      <th></th>\n",
       "      <th>RegionID</th>\n",
       "      <th>Zipcode</th>\n",
       "      <th>City</th>\n",
       "      <th>State</th>\n",
       "      <th>Metro</th>\n",
       "      <th>CountyName</th>\n",
       "      <th>SizeRank</th>\n",
       "      <th>1996-04</th>\n",
       "      <th>1996-05</th>\n",
       "      <th>1996-06</th>\n",
       "      <th>...</th>\n",
       "      <th>2017-07</th>\n",
       "      <th>2017-08</th>\n",
       "      <th>2017-09</th>\n",
       "      <th>2017-10</th>\n",
       "      <th>2017-11</th>\n",
       "      <th>2017-12</th>\n",
       "      <th>2018-01</th>\n",
       "      <th>2018-02</th>\n",
       "      <th>2018-03</th>\n",
       "      <th>2018-04</th>\n",
       "    </tr>\n",
       "  </thead>\n",
       "  <tbody>\n",
       "    <tr>\n",
       "      <th>0</th>\n",
       "      <td>84654</td>\n",
       "      <td>60657</td>\n",
       "      <td>Chicago</td>\n",
       "      <td>IL</td>\n",
       "      <td>Chicago</td>\n",
       "      <td>Cook</td>\n",
       "      <td>1</td>\n",
       "      <td>334200.0</td>\n",
       "      <td>335400.0</td>\n",
       "      <td>336500.0</td>\n",
       "      <td>...</td>\n",
       "      <td>1005500</td>\n",
       "      <td>1007500</td>\n",
       "      <td>1007800</td>\n",
       "      <td>1009600</td>\n",
       "      <td>1013300</td>\n",
       "      <td>1018700</td>\n",
       "      <td>1024400</td>\n",
       "      <td>1030700</td>\n",
       "      <td>1033800</td>\n",
       "      <td>1030600</td>\n",
       "    </tr>\n",
       "    <tr>\n",
       "      <th>1</th>\n",
       "      <td>90668</td>\n",
       "      <td>75070</td>\n",
       "      <td>McKinney</td>\n",
       "      <td>TX</td>\n",
       "      <td>Dallas-Fort Worth</td>\n",
       "      <td>Collin</td>\n",
       "      <td>2</td>\n",
       "      <td>235700.0</td>\n",
       "      <td>236900.0</td>\n",
       "      <td>236700.0</td>\n",
       "      <td>...</td>\n",
       "      <td>308000</td>\n",
       "      <td>310000</td>\n",
       "      <td>312500</td>\n",
       "      <td>314100</td>\n",
       "      <td>315000</td>\n",
       "      <td>316600</td>\n",
       "      <td>318100</td>\n",
       "      <td>319600</td>\n",
       "      <td>321100</td>\n",
       "      <td>321800</td>\n",
       "    </tr>\n",
       "    <tr>\n",
       "      <th>2</th>\n",
       "      <td>91982</td>\n",
       "      <td>77494</td>\n",
       "      <td>Katy</td>\n",
       "      <td>TX</td>\n",
       "      <td>Houston</td>\n",
       "      <td>Harris</td>\n",
       "      <td>3</td>\n",
       "      <td>210400.0</td>\n",
       "      <td>212200.0</td>\n",
       "      <td>212200.0</td>\n",
       "      <td>...</td>\n",
       "      <td>321000</td>\n",
       "      <td>320600</td>\n",
       "      <td>320200</td>\n",
       "      <td>320400</td>\n",
       "      <td>320800</td>\n",
       "      <td>321200</td>\n",
       "      <td>321200</td>\n",
       "      <td>323000</td>\n",
       "      <td>326900</td>\n",
       "      <td>329900</td>\n",
       "    </tr>\n",
       "    <tr>\n",
       "      <th>3</th>\n",
       "      <td>84616</td>\n",
       "      <td>60614</td>\n",
       "      <td>Chicago</td>\n",
       "      <td>IL</td>\n",
       "      <td>Chicago</td>\n",
       "      <td>Cook</td>\n",
       "      <td>4</td>\n",
       "      <td>498100.0</td>\n",
       "      <td>500900.0</td>\n",
       "      <td>503100.0</td>\n",
       "      <td>...</td>\n",
       "      <td>1289800</td>\n",
       "      <td>1287700</td>\n",
       "      <td>1287400</td>\n",
       "      <td>1291500</td>\n",
       "      <td>1296600</td>\n",
       "      <td>1299000</td>\n",
       "      <td>1302700</td>\n",
       "      <td>1306400</td>\n",
       "      <td>1308500</td>\n",
       "      <td>1307000</td>\n",
       "    </tr>\n",
       "    <tr>\n",
       "      <th>4</th>\n",
       "      <td>93144</td>\n",
       "      <td>79936</td>\n",
       "      <td>El Paso</td>\n",
       "      <td>TX</td>\n",
       "      <td>El Paso</td>\n",
       "      <td>El Paso</td>\n",
       "      <td>5</td>\n",
       "      <td>77300.0</td>\n",
       "      <td>77300.0</td>\n",
       "      <td>77300.0</td>\n",
       "      <td>...</td>\n",
       "      <td>119100</td>\n",
       "      <td>119400</td>\n",
       "      <td>120000</td>\n",
       "      <td>120300</td>\n",
       "      <td>120300</td>\n",
       "      <td>120300</td>\n",
       "      <td>120300</td>\n",
       "      <td>120500</td>\n",
       "      <td>121000</td>\n",
       "      <td>121500</td>\n",
       "    </tr>\n",
       "  </tbody>\n",
       "</table>\n",
       "<p>5 rows × 272 columns</p>\n",
       "</div>"
      ],
      "text/plain": [
       "   RegionID  Zipcode      City State              Metro CountyName  SizeRank  \\\n",
       "0     84654    60657   Chicago    IL            Chicago       Cook         1   \n",
       "1     90668    75070  McKinney    TX  Dallas-Fort Worth     Collin         2   \n",
       "2     91982    77494      Katy    TX            Houston     Harris         3   \n",
       "3     84616    60614   Chicago    IL            Chicago       Cook         4   \n",
       "4     93144    79936   El Paso    TX            El Paso    El Paso         5   \n",
       "\n",
       "    1996-04   1996-05   1996-06  ...  2017-07  2017-08  2017-09  2017-10  \\\n",
       "0  334200.0  335400.0  336500.0  ...  1005500  1007500  1007800  1009600   \n",
       "1  235700.0  236900.0  236700.0  ...   308000   310000   312500   314100   \n",
       "2  210400.0  212200.0  212200.0  ...   321000   320600   320200   320400   \n",
       "3  498100.0  500900.0  503100.0  ...  1289800  1287700  1287400  1291500   \n",
       "4   77300.0   77300.0   77300.0  ...   119100   119400   120000   120300   \n",
       "\n",
       "   2017-11  2017-12  2018-01  2018-02  2018-03  2018-04  \n",
       "0  1013300  1018700  1024400  1030700  1033800  1030600  \n",
       "1   315000   316600   318100   319600   321100   321800  \n",
       "2   320800   321200   321200   323000   326900   329900  \n",
       "3  1296600  1299000  1302700  1306400  1308500  1307000  \n",
       "4   120300   120300   120300   120500   121000   121500  \n",
       "\n",
       "[5 rows x 272 columns]"
      ]
     },
     "execution_count": 6,
     "metadata": {},
     "output_type": "execute_result"
    }
   ],
   "source": [
    "zillow.rename(columns={'RegionName': 'Zipcode'}, inplace=True)\n",
    "zillow.head()"
   ]
  },
  {
   "cell_type": "markdown",
   "metadata": {
    "id": "vW2YFMRwxE_f"
   },
   "source": [
    "### Melted Data Function"
   ]
  },
  {
   "cell_type": "code",
   "execution_count": 7,
   "metadata": {
    "id": "YKnocApwbiTd"
   },
   "outputs": [],
   "source": [
    "def melt_data(df):\n",
    "    \"\"\"\n",
    "    df - is the dataframe\n",
    "    This is a time series so I need a column for dates to become the index.\n",
    "    melt.() function sets up dataframe to to do this.  \n",
    "    \"\"\"\n",
    "    melted = pd.melt(df, id_vars=['RegionID','Zipcode', 'City', 'State', 'Metro', 'CountyName', \n",
    "                                  'SizeRank'], var_name='Month', value_name='MeanValue')\n",
    "    melted['Month'] = pd.to_datetime(melted['Month'], format='%Y-%m')\n",
    "    #melted = melted.set_index('Month')\n",
    "    melted = melted.dropna(subset=['MeanValue'])\n",
    "    return melted"
   ]
  },
  {
   "cell_type": "code",
   "execution_count": 8,
   "metadata": {
    "id": "ZNb6xx_sbiTg"
   },
   "outputs": [],
   "source": [
    "all_zipcodes = melt_data(zillow)"
   ]
  },
  {
   "cell_type": "code",
   "execution_count": 9,
   "metadata": {
    "colab": {
     "base_uri": "https://localhost:8080/"
    },
    "id": "HNJOEqCPbiTj",
    "outputId": "8e346e0c-d050-435a-c5b2-f69dd85fc46f"
   },
   "outputs": [
    {
     "data": {
      "text/plain": [
       "Index(['RegionID', 'Zipcode', 'City', 'State', 'Metro', 'CountyName',\n",
       "       'SizeRank', 'Month', 'MeanValue'],\n",
       "      dtype='object')"
      ]
     },
     "execution_count": 9,
     "metadata": {},
     "output_type": "execute_result"
    }
   ],
   "source": [
    "all_zipcodes.columns"
   ]
  },
  {
   "cell_type": "code",
   "execution_count": 10,
   "metadata": {
    "colab": {
     "base_uri": "https://localhost:8080/",
     "height": 359
    },
    "id": "WSfg2hYlbiTn",
    "outputId": "adfeddcc-409e-4f49-8292-0989a48a2703",
    "scrolled": true
   },
   "outputs": [
    {
     "data": {
      "text/html": [
       "<div>\n",
       "<style scoped>\n",
       "    .dataframe tbody tr th:only-of-type {\n",
       "        vertical-align: middle;\n",
       "    }\n",
       "\n",
       "    .dataframe tbody tr th {\n",
       "        vertical-align: top;\n",
       "    }\n",
       "\n",
       "    .dataframe thead th {\n",
       "        text-align: right;\n",
       "    }\n",
       "</style>\n",
       "<table border=\"1\" class=\"dataframe\">\n",
       "  <thead>\n",
       "    <tr style=\"text-align: right;\">\n",
       "      <th></th>\n",
       "      <th>RegionID</th>\n",
       "      <th>Zipcode</th>\n",
       "      <th>City</th>\n",
       "      <th>State</th>\n",
       "      <th>Metro</th>\n",
       "      <th>CountyName</th>\n",
       "      <th>SizeRank</th>\n",
       "      <th>Month</th>\n",
       "      <th>MeanValue</th>\n",
       "    </tr>\n",
       "  </thead>\n",
       "  <tbody>\n",
       "    <tr>\n",
       "      <th>0</th>\n",
       "      <td>84654</td>\n",
       "      <td>60657</td>\n",
       "      <td>Chicago</td>\n",
       "      <td>IL</td>\n",
       "      <td>Chicago</td>\n",
       "      <td>Cook</td>\n",
       "      <td>1</td>\n",
       "      <td>1996-04-01</td>\n",
       "      <td>334200.0</td>\n",
       "    </tr>\n",
       "    <tr>\n",
       "      <th>1</th>\n",
       "      <td>90668</td>\n",
       "      <td>75070</td>\n",
       "      <td>McKinney</td>\n",
       "      <td>TX</td>\n",
       "      <td>Dallas-Fort Worth</td>\n",
       "      <td>Collin</td>\n",
       "      <td>2</td>\n",
       "      <td>1996-04-01</td>\n",
       "      <td>235700.0</td>\n",
       "    </tr>\n",
       "    <tr>\n",
       "      <th>2</th>\n",
       "      <td>91982</td>\n",
       "      <td>77494</td>\n",
       "      <td>Katy</td>\n",
       "      <td>TX</td>\n",
       "      <td>Houston</td>\n",
       "      <td>Harris</td>\n",
       "      <td>3</td>\n",
       "      <td>1996-04-01</td>\n",
       "      <td>210400.0</td>\n",
       "    </tr>\n",
       "    <tr>\n",
       "      <th>3</th>\n",
       "      <td>84616</td>\n",
       "      <td>60614</td>\n",
       "      <td>Chicago</td>\n",
       "      <td>IL</td>\n",
       "      <td>Chicago</td>\n",
       "      <td>Cook</td>\n",
       "      <td>4</td>\n",
       "      <td>1996-04-01</td>\n",
       "      <td>498100.0</td>\n",
       "    </tr>\n",
       "    <tr>\n",
       "      <th>4</th>\n",
       "      <td>93144</td>\n",
       "      <td>79936</td>\n",
       "      <td>El Paso</td>\n",
       "      <td>TX</td>\n",
       "      <td>El Paso</td>\n",
       "      <td>El Paso</td>\n",
       "      <td>5</td>\n",
       "      <td>1996-04-01</td>\n",
       "      <td>77300.0</td>\n",
       "    </tr>\n",
       "    <tr>\n",
       "      <th>5</th>\n",
       "      <td>91733</td>\n",
       "      <td>77084</td>\n",
       "      <td>Houston</td>\n",
       "      <td>TX</td>\n",
       "      <td>Houston</td>\n",
       "      <td>Harris</td>\n",
       "      <td>6</td>\n",
       "      <td>1996-04-01</td>\n",
       "      <td>95000.0</td>\n",
       "    </tr>\n",
       "    <tr>\n",
       "      <th>6</th>\n",
       "      <td>61807</td>\n",
       "      <td>10467</td>\n",
       "      <td>New York</td>\n",
       "      <td>NY</td>\n",
       "      <td>New York</td>\n",
       "      <td>Bronx</td>\n",
       "      <td>7</td>\n",
       "      <td>1996-04-01</td>\n",
       "      <td>152900.0</td>\n",
       "    </tr>\n",
       "    <tr>\n",
       "      <th>7</th>\n",
       "      <td>84640</td>\n",
       "      <td>60640</td>\n",
       "      <td>Chicago</td>\n",
       "      <td>IL</td>\n",
       "      <td>Chicago</td>\n",
       "      <td>Cook</td>\n",
       "      <td>8</td>\n",
       "      <td>1996-04-01</td>\n",
       "      <td>216500.0</td>\n",
       "    </tr>\n",
       "    <tr>\n",
       "      <th>8</th>\n",
       "      <td>91940</td>\n",
       "      <td>77449</td>\n",
       "      <td>Katy</td>\n",
       "      <td>TX</td>\n",
       "      <td>Houston</td>\n",
       "      <td>Harris</td>\n",
       "      <td>9</td>\n",
       "      <td>1996-04-01</td>\n",
       "      <td>95400.0</td>\n",
       "    </tr>\n",
       "    <tr>\n",
       "      <th>9</th>\n",
       "      <td>97564</td>\n",
       "      <td>94109</td>\n",
       "      <td>San Francisco</td>\n",
       "      <td>CA</td>\n",
       "      <td>San Francisco</td>\n",
       "      <td>San Francisco</td>\n",
       "      <td>10</td>\n",
       "      <td>1996-04-01</td>\n",
       "      <td>766000.0</td>\n",
       "    </tr>\n",
       "  </tbody>\n",
       "</table>\n",
       "</div>"
      ],
      "text/plain": [
       "   RegionID  Zipcode           City State              Metro     CountyName  \\\n",
       "0     84654    60657        Chicago    IL            Chicago           Cook   \n",
       "1     90668    75070       McKinney    TX  Dallas-Fort Worth         Collin   \n",
       "2     91982    77494           Katy    TX            Houston         Harris   \n",
       "3     84616    60614        Chicago    IL            Chicago           Cook   \n",
       "4     93144    79936        El Paso    TX            El Paso        El Paso   \n",
       "5     91733    77084        Houston    TX            Houston         Harris   \n",
       "6     61807    10467       New York    NY           New York          Bronx   \n",
       "7     84640    60640        Chicago    IL            Chicago           Cook   \n",
       "8     91940    77449           Katy    TX            Houston         Harris   \n",
       "9     97564    94109  San Francisco    CA      San Francisco  San Francisco   \n",
       "\n",
       "   SizeRank      Month  MeanValue  \n",
       "0         1 1996-04-01   334200.0  \n",
       "1         2 1996-04-01   235700.0  \n",
       "2         3 1996-04-01   210400.0  \n",
       "3         4 1996-04-01   498100.0  \n",
       "4         5 1996-04-01    77300.0  \n",
       "5         6 1996-04-01    95000.0  \n",
       "6         7 1996-04-01   152900.0  \n",
       "7         8 1996-04-01   216500.0  \n",
       "8         9 1996-04-01    95400.0  \n",
       "9        10 1996-04-01   766000.0  "
      ]
     },
     "execution_count": 10,
     "metadata": {},
     "output_type": "execute_result"
    }
   ],
   "source": [
    "all_zipcodes.head(10)"
   ]
  },
  {
   "cell_type": "code",
   "execution_count": 11,
   "metadata": {
    "colab": {
     "base_uri": "https://localhost:8080/",
     "height": 419
    },
    "id": "W-nMbgDpbiTr",
    "outputId": "7ce379a7-f1ee-416d-9979-7ef04a05da0b"
   },
   "outputs": [
    {
     "data": {
      "text/html": [
       "<div>\n",
       "<style scoped>\n",
       "    .dataframe tbody tr th:only-of-type {\n",
       "        vertical-align: middle;\n",
       "    }\n",
       "\n",
       "    .dataframe tbody tr th {\n",
       "        vertical-align: top;\n",
       "    }\n",
       "\n",
       "    .dataframe thead th {\n",
       "        text-align: right;\n",
       "    }\n",
       "</style>\n",
       "<table border=\"1\" class=\"dataframe\">\n",
       "  <thead>\n",
       "    <tr style=\"text-align: right;\">\n",
       "      <th></th>\n",
       "      <th>RegionID</th>\n",
       "      <th>Zipcode</th>\n",
       "      <th>City</th>\n",
       "      <th>State</th>\n",
       "      <th>Metro</th>\n",
       "      <th>CountyName</th>\n",
       "      <th>SizeRank</th>\n",
       "      <th>Month</th>\n",
       "      <th>MeanValue</th>\n",
       "    </tr>\n",
       "  </thead>\n",
       "  <tbody>\n",
       "    <tr>\n",
       "      <th>10</th>\n",
       "      <td>62037</td>\n",
       "      <td>11226</td>\n",
       "      <td>New York</td>\n",
       "      <td>NY</td>\n",
       "      <td>New York</td>\n",
       "      <td>Kings</td>\n",
       "      <td>11</td>\n",
       "      <td>1996-04-01</td>\n",
       "      <td>162000.0</td>\n",
       "    </tr>\n",
       "    <tr>\n",
       "      <th>13</th>\n",
       "      <td>62045</td>\n",
       "      <td>11235</td>\n",
       "      <td>New York</td>\n",
       "      <td>NY</td>\n",
       "      <td>New York</td>\n",
       "      <td>Kings</td>\n",
       "      <td>14</td>\n",
       "      <td>1996-04-01</td>\n",
       "      <td>190500.0</td>\n",
       "    </tr>\n",
       "    <tr>\n",
       "      <th>47</th>\n",
       "      <td>62040</td>\n",
       "      <td>11230</td>\n",
       "      <td>New York</td>\n",
       "      <td>NY</td>\n",
       "      <td>New York</td>\n",
       "      <td>Kings</td>\n",
       "      <td>48</td>\n",
       "      <td>1996-04-01</td>\n",
       "      <td>230100.0</td>\n",
       "    </tr>\n",
       "    <tr>\n",
       "      <th>49</th>\n",
       "      <td>62020</td>\n",
       "      <td>11209</td>\n",
       "      <td>New York</td>\n",
       "      <td>NY</td>\n",
       "      <td>New York</td>\n",
       "      <td>Kings</td>\n",
       "      <td>50</td>\n",
       "      <td>1996-04-01</td>\n",
       "      <td>255700.0</td>\n",
       "    </tr>\n",
       "    <tr>\n",
       "      <th>53</th>\n",
       "      <td>62023</td>\n",
       "      <td>11212</td>\n",
       "      <td>New York</td>\n",
       "      <td>NY</td>\n",
       "      <td>New York</td>\n",
       "      <td>Kings</td>\n",
       "      <td>54</td>\n",
       "      <td>1996-04-01</td>\n",
       "      <td>125000.0</td>\n",
       "    </tr>\n",
       "    <tr>\n",
       "      <th>...</th>\n",
       "      <td>...</td>\n",
       "      <td>...</td>\n",
       "      <td>...</td>\n",
       "      <td>...</td>\n",
       "      <td>...</td>\n",
       "      <td>...</td>\n",
       "      <td>...</td>\n",
       "      <td>...</td>\n",
       "      <td>...</td>\n",
       "    </tr>\n",
       "    <tr>\n",
       "      <th>3887683</th>\n",
       "      <td>62035</td>\n",
       "      <td>11224</td>\n",
       "      <td>New York</td>\n",
       "      <td>NY</td>\n",
       "      <td>New York</td>\n",
       "      <td>Kings</td>\n",
       "      <td>812</td>\n",
       "      <td>2018-04-01</td>\n",
       "      <td>517900.0</td>\n",
       "    </tr>\n",
       "    <tr>\n",
       "      <th>3888027</th>\n",
       "      <td>62033</td>\n",
       "      <td>11222</td>\n",
       "      <td>New York</td>\n",
       "      <td>NY</td>\n",
       "      <td>New York</td>\n",
       "      <td>Kings</td>\n",
       "      <td>1156</td>\n",
       "      <td>2018-04-01</td>\n",
       "      <td>1721100.0</td>\n",
       "    </tr>\n",
       "    <tr>\n",
       "      <th>3888306</th>\n",
       "      <td>62016</td>\n",
       "      <td>11205</td>\n",
       "      <td>New York</td>\n",
       "      <td>NY</td>\n",
       "      <td>New York</td>\n",
       "      <td>Kings</td>\n",
       "      <td>1435</td>\n",
       "      <td>2018-04-01</td>\n",
       "      <td>2248400.0</td>\n",
       "    </tr>\n",
       "    <tr>\n",
       "      <th>3888406</th>\n",
       "      <td>62028</td>\n",
       "      <td>11217</td>\n",
       "      <td>New York</td>\n",
       "      <td>NY</td>\n",
       "      <td>New York</td>\n",
       "      <td>Kings</td>\n",
       "      <td>1535</td>\n",
       "      <td>2018-04-01</td>\n",
       "      <td>3656000.0</td>\n",
       "    </tr>\n",
       "    <tr>\n",
       "      <th>3890600</th>\n",
       "      <td>62038</td>\n",
       "      <td>11228</td>\n",
       "      <td>New York</td>\n",
       "      <td>NY</td>\n",
       "      <td>New York</td>\n",
       "      <td>Kings</td>\n",
       "      <td>3729</td>\n",
       "      <td>2018-04-01</td>\n",
       "      <td>915300.0</td>\n",
       "    </tr>\n",
       "  </tbody>\n",
       "</table>\n",
       "<p>7141 rows × 9 columns</p>\n",
       "</div>"
      ],
      "text/plain": [
       "         RegionID  Zipcode      City State     Metro CountyName  SizeRank  \\\n",
       "10          62037    11226  New York    NY  New York      Kings        11   \n",
       "13          62045    11235  New York    NY  New York      Kings        14   \n",
       "47          62040    11230  New York    NY  New York      Kings        48   \n",
       "49          62020    11209  New York    NY  New York      Kings        50   \n",
       "53          62023    11212  New York    NY  New York      Kings        54   \n",
       "...           ...      ...       ...   ...       ...        ...       ...   \n",
       "3887683     62035    11224  New York    NY  New York      Kings       812   \n",
       "3888027     62033    11222  New York    NY  New York      Kings      1156   \n",
       "3888306     62016    11205  New York    NY  New York      Kings      1435   \n",
       "3888406     62028    11217  New York    NY  New York      Kings      1535   \n",
       "3890600     62038    11228  New York    NY  New York      Kings      3729   \n",
       "\n",
       "             Month  MeanValue  \n",
       "10      1996-04-01   162000.0  \n",
       "13      1996-04-01   190500.0  \n",
       "47      1996-04-01   230100.0  \n",
       "49      1996-04-01   255700.0  \n",
       "53      1996-04-01   125000.0  \n",
       "...            ...        ...  \n",
       "3887683 2018-04-01   517900.0  \n",
       "3888027 2018-04-01  1721100.0  \n",
       "3888306 2018-04-01  2248400.0  \n",
       "3888406 2018-04-01  3656000.0  \n",
       "3890600 2018-04-01   915300.0  \n",
       "\n",
       "[7141 rows x 9 columns]"
      ]
     },
     "execution_count": 11,
     "metadata": {},
     "output_type": "execute_result"
    }
   ],
   "source": [
    "kings_zips = all_zipcodes[(all_zipcodes['CountyName']=='Kings') & (all_zipcodes['State']== 'NY')]\n",
    "kings_zips"
   ]
  },
  {
   "cell_type": "code",
   "execution_count": 12,
   "metadata": {
    "id": "69cDi609biTu"
   },
   "outputs": [],
   "source": [
    "#for loop gets the monthly mean sales price for each Brooklyn zipcode and puts it in dictionary. \n",
    "\n",
    "test_dict = {}\n",
    "\n",
    "for zipcode in kings_zips['Zipcode'].unique(): \n",
    "    all_zips = kings_zips[kings_zips['Zipcode'] == zipcode]\n",
    "    all_zips = all_zips.set_index('Month')['MeanValue']\n",
    "    all_zips = all_zips.asfreq('MS')\n",
    "    all_zips.name = zipcode\n",
    "    test_dict[zipcode] = all_zips\n",
    "    "
   ]
  },
  {
   "cell_type": "code",
   "execution_count": 13,
   "metadata": {
    "colab": {
     "base_uri": "https://localhost:8080/"
    },
    "id": "yJyLlWG8biTx",
    "outputId": "d4be46b8-51b2-4f36-e7d2-d2a0d355d4aa"
   },
   "outputs": [
    {
     "data": {
      "text/plain": [
       "{11226: Month\n",
       " 1996-04-01    162000.0\n",
       " 1996-05-01    162300.0\n",
       " 1996-06-01    162600.0\n",
       " 1996-07-01    163000.0\n",
       " 1996-08-01    163400.0\n",
       "                 ...   \n",
       " 2017-12-01    887800.0\n",
       " 2018-01-01    890500.0\n",
       " 2018-02-01    901700.0\n",
       " 2018-03-01    930700.0\n",
       " 2018-04-01    963200.0\n",
       " Freq: MS, Name: 11226, Length: 265, dtype: float64,\n",
       " 11235: Month\n",
       " 1996-04-01    190500.0\n",
       " 1996-05-01    191000.0\n",
       " 1996-06-01    191500.0\n",
       " 1996-07-01    192000.0\n",
       " 1996-08-01    192500.0\n",
       "                 ...   \n",
       " 2017-12-01    799700.0\n",
       " 2018-01-01    806600.0\n",
       " 2018-02-01    810600.0\n",
       " 2018-03-01    813400.0\n",
       " 2018-04-01    816200.0\n",
       " Freq: MS, Name: 11235, Length: 265, dtype: float64,\n",
       " 11230: Month\n",
       " 1996-04-01     230100.0\n",
       " 1996-05-01     230800.0\n",
       " 1996-06-01     231500.0\n",
       " 1996-07-01     232100.0\n",
       " 1996-08-01     232800.0\n",
       "                 ...    \n",
       " 2017-12-01    1102400.0\n",
       " 2018-01-01    1120200.0\n",
       " 2018-02-01    1141600.0\n",
       " 2018-03-01    1170000.0\n",
       " 2018-04-01    1195400.0\n",
       " Freq: MS, Name: 11230, Length: 265, dtype: float64,\n",
       " 11209: Month\n",
       " 1996-04-01     255700.0\n",
       " 1996-05-01     256600.0\n",
       " 1996-06-01     257300.0\n",
       " 1996-07-01     258100.0\n",
       " 1996-08-01     258900.0\n",
       "                 ...    \n",
       " 2017-12-01    1018900.0\n",
       " 2018-01-01    1023500.0\n",
       " 2018-02-01    1029200.0\n",
       " 2018-03-01    1023000.0\n",
       " 2018-04-01    1015800.0\n",
       " Freq: MS, Name: 11209, Length: 265, dtype: float64,\n",
       " 11212: Month\n",
       " 1996-04-01    125000.0\n",
       " 1996-05-01    125000.0\n",
       " 1996-06-01    125000.0\n",
       " 1996-07-01    125000.0\n",
       " 1996-08-01    125100.0\n",
       "                 ...   \n",
       " 2017-12-01    414900.0\n",
       " 2018-01-01    422300.0\n",
       " 2018-02-01    426300.0\n",
       " 2018-03-01    427100.0\n",
       " 2018-04-01    428400.0\n",
       " Freq: MS, Name: 11212, Length: 265, dtype: float64,\n",
       " 11214: Month\n",
       " 1996-04-01    191000.0\n",
       " 1996-05-01    191200.0\n",
       " 1996-06-01    191500.0\n",
       " 1996-07-01    191900.0\n",
       " 1996-08-01    192100.0\n",
       "                 ...   \n",
       " 2017-12-01    826300.0\n",
       " 2018-01-01    827600.0\n",
       " 2018-02-01    830500.0\n",
       " 2018-03-01    837300.0\n",
       " 2018-04-01    844100.0\n",
       " Freq: MS, Name: 11214, Length: 265, dtype: float64,\n",
       " 11221: Month\n",
       " 1996-04-01     133700.0\n",
       " 1996-05-01     133700.0\n",
       " 1996-06-01     133700.0\n",
       " 1996-07-01     133700.0\n",
       " 1996-08-01     133900.0\n",
       "                 ...    \n",
       " 2017-12-01     998100.0\n",
       " 2018-01-01    1000900.0\n",
       " 2018-02-01    1015400.0\n",
       " 2018-03-01    1037300.0\n",
       " 2018-04-01    1048700.0\n",
       " Freq: MS, Name: 11221, Length: 265, dtype: float64,\n",
       " 11229: Month\n",
       " 1996-04-01    183900.0\n",
       " 1996-05-01    184200.0\n",
       " 1996-06-01    184500.0\n",
       " 1996-07-01    184800.0\n",
       " 1996-08-01    185000.0\n",
       "                 ...   \n",
       " 2017-12-01    741000.0\n",
       " 2018-01-01    748100.0\n",
       " 2018-02-01    755800.0\n",
       " 2018-03-01    766200.0\n",
       " 2018-04-01    775500.0\n",
       " Freq: MS, Name: 11229, Length: 265, dtype: float64,\n",
       " 11234: Month\n",
       " 1996-04-01    172300.0\n",
       " 1996-05-01    172100.0\n",
       " 1996-06-01    171900.0\n",
       " 1996-07-01    171600.0\n",
       " 1996-08-01    171400.0\n",
       "                 ...   \n",
       " 2017-12-01    575000.0\n",
       " 2018-01-01    579400.0\n",
       " 2018-02-01    583200.0\n",
       " 2018-03-01    589400.0\n",
       " 2018-04-01    593300.0\n",
       " Freq: MS, Name: 11234, Length: 265, dtype: float64,\n",
       " 11215: Month\n",
       " 1996-04-01     225700.0\n",
       " 1996-05-01     227500.0\n",
       " 1996-06-01     229400.0\n",
       " 1996-07-01     231600.0\n",
       " 1996-08-01     234100.0\n",
       "                 ...    \n",
       " 2017-12-01    2287100.0\n",
       " 2018-01-01    2288900.0\n",
       " 2018-02-01    2265300.0\n",
       " 2018-03-01    2244900.0\n",
       " 2018-04-01    2243900.0\n",
       " Freq: MS, Name: 11215, Length: 265, dtype: float64,\n",
       " 11211: Month\n",
       " 1996-04-01     133200.0\n",
       " 1996-05-01     132900.0\n",
       " 1996-06-01     132500.0\n",
       " 1996-07-01     132200.0\n",
       " 1996-08-01     131800.0\n",
       "                 ...    \n",
       " 2017-12-01    1463100.0\n",
       " 2018-01-01    1496100.0\n",
       " 2018-02-01    1531100.0\n",
       " 2018-03-01    1581900.0\n",
       " 2018-04-01    1623700.0\n",
       " Freq: MS, Name: 11211, Length: 265, dtype: float64,\n",
       " 11233: Month\n",
       " 1996-04-01    124500.0\n",
       " 1996-05-01    124500.0\n",
       " 1996-06-01    124500.0\n",
       " 1996-07-01    124500.0\n",
       " 1996-08-01    124700.0\n",
       "                 ...   \n",
       " 2017-12-01    809800.0\n",
       " 2018-01-01    800800.0\n",
       " 2018-02-01    806100.0\n",
       " 2018-03-01    829200.0\n",
       " 2018-04-01    852300.0\n",
       " Freq: MS, Name: 11233, Length: 265, dtype: float64,\n",
       " 11236: Month\n",
       " 1996-04-01    160900.0\n",
       " 1996-05-01    161000.0\n",
       " 1996-06-01    161200.0\n",
       " 1996-07-01    161300.0\n",
       " 1996-08-01    161500.0\n",
       "                 ...   \n",
       " 2017-12-01    453600.0\n",
       " 2018-01-01    458400.0\n",
       " 2018-02-01    461600.0\n",
       " 2018-03-01    467200.0\n",
       " 2018-04-01    472000.0\n",
       " Freq: MS, Name: 11236, Length: 265, dtype: float64,\n",
       " 11218: Month\n",
       " 1996-04-01     177200.0\n",
       " 1996-05-01     177000.0\n",
       " 1996-06-01     176800.0\n",
       " 1996-07-01     176700.0\n",
       " 1996-08-01     176800.0\n",
       "                 ...    \n",
       " 2017-12-01    1186400.0\n",
       " 2018-01-01    1174500.0\n",
       " 2018-02-01    1173900.0\n",
       " 2018-03-01    1196100.0\n",
       " 2018-04-01    1220900.0\n",
       " Freq: MS, Name: 11218, Length: 265, dtype: float64,\n",
       " 11223: Month\n",
       " 1996-04-01     207600.0\n",
       " 1996-05-01     208000.0\n",
       " 1996-06-01     208400.0\n",
       " 1996-07-01     208800.0\n",
       " 1996-08-01     209300.0\n",
       "                 ...    \n",
       " 2017-12-01     947800.0\n",
       " 2018-01-01     952100.0\n",
       " 2018-02-01     966600.0\n",
       " 2018-03-01     997000.0\n",
       " 2018-04-01    1026600.0\n",
       " Freq: MS, Name: 11223, Length: 265, dtype: float64,\n",
       " 11208: Month\n",
       " 1996-04-01    126800.0\n",
       " 1996-05-01    126700.0\n",
       " 1996-06-01    126700.0\n",
       " 1996-07-01    126600.0\n",
       " 1996-08-01    126600.0\n",
       "                 ...   \n",
       " 2017-12-01    435400.0\n",
       " 2018-01-01    429900.0\n",
       " 2018-02-01    432300.0\n",
       " 2018-03-01    442400.0\n",
       " 2018-04-01    450600.0\n",
       " Freq: MS, Name: 11208, Length: 265, dtype: float64,\n",
       " 11204: Month\n",
       " 1996-04-01    201100.0\n",
       " 1996-05-01    201100.0\n",
       " 1996-06-01    201100.0\n",
       " 1996-07-01    201100.0\n",
       " 1996-08-01    201100.0\n",
       "                 ...   \n",
       " 2017-12-01    958900.0\n",
       " 2018-01-01    963200.0\n",
       " 2018-02-01    967900.0\n",
       " 2018-03-01    972800.0\n",
       " 2018-04-01    976400.0\n",
       " Freq: MS, Name: 11204, Length: 265, dtype: float64,\n",
       " 11219: Month\n",
       " 1996-04-01     213200.0\n",
       " 1996-05-01     212600.0\n",
       " 1996-06-01     211900.0\n",
       " 1996-07-01     211300.0\n",
       " 1996-08-01     210800.0\n",
       "                 ...    \n",
       " 2017-12-01    1016000.0\n",
       " 2018-01-01    1014400.0\n",
       " 2018-02-01    1023800.0\n",
       " 2018-03-01    1053000.0\n",
       " 2018-04-01    1079600.0\n",
       " Freq: MS, Name: 11219, Length: 265, dtype: float64,\n",
       " 11203: Month\n",
       " 1996-04-01    149000.0\n",
       " 1996-05-01    149200.0\n",
       " 1996-06-01    149400.0\n",
       " 1996-07-01    149600.0\n",
       " 1996-08-01    149700.0\n",
       "                 ...   \n",
       " 2017-12-01    474500.0\n",
       " 2018-01-01    475300.0\n",
       " 2018-02-01    474800.0\n",
       " 2018-03-01    481000.0\n",
       " 2018-04-01    489900.0\n",
       " Freq: MS, Name: 11203, Length: 265, dtype: float64,\n",
       " 11220: Month\n",
       " 1996-04-01    188500.0\n",
       " 1996-05-01    188700.0\n",
       " 1996-06-01    188800.0\n",
       " 1996-07-01    189000.0\n",
       " 1996-08-01    189400.0\n",
       "                 ...   \n",
       " 2017-12-01    903000.0\n",
       " 2018-01-01    906500.0\n",
       " 2018-02-01    910700.0\n",
       " 2018-03-01    915600.0\n",
       " 2018-04-01    917900.0\n",
       " Freq: MS, Name: 11220, Length: 265, dtype: float64,\n",
       " 11216: Month\n",
       " 1996-04-01     146100.0\n",
       " 1996-05-01     146600.0\n",
       " 1996-06-01     147200.0\n",
       " 1996-07-01     147700.0\n",
       " 1996-08-01     148400.0\n",
       "                 ...    \n",
       " 2017-12-01    1545700.0\n",
       " 2018-01-01    1540200.0\n",
       " 2018-02-01    1553600.0\n",
       " 2018-03-01    1578400.0\n",
       " 2018-04-01    1598700.0\n",
       " Freq: MS, Name: 11216, Length: 265, dtype: float64,\n",
       " 11210: Month\n",
       " 1996-04-01    187300.0\n",
       " 1996-05-01    187300.0\n",
       " 1996-06-01    187200.0\n",
       " 1996-07-01    187100.0\n",
       " 1996-08-01    187000.0\n",
       "                 ...   \n",
       " 2017-12-01    802900.0\n",
       " 2018-01-01    809100.0\n",
       " 2018-02-01    814500.0\n",
       " 2018-03-01    816900.0\n",
       " 2018-04-01    819600.0\n",
       " Freq: MS, Name: 11210, Length: 265, dtype: float64,\n",
       " 11224: Month\n",
       " 1996-04-01    158000.0\n",
       " 1996-05-01    157300.0\n",
       " 1996-06-01    156700.0\n",
       " 1996-07-01    156100.0\n",
       " 1996-08-01    155600.0\n",
       "                 ...   \n",
       " 2017-12-01    498700.0\n",
       " 2018-01-01    502000.0\n",
       " 2018-02-01    505600.0\n",
       " 2018-03-01    511600.0\n",
       " 2018-04-01    517900.0\n",
       " Freq: MS, Name: 11224, Length: 265, dtype: float64,\n",
       " 11222: Month\n",
       " 1996-04-01     149200.0\n",
       " 1996-05-01     148400.0\n",
       " 1996-06-01     147500.0\n",
       " 1996-07-01     146600.0\n",
       " 1996-08-01     146000.0\n",
       "                 ...    \n",
       " 2017-12-01    1651200.0\n",
       " 2018-01-01    1661800.0\n",
       " 2018-02-01    1672800.0\n",
       " 2018-03-01    1694000.0\n",
       " 2018-04-01    1721100.0\n",
       " Freq: MS, Name: 11222, Length: 265, dtype: float64,\n",
       " 11228: Month\n",
       " 1996-04-01    219300.0\n",
       " 1996-05-01    219600.0\n",
       " 1996-06-01    219900.0\n",
       " 1996-07-01    220200.0\n",
       " 1996-08-01    220600.0\n",
       "                 ...   \n",
       " 2017-12-01    902200.0\n",
       " 2018-01-01    909000.0\n",
       " 2018-02-01    912800.0\n",
       " 2018-03-01    913900.0\n",
       " 2018-04-01    915300.0\n",
       " Freq: MS, Name: 11228, Length: 265, dtype: float64,\n",
       " 11238: Month\n",
       " 2004-01-01     671200.0\n",
       " 2004-02-01     665400.0\n",
       " 2004-03-01     662500.0\n",
       " 2004-04-01     660200.0\n",
       " 2004-05-01     659200.0\n",
       "                 ...    \n",
       " 2017-12-01    2768900.0\n",
       " 2018-01-01    2810700.0\n",
       " 2018-02-01    2848100.0\n",
       " 2018-03-01    2869600.0\n",
       " 2018-04-01    2885300.0\n",
       " Freq: MS, Name: 11238, Length: 172, dtype: float64,\n",
       " 11205: Month\n",
       " 2004-01-01     833100.0\n",
       " 2004-02-01     821400.0\n",
       " 2004-03-01     812000.0\n",
       " 2004-04-01     805500.0\n",
       " 2004-05-01     801400.0\n",
       "                 ...    \n",
       " 2017-12-01    2251000.0\n",
       " 2018-01-01    2251600.0\n",
       " 2018-02-01    2245300.0\n",
       " 2018-03-01    2243700.0\n",
       " 2018-04-01    2248400.0\n",
       " Freq: MS, Name: 11205, Length: 172, dtype: float64,\n",
       " 11217: Month\n",
       " 2004-01-01    1037600.0\n",
       " 2004-02-01    1035300.0\n",
       " 2004-03-01    1031400.0\n",
       " 2004-04-01    1024000.0\n",
       " 2004-05-01    1014300.0\n",
       "                 ...    \n",
       " 2017-12-01    3404100.0\n",
       " 2018-01-01    3413800.0\n",
       " 2018-02-01    3482900.0\n",
       " 2018-03-01    3588100.0\n",
       " 2018-04-01    3656000.0\n",
       " Freq: MS, Name: 11217, Length: 172, dtype: float64}"
      ]
     },
     "execution_count": 13,
     "metadata": {},
     "output_type": "execute_result"
    }
   ],
   "source": [
    "test_dict"
   ]
  },
  {
   "cell_type": "code",
   "execution_count": 14,
   "metadata": {
    "id": "z3d1JXotbiT1"
   },
   "outputs": [],
   "source": [
    "zip_df = pd.concat(test_dict, axis=1)"
   ]
  },
  {
   "cell_type": "code",
   "execution_count": 15,
   "metadata": {
    "colab": {
     "base_uri": "https://localhost:8080/"
    },
    "id": "YKPSazbabiT4",
    "outputId": "07811b6e-a9fe-4c01-e423-e76f8c091cb5"
   },
   "outputs": [
    {
     "data": {
      "text/plain": [
       "265"
      ]
     },
     "execution_count": 15,
     "metadata": {},
     "output_type": "execute_result"
    }
   ],
   "source": [
    "len(zip_df)"
   ]
  },
  {
   "cell_type": "markdown",
   "metadata": {
    "id": "LRrvB7R75NTO"
   },
   "source": [
    "### **Dataframe of Brooklyn Zipcodes** "
   ]
  },
  {
   "cell_type": "code",
   "execution_count": 16,
   "metadata": {
    "colab": {
     "base_uri": "https://localhost:8080/"
    },
    "id": "rLu9DH6Muc67",
    "outputId": "921d23f4-7911-46b5-9800-6a020e454b45"
   },
   "outputs": [
    {
     "data": {
      "text/plain": [
       "pandas.core.series.Series"
      ]
     },
     "execution_count": 16,
     "metadata": {},
     "output_type": "execute_result"
    }
   ],
   "source": [
    "type(zip_df[11226])"
   ]
  },
  {
   "cell_type": "code",
   "execution_count": 17,
   "metadata": {
    "colab": {
     "base_uri": "https://localhost:8080/",
     "height": 340
    },
    "id": "lejk8RxHbiT7",
    "outputId": "b7ec0a9a-c2f2-4f11-bbdd-bd4346528120"
   },
   "outputs": [
    {
     "data": {
      "text/html": [
       "<div>\n",
       "<style scoped>\n",
       "    .dataframe tbody tr th:only-of-type {\n",
       "        vertical-align: middle;\n",
       "    }\n",
       "\n",
       "    .dataframe tbody tr th {\n",
       "        vertical-align: top;\n",
       "    }\n",
       "\n",
       "    .dataframe thead th {\n",
       "        text-align: right;\n",
       "    }\n",
       "</style>\n",
       "<table border=\"1\" class=\"dataframe\">\n",
       "  <thead>\n",
       "    <tr style=\"text-align: right;\">\n",
       "      <th></th>\n",
       "      <th>11226</th>\n",
       "      <th>11235</th>\n",
       "      <th>11230</th>\n",
       "      <th>11209</th>\n",
       "      <th>11212</th>\n",
       "      <th>11214</th>\n",
       "      <th>11221</th>\n",
       "      <th>11229</th>\n",
       "      <th>11234</th>\n",
       "      <th>11215</th>\n",
       "      <th>...</th>\n",
       "      <th>11203</th>\n",
       "      <th>11220</th>\n",
       "      <th>11216</th>\n",
       "      <th>11210</th>\n",
       "      <th>11224</th>\n",
       "      <th>11222</th>\n",
       "      <th>11228</th>\n",
       "      <th>11238</th>\n",
       "      <th>11205</th>\n",
       "      <th>11217</th>\n",
       "    </tr>\n",
       "    <tr>\n",
       "      <th>Month</th>\n",
       "      <th></th>\n",
       "      <th></th>\n",
       "      <th></th>\n",
       "      <th></th>\n",
       "      <th></th>\n",
       "      <th></th>\n",
       "      <th></th>\n",
       "      <th></th>\n",
       "      <th></th>\n",
       "      <th></th>\n",
       "      <th></th>\n",
       "      <th></th>\n",
       "      <th></th>\n",
       "      <th></th>\n",
       "      <th></th>\n",
       "      <th></th>\n",
       "      <th></th>\n",
       "      <th></th>\n",
       "      <th></th>\n",
       "      <th></th>\n",
       "      <th></th>\n",
       "    </tr>\n",
       "  </thead>\n",
       "  <tbody>\n",
       "    <tr>\n",
       "      <th>1996-04-01</th>\n",
       "      <td>162000.0</td>\n",
       "      <td>190500.0</td>\n",
       "      <td>230100.0</td>\n",
       "      <td>255700.0</td>\n",
       "      <td>125000.0</td>\n",
       "      <td>191000.0</td>\n",
       "      <td>133700.0</td>\n",
       "      <td>183900.0</td>\n",
       "      <td>172300.0</td>\n",
       "      <td>225700.0</td>\n",
       "      <td>...</td>\n",
       "      <td>149000.0</td>\n",
       "      <td>188500.0</td>\n",
       "      <td>146100.0</td>\n",
       "      <td>187300.0</td>\n",
       "      <td>158000.0</td>\n",
       "      <td>149200.0</td>\n",
       "      <td>219300.0</td>\n",
       "      <td>NaN</td>\n",
       "      <td>NaN</td>\n",
       "      <td>NaN</td>\n",
       "    </tr>\n",
       "    <tr>\n",
       "      <th>1996-05-01</th>\n",
       "      <td>162300.0</td>\n",
       "      <td>191000.0</td>\n",
       "      <td>230800.0</td>\n",
       "      <td>256600.0</td>\n",
       "      <td>125000.0</td>\n",
       "      <td>191200.0</td>\n",
       "      <td>133700.0</td>\n",
       "      <td>184200.0</td>\n",
       "      <td>172100.0</td>\n",
       "      <td>227500.0</td>\n",
       "      <td>...</td>\n",
       "      <td>149200.0</td>\n",
       "      <td>188700.0</td>\n",
       "      <td>146600.0</td>\n",
       "      <td>187300.0</td>\n",
       "      <td>157300.0</td>\n",
       "      <td>148400.0</td>\n",
       "      <td>219600.0</td>\n",
       "      <td>NaN</td>\n",
       "      <td>NaN</td>\n",
       "      <td>NaN</td>\n",
       "    </tr>\n",
       "    <tr>\n",
       "      <th>1996-06-01</th>\n",
       "      <td>162600.0</td>\n",
       "      <td>191500.0</td>\n",
       "      <td>231500.0</td>\n",
       "      <td>257300.0</td>\n",
       "      <td>125000.0</td>\n",
       "      <td>191500.0</td>\n",
       "      <td>133700.0</td>\n",
       "      <td>184500.0</td>\n",
       "      <td>171900.0</td>\n",
       "      <td>229400.0</td>\n",
       "      <td>...</td>\n",
       "      <td>149400.0</td>\n",
       "      <td>188800.0</td>\n",
       "      <td>147200.0</td>\n",
       "      <td>187200.0</td>\n",
       "      <td>156700.0</td>\n",
       "      <td>147500.0</td>\n",
       "      <td>219900.0</td>\n",
       "      <td>NaN</td>\n",
       "      <td>NaN</td>\n",
       "      <td>NaN</td>\n",
       "    </tr>\n",
       "    <tr>\n",
       "      <th>1996-07-01</th>\n",
       "      <td>163000.0</td>\n",
       "      <td>192000.0</td>\n",
       "      <td>232100.0</td>\n",
       "      <td>258100.0</td>\n",
       "      <td>125000.0</td>\n",
       "      <td>191900.0</td>\n",
       "      <td>133700.0</td>\n",
       "      <td>184800.0</td>\n",
       "      <td>171600.0</td>\n",
       "      <td>231600.0</td>\n",
       "      <td>...</td>\n",
       "      <td>149600.0</td>\n",
       "      <td>189000.0</td>\n",
       "      <td>147700.0</td>\n",
       "      <td>187100.0</td>\n",
       "      <td>156100.0</td>\n",
       "      <td>146600.0</td>\n",
       "      <td>220200.0</td>\n",
       "      <td>NaN</td>\n",
       "      <td>NaN</td>\n",
       "      <td>NaN</td>\n",
       "    </tr>\n",
       "    <tr>\n",
       "      <th>1996-08-01</th>\n",
       "      <td>163400.0</td>\n",
       "      <td>192500.0</td>\n",
       "      <td>232800.0</td>\n",
       "      <td>258900.0</td>\n",
       "      <td>125100.0</td>\n",
       "      <td>192100.0</td>\n",
       "      <td>133900.0</td>\n",
       "      <td>185000.0</td>\n",
       "      <td>171400.0</td>\n",
       "      <td>234100.0</td>\n",
       "      <td>...</td>\n",
       "      <td>149700.0</td>\n",
       "      <td>189400.0</td>\n",
       "      <td>148400.0</td>\n",
       "      <td>187000.0</td>\n",
       "      <td>155600.0</td>\n",
       "      <td>146000.0</td>\n",
       "      <td>220600.0</td>\n",
       "      <td>NaN</td>\n",
       "      <td>NaN</td>\n",
       "      <td>NaN</td>\n",
       "    </tr>\n",
       "  </tbody>\n",
       "</table>\n",
       "<p>5 rows × 28 columns</p>\n",
       "</div>"
      ],
      "text/plain": [
       "               11226     11235     11230     11209     11212     11214  \\\n",
       "Month                                                                    \n",
       "1996-04-01  162000.0  190500.0  230100.0  255700.0  125000.0  191000.0   \n",
       "1996-05-01  162300.0  191000.0  230800.0  256600.0  125000.0  191200.0   \n",
       "1996-06-01  162600.0  191500.0  231500.0  257300.0  125000.0  191500.0   \n",
       "1996-07-01  163000.0  192000.0  232100.0  258100.0  125000.0  191900.0   \n",
       "1996-08-01  163400.0  192500.0  232800.0  258900.0  125100.0  192100.0   \n",
       "\n",
       "               11221     11229     11234     11215  ...     11203     11220  \\\n",
       "Month                                               ...                       \n",
       "1996-04-01  133700.0  183900.0  172300.0  225700.0  ...  149000.0  188500.0   \n",
       "1996-05-01  133700.0  184200.0  172100.0  227500.0  ...  149200.0  188700.0   \n",
       "1996-06-01  133700.0  184500.0  171900.0  229400.0  ...  149400.0  188800.0   \n",
       "1996-07-01  133700.0  184800.0  171600.0  231600.0  ...  149600.0  189000.0   \n",
       "1996-08-01  133900.0  185000.0  171400.0  234100.0  ...  149700.0  189400.0   \n",
       "\n",
       "               11216     11210     11224     11222     11228  11238  11205  \\\n",
       "Month                                                                        \n",
       "1996-04-01  146100.0  187300.0  158000.0  149200.0  219300.0    NaN    NaN   \n",
       "1996-05-01  146600.0  187300.0  157300.0  148400.0  219600.0    NaN    NaN   \n",
       "1996-06-01  147200.0  187200.0  156700.0  147500.0  219900.0    NaN    NaN   \n",
       "1996-07-01  147700.0  187100.0  156100.0  146600.0  220200.0    NaN    NaN   \n",
       "1996-08-01  148400.0  187000.0  155600.0  146000.0  220600.0    NaN    NaN   \n",
       "\n",
       "            11217  \n",
       "Month              \n",
       "1996-04-01    NaN  \n",
       "1996-05-01    NaN  \n",
       "1996-06-01    NaN  \n",
       "1996-07-01    NaN  \n",
       "1996-08-01    NaN  \n",
       "\n",
       "[5 rows x 28 columns]"
      ]
     },
     "execution_count": 17,
     "metadata": {},
     "output_type": "execute_result"
    }
   ],
   "source": [
    "zip_df.head()"
   ]
  },
  {
   "cell_type": "code",
   "execution_count": 18,
   "metadata": {
    "colab": {
     "base_uri": "https://localhost:8080/",
     "height": 340
    },
    "id": "Wrw_HAgLbiT-",
    "outputId": "0b270185-9f29-4140-c5af-2e7df5f98d7f"
   },
   "outputs": [
    {
     "data": {
      "text/html": [
       "<div>\n",
       "<style scoped>\n",
       "    .dataframe tbody tr th:only-of-type {\n",
       "        vertical-align: middle;\n",
       "    }\n",
       "\n",
       "    .dataframe tbody tr th {\n",
       "        vertical-align: top;\n",
       "    }\n",
       "\n",
       "    .dataframe thead th {\n",
       "        text-align: right;\n",
       "    }\n",
       "</style>\n",
       "<table border=\"1\" class=\"dataframe\">\n",
       "  <thead>\n",
       "    <tr style=\"text-align: right;\">\n",
       "      <th></th>\n",
       "      <th>11226</th>\n",
       "      <th>11235</th>\n",
       "      <th>11230</th>\n",
       "      <th>11209</th>\n",
       "      <th>11212</th>\n",
       "      <th>11214</th>\n",
       "      <th>11221</th>\n",
       "      <th>11229</th>\n",
       "      <th>11234</th>\n",
       "      <th>11215</th>\n",
       "      <th>...</th>\n",
       "      <th>11203</th>\n",
       "      <th>11220</th>\n",
       "      <th>11216</th>\n",
       "      <th>11210</th>\n",
       "      <th>11224</th>\n",
       "      <th>11222</th>\n",
       "      <th>11228</th>\n",
       "      <th>11238</th>\n",
       "      <th>11205</th>\n",
       "      <th>11217</th>\n",
       "    </tr>\n",
       "    <tr>\n",
       "      <th>Month</th>\n",
       "      <th></th>\n",
       "      <th></th>\n",
       "      <th></th>\n",
       "      <th></th>\n",
       "      <th></th>\n",
       "      <th></th>\n",
       "      <th></th>\n",
       "      <th></th>\n",
       "      <th></th>\n",
       "      <th></th>\n",
       "      <th></th>\n",
       "      <th></th>\n",
       "      <th></th>\n",
       "      <th></th>\n",
       "      <th></th>\n",
       "      <th></th>\n",
       "      <th></th>\n",
       "      <th></th>\n",
       "      <th></th>\n",
       "      <th></th>\n",
       "      <th></th>\n",
       "    </tr>\n",
       "  </thead>\n",
       "  <tbody>\n",
       "    <tr>\n",
       "      <th>2017-12-01</th>\n",
       "      <td>887800.0</td>\n",
       "      <td>799700.0</td>\n",
       "      <td>1102400.0</td>\n",
       "      <td>1018900.0</td>\n",
       "      <td>414900.0</td>\n",
       "      <td>826300.0</td>\n",
       "      <td>998100.0</td>\n",
       "      <td>741000.0</td>\n",
       "      <td>575000.0</td>\n",
       "      <td>2287100.0</td>\n",
       "      <td>...</td>\n",
       "      <td>474500.0</td>\n",
       "      <td>903000.0</td>\n",
       "      <td>1545700.0</td>\n",
       "      <td>802900.0</td>\n",
       "      <td>498700.0</td>\n",
       "      <td>1651200.0</td>\n",
       "      <td>902200.0</td>\n",
       "      <td>2768900.0</td>\n",
       "      <td>2251000.0</td>\n",
       "      <td>3404100.0</td>\n",
       "    </tr>\n",
       "    <tr>\n",
       "      <th>2018-01-01</th>\n",
       "      <td>890500.0</td>\n",
       "      <td>806600.0</td>\n",
       "      <td>1120200.0</td>\n",
       "      <td>1023500.0</td>\n",
       "      <td>422300.0</td>\n",
       "      <td>827600.0</td>\n",
       "      <td>1000900.0</td>\n",
       "      <td>748100.0</td>\n",
       "      <td>579400.0</td>\n",
       "      <td>2288900.0</td>\n",
       "      <td>...</td>\n",
       "      <td>475300.0</td>\n",
       "      <td>906500.0</td>\n",
       "      <td>1540200.0</td>\n",
       "      <td>809100.0</td>\n",
       "      <td>502000.0</td>\n",
       "      <td>1661800.0</td>\n",
       "      <td>909000.0</td>\n",
       "      <td>2810700.0</td>\n",
       "      <td>2251600.0</td>\n",
       "      <td>3413800.0</td>\n",
       "    </tr>\n",
       "    <tr>\n",
       "      <th>2018-02-01</th>\n",
       "      <td>901700.0</td>\n",
       "      <td>810600.0</td>\n",
       "      <td>1141600.0</td>\n",
       "      <td>1029200.0</td>\n",
       "      <td>426300.0</td>\n",
       "      <td>830500.0</td>\n",
       "      <td>1015400.0</td>\n",
       "      <td>755800.0</td>\n",
       "      <td>583200.0</td>\n",
       "      <td>2265300.0</td>\n",
       "      <td>...</td>\n",
       "      <td>474800.0</td>\n",
       "      <td>910700.0</td>\n",
       "      <td>1553600.0</td>\n",
       "      <td>814500.0</td>\n",
       "      <td>505600.0</td>\n",
       "      <td>1672800.0</td>\n",
       "      <td>912800.0</td>\n",
       "      <td>2848100.0</td>\n",
       "      <td>2245300.0</td>\n",
       "      <td>3482900.0</td>\n",
       "    </tr>\n",
       "    <tr>\n",
       "      <th>2018-03-01</th>\n",
       "      <td>930700.0</td>\n",
       "      <td>813400.0</td>\n",
       "      <td>1170000.0</td>\n",
       "      <td>1023000.0</td>\n",
       "      <td>427100.0</td>\n",
       "      <td>837300.0</td>\n",
       "      <td>1037300.0</td>\n",
       "      <td>766200.0</td>\n",
       "      <td>589400.0</td>\n",
       "      <td>2244900.0</td>\n",
       "      <td>...</td>\n",
       "      <td>481000.0</td>\n",
       "      <td>915600.0</td>\n",
       "      <td>1578400.0</td>\n",
       "      <td>816900.0</td>\n",
       "      <td>511600.0</td>\n",
       "      <td>1694000.0</td>\n",
       "      <td>913900.0</td>\n",
       "      <td>2869600.0</td>\n",
       "      <td>2243700.0</td>\n",
       "      <td>3588100.0</td>\n",
       "    </tr>\n",
       "    <tr>\n",
       "      <th>2018-04-01</th>\n",
       "      <td>963200.0</td>\n",
       "      <td>816200.0</td>\n",
       "      <td>1195400.0</td>\n",
       "      <td>1015800.0</td>\n",
       "      <td>428400.0</td>\n",
       "      <td>844100.0</td>\n",
       "      <td>1048700.0</td>\n",
       "      <td>775500.0</td>\n",
       "      <td>593300.0</td>\n",
       "      <td>2243900.0</td>\n",
       "      <td>...</td>\n",
       "      <td>489900.0</td>\n",
       "      <td>917900.0</td>\n",
       "      <td>1598700.0</td>\n",
       "      <td>819600.0</td>\n",
       "      <td>517900.0</td>\n",
       "      <td>1721100.0</td>\n",
       "      <td>915300.0</td>\n",
       "      <td>2885300.0</td>\n",
       "      <td>2248400.0</td>\n",
       "      <td>3656000.0</td>\n",
       "    </tr>\n",
       "  </tbody>\n",
       "</table>\n",
       "<p>5 rows × 28 columns</p>\n",
       "</div>"
      ],
      "text/plain": [
       "               11226     11235      11230      11209     11212     11214  \\\n",
       "Month                                                                      \n",
       "2017-12-01  887800.0  799700.0  1102400.0  1018900.0  414900.0  826300.0   \n",
       "2018-01-01  890500.0  806600.0  1120200.0  1023500.0  422300.0  827600.0   \n",
       "2018-02-01  901700.0  810600.0  1141600.0  1029200.0  426300.0  830500.0   \n",
       "2018-03-01  930700.0  813400.0  1170000.0  1023000.0  427100.0  837300.0   \n",
       "2018-04-01  963200.0  816200.0  1195400.0  1015800.0  428400.0  844100.0   \n",
       "\n",
       "                11221     11229     11234      11215  ...     11203     11220  \\\n",
       "Month                                                 ...                       \n",
       "2017-12-01   998100.0  741000.0  575000.0  2287100.0  ...  474500.0  903000.0   \n",
       "2018-01-01  1000900.0  748100.0  579400.0  2288900.0  ...  475300.0  906500.0   \n",
       "2018-02-01  1015400.0  755800.0  583200.0  2265300.0  ...  474800.0  910700.0   \n",
       "2018-03-01  1037300.0  766200.0  589400.0  2244900.0  ...  481000.0  915600.0   \n",
       "2018-04-01  1048700.0  775500.0  593300.0  2243900.0  ...  489900.0  917900.0   \n",
       "\n",
       "                11216     11210     11224      11222     11228      11238  \\\n",
       "Month                                                                       \n",
       "2017-12-01  1545700.0  802900.0  498700.0  1651200.0  902200.0  2768900.0   \n",
       "2018-01-01  1540200.0  809100.0  502000.0  1661800.0  909000.0  2810700.0   \n",
       "2018-02-01  1553600.0  814500.0  505600.0  1672800.0  912800.0  2848100.0   \n",
       "2018-03-01  1578400.0  816900.0  511600.0  1694000.0  913900.0  2869600.0   \n",
       "2018-04-01  1598700.0  819600.0  517900.0  1721100.0  915300.0  2885300.0   \n",
       "\n",
       "                11205      11217  \n",
       "Month                             \n",
       "2017-12-01  2251000.0  3404100.0  \n",
       "2018-01-01  2251600.0  3413800.0  \n",
       "2018-02-01  2245300.0  3482900.0  \n",
       "2018-03-01  2243700.0  3588100.0  \n",
       "2018-04-01  2248400.0  3656000.0  \n",
       "\n",
       "[5 rows x 28 columns]"
      ]
     },
     "execution_count": 18,
     "metadata": {},
     "output_type": "execute_result"
    }
   ],
   "source": [
    "zip_df.tail()"
   ]
  },
  {
   "cell_type": "code",
   "execution_count": 19,
   "metadata": {
    "colab": {
     "base_uri": "https://localhost:8080/"
    },
    "id": "87SNbfDNCTpq",
    "outputId": "2da44572-8ed9-44cf-f300-472db7e30167"
   },
   "outputs": [
    {
     "data": {
      "text/plain": [
       "28"
      ]
     },
     "execution_count": 19,
     "metadata": {},
     "output_type": "execute_result"
    }
   ],
   "source": [
    "len(zip_df.columns)"
   ]
  },
  {
   "cell_type": "code",
   "execution_count": 20,
   "metadata": {
    "colab": {
     "base_uri": "https://localhost:8080/"
    },
    "id": "YuHJxkLobiUC",
    "outputId": "534c5264-6097-42c9-eb20-9d8c0a229671"
   },
   "outputs": [
    {
     "data": {
      "text/plain": [
       "DatetimeIndex(['1996-04-01', '1996-05-01', '1996-06-01', '1996-07-01',\n",
       "               '1996-08-01', '1996-09-01', '1996-10-01', '1996-11-01',\n",
       "               '1996-12-01', '1997-01-01',\n",
       "               ...\n",
       "               '2017-07-01', '2017-08-01', '2017-09-01', '2017-10-01',\n",
       "               '2017-11-01', '2017-12-01', '2018-01-01', '2018-02-01',\n",
       "               '2018-03-01', '2018-04-01'],\n",
       "              dtype='datetime64[ns]', name='Month', length=265, freq='MS')"
      ]
     },
     "execution_count": 20,
     "metadata": {},
     "output_type": "execute_result"
    }
   ],
   "source": [
    "zip_df.index"
   ]
  },
  {
   "cell_type": "code",
   "execution_count": 21,
   "metadata": {
    "colab": {
     "base_uri": "https://localhost:8080/"
    },
    "id": "ngeo31_HbiUG",
    "outputId": "6ce6bb0f-cde9-45e5-f4bd-45febfb5d1fa"
   },
   "outputs": [
    {
     "data": {
      "text/plain": [
       "11226     0\n",
       "11235     0\n",
       "11230     0\n",
       "11209     0\n",
       "11212     0\n",
       "11214     0\n",
       "11221     0\n",
       "11229     0\n",
       "11234     0\n",
       "11215     0\n",
       "11211     0\n",
       "11233     0\n",
       "11236     0\n",
       "11218     0\n",
       "11223     0\n",
       "11208     0\n",
       "11204     0\n",
       "11219     0\n",
       "11203     0\n",
       "11220     0\n",
       "11216     0\n",
       "11210     0\n",
       "11224     0\n",
       "11222     0\n",
       "11228     0\n",
       "11238    93\n",
       "11205    93\n",
       "11217    93\n",
       "dtype: int64"
      ]
     },
     "execution_count": 21,
     "metadata": {},
     "output_type": "execute_result"
    }
   ],
   "source": [
    "zip_df.isna().sum()"
   ]
  },
  {
   "cell_type": "markdown",
   "metadata": {
    "id": "EASqYe0Iu0_6"
   },
   "source": [
    "#### **NaN Values**"
   ]
  },
  {
   "cell_type": "code",
   "execution_count": 22,
   "metadata": {
    "id": "gJ_gRsqNbiUP"
   },
   "outputs": [],
   "source": [
    "zip_df.bfill(inplace=True)"
   ]
  },
  {
   "cell_type": "code",
   "execution_count": 23,
   "metadata": {
    "colab": {
     "base_uri": "https://localhost:8080/"
    },
    "id": "4K3fVTrf_c6z",
    "outputId": "730d4a67-d2c4-463c-e0b8-e0c8f878be25"
   },
   "outputs": [
    {
     "data": {
      "text/plain": [
       "11226    0\n",
       "11235    0\n",
       "11230    0\n",
       "11209    0\n",
       "11212    0\n",
       "11214    0\n",
       "11221    0\n",
       "11229    0\n",
       "11234    0\n",
       "11215    0\n",
       "11211    0\n",
       "11233    0\n",
       "11236    0\n",
       "11218    0\n",
       "11223    0\n",
       "11208    0\n",
       "11204    0\n",
       "11219    0\n",
       "11203    0\n",
       "11220    0\n",
       "11216    0\n",
       "11210    0\n",
       "11224    0\n",
       "11222    0\n",
       "11228    0\n",
       "11238    0\n",
       "11205    0\n",
       "11217    0\n",
       "dtype: int64"
      ]
     },
     "execution_count": 23,
     "metadata": {},
     "output_type": "execute_result"
    }
   ],
   "source": [
    "zip_df.isna().sum()"
   ]
  },
  {
   "cell_type": "code",
   "execution_count": 24,
   "metadata": {
    "colab": {
     "base_uri": "https://localhost:8080/"
    },
    "id": "zfzxZv8MbiUS",
    "outputId": "c6a34f9d-1bd4-46a4-ab7d-479648dfaa7a"
   },
   "outputs": [
    {
     "data": {
      "text/plain": [
       "671200.0     94\n",
       "1177800.0     2\n",
       "1839100.0     1\n",
       "1033400.0     1\n",
       "2530000.0     1\n",
       "             ..\n",
       "2346900.0     1\n",
       "665400.0      1\n",
       "1237600.0     1\n",
       "1361500.0     1\n",
       "1638400.0     1\n",
       "Name: 11238, Length: 171, dtype: int64"
      ]
     },
     "execution_count": 24,
     "metadata": {},
     "output_type": "execute_result"
    }
   ],
   "source": [
    "zip_df[11238].value_counts(dropna=False)"
   ]
  },
  {
   "cell_type": "code",
   "execution_count": 25,
   "metadata": {
    "colab": {
     "base_uri": "https://localhost:8080/"
    },
    "id": "YB3wd8s4biUV",
    "outputId": "e4204c37-f197-4547-b9ef-493fd12dae40"
   },
   "outputs": [
    {
     "data": {
      "text/plain": [
       "Int64Index([11226, 11235, 11230, 11209, 11212, 11214, 11221, 11229, 11234,\n",
       "            11215, 11211, 11233, 11236, 11218, 11223, 11208, 11204, 11219,\n",
       "            11203, 11220, 11216, 11210, 11224, 11222, 11228, 11238, 11205,\n",
       "            11217],\n",
       "           dtype='int64')"
      ]
     },
     "execution_count": 25,
     "metadata": {},
     "output_type": "execute_result"
    }
   ],
   "source": [
    "zip_df.keys()"
   ]
  },
  {
   "cell_type": "code",
   "execution_count": 26,
   "metadata": {
    "colab": {
     "base_uri": "https://localhost:8080/"
    },
    "id": "zS3cFsAR7BzS",
    "outputId": "dca5787b-4712-476b-b12e-544f3b1afd93"
   },
   "outputs": [
    {
     "data": {
      "text/plain": [
       "Month\n",
       "1996-04-01    671200.0\n",
       "1996-05-01    671200.0\n",
       "1996-06-01    671200.0\n",
       "1996-07-01    671200.0\n",
       "1996-08-01    671200.0\n",
       "Freq: MS, Name: 11238, dtype: float64"
      ]
     },
     "execution_count": 26,
     "metadata": {},
     "output_type": "execute_result"
    }
   ],
   "source": [
    "zip_df[11238].head()"
   ]
  },
  {
   "cell_type": "markdown",
   "metadata": {
    "id": "nswxNI8rRCwx"
   },
   "source": [
    "### **Graph of Price Trends of Brooklyn Zipcodes**"
   ]
  },
  {
   "cell_type": "code",
   "execution_count": 27,
   "metadata": {
    "colab": {
     "base_uri": "https://localhost:8080/",
     "height": 1000
    },
    "id": "IzMDX4LeVQgn",
    "outputId": "02fe9bab-9737-4350-b221-10cebbf52337"
   },
   "outputs": [
    {
     "data": {
      "text/html": [
       "<div>\n",
       "<style scoped>\n",
       "    .dataframe tbody tr th:only-of-type {\n",
       "        vertical-align: middle;\n",
       "    }\n",
       "\n",
       "    .dataframe tbody tr th {\n",
       "        vertical-align: top;\n",
       "    }\n",
       "\n",
       "    .dataframe thead th {\n",
       "        text-align: right;\n",
       "    }\n",
       "</style>\n",
       "<table border=\"1\" class=\"dataframe\">\n",
       "  <thead>\n",
       "    <tr style=\"text-align: right;\">\n",
       "      <th></th>\n",
       "      <th>11217</th>\n",
       "      <th>11238</th>\n",
       "      <th>11215</th>\n",
       "      <th>11212</th>\n",
       "    </tr>\n",
       "    <tr>\n",
       "      <th>Month</th>\n",
       "      <th></th>\n",
       "      <th></th>\n",
       "      <th></th>\n",
       "      <th></th>\n",
       "    </tr>\n",
       "  </thead>\n",
       "  <tbody>\n",
       "    <tr>\n",
       "      <th>1996-04-01</th>\n",
       "      <td>1037600.0</td>\n",
       "      <td>671200.0</td>\n",
       "      <td>225700.0</td>\n",
       "      <td>125000.0</td>\n",
       "    </tr>\n",
       "    <tr>\n",
       "      <th>1996-05-01</th>\n",
       "      <td>1037600.0</td>\n",
       "      <td>671200.0</td>\n",
       "      <td>227500.0</td>\n",
       "      <td>125000.0</td>\n",
       "    </tr>\n",
       "    <tr>\n",
       "      <th>1996-06-01</th>\n",
       "      <td>1037600.0</td>\n",
       "      <td>671200.0</td>\n",
       "      <td>229400.0</td>\n",
       "      <td>125000.0</td>\n",
       "    </tr>\n",
       "    <tr>\n",
       "      <th>1996-07-01</th>\n",
       "      <td>1037600.0</td>\n",
       "      <td>671200.0</td>\n",
       "      <td>231600.0</td>\n",
       "      <td>125000.0</td>\n",
       "    </tr>\n",
       "    <tr>\n",
       "      <th>1996-08-01</th>\n",
       "      <td>1037600.0</td>\n",
       "      <td>671200.0</td>\n",
       "      <td>234100.0</td>\n",
       "      <td>125100.0</td>\n",
       "    </tr>\n",
       "    <tr>\n",
       "      <th>1996-09-01</th>\n",
       "      <td>1037600.0</td>\n",
       "      <td>671200.0</td>\n",
       "      <td>236900.0</td>\n",
       "      <td>125100.0</td>\n",
       "    </tr>\n",
       "    <tr>\n",
       "      <th>1996-10-01</th>\n",
       "      <td>1037600.0</td>\n",
       "      <td>671200.0</td>\n",
       "      <td>239800.0</td>\n",
       "      <td>125000.0</td>\n",
       "    </tr>\n",
       "    <tr>\n",
       "      <th>1996-11-01</th>\n",
       "      <td>1037600.0</td>\n",
       "      <td>671200.0</td>\n",
       "      <td>242900.0</td>\n",
       "      <td>124800.0</td>\n",
       "    </tr>\n",
       "    <tr>\n",
       "      <th>1996-12-01</th>\n",
       "      <td>1037600.0</td>\n",
       "      <td>671200.0</td>\n",
       "      <td>246400.0</td>\n",
       "      <td>124600.0</td>\n",
       "    </tr>\n",
       "    <tr>\n",
       "      <th>1997-01-01</th>\n",
       "      <td>1037600.0</td>\n",
       "      <td>671200.0</td>\n",
       "      <td>249800.0</td>\n",
       "      <td>124500.0</td>\n",
       "    </tr>\n",
       "    <tr>\n",
       "      <th>1997-02-01</th>\n",
       "      <td>1037600.0</td>\n",
       "      <td>671200.0</td>\n",
       "      <td>252200.0</td>\n",
       "      <td>124500.0</td>\n",
       "    </tr>\n",
       "    <tr>\n",
       "      <th>1997-03-01</th>\n",
       "      <td>1037600.0</td>\n",
       "      <td>671200.0</td>\n",
       "      <td>253800.0</td>\n",
       "      <td>124500.0</td>\n",
       "    </tr>\n",
       "    <tr>\n",
       "      <th>1997-04-01</th>\n",
       "      <td>1037600.0</td>\n",
       "      <td>671200.0</td>\n",
       "      <td>255100.0</td>\n",
       "      <td>124500.0</td>\n",
       "    </tr>\n",
       "    <tr>\n",
       "      <th>1997-05-01</th>\n",
       "      <td>1037600.0</td>\n",
       "      <td>671200.0</td>\n",
       "      <td>256000.0</td>\n",
       "      <td>124700.0</td>\n",
       "    </tr>\n",
       "    <tr>\n",
       "      <th>1997-06-01</th>\n",
       "      <td>1037600.0</td>\n",
       "      <td>671200.0</td>\n",
       "      <td>256900.0</td>\n",
       "      <td>125100.0</td>\n",
       "    </tr>\n",
       "    <tr>\n",
       "      <th>1997-07-01</th>\n",
       "      <td>1037600.0</td>\n",
       "      <td>671200.0</td>\n",
       "      <td>258200.0</td>\n",
       "      <td>125500.0</td>\n",
       "    </tr>\n",
       "    <tr>\n",
       "      <th>1997-08-01</th>\n",
       "      <td>1037600.0</td>\n",
       "      <td>671200.0</td>\n",
       "      <td>260000.0</td>\n",
       "      <td>126000.0</td>\n",
       "    </tr>\n",
       "    <tr>\n",
       "      <th>1997-09-01</th>\n",
       "      <td>1037600.0</td>\n",
       "      <td>671200.0</td>\n",
       "      <td>262300.0</td>\n",
       "      <td>126400.0</td>\n",
       "    </tr>\n",
       "    <tr>\n",
       "      <th>1997-10-01</th>\n",
       "      <td>1037600.0</td>\n",
       "      <td>671200.0</td>\n",
       "      <td>264900.0</td>\n",
       "      <td>126800.0</td>\n",
       "    </tr>\n",
       "    <tr>\n",
       "      <th>1997-11-01</th>\n",
       "      <td>1037600.0</td>\n",
       "      <td>671200.0</td>\n",
       "      <td>268000.0</td>\n",
       "      <td>127000.0</td>\n",
       "    </tr>\n",
       "    <tr>\n",
       "      <th>1997-12-01</th>\n",
       "      <td>1037600.0</td>\n",
       "      <td>671200.0</td>\n",
       "      <td>271900.0</td>\n",
       "      <td>127100.0</td>\n",
       "    </tr>\n",
       "    <tr>\n",
       "      <th>1998-01-01</th>\n",
       "      <td>1037600.0</td>\n",
       "      <td>671200.0</td>\n",
       "      <td>276000.0</td>\n",
       "      <td>127500.0</td>\n",
       "    </tr>\n",
       "    <tr>\n",
       "      <th>1998-02-01</th>\n",
       "      <td>1037600.0</td>\n",
       "      <td>671200.0</td>\n",
       "      <td>279300.0</td>\n",
       "      <td>127900.0</td>\n",
       "    </tr>\n",
       "    <tr>\n",
       "      <th>1998-03-01</th>\n",
       "      <td>1037600.0</td>\n",
       "      <td>671200.0</td>\n",
       "      <td>282000.0</td>\n",
       "      <td>128200.0</td>\n",
       "    </tr>\n",
       "    <tr>\n",
       "      <th>1998-04-01</th>\n",
       "      <td>1037600.0</td>\n",
       "      <td>671200.0</td>\n",
       "      <td>284700.0</td>\n",
       "      <td>128700.0</td>\n",
       "    </tr>\n",
       "    <tr>\n",
       "      <th>1998-05-01</th>\n",
       "      <td>1037600.0</td>\n",
       "      <td>671200.0</td>\n",
       "      <td>287300.0</td>\n",
       "      <td>129400.0</td>\n",
       "    </tr>\n",
       "    <tr>\n",
       "      <th>1998-06-01</th>\n",
       "      <td>1037600.0</td>\n",
       "      <td>671200.0</td>\n",
       "      <td>290100.0</td>\n",
       "      <td>130100.0</td>\n",
       "    </tr>\n",
       "    <tr>\n",
       "      <th>1998-07-01</th>\n",
       "      <td>1037600.0</td>\n",
       "      <td>671200.0</td>\n",
       "      <td>293700.0</td>\n",
       "      <td>131000.0</td>\n",
       "    </tr>\n",
       "    <tr>\n",
       "      <th>1998-08-01</th>\n",
       "      <td>1037600.0</td>\n",
       "      <td>671200.0</td>\n",
       "      <td>297900.0</td>\n",
       "      <td>131800.0</td>\n",
       "    </tr>\n",
       "    <tr>\n",
       "      <th>1998-09-01</th>\n",
       "      <td>1037600.0</td>\n",
       "      <td>671200.0</td>\n",
       "      <td>302800.0</td>\n",
       "      <td>132600.0</td>\n",
       "    </tr>\n",
       "    <tr>\n",
       "      <th>1998-10-01</th>\n",
       "      <td>1037600.0</td>\n",
       "      <td>671200.0</td>\n",
       "      <td>308200.0</td>\n",
       "      <td>133300.0</td>\n",
       "    </tr>\n",
       "    <tr>\n",
       "      <th>1998-11-01</th>\n",
       "      <td>1037600.0</td>\n",
       "      <td>671200.0</td>\n",
       "      <td>314100.0</td>\n",
       "      <td>133700.0</td>\n",
       "    </tr>\n",
       "    <tr>\n",
       "      <th>1998-12-01</th>\n",
       "      <td>1037600.0</td>\n",
       "      <td>671200.0</td>\n",
       "      <td>321000.0</td>\n",
       "      <td>134100.0</td>\n",
       "    </tr>\n",
       "    <tr>\n",
       "      <th>1999-01-01</th>\n",
       "      <td>1037600.0</td>\n",
       "      <td>671200.0</td>\n",
       "      <td>327800.0</td>\n",
       "      <td>134600.0</td>\n",
       "    </tr>\n",
       "    <tr>\n",
       "      <th>1999-02-01</th>\n",
       "      <td>1037600.0</td>\n",
       "      <td>671200.0</td>\n",
       "      <td>333700.0</td>\n",
       "      <td>135300.0</td>\n",
       "    </tr>\n",
       "    <tr>\n",
       "      <th>1999-03-01</th>\n",
       "      <td>1037600.0</td>\n",
       "      <td>671200.0</td>\n",
       "      <td>338700.0</td>\n",
       "      <td>135900.0</td>\n",
       "    </tr>\n",
       "    <tr>\n",
       "      <th>1999-04-01</th>\n",
       "      <td>1037600.0</td>\n",
       "      <td>671200.0</td>\n",
       "      <td>343500.0</td>\n",
       "      <td>136700.0</td>\n",
       "    </tr>\n",
       "    <tr>\n",
       "      <th>1999-05-01</th>\n",
       "      <td>1037600.0</td>\n",
       "      <td>671200.0</td>\n",
       "      <td>348100.0</td>\n",
       "      <td>137600.0</td>\n",
       "    </tr>\n",
       "    <tr>\n",
       "      <th>1999-06-01</th>\n",
       "      <td>1037600.0</td>\n",
       "      <td>671200.0</td>\n",
       "      <td>352700.0</td>\n",
       "      <td>138600.0</td>\n",
       "    </tr>\n",
       "    <tr>\n",
       "      <th>1999-07-01</th>\n",
       "      <td>1037600.0</td>\n",
       "      <td>671200.0</td>\n",
       "      <td>358100.0</td>\n",
       "      <td>139700.0</td>\n",
       "    </tr>\n",
       "    <tr>\n",
       "      <th>1999-08-01</th>\n",
       "      <td>1037600.0</td>\n",
       "      <td>671200.0</td>\n",
       "      <td>364400.0</td>\n",
       "      <td>140900.0</td>\n",
       "    </tr>\n",
       "    <tr>\n",
       "      <th>1999-09-01</th>\n",
       "      <td>1037600.0</td>\n",
       "      <td>671200.0</td>\n",
       "      <td>371400.0</td>\n",
       "      <td>141800.0</td>\n",
       "    </tr>\n",
       "    <tr>\n",
       "      <th>1999-10-01</th>\n",
       "      <td>1037600.0</td>\n",
       "      <td>671200.0</td>\n",
       "      <td>378800.0</td>\n",
       "      <td>142700.0</td>\n",
       "    </tr>\n",
       "    <tr>\n",
       "      <th>1999-11-01</th>\n",
       "      <td>1037600.0</td>\n",
       "      <td>671200.0</td>\n",
       "      <td>386900.0</td>\n",
       "      <td>143300.0</td>\n",
       "    </tr>\n",
       "    <tr>\n",
       "      <th>1999-12-01</th>\n",
       "      <td>1037600.0</td>\n",
       "      <td>671200.0</td>\n",
       "      <td>396000.0</td>\n",
       "      <td>143700.0</td>\n",
       "    </tr>\n",
       "    <tr>\n",
       "      <th>2000-01-01</th>\n",
       "      <td>1037600.0</td>\n",
       "      <td>671200.0</td>\n",
       "      <td>404900.0</td>\n",
       "      <td>144300.0</td>\n",
       "    </tr>\n",
       "    <tr>\n",
       "      <th>2000-02-01</th>\n",
       "      <td>1037600.0</td>\n",
       "      <td>671200.0</td>\n",
       "      <td>412600.0</td>\n",
       "      <td>144900.0</td>\n",
       "    </tr>\n",
       "    <tr>\n",
       "      <th>2000-03-01</th>\n",
       "      <td>1037600.0</td>\n",
       "      <td>671200.0</td>\n",
       "      <td>419200.0</td>\n",
       "      <td>145500.0</td>\n",
       "    </tr>\n",
       "    <tr>\n",
       "      <th>2000-04-01</th>\n",
       "      <td>1037600.0</td>\n",
       "      <td>671200.0</td>\n",
       "      <td>425200.0</td>\n",
       "      <td>146100.0</td>\n",
       "    </tr>\n",
       "    <tr>\n",
       "      <th>2000-05-01</th>\n",
       "      <td>1037600.0</td>\n",
       "      <td>671200.0</td>\n",
       "      <td>430600.0</td>\n",
       "      <td>146900.0</td>\n",
       "    </tr>\n",
       "  </tbody>\n",
       "</table>\n",
       "</div>"
      ],
      "text/plain": [
       "                11217     11238     11215     11212\n",
       "Month                                              \n",
       "1996-04-01  1037600.0  671200.0  225700.0  125000.0\n",
       "1996-05-01  1037600.0  671200.0  227500.0  125000.0\n",
       "1996-06-01  1037600.0  671200.0  229400.0  125000.0\n",
       "1996-07-01  1037600.0  671200.0  231600.0  125000.0\n",
       "1996-08-01  1037600.0  671200.0  234100.0  125100.0\n",
       "1996-09-01  1037600.0  671200.0  236900.0  125100.0\n",
       "1996-10-01  1037600.0  671200.0  239800.0  125000.0\n",
       "1996-11-01  1037600.0  671200.0  242900.0  124800.0\n",
       "1996-12-01  1037600.0  671200.0  246400.0  124600.0\n",
       "1997-01-01  1037600.0  671200.0  249800.0  124500.0\n",
       "1997-02-01  1037600.0  671200.0  252200.0  124500.0\n",
       "1997-03-01  1037600.0  671200.0  253800.0  124500.0\n",
       "1997-04-01  1037600.0  671200.0  255100.0  124500.0\n",
       "1997-05-01  1037600.0  671200.0  256000.0  124700.0\n",
       "1997-06-01  1037600.0  671200.0  256900.0  125100.0\n",
       "1997-07-01  1037600.0  671200.0  258200.0  125500.0\n",
       "1997-08-01  1037600.0  671200.0  260000.0  126000.0\n",
       "1997-09-01  1037600.0  671200.0  262300.0  126400.0\n",
       "1997-10-01  1037600.0  671200.0  264900.0  126800.0\n",
       "1997-11-01  1037600.0  671200.0  268000.0  127000.0\n",
       "1997-12-01  1037600.0  671200.0  271900.0  127100.0\n",
       "1998-01-01  1037600.0  671200.0  276000.0  127500.0\n",
       "1998-02-01  1037600.0  671200.0  279300.0  127900.0\n",
       "1998-03-01  1037600.0  671200.0  282000.0  128200.0\n",
       "1998-04-01  1037600.0  671200.0  284700.0  128700.0\n",
       "1998-05-01  1037600.0  671200.0  287300.0  129400.0\n",
       "1998-06-01  1037600.0  671200.0  290100.0  130100.0\n",
       "1998-07-01  1037600.0  671200.0  293700.0  131000.0\n",
       "1998-08-01  1037600.0  671200.0  297900.0  131800.0\n",
       "1998-09-01  1037600.0  671200.0  302800.0  132600.0\n",
       "1998-10-01  1037600.0  671200.0  308200.0  133300.0\n",
       "1998-11-01  1037600.0  671200.0  314100.0  133700.0\n",
       "1998-12-01  1037600.0  671200.0  321000.0  134100.0\n",
       "1999-01-01  1037600.0  671200.0  327800.0  134600.0\n",
       "1999-02-01  1037600.0  671200.0  333700.0  135300.0\n",
       "1999-03-01  1037600.0  671200.0  338700.0  135900.0\n",
       "1999-04-01  1037600.0  671200.0  343500.0  136700.0\n",
       "1999-05-01  1037600.0  671200.0  348100.0  137600.0\n",
       "1999-06-01  1037600.0  671200.0  352700.0  138600.0\n",
       "1999-07-01  1037600.0  671200.0  358100.0  139700.0\n",
       "1999-08-01  1037600.0  671200.0  364400.0  140900.0\n",
       "1999-09-01  1037600.0  671200.0  371400.0  141800.0\n",
       "1999-10-01  1037600.0  671200.0  378800.0  142700.0\n",
       "1999-11-01  1037600.0  671200.0  386900.0  143300.0\n",
       "1999-12-01  1037600.0  671200.0  396000.0  143700.0\n",
       "2000-01-01  1037600.0  671200.0  404900.0  144300.0\n",
       "2000-02-01  1037600.0  671200.0  412600.0  144900.0\n",
       "2000-03-01  1037600.0  671200.0  419200.0  145500.0\n",
       "2000-04-01  1037600.0  671200.0  425200.0  146100.0\n",
       "2000-05-01  1037600.0  671200.0  430600.0  146900.0"
      ]
     },
     "execution_count": 27,
     "metadata": {},
     "output_type": "execute_result"
    }
   ],
   "source": [
    "zip_df_1 = zip_df[[11217, 11238,11215,11212]]\n",
    "zip_df_1.head(50)"
   ]
  },
  {
   "cell_type": "code",
   "execution_count": 28,
   "metadata": {
    "colab": {
     "base_uri": "https://localhost:8080/",
     "height": 530
    },
    "id": "wGnxTXmCbiUZ",
    "outputId": "c5839245-9e31-499d-870c-fc4204c6a809"
   },
   "outputs": [
    {
     "data": {
      "text/plain": [
       "<matplotlib.legend.Legend at 0x7fb252f37240>"
      ]
     },
     "execution_count": 28,
     "metadata": {},
     "output_type": "execute_result"
    },
    {
     "data": {
      "image/png": "[encoded data removed]",
      "text/plain": [
       "<Figure size 864x576 with 1 Axes>"
      ]
     },
     "metadata": {
      "needs_background": "light"
     },
     "output_type": "display_data"
    }
   ],
   "source": [
    "zip_df_1.plot(figsize=(12,8))\n",
    "plt.title(\"Housing Price Trends \")\n",
    "#plt.set(title=f'Housing Prices by Year - {zip_df.index.freq}')\n",
    "plt.xlabel('Year')\n",
    "plt.ylabel('Home Prices')\n",
    "plt.legend(bbox_to_anchor=(1.05,1),loc='upper left')"
   ]
  },
  {
   "cell_type": "markdown",
   "metadata": {
    "id": "X5YrChO88Rs5"
   },
   "source": [
    "Zipcodes: 11217, 11238, 11215 had the same values for monthly real easte so I created a plot eliminating these dates.  <br>"
   ]
  },
  {
   "cell_type": "code",
   "execution_count": 29,
   "metadata": {
    "colab": {
     "base_uri": "https://localhost:8080/",
     "height": 450
    },
    "id": "hK18KcJ94w9d",
    "outputId": "f6fb1f99-3962-49cf-8996-c20758d1b8f8"
   },
   "outputs": [
    {
     "data": {
      "text/html": [
       "<div>\n",
       "<style scoped>\n",
       "    .dataframe tbody tr th:only-of-type {\n",
       "        vertical-align: middle;\n",
       "    }\n",
       "\n",
       "    .dataframe tbody tr th {\n",
       "        vertical-align: top;\n",
       "    }\n",
       "\n",
       "    .dataframe thead th {\n",
       "        text-align: right;\n",
       "    }\n",
       "</style>\n",
       "<table border=\"1\" class=\"dataframe\">\n",
       "  <thead>\n",
       "    <tr style=\"text-align: right;\">\n",
       "      <th></th>\n",
       "      <th>11217</th>\n",
       "      <th>11238</th>\n",
       "      <th>11215</th>\n",
       "      <th>11212</th>\n",
       "    </tr>\n",
       "    <tr>\n",
       "      <th>Month</th>\n",
       "      <th></th>\n",
       "      <th></th>\n",
       "      <th></th>\n",
       "      <th></th>\n",
       "    </tr>\n",
       "  </thead>\n",
       "  <tbody>\n",
       "    <tr>\n",
       "      <th>2003-12-01</th>\n",
       "      <td>1037600.0</td>\n",
       "      <td>671200.0</td>\n",
       "      <td>720300.0</td>\n",
       "      <td>200100.0</td>\n",
       "    </tr>\n",
       "    <tr>\n",
       "      <th>2004-01-01</th>\n",
       "      <td>1037600.0</td>\n",
       "      <td>671200.0</td>\n",
       "      <td>727100.0</td>\n",
       "      <td>201900.0</td>\n",
       "    </tr>\n",
       "    <tr>\n",
       "      <th>2004-02-01</th>\n",
       "      <td>1035300.0</td>\n",
       "      <td>665400.0</td>\n",
       "      <td>739000.0</td>\n",
       "      <td>204100.0</td>\n",
       "    </tr>\n",
       "    <tr>\n",
       "      <th>2004-03-01</th>\n",
       "      <td>1031400.0</td>\n",
       "      <td>662500.0</td>\n",
       "      <td>754000.0</td>\n",
       "      <td>206200.0</td>\n",
       "    </tr>\n",
       "    <tr>\n",
       "      <th>2004-04-01</th>\n",
       "      <td>1024000.0</td>\n",
       "      <td>660200.0</td>\n",
       "      <td>768600.0</td>\n",
       "      <td>208400.0</td>\n",
       "    </tr>\n",
       "    <tr>\n",
       "      <th>...</th>\n",
       "      <td>...</td>\n",
       "      <td>...</td>\n",
       "      <td>...</td>\n",
       "      <td>...</td>\n",
       "    </tr>\n",
       "    <tr>\n",
       "      <th>2017-12-01</th>\n",
       "      <td>3404100.0</td>\n",
       "      <td>2768900.0</td>\n",
       "      <td>2287100.0</td>\n",
       "      <td>414900.0</td>\n",
       "    </tr>\n",
       "    <tr>\n",
       "      <th>2018-01-01</th>\n",
       "      <td>3413800.0</td>\n",
       "      <td>2810700.0</td>\n",
       "      <td>2288900.0</td>\n",
       "      <td>422300.0</td>\n",
       "    </tr>\n",
       "    <tr>\n",
       "      <th>2018-02-01</th>\n",
       "      <td>3482900.0</td>\n",
       "      <td>2848100.0</td>\n",
       "      <td>2265300.0</td>\n",
       "      <td>426300.0</td>\n",
       "    </tr>\n",
       "    <tr>\n",
       "      <th>2018-03-01</th>\n",
       "      <td>3588100.0</td>\n",
       "      <td>2869600.0</td>\n",
       "      <td>2244900.0</td>\n",
       "      <td>427100.0</td>\n",
       "    </tr>\n",
       "    <tr>\n",
       "      <th>2018-04-01</th>\n",
       "      <td>3656000.0</td>\n",
       "      <td>2885300.0</td>\n",
       "      <td>2243900.0</td>\n",
       "      <td>428400.0</td>\n",
       "    </tr>\n",
       "  </tbody>\n",
       "</table>\n",
       "<p>173 rows × 4 columns</p>\n",
       "</div>"
      ],
      "text/plain": [
       "                11217      11238      11215     11212\n",
       "Month                                                \n",
       "2003-12-01  1037600.0   671200.0   720300.0  200100.0\n",
       "2004-01-01  1037600.0   671200.0   727100.0  201900.0\n",
       "2004-02-01  1035300.0   665400.0   739000.0  204100.0\n",
       "2004-03-01  1031400.0   662500.0   754000.0  206200.0\n",
       "2004-04-01  1024000.0   660200.0   768600.0  208400.0\n",
       "...               ...        ...        ...       ...\n",
       "2017-12-01  3404100.0  2768900.0  2287100.0  414900.0\n",
       "2018-01-01  3413800.0  2810700.0  2288900.0  422300.0\n",
       "2018-02-01  3482900.0  2848100.0  2265300.0  426300.0\n",
       "2018-03-01  3588100.0  2869600.0  2244900.0  427100.0\n",
       "2018-04-01  3656000.0  2885300.0  2243900.0  428400.0\n",
       "\n",
       "[173 rows x 4 columns]"
      ]
     },
     "execution_count": 29,
     "metadata": {},
     "output_type": "execute_result"
    }
   ],
   "source": [
    "zip_no_nan = zip_df_1['2003-12-01':] \n",
    "zip_no_nan"
   ]
  },
  {
   "cell_type": "code",
   "execution_count": 30,
   "metadata": {
    "colab": {
     "base_uri": "https://localhost:8080/",
     "height": 530
    },
    "id": "CFkJV9N-5Cw9",
    "outputId": "61863eaa-921a-4236-f14a-e7d955c08338"
   },
   "outputs": [
    {
     "data": {
      "text/plain": [
       "<matplotlib.legend.Legend at 0x7fb253074438>"
      ]
     },
     "execution_count": 30,
     "metadata": {},
     "output_type": "execute_result"
    },
    {
     "data": {
      "image/png": "[encoded data removed]",
      "text/plain": [
       "<Figure size 864x576 with 1 Axes>"
      ]
     },
     "metadata": {
      "needs_background": "light"
     },
     "output_type": "display_data"
    }
   ],
   "source": [
    "zip_no_nan.plot(figsize=(12,8))\n",
    "plt.title(\"Housing Price Trends \")\n",
    "#plt.set(title=f'Housing Prices by Year - {zip_df.index.freq}')\n",
    "plt.xlabel('Year')\n",
    "plt.ylabel('Home Prices')\n",
    "plt.legend(bbox_to_anchor=(1.05,1),loc='upper left')"
   ]
  },
  {
   "cell_type": "code",
   "execution_count": 31,
   "metadata": {
    "colab": {
     "base_uri": "https://localhost:8080/",
     "height": 530
    },
    "id": "w0Uhc7FbWNps",
    "outputId": "c4c74bbe-ad0b-420f-be0e-34e875de8d12"
   },
   "outputs": [
    {
     "data": {
      "text/plain": [
       "<matplotlib.legend.Legend at 0x7fb26eaca908>"
      ]
     },
     "execution_count": 31,
     "metadata": {},
     "output_type": "execute_result"
    },
    {
     "data": {
      "image/png": "[encoded data removed]",
      "text/plain": [
       "<Figure size 864x576 with 1 Axes>"
      ]
     },
     "metadata": {
      "needs_background": "light"
     },
     "output_type": "display_data"
    }
   ],
   "source": [
    "zip_df.plot(figsize=(12,8))\n",
    "plt.title(\"Housing Price Trends \")\n",
    "#plt.set(title=f'Housing Prices by Year - {zip_df.index.freq}')\n",
    "plt.xlabel('Year')\n",
    "plt.ylabel('Home Prices')\n",
    "plt.legend(bbox_to_anchor=(1.05,1),loc='upper left')"
   ]
  },
  {
   "cell_type": "code",
   "execution_count": 32,
   "metadata": {
    "colab": {
     "base_uri": "https://localhost:8080/",
     "height": 340
    },
    "id": "LOT5jY4jhLb6",
    "outputId": "e50594ff-7f2c-44f8-dff2-575d442a4d38"
   },
   "outputs": [
    {
     "data": {
      "text/html": [
       "<div>\n",
       "<style scoped>\n",
       "    .dataframe tbody tr th:only-of-type {\n",
       "        vertical-align: middle;\n",
       "    }\n",
       "\n",
       "    .dataframe tbody tr th {\n",
       "        vertical-align: top;\n",
       "    }\n",
       "\n",
       "    .dataframe thead th {\n",
       "        text-align: right;\n",
       "    }\n",
       "</style>\n",
       "<table border=\"1\" class=\"dataframe\">\n",
       "  <thead>\n",
       "    <tr style=\"text-align: right;\">\n",
       "      <th></th>\n",
       "      <th>11226</th>\n",
       "      <th>11235</th>\n",
       "      <th>11230</th>\n",
       "      <th>11209</th>\n",
       "      <th>11212</th>\n",
       "      <th>11214</th>\n",
       "      <th>11221</th>\n",
       "      <th>11229</th>\n",
       "      <th>11234</th>\n",
       "      <th>11215</th>\n",
       "      <th>...</th>\n",
       "      <th>11203</th>\n",
       "      <th>11220</th>\n",
       "      <th>11216</th>\n",
       "      <th>11210</th>\n",
       "      <th>11224</th>\n",
       "      <th>11222</th>\n",
       "      <th>11228</th>\n",
       "      <th>11238</th>\n",
       "      <th>11205</th>\n",
       "      <th>11217</th>\n",
       "    </tr>\n",
       "    <tr>\n",
       "      <th>Month</th>\n",
       "      <th></th>\n",
       "      <th></th>\n",
       "      <th></th>\n",
       "      <th></th>\n",
       "      <th></th>\n",
       "      <th></th>\n",
       "      <th></th>\n",
       "      <th></th>\n",
       "      <th></th>\n",
       "      <th></th>\n",
       "      <th></th>\n",
       "      <th></th>\n",
       "      <th></th>\n",
       "      <th></th>\n",
       "      <th></th>\n",
       "      <th></th>\n",
       "      <th></th>\n",
       "      <th></th>\n",
       "      <th></th>\n",
       "      <th></th>\n",
       "      <th></th>\n",
       "    </tr>\n",
       "  </thead>\n",
       "  <tbody>\n",
       "    <tr>\n",
       "      <th>2017-12-01</th>\n",
       "      <td>887800.0</td>\n",
       "      <td>799700.0</td>\n",
       "      <td>1102400.0</td>\n",
       "      <td>1018900.0</td>\n",
       "      <td>414900.0</td>\n",
       "      <td>826300.0</td>\n",
       "      <td>998100.0</td>\n",
       "      <td>741000.0</td>\n",
       "      <td>575000.0</td>\n",
       "      <td>2287100.0</td>\n",
       "      <td>...</td>\n",
       "      <td>474500.0</td>\n",
       "      <td>903000.0</td>\n",
       "      <td>1545700.0</td>\n",
       "      <td>802900.0</td>\n",
       "      <td>498700.0</td>\n",
       "      <td>1651200.0</td>\n",
       "      <td>902200.0</td>\n",
       "      <td>2768900.0</td>\n",
       "      <td>2251000.0</td>\n",
       "      <td>3404100.0</td>\n",
       "    </tr>\n",
       "    <tr>\n",
       "      <th>2018-01-01</th>\n",
       "      <td>890500.0</td>\n",
       "      <td>806600.0</td>\n",
       "      <td>1120200.0</td>\n",
       "      <td>1023500.0</td>\n",
       "      <td>422300.0</td>\n",
       "      <td>827600.0</td>\n",
       "      <td>1000900.0</td>\n",
       "      <td>748100.0</td>\n",
       "      <td>579400.0</td>\n",
       "      <td>2288900.0</td>\n",
       "      <td>...</td>\n",
       "      <td>475300.0</td>\n",
       "      <td>906500.0</td>\n",
       "      <td>1540200.0</td>\n",
       "      <td>809100.0</td>\n",
       "      <td>502000.0</td>\n",
       "      <td>1661800.0</td>\n",
       "      <td>909000.0</td>\n",
       "      <td>2810700.0</td>\n",
       "      <td>2251600.0</td>\n",
       "      <td>3413800.0</td>\n",
       "    </tr>\n",
       "    <tr>\n",
       "      <th>2018-02-01</th>\n",
       "      <td>901700.0</td>\n",
       "      <td>810600.0</td>\n",
       "      <td>1141600.0</td>\n",
       "      <td>1029200.0</td>\n",
       "      <td>426300.0</td>\n",
       "      <td>830500.0</td>\n",
       "      <td>1015400.0</td>\n",
       "      <td>755800.0</td>\n",
       "      <td>583200.0</td>\n",
       "      <td>2265300.0</td>\n",
       "      <td>...</td>\n",
       "      <td>474800.0</td>\n",
       "      <td>910700.0</td>\n",
       "      <td>1553600.0</td>\n",
       "      <td>814500.0</td>\n",
       "      <td>505600.0</td>\n",
       "      <td>1672800.0</td>\n",
       "      <td>912800.0</td>\n",
       "      <td>2848100.0</td>\n",
       "      <td>2245300.0</td>\n",
       "      <td>3482900.0</td>\n",
       "    </tr>\n",
       "    <tr>\n",
       "      <th>2018-03-01</th>\n",
       "      <td>930700.0</td>\n",
       "      <td>813400.0</td>\n",
       "      <td>1170000.0</td>\n",
       "      <td>1023000.0</td>\n",
       "      <td>427100.0</td>\n",
       "      <td>837300.0</td>\n",
       "      <td>1037300.0</td>\n",
       "      <td>766200.0</td>\n",
       "      <td>589400.0</td>\n",
       "      <td>2244900.0</td>\n",
       "      <td>...</td>\n",
       "      <td>481000.0</td>\n",
       "      <td>915600.0</td>\n",
       "      <td>1578400.0</td>\n",
       "      <td>816900.0</td>\n",
       "      <td>511600.0</td>\n",
       "      <td>1694000.0</td>\n",
       "      <td>913900.0</td>\n",
       "      <td>2869600.0</td>\n",
       "      <td>2243700.0</td>\n",
       "      <td>3588100.0</td>\n",
       "    </tr>\n",
       "    <tr>\n",
       "      <th>2018-04-01</th>\n",
       "      <td>963200.0</td>\n",
       "      <td>816200.0</td>\n",
       "      <td>1195400.0</td>\n",
       "      <td>1015800.0</td>\n",
       "      <td>428400.0</td>\n",
       "      <td>844100.0</td>\n",
       "      <td>1048700.0</td>\n",
       "      <td>775500.0</td>\n",
       "      <td>593300.0</td>\n",
       "      <td>2243900.0</td>\n",
       "      <td>...</td>\n",
       "      <td>489900.0</td>\n",
       "      <td>917900.0</td>\n",
       "      <td>1598700.0</td>\n",
       "      <td>819600.0</td>\n",
       "      <td>517900.0</td>\n",
       "      <td>1721100.0</td>\n",
       "      <td>915300.0</td>\n",
       "      <td>2885300.0</td>\n",
       "      <td>2248400.0</td>\n",
       "      <td>3656000.0</td>\n",
       "    </tr>\n",
       "  </tbody>\n",
       "</table>\n",
       "<p>5 rows × 28 columns</p>\n",
       "</div>"
      ],
      "text/plain": [
       "               11226     11235      11230      11209     11212     11214  \\\n",
       "Month                                                                      \n",
       "2017-12-01  887800.0  799700.0  1102400.0  1018900.0  414900.0  826300.0   \n",
       "2018-01-01  890500.0  806600.0  1120200.0  1023500.0  422300.0  827600.0   \n",
       "2018-02-01  901700.0  810600.0  1141600.0  1029200.0  426300.0  830500.0   \n",
       "2018-03-01  930700.0  813400.0  1170000.0  1023000.0  427100.0  837300.0   \n",
       "2018-04-01  963200.0  816200.0  1195400.0  1015800.0  428400.0  844100.0   \n",
       "\n",
       "                11221     11229     11234      11215  ...     11203     11220  \\\n",
       "Month                                                 ...                       \n",
       "2017-12-01   998100.0  741000.0  575000.0  2287100.0  ...  474500.0  903000.0   \n",
       "2018-01-01  1000900.0  748100.0  579400.0  2288900.0  ...  475300.0  906500.0   \n",
       "2018-02-01  1015400.0  755800.0  583200.0  2265300.0  ...  474800.0  910700.0   \n",
       "2018-03-01  1037300.0  766200.0  589400.0  2244900.0  ...  481000.0  915600.0   \n",
       "2018-04-01  1048700.0  775500.0  593300.0  2243900.0  ...  489900.0  917900.0   \n",
       "\n",
       "                11216     11210     11224      11222     11228      11238  \\\n",
       "Month                                                                       \n",
       "2017-12-01  1545700.0  802900.0  498700.0  1651200.0  902200.0  2768900.0   \n",
       "2018-01-01  1540200.0  809100.0  502000.0  1661800.0  909000.0  2810700.0   \n",
       "2018-02-01  1553600.0  814500.0  505600.0  1672800.0  912800.0  2848100.0   \n",
       "2018-03-01  1578400.0  816900.0  511600.0  1694000.0  913900.0  2869600.0   \n",
       "2018-04-01  1598700.0  819600.0  517900.0  1721100.0  915300.0  2885300.0   \n",
       "\n",
       "                11205      11217  \n",
       "Month                             \n",
       "2017-12-01  2251000.0  3404100.0  \n",
       "2018-01-01  2251600.0  3413800.0  \n",
       "2018-02-01  2245300.0  3482900.0  \n",
       "2018-03-01  2243700.0  3588100.0  \n",
       "2018-04-01  2248400.0  3656000.0  \n",
       "\n",
       "[5 rows x 28 columns]"
      ]
     },
     "execution_count": 32,
     "metadata": {},
     "output_type": "execute_result"
    }
   ],
   "source": [
    "zip_df.tail()"
   ]
  },
  {
   "cell_type": "markdown",
   "metadata": {
    "id": "20YZOH-pEZHr"
   },
   "source": [
    "### **Train/Test Split**\n",
    "The zip_df dataset will be split into train and test sets for the models.  Train data set is from 1996–04–01 to 2014–01–01. The length of our train data set is 214 rows, or 214 time periods.<br>\n",
    " <br>\n",
    "Test data set is from 2014–01–01 to 2018–04–01. The length of our test data is 52 rows, or 52 time periods. \n",
    "That is the value will use for our .predict() method. "
   ]
  },
  {
   "cell_type": "code",
   "execution_count": 33,
   "metadata": {
    "id": "cha0zTs-biUc"
   },
   "outputs": [],
   "source": [
    "year = '2014-01-01'\n",
    "train_brk = zip_df.loc[:year]\n",
    "test_brk = zip_df.loc[year:]"
   ]
  },
  {
   "cell_type": "code",
   "execution_count": 34,
   "metadata": {
    "colab": {
     "base_uri": "https://localhost:8080/"
    },
    "id": "IXnnCEIVbiUf",
    "outputId": "317bca91-3cbe-4d87-caaf-e2970a77f45f"
   },
   "outputs": [
    {
     "name": "stdout",
     "output_type": "stream",
     "text": [
      "265\n",
      "(214, 28)\n",
      "(52, 28)\n"
     ]
    }
   ],
   "source": [
    "print(len(zip_df))\n",
    "print(train_brk.shape)\n",
    "print(test_brk.shape)"
   ]
  },
  {
   "cell_type": "code",
   "execution_count": 35,
   "metadata": {
    "colab": {
     "base_uri": "https://localhost:8080/",
     "height": 340
    },
    "id": "BbwT-gkwG8pF",
    "outputId": "5ca02075-93c9-4bc7-c1e3-a4c448aff728"
   },
   "outputs": [
    {
     "data": {
      "text/html": [
       "<div>\n",
       "<style scoped>\n",
       "    .dataframe tbody tr th:only-of-type {\n",
       "        vertical-align: middle;\n",
       "    }\n",
       "\n",
       "    .dataframe tbody tr th {\n",
       "        vertical-align: top;\n",
       "    }\n",
       "\n",
       "    .dataframe thead th {\n",
       "        text-align: right;\n",
       "    }\n",
       "</style>\n",
       "<table border=\"1\" class=\"dataframe\">\n",
       "  <thead>\n",
       "    <tr style=\"text-align: right;\">\n",
       "      <th></th>\n",
       "      <th>11226</th>\n",
       "      <th>11235</th>\n",
       "      <th>11230</th>\n",
       "      <th>11209</th>\n",
       "      <th>11212</th>\n",
       "      <th>11214</th>\n",
       "      <th>11221</th>\n",
       "      <th>11229</th>\n",
       "      <th>11234</th>\n",
       "      <th>11215</th>\n",
       "      <th>...</th>\n",
       "      <th>11203</th>\n",
       "      <th>11220</th>\n",
       "      <th>11216</th>\n",
       "      <th>11210</th>\n",
       "      <th>11224</th>\n",
       "      <th>11222</th>\n",
       "      <th>11228</th>\n",
       "      <th>11238</th>\n",
       "      <th>11205</th>\n",
       "      <th>11217</th>\n",
       "    </tr>\n",
       "    <tr>\n",
       "      <th>Month</th>\n",
       "      <th></th>\n",
       "      <th></th>\n",
       "      <th></th>\n",
       "      <th></th>\n",
       "      <th></th>\n",
       "      <th></th>\n",
       "      <th></th>\n",
       "      <th></th>\n",
       "      <th></th>\n",
       "      <th></th>\n",
       "      <th></th>\n",
       "      <th></th>\n",
       "      <th></th>\n",
       "      <th></th>\n",
       "      <th></th>\n",
       "      <th></th>\n",
       "      <th></th>\n",
       "      <th></th>\n",
       "      <th></th>\n",
       "      <th></th>\n",
       "      <th></th>\n",
       "    </tr>\n",
       "  </thead>\n",
       "  <tbody>\n",
       "    <tr>\n",
       "      <th>2013-09-01</th>\n",
       "      <td>551600.0</td>\n",
       "      <td>545200.0</td>\n",
       "      <td>791000.0</td>\n",
       "      <td>787900.0</td>\n",
       "      <td>280900.0</td>\n",
       "      <td>602000.0</td>\n",
       "      <td>530100.0</td>\n",
       "      <td>524200.0</td>\n",
       "      <td>437100.0</td>\n",
       "      <td>1501900.0</td>\n",
       "      <td>...</td>\n",
       "      <td>362700.0</td>\n",
       "      <td>657900.0</td>\n",
       "      <td>744700.0</td>\n",
       "      <td>544400.0</td>\n",
       "      <td>409800.0</td>\n",
       "      <td>863400.0</td>\n",
       "      <td>660800.0</td>\n",
       "      <td>1613500.0</td>\n",
       "      <td>1640100.0</td>\n",
       "      <td>2111700.0</td>\n",
       "    </tr>\n",
       "    <tr>\n",
       "      <th>2013-10-01</th>\n",
       "      <td>558900.0</td>\n",
       "      <td>547300.0</td>\n",
       "      <td>802300.0</td>\n",
       "      <td>796100.0</td>\n",
       "      <td>282200.0</td>\n",
       "      <td>607600.0</td>\n",
       "      <td>538200.0</td>\n",
       "      <td>527500.0</td>\n",
       "      <td>437800.0</td>\n",
       "      <td>1513200.0</td>\n",
       "      <td>...</td>\n",
       "      <td>362600.0</td>\n",
       "      <td>667100.0</td>\n",
       "      <td>752500.0</td>\n",
       "      <td>546500.0</td>\n",
       "      <td>397700.0</td>\n",
       "      <td>866600.0</td>\n",
       "      <td>667100.0</td>\n",
       "      <td>1638400.0</td>\n",
       "      <td>1658800.0</td>\n",
       "      <td>2146000.0</td>\n",
       "    </tr>\n",
       "    <tr>\n",
       "      <th>2013-11-01</th>\n",
       "      <td>566200.0</td>\n",
       "      <td>550600.0</td>\n",
       "      <td>809000.0</td>\n",
       "      <td>799700.0</td>\n",
       "      <td>282500.0</td>\n",
       "      <td>608800.0</td>\n",
       "      <td>545800.0</td>\n",
       "      <td>530400.0</td>\n",
       "      <td>437700.0</td>\n",
       "      <td>1516200.0</td>\n",
       "      <td>...</td>\n",
       "      <td>361700.0</td>\n",
       "      <td>669800.0</td>\n",
       "      <td>757800.0</td>\n",
       "      <td>549200.0</td>\n",
       "      <td>387300.0</td>\n",
       "      <td>870800.0</td>\n",
       "      <td>671500.0</td>\n",
       "      <td>1640700.0</td>\n",
       "      <td>1659500.0</td>\n",
       "      <td>2158600.0</td>\n",
       "    </tr>\n",
       "    <tr>\n",
       "      <th>2013-12-01</th>\n",
       "      <td>572600.0</td>\n",
       "      <td>554600.0</td>\n",
       "      <td>813000.0</td>\n",
       "      <td>806000.0</td>\n",
       "      <td>283300.0</td>\n",
       "      <td>608300.0</td>\n",
       "      <td>556100.0</td>\n",
       "      <td>533500.0</td>\n",
       "      <td>438900.0</td>\n",
       "      <td>1536500.0</td>\n",
       "      <td>...</td>\n",
       "      <td>361000.0</td>\n",
       "      <td>670500.0</td>\n",
       "      <td>766200.0</td>\n",
       "      <td>554300.0</td>\n",
       "      <td>382900.0</td>\n",
       "      <td>888300.0</td>\n",
       "      <td>677300.0</td>\n",
       "      <td>1661500.0</td>\n",
       "      <td>1670200.0</td>\n",
       "      <td>2173100.0</td>\n",
       "    </tr>\n",
       "    <tr>\n",
       "      <th>2014-01-01</th>\n",
       "      <td>580700.0</td>\n",
       "      <td>558200.0</td>\n",
       "      <td>819000.0</td>\n",
       "      <td>813900.0</td>\n",
       "      <td>285200.0</td>\n",
       "      <td>612200.0</td>\n",
       "      <td>569100.0</td>\n",
       "      <td>537700.0</td>\n",
       "      <td>441500.0</td>\n",
       "      <td>1577500.0</td>\n",
       "      <td>...</td>\n",
       "      <td>361000.0</td>\n",
       "      <td>674600.0</td>\n",
       "      <td>777900.0</td>\n",
       "      <td>561500.0</td>\n",
       "      <td>380800.0</td>\n",
       "      <td>924400.0</td>\n",
       "      <td>685900.0</td>\n",
       "      <td>1709200.0</td>\n",
       "      <td>1700200.0</td>\n",
       "      <td>2202400.0</td>\n",
       "    </tr>\n",
       "  </tbody>\n",
       "</table>\n",
       "<p>5 rows × 28 columns</p>\n",
       "</div>"
      ],
      "text/plain": [
       "               11226     11235     11230     11209     11212     11214  \\\n",
       "Month                                                                    \n",
       "2013-09-01  551600.0  545200.0  791000.0  787900.0  280900.0  602000.0   \n",
       "2013-10-01  558900.0  547300.0  802300.0  796100.0  282200.0  607600.0   \n",
       "2013-11-01  566200.0  550600.0  809000.0  799700.0  282500.0  608800.0   \n",
       "2013-12-01  572600.0  554600.0  813000.0  806000.0  283300.0  608300.0   \n",
       "2014-01-01  580700.0  558200.0  819000.0  813900.0  285200.0  612200.0   \n",
       "\n",
       "               11221     11229     11234      11215  ...     11203     11220  \\\n",
       "Month                                                ...                       \n",
       "2013-09-01  530100.0  524200.0  437100.0  1501900.0  ...  362700.0  657900.0   \n",
       "2013-10-01  538200.0  527500.0  437800.0  1513200.0  ...  362600.0  667100.0   \n",
       "2013-11-01  545800.0  530400.0  437700.0  1516200.0  ...  361700.0  669800.0   \n",
       "2013-12-01  556100.0  533500.0  438900.0  1536500.0  ...  361000.0  670500.0   \n",
       "2014-01-01  569100.0  537700.0  441500.0  1577500.0  ...  361000.0  674600.0   \n",
       "\n",
       "               11216     11210     11224     11222     11228      11238  \\\n",
       "Month                                                                     \n",
       "2013-09-01  744700.0  544400.0  409800.0  863400.0  660800.0  1613500.0   \n",
       "2013-10-01  752500.0  546500.0  397700.0  866600.0  667100.0  1638400.0   \n",
       "2013-11-01  757800.0  549200.0  387300.0  870800.0  671500.0  1640700.0   \n",
       "2013-12-01  766200.0  554300.0  382900.0  888300.0  677300.0  1661500.0   \n",
       "2014-01-01  777900.0  561500.0  380800.0  924400.0  685900.0  1709200.0   \n",
       "\n",
       "                11205      11217  \n",
       "Month                             \n",
       "2013-09-01  1640100.0  2111700.0  \n",
       "2013-10-01  1658800.0  2146000.0  \n",
       "2013-11-01  1659500.0  2158600.0  \n",
       "2013-12-01  1670200.0  2173100.0  \n",
       "2014-01-01  1700200.0  2202400.0  \n",
       "\n",
       "[5 rows x 28 columns]"
      ]
     },
     "execution_count": 35,
     "metadata": {},
     "output_type": "execute_result"
    }
   ],
   "source": [
    "train_brk.tail()"
   ]
  },
  {
   "cell_type": "code",
   "execution_count": 36,
   "metadata": {
    "colab": {
     "base_uri": "https://localhost:8080/",
     "height": 340
    },
    "id": "tnUO2YYy3KVt",
    "outputId": "9e717a8d-10b2-4a5b-e308-e1c73401ac12"
   },
   "outputs": [
    {
     "data": {
      "text/html": [
       "<div>\n",
       "<style scoped>\n",
       "    .dataframe tbody tr th:only-of-type {\n",
       "        vertical-align: middle;\n",
       "    }\n",
       "\n",
       "    .dataframe tbody tr th {\n",
       "        vertical-align: top;\n",
       "    }\n",
       "\n",
       "    .dataframe thead th {\n",
       "        text-align: right;\n",
       "    }\n",
       "</style>\n",
       "<table border=\"1\" class=\"dataframe\">\n",
       "  <thead>\n",
       "    <tr style=\"text-align: right;\">\n",
       "      <th></th>\n",
       "      <th>11226</th>\n",
       "      <th>11235</th>\n",
       "      <th>11230</th>\n",
       "      <th>11209</th>\n",
       "      <th>11212</th>\n",
       "      <th>11214</th>\n",
       "      <th>11221</th>\n",
       "      <th>11229</th>\n",
       "      <th>11234</th>\n",
       "      <th>11215</th>\n",
       "      <th>...</th>\n",
       "      <th>11203</th>\n",
       "      <th>11220</th>\n",
       "      <th>11216</th>\n",
       "      <th>11210</th>\n",
       "      <th>11224</th>\n",
       "      <th>11222</th>\n",
       "      <th>11228</th>\n",
       "      <th>11238</th>\n",
       "      <th>11205</th>\n",
       "      <th>11217</th>\n",
       "    </tr>\n",
       "    <tr>\n",
       "      <th>Month</th>\n",
       "      <th></th>\n",
       "      <th></th>\n",
       "      <th></th>\n",
       "      <th></th>\n",
       "      <th></th>\n",
       "      <th></th>\n",
       "      <th></th>\n",
       "      <th></th>\n",
       "      <th></th>\n",
       "      <th></th>\n",
       "      <th></th>\n",
       "      <th></th>\n",
       "      <th></th>\n",
       "      <th></th>\n",
       "      <th></th>\n",
       "      <th></th>\n",
       "      <th></th>\n",
       "      <th></th>\n",
       "      <th></th>\n",
       "      <th></th>\n",
       "      <th></th>\n",
       "    </tr>\n",
       "  </thead>\n",
       "  <tbody>\n",
       "    <tr>\n",
       "      <th>2014-01-01</th>\n",
       "      <td>580700.0</td>\n",
       "      <td>558200.0</td>\n",
       "      <td>819000.0</td>\n",
       "      <td>813900.0</td>\n",
       "      <td>285200.0</td>\n",
       "      <td>612200.0</td>\n",
       "      <td>569100.0</td>\n",
       "      <td>537700.0</td>\n",
       "      <td>441500.0</td>\n",
       "      <td>1577500.0</td>\n",
       "      <td>...</td>\n",
       "      <td>361000.0</td>\n",
       "      <td>674600.0</td>\n",
       "      <td>777900.0</td>\n",
       "      <td>561500.0</td>\n",
       "      <td>380800.0</td>\n",
       "      <td>924400.0</td>\n",
       "      <td>685900.0</td>\n",
       "      <td>1709200.0</td>\n",
       "      <td>1700200.0</td>\n",
       "      <td>2202400.0</td>\n",
       "    </tr>\n",
       "    <tr>\n",
       "      <th>2014-02-01</th>\n",
       "      <td>590500.0</td>\n",
       "      <td>560000.0</td>\n",
       "      <td>822500.0</td>\n",
       "      <td>822200.0</td>\n",
       "      <td>286800.0</td>\n",
       "      <td>621100.0</td>\n",
       "      <td>577700.0</td>\n",
       "      <td>541600.0</td>\n",
       "      <td>444400.0</td>\n",
       "      <td>1623300.0</td>\n",
       "      <td>...</td>\n",
       "      <td>360700.0</td>\n",
       "      <td>680800.0</td>\n",
       "      <td>792400.0</td>\n",
       "      <td>565400.0</td>\n",
       "      <td>376900.0</td>\n",
       "      <td>954100.0</td>\n",
       "      <td>692700.0</td>\n",
       "      <td>1748800.0</td>\n",
       "      <td>1718500.0</td>\n",
       "      <td>2238400.0</td>\n",
       "    </tr>\n",
       "    <tr>\n",
       "      <th>2014-03-01</th>\n",
       "      <td>602600.0</td>\n",
       "      <td>562300.0</td>\n",
       "      <td>823200.0</td>\n",
       "      <td>827400.0</td>\n",
       "      <td>287000.0</td>\n",
       "      <td>632100.0</td>\n",
       "      <td>584600.0</td>\n",
       "      <td>545000.0</td>\n",
       "      <td>446100.0</td>\n",
       "      <td>1673000.0</td>\n",
       "      <td>...</td>\n",
       "      <td>359900.0</td>\n",
       "      <td>684500.0</td>\n",
       "      <td>810600.0</td>\n",
       "      <td>565800.0</td>\n",
       "      <td>372100.0</td>\n",
       "      <td>959900.0</td>\n",
       "      <td>695800.0</td>\n",
       "      <td>1773300.0</td>\n",
       "      <td>1727000.0</td>\n",
       "      <td>2271000.0</td>\n",
       "    </tr>\n",
       "    <tr>\n",
       "      <th>2014-04-01</th>\n",
       "      <td>618300.0</td>\n",
       "      <td>566300.0</td>\n",
       "      <td>824000.0</td>\n",
       "      <td>829200.0</td>\n",
       "      <td>286500.0</td>\n",
       "      <td>641600.0</td>\n",
       "      <td>600100.0</td>\n",
       "      <td>548300.0</td>\n",
       "      <td>446500.0</td>\n",
       "      <td>1716700.0</td>\n",
       "      <td>...</td>\n",
       "      <td>358600.0</td>\n",
       "      <td>683300.0</td>\n",
       "      <td>829200.0</td>\n",
       "      <td>564200.0</td>\n",
       "      <td>368400.0</td>\n",
       "      <td>953400.0</td>\n",
       "      <td>696900.0</td>\n",
       "      <td>1798700.0</td>\n",
       "      <td>1736700.0</td>\n",
       "      <td>2298000.0</td>\n",
       "    </tr>\n",
       "    <tr>\n",
       "      <th>2014-05-01</th>\n",
       "      <td>632300.0</td>\n",
       "      <td>572000.0</td>\n",
       "      <td>827900.0</td>\n",
       "      <td>830700.0</td>\n",
       "      <td>286400.0</td>\n",
       "      <td>647800.0</td>\n",
       "      <td>619900.0</td>\n",
       "      <td>550600.0</td>\n",
       "      <td>447700.0</td>\n",
       "      <td>1748300.0</td>\n",
       "      <td>...</td>\n",
       "      <td>358900.0</td>\n",
       "      <td>680800.0</td>\n",
       "      <td>852900.0</td>\n",
       "      <td>562100.0</td>\n",
       "      <td>367300.0</td>\n",
       "      <td>953400.0</td>\n",
       "      <td>700100.0</td>\n",
       "      <td>1818100.0</td>\n",
       "      <td>1752000.0</td>\n",
       "      <td>2342400.0</td>\n",
       "    </tr>\n",
       "  </tbody>\n",
       "</table>\n",
       "<p>5 rows × 28 columns</p>\n",
       "</div>"
      ],
      "text/plain": [
       "               11226     11235     11230     11209     11212     11214  \\\n",
       "Month                                                                    \n",
       "2014-01-01  580700.0  558200.0  819000.0  813900.0  285200.0  612200.0   \n",
       "2014-02-01  590500.0  560000.0  822500.0  822200.0  286800.0  621100.0   \n",
       "2014-03-01  602600.0  562300.0  823200.0  827400.0  287000.0  632100.0   \n",
       "2014-04-01  618300.0  566300.0  824000.0  829200.0  286500.0  641600.0   \n",
       "2014-05-01  632300.0  572000.0  827900.0  830700.0  286400.0  647800.0   \n",
       "\n",
       "               11221     11229     11234      11215  ...     11203     11220  \\\n",
       "Month                                                ...                       \n",
       "2014-01-01  569100.0  537700.0  441500.0  1577500.0  ...  361000.0  674600.0   \n",
       "2014-02-01  577700.0  541600.0  444400.0  1623300.0  ...  360700.0  680800.0   \n",
       "2014-03-01  584600.0  545000.0  446100.0  1673000.0  ...  359900.0  684500.0   \n",
       "2014-04-01  600100.0  548300.0  446500.0  1716700.0  ...  358600.0  683300.0   \n",
       "2014-05-01  619900.0  550600.0  447700.0  1748300.0  ...  358900.0  680800.0   \n",
       "\n",
       "               11216     11210     11224     11222     11228      11238  \\\n",
       "Month                                                                     \n",
       "2014-01-01  777900.0  561500.0  380800.0  924400.0  685900.0  1709200.0   \n",
       "2014-02-01  792400.0  565400.0  376900.0  954100.0  692700.0  1748800.0   \n",
       "2014-03-01  810600.0  565800.0  372100.0  959900.0  695800.0  1773300.0   \n",
       "2014-04-01  829200.0  564200.0  368400.0  953400.0  696900.0  1798700.0   \n",
       "2014-05-01  852900.0  562100.0  367300.0  953400.0  700100.0  1818100.0   \n",
       "\n",
       "                11205      11217  \n",
       "Month                             \n",
       "2014-01-01  1700200.0  2202400.0  \n",
       "2014-02-01  1718500.0  2238400.0  \n",
       "2014-03-01  1727000.0  2271000.0  \n",
       "2014-04-01  1736700.0  2298000.0  \n",
       "2014-05-01  1752000.0  2342400.0  \n",
       "\n",
       "[5 rows x 28 columns]"
      ]
     },
     "execution_count": 36,
     "metadata": {},
     "output_type": "execute_result"
    }
   ],
   "source": [
    "test_brk.head()"
   ]
  },
  {
   "cell_type": "code",
   "execution_count": 37,
   "metadata": {
    "colab": {
     "base_uri": "https://localhost:8080/",
     "height": 340
    },
    "id": "xiGyadLfgAnD",
    "outputId": "dce75625-3f27-453b-a1ad-14cda110af77"
   },
   "outputs": [
    {
     "data": {
      "text/html": [
       "<div>\n",
       "<style scoped>\n",
       "    .dataframe tbody tr th:only-of-type {\n",
       "        vertical-align: middle;\n",
       "    }\n",
       "\n",
       "    .dataframe tbody tr th {\n",
       "        vertical-align: top;\n",
       "    }\n",
       "\n",
       "    .dataframe thead th {\n",
       "        text-align: right;\n",
       "    }\n",
       "</style>\n",
       "<table border=\"1\" class=\"dataframe\">\n",
       "  <thead>\n",
       "    <tr style=\"text-align: right;\">\n",
       "      <th></th>\n",
       "      <th>11226</th>\n",
       "      <th>11235</th>\n",
       "      <th>11230</th>\n",
       "      <th>11209</th>\n",
       "      <th>11212</th>\n",
       "      <th>11214</th>\n",
       "      <th>11221</th>\n",
       "      <th>11229</th>\n",
       "      <th>11234</th>\n",
       "      <th>11215</th>\n",
       "      <th>...</th>\n",
       "      <th>11203</th>\n",
       "      <th>11220</th>\n",
       "      <th>11216</th>\n",
       "      <th>11210</th>\n",
       "      <th>11224</th>\n",
       "      <th>11222</th>\n",
       "      <th>11228</th>\n",
       "      <th>11238</th>\n",
       "      <th>11205</th>\n",
       "      <th>11217</th>\n",
       "    </tr>\n",
       "    <tr>\n",
       "      <th>Month</th>\n",
       "      <th></th>\n",
       "      <th></th>\n",
       "      <th></th>\n",
       "      <th></th>\n",
       "      <th></th>\n",
       "      <th></th>\n",
       "      <th></th>\n",
       "      <th></th>\n",
       "      <th></th>\n",
       "      <th></th>\n",
       "      <th></th>\n",
       "      <th></th>\n",
       "      <th></th>\n",
       "      <th></th>\n",
       "      <th></th>\n",
       "      <th></th>\n",
       "      <th></th>\n",
       "      <th></th>\n",
       "      <th></th>\n",
       "      <th></th>\n",
       "      <th></th>\n",
       "    </tr>\n",
       "  </thead>\n",
       "  <tbody>\n",
       "    <tr>\n",
       "      <th>2017-12-01</th>\n",
       "      <td>887800.0</td>\n",
       "      <td>799700.0</td>\n",
       "      <td>1102400.0</td>\n",
       "      <td>1018900.0</td>\n",
       "      <td>414900.0</td>\n",
       "      <td>826300.0</td>\n",
       "      <td>998100.0</td>\n",
       "      <td>741000.0</td>\n",
       "      <td>575000.0</td>\n",
       "      <td>2287100.0</td>\n",
       "      <td>...</td>\n",
       "      <td>474500.0</td>\n",
       "      <td>903000.0</td>\n",
       "      <td>1545700.0</td>\n",
       "      <td>802900.0</td>\n",
       "      <td>498700.0</td>\n",
       "      <td>1651200.0</td>\n",
       "      <td>902200.0</td>\n",
       "      <td>2768900.0</td>\n",
       "      <td>2251000.0</td>\n",
       "      <td>3404100.0</td>\n",
       "    </tr>\n",
       "    <tr>\n",
       "      <th>2018-01-01</th>\n",
       "      <td>890500.0</td>\n",
       "      <td>806600.0</td>\n",
       "      <td>1120200.0</td>\n",
       "      <td>1023500.0</td>\n",
       "      <td>422300.0</td>\n",
       "      <td>827600.0</td>\n",
       "      <td>1000900.0</td>\n",
       "      <td>748100.0</td>\n",
       "      <td>579400.0</td>\n",
       "      <td>2288900.0</td>\n",
       "      <td>...</td>\n",
       "      <td>475300.0</td>\n",
       "      <td>906500.0</td>\n",
       "      <td>1540200.0</td>\n",
       "      <td>809100.0</td>\n",
       "      <td>502000.0</td>\n",
       "      <td>1661800.0</td>\n",
       "      <td>909000.0</td>\n",
       "      <td>2810700.0</td>\n",
       "      <td>2251600.0</td>\n",
       "      <td>3413800.0</td>\n",
       "    </tr>\n",
       "    <tr>\n",
       "      <th>2018-02-01</th>\n",
       "      <td>901700.0</td>\n",
       "      <td>810600.0</td>\n",
       "      <td>1141600.0</td>\n",
       "      <td>1029200.0</td>\n",
       "      <td>426300.0</td>\n",
       "      <td>830500.0</td>\n",
       "      <td>1015400.0</td>\n",
       "      <td>755800.0</td>\n",
       "      <td>583200.0</td>\n",
       "      <td>2265300.0</td>\n",
       "      <td>...</td>\n",
       "      <td>474800.0</td>\n",
       "      <td>910700.0</td>\n",
       "      <td>1553600.0</td>\n",
       "      <td>814500.0</td>\n",
       "      <td>505600.0</td>\n",
       "      <td>1672800.0</td>\n",
       "      <td>912800.0</td>\n",
       "      <td>2848100.0</td>\n",
       "      <td>2245300.0</td>\n",
       "      <td>3482900.0</td>\n",
       "    </tr>\n",
       "    <tr>\n",
       "      <th>2018-03-01</th>\n",
       "      <td>930700.0</td>\n",
       "      <td>813400.0</td>\n",
       "      <td>1170000.0</td>\n",
       "      <td>1023000.0</td>\n",
       "      <td>427100.0</td>\n",
       "      <td>837300.0</td>\n",
       "      <td>1037300.0</td>\n",
       "      <td>766200.0</td>\n",
       "      <td>589400.0</td>\n",
       "      <td>2244900.0</td>\n",
       "      <td>...</td>\n",
       "      <td>481000.0</td>\n",
       "      <td>915600.0</td>\n",
       "      <td>1578400.0</td>\n",
       "      <td>816900.0</td>\n",
       "      <td>511600.0</td>\n",
       "      <td>1694000.0</td>\n",
       "      <td>913900.0</td>\n",
       "      <td>2869600.0</td>\n",
       "      <td>2243700.0</td>\n",
       "      <td>3588100.0</td>\n",
       "    </tr>\n",
       "    <tr>\n",
       "      <th>2018-04-01</th>\n",
       "      <td>963200.0</td>\n",
       "      <td>816200.0</td>\n",
       "      <td>1195400.0</td>\n",
       "      <td>1015800.0</td>\n",
       "      <td>428400.0</td>\n",
       "      <td>844100.0</td>\n",
       "      <td>1048700.0</td>\n",
       "      <td>775500.0</td>\n",
       "      <td>593300.0</td>\n",
       "      <td>2243900.0</td>\n",
       "      <td>...</td>\n",
       "      <td>489900.0</td>\n",
       "      <td>917900.0</td>\n",
       "      <td>1598700.0</td>\n",
       "      <td>819600.0</td>\n",
       "      <td>517900.0</td>\n",
       "      <td>1721100.0</td>\n",
       "      <td>915300.0</td>\n",
       "      <td>2885300.0</td>\n",
       "      <td>2248400.0</td>\n",
       "      <td>3656000.0</td>\n",
       "    </tr>\n",
       "  </tbody>\n",
       "</table>\n",
       "<p>5 rows × 28 columns</p>\n",
       "</div>"
      ],
      "text/plain": [
       "               11226     11235      11230      11209     11212     11214  \\\n",
       "Month                                                                      \n",
       "2017-12-01  887800.0  799700.0  1102400.0  1018900.0  414900.0  826300.0   \n",
       "2018-01-01  890500.0  806600.0  1120200.0  1023500.0  422300.0  827600.0   \n",
       "2018-02-01  901700.0  810600.0  1141600.0  1029200.0  426300.0  830500.0   \n",
       "2018-03-01  930700.0  813400.0  1170000.0  1023000.0  427100.0  837300.0   \n",
       "2018-04-01  963200.0  816200.0  1195400.0  1015800.0  428400.0  844100.0   \n",
       "\n",
       "                11221     11229     11234      11215  ...     11203     11220  \\\n",
       "Month                                                 ...                       \n",
       "2017-12-01   998100.0  741000.0  575000.0  2287100.0  ...  474500.0  903000.0   \n",
       "2018-01-01  1000900.0  748100.0  579400.0  2288900.0  ...  475300.0  906500.0   \n",
       "2018-02-01  1015400.0  755800.0  583200.0  2265300.0  ...  474800.0  910700.0   \n",
       "2018-03-01  1037300.0  766200.0  589400.0  2244900.0  ...  481000.0  915600.0   \n",
       "2018-04-01  1048700.0  775500.0  593300.0  2243900.0  ...  489900.0  917900.0   \n",
       "\n",
       "                11216     11210     11224      11222     11228      11238  \\\n",
       "Month                                                                       \n",
       "2017-12-01  1545700.0  802900.0  498700.0  1651200.0  902200.0  2768900.0   \n",
       "2018-01-01  1540200.0  809100.0  502000.0  1661800.0  909000.0  2810700.0   \n",
       "2018-02-01  1553600.0  814500.0  505600.0  1672800.0  912800.0  2848100.0   \n",
       "2018-03-01  1578400.0  816900.0  511600.0  1694000.0  913900.0  2869600.0   \n",
       "2018-04-01  1598700.0  819600.0  517900.0  1721100.0  915300.0  2885300.0   \n",
       "\n",
       "                11205      11217  \n",
       "Month                             \n",
       "2017-12-01  2251000.0  3404100.0  \n",
       "2018-01-01  2251600.0  3413800.0  \n",
       "2018-02-01  2245300.0  3482900.0  \n",
       "2018-03-01  2243700.0  3588100.0  \n",
       "2018-04-01  2248400.0  3656000.0  \n",
       "\n",
       "[5 rows x 28 columns]"
      ]
     },
     "execution_count": 37,
     "metadata": {},
     "output_type": "execute_result"
    }
   ],
   "source": [
    "test_brk.tail()"
   ]
  },
  {
   "cell_type": "markdown",
   "metadata": {
    "id": "2sHi7PMpykLU"
   },
   "source": [
    "## **Auto_Arima Model**\n",
    "Why use an Auto_ARIMA model?  We use the auto-ARIMA process because it identifies the optimal parameters for an ARIMA model.  In order to use an ARIMA model it is essential that p,d,q values are inputted into the model.  Generally for an ARIMA model statisical techniques are used to generate these values by performing the difference to eliminate the non-stationarity and obtaining values from ACF and PACF plots.  I would add that the ACF and PACF plots are hard to interpret.<br>\n",
    "What do p,d and q represent?  The p is the parameter associated with the auto-regressive aspect of the model, which incorporates past values.  For example, forecasting that if it rained a lot over the past few days it's likely that it will rain tomorrow as well.<br>  \n",
    "The d is the parameter associated with the integrated part of the model, which effects the amount of differencing to apply to a time series, i.e., forecasting that the amount of rain tomorrow will be similar to the amount of rain today, if the daily amounts of rain have been similar over the past few days.<br>\n",
    "\n",
    "The q is the parameter associated with the moving average part of the model.<br>\n",
    "\n",
    "In the auto ARIMA, the P,D, and Q describe the same associations as p,d, and q, but correspond with the seasonal components of the model.<br>\n",
    "The auto ARIMA works similar to a grid search to find the optimal values  for p, d, and q considering all the different combinations.  The final combination of parameters would be determined according the lowest AIC."
   ]
  },
  {
   "cell_type": "code",
   "execution_count": 38,
   "metadata": {
    "id": "eiGr0NJ8biUq"
   },
   "outputs": [],
   "source": [
    "import six\n",
    "import sys\n",
    "sys.modules['sklearn.externals.six'] = six"
   ]
  },
  {
   "cell_type": "code",
   "execution_count": 39,
   "metadata": {
    "colab": {
     "base_uri": "https://localhost:8080/",
     "height": 599
    },
    "id": "WfPzSzhPeMxS",
    "outputId": "5b5b89dc-e358-44a2-d6fe-201340f8280f"
   },
   "outputs": [
    {
     "name": "stdout",
     "output_type": "stream",
     "text": [
      "Requirement already satisfied: pmdarima in /Users/davidtorres/opt/anaconda3/envs/learn-env/lib/python3.6/site-packages (1.2.0)\n",
      "Requirement already satisfied: scipy>=1.2 in /Users/davidtorres/opt/anaconda3/envs/learn-env/lib/python3.6/site-packages (from pmdarima) (1.3.2)\n",
      "Requirement already satisfied: statsmodels>=0.9.0 in /Users/davidtorres/opt/anaconda3/envs/learn-env/lib/python3.6/site-packages (from pmdarima) (0.11.1)\n",
      "Requirement already satisfied: pandas>=0.19 in /Users/davidtorres/opt/anaconda3/envs/learn-env/lib/python3.6/site-packages (from pmdarima) (1.1.5)\n",
      "Requirement already satisfied: numpy>=1.15 in /Users/davidtorres/opt/anaconda3/envs/learn-env/lib/python3.6/site-packages (from pmdarima) (1.19.5)\n",
      "Requirement already satisfied: Cython>=0.29 in /Users/davidtorres/opt/anaconda3/envs/learn-env/lib/python3.6/site-packages (from pmdarima) (0.29.17)\n",
      "Requirement already satisfied: scikit-learn>=0.19 in /Users/davidtorres/opt/anaconda3/envs/learn-env/lib/python3.6/site-packages (from pmdarima) (0.23.2)\n",
      "Requirement already satisfied: python-dateutil>=2.7.3 in /Users/davidtorres/opt/anaconda3/envs/learn-env/lib/python3.6/site-packages (from pandas>=0.19->pmdarima) (2.8.1)\n",
      "Requirement already satisfied: pytz>=2017.2 in /Users/davidtorres/opt/anaconda3/envs/learn-env/lib/python3.6/site-packages (from pandas>=0.19->pmdarima) (2020.1)\n",
      "Requirement already satisfied: six>=1.5 in /Users/davidtorres/opt/anaconda3/envs/learn-env/lib/python3.6/site-packages (from python-dateutil>=2.7.3->pandas>=0.19->pmdarima) (1.15.0)\n",
      "Requirement already satisfied: threadpoolctl>=2.0.0 in /Users/davidtorres/opt/anaconda3/envs/learn-env/lib/python3.6/site-packages (from scikit-learn>=0.19->pmdarima) (2.1.0)\n",
      "Requirement already satisfied: joblib>=0.11 in /Users/davidtorres/opt/anaconda3/envs/learn-env/lib/python3.6/site-packages (from scikit-learn>=0.19->pmdarima) (0.15.1)\n",
      "Requirement already satisfied: patsy>=0.5 in /Users/davidtorres/opt/anaconda3/envs/learn-env/lib/python3.6/site-packages (from statsmodels>=0.9.0->pmdarima) (0.5.1)\n"
     ]
    }
   ],
   "source": [
    "!pip install pmdarima"
   ]
  },
  {
   "cell_type": "code",
   "execution_count": 40,
   "metadata": {
    "id": "DvupPiHBbiUt"
   },
   "outputs": [],
   "source": [
    "import six\n",
    "import joblib\n",
    "import sys\n",
    "sys.modules['sklearn.externals.six'] = six\n",
    "sys.modules['sklearn.externals.joblib'] = joblib\n",
    "import pmdarima as pm\n",
    "from pmdarima import auto_arima"
   ]
  },
  {
   "cell_type": "code",
   "execution_count": 41,
   "metadata": {
    "id": "Y-IO0XR0biUy"
   },
   "outputs": [],
   "source": [
    "def arima_model(df):\n",
    "    \"\"\"\n",
    "    df- dataframe\n",
    "    function is a gridsearch to get optimal p,d,qs and lowest AIC for the model.\n",
    "    q-is moving average\n",
    "    \"\"\"\n",
    "    autoarima_model = auto_arima(df, start_p = 0, start_q = 0, #start_q = 0\n",
    "                              test='adf',             # use adftest to find optimal 'd'\n",
    "                              max_p = 3, max_q = 3,   # maximum p and q\n",
    "                              m = 12,                  #frequency of series \n",
    "                              d = None,               # let model determine 'd', was 1\n",
    "                              seasonal = True, \n",
    "                              start_P=0, D=1, trace = False, #start  #trace= True\n",
    "                              error_action ='ignore',   # we don't want to know if an order does not work \n",
    "                              suppress_warnings = True,  # we don't want convergence warnings \n",
    "                              stepwise = True)           # set to stepwise  \n",
    "    \n",
    "    #print('\\n')\n",
    "    #display(autoarima_model.summary())\n",
    "    \n",
    "    return autoarima_model\n"
   ]
  },
  {
   "cell_type": "code",
   "execution_count": 42,
   "metadata": {
    "id": "gVj63y1ObiU2"
   },
   "outputs": [],
   "source": [
    "stepwise_fit = arima_model(train_brk[11226])"
   ]
  },
  {
   "cell_type": "code",
   "execution_count": 43,
   "metadata": {
    "colab": {
     "base_uri": "https://localhost:8080/",
     "height": 482
    },
    "id": "EAlk0GeubiU5",
    "outputId": "48805433-5317-4a12-bf7f-34173354c7b0"
   },
   "outputs": [
    {
     "data": {
      "text/html": [
       "<table class=\"simpletable\">\n",
       "<caption>SARIMAX Results</caption>\n",
       "<tr>\n",
       "  <th>Dep. Variable:</th>                  <td>y</td>                <th>  No. Observations:  </th>    <td>214</td>   \n",
       "</tr>\n",
       "<tr>\n",
       "  <th>Model:</th>           <td>SARIMAX(1, 1, 1)x(2, 1, [], 12)</td> <th>  Log Likelihood     </th> <td>-2042.084</td>\n",
       "</tr>\n",
       "<tr>\n",
       "  <th>Date:</th>                   <td>Fri, 25 Jun 2021</td>         <th>  AIC                </th> <td>4096.169</td> \n",
       "</tr>\n",
       "<tr>\n",
       "  <th>Time:</th>                       <td>22:34:16</td>             <th>  BIC                </th> <td>4115.989</td> \n",
       "</tr>\n",
       "<tr>\n",
       "  <th>Sample:</th>                         <td>0</td>                <th>  HQIC               </th> <td>4104.189</td> \n",
       "</tr>\n",
       "<tr>\n",
       "  <th></th>                             <td> - 214</td>              <th>                     </th>     <td> </td>    \n",
       "</tr>\n",
       "<tr>\n",
       "  <th>Covariance Type:</th>               <td>opg</td>               <th>                     </th>     <td> </td>    \n",
       "</tr>\n",
       "</table>\n",
       "<table class=\"simpletable\">\n",
       "<tr>\n",
       "      <td></td>         <th>coef</th>     <th>std err</th>      <th>z</th>      <th>P>|z|</th>  <th>[0.025</th>    <th>0.975]</th>  \n",
       "</tr>\n",
       "<tr>\n",
       "  <th>intercept</th> <td>  207.0267</td> <td>  282.563</td> <td>    0.733</td> <td> 0.464</td> <td> -346.787</td> <td>  760.840</td>\n",
       "</tr>\n",
       "<tr>\n",
       "  <th>ar.L1</th>     <td>    0.7237</td> <td>    0.053</td> <td>   13.633</td> <td> 0.000</td> <td>    0.620</td> <td>    0.828</td>\n",
       "</tr>\n",
       "<tr>\n",
       "  <th>ma.L1</th>     <td>   -0.4511</td> <td>    0.053</td> <td>   -8.470</td> <td> 0.000</td> <td>   -0.556</td> <td>   -0.347</td>\n",
       "</tr>\n",
       "<tr>\n",
       "  <th>ar.S.L12</th>  <td>   -0.2665</td> <td>    0.017</td> <td>  -15.378</td> <td> 0.000</td> <td>   -0.300</td> <td>   -0.233</td>\n",
       "</tr>\n",
       "<tr>\n",
       "  <th>ar.S.L24</th>  <td>   -0.1027</td> <td>    0.015</td> <td>   -6.695</td> <td> 0.000</td> <td>   -0.133</td> <td>   -0.073</td>\n",
       "</tr>\n",
       "<tr>\n",
       "  <th>sigma2</th>    <td> 3.838e+07</td> <td>    0.008</td> <td> 4.58e+09</td> <td> 0.000</td> <td> 3.84e+07</td> <td> 3.84e+07</td>\n",
       "</tr>\n",
       "</table>\n",
       "<table class=\"simpletable\">\n",
       "<tr>\n",
       "  <th>Ljung-Box (Q):</th>          <td>184.29</td> <th>  Jarque-Bera (JB):  </th> <td>247.66</td>\n",
       "</tr>\n",
       "<tr>\n",
       "  <th>Prob(Q):</th>                 <td>0.00</td>  <th>  Prob(JB):          </th>  <td>0.00</td> \n",
       "</tr>\n",
       "<tr>\n",
       "  <th>Heteroskedasticity (H):</th>  <td>1.90</td>  <th>  Skew:              </th>  <td>0.68</td> \n",
       "</tr>\n",
       "<tr>\n",
       "  <th>Prob(H) (two-sided):</th>     <td>0.01</td>  <th>  Kurtosis:          </th>  <td>8.27</td> \n",
       "</tr>\n",
       "</table><br/><br/>Warnings:<br/>[1] Covariance matrix calculated using the outer product of gradients (complex-step).<br/>[2] Covariance matrix is singular or near-singular, with condition number 4.19e+24. Standard errors may be unstable."
      ],
      "text/plain": [
       "<class 'statsmodels.iolib.summary.Summary'>\n",
       "\"\"\"\n",
       "                                      SARIMAX Results                                      \n",
       "===========================================================================================\n",
       "Dep. Variable:                                   y   No. Observations:                  214\n",
       "Model:             SARIMAX(1, 1, 1)x(2, 1, [], 12)   Log Likelihood               -2042.084\n",
       "Date:                             Fri, 25 Jun 2021   AIC                           4096.169\n",
       "Time:                                     22:34:16   BIC                           4115.989\n",
       "Sample:                                          0   HQIC                          4104.189\n",
       "                                             - 214                                         \n",
       "Covariance Type:                               opg                                         \n",
       "==============================================================================\n",
       "                 coef    std err          z      P>|z|      [0.025      0.975]\n",
       "------------------------------------------------------------------------------\n",
       "intercept    207.0267    282.563      0.733      0.464    -346.787     760.840\n",
       "ar.L1          0.7237      0.053     13.633      0.000       0.620       0.828\n",
       "ma.L1         -0.4511      0.053     -8.470      0.000      -0.556      -0.347\n",
       "ar.S.L12      -0.2665      0.017    -15.378      0.000      -0.300      -0.233\n",
       "ar.S.L24      -0.1027      0.015     -6.695      0.000      -0.133      -0.073\n",
       "sigma2      3.838e+07      0.008   4.58e+09      0.000    3.84e+07    3.84e+07\n",
       "===================================================================================\n",
       "Ljung-Box (Q):                      184.29   Jarque-Bera (JB):               247.66\n",
       "Prob(Q):                              0.00   Prob(JB):                         0.00\n",
       "Heteroskedasticity (H):               1.90   Skew:                             0.68\n",
       "Prob(H) (two-sided):                  0.01   Kurtosis:                         8.27\n",
       "===================================================================================\n",
       "\n",
       "Warnings:\n",
       "[1] Covariance matrix calculated using the outer product of gradients (complex-step).\n",
       "[2] Covariance matrix is singular or near-singular, with condition number 4.19e+24. Standard errors may be unstable.\n",
       "\"\"\""
      ]
     },
     "execution_count": 43,
     "metadata": {},
     "output_type": "execute_result"
    }
   ],
   "source": [
    "stepwise_fit.summary()"
   ]
  },
  {
   "cell_type": "code",
   "execution_count": 44,
   "metadata": {},
   "outputs": [
    {
     "data": {
      "text/plain": [
       "Int64Index([11226, 11235, 11230, 11209, 11212, 11214, 11221, 11229, 11234,\n",
       "            11215, 11211, 11233, 11236, 11218, 11223, 11208, 11204, 11219,\n",
       "            11203, 11220, 11216, 11210, 11224, 11222, 11228, 11238, 11205,\n",
       "            11217],\n",
       "           dtype='int64')"
      ]
     },
     "execution_count": 44,
     "metadata": {},
     "output_type": "execute_result"
    }
   ],
   "source": [
    "zip_df.columns"
   ]
  },
  {
   "cell_type": "code",
   "execution_count": 45,
   "metadata": {},
   "outputs": [
    {
     "data": {
      "text/plain": [
       "ARIMA(order=(0, 1, 1), scoring_args={}, seasonal_order=(2, 1, 2, 12),\n",
       "      suppress_warnings=True)"
      ]
     },
     "execution_count": 45,
     "metadata": {},
     "output_type": "execute_result"
    }
   ],
   "source": [
    "stepwise_fit_1 = arima_model(zip_df[11209])\n",
    "stepwise_fit_1"
   ]
  },
  {
   "cell_type": "code",
   "execution_count": 46,
   "metadata": {},
   "outputs": [
    {
     "data": {
      "text/html": [
       "<table class=\"simpletable\">\n",
       "<caption>SARIMAX Results</caption>\n",
       "<tr>\n",
       "  <th>Dep. Variable:</th>                    <td>y</td>                  <th>  No. Observations:  </th>    <td>265</td>   \n",
       "</tr>\n",
       "<tr>\n",
       "  <th>Model:</th>           <td>SARIMAX(0, 1, 1)x(2, 1, [1, 2], 12)</td> <th>  Log Likelihood     </th> <td>-2569.651</td>\n",
       "</tr>\n",
       "<tr>\n",
       "  <th>Date:</th>                     <td>Fri, 25 Jun 2021</td>           <th>  AIC                </th> <td>5153.301</td> \n",
       "</tr>\n",
       "<tr>\n",
       "  <th>Time:</th>                         <td>22:35:22</td>               <th>  BIC                </th> <td>5178.007</td> \n",
       "</tr>\n",
       "<tr>\n",
       "  <th>Sample:</th>                           <td>0</td>                  <th>  HQIC               </th> <td>5163.243</td> \n",
       "</tr>\n",
       "<tr>\n",
       "  <th></th>                               <td> - 265</td>                <th>                     </th>     <td> </td>    \n",
       "</tr>\n",
       "<tr>\n",
       "  <th>Covariance Type:</th>                 <td>opg</td>                 <th>                     </th>     <td> </td>    \n",
       "</tr>\n",
       "</table>\n",
       "<table class=\"simpletable\">\n",
       "<tr>\n",
       "      <td></td>         <th>coef</th>     <th>std err</th>      <th>z</th>      <th>P>|z|</th>  <th>[0.025</th>    <th>0.975]</th>  \n",
       "</tr>\n",
       "<tr>\n",
       "  <th>intercept</th> <td>   92.6623</td> <td>   63.989</td> <td>    1.448</td> <td> 0.148</td> <td>  -32.754</td> <td>  218.079</td>\n",
       "</tr>\n",
       "<tr>\n",
       "  <th>ma.L1</th>     <td>    0.1207</td> <td>    0.006</td> <td>   19.525</td> <td> 0.000</td> <td>    0.109</td> <td>    0.133</td>\n",
       "</tr>\n",
       "<tr>\n",
       "  <th>ar.S.L12</th>  <td>   -0.3112</td> <td>    0.035</td> <td>   -8.947</td> <td> 0.000</td> <td>   -0.379</td> <td>   -0.243</td>\n",
       "</tr>\n",
       "<tr>\n",
       "  <th>ar.S.L24</th>  <td>    0.6561</td> <td>    0.026</td> <td>   25.180</td> <td> 0.000</td> <td>    0.605</td> <td>    0.707</td>\n",
       "</tr>\n",
       "<tr>\n",
       "  <th>ma.S.L12</th>  <td>   -0.0002</td> <td>    2.571</td> <td>-6.75e-05</td> <td> 1.000</td> <td>   -5.039</td> <td>    5.039</td>\n",
       "</tr>\n",
       "<tr>\n",
       "  <th>ma.S.L24</th>  <td>   -0.9998</td> <td>    0.052</td> <td>  -19.192</td> <td> 0.000</td> <td>   -1.102</td> <td>   -0.898</td>\n",
       "</tr>\n",
       "<tr>\n",
       "  <th>sigma2</th>    <td> 2.482e+07</td> <td> 1.04e-07</td> <td> 2.39e+14</td> <td> 0.000</td> <td> 2.48e+07</td> <td> 2.48e+07</td>\n",
       "</tr>\n",
       "</table>\n",
       "<table class=\"simpletable\">\n",
       "<tr>\n",
       "  <th>Ljung-Box (Q):</th>          <td>300.54</td> <th>  Jarque-Bera (JB):  </th> <td>28.56</td>\n",
       "</tr>\n",
       "<tr>\n",
       "  <th>Prob(Q):</th>                 <td>0.00</td>  <th>  Prob(JB):          </th> <td>0.00</td> \n",
       "</tr>\n",
       "<tr>\n",
       "  <th>Heteroskedasticity (H):</th>  <td>2.65</td>  <th>  Skew:              </th> <td>-0.24</td>\n",
       "</tr>\n",
       "<tr>\n",
       "  <th>Prob(H) (two-sided):</th>     <td>0.00</td>  <th>  Kurtosis:          </th> <td>4.58</td> \n",
       "</tr>\n",
       "</table><br/><br/>Warnings:<br/>[1] Covariance matrix calculated using the outer product of gradients (complex-step).<br/>[2] Covariance matrix is singular or near-singular, with condition number 3.55e+32. Standard errors may be unstable."
      ],
      "text/plain": [
       "<class 'statsmodels.iolib.summary.Summary'>\n",
       "\"\"\"\n",
       "                                        SARIMAX Results                                        \n",
       "===============================================================================================\n",
       "Dep. Variable:                                       y   No. Observations:                  265\n",
       "Model:             SARIMAX(0, 1, 1)x(2, 1, [1, 2], 12)   Log Likelihood               -2569.651\n",
       "Date:                                 Fri, 25 Jun 2021   AIC                           5153.301\n",
       "Time:                                         22:35:22   BIC                           5178.007\n",
       "Sample:                                              0   HQIC                          5163.243\n",
       "                                                 - 265                                         \n",
       "Covariance Type:                                   opg                                         \n",
       "==============================================================================\n",
       "                 coef    std err          z      P>|z|      [0.025      0.975]\n",
       "------------------------------------------------------------------------------\n",
       "intercept     92.6623     63.989      1.448      0.148     -32.754     218.079\n",
       "ma.L1          0.1207      0.006     19.525      0.000       0.109       0.133\n",
       "ar.S.L12      -0.3112      0.035     -8.947      0.000      -0.379      -0.243\n",
       "ar.S.L24       0.6561      0.026     25.180      0.000       0.605       0.707\n",
       "ma.S.L12      -0.0002      2.571  -6.75e-05      1.000      -5.039       5.039\n",
       "ma.S.L24      -0.9998      0.052    -19.192      0.000      -1.102      -0.898\n",
       "sigma2      2.482e+07   1.04e-07   2.39e+14      0.000    2.48e+07    2.48e+07\n",
       "===================================================================================\n",
       "Ljung-Box (Q):                      300.54   Jarque-Bera (JB):                28.56\n",
       "Prob(Q):                              0.00   Prob(JB):                         0.00\n",
       "Heteroskedasticity (H):               2.65   Skew:                            -0.24\n",
       "Prob(H) (two-sided):                  0.00   Kurtosis:                         4.58\n",
       "===================================================================================\n",
       "\n",
       "Warnings:\n",
       "[1] Covariance matrix calculated using the outer product of gradients (complex-step).\n",
       "[2] Covariance matrix is singular or near-singular, with condition number 3.55e+32. Standard errors may be unstable.\n",
       "\"\"\""
      ]
     },
     "execution_count": 46,
     "metadata": {},
     "output_type": "execute_result"
    }
   ],
   "source": [
    "stepwise_fit_1.summary()"
   ]
  },
  {
   "cell_type": "code",
   "execution_count": null,
   "metadata": {},
   "outputs": [],
   "source": []
  },
  {
   "cell_type": "markdown",
   "metadata": {
    "id": "9sB-cPoAF5Qw"
   },
   "source": [
    "### **Statsmodel Summary of Brooklyn Zipcodes**\n",
    "The for loop iterates through the Brooklyn zipcodes dataframe (zip_df) and gets the best fit parameters (p,d,qs, Seasonal p,d,qs) and lowest AICs for each Brooklyn zipcode."
   ]
  },
  {
   "cell_type": "code",
   "execution_count": 47,
   "metadata": {},
   "outputs": [],
   "source": [
    "# #arima_list = []\n",
    "# for col in zip_df.columns:\n",
    "#     zip_test_2 = arima_model(zip_df[col])\n",
    "#     print(zip_test_2)\n",
    "# #result   \n",
    "# # output_df = pd.DataFrame(arima_list[1:],columns=arima_list[0]) \n",
    "# # output_df "
   ]
  },
  {
   "cell_type": "code",
   "execution_count": 48,
   "metadata": {
    "colab": {
     "base_uri": "https://localhost:8080/",
     "height": 917
    },
    "id": "YUSiFW3MIHdV",
    "outputId": "c8d108f6-0f01-45d4-8b5d-b8b3fc421054"
   },
   "outputs": [
    {
     "data": {
      "text/html": [
       "<div>\n",
       "<style scoped>\n",
       "    .dataframe tbody tr th:only-of-type {\n",
       "        vertical-align: middle;\n",
       "    }\n",
       "\n",
       "    .dataframe tbody tr th {\n",
       "        vertical-align: top;\n",
       "    }\n",
       "\n",
       "    .dataframe thead th {\n",
       "        text-align: right;\n",
       "    }\n",
       "</style>\n",
       "<table border=\"1\" class=\"dataframe\">\n",
       "  <thead>\n",
       "    <tr style=\"text-align: right;\">\n",
       "      <th></th>\n",
       "      <th>0</th>\n",
       "      <th>1</th>\n",
       "      <th>2</th>\n",
       "      <th>3</th>\n",
       "    </tr>\n",
       "  </thead>\n",
       "  <tbody>\n",
       "    <tr>\n",
       "      <th>0</th>\n",
       "      <td>zipcode</td>\n",
       "      <td>pdq</td>\n",
       "      <td>seasonal_pdq</td>\n",
       "      <td>aic</td>\n",
       "    </tr>\n",
       "    <tr>\n",
       "      <th>1</th>\n",
       "      <td>11226</td>\n",
       "      <td>(2, 0, 0)</td>\n",
       "      <td>(2, 1, 1, 12)</td>\n",
       "      <td>5465.88</td>\n",
       "    </tr>\n",
       "    <tr>\n",
       "      <th>2</th>\n",
       "      <td>11235</td>\n",
       "      <td>(1, 1, 0)</td>\n",
       "      <td>(1, 1, 1, 12)</td>\n",
       "      <td>4885.83</td>\n",
       "    </tr>\n",
       "    <tr>\n",
       "      <th>3</th>\n",
       "      <td>11230</td>\n",
       "      <td>(1, 1, 0)</td>\n",
       "      <td>(2, 1, 1, 12)</td>\n",
       "      <td>5120.01</td>\n",
       "    </tr>\n",
       "    <tr>\n",
       "      <th>4</th>\n",
       "      <td>11209</td>\n",
       "      <td>(0, 1, 1)</td>\n",
       "      <td>(2, 1, 2, 12)</td>\n",
       "      <td>5153.3</td>\n",
       "    </tr>\n",
       "    <tr>\n",
       "      <th>5</th>\n",
       "      <td>11212</td>\n",
       "      <td>(3, 1, 0)</td>\n",
       "      <td>(2, 1, 0, 12)</td>\n",
       "      <td>4770</td>\n",
       "    </tr>\n",
       "    <tr>\n",
       "      <th>6</th>\n",
       "      <td>11214</td>\n",
       "      <td>(2, 1, 0)</td>\n",
       "      <td>(2, 1, 1, 12)</td>\n",
       "      <td>4996.89</td>\n",
       "    </tr>\n",
       "    <tr>\n",
       "      <th>7</th>\n",
       "      <td>11221</td>\n",
       "      <td>(2, 2, 2)</td>\n",
       "      <td>(1, 1, 1, 12)</td>\n",
       "      <td>4845</td>\n",
       "    </tr>\n",
       "    <tr>\n",
       "      <th>8</th>\n",
       "      <td>11229</td>\n",
       "      <td>(2, 1, 0)</td>\n",
       "      <td>(2, 1, 0, 12)</td>\n",
       "      <td>4820.25</td>\n",
       "    </tr>\n",
       "    <tr>\n",
       "      <th>9</th>\n",
       "      <td>11234</td>\n",
       "      <td>(2, 1, 0)</td>\n",
       "      <td>(2, 1, 0, 12)</td>\n",
       "      <td>4760.9</td>\n",
       "    </tr>\n",
       "    <tr>\n",
       "      <th>10</th>\n",
       "      <td>11215</td>\n",
       "      <td>(3, 0, 0)</td>\n",
       "      <td>(0, 1, 2, 12)</td>\n",
       "      <td>5693.72</td>\n",
       "    </tr>\n",
       "    <tr>\n",
       "      <th>11</th>\n",
       "      <td>11211</td>\n",
       "      <td>(2, 0, 1)</td>\n",
       "      <td>(2, 1, 0, 12)</td>\n",
       "      <td>5494.48</td>\n",
       "    </tr>\n",
       "    <tr>\n",
       "      <th>12</th>\n",
       "      <td>11233</td>\n",
       "      <td>(1, 1, 0)</td>\n",
       "      <td>(1, 1, 1, 12)</td>\n",
       "      <td>4994.26</td>\n",
       "    </tr>\n",
       "    <tr>\n",
       "      <th>13</th>\n",
       "      <td>11236</td>\n",
       "      <td>(1, 1, 0)</td>\n",
       "      <td>(2, 1, 1, 12)</td>\n",
       "      <td>4832.31</td>\n",
       "    </tr>\n",
       "    <tr>\n",
       "      <th>14</th>\n",
       "      <td>11218</td>\n",
       "      <td>(0, 1, 1)</td>\n",
       "      <td>(1, 1, 1, 12)</td>\n",
       "      <td>5290.56</td>\n",
       "    </tr>\n",
       "    <tr>\n",
       "      <th>15</th>\n",
       "      <td>11223</td>\n",
       "      <td>(1, 1, 0)</td>\n",
       "      <td>(1, 1, 1, 12)</td>\n",
       "      <td>5080.8</td>\n",
       "    </tr>\n",
       "    <tr>\n",
       "      <th>16</th>\n",
       "      <td>11208</td>\n",
       "      <td>(1, 0, 0)</td>\n",
       "      <td>(2, 1, 1, 12)</td>\n",
       "      <td>5304.19</td>\n",
       "    </tr>\n",
       "    <tr>\n",
       "      <th>17</th>\n",
       "      <td>11204</td>\n",
       "      <td>(1, 1, 0)</td>\n",
       "      <td>(1, 1, 1, 12)</td>\n",
       "      <td>4927.29</td>\n",
       "    </tr>\n",
       "    <tr>\n",
       "      <th>18</th>\n",
       "      <td>11219</td>\n",
       "      <td>(2, 1, 0)</td>\n",
       "      <td>(0, 1, 2, 12)</td>\n",
       "      <td>5204.64</td>\n",
       "    </tr>\n",
       "    <tr>\n",
       "      <th>19</th>\n",
       "      <td>11203</td>\n",
       "      <td>(3, 1, 0)</td>\n",
       "      <td>(2, 1, 0, 12)</td>\n",
       "      <td>4767.81</td>\n",
       "    </tr>\n",
       "    <tr>\n",
       "      <th>20</th>\n",
       "      <td>11220</td>\n",
       "      <td>(1, 0, 0)</td>\n",
       "      <td>(1, 1, 1, 12)</td>\n",
       "      <td>5474.4</td>\n",
       "    </tr>\n",
       "    <tr>\n",
       "      <th>21</th>\n",
       "      <td>11216</td>\n",
       "      <td>(1, 1, 0)</td>\n",
       "      <td>(0, 1, 1, 12)</td>\n",
       "      <td>5291.1</td>\n",
       "    </tr>\n",
       "    <tr>\n",
       "      <th>22</th>\n",
       "      <td>11210</td>\n",
       "      <td>(1, 0, 0)</td>\n",
       "      <td>(1, 1, 1, 12)</td>\n",
       "      <td>5481.19</td>\n",
       "    </tr>\n",
       "    <tr>\n",
       "      <th>23</th>\n",
       "      <td>11224</td>\n",
       "      <td>(1, 0, 0)</td>\n",
       "      <td>(2, 1, 1, 12)</td>\n",
       "      <td>5381.38</td>\n",
       "    </tr>\n",
       "    <tr>\n",
       "      <th>24</th>\n",
       "      <td>11222</td>\n",
       "      <td>(2, 0, 0)</td>\n",
       "      <td>(1, 1, 2, 12)</td>\n",
       "      <td>5537.48</td>\n",
       "    </tr>\n",
       "    <tr>\n",
       "      <th>25</th>\n",
       "      <td>11228</td>\n",
       "      <td>(2, 1, 0)</td>\n",
       "      <td>(2, 1, 0, 12)</td>\n",
       "      <td>4981.24</td>\n",
       "    </tr>\n",
       "    <tr>\n",
       "      <th>26</th>\n",
       "      <td>11238</td>\n",
       "      <td>(1, 0, 0)</td>\n",
       "      <td>(1, 1, 0, 12)</td>\n",
       "      <td>6113.55</td>\n",
       "    </tr>\n",
       "    <tr>\n",
       "      <th>27</th>\n",
       "      <td>11205</td>\n",
       "      <td>(1, 1, 0)</td>\n",
       "      <td>(2, 1, 2, 12)</td>\n",
       "      <td>5797.67</td>\n",
       "    </tr>\n",
       "    <tr>\n",
       "      <th>28</th>\n",
       "      <td>11217</td>\n",
       "      <td>(0, 1, 0)</td>\n",
       "      <td>(0, 1, 0, 12)</td>\n",
       "      <td>5622.05</td>\n",
       "    </tr>\n",
       "  </tbody>\n",
       "</table>\n",
       "</div>"
      ],
      "text/plain": [
       "          0          1              2        3\n",
       "0   zipcode        pdq   seasonal_pdq      aic\n",
       "1     11226  (2, 0, 0)  (2, 1, 1, 12)  5465.88\n",
       "2     11235  (1, 1, 0)  (1, 1, 1, 12)  4885.83\n",
       "3     11230  (1, 1, 0)  (2, 1, 1, 12)  5120.01\n",
       "4     11209  (0, 1, 1)  (2, 1, 2, 12)   5153.3\n",
       "5     11212  (3, 1, 0)  (2, 1, 0, 12)     4770\n",
       "6     11214  (2, 1, 0)  (2, 1, 1, 12)  4996.89\n",
       "7     11221  (2, 2, 2)  (1, 1, 1, 12)     4845\n",
       "8     11229  (2, 1, 0)  (2, 1, 0, 12)  4820.25\n",
       "9     11234  (2, 1, 0)  (2, 1, 0, 12)   4760.9\n",
       "10    11215  (3, 0, 0)  (0, 1, 2, 12)  5693.72\n",
       "11    11211  (2, 0, 1)  (2, 1, 0, 12)  5494.48\n",
       "12    11233  (1, 1, 0)  (1, 1, 1, 12)  4994.26\n",
       "13    11236  (1, 1, 0)  (2, 1, 1, 12)  4832.31\n",
       "14    11218  (0, 1, 1)  (1, 1, 1, 12)  5290.56\n",
       "15    11223  (1, 1, 0)  (1, 1, 1, 12)   5080.8\n",
       "16    11208  (1, 0, 0)  (2, 1, 1, 12)  5304.19\n",
       "17    11204  (1, 1, 0)  (1, 1, 1, 12)  4927.29\n",
       "18    11219  (2, 1, 0)  (0, 1, 2, 12)  5204.64\n",
       "19    11203  (3, 1, 0)  (2, 1, 0, 12)  4767.81\n",
       "20    11220  (1, 0, 0)  (1, 1, 1, 12)   5474.4\n",
       "21    11216  (1, 1, 0)  (0, 1, 1, 12)   5291.1\n",
       "22    11210  (1, 0, 0)  (1, 1, 1, 12)  5481.19\n",
       "23    11224  (1, 0, 0)  (2, 1, 1, 12)  5381.38\n",
       "24    11222  (2, 0, 0)  (1, 1, 2, 12)  5537.48\n",
       "25    11228  (2, 1, 0)  (2, 1, 0, 12)  4981.24\n",
       "26    11238  (1, 0, 0)  (1, 1, 0, 12)  6113.55\n",
       "27    11205  (1, 1, 0)  (2, 1, 2, 12)  5797.67\n",
       "28    11217  (0, 1, 0)  (0, 1, 0, 12)  5622.05"
      ]
     },
     "execution_count": 48,
     "metadata": {},
     "output_type": "execute_result"
    }
   ],
   "source": [
    "arima_list = [['zipcode', 'pdq','seasonal_pdq','aic']] \n",
    "for col in zip_df.columns:\n",
    "  zip_test_2 = arima_model(zip_df[col])\n",
    "  arima_list.append([col,zip_test_2.order, zip_test_2.seasonal_order, zip_test_2.aic()])\n",
    "#result   \n",
    "output_df = pd.DataFrame(arima_list) #[1:],columns=arima_list[0]\n",
    "output_df  "
   ]
  },
  {
   "cell_type": "markdown",
   "metadata": {
    "id": "rxybUHbBZDar"
   },
   "source": [
    "### **Dataframe of PDQs, Seasonal PDQs and AICs**"
   ]
  },
  {
   "cell_type": "code",
   "execution_count": 49,
   "metadata": {
    "id": "6O8-Rbi5dUMD"
   },
   "outputs": [],
   "source": [
    "#output_df.to_csv('output_df_data.csv')"
   ]
  },
  {
   "cell_type": "code",
   "execution_count": 50,
   "metadata": {
    "colab": {
     "base_uri": "https://localhost:8080/",
     "height": 204
    },
    "id": "_TW14hJyeXSn",
    "outputId": "6db2edba-caf9-4b7c-cebf-54ea40fb0576"
   },
   "outputs": [],
   "source": [
    "# output_df = pd.read_csv('output_df_data.csv')\n",
    "# output_df.drop('Unnamed: 0',axis=1, inplace=True)\n",
    "# output_df"
   ]
  },
  {
   "cell_type": "code",
   "execution_count": 51,
   "metadata": {
    "colab": {
     "base_uri": "https://localhost:8080/",
     "height": 917
    },
    "id": "wEW6x65SgU5a",
    "outputId": "6dee701a-1f5a-4807-fbb1-5268fc702ca5"
   },
   "outputs": [
    {
     "data": {
      "text/html": [
       "<div>\n",
       "<style scoped>\n",
       "    .dataframe tbody tr th:only-of-type {\n",
       "        vertical-align: middle;\n",
       "    }\n",
       "\n",
       "    .dataframe tbody tr th {\n",
       "        vertical-align: top;\n",
       "    }\n",
       "\n",
       "    .dataframe thead th {\n",
       "        text-align: right;\n",
       "    }\n",
       "</style>\n",
       "<table border=\"1\" class=\"dataframe\">\n",
       "  <thead>\n",
       "    <tr style=\"text-align: right;\">\n",
       "      <th></th>\n",
       "      <th>0</th>\n",
       "      <th>1</th>\n",
       "      <th>2</th>\n",
       "      <th>3</th>\n",
       "    </tr>\n",
       "  </thead>\n",
       "  <tbody>\n",
       "    <tr>\n",
       "      <th>0</th>\n",
       "      <td>zipcode</td>\n",
       "      <td>pdq</td>\n",
       "      <td>seasonal_pdq</td>\n",
       "      <td>aic</td>\n",
       "    </tr>\n",
       "    <tr>\n",
       "      <th>1</th>\n",
       "      <td>11226</td>\n",
       "      <td>(2, 0, 0)</td>\n",
       "      <td>(2, 1, 1, 12)</td>\n",
       "      <td>5465.88</td>\n",
       "    </tr>\n",
       "    <tr>\n",
       "      <th>2</th>\n",
       "      <td>11235</td>\n",
       "      <td>(1, 1, 0)</td>\n",
       "      <td>(1, 1, 1, 12)</td>\n",
       "      <td>4885.83</td>\n",
       "    </tr>\n",
       "    <tr>\n",
       "      <th>3</th>\n",
       "      <td>11230</td>\n",
       "      <td>(1, 1, 0)</td>\n",
       "      <td>(2, 1, 1, 12)</td>\n",
       "      <td>5120.01</td>\n",
       "    </tr>\n",
       "    <tr>\n",
       "      <th>4</th>\n",
       "      <td>11209</td>\n",
       "      <td>(0, 1, 1)</td>\n",
       "      <td>(2, 1, 2, 12)</td>\n",
       "      <td>5153.3</td>\n",
       "    </tr>\n",
       "    <tr>\n",
       "      <th>5</th>\n",
       "      <td>11212</td>\n",
       "      <td>(3, 1, 0)</td>\n",
       "      <td>(2, 1, 0, 12)</td>\n",
       "      <td>4770</td>\n",
       "    </tr>\n",
       "    <tr>\n",
       "      <th>6</th>\n",
       "      <td>11214</td>\n",
       "      <td>(2, 1, 0)</td>\n",
       "      <td>(2, 1, 1, 12)</td>\n",
       "      <td>4996.89</td>\n",
       "    </tr>\n",
       "    <tr>\n",
       "      <th>7</th>\n",
       "      <td>11221</td>\n",
       "      <td>(2, 2, 2)</td>\n",
       "      <td>(1, 1, 1, 12)</td>\n",
       "      <td>4845</td>\n",
       "    </tr>\n",
       "    <tr>\n",
       "      <th>8</th>\n",
       "      <td>11229</td>\n",
       "      <td>(2, 1, 0)</td>\n",
       "      <td>(2, 1, 0, 12)</td>\n",
       "      <td>4820.25</td>\n",
       "    </tr>\n",
       "    <tr>\n",
       "      <th>9</th>\n",
       "      <td>11234</td>\n",
       "      <td>(2, 1, 0)</td>\n",
       "      <td>(2, 1, 0, 12)</td>\n",
       "      <td>4760.9</td>\n",
       "    </tr>\n",
       "    <tr>\n",
       "      <th>10</th>\n",
       "      <td>11215</td>\n",
       "      <td>(3, 0, 0)</td>\n",
       "      <td>(0, 1, 2, 12)</td>\n",
       "      <td>5693.72</td>\n",
       "    </tr>\n",
       "    <tr>\n",
       "      <th>11</th>\n",
       "      <td>11211</td>\n",
       "      <td>(2, 0, 1)</td>\n",
       "      <td>(2, 1, 0, 12)</td>\n",
       "      <td>5494.48</td>\n",
       "    </tr>\n",
       "    <tr>\n",
       "      <th>12</th>\n",
       "      <td>11233</td>\n",
       "      <td>(1, 1, 0)</td>\n",
       "      <td>(1, 1, 1, 12)</td>\n",
       "      <td>4994.26</td>\n",
       "    </tr>\n",
       "    <tr>\n",
       "      <th>13</th>\n",
       "      <td>11236</td>\n",
       "      <td>(1, 1, 0)</td>\n",
       "      <td>(2, 1, 1, 12)</td>\n",
       "      <td>4832.31</td>\n",
       "    </tr>\n",
       "    <tr>\n",
       "      <th>14</th>\n",
       "      <td>11218</td>\n",
       "      <td>(0, 1, 1)</td>\n",
       "      <td>(1, 1, 1, 12)</td>\n",
       "      <td>5290.56</td>\n",
       "    </tr>\n",
       "    <tr>\n",
       "      <th>15</th>\n",
       "      <td>11223</td>\n",
       "      <td>(1, 1, 0)</td>\n",
       "      <td>(1, 1, 1, 12)</td>\n",
       "      <td>5080.8</td>\n",
       "    </tr>\n",
       "    <tr>\n",
       "      <th>16</th>\n",
       "      <td>11208</td>\n",
       "      <td>(1, 0, 0)</td>\n",
       "      <td>(2, 1, 1, 12)</td>\n",
       "      <td>5304.19</td>\n",
       "    </tr>\n",
       "    <tr>\n",
       "      <th>17</th>\n",
       "      <td>11204</td>\n",
       "      <td>(1, 1, 0)</td>\n",
       "      <td>(1, 1, 1, 12)</td>\n",
       "      <td>4927.29</td>\n",
       "    </tr>\n",
       "    <tr>\n",
       "      <th>18</th>\n",
       "      <td>11219</td>\n",
       "      <td>(2, 1, 0)</td>\n",
       "      <td>(0, 1, 2, 12)</td>\n",
       "      <td>5204.64</td>\n",
       "    </tr>\n",
       "    <tr>\n",
       "      <th>19</th>\n",
       "      <td>11203</td>\n",
       "      <td>(3, 1, 0)</td>\n",
       "      <td>(2, 1, 0, 12)</td>\n",
       "      <td>4767.81</td>\n",
       "    </tr>\n",
       "    <tr>\n",
       "      <th>20</th>\n",
       "      <td>11220</td>\n",
       "      <td>(1, 0, 0)</td>\n",
       "      <td>(1, 1, 1, 12)</td>\n",
       "      <td>5474.4</td>\n",
       "    </tr>\n",
       "    <tr>\n",
       "      <th>21</th>\n",
       "      <td>11216</td>\n",
       "      <td>(1, 1, 0)</td>\n",
       "      <td>(0, 1, 1, 12)</td>\n",
       "      <td>5291.1</td>\n",
       "    </tr>\n",
       "    <tr>\n",
       "      <th>22</th>\n",
       "      <td>11210</td>\n",
       "      <td>(1, 0, 0)</td>\n",
       "      <td>(1, 1, 1, 12)</td>\n",
       "      <td>5481.19</td>\n",
       "    </tr>\n",
       "    <tr>\n",
       "      <th>23</th>\n",
       "      <td>11224</td>\n",
       "      <td>(1, 0, 0)</td>\n",
       "      <td>(2, 1, 1, 12)</td>\n",
       "      <td>5381.38</td>\n",
       "    </tr>\n",
       "    <tr>\n",
       "      <th>24</th>\n",
       "      <td>11222</td>\n",
       "      <td>(2, 0, 0)</td>\n",
       "      <td>(1, 1, 2, 12)</td>\n",
       "      <td>5537.48</td>\n",
       "    </tr>\n",
       "    <tr>\n",
       "      <th>25</th>\n",
       "      <td>11228</td>\n",
       "      <td>(2, 1, 0)</td>\n",
       "      <td>(2, 1, 0, 12)</td>\n",
       "      <td>4981.24</td>\n",
       "    </tr>\n",
       "    <tr>\n",
       "      <th>26</th>\n",
       "      <td>11238</td>\n",
       "      <td>(1, 0, 0)</td>\n",
       "      <td>(1, 1, 0, 12)</td>\n",
       "      <td>6113.55</td>\n",
       "    </tr>\n",
       "    <tr>\n",
       "      <th>27</th>\n",
       "      <td>11205</td>\n",
       "      <td>(1, 1, 0)</td>\n",
       "      <td>(2, 1, 2, 12)</td>\n",
       "      <td>5797.67</td>\n",
       "    </tr>\n",
       "    <tr>\n",
       "      <th>28</th>\n",
       "      <td>11217</td>\n",
       "      <td>(0, 1, 0)</td>\n",
       "      <td>(0, 1, 0, 12)</td>\n",
       "      <td>5622.05</td>\n",
       "    </tr>\n",
       "  </tbody>\n",
       "</table>\n",
       "</div>"
      ],
      "text/plain": [
       "          0          1              2        3\n",
       "0   zipcode        pdq   seasonal_pdq      aic\n",
       "1     11226  (2, 0, 0)  (2, 1, 1, 12)  5465.88\n",
       "2     11235  (1, 1, 0)  (1, 1, 1, 12)  4885.83\n",
       "3     11230  (1, 1, 0)  (2, 1, 1, 12)  5120.01\n",
       "4     11209  (0, 1, 1)  (2, 1, 2, 12)   5153.3\n",
       "5     11212  (3, 1, 0)  (2, 1, 0, 12)     4770\n",
       "6     11214  (2, 1, 0)  (2, 1, 1, 12)  4996.89\n",
       "7     11221  (2, 2, 2)  (1, 1, 1, 12)     4845\n",
       "8     11229  (2, 1, 0)  (2, 1, 0, 12)  4820.25\n",
       "9     11234  (2, 1, 0)  (2, 1, 0, 12)   4760.9\n",
       "10    11215  (3, 0, 0)  (0, 1, 2, 12)  5693.72\n",
       "11    11211  (2, 0, 1)  (2, 1, 0, 12)  5494.48\n",
       "12    11233  (1, 1, 0)  (1, 1, 1, 12)  4994.26\n",
       "13    11236  (1, 1, 0)  (2, 1, 1, 12)  4832.31\n",
       "14    11218  (0, 1, 1)  (1, 1, 1, 12)  5290.56\n",
       "15    11223  (1, 1, 0)  (1, 1, 1, 12)   5080.8\n",
       "16    11208  (1, 0, 0)  (2, 1, 1, 12)  5304.19\n",
       "17    11204  (1, 1, 0)  (1, 1, 1, 12)  4927.29\n",
       "18    11219  (2, 1, 0)  (0, 1, 2, 12)  5204.64\n",
       "19    11203  (3, 1, 0)  (2, 1, 0, 12)  4767.81\n",
       "20    11220  (1, 0, 0)  (1, 1, 1, 12)   5474.4\n",
       "21    11216  (1, 1, 0)  (0, 1, 1, 12)   5291.1\n",
       "22    11210  (1, 0, 0)  (1, 1, 1, 12)  5481.19\n",
       "23    11224  (1, 0, 0)  (2, 1, 1, 12)  5381.38\n",
       "24    11222  (2, 0, 0)  (1, 1, 2, 12)  5537.48\n",
       "25    11228  (2, 1, 0)  (2, 1, 0, 12)  4981.24\n",
       "26    11238  (1, 0, 0)  (1, 1, 0, 12)  6113.55\n",
       "27    11205  (1, 1, 0)  (2, 1, 2, 12)  5797.67\n",
       "28    11217  (0, 1, 0)  (0, 1, 0, 12)  5622.05"
      ]
     },
     "execution_count": 51,
     "metadata": {},
     "output_type": "execute_result"
    }
   ],
   "source": [
    "output_df"
   ]
  },
  {
   "cell_type": "markdown",
   "metadata": {
    "id": "9nCuBStdpptV"
   },
   "source": [
    "## **SARIMA Model**"
   ]
  },
  {
   "cell_type": "markdown",
   "metadata": {
    "id": "o0_z6kcVT5sT"
   },
   "source": [
    "### **Fitting a SARIMA Time Series Model**\n",
    "Using a grid search approach, I used the Auto_Arima model to identify the set of optimal parameters to produce the best fitting model of the time series data.  The optimal parameter values are then inputted into the SARIMAX model.  I used a SARIMAX model because it takes into account trends and seasonality.  Acordingly, we can model our data without differencing it and addressing the issue of whether data is stationary or not.<br>    \n",
    "\n",
    "Coef column shows the importance of each feature and how each one impacts the time series patterns. \n",
    "The P>|z| provides the significance of each feature weight.<br>\n",
    "\n",
    "If a weight has a p-value lower or close to 0.05 it is reasonable to retain it in the model.<br>\n",
    "\n",
    "Model diagnostics - the purpose is to ensure that residuals remain uncorrelated, normally distributed having zero mean.  N(0,1)) is the standard notation for a normal distribution with mean 0 and standard deviation of 1).  This is a good indication that the residuals are normally distributed.<br>"
   ]
  },
  {
   "cell_type": "code",
   "execution_count": 52,
   "metadata": {
    "id": "CI-u7raor5KT"
   },
   "outputs": [],
   "source": [
    "def fit_ARIMA(df, order=None, seasonal_order=None):\n",
    "    \"\"\"\n",
    "    forecasting statsmodel SARIMAX model\n",
    "    \"\"\"\n",
    "    ARIMA_MODEL = sm.tsa.statespace.SARIMAX(df, \n",
    "                                        order=order, \n",
    "                                        seasonal_order=seasonal_order, \n",
    "                                        enforce_stationarity=False, \n",
    "                                        enforce_invertibility=False)\n",
    "\n",
    "    # Fit the model and print results\n",
    "    output = ARIMA_MODEL.fit()\n",
    "\n",
    "    #display / no tables 1\n",
    "    display(output.summary())\n",
    "    \n",
    "    print('\\n')\n",
    "    print('MODEL DIAGNOSTICS')\n",
    "    \n",
    "    output.plot_diagnostics(figsize=(15, 18));\n",
    "    plt.show()\n",
    "    \n",
    "    return output"
   ]
  },
  {
   "cell_type": "markdown",
   "metadata": {
    "id": "Kn2YvJbJW69c"
   },
   "source": [
    "### **Validating the Model**"
   ]
  },
  {
   "cell_type": "markdown",
   "metadata": {
    "id": "pnDW2sDjXQ4k"
   },
   "source": [
    "## **One-Step Ahead Forecasting**"
   ]
  },
  {
   "cell_type": "code",
   "execution_count": 53,
   "metadata": {
    "colab": {
     "base_uri": "https://localhost:8080/",
     "height": 917
    },
    "id": "Vh8eaFva8Jhh",
    "outputId": "b9bf31f8-8ce8-4c95-9cef-ef82f92681ff"
   },
   "outputs": [
    {
     "data": {
      "text/html": [
       "<div>\n",
       "<style scoped>\n",
       "    .dataframe tbody tr th:only-of-type {\n",
       "        vertical-align: middle;\n",
       "    }\n",
       "\n",
       "    .dataframe tbody tr th {\n",
       "        vertical-align: top;\n",
       "    }\n",
       "\n",
       "    .dataframe thead th {\n",
       "        text-align: right;\n",
       "    }\n",
       "</style>\n",
       "<table border=\"1\" class=\"dataframe\">\n",
       "  <thead>\n",
       "    <tr style=\"text-align: right;\">\n",
       "      <th></th>\n",
       "      <th>0</th>\n",
       "      <th>1</th>\n",
       "      <th>2</th>\n",
       "      <th>3</th>\n",
       "    </tr>\n",
       "  </thead>\n",
       "  <tbody>\n",
       "    <tr>\n",
       "      <th>0</th>\n",
       "      <td>zipcode</td>\n",
       "      <td>pdq</td>\n",
       "      <td>seasonal_pdq</td>\n",
       "      <td>aic</td>\n",
       "    </tr>\n",
       "    <tr>\n",
       "      <th>1</th>\n",
       "      <td>11226</td>\n",
       "      <td>(2, 0, 0)</td>\n",
       "      <td>(2, 1, 1, 12)</td>\n",
       "      <td>5465.88</td>\n",
       "    </tr>\n",
       "    <tr>\n",
       "      <th>2</th>\n",
       "      <td>11235</td>\n",
       "      <td>(1, 1, 0)</td>\n",
       "      <td>(1, 1, 1, 12)</td>\n",
       "      <td>4885.83</td>\n",
       "    </tr>\n",
       "    <tr>\n",
       "      <th>3</th>\n",
       "      <td>11230</td>\n",
       "      <td>(1, 1, 0)</td>\n",
       "      <td>(2, 1, 1, 12)</td>\n",
       "      <td>5120.01</td>\n",
       "    </tr>\n",
       "    <tr>\n",
       "      <th>4</th>\n",
       "      <td>11209</td>\n",
       "      <td>(0, 1, 1)</td>\n",
       "      <td>(2, 1, 2, 12)</td>\n",
       "      <td>5153.3</td>\n",
       "    </tr>\n",
       "    <tr>\n",
       "      <th>5</th>\n",
       "      <td>11212</td>\n",
       "      <td>(3, 1, 0)</td>\n",
       "      <td>(2, 1, 0, 12)</td>\n",
       "      <td>4770</td>\n",
       "    </tr>\n",
       "    <tr>\n",
       "      <th>6</th>\n",
       "      <td>11214</td>\n",
       "      <td>(2, 1, 0)</td>\n",
       "      <td>(2, 1, 1, 12)</td>\n",
       "      <td>4996.89</td>\n",
       "    </tr>\n",
       "    <tr>\n",
       "      <th>7</th>\n",
       "      <td>11221</td>\n",
       "      <td>(2, 2, 2)</td>\n",
       "      <td>(1, 1, 1, 12)</td>\n",
       "      <td>4845</td>\n",
       "    </tr>\n",
       "    <tr>\n",
       "      <th>8</th>\n",
       "      <td>11229</td>\n",
       "      <td>(2, 1, 0)</td>\n",
       "      <td>(2, 1, 0, 12)</td>\n",
       "      <td>4820.25</td>\n",
       "    </tr>\n",
       "    <tr>\n",
       "      <th>9</th>\n",
       "      <td>11234</td>\n",
       "      <td>(2, 1, 0)</td>\n",
       "      <td>(2, 1, 0, 12)</td>\n",
       "      <td>4760.9</td>\n",
       "    </tr>\n",
       "    <tr>\n",
       "      <th>10</th>\n",
       "      <td>11215</td>\n",
       "      <td>(3, 0, 0)</td>\n",
       "      <td>(0, 1, 2, 12)</td>\n",
       "      <td>5693.72</td>\n",
       "    </tr>\n",
       "    <tr>\n",
       "      <th>11</th>\n",
       "      <td>11211</td>\n",
       "      <td>(2, 0, 1)</td>\n",
       "      <td>(2, 1, 0, 12)</td>\n",
       "      <td>5494.48</td>\n",
       "    </tr>\n",
       "    <tr>\n",
       "      <th>12</th>\n",
       "      <td>11233</td>\n",
       "      <td>(1, 1, 0)</td>\n",
       "      <td>(1, 1, 1, 12)</td>\n",
       "      <td>4994.26</td>\n",
       "    </tr>\n",
       "    <tr>\n",
       "      <th>13</th>\n",
       "      <td>11236</td>\n",
       "      <td>(1, 1, 0)</td>\n",
       "      <td>(2, 1, 1, 12)</td>\n",
       "      <td>4832.31</td>\n",
       "    </tr>\n",
       "    <tr>\n",
       "      <th>14</th>\n",
       "      <td>11218</td>\n",
       "      <td>(0, 1, 1)</td>\n",
       "      <td>(1, 1, 1, 12)</td>\n",
       "      <td>5290.56</td>\n",
       "    </tr>\n",
       "    <tr>\n",
       "      <th>15</th>\n",
       "      <td>11223</td>\n",
       "      <td>(1, 1, 0)</td>\n",
       "      <td>(1, 1, 1, 12)</td>\n",
       "      <td>5080.8</td>\n",
       "    </tr>\n",
       "    <tr>\n",
       "      <th>16</th>\n",
       "      <td>11208</td>\n",
       "      <td>(1, 0, 0)</td>\n",
       "      <td>(2, 1, 1, 12)</td>\n",
       "      <td>5304.19</td>\n",
       "    </tr>\n",
       "    <tr>\n",
       "      <th>17</th>\n",
       "      <td>11204</td>\n",
       "      <td>(1, 1, 0)</td>\n",
       "      <td>(1, 1, 1, 12)</td>\n",
       "      <td>4927.29</td>\n",
       "    </tr>\n",
       "    <tr>\n",
       "      <th>18</th>\n",
       "      <td>11219</td>\n",
       "      <td>(2, 1, 0)</td>\n",
       "      <td>(0, 1, 2, 12)</td>\n",
       "      <td>5204.64</td>\n",
       "    </tr>\n",
       "    <tr>\n",
       "      <th>19</th>\n",
       "      <td>11203</td>\n",
       "      <td>(3, 1, 0)</td>\n",
       "      <td>(2, 1, 0, 12)</td>\n",
       "      <td>4767.81</td>\n",
       "    </tr>\n",
       "    <tr>\n",
       "      <th>20</th>\n",
       "      <td>11220</td>\n",
       "      <td>(1, 0, 0)</td>\n",
       "      <td>(1, 1, 1, 12)</td>\n",
       "      <td>5474.4</td>\n",
       "    </tr>\n",
       "    <tr>\n",
       "      <th>21</th>\n",
       "      <td>11216</td>\n",
       "      <td>(1, 1, 0)</td>\n",
       "      <td>(0, 1, 1, 12)</td>\n",
       "      <td>5291.1</td>\n",
       "    </tr>\n",
       "    <tr>\n",
       "      <th>22</th>\n",
       "      <td>11210</td>\n",
       "      <td>(1, 0, 0)</td>\n",
       "      <td>(1, 1, 1, 12)</td>\n",
       "      <td>5481.19</td>\n",
       "    </tr>\n",
       "    <tr>\n",
       "      <th>23</th>\n",
       "      <td>11224</td>\n",
       "      <td>(1, 0, 0)</td>\n",
       "      <td>(2, 1, 1, 12)</td>\n",
       "      <td>5381.38</td>\n",
       "    </tr>\n",
       "    <tr>\n",
       "      <th>24</th>\n",
       "      <td>11222</td>\n",
       "      <td>(2, 0, 0)</td>\n",
       "      <td>(1, 1, 2, 12)</td>\n",
       "      <td>5537.48</td>\n",
       "    </tr>\n",
       "    <tr>\n",
       "      <th>25</th>\n",
       "      <td>11228</td>\n",
       "      <td>(2, 1, 0)</td>\n",
       "      <td>(2, 1, 0, 12)</td>\n",
       "      <td>4981.24</td>\n",
       "    </tr>\n",
       "    <tr>\n",
       "      <th>26</th>\n",
       "      <td>11238</td>\n",
       "      <td>(1, 0, 0)</td>\n",
       "      <td>(1, 1, 0, 12)</td>\n",
       "      <td>6113.55</td>\n",
       "    </tr>\n",
       "    <tr>\n",
       "      <th>27</th>\n",
       "      <td>11205</td>\n",
       "      <td>(1, 1, 0)</td>\n",
       "      <td>(2, 1, 2, 12)</td>\n",
       "      <td>5797.67</td>\n",
       "    </tr>\n",
       "    <tr>\n",
       "      <th>28</th>\n",
       "      <td>11217</td>\n",
       "      <td>(0, 1, 0)</td>\n",
       "      <td>(0, 1, 0, 12)</td>\n",
       "      <td>5622.05</td>\n",
       "    </tr>\n",
       "  </tbody>\n",
       "</table>\n",
       "</div>"
      ],
      "text/plain": [
       "          0          1              2        3\n",
       "0   zipcode        pdq   seasonal_pdq      aic\n",
       "1     11226  (2, 0, 0)  (2, 1, 1, 12)  5465.88\n",
       "2     11235  (1, 1, 0)  (1, 1, 1, 12)  4885.83\n",
       "3     11230  (1, 1, 0)  (2, 1, 1, 12)  5120.01\n",
       "4     11209  (0, 1, 1)  (2, 1, 2, 12)   5153.3\n",
       "5     11212  (3, 1, 0)  (2, 1, 0, 12)     4770\n",
       "6     11214  (2, 1, 0)  (2, 1, 1, 12)  4996.89\n",
       "7     11221  (2, 2, 2)  (1, 1, 1, 12)     4845\n",
       "8     11229  (2, 1, 0)  (2, 1, 0, 12)  4820.25\n",
       "9     11234  (2, 1, 0)  (2, 1, 0, 12)   4760.9\n",
       "10    11215  (3, 0, 0)  (0, 1, 2, 12)  5693.72\n",
       "11    11211  (2, 0, 1)  (2, 1, 0, 12)  5494.48\n",
       "12    11233  (1, 1, 0)  (1, 1, 1, 12)  4994.26\n",
       "13    11236  (1, 1, 0)  (2, 1, 1, 12)  4832.31\n",
       "14    11218  (0, 1, 1)  (1, 1, 1, 12)  5290.56\n",
       "15    11223  (1, 1, 0)  (1, 1, 1, 12)   5080.8\n",
       "16    11208  (1, 0, 0)  (2, 1, 1, 12)  5304.19\n",
       "17    11204  (1, 1, 0)  (1, 1, 1, 12)  4927.29\n",
       "18    11219  (2, 1, 0)  (0, 1, 2, 12)  5204.64\n",
       "19    11203  (3, 1, 0)  (2, 1, 0, 12)  4767.81\n",
       "20    11220  (1, 0, 0)  (1, 1, 1, 12)   5474.4\n",
       "21    11216  (1, 1, 0)  (0, 1, 1, 12)   5291.1\n",
       "22    11210  (1, 0, 0)  (1, 1, 1, 12)  5481.19\n",
       "23    11224  (1, 0, 0)  (2, 1, 1, 12)  5381.38\n",
       "24    11222  (2, 0, 0)  (1, 1, 2, 12)  5537.48\n",
       "25    11228  (2, 1, 0)  (2, 1, 0, 12)  4981.24\n",
       "26    11238  (1, 0, 0)  (1, 1, 0, 12)  6113.55\n",
       "27    11205  (1, 1, 0)  (2, 1, 2, 12)  5797.67\n",
       "28    11217  (0, 1, 0)  (0, 1, 0, 12)  5622.05"
      ]
     },
     "execution_count": 53,
     "metadata": {},
     "output_type": "execute_result"
    }
   ],
   "source": [
    "output_df"
   ]
  },
  {
   "cell_type": "code",
   "execution_count": 54,
   "metadata": {
    "colab": {
     "base_uri": "https://localhost:8080/"
    },
    "id": "d6GMcTPaMKLQ",
    "outputId": "32b35145-e056-4e17-ccfe-40240f7aaa46"
   },
   "outputs": [
    {
     "data": {
      "text/plain": [
       "Month\n",
       "1996-04-01    671200.0\n",
       "1996-05-01    671200.0\n",
       "1996-06-01    671200.0\n",
       "1996-07-01    671200.0\n",
       "1996-08-01    671200.0\n",
       "Freq: MS, Name: 11238, dtype: float64"
      ]
     },
     "execution_count": 54,
     "metadata": {},
     "output_type": "execute_result"
    }
   ],
   "source": [
    "train_brk[11238].head()"
   ]
  },
  {
   "cell_type": "code",
   "execution_count": 55,
   "metadata": {
    "colab": {
     "base_uri": "https://localhost:8080/"
    },
    "id": "X4QeP1IIPUxf",
    "outputId": "fd7ecbec-2c01-4a1a-e5f5-6f2430b35cc5"
   },
   "outputs": [
    {
     "data": {
      "text/plain": [
       "Month\n",
       "2013-09-01    1613500.0\n",
       "2013-10-01    1638400.0\n",
       "2013-11-01    1640700.0\n",
       "2013-12-01    1661500.0\n",
       "2014-01-01    1709200.0\n",
       "Freq: MS, Name: 11238, dtype: float64"
      ]
     },
     "execution_count": 55,
     "metadata": {},
     "output_type": "execute_result"
    }
   ],
   "source": [
    "train_brk[11238].tail()"
   ]
  },
  {
   "cell_type": "code",
   "execution_count": 56,
   "metadata": {
    "colab": {
     "base_uri": "https://localhost:8080/"
    },
    "id": "t0VPJumTO4eS",
    "outputId": "c8d33511-f380-4686-fd59-32fa21d7ff18"
   },
   "outputs": [
    {
     "data": {
      "text/plain": [
       "Month\n",
       "2014-01-01    1709200.0\n",
       "2018-04-01    2885300.0\n",
       "Name: 11238, dtype: float64"
      ]
     },
     "execution_count": 56,
     "metadata": {},
     "output_type": "execute_result"
    }
   ],
   "source": [
    "test_brk[11238][[0,-1]]"
   ]
  },
  {
   "cell_type": "markdown",
   "metadata": {},
   "source": [
    "In order to the validate model, I started by comparing predicted values to real values of the time series, which will help us understand the accuracy of \n",
    "    our forecasts.<br>\n",
    "\n",
    "get_prediction() and .conf_int() methods allow us to obtain the values and associated confidence intervals for forecasts of the time series.\n",
    "Get the confidence intervals for all predictions.<br>\n"
   ]
  },
  {
   "cell_type": "code",
   "execution_count": 57,
   "metadata": {
    "colab": {
     "base_uri": "https://localhost:8080/",
     "height": 1000
    },
    "id": "zPItuqTwr44f",
    "outputId": "f1a65dc1-ee48-4672-fad4-f7addb15ffef"
   },
   "outputs": [
    {
     "ename": "KeyError",
     "evalue": "'zipcode'",
     "output_type": "error",
     "traceback": [
      "\u001b[0;31m---------------------------------------------------------------------------\u001b[0m",
      "\u001b[0;31mKeyError\u001b[0m                                  Traceback (most recent call last)",
      "\u001b[0;32m<ipython-input-57-228eaaac3c2f>\u001b[0m in \u001b[0;36m<module>\u001b[0;34m\u001b[0m\n\u001b[1;32m      1\u001b[0m \u001b[0mcurrent_zip\u001b[0m \u001b[0;34m=\u001b[0m \u001b[0;36m11218\u001b[0m\u001b[0;34m\u001b[0m\u001b[0;34m\u001b[0m\u001b[0m\n\u001b[0;32m----> 2\u001b[0;31m \u001b[0mzip_params\u001b[0m\u001b[0;34m=\u001b[0m \u001b[0moutput_df\u001b[0m\u001b[0;34m[\u001b[0m\u001b[0moutput_df\u001b[0m\u001b[0;34m[\u001b[0m\u001b[0;34m'zipcode'\u001b[0m\u001b[0;34m]\u001b[0m\u001b[0;34m==\u001b[0m\u001b[0mcurrent_zip\u001b[0m\u001b[0;34m]\u001b[0m\u001b[0;34m\u001b[0m\u001b[0;34m\u001b[0m\u001b[0m\n\u001b[0m\u001b[1;32m      3\u001b[0m \u001b[0mzip_params\u001b[0m\u001b[0;34m.\u001b[0m\u001b[0mpdq\u001b[0m\u001b[0;34m.\u001b[0m\u001b[0mvalues\u001b[0m\u001b[0;34m[\u001b[0m\u001b[0;36m0\u001b[0m\u001b[0;34m]\u001b[0m\u001b[0;34m\u001b[0m\u001b[0;34m\u001b[0m\u001b[0m\n\u001b[1;32m      4\u001b[0m \u001b[0mzip_params\u001b[0m\u001b[0;34m.\u001b[0m\u001b[0mseasonal_pdq\u001b[0m\u001b[0;34m.\u001b[0m\u001b[0mvalues\u001b[0m\u001b[0;34m[\u001b[0m\u001b[0;36m0\u001b[0m\u001b[0;34m]\u001b[0m\u001b[0;34m\u001b[0m\u001b[0;34m\u001b[0m\u001b[0m\n\u001b[1;32m      5\u001b[0m \u001b[0;34m\u001b[0m\u001b[0m\n",
      "\u001b[0;32m~/opt/anaconda3/envs/learn-env/lib/python3.6/site-packages/pandas/core/frame.py\u001b[0m in \u001b[0;36m__getitem__\u001b[0;34m(self, key)\u001b[0m\n\u001b[1;32m   2904\u001b[0m             \u001b[0;32mif\u001b[0m \u001b[0mself\u001b[0m\u001b[0;34m.\u001b[0m\u001b[0mcolumns\u001b[0m\u001b[0;34m.\u001b[0m\u001b[0mnlevels\u001b[0m \u001b[0;34m>\u001b[0m \u001b[0;36m1\u001b[0m\u001b[0;34m:\u001b[0m\u001b[0;34m\u001b[0m\u001b[0;34m\u001b[0m\u001b[0m\n\u001b[1;32m   2905\u001b[0m                 \u001b[0;32mreturn\u001b[0m \u001b[0mself\u001b[0m\u001b[0;34m.\u001b[0m\u001b[0m_getitem_multilevel\u001b[0m\u001b[0;34m(\u001b[0m\u001b[0mkey\u001b[0m\u001b[0;34m)\u001b[0m\u001b[0;34m\u001b[0m\u001b[0;34m\u001b[0m\u001b[0m\n\u001b[0;32m-> 2906\u001b[0;31m             \u001b[0mindexer\u001b[0m \u001b[0;34m=\u001b[0m \u001b[0mself\u001b[0m\u001b[0;34m.\u001b[0m\u001b[0mcolumns\u001b[0m\u001b[0;34m.\u001b[0m\u001b[0mget_loc\u001b[0m\u001b[0;34m(\u001b[0m\u001b[0mkey\u001b[0m\u001b[0;34m)\u001b[0m\u001b[0;34m\u001b[0m\u001b[0;34m\u001b[0m\u001b[0m\n\u001b[0m\u001b[1;32m   2907\u001b[0m             \u001b[0;32mif\u001b[0m \u001b[0mis_integer\u001b[0m\u001b[0;34m(\u001b[0m\u001b[0mindexer\u001b[0m\u001b[0;34m)\u001b[0m\u001b[0;34m:\u001b[0m\u001b[0;34m\u001b[0m\u001b[0;34m\u001b[0m\u001b[0m\n\u001b[1;32m   2908\u001b[0m                 \u001b[0mindexer\u001b[0m \u001b[0;34m=\u001b[0m \u001b[0;34m[\u001b[0m\u001b[0mindexer\u001b[0m\u001b[0;34m]\u001b[0m\u001b[0;34m\u001b[0m\u001b[0;34m\u001b[0m\u001b[0m\n",
      "\u001b[0;32m~/opt/anaconda3/envs/learn-env/lib/python3.6/site-packages/pandas/core/indexes/range.py\u001b[0m in \u001b[0;36mget_loc\u001b[0;34m(self, key, method, tolerance)\u001b[0m\n\u001b[1;32m    356\u001b[0m                 \u001b[0;32mexcept\u001b[0m \u001b[0mValueError\u001b[0m \u001b[0;32mas\u001b[0m \u001b[0merr\u001b[0m\u001b[0;34m:\u001b[0m\u001b[0;34m\u001b[0m\u001b[0;34m\u001b[0m\u001b[0m\n\u001b[1;32m    357\u001b[0m                     \u001b[0;32mraise\u001b[0m \u001b[0mKeyError\u001b[0m\u001b[0;34m(\u001b[0m\u001b[0mkey\u001b[0m\u001b[0;34m)\u001b[0m \u001b[0;32mfrom\u001b[0m \u001b[0merr\u001b[0m\u001b[0;34m\u001b[0m\u001b[0;34m\u001b[0m\u001b[0m\n\u001b[0;32m--> 358\u001b[0;31m             \u001b[0;32mraise\u001b[0m \u001b[0mKeyError\u001b[0m\u001b[0;34m(\u001b[0m\u001b[0mkey\u001b[0m\u001b[0;34m)\u001b[0m\u001b[0;34m\u001b[0m\u001b[0;34m\u001b[0m\u001b[0m\n\u001b[0m\u001b[1;32m    359\u001b[0m         \u001b[0;32mreturn\u001b[0m \u001b[0msuper\u001b[0m\u001b[0;34m(\u001b[0m\u001b[0;34m)\u001b[0m\u001b[0;34m.\u001b[0m\u001b[0mget_loc\u001b[0m\u001b[0;34m(\u001b[0m\u001b[0mkey\u001b[0m\u001b[0;34m,\u001b[0m \u001b[0mmethod\u001b[0m\u001b[0;34m=\u001b[0m\u001b[0mmethod\u001b[0m\u001b[0;34m,\u001b[0m \u001b[0mtolerance\u001b[0m\u001b[0;34m=\u001b[0m\u001b[0mtolerance\u001b[0m\u001b[0;34m)\u001b[0m\u001b[0;34m\u001b[0m\u001b[0;34m\u001b[0m\u001b[0m\n\u001b[1;32m    360\u001b[0m \u001b[0;34m\u001b[0m\u001b[0m\n",
      "\u001b[0;31mKeyError\u001b[0m: 'zipcode'"
     ]
    }
   ],
   "source": [
    "current_zip = 11218\n",
    "zip_params= output_df[output_df['zipcode']==current_zip]\n",
    "zip_params.pdq.values[0]\n",
    "zip_params.seasonal_pdq.values[0]\n",
    "\n",
    "output_sarima = fit_ARIMA(zip_df[current_zip],order=zip_params.pdq.values[0], seasonal_order= zip_params.seasonal_pdq.values[0] )\n",
    "# Get dynamic predictions with confidence intervals as above \n",
    "\n",
    "pred = output_sarima.get_prediction(start=pd.to_datetime('2014-01-01'), dynamic=False)\n",
    "pred_conf = pred.conf_int()"
   ]
  },
  {
   "cell_type": "markdown",
   "metadata": {},
   "source": [
    "Plot of the real and forecasted values of the time series to assess how well model did.\n",
    "Also, plot of the confidence intervals overlapping the predicted values.\n",
    "The forecasts align with the true values and with an overall increase trend."
   ]
  },
  {
   "cell_type": "code",
   "execution_count": null,
   "metadata": {
    "colab": {
     "base_uri": "https://localhost:8080/",
     "height": 362
    },
    "id": "thNfaFgWIHXe",
    "outputId": "be2df033-e1b7-4069-b511-d60379983ab6"
   },
   "outputs": [],
   "source": [
    "plt.figure(figsize=(12,5))\n",
    "# Plot observed values\n",
    "ax = train_brk[11218]['1996':].plot(label='observed')\n",
    "test_brk[11218]['1996':].plot(label='Test')\n",
    "# Plot predicted values\n",
    "pred.predicted_mean.plot(ax=ax, label='One-step ahead Forecast', alpha=0.9)\n",
    "\n",
    "# Plot the range for confidence intervals\n",
    "ax.fill_between(pred_conf.index,\n",
    "                pred_conf.iloc[:, 0],\n",
    "                pred_conf.iloc[:, 1], color='g', alpha=0.5)\n",
    "\n",
    "# Set axes labels\n",
    "ax.set_xlabel('Date')\n",
    "ax.set_ylabel('Sale Price')\n",
    "plt.legend()\n",
    "#confidence interval"
   ]
  },
  {
   "cell_type": "code",
   "execution_count": null,
   "metadata": {
    "colab": {
     "base_uri": "https://localhost:8080/"
    },
    "id": "2iNxZriVIcKZ",
    "outputId": "168d9f27-20f7-4435-cabd-4181beaf1fd9"
   },
   "outputs": [],
   "source": [
    "\"\"\"\n",
    "check for the accuracy of the prediction using RMSE (Mean Squared Error). \n",
    "This will provide us with the average error of prediction\n",
    "\n",
    "Model was able to forecast the average daily real estate sales in the test set within 8,068.75 of the real sales. \n",
    "  sales range from around 1,003,700.00 to 2,,202,400.00.     \n",
    "\"\"\"\n",
    "# Get the real and predicted values\n",
    "forecasted_11238 = pred.predicted_mean\n",
    "truth_1128 =test_brk[11218]['1996':]\n",
    "\n",
    "# Compute the root mean square error\n",
    "mse = ((forecasted_11238 - truth_1128) ** 2).mean()\n",
    "print('The Mean Squared Error of our forecasts is {}'.format(round(mse, 2)))\n",
    "#np.sqrt(np.mean((predictions-targets)**2))\n",
    "rmse = np.sqrt(np.mean((forecasted_11238 - truth_1128) ** 2))\n",
    "print('The Root Mean Squared Error of our forecasts is {}'.format(round(rmse, 2)))"
   ]
  },
  {
   "cell_type": "code",
   "execution_count": null,
   "metadata": {
    "colab": {
     "base_uri": "https://localhost:8080/"
    },
    "id": "8dvZmONPccci",
    "outputId": "adeaf1d0-e6e4-4c55-c755-4a16440d04f6"
   },
   "outputs": [],
   "source": [
    "train_brk[zipcode].describe().round(3)"
   ]
  },
  {
   "cell_type": "code",
   "execution_count": null,
   "metadata": {
    "colab": {
     "base_uri": "https://localhost:8080/",
     "height": 80
    },
    "id": "Rx6SHrkYCdnK",
    "outputId": "d26d1c6c-1f45-4984-86b8-d442c28b75e6"
   },
   "outputs": [],
   "source": [
    "zip_params = output_df[output_df['zipcode']==11218]\n",
    "zip_params"
   ]
  },
  {
   "cell_type": "code",
   "execution_count": null,
   "metadata": {
    "colab": {
     "base_uri": "https://localhost:8080/"
    },
    "id": "r3WKFRaZDDEV",
    "outputId": "cf773d03-1922-4730-8a5d-75c8d60eacde"
   },
   "outputs": [],
   "source": [
    "zip_params['pdq']"
   ]
  },
  {
   "cell_type": "code",
   "execution_count": null,
   "metadata": {
    "colab": {
     "base_uri": "https://localhost:8080/"
    },
    "id": "jaoyOTzmDSQm",
    "outputId": "6336fa85-755a-4cef-8057-dfce065a10ee"
   },
   "outputs": [],
   "source": [
    "zip_params.pdq.values[0]"
   ]
  },
  {
   "cell_type": "code",
   "execution_count": null,
   "metadata": {
    "colab": {
     "base_uri": "https://localhost:8080/"
    },
    "id": "dAI_edeVDi8g",
    "outputId": "b510a441-f2c5-4252-8946-801da8b2f351"
   },
   "outputs": [],
   "source": [
    "zip_params.seasonal_pdq.values[0]"
   ]
  },
  {
   "cell_type": "markdown",
   "metadata": {},
   "source": [
    "We use information from the time series up to a certain point, \n",
    "  and after that, forecasts are generated using values from previous forecasted time points.\n",
    "\n",
    "Calculation for predictions post 2014."
   ]
  },
  {
   "cell_type": "code",
   "execution_count": null,
   "metadata": {
    "colab": {
     "base_uri": "https://localhost:8080/",
     "height": 1000
    },
    "id": "7V0OghhNIwdW",
    "outputId": "e8da78f8-0f54-4ebf-852b-d0f4c0f7bd93"
   },
   "outputs": [],
   "source": [
    "current_zip = 11218\n",
    "zip_params = output_df[output_df['zipcode']==current_zip]\n",
    "zip_params.pdq.values[0]\n",
    "zip_params.seasonal_pdq.values[0]\n",
    "\n",
    "output_sarima = fit_ARIMA(zip_df[current_zip],order=zip_params.pdq.values[0] ,seasonal_order= zip_params.seasonal_pdq.values[0] )\n",
    "# Get dynamic predictions with confidence intervals as above \n",
    "pred_dynamic = output_sarima.get_prediction(start=pd.to_datetime('2014-01-01'), dynamic=True,full_results=True)\n",
    "pred_dynamic_conf = pred_dynamic.conf_int()"
   ]
  },
  {
   "cell_type": "markdown",
   "metadata": {},
   "source": [
    "Plotting the observed and forecasted values of the time series, we see that the overall forecasts are accurate even when using dynamic forecasts. \n",
    "All forecasted values (yellow line) match pretty closely to the ground truth (blue line) and are well within the confidence intervals of our forecast."
   ]
  },
  {
   "cell_type": "code",
   "execution_count": null,
   "metadata": {
    "id": "QYGkYw8CNXp8"
   },
   "outputs": [],
   "source": [
    "\n",
    "def prediction_vis(pred_dynamic,pred_dynamic_conf, y):\n",
    "  # Plot the dynamic forecast with confidence intervals.\n",
    "  plt.figure(figsize=(12,5))\n",
    "  # Plot observed values\n",
    "  ax = y.plot(label='Observed')\n",
    "\n",
    "  # Plot predicted values\n",
    "  pred_dynamic.predicted_mean.plot(ax=ax, label='Dynamic Forecast', alpha=0.9)\n",
    "\n",
    "  # Plot the range for confidence intervals\n",
    "  ax.fill_between(pred_dynamic_conf.index,\n",
    "                  pred_dynamic_conf.iloc[:, 0],\n",
    "                  pred_dynamic_conf.iloc[:, 1], color='g', alpha=0.5)\n",
    "\n",
    "  # Set axes labels\n",
    "  ax.set_xlabel('Date')\n",
    "  ax.set_ylabel('Sale Price')\n",
    "  plt.legend()\n",
    "\n",
    "  return ax"
   ]
  },
  {
   "cell_type": "code",
   "execution_count": null,
   "metadata": {
    "colab": {
     "base_uri": "https://localhost:8080/",
     "height": 362
    },
    "id": "46DeuFE_OC4R",
    "outputId": "2fadcae1-4cc5-4c38-d1b6-d1b826979287"
   },
   "outputs": [],
   "source": [
    "prediction_visual = prediction_vis(pred_dynamic,pred_dynamic_conf,train_brk[current_zip])\n",
    "prediction_visual"
   ]
  },
  {
   "cell_type": "code",
   "execution_count": null,
   "metadata": {
    "colab": {
     "base_uri": "https://localhost:8080/"
    },
    "id": "nVyr6JPa1BHz",
    "outputId": "81164674-c2f6-4f20-f8c9-fcb9917ea27b"
   },
   "outputs": [],
   "source": [
    "# Get the real and predicted values\n",
    "forecast_11238 = pred_dynamic.predicted_mean\n",
    "truth_11238 = train_brk[current_zip]#['1996':]\n",
    "\n",
    "# Compute the mean square error\n",
    "mse = ((forecast_11238 - truth_11238) ** 2).mean()\n",
    "print('The Mean Squared Error of our forecasts is {}'.format(round(mse, 2)))\n",
    "#np.sqrt(np.mean((predictions-targets)**2))\n",
    "rmse = np.sqrt(np.mean((forecast_11238 - truth_11238) ** 2))\n",
    "print('The Root Mean Squared Error of our forecasts is {}'.format(round(rmse, 2)))"
   ]
  },
  {
   "cell_type": "markdown",
   "metadata": {
    "id": "3bPEYL5i3dBa"
   },
   "source": [
    "### **Return on Investment DataFrame**\n",
    "The method .get_forecast() computes the forecasted values for a specified number of steps ahead.<br>\n",
    "\n",
    "The method .conf_int() gets the confidence intervals of forecasts.<br>\n"
   ]
  },
  {
   "cell_type": "code",
   "execution_count": null,
   "metadata": {
    "id": "BayCQRuWawzp"
   },
   "outputs": [],
   "source": [
    "# Get forecast --- steps ahead in future\n",
    "prediction = output_sarima.get_forecast(steps=36, dynamic=True)\n",
    "prediction.predicted_mean\n",
    "\n",
    "# Get confidence intervals of forecasts\n",
    "predict_conf = prediction.conf_int()\n"
   ]
  },
  {
   "cell_type": "code",
   "execution_count": null,
   "metadata": {
    "id": "gJbRKj4aT2vW"
   },
   "outputs": [],
   "source": [
    "steps = 36\n",
    "# Get forecast --- steps ahead in future\n",
    "prediction_object = output_sarima.get_forecast(steps=steps, dynamic=True)"
   ]
  },
  {
   "cell_type": "code",
   "execution_count": null,
   "metadata": {
    "id": "Mddn9EwEFoq9"
   },
   "outputs": [],
   "source": [
    "def my_function(prediction_object, zip):\n",
    "  \"\"\"\n",
    "  function gets ROI for 1 zipcode \n",
    "  \"\"\"\n",
    "  df_Summary = pd.concat([pd.DataFrame({f'Predicted_Mean {zip}':prediction_object.predicted_mean}), prediction_object.conf_int()],axis = 1)\n",
    "  df_Summary\n",
    "  # my_sample = df_Summary.iloc[[0, -1]].round(3)\n",
    "  my_sample = df_Summary.iloc[[0, -1]].round(3) #1st and last\n",
    "\n",
    "  return my_sample  #df_Summary\n"
   ]
  },
  {
   "cell_type": "code",
   "execution_count": null,
   "metadata": {},
   "outputs": [],
   "source": [
    "my_output = my_function(prediction_object, zip='11218')\n",
    "my_output"
   ]
  },
  {
   "cell_type": "code",
   "execution_count": null,
   "metadata": {},
   "outputs": [],
   "source": [
    "\n",
    "def my_roi(cost, current):\n",
    "  \"\"\"  \n",
    "  function to calculate ROI \n",
    "  ROI= \n",
    "  Cost of Investment\n",
    "  Current Value of Investment−Cost of Investment\n",
    "  \"\"\"\n",
    "  return (current - cost) / cost\n"
   ]
  },
  {
   "cell_type": "code",
   "execution_count": null,
   "metadata": {},
   "outputs": [],
   "source": [
    "cost = my_output.iloc[0,0]\n",
    "current = my_output.iloc[-1,0]"
   ]
  },
  {
   "cell_type": "code",
   "execution_count": null,
   "metadata": {},
   "outputs": [],
   "source": [
    "\n",
    "current_lower = my_output.iloc[-1,1]\n",
    "current_upper = my_output.iloc[-1,2]"
   ]
  },
  {
   "cell_type": "code",
   "execution_count": null,
   "metadata": {},
   "outputs": [],
   "source": [
    "#upper lower end\n",
    "roi_dic = {}\n",
    "\n",
    "cost = my_output.iloc[0,0]\n",
    "current = my_output.iloc[-1,0]\n",
    "current_lower = my_output.iloc[-1,1]\n",
    "current_upper = my_output.iloc[-1,2]\n",
    "\n",
    "\n",
    "my_roi(cost, current)\n",
    "roi_dic['roi'] = my_roi(cost, current)\n",
    "roi_dic['roi_lower'] = my_roi(cost, current_lower)\n",
    "roi_dic['roi_upper'] = my_roi(cost, current_upper)\n",
    "\n",
    "roi_dic"
   ]
  },
  {
   "cell_type": "code",
   "execution_count": null,
   "metadata": {},
   "outputs": [],
   "source": [
    "my_output"
   ]
  },
  {
   "cell_type": "code",
   "execution_count": null,
   "metadata": {},
   "outputs": [],
   "source": [
    "zip_rois={}\n",
    "steps = 36\n",
    "\n",
    "#def zipcode_roi(output_df,):\n",
    "for zipcode in output_df['zipcode'].unique():\n",
    "  pdq = output_df.loc[ output_df['zipcode']==zipcode, 'pdq'].iloc[0] \n",
    "  seasonal = output_df.loc[ output_df['zipcode']==zipcode, 'seasonal_pdq'].iloc[0] \n",
    "  df_ts = zip_df[zipcode]\n",
    "\n",
    "\n",
    "  output_sarima = fit_ARIMA(df_ts, order=pdq, seasonal_order=seasonal)\n",
    "  prediction_object = output_sarima.get_forecast(steps=steps, dynamic=True)\n",
    "  my_output = my_function(prediction_object, zip=zipcode)\n",
    "  \n",
    "  roi_dic = {}\n",
    "\n",
    "  cost = my_output.iloc[0,0]\n",
    "  current = my_output.iloc[-1,0]\n",
    "  current_lower = my_output.iloc[-1,1]\n",
    "  current_upper = my_output.iloc[-1,2]\n",
    "\n",
    "  my_roi(cost, current)\n",
    "  roi_dic['roi'] = my_roi(cost, current)\n",
    "  roi_dic['roi_lower'] = my_roi(cost, current_lower)\n",
    "  roi_dic['roi_upper'] = my_roi(cost, current_upper)\n",
    "\n",
    "  zip_rois[zipcode] = pd.Series(roi_dic)\n",
    "ROI = pd.DataFrame(zip_rois)"
   ]
  },
  {
   "cell_type": "code",
   "execution_count": null,
   "metadata": {},
   "outputs": [],
   "source": [
    "roi_df = ROI.T \n",
    "roi_df.reset_index(inplace=True)\n",
    "roi_df.rename(columns={'index':'zipcode'}, inplace=True)\n",
    "roi_df.style.background_gradient()"
   ]
  },
  {
   "cell_type": "markdown",
   "metadata": {},
   "source": [
    "#### **ROI Chart**"
   ]
  },
  {
   "cell_type": "code",
   "execution_count": null,
   "metadata": {},
   "outputs": [],
   "source": [
    "roi_chart_1 = roi_df.sort_values(by=['roi'],ascending=False)\n",
    "#roi_chart_1 = roi_chart_1.round(3)\n",
    "roi_chart_1.style.background_gradient()"
   ]
  },
  {
   "cell_type": "markdown",
   "metadata": {
    "id": "zX67rcJn1RkE"
   },
   "source": [
    "## **Dynamic Forecasting**\n",
    "Forecasting begins 4-1-2018"
   ]
  },
  {
   "cell_type": "code",
   "execution_count": null,
   "metadata": {
    "id": "hwDI7SlCJDHn"
   },
   "outputs": [],
   "source": [
    "def forecast_function(output_df, current_zip=None,steps=None):\n",
    "  \n",
    "  # roi_t[roi_t[roi_t.name]== current_zip]\n",
    "  # print('\\n')\n",
    "  zip_params = output_df[output_df['zipcode']==current_zip]\n",
    "  zip_params.pdq.values[0]\n",
    "  zip_params.seasonal_pdq.values[0]\n",
    "\n",
    "  #steps = 36\n",
    "  output_sar = fit_ARIMA(zip_df[current_zip], order=zip_params.pdq.values[0], seasonal_order=zip_params.seasonal_pdq.values[0])\n",
    "  prediction = output_sar.get_forecast(steps=steps, dynamic=True)\n",
    "  prediction.predicted_mean\n",
    "\n",
    "  # Get confidence intervals of forecasts\n",
    "  predict_conf = prediction.conf_int()\n",
    "\n",
    "  return prediction, predict_conf, current_zip\n"
   ]
  },
  {
   "cell_type": "code",
   "execution_count": null,
   "metadata": {
    "id": "MI_nUjf6zcfK"
   },
   "outputs": [],
   "source": [
    "\n",
    "def forecast_visual(prediction,predict_conf, y, figsize=None):\n",
    "  \"\"\"\n",
    "  prediction-statsmodel object\n",
    "  predict_conf- pd Dataframe\n",
    "  \"\"\"\n",
    "  print(roi_df[roi_df['zipcode']== current_zip])\n",
    "  print('\\n')\n",
    "  # Plot future predictions with confidence intervals\n",
    "  fig,ax = plt.subplots(figsize=figsize)\n",
    "  ax = y.plot(label='Observed') #(10, 8))\n",
    "  prediction.predicted_mean.plot(ax=ax, label='Future Forecast')\n",
    "  ax.fill_between(predict_conf.index,\n",
    "                  predict_conf.iloc[:, 0],\n",
    "                  predict_conf.iloc[:, 1], color='k', alpha=0.25)\n",
    "  \n",
    "  ax.axvline(prediction.predicted_mean.index[12])\n",
    "\n",
    "  label_font = {'weight':'bold','size':18}\n",
    "  ax.set_xlabel('Date',fontdict=label_font)\n",
    "  ax.set_ylabel('Home Prices',fontdict=label_font)\n",
    "  ax.set_title(f'Price Forecast for Zipcode: {y.name} /{steps} Months ',fontdict=label_font)\n",
    "\n",
    "  ax.legend(loc=\"upper left\")\n",
    "\n",
    "  return ax"
   ]
  },
  {
   "cell_type": "markdown",
   "metadata": {
    "id": "mo571ImXNkJl"
   },
   "source": [
    "\n",
    "\n",
    "\n",
    "\n",
    "### **Zipcode: 11223**\n",
    "Zipcode 11226 ranks in 1st place for ROI.  The ROI will be 60% on average.<br>\n",
    "If an investment is made for a return on the lower end the return will be 5.27.<br> \n",
    "If a ninvestment is made for a return on the upper end the return will be 86.31.  This will take you into year 2021 and after.<br>\n",
    "Either way it's a good return on the investment."
   ]
  },
  {
   "cell_type": "code",
   "execution_count": null,
   "metadata": {
    "id": "RHe5na7NNYfJ"
   },
   "outputs": [],
   "source": [
    "#prediction, predict_conf, current_zip =  forecast_function(output_df, current_zip=11210, steps=36)\n",
    "#df_test['Btime'].iloc[0]\n",
    "prediction, predict_conf, current_zip =  forecast_function(output_df, current_zip=roi_chart_1['zipcode'].iloc[0], steps=36)"
   ]
  },
  {
   "cell_type": "code",
   "execution_count": null,
   "metadata": {
    "id": "UDHvVgDl4280"
   },
   "outputs": [],
   "source": [
    "test_brk[roi_chart_1['zipcode'].iloc[0]].plot()"
   ]
  },
  {
   "cell_type": "code",
   "execution_count": null,
   "metadata": {
    "id": "IENiexVWDV7n"
   },
   "outputs": [],
   "source": [
    "test_brk[roi_chart_1['zipcode'].iloc[0]].describe()"
   ]
  },
  {
   "cell_type": "code",
   "execution_count": null,
   "metadata": {
    "id": "kEYnbn5D1JVA"
   },
   "outputs": [],
   "source": [
    "forecast_visual_zip = forecast_visual(prediction,predict_conf,test_brk[roi_chart_1['zipcode'].iloc[0]], figsize=(12,8))\n",
    "forecast_visual_zip"
   ]
  },
  {
   "cell_type": "markdown",
   "metadata": {
    "id": "4vBDuU0xxm7L"
   },
   "source": [
    "### **Zipcode: 11210**"
   ]
  },
  {
   "cell_type": "code",
   "execution_count": null,
   "metadata": {
    "id": "WTrWMrB2PRMa"
   },
   "outputs": [],
   "source": [
    "prediction, predict_conf, current_zip =  forecast_function(output_df, current_zip=roi_chart_1['zipcode'].iloc[1],steps=36)"
   ]
  },
  {
   "cell_type": "code",
   "execution_count": null,
   "metadata": {
    "id": "cQiP3oLuepRY"
   },
   "outputs": [],
   "source": [
    "test_brk[11233].describe()"
   ]
  },
  {
   "cell_type": "code",
   "execution_count": null,
   "metadata": {
    "id": "K5Hix1fpGfLF"
   },
   "outputs": [],
   "source": [
    "test_brk[roi_chart_1['zipcode'].iloc[1]].plot()"
   ]
  },
  {
   "cell_type": "code",
   "execution_count": null,
   "metadata": {
    "id": "8XiBQRYRxwDh"
   },
   "outputs": [],
   "source": [
    "forecast_visual_zip = forecast_visual(prediction,predict_conf,test_brk[roi_chart_1['zipcode'].iloc[1]], figsize=(12,8))\n",
    "forecast_visual_zip"
   ]
  },
  {
   "cell_type": "markdown",
   "metadata": {
    "id": "UeHWN_hdWGzz"
   },
   "source": [
    "### **Zipcode: 11230**"
   ]
  },
  {
   "cell_type": "code",
   "execution_count": null,
   "metadata": {
    "id": "JVOo_NLvOgur"
   },
   "outputs": [],
   "source": [
    "prediction, predict_conf, current_zip =  forecast_function(output_df, current_zip=roi_chart_1['zipcode'].iloc[2],steps=36)"
   ]
  },
  {
   "cell_type": "code",
   "execution_count": null,
   "metadata": {
    "id": "2MQSYku1fCnt"
   },
   "outputs": [],
   "source": [
    "test_brk[roi_chart_1['zipcode'].iloc[2]].describe().round(3)"
   ]
  },
  {
   "cell_type": "code",
   "execution_count": null,
   "metadata": {
    "id": "3jnMlG4pSCwC"
   },
   "outputs": [],
   "source": [
    "test_brk[roi_chart_1['zipcode'].iloc[2]].plot()"
   ]
  },
  {
   "cell_type": "code",
   "execution_count": null,
   "metadata": {
    "id": "LFU_H54wzNjQ"
   },
   "outputs": [],
   "source": [
    "forecast_visual_zip = forecast_visual(prediction,predict_conf,test_brk[roi_chart_1['zipcode'].iloc[2]], figsize=(12,8))\n",
    "forecast_visual_zip"
   ]
  },
  {
   "cell_type": "markdown",
   "metadata": {
    "id": "DrTx3pQBSs6k"
   },
   "source": [
    "### **Zipcode: 11224**"
   ]
  },
  {
   "cell_type": "code",
   "execution_count": null,
   "metadata": {
    "id": "lwXaHQI8Shx1"
   },
   "outputs": [],
   "source": [
    "prediction, predict_conf, current_zip =  forecast_function(output_df, current_zip=roi_chart_1['zipcode'].iloc[3],steps=36)"
   ]
  },
  {
   "cell_type": "code",
   "execution_count": null,
   "metadata": {
    "id": "hf8IYy0bfWOO"
   },
   "outputs": [],
   "source": [
    "test_brk[11230].describe().round(3)"
   ]
  },
  {
   "cell_type": "code",
   "execution_count": null,
   "metadata": {
    "id": "PLoTjN18TMbH"
   },
   "outputs": [],
   "source": [
    "test_brk[roi_chart_1['zipcode'].iloc[3]].plot()"
   ]
  },
  {
   "cell_type": "code",
   "execution_count": null,
   "metadata": {
    "id": "3MEd2AyGSiMK"
   },
   "outputs": [],
   "source": [
    "forecast_visual_zip = forecast_visual(prediction,predict_conf,test_brk[roi_chart_1['zipcode'].iloc[3]], figsize=(12,8))\n",
    "forecast_visual_zip"
   ]
  },
  {
   "cell_type": "markdown",
   "metadata": {
    "id": "prGAdm_JUMxT"
   },
   "source": [
    "### **Zipcode: 11233**"
   ]
  },
  {
   "cell_type": "code",
   "execution_count": null,
   "metadata": {
    "id": "Q-f6sZyHShhC"
   },
   "outputs": [],
   "source": [
    "prediction, predict_conf, current_zip =  forecast_function(output_df, current_zip=roi_chart_1['zipcode'].iloc[4],steps=36)"
   ]
  },
  {
   "cell_type": "code",
   "execution_count": null,
   "metadata": {
    "id": "rwefTf3VfmJR"
   },
   "outputs": [],
   "source": [
    "test_brk[roi_chart_1['zipcode'].iloc[4]].describe().round(3)"
   ]
  },
  {
   "cell_type": "code",
   "execution_count": null,
   "metadata": {
    "id": "wZJNOGZjUGGv"
   },
   "outputs": [],
   "source": [
    "test_brk[roi_chart_1['zipcode'].iloc[4]].plot()"
   ]
  },
  {
   "cell_type": "code",
   "execution_count": null,
   "metadata": {
    "id": "cK924y5iUFto"
   },
   "outputs": [],
   "source": [
    "\n",
    "forecast_visual_zip = forecast_visual(prediction,predict_conf,test_brk[roi_chart_1['zipcode'].iloc[4]], figsize=(12,8))\n",
    "forecast_visual_zip"
   ]
  },
  {
   "cell_type": "markdown",
   "metadata": {
    "id": "nK-iG68vnSYF"
   },
   "source": [
    "## ***Stationarity***"
   ]
  },
  {
   "cell_type": "markdown",
   "metadata": {
    "id": "1_eC0LxVbiVW"
   },
   "source": [
    "### **Zipcode: 11226**"
   ]
  },
  {
   "cell_type": "code",
   "execution_count": null,
   "metadata": {
    "id": "kiyoxXRrbiVa"
   },
   "outputs": [],
   "source": [
    "zip_df[11226].plot()"
   ]
  },
  {
   "cell_type": "code",
   "execution_count": null,
   "metadata": {
    "id": "Vs5jehRibiVc"
   },
   "outputs": [],
   "source": [
    "def test_stationarity_1(timeseries, window):\n",
    "    \n",
    "    #Defining rolling statistics\n",
    "    rolmean = timeseries.rolling(window=window).mean()\n",
    "    rolstd = timeseries.rolling(window=window).std()\n",
    "\n",
    "    #Plot rolling statistics:\n",
    "    fig = plt.figure(figsize=(12, 8))\n",
    "    orig = plt.plot(timeseries.iloc[window:], color='blue',label='Original')\n",
    "    mean = plt.plot(rolmean, color='red', label='Rolling Mean')\n",
    "    std = plt.plot(rolstd, color='black', label = 'Rolling Std')\n",
    "    plt.legend(loc='upper left')\n",
    "    plt.title('Rolling Mean & Standard Deviation')\n",
    "    plt.legend(bbox_to_anchor=(1.05,1),loc='upper left')\n",
    "    plt.show()\n",
    "    "
   ]
  },
  {
   "cell_type": "code",
   "execution_count": null,
   "metadata": {
    "id": "13wkO7v8biVl"
   },
   "outputs": [],
   "source": [
    "#Not mine\n",
    "\n",
    "def dickey_fuller_test_ind_zip(zip_code):\n",
    "    dftest = adfuller(zip_code)\n",
    "\n",
    "    # Extract and display test results in a user friendly manner\n",
    "    dfoutput = pd.Series(dftest[0:4], index=['Test Statistic','p-value','#Lags Used','Number of Observations Used'])\n",
    "    for key,value in dftest[4].items():\n",
    "        dfoutput['Critical Value (%s)'%key] = value\n",
    "    print(dftest)\n",
    "\n",
    "    print ('Results of Dickey-Fuller Test:')\n",
    "\n",
    "    return dfoutput"
   ]
  },
  {
   "cell_type": "code",
   "execution_count": null,
   "metadata": {
    "id": "qyVRzPIeDZ1g"
   },
   "outputs": [],
   "source": [
    "new_dic = {}\n",
    "for col in zip_df.columns:\n",
    "  zip_test = dickey_fuller_test_ind_zip(zip_df[col])\n",
    "  new_dic[col] = zip_test"
   ]
  },
  {
   "cell_type": "code",
   "execution_count": null,
   "metadata": {
    "id": "hBFqk98vDwwJ"
   },
   "outputs": [],
   "source": [
    "new_dic[11226]"
   ]
  },
  {
   "cell_type": "code",
   "execution_count": null,
   "metadata": {
    "id": "ziJemkmLbiVo"
   },
   "outputs": [],
   "source": [
    "\n",
    "def dickey_fuller_test_zipcodes(df):\n",
    "    for col in df.columns:\n",
    "        dftest = adfuller(df[col])\n",
    "        dfoutput = pd.Series(dftest[0:4], index=['Test Statistic','p-value','#Lags Used','Number of Observations Used'])\n",
    "        for key,value in dftest[4].items():\n",
    "            dfoutput['Critical Value (%s)'%key] = value\n",
    "        print ('Results of Dickey-Fuller Test:')\n",
    "        \n",
    "        print(dfoutput) \n",
    "        #print(dftest)\n",
    "        print ('\\n')         "
   ]
  },
  {
   "cell_type": "code",
   "execution_count": null,
   "metadata": {
    "id": "Qz6HY0rlbiVr"
   },
   "outputs": [],
   "source": [
    "dickey_fuller_test_zipcodes(zip_df)"
   ]
  },
  {
   "cell_type": "code",
   "execution_count": null,
   "metadata": {
    "id": "lB0sVoPSbiVw"
   },
   "outputs": [],
   "source": [
    "X_1 = zip_df.copy()"
   ]
  },
  {
   "cell_type": "code",
   "execution_count": null,
   "metadata": {
    "id": "ABPM-PSLbiWW"
   },
   "outputs": [],
   "source": [
    "def stationary_test(df):\n",
    "    rolling_mean = df.rolling(window=12).mean()\n",
    "    rolling_std = df.rolling(window=12).std()\n",
    "\n",
    "    plt.plot(df,color='blue',label='orignal')\n",
    "    plt.plot(rolling_mean, color='red',label='Rolling Mean')\n",
    "    plt.plot(rolling_std, color='green',label='Rolling STD')\n",
    "    plt.legend(loc='best')\n",
    "    plt.title('Rolling Mean and Rolling Standard Deviation')\n",
    "    #plt.show()\n",
    "    result = adfuller(df)\n",
    "    print('ADF statistic: {}'.format(result[0]))\n",
    "    print('p-value: {}'.format(result[1]))\n",
    "    print('Critical Values:')\n",
    "    for key, value in result[4].items():\n",
    "        print('\\t{} : {}'.format(key,value))\n",
    "        \n",
    "    names = ['Test Statistic','p-value','#Lags Used','# of Observations Used']\n",
    "    res  = dict(zip(names,result[:4]))\n",
    "    res['Stationary Results'] = res['p-value']<.05\n",
    "    \n",
    "    return pd.DataFrame(res,index=['AD Fuller Results'])    "
   ]
  },
  {
   "cell_type": "code",
   "execution_count": null,
   "metadata": {
    "id": "HqQ1UejybiWg"
   },
   "outputs": [],
   "source": [
    "stationary_test(zip_df[11226])"
   ]
  },
  {
   "cell_type": "markdown",
   "metadata": {
    "id": "nfGy_tMXbiWl"
   },
   "source": [
    "###  Zipcode:  11238"
   ]
  },
  {
   "cell_type": "code",
   "execution_count": null,
   "metadata": {
    "id": "H5_2LrbTbiWl"
   },
   "outputs": [],
   "source": [
    "#brooklyn_zips[11226]"
   ]
  },
  {
   "cell_type": "code",
   "execution_count": null,
   "metadata": {
    "id": "o1-rQeYebiWn"
   },
   "outputs": [],
   "source": [
    "#stationary_test(zip_df[11238])"
   ]
  },
  {
   "cell_type": "markdown",
   "metadata": {
    "id": "mEBu8mMMbiWr"
   },
   "source": [
    "### Zipcode:  11215"
   ]
  },
  {
   "cell_type": "code",
   "execution_count": null,
   "metadata": {
    "id": "RqmZzL9EbiWs"
   },
   "outputs": [],
   "source": [
    "stationary_test(zip_df[11226])"
   ]
  },
  {
   "cell_type": "markdown",
   "metadata": {
    "id": "lPfZPRqKbiWu"
   },
   "source": [
    "### Removing Trend\n",
    "#### Log-Transformation (np.log)"
   ]
  },
  {
   "cell_type": "code",
   "execution_count": null,
   "metadata": {
    "id": "zmRJNworbiWv"
   },
   "outputs": [],
   "source": [
    "## Log Transform\n",
    "ts3 = np.log(zip_df[11226])\n",
    "#ts3.plot()\n",
    "stationary_test(ts3)"
   ]
  },
  {
   "cell_type": "markdown",
   "metadata": {
    "id": "GNhy76XObiWz"
   },
   "source": [
    "#### Differencing"
   ]
  },
  {
   "cell_type": "code",
   "execution_count": null,
   "metadata": {
    "id": "tW2BO9YabiW0"
   },
   "outputs": [],
   "source": [
    "\"\"\"\n",
    "#subtracts the ts 1 step forward from itself. Good way of eliminting trend\n",
    "\n",
    "#below ts centered around 0\n",
    "#we achieved stationarity\n",
    "#eliminating day-to-day patterns\n",
    "\"\"\"\n",
    "ts0 = zip_df[11226].diff().dropna()\n",
    "#ts0.plot()\n",
    "\n",
    "stationary_test(ts0)"
   ]
  },
  {
   "cell_type": "markdown",
   "metadata": {
    "id": "997jzmLvbiW4"
   },
   "source": [
    "#### Subtract Rolling Mean "
   ]
  },
  {
   "cell_type": "code",
   "execution_count": null,
   "metadata": {
    "id": "SRxKzj3HbiW4"
   },
   "outputs": [],
   "source": [
    "## Subtract Rolling mean\n",
    "ts2 = (zip_df[11226] - zip_df[11226].rolling(3).mean()).dropna()\n",
    "#ts2.plot()\n",
    "stationary_test(ts2)"
   ]
  },
  {
   "cell_type": "markdown",
   "metadata": {
    "id": "exZwBt4pbiW7"
   },
   "source": [
    "#### Subtract Exponentially-Weighted Mean "
   ]
  },
  {
   "cell_type": "code",
   "execution_count": null,
   "metadata": {
    "id": "tmUDhjm9biW8"
   },
   "outputs": [],
   "source": [
    "## Subtract Exponentially Weight Mean Rolling mean\n",
    "ts4 = (zip_df[11226] - zip_df[11226].ewm(halflife=7).mean()).dropna()\n",
    "#ts4.plot()\n",
    "stationary_test(ts4)"
   ]
  },
  {
   "cell_type": "markdown",
   "metadata": {
    "id": "aCZ_c82dbiW_"
   },
   "source": [
    "#### Seasonal Decomposition "
   ]
  },
  {
   "cell_type": "code",
   "execution_count": null,
   "metadata": {
    "id": "leunRXJLbiW_"
   },
   "outputs": [],
   "source": [
    "from statsmodels.tsa.seasonal import seasonal_decompose\n",
    "decomp = seasonal_decompose(zip_df[11226])#,model='mul')\n",
    "decomp.plot();"
   ]
  },
  {
   "cell_type": "code",
   "execution_count": null,
   "metadata": {
    "id": "gkHCCnT2biXB"
   },
   "outputs": [],
   "source": [
    "## Get ADFuller Results for seasonal component\n",
    "stationary_test(decomp.seasonal)"
   ]
  },
  {
   "cell_type": "code",
   "execution_count": null,
   "metadata": {
    "id": "dZXqBfP1biXD"
   },
   "outputs": [],
   "source": [
    "## Get ADFuller Results for trend component\n",
    "stationary_test(decomp.trend.dropna())"
   ]
  },
  {
   "cell_type": "code",
   "execution_count": null,
   "metadata": {
    "id": "eMm09mYMbiXF"
   },
   "outputs": [],
   "source": [
    "## Get ADFuller Results for resid component\n",
    "stationary_test(decomp.resid.dropna())"
   ]
  },
  {
   "cell_type": "code",
   "execution_count": null,
   "metadata": {
    "id": "pCKduOGAbiXG"
   },
   "outputs": [],
   "source": [
    "decomp.resid.dropna()"
   ]
  },
  {
   "cell_type": "markdown",
   "metadata": {
    "id": "5z_0dUz3pHix"
   },
   "source": [
    "## **RNN**"
   ]
  },
  {
   "cell_type": "code",
   "execution_count": null,
   "metadata": {
    "id": "UcgF16-aC9HY"
   },
   "outputs": [],
   "source": [
    "df_rnn = zip_df[[11238]]"
   ]
  },
  {
   "cell_type": "code",
   "execution_count": null,
   "metadata": {
    "id": "EuApwYLOpNYi"
   },
   "outputs": [],
   "source": [
    "df_rnn.head()"
   ]
  },
  {
   "cell_type": "code",
   "execution_count": null,
   "metadata": {
    "id": "RldYgVvKpb2U"
   },
   "outputs": [],
   "source": [
    "df_rnn.plot()"
   ]
  },
  {
   "cell_type": "code",
   "execution_count": null,
   "metadata": {
    "id": "UICQH8rFpg_7"
   },
   "outputs": [],
   "source": [
    "len(df_rnn)"
   ]
  },
  {
   "cell_type": "code",
   "execution_count": null,
   "metadata": {
    "id": "k53J6wRSprSk"
   },
   "outputs": [],
   "source": [
    "265-12"
   ]
  },
  {
   "cell_type": "code",
   "execution_count": null,
   "metadata": {
    "id": "OzY_swDSpv9p"
   },
   "outputs": [],
   "source": [
    "\"\"\"\n",
    "x_train= x_train.reshape(-1, 1)\n",
    "y_train= y_train.reshape(-1, 1)\n",
    "x_test = x_test.reshape(-1, 1)\n",
    "\"\"\"\n",
    "train = df_rnn.iloc[:253]\n",
    "test = df_rnn.iloc[253:]\n",
    "#test = test.reshape(1, -1)\n",
    "#train= train.reshape(-1, 1)"
   ]
  },
  {
   "cell_type": "code",
   "execution_count": null,
   "metadata": {
    "id": "s-KkKABmsVwp"
   },
   "outputs": [],
   "source": [
    "test"
   ]
  },
  {
   "cell_type": "code",
   "execution_count": null,
   "metadata": {
    "id": "CdJPVZ5lp9Vk"
   },
   "outputs": [],
   "source": [
    "len(test)"
   ]
  },
  {
   "cell_type": "code",
   "execution_count": null,
   "metadata": {
    "id": "M6PLWCIvrYe5"
   },
   "outputs": [],
   "source": [
    "train.shape"
   ]
  },
  {
   "cell_type": "code",
   "execution_count": null,
   "metadata": {
    "id": "qOZKOfn3p_hb"
   },
   "outputs": [],
   "source": [
    "from sklearn.preprocessing import MinMaxScaler"
   ]
  },
  {
   "cell_type": "code",
   "execution_count": null,
   "metadata": {
    "id": "EY9a7CYLqK5v"
   },
   "outputs": [],
   "source": [
    "scaler = MinMaxScaler()\n",
    "scaler.fit(train)\n",
    "scaled_train = scaler.transform(train)\n",
    "scaled_test = scaler.transform(test)"
   ]
  },
  {
   "cell_type": "code",
   "execution_count": null,
   "metadata": {
    "id": "lVTsgQRqqN9E"
   },
   "outputs": [],
   "source": [
    "scaled_train"
   ]
  },
  {
   "cell_type": "code",
   "execution_count": null,
   "metadata": {
    "id": "1BqiRwzBtsyv"
   },
   "outputs": [],
   "source": [
    "from keras.preprocessing.sequence import TimeseriesGenerator"
   ]
  },
  {
   "cell_type": "code",
   "execution_count": null,
   "metadata": {
    "id": "lSgXoTnHtfv5"
   },
   "outputs": [],
   "source": [
    "n_input = 2\n",
    "n_features = 1 #smaller batch sizes lead to better training\n",
    "\n",
    "generator = TimeseriesGenerator(scaled_train, scaled_train, length=n_input, batch_size=1)"
   ]
  },
  {
   "cell_type": "code",
   "execution_count": null,
   "metadata": {
    "id": "XPb4lO6muERC"
   },
   "outputs": [],
   "source": [
    "scaled_train[:5]"
   ]
  },
  {
   "cell_type": "code",
   "execution_count": null,
   "metadata": {
    "id": "Rld4djT0uLxl"
   },
   "outputs": [],
   "source": [
    "len(scaled_train)"
   ]
  },
  {
   "cell_type": "code",
   "execution_count": null,
   "metadata": {
    "id": "CflS6hSStmxx"
   },
   "outputs": [],
   "source": [
    "\"\"\"\n",
    "\n",
    "253 - n_input(2)\n",
    "\n",
    "\"\"\"\n",
    "len(generator)"
   ]
  },
  {
   "cell_type": "code",
   "execution_count": null,
   "metadata": {
    "id": "ybi9O1Set5KZ"
   },
   "outputs": [],
   "source": [
    "#create model and fit it to the generator object\n",
    "from keras.models import Sequential\n",
    "from keras.layers import Dense  #for final output later\n",
    "from keras.layers import LSTM #long short term memory"
   ]
  },
  {
   "cell_type": "code",
   "execution_count": null,
   "metadata": {
    "id": "ctvwCzruugGf"
   },
   "outputs": [],
   "source": [
    "n_input = 12 #look at full year of data or 12 months before predicting 13th month\n",
    "n_features = 1 #smaller batch sizes lead to better training\n",
    "               #how many columns you have. WE have 1 column which is time stamp for y\n",
    "\n",
    "train_generator = TimeseriesGenerator(scaled_train, scaled_train, length=n_input, batch_size=1)"
   ]
  },
  {
   "cell_type": "code",
   "execution_count": null,
   "metadata": {
    "id": "RDdsdHC9ujNE"
   },
   "outputs": [],
   "source": [
    "model = Sequential()\n",
    "\n",
    "model.add(LSTM(150, activation='relu', input_shape=(n_input, n_features)))\n",
    "#need to aggregate all the neurons to sngle prediciton\n",
    "model.add(Dense(1)) #added single dense neuron which will directly output our prediction\n",
    "model.compile(optimizer='adam', loss='mse')"
   ]
  },
  {
   "cell_type": "code",
   "execution_count": null,
   "metadata": {
    "id": "_aOIy_gJumuu"
   },
   "outputs": [],
   "source": [
    "\"\"\"\n",
    "may want to play around w/number of neurons on LSTM layer\n",
    "\"\"\"\n",
    "model.summary()"
   ]
  },
  {
   "cell_type": "code",
   "execution_count": null,
   "metadata": {
    "id": "6uCWYAW-up-U"
   },
   "outputs": [],
   "source": [
    "\"\"\"\n",
    "fit tou our training generator\n",
    "more epochs you use hte longer it's going to take to train\n",
    "1 epoch is a single entire run through of training data\n",
    "\n",
    "We get significant reduciton over 1st couple of epochs then around 15 start seeing convergence\n",
    "\n",
    "\"\"\"\n",
    "model.fit_generator(train_generator, epochs=25)"
   ]
  },
  {
   "cell_type": "code",
   "execution_count": null,
   "metadata": {
    "id": "LMNR-bBZuuHw"
   },
   "outputs": [],
   "source": [
    "model.history.history.keys()"
   ]
  },
  {
   "cell_type": "code",
   "execution_count": null,
   "metadata": {
    "id": "15Sj6zlbu86t"
   },
   "outputs": [],
   "source": [
    "plt.plot(range(len(model.history.history['loss'])),model.history.history['loss']);"
   ]
  },
  {
   "cell_type": "code",
   "execution_count": null,
   "metadata": {
    "id": "W-xSv_-UvGe6"
   },
   "outputs": [],
   "source": [
    "\"\"\"\n",
    "evalute on the test data\n",
    "create an evlauation batch\n",
    "our network trains 1 step ahead\n",
    "\n",
    "our network is 12 network steps \n",
    "    then predict step 13\n",
    "    \n",
    "need last 12 points of training data inorder to predict pt. 1 of test data \n",
    "\n",
    "these are last 12 points of training set\n",
    "\"\"\"\n",
    "first_eval_batch = scaled_train[-12:]\n",
    "first_eval_batch"
   ]
  },
  {
   "cell_type": "code",
   "execution_count": null,
   "metadata": {
    "id": "vgCzkxazvHPl"
   },
   "outputs": [],
   "source": [
    "\"\"\"\n",
    "it now has 3 brackets at the top\n",
    "\"\"\"\n",
    "first_eval_batch = first_eval_batch.reshape((1,n_input,n_features))\n",
    "first_eval_batch"
   ]
  },
  {
   "cell_type": "code",
   "execution_count": null,
   "metadata": {
    "id": "88VY8RZGvLFj"
   },
   "outputs": [],
   "source": [
    "\"\"\"\n",
    "call model on first_eval_batch\n",
    "gives array prediciton\n",
    "means given these 12 points of training data it predicts taht below should be 1st point of test data set\n",
    "\"\"\"\n",
    "model.predict(first_eval_batch)"
   ]
  },
  {
   "cell_type": "code",
   "execution_count": null,
   "metadata": {
    "id": "ULYw3tlmvOZl"
   },
   "outputs": [],
   "source": [
    "scaled_test"
   ]
  },
  {
   "cell_type": "code",
   "execution_count": null,
   "metadata": {
    "id": "aDye7VyzvdkR"
   },
   "outputs": [],
   "source": [
    "\"\"\"\n",
    "not just predict 1st point in test set but the entire test set\n",
    "how to forecast into the future\n",
    "Forecast using RNN model\n",
    "\"\"\"\n",
    "#hold predicitons\n",
    "test_predictions = []\n",
    "#last n_input points from training set\n",
    "first_eval_batch = scaled_train[-n_input:] \n",
    "#reshape to format of RNN wants, (same format as Timeseriesgenerator \n",
    "current_batch = first_eval_batch.reshape((1,n_input,n_features))\n",
    "\n",
    "#hoe far into the futrue will I forecast: length of test set\n",
    "for i in range(len(test)):\n",
    "    #1time step ahead of historical 12 points\n",
    "    current_pred = model.predict(current_batch)[0] #0 is for formatting \n",
    "    test_predictions.append(current_pred)\n",
    "    \n",
    "    #update current batch to include prediciton\n",
    "    current_batch = np.append(current_batch[:,1:,:],[[current_pred]],axis=1)"
   ]
  },
  {
   "cell_type": "code",
   "execution_count": null,
   "metadata": {
    "id": "rUu1zNLavhjj"
   },
   "outputs": [],
   "source": [
    "test_predictions"
   ]
  },
  {
   "cell_type": "code",
   "execution_count": null,
   "metadata": {
    "id": "XYFfcaWUvlAB"
   },
   "outputs": [],
   "source": [
    "true_predictions = scaler.inverse_transform(test_predictions)\n",
    "true_predictions"
   ]
  },
  {
   "cell_type": "code",
   "execution_count": null,
   "metadata": {
    "id": "jmXWtLZJvnp3"
   },
   "outputs": [],
   "source": [
    "test['Predictions'] = true_predictions"
   ]
  },
  {
   "cell_type": "code",
   "execution_count": null,
   "metadata": {
    "id": "pZDdkE08vrEV"
   },
   "outputs": [],
   "source": [
    "test"
   ]
  },
  {
   "cell_type": "markdown",
   "metadata": {
    "id": "l01ERN_JJM48"
   },
   "source": [
    "### **RNN Plot / Sales v Predicted Values**"
   ]
  },
  {
   "cell_type": "code",
   "execution_count": null,
   "metadata": {
    "id": "vZrCDEbsvr-G"
   },
   "outputs": [],
   "source": [
    "\"\"\"\n",
    "sales v predicted values\n",
    "\"\"\"\n",
    "test.plot(figsize=(12,5));"
   ]
  },
  {
   "cell_type": "markdown",
   "metadata": {
    "id": "qYpolS-z3v7q"
   },
   "source": [
    "### **Recommendations**\n",
    "Below are the Brooklyn zipcodes with the predicted Top 5 ROIs which I would recommend investing in:<br>\n",
    "11223  (63%)<br>\n",
    "11210  (59%)<br>\n",
    "11230  (46%)<br>\n",
    "11224  (45%)<br>\n",
    "11233  (42%)<br>"
   ]
  },
  {
   "cell_type": "code",
   "execution_count": null,
   "metadata": {},
   "outputs": [],
   "source": []
  }
 ],
 "metadata": {
  "accelerator": "GPU",
  "colab": {
   "collapsed_sections": [],
   "name": "ts_model_notebook-12-17-20.ipynb",
   "provenance": [],
   "toc_visible": true
  },
  "kernelspec": {
   "display_name": "Python [conda env:learn-env] *",
   "language": "python",
   "name": "conda-env-learn-env-py"
  },
  "language_info": {
   "codemirror_mode": {
    "name": "ipython",
    "version": 3
   },
   "file_extension": ".py",
   "mimetype": "text/x-python",
   "name": "python",
   "nbconvert_exporter": "python",
   "pygments_lexer": "ipython3",
   "version": "3.6.9"
  },
  "toc": {
   "base_numbering": 1,
   "nav_menu": {},
   "number_sections": true,
   "sideBar": true,
   "skip_h1_title": false,
   "title_cell": "Table of Contents",
   "title_sidebar": "Contents",
   "toc_cell": false,
   "toc_position": {},
   "toc_section_display": true,
   "toc_window_display": true
  }
 },
 "nbformat": 4,
 "nbformat_minor": 1
}
