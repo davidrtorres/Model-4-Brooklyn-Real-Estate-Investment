{
  "nbformat": 4,
  "nbformat_minor": 0,
  "metadata": {
    "kernelspec": {
      "display_name": "Python [conda env:learn-env] *",
      "language": "python",
      "name": "conda-env-learn-env-py"
    },
    "language_info": {
      "codemirror_mode": {
        "name": "ipython",
        "version": 3
      },
      "file_extension": ".py",
      "mimetype": "text/x-python",
      "name": "python",
      "nbconvert_exporter": "python",
      "pygments_lexer": "ipython3",
      "version": "3.6.9"
    },
    "toc": {
      "base_numbering": 1,
      "nav_menu": {},
      "number_sections": true,
      "sideBar": true,
      "skip_h1_title": false,
      "title_cell": "Table of Contents",
      "title_sidebar": "Contents",
      "toc_cell": false,
      "toc_position": {},
      "toc_section_display": true,
      "toc_window_display": false
    },
    "colab": {
      "name": "nlp_model_4-Copy1.ipynb",
      "provenance": [],
      "collapsed_sections": [
        "5ISOTLJXRDTs"
      ],
      "include_colab_link": true
    }
  },
  "cells": [
    {
      "cell_type": "markdown",
      "metadata": {
        "id": "view-in-github",
        "colab_type": "text"
      },
      "source": [
        "<a href=\"https://colab.research.google.com/github/davidrtorres/dsc-mod-4-project-v2-1-onl01-dtsc-pt-041320/blob/master/nlp_model_4_Copy1.ipynb\" target=\"_parent\"><img src=\"https://colab.research.google.com/assets/colab-badge.svg\" alt=\"Open In Colab\"/></a>"
      ]
    },
    {
      "cell_type": "code",
      "metadata": {
        "id": "ZSx1ZY2WQWak",
        "outputId": "bc0fd59b-02bf-4ef0-98a1-0fd40d7bf329",
        "colab": {
          "base_uri": "https://localhost:8080/"
        }
      },
      "source": [
        "print('This is edited in Colab!!!')"
      ],
      "execution_count": 1096,
      "outputs": [
        {
          "output_type": "stream",
          "text": [
            "This is edited in Colab!!!\n"
          ],
          "name": "stdout"
        }
      ]
    },
    {
      "cell_type": "code",
      "metadata": {
        "id": "0xw-TiA6RDPD"
      },
      "source": [
        "import pandas as pd\n",
        "import numpy as np\n",
        "import matplotlib.pyplot as plt\n",
        "%matplotlib  inline\n",
        "import io"
      ],
      "execution_count": 1097,
      "outputs": []
    },
    {
      "cell_type": "code",
      "metadata": {
        "id": "-7Y5xYpVMg6r"
      },
      "source": [
        "# from google.colab import drive\n",
        "# drive.mount(\"/content/gdrive\")"
      ],
      "execution_count": 1098,
      "outputs": []
    },
    {
      "cell_type": "code",
      "metadata": {
        "id": "vloOACTgy5yJ"
      },
      "source": [
        "# from google.colab import files\n",
        "# uploaded = files.upload()"
      ],
      "execution_count": 1099,
      "outputs": []
    },
    {
      "cell_type": "code",
      "metadata": {
        "id": "KZv4-1WOL9Qp"
      },
      "source": [
        "# Import PyDrive and associated libraries.\n",
        "# This only needs to be done once in a notebook.\n",
        "from pydrive.auth import GoogleAuth\n",
        "from pydrive.drive import GoogleDrive\n",
        "from google.colab import auth\n",
        "from oauth2client.client import GoogleCredentials\n",
        "\n",
        "# Authenticate and create the PyDrive client.\n",
        "# This only needs to be done once in a notebook.\n",
        "# auth.authenticate_user()\n",
        "# gauth = GoogleAuth()\n",
        "# gauth.credentials = GoogleCredentials.get_application_default()\n",
        "# drive = GoogleDrive(gauth)\n",
        "\n",
        "# # Create & upload a text file.\n",
        "# uploaded = drive.CreateFile({'title': 'Sample file.txt'})\n",
        "# uploaded.SetContentString('Sample upload file content')\n",
        "# uploaded.Upload()\n",
        "# print('Uploaded file with ID {}'.format(uploaded.get('id')))"
      ],
      "execution_count": 1100,
      "outputs": []
    },
    {
      "cell_type": "code",
      "metadata": {
        "id": "kOMjJSEb7I2A",
        "outputId": "622dfc99-3931-4b24-92b0-3a3ac2ca2645",
        "colab": {
          "base_uri": "https://localhost:8080/"
        }
      },
      "source": [
        "from google.colab import drive\n",
        "drive.mount('/content/gdrive')"
      ],
      "execution_count": 1101,
      "outputs": [
        {
          "output_type": "stream",
          "text": [
            "Drive already mounted at /content/gdrive; to attempt to forcibly remount, call drive.mount(\"/content/gdrive\", force_remount=True).\n"
          ],
          "name": "stdout"
        }
      ]
    },
    {
      "cell_type": "code",
      "metadata": {
        "id": "K95cVqFFRDPK"
      },
      "source": [
        "\"\"\"\n",
        " analyze Twitter sentiment about Apple and Google products. The dataset comes from CrowdFlower via data.world. \n",
        "     Human raters rated the sentiment in over 9,000 Tweets as positive, negative, or neither.\n",
        "\n",
        "Your task is to:\n",
        "\n",
        "Build a model that can rate the sentiment of a Tweet based on its content.\n",
        "\n",
        "Aim for a Proof of Concept\n",
        "There are many approaches to NLP problems - start with something simple and iterate from there. \n",
        "For example, you could start by limiting your analysis to positive and negative Tweets only, allowing you to build a binary classifier. \n",
        "Then you could add in the neutral Tweets to build out a multiclass classifier. \n",
        "You may also consider using some of the more advanced NLP methods in the Mod 4 Appendix.\n",
        "\n",
        "Evaluation\n",
        "Evaluating multiclass classifiers can be trickier than binary classifiers because there are multiple ways to \n",
        "    mis-classify an observation, and some errors are more problematic than others. \n",
        "    Use the business problem that your NLP project sets out to solve to inform your choice of evaluation metrics.\n",
        "\n",
        "\"\"\"\n",
        "\n",
        "#df = pd.read_csv(io.BytesIO(uploaded['judge-1377884607_tweet_product_company.csv']), encoding='unicode_escape')\n",
        "#df = pd.read_csv('judge-1377884607_tweet_product_company.csv', encoding='unicode_escape')\n",
        "df = pd.read_csv('/content/gdrive/My Drive/judge-1377884607_tweet_product_company.csv',encoding='unicode_escape') "
      ],
      "execution_count": 1102,
      "outputs": []
    },
    {
      "cell_type": "code",
      "metadata": {
        "id": "k5_A0dTFRDPO",
        "outputId": "d841e9e0-e24a-47d9-c02c-3f07c7b97f8b",
        "colab": {
          "base_uri": "https://localhost:8080/",
          "height": 204
        }
      },
      "source": [
        "df.head()"
      ],
      "execution_count": 1103,
      "outputs": [
        {
          "output_type": "execute_result",
          "data": {
            "text/html": [
              "<div>\n",
              "<style scoped>\n",
              "    .dataframe tbody tr th:only-of-type {\n",
              "        vertical-align: middle;\n",
              "    }\n",
              "\n",
              "    .dataframe tbody tr th {\n",
              "        vertical-align: top;\n",
              "    }\n",
              "\n",
              "    .dataframe thead th {\n",
              "        text-align: right;\n",
              "    }\n",
              "</style>\n",
              "<table border=\"1\" class=\"dataframe\">\n",
              "  <thead>\n",
              "    <tr style=\"text-align: right;\">\n",
              "      <th></th>\n",
              "      <th>tweet_text</th>\n",
              "      <th>emotion_in_tweet_is_directed_at</th>\n",
              "      <th>is_there_an_emotion_directed_at_a_brand_or_product</th>\n",
              "    </tr>\n",
              "  </thead>\n",
              "  <tbody>\n",
              "    <tr>\n",
              "      <th>0</th>\n",
              "      <td>.@wesley83 I have a 3G iPhone. After 3 hrs twe...</td>\n",
              "      <td>iPhone</td>\n",
              "      <td>Negative emotion</td>\n",
              "    </tr>\n",
              "    <tr>\n",
              "      <th>1</th>\n",
              "      <td>@jessedee Know about @fludapp ? Awesome iPad/i...</td>\n",
              "      <td>iPad or iPhone App</td>\n",
              "      <td>Positive emotion</td>\n",
              "    </tr>\n",
              "    <tr>\n",
              "      <th>2</th>\n",
              "      <td>@swonderlin Can not wait for #iPad 2 also. The...</td>\n",
              "      <td>iPad</td>\n",
              "      <td>Positive emotion</td>\n",
              "    </tr>\n",
              "    <tr>\n",
              "      <th>3</th>\n",
              "      <td>@sxsw I hope this year's festival isn't as cra...</td>\n",
              "      <td>iPad or iPhone App</td>\n",
              "      <td>Negative emotion</td>\n",
              "    </tr>\n",
              "    <tr>\n",
              "      <th>4</th>\n",
              "      <td>@sxtxstate great stuff on Fri #SXSW: Marissa M...</td>\n",
              "      <td>Google</td>\n",
              "      <td>Positive emotion</td>\n",
              "    </tr>\n",
              "  </tbody>\n",
              "</table>\n",
              "</div>"
            ],
            "text/plain": [
              "                                          tweet_text  ... is_there_an_emotion_directed_at_a_brand_or_product\n",
              "0  .@wesley83 I have a 3G iPhone. After 3 hrs twe...  ...                                   Negative emotion\n",
              "1  @jessedee Know about @fludapp ? Awesome iPad/i...  ...                                   Positive emotion\n",
              "2  @swonderlin Can not wait for #iPad 2 also. The...  ...                                   Positive emotion\n",
              "3  @sxsw I hope this year's festival isn't as cra...  ...                                   Negative emotion\n",
              "4  @sxtxstate great stuff on Fri #SXSW: Marissa M...  ...                                   Positive emotion\n",
              "\n",
              "[5 rows x 3 columns]"
            ]
          },
          "metadata": {
            "tags": []
          },
          "execution_count": 1103
        }
      ]
    },
    {
      "cell_type": "code",
      "metadata": {
        "id": "rESxhl4MRDPT",
        "outputId": "d7dc87fd-ebf7-42da-99f8-44f8a73e6938",
        "colab": {
          "base_uri": "https://localhost:8080/"
        }
      },
      "source": [
        "#df['tweet_text'].to_list()\n",
        "df.shape"
      ],
      "execution_count": 1104,
      "outputs": [
        {
          "output_type": "execute_result",
          "data": {
            "text/plain": [
              "(9093, 3)"
            ]
          },
          "metadata": {
            "tags": []
          },
          "execution_count": 1104
        }
      ]
    },
    {
      "cell_type": "code",
      "metadata": {
        "id": "nvbS1KChRDPY",
        "outputId": "39b9bcf0-01a4-4372-c182-bba2241e5757",
        "colab": {
          "base_uri": "https://localhost:8080/"
        }
      },
      "source": [
        "df.isna().sum()"
      ],
      "execution_count": 1105,
      "outputs": [
        {
          "output_type": "execute_result",
          "data": {
            "text/plain": [
              "tweet_text                                               1\n",
              "emotion_in_tweet_is_directed_at                       5802\n",
              "is_there_an_emotion_directed_at_a_brand_or_product       0\n",
              "dtype: int64"
            ]
          },
          "metadata": {
            "tags": []
          },
          "execution_count": 1105
        }
      ]
    },
    {
      "cell_type": "code",
      "metadata": {
        "id": "yTBKajXz4H1w"
      },
      "source": [
        "#rankings_pd.rename(columns = {'test':'TEST'}, inplace = True) \n",
        "df.rename(columns={'is_there_an_emotion_directed_at_a_brand_or_product':'label'}, inplace=True)"
      ],
      "execution_count": 1106,
      "outputs": []
    },
    {
      "cell_type": "code",
      "metadata": {
        "id": "6eQNT2ipRDPc"
      },
      "source": [
        "#df = df.drop('emotion_in_tweet_is_directed_at',axis=1, inplace=True)\n",
        "df_data = df[['tweet_text','label']]"
      ],
      "execution_count": 1107,
      "outputs": []
    },
    {
      "cell_type": "code",
      "metadata": {
        "id": "F0SQybTaRDPf",
        "outputId": "636392e3-42f5-4bb5-fc30-83e46a020660",
        "colab": {
          "base_uri": "https://localhost:8080/",
          "height": 204
        }
      },
      "source": [
        "df_data.head()"
      ],
      "execution_count": 1108,
      "outputs": [
        {
          "output_type": "execute_result",
          "data": {
            "text/html": [
              "<div>\n",
              "<style scoped>\n",
              "    .dataframe tbody tr th:only-of-type {\n",
              "        vertical-align: middle;\n",
              "    }\n",
              "\n",
              "    .dataframe tbody tr th {\n",
              "        vertical-align: top;\n",
              "    }\n",
              "\n",
              "    .dataframe thead th {\n",
              "        text-align: right;\n",
              "    }\n",
              "</style>\n",
              "<table border=\"1\" class=\"dataframe\">\n",
              "  <thead>\n",
              "    <tr style=\"text-align: right;\">\n",
              "      <th></th>\n",
              "      <th>tweet_text</th>\n",
              "      <th>label</th>\n",
              "    </tr>\n",
              "  </thead>\n",
              "  <tbody>\n",
              "    <tr>\n",
              "      <th>0</th>\n",
              "      <td>.@wesley83 I have a 3G iPhone. After 3 hrs twe...</td>\n",
              "      <td>Negative emotion</td>\n",
              "    </tr>\n",
              "    <tr>\n",
              "      <th>1</th>\n",
              "      <td>@jessedee Know about @fludapp ? Awesome iPad/i...</td>\n",
              "      <td>Positive emotion</td>\n",
              "    </tr>\n",
              "    <tr>\n",
              "      <th>2</th>\n",
              "      <td>@swonderlin Can not wait for #iPad 2 also. The...</td>\n",
              "      <td>Positive emotion</td>\n",
              "    </tr>\n",
              "    <tr>\n",
              "      <th>3</th>\n",
              "      <td>@sxsw I hope this year's festival isn't as cra...</td>\n",
              "      <td>Negative emotion</td>\n",
              "    </tr>\n",
              "    <tr>\n",
              "      <th>4</th>\n",
              "      <td>@sxtxstate great stuff on Fri #SXSW: Marissa M...</td>\n",
              "      <td>Positive emotion</td>\n",
              "    </tr>\n",
              "  </tbody>\n",
              "</table>\n",
              "</div>"
            ],
            "text/plain": [
              "                                          tweet_text             label\n",
              "0  .@wesley83 I have a 3G iPhone. After 3 hrs twe...  Negative emotion\n",
              "1  @jessedee Know about @fludapp ? Awesome iPad/i...  Positive emotion\n",
              "2  @swonderlin Can not wait for #iPad 2 also. The...  Positive emotion\n",
              "3  @sxsw I hope this year's festival isn't as cra...  Negative emotion\n",
              "4  @sxtxstate great stuff on Fri #SXSW: Marissa M...  Positive emotion"
            ]
          },
          "metadata": {
            "tags": []
          },
          "execution_count": 1108
        }
      ]
    },
    {
      "cell_type": "code",
      "metadata": {
        "id": "YvXVFX1qRDPj",
        "outputId": "b05dba01-d518-4fa7-db5c-076e7d16b2a4",
        "colab": {
          "base_uri": "https://localhost:8080/"
        }
      },
      "source": [
        "df_data.isna().sum()"
      ],
      "execution_count": 1109,
      "outputs": [
        {
          "output_type": "execute_result",
          "data": {
            "text/plain": [
              "tweet_text    1\n",
              "label         0\n",
              "dtype: int64"
            ]
          },
          "metadata": {
            "tags": []
          },
          "execution_count": 1109
        }
      ]
    },
    {
      "cell_type": "code",
      "metadata": {
        "id": "3ofQHldiRDPn",
        "outputId": "b970efe2-1edb-41f9-95a0-ce4744ec8b3b",
        "colab": {
          "base_uri": "https://localhost:8080/"
        }
      },
      "source": [
        "df_data.dropna(inplace=True)"
      ],
      "execution_count": 1110,
      "outputs": [
        {
          "output_type": "stream",
          "text": [
            "/usr/local/lib/python3.6/dist-packages/ipykernel_launcher.py:1: SettingWithCopyWarning: \n",
            "A value is trying to be set on a copy of a slice from a DataFrame\n",
            "\n",
            "See the caveats in the documentation: https://pandas.pydata.org/pandas-docs/stable/user_guide/indexing.html#returning-a-view-versus-a-copy\n",
            "  \"\"\"Entry point for launching an IPython kernel.\n"
          ],
          "name": "stderr"
        }
      ]
    },
    {
      "cell_type": "code",
      "metadata": {
        "id": "_UUyoyfpRDPq",
        "outputId": "6911a48c-a616-4138-d5ec-09b372d6eb8e",
        "colab": {
          "base_uri": "https://localhost:8080/"
        }
      },
      "source": [
        "df_data.isna().sum()"
      ],
      "execution_count": 1111,
      "outputs": [
        {
          "output_type": "execute_result",
          "data": {
            "text/plain": [
              "tweet_text    0\n",
              "label         0\n",
              "dtype: int64"
            ]
          },
          "metadata": {
            "tags": []
          },
          "execution_count": 1111
        }
      ]
    },
    {
      "cell_type": "code",
      "metadata": {
        "id": "YKaeQ2BIRDPu",
        "outputId": "835518e4-db7d-498c-91bc-c18bf9687f03",
        "colab": {
          "base_uri": "https://localhost:8080/"
        }
      },
      "source": [
        "df_data['label'].value_counts()"
      ],
      "execution_count": 1112,
      "outputs": [
        {
          "output_type": "execute_result",
          "data": {
            "text/plain": [
              "No emotion toward brand or product    5388\n",
              "Positive emotion                      2978\n",
              "Negative emotion                       570\n",
              "I can't tell                           156\n",
              "Name: label, dtype: int64"
            ]
          },
          "metadata": {
            "tags": []
          },
          "execution_count": 1112
        }
      ]
    },
    {
      "cell_type": "code",
      "metadata": {
        "id": "kKB7BVX5RDPx"
      },
      "source": [
        "df_data_1 = df_data.copy()"
      ],
      "execution_count": 1113,
      "outputs": []
    },
    {
      "cell_type": "code",
      "metadata": {
        "id": "b7iaGGtNRDP2"
      },
      "source": [
        "corpus = df_data_1['tweet_text'].to_list()"
      ],
      "execution_count": 1114,
      "outputs": []
    },
    {
      "cell_type": "code",
      "metadata": {
        "id": "L_KMz04FRDP5",
        "outputId": "7f1b86e8-f0b0-4e89-8ac2-67640d500b65",
        "colab": {
          "base_uri": "https://localhost:8080/"
        }
      },
      "source": [
        "corpus[:5]"
      ],
      "execution_count": 1115,
      "outputs": [
        {
          "output_type": "execute_result",
          "data": {
            "text/plain": [
              "['.@wesley83 I have a 3G iPhone. After 3 hrs tweeting at #RISE_Austin, it was dead!  I need to upgrade. Plugin stations at #SXSW.',\n",
              " \"@jessedee Know about @fludapp ? Awesome iPad/iPhone app that you'll likely appreciate for its design. Also, they're giving free Ts at #SXSW\",\n",
              " '@swonderlin Can not wait for #iPad 2 also. They should sale them down at #SXSW.',\n",
              " \"@sxsw I hope this year's festival isn't as crashy as this year's iPhone app. #sxsw\",\n",
              " \"@sxtxstate great stuff on Fri #SXSW: Marissa Mayer (Google), Tim O'Reilly (tech books/conferences) &amp; Matt Mullenweg (Wordpress)\"]"
            ]
          },
          "metadata": {
            "tags": []
          },
          "execution_count": 1115
        }
      ]
    },
    {
      "cell_type": "code",
      "metadata": {
        "id": "EhiPxAeURDP9"
      },
      "source": [
        "\"\"\"\n",
        "Make Bag of Words Frequency Distribution\n",
        "collection fo evey word that appears in the text and ho many times it appears\n",
        "\"\"\"\n",
        "from nltk import FreqDist"
      ],
      "execution_count": 1116,
      "outputs": []
    },
    {
      "cell_type": "code",
      "metadata": {
        "id": "rBcqPiQlRDQA",
        "outputId": "83b6e31a-9c4d-48a8-d39e-4115c5d63747",
        "colab": {
          "base_uri": "https://localhost:8080/"
        }
      },
      "source": [
        "#make freqdist from corpus\n",
        "freq = FreqDist(','.join(corpus))\n",
        "freq.most_common(100)"
      ],
      "execution_count": 1117,
      "outputs": [
        {
          "output_type": "execute_result",
          "data": {
            "text/plain": [
              "[(' ', 153873),\n",
              " ('e', 72593),\n",
              " ('o', 62850),\n",
              " ('n', 56651),\n",
              " ('t', 55549),\n",
              " ('i', 51978),\n",
              " ('a', 46024),\n",
              " ('s', 43823),\n",
              " ('r', 31903),\n",
              " ('l', 30420),\n",
              " ('h', 21549),\n",
              " ('p', 21506),\n",
              " ('d', 20073),\n",
              " ('m', 19206),\n",
              " ('u', 18363),\n",
              " ('w', 15979),\n",
              " ('#', 15875),\n",
              " ('g', 15602),\n",
              " ('c', 14950),\n",
              " ('S', 13550),\n",
              " (',', 12649),\n",
              " ('y', 11753),\n",
              " ('k', 10404),\n",
              " ('f', 9839),\n",
              " ('.', 8382),\n",
              " ('b', 7514),\n",
              " ('@', 7194),\n",
              " ('W', 6831),\n",
              " ('x', 6460),\n",
              " ('T', 5977),\n",
              " ('P', 5701),\n",
              " ('A', 5597),\n",
              " ('v', 5258),\n",
              " ('X', 5211),\n",
              " ('}', 4298),\n",
              " ('{', 4296),\n",
              " ('R', 3865),\n",
              " ('G', 3585),\n",
              " ('I', 2982),\n",
              " (\"'\", 2903),\n",
              " (';', 2800),\n",
              " ('&', 2707),\n",
              " ('C', 2689),\n",
              " ('-', 2438),\n",
              " ('M', 2412),\n",
              " ('!', 2398),\n",
              " (':', 2310),\n",
              " ('2', 2213),\n",
              " ('q', 2098),\n",
              " ('N', 1898),\n",
              " ('?', 1659),\n",
              " ('B', 1476),\n",
              " ('L', 1446),\n",
              " ('D', 1332),\n",
              " ('H', 1295),\n",
              " ('1', 1248),\n",
              " ('F', 1161),\n",
              " ('O', 1110),\n",
              " ('j', 1054),\n",
              " ('0', 1040),\n",
              " ('/', 1019),\n",
              " ('E', 1013),\n",
              " (')', 801),\n",
              " ('(', 770),\n",
              " ('U', 740),\n",
              " ('z', 721),\n",
              " ('\\x89', 691),\n",
              " ('3', 616),\n",
              " ('Û', 582),\n",
              " ('J', 563),\n",
              " ('4', 523),\n",
              " ('5', 493),\n",
              " ('V', 446),\n",
              " ('Y', 430),\n",
              " ('_', 318),\n",
              " ('6', 318),\n",
              " ('9', 314),\n",
              " ('K', 251),\n",
              " ('Ï', 216),\n",
              " ('\\n', 195),\n",
              " ('8', 191),\n",
              " ('7', 187),\n",
              " ('[', 183),\n",
              " (']', 182),\n",
              " ('+', 166),\n",
              " ('Q', 164),\n",
              " ('$', 157),\n",
              " ('\\x9d', 152),\n",
              " ('%', 149),\n",
              " ('Z', 96),\n",
              " ('ª', 96),\n",
              " ('*', 95),\n",
              " ('=', 91),\n",
              " ('÷', 88),\n",
              " ('|', 82),\n",
              " ('~', 50),\n",
              " ('¼', 40),\n",
              " ('^', 38),\n",
              " ('\\x8b', 37),\n",
              " ('å', 35)]"
            ]
          },
          "metadata": {
            "tags": []
          },
          "execution_count": 1117
        }
      ]
    },
    {
      "cell_type": "code",
      "metadata": {
        "id": "F0yPYpFlRDQD",
        "outputId": "421ac4b8-a3c4-4355-d081-77662e03fa8c",
        "colab": {
          "base_uri": "https://localhost:8080/"
        }
      },
      "source": [
        "\"\"\"\n",
        "need to tokenize text to get words and not letters\n",
        "tokenize corpus then generate FreqDist\n",
        "\"\"\"\n",
        "import nltk\n",
        "from nltk import word_tokenize\n",
        "nltk.download('punkt')"
      ],
      "execution_count": 1118,
      "outputs": [
        {
          "output_type": "stream",
          "text": [
            "[nltk_data] Downloading package punkt to /root/nltk_data...\n",
            "[nltk_data]   Package punkt is already up-to-date!\n"
          ],
          "name": "stdout"
        },
        {
          "output_type": "execute_result",
          "data": {
            "text/plain": [
              "True"
            ]
          },
          "metadata": {
            "tags": []
          },
          "execution_count": 1118
        }
      ]
    },
    {
      "cell_type": "code",
      "metadata": {
        "id": "UY_9iA8CRDQG",
        "outputId": "b94060a9-727a-4b37-c10d-2b3de7adbcb9",
        "colab": {
          "base_uri": "https://localhost:8080/"
        }
      },
      "source": [
        "#convert corpus to tokens. Creates 1 giant string\n",
        "#punctuation\n",
        "#https\n",
        "#\n",
        "tokens = word_tokenize(','.join(corpus))\n",
        "freq = FreqDist(tokens)\n",
        "freq.most_common(100)"
      ],
      "execution_count": 1119,
      "outputs": [
        {
          "output_type": "execute_result",
          "data": {
            "text/plain": [
              "[('#', 15875),\n",
              " (',', 12553),\n",
              " ('@', 7194),\n",
              " ('mention', 7119),\n",
              " ('.', 4957),\n",
              " ('SXSW', 4735),\n",
              " ('sxsw', 4476),\n",
              " ('link', 4311),\n",
              " ('}', 4298),\n",
              " ('{', 4296),\n",
              " ('the', 3926),\n",
              " ('to', 3519),\n",
              " ('RT', 2945),\n",
              " ('at', 2859),\n",
              " (';', 2800),\n",
              " ('&', 2707),\n",
              " ('for', 2439),\n",
              " ('!', 2398),\n",
              " ('a', 2172),\n",
              " ('Google', 2134),\n",
              " ('iPad', 2115),\n",
              " (':', 2075),\n",
              " ('Apple', 1879),\n",
              " ('in', 1830),\n",
              " ('quot', 1696),\n",
              " ('of', 1691),\n",
              " ('?', 1659),\n",
              " ('is', 1647),\n",
              " ('and', 1525),\n",
              " ('I', 1457),\n",
              " ('iPhone', 1298),\n",
              " ('on', 1271),\n",
              " (\"'s\", 1232),\n",
              " ('2', 1114),\n",
              " ('store', 1046),\n",
              " ('-', 972),\n",
              " ('you', 944),\n",
              " ('Austin', 900),\n",
              " ('an', 853),\n",
              " ('amp', 836),\n",
              " ('with', 804),\n",
              " (')', 801),\n",
              " ('up', 778),\n",
              " ('(', 770),\n",
              " ('it', 764),\n",
              " ('my', 711),\n",
              " ('...', 643),\n",
              " ('app', 630),\n",
              " ('Circles', 582),\n",
              " ('new', 566),\n",
              " ('be', 544),\n",
              " ('New', 518),\n",
              " ('from', 505),\n",
              " ('this', 496),\n",
              " ('by', 485),\n",
              " ('The', 483),\n",
              " (\"n't\", 478),\n",
              " ('out', 478),\n",
              " ('that', 465),\n",
              " ('are', 456),\n",
              " ('google', 448),\n",
              " ('Android', 445),\n",
              " ('your', 431),\n",
              " ('not', 426),\n",
              " ('Store', 423),\n",
              " ('apple', 417),\n",
              " ('have', 414),\n",
              " ('via', 397),\n",
              " ('Social', 382),\n",
              " ('about', 373),\n",
              " ('line', 351),\n",
              " ('just', 345),\n",
              " ('launch', 341),\n",
              " ('will', 326),\n",
              " ('me', 326),\n",
              " ('today', 324),\n",
              " ('pop-up', 319),\n",
              " ('Launch', 312),\n",
              " ('Network', 311),\n",
              " ('do', 310),\n",
              " ('now', 305),\n",
              " ('get', 291),\n",
              " ('Called', 280),\n",
              " ('free', 276),\n",
              " ('party', 274),\n",
              " ('one', 272),\n",
              " ('like', 269),\n",
              " ('Major', 269),\n",
              " ('or', 269),\n",
              " ('has', 267),\n",
              " (\"'re\", 265),\n",
              " ('social', 265),\n",
              " ('iPad2', 264),\n",
              " ('but', 263),\n",
              " ('It', 260),\n",
              " ('they', 257),\n",
              " ('all', 256),\n",
              " (\"'m\", 254),\n",
              " ('ipad', 251),\n",
              " ('Today', 250)]"
            ]
          },
          "metadata": {
            "tags": []
          },
          "execution_count": 1119
        }
      ]
    },
    {
      "cell_type": "code",
      "metadata": {
        "id": "zv0E7kQrB0Sp",
        "outputId": "558213f5-0430-473a-d26e-5d8fe8a7caf7",
        "colab": {
          "base_uri": "https://localhost:8080/"
        }
      },
      "source": [
        "tokens[:50]"
      ],
      "execution_count": 1120,
      "outputs": [
        {
          "output_type": "execute_result",
          "data": {
            "text/plain": [
              "['.',\n",
              " '@',\n",
              " 'wesley83',\n",
              " 'I',\n",
              " 'have',\n",
              " 'a',\n",
              " '3G',\n",
              " 'iPhone',\n",
              " '.',\n",
              " 'After',\n",
              " '3',\n",
              " 'hrs',\n",
              " 'tweeting',\n",
              " 'at',\n",
              " '#',\n",
              " 'RISE_Austin',\n",
              " ',',\n",
              " 'it',\n",
              " 'was',\n",
              " 'dead',\n",
              " '!',\n",
              " 'I',\n",
              " 'need',\n",
              " 'to',\n",
              " 'upgrade',\n",
              " '.',\n",
              " 'Plugin',\n",
              " 'stations',\n",
              " 'at',\n",
              " '#',\n",
              " 'SXSW.',\n",
              " ',',\n",
              " '@',\n",
              " 'jessedee',\n",
              " 'Know',\n",
              " 'about',\n",
              " '@',\n",
              " 'fludapp',\n",
              " '?',\n",
              " 'Awesome',\n",
              " 'iPad/iPhone',\n",
              " 'app',\n",
              " 'that',\n",
              " 'you',\n",
              " \"'ll\",\n",
              " 'likely',\n",
              " 'appreciate',\n",
              " 'for',\n",
              " 'its',\n",
              " 'design']"
            ]
          },
          "metadata": {
            "tags": []
          },
          "execution_count": 1120
        }
      ]
    },
    {
      "cell_type": "code",
      "metadata": {
        "id": "6CFq45TBRDQJ",
        "outputId": "6c8aaba3-3e03-4a13-bc18-125dbf2b0ef3",
        "colab": {
          "base_uri": "https://localhost:8080/"
        }
      },
      "source": [
        "#deal w/stop words\n",
        "#make a list of stopwords to remove\n",
        "nltk.download('stopwords')\n",
        "from nltk.corpus import stopwords\n",
        "\n",
        "import string  #pulls in punctuation"
      ],
      "execution_count": 1121,
      "outputs": [
        {
          "output_type": "stream",
          "text": [
            "[nltk_data] Downloading package stopwords to /root/nltk_data...\n",
            "[nltk_data]   Package stopwords is already up-to-date!\n"
          ],
          "name": "stdout"
        }
      ]
    },
    {
      "cell_type": "code",
      "metadata": {
        "id": "FKIPzCQYRDQM",
        "outputId": "b1e8be29-8c13-4fe6-e013-2e7a25d606f9",
        "colab": {
          "base_uri": "https://localhost:8080/"
        }
      },
      "source": [
        "\"\"\"\n",
        "these words will be eliminated from text\n",
        "\"\"\"\n",
        "stopwords_list = stopwords.words('english')\n",
        "stopwords_list[:25]"
      ],
      "execution_count": 1122,
      "outputs": [
        {
          "output_type": "execute_result",
          "data": {
            "text/plain": [
              "['i',\n",
              " 'me',\n",
              " 'my',\n",
              " 'myself',\n",
              " 'we',\n",
              " 'our',\n",
              " 'ours',\n",
              " 'ourselves',\n",
              " 'you',\n",
              " \"you're\",\n",
              " \"you've\",\n",
              " \"you'll\",\n",
              " \"you'd\",\n",
              " 'your',\n",
              " 'yours',\n",
              " 'yourself',\n",
              " 'yourselves',\n",
              " 'he',\n",
              " 'him',\n",
              " 'his',\n",
              " 'himself',\n",
              " 'she',\n",
              " \"she's\",\n",
              " 'her',\n",
              " 'hers']"
            ]
          },
          "metadata": {
            "tags": []
          },
          "execution_count": 1122
        }
      ]
    },
    {
      "cell_type": "code",
      "metadata": {
        "id": "Yo1hIoSBRDQP"
      },
      "source": [
        "#add punctuation to stopwords list\n",
        "stopwords_list.extend(string.punctuation)"
      ],
      "execution_count": 1123,
      "outputs": []
    },
    {
      "cell_type": "code",
      "metadata": {
        "id": "a2gTKBELHA_-"
      },
      "source": [
        ""
      ],
      "execution_count": 1123,
      "outputs": []
    },
    {
      "cell_type": "code",
      "metadata": {
        "id": "hxCnsaYTRDQT",
        "outputId": "1028a887-c5df-4d9b-fc7e-d67817d02535",
        "colab": {
          "base_uri": "https://localhost:8080/"
        }
      },
      "source": [
        "#punctuation added to end of stopwords list\n",
        "stopwords_list[-20:]"
      ],
      "execution_count": 1124,
      "outputs": [
        {
          "output_type": "execute_result",
          "data": {
            "text/plain": [
              "['-',\n",
              " '.',\n",
              " '/',\n",
              " ':',\n",
              " ';',\n",
              " '<',\n",
              " '=',\n",
              " '>',\n",
              " '?',\n",
              " '@',\n",
              " '[',\n",
              " '\\\\',\n",
              " ']',\n",
              " '^',\n",
              " '_',\n",
              " '`',\n",
              " '{',\n",
              " '|',\n",
              " '}',\n",
              " '~']"
            ]
          },
          "metadata": {
            "tags": []
          },
          "execution_count": 1124
        }
      ]
    },
    {
      "cell_type": "code",
      "metadata": {
        "id": "i8vf7hi9RDQW"
      },
      "source": [
        "#add additiona ltweet punctuation to stopwords list\n",
        "additional_punc = ['--'\"' '\",'...',\" '' \",'_']\n",
        "stopwords_list.extend(additional_punc)"
      ],
      "execution_count": 1125,
      "outputs": []
    },
    {
      "cell_type": "code",
      "metadata": {
        "id": "dbjzIy-2RDQZ",
        "outputId": "b95fc477-99a0-4eee-9132-5d4ccd112230",
        "colab": {
          "base_uri": "https://localhost:8080/"
        }
      },
      "source": [
        "stopwords_list"
      ],
      "execution_count": 1126,
      "outputs": [
        {
          "output_type": "execute_result",
          "data": {
            "text/plain": [
              "['i',\n",
              " 'me',\n",
              " 'my',\n",
              " 'myself',\n",
              " 'we',\n",
              " 'our',\n",
              " 'ours',\n",
              " 'ourselves',\n",
              " 'you',\n",
              " \"you're\",\n",
              " \"you've\",\n",
              " \"you'll\",\n",
              " \"you'd\",\n",
              " 'your',\n",
              " 'yours',\n",
              " 'yourself',\n",
              " 'yourselves',\n",
              " 'he',\n",
              " 'him',\n",
              " 'his',\n",
              " 'himself',\n",
              " 'she',\n",
              " \"she's\",\n",
              " 'her',\n",
              " 'hers',\n",
              " 'herself',\n",
              " 'it',\n",
              " \"it's\",\n",
              " 'its',\n",
              " 'itself',\n",
              " 'they',\n",
              " 'them',\n",
              " 'their',\n",
              " 'theirs',\n",
              " 'themselves',\n",
              " 'what',\n",
              " 'which',\n",
              " 'who',\n",
              " 'whom',\n",
              " 'this',\n",
              " 'that',\n",
              " \"that'll\",\n",
              " 'these',\n",
              " 'those',\n",
              " 'am',\n",
              " 'is',\n",
              " 'are',\n",
              " 'was',\n",
              " 'were',\n",
              " 'be',\n",
              " 'been',\n",
              " 'being',\n",
              " 'have',\n",
              " 'has',\n",
              " 'had',\n",
              " 'having',\n",
              " 'do',\n",
              " 'does',\n",
              " 'did',\n",
              " 'doing',\n",
              " 'a',\n",
              " 'an',\n",
              " 'the',\n",
              " 'and',\n",
              " 'but',\n",
              " 'if',\n",
              " 'or',\n",
              " 'because',\n",
              " 'as',\n",
              " 'until',\n",
              " 'while',\n",
              " 'of',\n",
              " 'at',\n",
              " 'by',\n",
              " 'for',\n",
              " 'with',\n",
              " 'about',\n",
              " 'against',\n",
              " 'between',\n",
              " 'into',\n",
              " 'through',\n",
              " 'during',\n",
              " 'before',\n",
              " 'after',\n",
              " 'above',\n",
              " 'below',\n",
              " 'to',\n",
              " 'from',\n",
              " 'up',\n",
              " 'down',\n",
              " 'in',\n",
              " 'out',\n",
              " 'on',\n",
              " 'off',\n",
              " 'over',\n",
              " 'under',\n",
              " 'again',\n",
              " 'further',\n",
              " 'then',\n",
              " 'once',\n",
              " 'here',\n",
              " 'there',\n",
              " 'when',\n",
              " 'where',\n",
              " 'why',\n",
              " 'how',\n",
              " 'all',\n",
              " 'any',\n",
              " 'both',\n",
              " 'each',\n",
              " 'few',\n",
              " 'more',\n",
              " 'most',\n",
              " 'other',\n",
              " 'some',\n",
              " 'such',\n",
              " 'no',\n",
              " 'nor',\n",
              " 'not',\n",
              " 'only',\n",
              " 'own',\n",
              " 'same',\n",
              " 'so',\n",
              " 'than',\n",
              " 'too',\n",
              " 'very',\n",
              " 's',\n",
              " 't',\n",
              " 'can',\n",
              " 'will',\n",
              " 'just',\n",
              " 'don',\n",
              " \"don't\",\n",
              " 'should',\n",
              " \"should've\",\n",
              " 'now',\n",
              " 'd',\n",
              " 'll',\n",
              " 'm',\n",
              " 'o',\n",
              " 're',\n",
              " 've',\n",
              " 'y',\n",
              " 'ain',\n",
              " 'aren',\n",
              " \"aren't\",\n",
              " 'couldn',\n",
              " \"couldn't\",\n",
              " 'didn',\n",
              " \"didn't\",\n",
              " 'doesn',\n",
              " \"doesn't\",\n",
              " 'hadn',\n",
              " \"hadn't\",\n",
              " 'hasn',\n",
              " \"hasn't\",\n",
              " 'haven',\n",
              " \"haven't\",\n",
              " 'isn',\n",
              " \"isn't\",\n",
              " 'ma',\n",
              " 'mightn',\n",
              " \"mightn't\",\n",
              " 'mustn',\n",
              " \"mustn't\",\n",
              " 'needn',\n",
              " \"needn't\",\n",
              " 'shan',\n",
              " \"shan't\",\n",
              " 'shouldn',\n",
              " \"shouldn't\",\n",
              " 'wasn',\n",
              " \"wasn't\",\n",
              " 'weren',\n",
              " \"weren't\",\n",
              " 'won',\n",
              " \"won't\",\n",
              " 'wouldn',\n",
              " \"wouldn't\",\n",
              " '!',\n",
              " '\"',\n",
              " '#',\n",
              " '$',\n",
              " '%',\n",
              " '&',\n",
              " \"'\",\n",
              " '(',\n",
              " ')',\n",
              " '*',\n",
              " '+',\n",
              " ',',\n",
              " '-',\n",
              " '.',\n",
              " '/',\n",
              " ':',\n",
              " ';',\n",
              " '<',\n",
              " '=',\n",
              " '>',\n",
              " '?',\n",
              " '@',\n",
              " '[',\n",
              " '\\\\',\n",
              " ']',\n",
              " '^',\n",
              " '_',\n",
              " '`',\n",
              " '{',\n",
              " '|',\n",
              " '}',\n",
              " '~',\n",
              " \"--' '\",\n",
              " '...',\n",
              " \" '' \",\n",
              " '_']"
            ]
          },
          "metadata": {
            "tags": []
          },
          "execution_count": 1126
        }
      ]
    },
    {
      "cell_type": "code",
      "metadata": {
        "id": "3WRtNhrTRDQc"
      },
      "source": [
        "#not always accepting what's in stop_words\n",
        "#print('until' in stopwords_list)"
      ],
      "execution_count": 1127,
      "outputs": []
    },
    {
      "cell_type": "code",
      "metadata": {
        "id": "ckPN5xlERDQm",
        "outputId": "1870d03e-bf75-4ce7-9917-305fab97aa32",
        "colab": {
          "base_uri": "https://localhost:8080/"
        }
      },
      "source": [
        "#remove until from stopwords_list\n",
        "#don't have to accept all of the stopwords\n",
        "stopwords_list.remove('until')\n",
        "print('until' in stopwords_list)"
      ],
      "execution_count": 1128,
      "outputs": [
        {
          "output_type": "stream",
          "text": [
            "False\n"
          ],
          "name": "stdout"
        }
      ]
    },
    {
      "cell_type": "code",
      "metadata": {
        "id": "jlr2uf1kRDQr",
        "outputId": "fd89fdf9-f0d3-4aac-a6e1-b03ae435da3c",
        "colab": {
          "base_uri": "https://localhost:8080/"
        }
      },
      "source": [
        "#remove stop words\n",
        "#take tokens and remove stop words\n",
        "stopped_tokens = [w.lower() for w in tokens if w.lower() not in stopwords_list]\n",
        "stopped_tokens[:50]"
      ],
      "execution_count": 1129,
      "outputs": [
        {
          "output_type": "execute_result",
          "data": {
            "text/plain": [
              "['wesley83',\n",
              " '3g',\n",
              " 'iphone',\n",
              " '3',\n",
              " 'hrs',\n",
              " 'tweeting',\n",
              " 'rise_austin',\n",
              " 'dead',\n",
              " 'need',\n",
              " 'upgrade',\n",
              " 'plugin',\n",
              " 'stations',\n",
              " 'sxsw.',\n",
              " 'jessedee',\n",
              " 'know',\n",
              " 'fludapp',\n",
              " 'awesome',\n",
              " 'ipad/iphone',\n",
              " 'app',\n",
              " \"'ll\",\n",
              " 'likely',\n",
              " 'appreciate',\n",
              " 'design',\n",
              " 'also',\n",
              " \"'re\",\n",
              " 'giving',\n",
              " 'free',\n",
              " 'ts',\n",
              " 'sxsw',\n",
              " 'swonderlin',\n",
              " 'wait',\n",
              " 'ipad',\n",
              " '2',\n",
              " 'also',\n",
              " 'sale',\n",
              " 'sxsw.',\n",
              " 'sxsw',\n",
              " 'hope',\n",
              " 'year',\n",
              " \"'s\",\n",
              " 'festival',\n",
              " \"n't\",\n",
              " 'crashy',\n",
              " 'year',\n",
              " \"'s\",\n",
              " 'iphone',\n",
              " 'app',\n",
              " 'sxsw',\n",
              " 'sxtxstate',\n",
              " 'great']"
            ]
          },
          "metadata": {
            "tags": []
          },
          "execution_count": 1129
        }
      ]
    },
    {
      "cell_type": "code",
      "metadata": {
        "id": "E5KMioFKRDQu",
        "outputId": "47cc8f15-97b3-410d-c2d7-23030d7f6a43",
        "colab": {
          "base_uri": "https://localhost:8080/"
        }
      },
      "source": [
        "#remake freqdist\n",
        "#most common 100 words that were in corpus\n",
        "freq = FreqDist(stopped_tokens)\n",
        "freq.most_common(150)"
      ],
      "execution_count": 1130,
      "outputs": [
        {
          "output_type": "execute_result",
          "data": {
            "text/plain": [
              "[('sxsw', 9414),\n",
              " ('mention', 7120),\n",
              " ('link', 4313),\n",
              " ('rt', 2960),\n",
              " ('google', 2592),\n",
              " ('ipad', 2431),\n",
              " ('apple', 2300),\n",
              " ('quot', 1696),\n",
              " ('iphone', 1513),\n",
              " ('store', 1469),\n",
              " (\"'s\", 1236),\n",
              " ('2', 1114),\n",
              " ('new', 1087),\n",
              " ('austin', 959),\n",
              " ('amp', 836),\n",
              " ('app', 810),\n",
              " ('launch', 653),\n",
              " ('circles', 651),\n",
              " ('social', 647),\n",
              " ('android', 574),\n",
              " ('today', 574),\n",
              " (\"n't\", 481),\n",
              " ('network', 465),\n",
              " ('ipad2', 457),\n",
              " ('pop-up', 420),\n",
              " ('via', 413),\n",
              " ('line', 402),\n",
              " ('free', 387),\n",
              " ('get', 386),\n",
              " ('called', 361),\n",
              " ('party', 346),\n",
              " ('sxswi', 340),\n",
              " ('mobile', 338),\n",
              " ('one', 308),\n",
              " ('major', 301),\n",
              " ('like', 290),\n",
              " ('time', 271),\n",
              " (\"'re\", 265),\n",
              " ('temporary', 264),\n",
              " ('opening', 257),\n",
              " (\"'m\", 254),\n",
              " ('possibly', 240),\n",
              " ('people', 226),\n",
              " ('downtown', 225),\n",
              " ('apps', 224),\n",
              " ('great', 222),\n",
              " ('see', 219),\n",
              " ('maps', 219),\n",
              " ('going', 217),\n",
              " ('check', 215),\n",
              " ('mayer', 214),\n",
              " ('day', 214),\n",
              " ('open', 210),\n",
              " ('popup', 209),\n",
              " ('need', 205),\n",
              " ('go', 205),\n",
              " ('marissa', 189),\n",
              " ('got', 185),\n",
              " ('w/', 182),\n",
              " ('know', 180),\n",
              " ('come', 175),\n",
              " ('win', 170),\n",
              " ('\\x89ûï', 170),\n",
              " ('good', 167),\n",
              " ('first', 166),\n",
              " ('us', 162),\n",
              " ('pop', 156),\n",
              " ('think', 154),\n",
              " ('news', 153),\n",
              " ('want', 148),\n",
              " ('music', 148),\n",
              " ('next', 147),\n",
              " ('love', 146),\n",
              " ('panel', 145),\n",
              " ('cool', 145),\n",
              " ('best', 144),\n",
              " ('tech', 143),\n",
              " ('design', 142),\n",
              " ('thanks', 141),\n",
              " ('shop', 141),\n",
              " (\"'ll\", 139),\n",
              " ('game', 135),\n",
              " ('make', 135),\n",
              " ('would', 134),\n",
              " ('awesome', 132),\n",
              " ('big', 132),\n",
              " ('search', 131),\n",
              " ('set', 128),\n",
              " ('around', 127),\n",
              " ('use', 126),\n",
              " ('video', 125),\n",
              " ('last', 124),\n",
              " ('4', 123),\n",
              " ('talk', 122),\n",
              " ('users', 121),\n",
              " ('show', 118),\n",
              " ('anyone', 118),\n",
              " ('gt', 117),\n",
              " ('year', 116),\n",
              " ('right', 116),\n",
              " ('using', 115),\n",
              " (\"'ve\", 115),\n",
              " ('says', 114),\n",
              " ('japan', 113),\n",
              " ('download', 113),\n",
              " ('--', 111),\n",
              " ('rumor', 111),\n",
              " ('really', 110),\n",
              " ('guy', 110),\n",
              " ('even', 109),\n",
              " ('launching', 108),\n",
              " ('still', 107),\n",
              " ('session', 107),\n",
              " ('coming', 103),\n",
              " ('buy', 102),\n",
              " ('future', 102),\n",
              " ('location', 102),\n",
              " ('hey', 100),\n",
              " ('congress', 100),\n",
              " ('twitter', 100),\n",
              " ('booth', 100),\n",
              " ('case', 99),\n",
              " ('blackberry', 98),\n",
              " ('u', 98),\n",
              " ('itunes', 97),\n",
              " ('products', 96),\n",
              " ('heard', 95),\n",
              " ('1', 95),\n",
              " ('team', 94),\n",
              " ('digital', 94),\n",
              " ('could', 94),\n",
              " ('way', 94),\n",
              " ('bing', 94),\n",
              " ('6th', 93),\n",
              " ('week', 93),\n",
              " ('technology', 89),\n",
              " ('tonight', 88),\n",
              " ('find', 87),\n",
              " ('ipads', 87),\n",
              " ('everyone', 87),\n",
              " ('may', 85),\n",
              " ('phone', 84),\n",
              " ('thing', 84),\n",
              " ('back', 84),\n",
              " ('fun', 83),\n",
              " ('tweet', 82),\n",
              " ('facebook', 82),\n",
              " ('look', 82),\n",
              " ('designing', 82),\n",
              " ('tv', 82)]"
            ]
          },
          "metadata": {
            "tags": []
          },
          "execution_count": 1130
        }
      ]
    },
    {
      "cell_type": "code",
      "metadata": {
        "id": "EDcfmHKXRDQx"
      },
      "source": [
        "from wordcloud import WordCloud"
      ],
      "execution_count": 1131,
      "outputs": []
    },
    {
      "cell_type": "code",
      "metadata": {
        "id": "rB2BdpwURDQ0",
        "outputId": "3b801ca3-3ebf-4dc3-b329-57ef5b002d81",
        "colab": {
          "base_uri": "https://localhost:8080/",
          "height": 383
        }
      },
      "source": [
        "wordcloud = WordCloud(stopwords=stopwords_list, collocations=False)\n",
        "wordcloud.generate(','.join(stopped_tokens))\n",
        "\n",
        "plt.figure(figsize=(12,12), facecolor=None)\n",
        "plt.imshow(wordcloud)\n",
        "plt.axis('off')"
      ],
      "execution_count": 1132,
      "outputs": [
        {
          "output_type": "execute_result",
          "data": {
            "text/plain": [
              "(-0.5, 399.5, 199.5, -0.5)"
            ]
          },
          "metadata": {
            "tags": []
          },
          "execution_count": 1132
        },
        {
          "output_type": "display_data",
          "data": {
            "image/png": "[encoded data removed]",
            "text/plain": [
              "<Figure size 864x864 with 1 Axes>"
            ]
          },
          "metadata": {
            "tags": [],
            "needs_background": "light"
          }
        }
      ]
    },
    {
      "cell_type": "code",
      "metadata": {
        "id": "4ND_A1DlRDQ3"
      },
      "source": [
        "\"\"\"\n",
        "other corpus we can run\n",
        "bigrams-looks for pairs of words that are going to occur commonly together\n",
        "\n",
        "good eda\n",
        "most common bigram: rt,mention\n",
        "if we didn't have these bigram we wouldn't know taht rt goes w/mention\n",
        "\"\"\"\n",
        "import nltk"
      ],
      "execution_count": 1133,
      "outputs": []
    },
    {
      "cell_type": "code",
      "metadata": {
        "id": "qfZwNHbDRDQ7"
      },
      "source": [
        "bigram_measures = nltk.collocations.BigramAssocMeasures()\n",
        "tweet_finder = nltk.BigramCollocationFinder.from_words(stopped_tokens)\n",
        "tweets_scored = tweet_finder.score_ngrams(bigram_measures.raw_freq)"
      ],
      "execution_count": 1134,
      "outputs": []
    },
    {
      "cell_type": "code",
      "metadata": {
        "id": "ZqF7zfPHRDQ9",
        "outputId": "1b5053e9-027b-4280-c609-60a8682c2f04",
        "colab": {
          "base_uri": "https://localhost:8080/",
          "height": 669
        }
      },
      "source": [
        "pd.DataFrame(tweets_scored, columns=['Words','Freq']).head(20)"
      ],
      "execution_count": 1135,
      "outputs": [
        {
          "output_type": "execute_result",
          "data": {
            "text/html": [
              "<div>\n",
              "<style scoped>\n",
              "    .dataframe tbody tr th:only-of-type {\n",
              "        vertical-align: middle;\n",
              "    }\n",
              "\n",
              "    .dataframe tbody tr th {\n",
              "        vertical-align: top;\n",
              "    }\n",
              "\n",
              "    .dataframe thead th {\n",
              "        text-align: right;\n",
              "    }\n",
              "</style>\n",
              "<table border=\"1\" class=\"dataframe\">\n",
              "  <thead>\n",
              "    <tr style=\"text-align: right;\">\n",
              "      <th></th>\n",
              "      <th>Words</th>\n",
              "      <th>Freq</th>\n",
              "    </tr>\n",
              "  </thead>\n",
              "  <tbody>\n",
              "    <tr>\n",
              "      <th>0</th>\n",
              "      <td>(rt, mention)</td>\n",
              "      <td>0.024711</td>\n",
              "    </tr>\n",
              "    <tr>\n",
              "      <th>1</th>\n",
              "      <td>(sxsw, link)</td>\n",
              "      <td>0.008010</td>\n",
              "    </tr>\n",
              "    <tr>\n",
              "      <th>2</th>\n",
              "      <td>(ipad, 2)</td>\n",
              "      <td>0.007993</td>\n",
              "    </tr>\n",
              "    <tr>\n",
              "      <th>3</th>\n",
              "      <td>(link, sxsw)</td>\n",
              "      <td>0.007080</td>\n",
              "    </tr>\n",
              "    <tr>\n",
              "      <th>4</th>\n",
              "      <td>(sxsw, rt)</td>\n",
              "      <td>0.005555</td>\n",
              "    </tr>\n",
              "    <tr>\n",
              "      <th>5</th>\n",
              "      <td>(mention, mention)</td>\n",
              "      <td>0.005280</td>\n",
              "    </tr>\n",
              "    <tr>\n",
              "      <th>6</th>\n",
              "      <td>(mention, sxsw)</td>\n",
              "      <td>0.005082</td>\n",
              "    </tr>\n",
              "    <tr>\n",
              "      <th>7</th>\n",
              "      <td>(apple, store)</td>\n",
              "      <td>0.004970</td>\n",
              "    </tr>\n",
              "    <tr>\n",
              "      <th>8</th>\n",
              "      <td>(link, rt)</td>\n",
              "      <td>0.004375</td>\n",
              "    </tr>\n",
              "    <tr>\n",
              "      <th>9</th>\n",
              "      <td>(mention, google)</td>\n",
              "      <td>0.004152</td>\n",
              "    </tr>\n",
              "    <tr>\n",
              "      <th>10</th>\n",
              "      <td>(sxsw, mention)</td>\n",
              "      <td>0.004134</td>\n",
              "    </tr>\n",
              "    <tr>\n",
              "      <th>11</th>\n",
              "      <td>(social, network)</td>\n",
              "      <td>0.003902</td>\n",
              "    </tr>\n",
              "    <tr>\n",
              "      <th>12</th>\n",
              "      <td>(new, social)</td>\n",
              "      <td>0.003592</td>\n",
              "    </tr>\n",
              "    <tr>\n",
              "      <th>13</th>\n",
              "      <td>(mention, rt)</td>\n",
              "      <td>0.002928</td>\n",
              "    </tr>\n",
              "    <tr>\n",
              "      <th>14</th>\n",
              "      <td>(via, mention)</td>\n",
              "      <td>0.002816</td>\n",
              "    </tr>\n",
              "    <tr>\n",
              "      <th>15</th>\n",
              "      <td>(network, called)</td>\n",
              "      <td>0.002808</td>\n",
              "    </tr>\n",
              "    <tr>\n",
              "      <th>16</th>\n",
              "      <td>(store, sxsw)</td>\n",
              "      <td>0.002782</td>\n",
              "    </tr>\n",
              "    <tr>\n",
              "      <th>17</th>\n",
              "      <td>(sxsw, apple)</td>\n",
              "      <td>0.002765</td>\n",
              "    </tr>\n",
              "    <tr>\n",
              "      <th>18</th>\n",
              "      <td>(google, launch)</td>\n",
              "      <td>0.002730</td>\n",
              "    </tr>\n",
              "    <tr>\n",
              "      <th>19</th>\n",
              "      <td>(austin, sxsw)</td>\n",
              "      <td>0.002679</td>\n",
              "    </tr>\n",
              "  </tbody>\n",
              "</table>\n",
              "</div>"
            ],
            "text/plain": [
              "                 Words      Freq\n",
              "0        (rt, mention)  0.024711\n",
              "1         (sxsw, link)  0.008010\n",
              "2            (ipad, 2)  0.007993\n",
              "3         (link, sxsw)  0.007080\n",
              "4           (sxsw, rt)  0.005555\n",
              "5   (mention, mention)  0.005280\n",
              "6      (mention, sxsw)  0.005082\n",
              "7       (apple, store)  0.004970\n",
              "8           (link, rt)  0.004375\n",
              "9    (mention, google)  0.004152\n",
              "10     (sxsw, mention)  0.004134\n",
              "11   (social, network)  0.003902\n",
              "12       (new, social)  0.003592\n",
              "13       (mention, rt)  0.002928\n",
              "14      (via, mention)  0.002816\n",
              "15   (network, called)  0.002808\n",
              "16       (store, sxsw)  0.002782\n",
              "17       (sxsw, apple)  0.002765\n",
              "18    (google, launch)  0.002730\n",
              "19      (austin, sxsw)  0.002679"
            ]
          },
          "metadata": {
            "tags": []
          },
          "execution_count": 1135
        }
      ]
    },
    {
      "cell_type": "code",
      "metadata": {
        "id": "68pDEoJORDRB"
      },
      "source": [
        "bigram_measures = nltk.collocations.BigramAssocMeasures()\n",
        "tweet_pmi_finder = nltk.BigramCollocationFinder.from_words(stopped_tokens)\n",
        "tweet_pmi_finder.apply_freq_filter(5)\n",
        "tweets_pmi_scored = tweet_pmi_finder.score_ngrams(bigram_measures.pmi)"
      ],
      "execution_count": 1136,
      "outputs": []
    },
    {
      "cell_type": "code",
      "metadata": {
        "id": "rPgJgUt7RDRD",
        "outputId": "7b304ff6-0c2a-4863-cc80-3c7a6fb6fcaf",
        "colab": {
          "base_uri": "https://localhost:8080/"
        }
      },
      "source": [
        "tweets_pmi_scored[:50]"
      ],
      "execution_count": 1137,
      "outputs": [
        {
          "output_type": "execute_result",
          "data": {
            "text/plain": [
              "[(('\\x89û÷sxsw', 'go\\x89ûª'), 14.50310520416662),\n",
              " (('knitted', 'staircase'), 14.240070798332827),\n",
              " (('jc', 'penney'), 14.240070798332823),\n",
              " (('naomi', 'campbell'), 14.240070798332823),\n",
              " (('parking', '5-10'), 14.240070798332823),\n",
              " (('pauly', 'celebs'), 14.240070798332823),\n",
              " (('98', 'accuracy'), 14.017678376996379),\n",
              " (('aron', 'pilhofer'), 14.017678376996379),\n",
              " (('charlie', 'sheen'), 14.017678376996379),\n",
              " (('follower', 'swarm'), 14.017678376996379),\n",
              " (('sheen', 'goddesses'), 14.017678376996379),\n",
              " (('swarm', 'ensues'), 14.017678376996379),\n",
              " (('alternate', 'routes'), 14.017678376996376),\n",
              " (('lynn', 'teo'), 14.017678376996376),\n",
              " (('policy', 'imacs'), 13.97703639249903),\n",
              " (('cameron', 'sinclair'), 13.825033299053981),\n",
              " (('elusive', \"'power\"), 13.825033299053981),\n",
              " (('staircase', 'attendance'), 13.825033299053981),\n",
              " (('zazzlsxsw', 'you\\x89ûªll'), 13.825033299053981),\n",
              " (('likeability', 'virgin'), 13.754643971162583),\n",
              " (('14-day', 'return'), 13.655108297611669),\n",
              " (('barton', 'hollow'), 13.655108297611669),\n",
              " (('bloody', 'banality'), 13.655108297611669),\n",
              " (('entered', 'automatically'), 13.655108297611669),\n",
              " (('khoi', 'vinh'), 13.655108297611669),\n",
              " (('launchrock', 'comp'), 13.655108297611669),\n",
              " (('participating', 'launchrock'), 13.655108297611669),\n",
              " (('\\x89ûïcheck-in', 'offers\\x89û\\x9d'), 13.655108297611669),\n",
              " (('charles', 'chen'), 13.503105204166621),\n",
              " (('acoustic', 'solo'), 13.50310520416662),\n",
              " (('kara', 'swisher'), 13.50310520416662),\n",
              " (('poked', 'liked'), 13.50310520416662),\n",
              " (('spilled', 'beans'), 13.50310520416662),\n",
              " (('co', 'founder'), 13.392073891777873),\n",
              " (('return', 'policy'), 13.392073891777873),\n",
              " ((\"'80s-themed\", 'costume'), 13.365601680416681),\n",
              " (('staying', 'alive'), 13.339606471883737),\n",
              " (('agnerd', 'confession'), 13.333180202724307),\n",
              " (('trustworthiness', 'zappos'), 13.310460126224225),\n",
              " (('invite', 'follower'), 13.280712782830172),\n",
              " (('awesomely', 'rad'), 13.240070798332827),\n",
              " (('liberty', 'and/or'), 13.240070798332827),\n",
              " (('tomo', '7pm'), 13.240070798332827),\n",
              " (('tests', '\\x89ûïcheck-in'), 13.240070798332825),\n",
              " (('5-10', 'min'), 13.240070798332823),\n",
              " (('john', 'mcree'), 13.240070798332823),\n",
              " (('steps', 'bulletproof'), 13.169681470441425),\n",
              " (('false', 'alarm'), 13.124593580912892),\n",
              " (('josh', 'clark'), 13.124593580912888),\n",
              " (('endorsed', 'html'), 13.102567274582889)]"
            ]
          },
          "metadata": {
            "tags": []
          },
          "execution_count": 1137
        }
      ]
    },
    {
      "cell_type": "code",
      "metadata": {
        "id": "Vjksrq5vRDRH",
        "outputId": "1ea5ef86-759c-4258-90d1-db692bcfca04",
        "colab": {
          "base_uri": "https://localhost:8080/",
          "height": 669
        }
      },
      "source": [
        "pd.DataFrame(tweets_pmi_scored, columns=['Word','Freq']).head(20)"
      ],
      "execution_count": 1138,
      "outputs": [
        {
          "output_type": "execute_result",
          "data": {
            "text/html": [
              "<div>\n",
              "<style scoped>\n",
              "    .dataframe tbody tr th:only-of-type {\n",
              "        vertical-align: middle;\n",
              "    }\n",
              "\n",
              "    .dataframe tbody tr th {\n",
              "        vertical-align: top;\n",
              "    }\n",
              "\n",
              "    .dataframe thead th {\n",
              "        text-align: right;\n",
              "    }\n",
              "</style>\n",
              "<table border=\"1\" class=\"dataframe\">\n",
              "  <thead>\n",
              "    <tr style=\"text-align: right;\">\n",
              "      <th></th>\n",
              "      <th>Word</th>\n",
              "      <th>Freq</th>\n",
              "    </tr>\n",
              "  </thead>\n",
              "  <tbody>\n",
              "    <tr>\n",
              "      <th>0</th>\n",
              "      <td>(û÷sxsw, goûª)</td>\n",
              "      <td>14.503105</td>\n",
              "    </tr>\n",
              "    <tr>\n",
              "      <th>1</th>\n",
              "      <td>(knitted, staircase)</td>\n",
              "      <td>14.240071</td>\n",
              "    </tr>\n",
              "    <tr>\n",
              "      <th>2</th>\n",
              "      <td>(jc, penney)</td>\n",
              "      <td>14.240071</td>\n",
              "    </tr>\n",
              "    <tr>\n",
              "      <th>3</th>\n",
              "      <td>(naomi, campbell)</td>\n",
              "      <td>14.240071</td>\n",
              "    </tr>\n",
              "    <tr>\n",
              "      <th>4</th>\n",
              "      <td>(parking, 5-10)</td>\n",
              "      <td>14.240071</td>\n",
              "    </tr>\n",
              "    <tr>\n",
              "      <th>5</th>\n",
              "      <td>(pauly, celebs)</td>\n",
              "      <td>14.240071</td>\n",
              "    </tr>\n",
              "    <tr>\n",
              "      <th>6</th>\n",
              "      <td>(98, accuracy)</td>\n",
              "      <td>14.017678</td>\n",
              "    </tr>\n",
              "    <tr>\n",
              "      <th>7</th>\n",
              "      <td>(aron, pilhofer)</td>\n",
              "      <td>14.017678</td>\n",
              "    </tr>\n",
              "    <tr>\n",
              "      <th>8</th>\n",
              "      <td>(charlie, sheen)</td>\n",
              "      <td>14.017678</td>\n",
              "    </tr>\n",
              "    <tr>\n",
              "      <th>9</th>\n",
              "      <td>(follower, swarm)</td>\n",
              "      <td>14.017678</td>\n",
              "    </tr>\n",
              "    <tr>\n",
              "      <th>10</th>\n",
              "      <td>(sheen, goddesses)</td>\n",
              "      <td>14.017678</td>\n",
              "    </tr>\n",
              "    <tr>\n",
              "      <th>11</th>\n",
              "      <td>(swarm, ensues)</td>\n",
              "      <td>14.017678</td>\n",
              "    </tr>\n",
              "    <tr>\n",
              "      <th>12</th>\n",
              "      <td>(alternate, routes)</td>\n",
              "      <td>14.017678</td>\n",
              "    </tr>\n",
              "    <tr>\n",
              "      <th>13</th>\n",
              "      <td>(lynn, teo)</td>\n",
              "      <td>14.017678</td>\n",
              "    </tr>\n",
              "    <tr>\n",
              "      <th>14</th>\n",
              "      <td>(policy, imacs)</td>\n",
              "      <td>13.977036</td>\n",
              "    </tr>\n",
              "    <tr>\n",
              "      <th>15</th>\n",
              "      <td>(cameron, sinclair)</td>\n",
              "      <td>13.825033</td>\n",
              "    </tr>\n",
              "    <tr>\n",
              "      <th>16</th>\n",
              "      <td>(elusive, 'power)</td>\n",
              "      <td>13.825033</td>\n",
              "    </tr>\n",
              "    <tr>\n",
              "      <th>17</th>\n",
              "      <td>(staircase, attendance)</td>\n",
              "      <td>13.825033</td>\n",
              "    </tr>\n",
              "    <tr>\n",
              "      <th>18</th>\n",
              "      <td>(zazzlsxsw, youûªll)</td>\n",
              "      <td>13.825033</td>\n",
              "    </tr>\n",
              "    <tr>\n",
              "      <th>19</th>\n",
              "      <td>(likeability, virgin)</td>\n",
              "      <td>13.754644</td>\n",
              "    </tr>\n",
              "  </tbody>\n",
              "</table>\n",
              "</div>"
            ],
            "text/plain": [
              "                       Word       Freq\n",
              "0          (û÷sxsw, goûª)  14.503105\n",
              "1      (knitted, staircase)  14.240071\n",
              "2              (jc, penney)  14.240071\n",
              "3         (naomi, campbell)  14.240071\n",
              "4           (parking, 5-10)  14.240071\n",
              "5           (pauly, celebs)  14.240071\n",
              "6            (98, accuracy)  14.017678\n",
              "7          (aron, pilhofer)  14.017678\n",
              "8          (charlie, sheen)  14.017678\n",
              "9         (follower, swarm)  14.017678\n",
              "10       (sheen, goddesses)  14.017678\n",
              "11          (swarm, ensues)  14.017678\n",
              "12      (alternate, routes)  14.017678\n",
              "13              (lynn, teo)  14.017678\n",
              "14          (policy, imacs)  13.977036\n",
              "15      (cameron, sinclair)  13.825033\n",
              "16        (elusive, 'power)  13.825033\n",
              "17  (staircase, attendance)  13.825033\n",
              "18    (zazzlsxsw, youûªll)  13.825033\n",
              "19    (likeability, virgin)  13.754644"
            ]
          },
          "metadata": {
            "tags": []
          },
          "execution_count": 1138
        }
      ]
    },
    {
      "cell_type": "code",
      "metadata": {
        "id": "x48-UoVlRDRK",
        "outputId": "75377de9-c5e7-48dc-aadc-d1dc5e25c9fd",
        "colab": {
          "base_uri": "https://localhost:8080/",
          "height": 52
        }
      },
      "source": [
        "\"\"\"\n",
        "Regular Expressions-way to find complicated patterns in text\n",
        "REGEX101\n",
        "\n",
        "pattern = r\"([a-zA-Z]+(?:'[a-z]+)?)\"\n",
        "allowing for there to be apostrophes in words\n",
        "regexp_tokenize(text,pattern)\n",
        "?-there's either 0 or 1 of specific letter\n",
        "you may not have an s after http\n",
        "\"\"\"\n"
      ],
      "execution_count": 1139,
      "outputs": [
        {
          "output_type": "execute_result",
          "data": {
            "application/vnd.google.colaboratory.intrinsic+json": {
              "type": "string"
            },
            "text/plain": [
              "'\\nRegular Expressions-way to find complicated patterns in text\\nREGEX101\\n\\npattern = r\"([a-zA-Z]+(?:\\'[a-z]+)?)\"\\nallowing for there to be apostrophes in words\\nregexp_tokenize(text,pattern)\\n?-there\\'s either 0 or 1 of specific letter\\nyou may not have an s after http\\n'"
            ]
          },
          "metadata": {
            "tags": []
          },
          "execution_count": 1139
        }
      ]
    },
    {
      "cell_type": "code",
      "metadata": {
        "id": "JPBu33r7w0Ya"
      },
      "source": [
        ""
      ],
      "execution_count": 1139,
      "outputs": []
    },
    {
      "cell_type": "markdown",
      "metadata": {
        "id": "BvP_XidqRDRO"
      },
      "source": [
        "### Stemming Lematization"
      ]
    },
    {
      "cell_type": "code",
      "metadata": {
        "id": "1-hDB9OQRDRP",
        "outputId": "070595e3-a7ba-4680-90b9-6e57cfec0031",
        "colab": {
          "base_uri": "https://localhost:8080/"
        }
      },
      "source": [
        "from nltk.stem.wordnet import WordNetLemmatizer\n",
        "\n",
        "nltk.download('wordnet')"
      ],
      "execution_count": 1140,
      "outputs": [
        {
          "output_type": "stream",
          "text": [
            "[nltk_data] Downloading package wordnet to /root/nltk_data...\n",
            "[nltk_data]   Package wordnet is already up-to-date!\n"
          ],
          "name": "stdout"
        },
        {
          "output_type": "execute_result",
          "data": {
            "text/plain": [
              "True"
            ]
          },
          "metadata": {
            "tags": []
          },
          "execution_count": 1140
        }
      ]
    },
    {
      "cell_type": "code",
      "metadata": {
        "id": "wYV9CQB4RDRS",
        "outputId": "49855b8e-afd6-4d8d-e9c4-13fc3cd1f107",
        "colab": {
          "base_uri": "https://localhost:8080/"
        }
      },
      "source": [
        "lemmatizer = WordNetLemmatizer()\n",
        "\n",
        "print(lemmatizer.lemmatize('feet'))\n",
        "print(lemmatizer.lemmatize('running'))"
      ],
      "execution_count": 1141,
      "outputs": [
        {
          "output_type": "stream",
          "text": [
            "foot\n",
            "running\n"
          ],
          "name": "stdout"
        }
      ]
    },
    {
      "cell_type": "code",
      "metadata": {
        "id": "RBP2BNS02M6N"
      },
      "source": [
        ""
      ],
      "execution_count": 1141,
      "outputs": []
    },
    {
      "cell_type": "code",
      "metadata": {
        "id": "45Rj1fuMRDRb"
      },
      "source": [
        "#split data into a train set and test set\n",
        "from sklearn.model_selection import train_test_split"
      ],
      "execution_count": 1142,
      "outputs": []
    },
    {
      "cell_type": "code",
      "metadata": {
        "id": "mgknKPQqRDRe"
      },
      "source": [
        "X = df_data_1['tweet_text']\n",
        "y = df_data_1['label']"
      ],
      "execution_count": 1143,
      "outputs": []
    },
    {
      "cell_type": "code",
      "metadata": {
        "id": "mLp-2fR5xFZE",
        "outputId": "e55780db-736e-4f9d-c57f-1199c1b6f1f0",
        "colab": {
          "base_uri": "https://localhost:8080/"
        }
      },
      "source": [
        "X.head()"
      ],
      "execution_count": 1144,
      "outputs": [
        {
          "output_type": "execute_result",
          "data": {
            "text/plain": [
              "0    .@wesley83 I have a 3G iPhone. After 3 hrs twe...\n",
              "1    @jessedee Know about @fludapp ? Awesome iPad/i...\n",
              "2    @swonderlin Can not wait for #iPad 2 also. The...\n",
              "3    @sxsw I hope this year's festival isn't as cra...\n",
              "4    @sxtxstate great stuff on Fri #SXSW: Marissa M...\n",
              "Name: tweet_text, dtype: object"
            ]
          },
          "metadata": {
            "tags": []
          },
          "execution_count": 1144
        }
      ]
    },
    {
      "cell_type": "code",
      "metadata": {
        "id": "NwPLe6WuRDRh"
      },
      "source": [
        "X_train, X_test, y_train, y_test = train_test_split(X, y, test_size=0.33, random_state=42)"
      ],
      "execution_count": 1145,
      "outputs": []
    },
    {
      "cell_type": "code",
      "metadata": {
        "id": "_XaIhufjRDRl"
      },
      "source": [
        "##get raw text and vectorize it\n",
        "#perform vectorization\n",
        "from sklearn.feature_extraction.text import CountVectorizer"
      ],
      "execution_count": 1146,
      "outputs": []
    },
    {
      "cell_type": "code",
      "metadata": {
        "id": "vG5KOx7eRDRp"
      },
      "source": [
        "#create an instance of countvectorizer\n",
        "count_vect = CountVectorizer()"
      ],
      "execution_count": 1147,
      "outputs": []
    },
    {
      "cell_type": "code",
      "metadata": {
        "id": "gfbd_pZBRDRt"
      },
      "source": [
        "#fit vectorizer to data (build a vocab,count number of words)\n",
        "\n",
        "#transform the orignal text message to vector\n",
        "#fit vocabluary, count # of words, transform X_train so it's numercial vector\n",
        "X_train_counts = count_vect.fit_transform(X_train)"
      ],
      "execution_count": 1148,
      "outputs": []
    },
    {
      "cell_type": "code",
      "metadata": {
        "id": "NVb2RavwRDRx",
        "outputId": "9d50f27f-a7dd-47ac-c7cc-fd97c204c7a0",
        "colab": {
          "base_uri": "https://localhost:8080/"
        }
      },
      "source": [
        "X_train_counts"
      ],
      "execution_count": 1149,
      "outputs": [
        {
          "output_type": "execute_result",
          "data": {
            "text/plain": [
              "<6091x8207 sparse matrix of type '<class 'numpy.int64'>'\n",
              "\twith 99578 stored elements in Compressed Sparse Row format>"
            ]
          },
          "metadata": {
            "tags": []
          },
          "execution_count": 1149
        }
      ]
    },
    {
      "cell_type": "code",
      "metadata": {
        "id": "IOGVIlvZRDR0",
        "outputId": "4dd46af6-6384-4c67-9e2b-f3ed6a8a13c1",
        "colab": {
          "base_uri": "https://localhost:8080/"
        }
      },
      "source": [
        "\"\"\"\n",
        "there were 8207 unique words\n",
        "\n",
        "\"\"\"\n",
        "X_train.shape"
      ],
      "execution_count": 1150,
      "outputs": [
        {
          "output_type": "execute_result",
          "data": {
            "text/plain": [
              "(6091,)"
            ]
          },
          "metadata": {
            "tags": []
          },
          "execution_count": 1150
        }
      ]
    },
    {
      "cell_type": "code",
      "metadata": {
        "id": "XgkA5T56RDR3",
        "outputId": "c03d37d6-5bcd-42b0-936a-833f04dda851",
        "colab": {
          "base_uri": "https://localhost:8080/"
        }
      },
      "source": [
        "\"\"\"\n",
        "messages, vocabulary count #\n",
        "\"\"\"\n",
        "X_train_counts.shape"
      ],
      "execution_count": 1151,
      "outputs": [
        {
          "output_type": "execute_result",
          "data": {
            "text/plain": [
              "(6091, 8207)"
            ]
          },
          "metadata": {
            "tags": []
          },
          "execution_count": 1151
        }
      ]
    },
    {
      "cell_type": "code",
      "metadata": {
        "id": "FHmKVtD7RDR6"
      },
      "source": [
        "\"\"\"\n",
        "#transform the counts to frequencies with tf-idf\n",
        "#then combine sets with tfidf vectorizer\n",
        "#train classifier\n",
        "#build a pipeline\n",
        "Festure Extraction from Text (cont'd)\n",
        "use tf-idf to give words that are more important more weight\n",
        "\"\"\"\n",
        "\n",
        "from sklearn.feature_extraction.text import TfidfTransformer"
      ],
      "execution_count": 1152,
      "outputs": []
    },
    {
      "cell_type": "code",
      "metadata": {
        "id": "imwB_kNoRDR-"
      },
      "source": [
        "tfidf_transformer = TfidfTransformer()"
      ],
      "execution_count": 1153,
      "outputs": []
    },
    {
      "cell_type": "code",
      "metadata": {
        "id": "LcVyiHCBRDSD"
      },
      "source": [
        "X_train_tfidf = tfidf_transformer.fit_transform(X_train_counts)"
      ],
      "execution_count": 1154,
      "outputs": []
    },
    {
      "cell_type": "code",
      "metadata": {
        "id": "g3AgJ0jhRDSF",
        "outputId": "f1575725-4547-4b48-9874-3f9c4fec33df",
        "colab": {
          "base_uri": "https://localhost:8080/"
        }
      },
      "source": [
        "\"\"\"\n",
        "\n",
        "\n",
        "\"\"\"\n",
        "X_train_tfidf.shape"
      ],
      "execution_count": 1155,
      "outputs": [
        {
          "output_type": "execute_result",
          "data": {
            "text/plain": [
              "(6091, 8207)"
            ]
          },
          "metadata": {
            "tags": []
          },
          "execution_count": 1155
        }
      ]
    },
    {
      "cell_type": "code",
      "metadata": {
        "id": "80btEF20RDSI"
      },
      "source": [
        "\"\"\"\n",
        "combines coiuntvectoriation and tfidf\n",
        "\n",
        "\"\"\"\n",
        "from sklearn.feature_extraction.text import TfidfVectorizer"
      ],
      "execution_count": 1156,
      "outputs": []
    },
    {
      "cell_type": "code",
      "metadata": {
        "id": "qL_pKivDRDSM"
      },
      "source": [
        "vectorizer = TfidfVectorizer()"
      ],
      "execution_count": 1157,
      "outputs": []
    },
    {
      "cell_type": "code",
      "metadata": {
        "id": "PtnrGdJyRDSO"
      },
      "source": [
        "X_train_tfidf_1 = vectorizer.fit_transform(X_train)"
      ],
      "execution_count": 1158,
      "outputs": []
    },
    {
      "cell_type": "code",
      "metadata": {
        "id": "Qb1jRummRDSU",
        "outputId": "b3924f6b-b045-4d8b-b5f2-ae9f1ee40305",
        "colab": {
          "base_uri": "https://localhost:8080/"
        }
      },
      "source": [
        "X_train_tfidf_1.shape"
      ],
      "execution_count": 1159,
      "outputs": [
        {
          "output_type": "execute_result",
          "data": {
            "text/plain": [
              "(6091, 8207)"
            ]
          },
          "metadata": {
            "tags": []
          },
          "execution_count": 1159
        }
      ]
    },
    {
      "cell_type": "code",
      "metadata": {
        "id": "2uRKFF6NRDSX"
      },
      "source": [
        "#train a classifier\n",
        "from sklearn.svm import LinearSVC"
      ],
      "execution_count": 1160,
      "outputs": []
    },
    {
      "cell_type": "code",
      "metadata": {
        "id": "dg-REL65RDSZ"
      },
      "source": [
        "clf = LinearSVC()"
      ],
      "execution_count": 1161,
      "outputs": []
    },
    {
      "cell_type": "code",
      "metadata": {
        "id": "Fvd4B0e3RDSc",
        "outputId": "76339e8f-e20e-4e44-8b60-cf88b311ffe7",
        "colab": {
          "base_uri": "https://localhost:8080/"
        }
      },
      "source": [
        "clf.fit(X_train_tfidf,y_train)"
      ],
      "execution_count": 1162,
      "outputs": [
        {
          "output_type": "execute_result",
          "data": {
            "text/plain": [
              "LinearSVC(C=1.0, class_weight=None, dual=True, fit_intercept=True,\n",
              "          intercept_scaling=1, loss='squared_hinge', max_iter=1000,\n",
              "          multi_class='ovr', penalty='l2', random_state=None, tol=0.0001,\n",
              "          verbose=0)"
            ]
          },
          "metadata": {
            "tags": []
          },
          "execution_count": 1162
        }
      ]
    },
    {
      "cell_type": "code",
      "metadata": {
        "id": "UnmEyJWHRDSh"
      },
      "source": [
        "\"\"\"\n",
        "only training set has been vecotrized into full vocaublary\n",
        "pipeline can perform vectorization and classification\n",
        "pipeline is like a regualar mcachine learning model\n",
        "\"\"\"\n",
        "from sklearn.pipeline import Pipeline"
      ],
      "execution_count": 1163,
      "outputs": []
    },
    {
      "cell_type": "code",
      "metadata": {
        "id": "nHqKGh0MRDSj"
      },
      "source": [
        "text_clf = Pipeline([('tfidf',TfidfVectorizer()),('clf',LinearSVC())])"
      ],
      "execution_count": 1164,
      "outputs": []
    },
    {
      "cell_type": "code",
      "metadata": {
        "id": "d-UnunFpRDSl",
        "outputId": "31fe87b8-0cc1-4ccd-a7a1-58049f7cc2fa",
        "colab": {
          "base_uri": "https://localhost:8080/"
        }
      },
      "source": [
        "text_clf.fit(X_train,y_train)"
      ],
      "execution_count": 1165,
      "outputs": [
        {
          "output_type": "execute_result",
          "data": {
            "text/plain": [
              "Pipeline(memory=None,\n",
              "         steps=[('tfidf',\n",
              "                 TfidfVectorizer(analyzer='word', binary=False,\n",
              "                                 decode_error='strict',\n",
              "                                 dtype=<class 'numpy.float64'>,\n",
              "                                 encoding='utf-8', input='content',\n",
              "                                 lowercase=True, max_df=1.0, max_features=None,\n",
              "                                 min_df=1, ngram_range=(1, 1), norm='l2',\n",
              "                                 preprocessor=None, smooth_idf=True,\n",
              "                                 stop_words=None, strip_accents=None,\n",
              "                                 sublinear_tf=False,\n",
              "                                 token_pattern='(?u)\\\\b\\\\w\\\\w+\\\\b',\n",
              "                                 tokenizer=None, use_idf=True,\n",
              "                                 vocabulary=None)),\n",
              "                ('clf',\n",
              "                 LinearSVC(C=1.0, class_weight=None, dual=True,\n",
              "                           fit_intercept=True, intercept_scaling=1,\n",
              "                           loss='squared_hinge', max_iter=1000,\n",
              "                           multi_class='ovr', penalty='l2', random_state=None,\n",
              "                           tol=0.0001, verbose=0))],\n",
              "         verbose=False)"
            ]
          },
          "metadata": {
            "tags": []
          },
          "execution_count": 1165
        }
      ]
    },
    {
      "cell_type": "code",
      "metadata": {
        "id": "Xm1NM8rURDSo"
      },
      "source": [
        "predictions = text_clf.predict(X_test)"
      ],
      "execution_count": 1166,
      "outputs": []
    },
    {
      "cell_type": "code",
      "metadata": {
        "id": "yDGj-oLvRDSq",
        "outputId": "cde1efc1-3011-45db-e471-0618858cafdf",
        "colab": {
          "base_uri": "https://localhost:8080/"
        }
      },
      "source": [
        "predictions"
      ],
      "execution_count": 1167,
      "outputs": [
        {
          "output_type": "execute_result",
          "data": {
            "text/plain": [
              "array(['No emotion toward brand or product', 'Positive emotion',\n",
              "       'No emotion toward brand or product', ...,\n",
              "       'No emotion toward brand or product',\n",
              "       'No emotion toward brand or product',\n",
              "       'No emotion toward brand or product'], dtype=object)"
            ]
          },
          "metadata": {
            "tags": []
          },
          "execution_count": 1167
        }
      ]
    },
    {
      "cell_type": "code",
      "metadata": {
        "id": "WbcRhKXORDSs"
      },
      "source": [
        "from sklearn.metrics import confusion_matrix, classification_report"
      ],
      "execution_count": 1168,
      "outputs": []
    },
    {
      "cell_type": "code",
      "metadata": {
        "id": "JqigQDPkRDSu",
        "outputId": "0b63d8a8-663d-4ebf-c207-b3a75c7907fc",
        "colab": {
          "base_uri": "https://localhost:8080/"
        }
      },
      "source": [
        "print(confusion_matrix(y_test, predictions))"
      ],
      "execution_count": 1169,
      "outputs": [
        {
          "output_type": "stream",
          "text": [
            "[[   1    3   34   11]\n",
            " [   3   54   94   40]\n",
            " [   3   28 1433  296]\n",
            " [   2   21  439  539]]\n"
          ],
          "name": "stdout"
        }
      ]
    },
    {
      "cell_type": "code",
      "metadata": {
        "id": "7X1wfxGnRDSw",
        "outputId": "f2aba798-dbe0-415a-9841-aa59a38197c5",
        "colab": {
          "base_uri": "https://localhost:8080/"
        }
      },
      "source": [
        "print(classification_report(y_test,predictions))"
      ],
      "execution_count": 1170,
      "outputs": [
        {
          "output_type": "stream",
          "text": [
            "                                    precision    recall  f1-score   support\n",
            "\n",
            "                      I can't tell       0.11      0.02      0.03        49\n",
            "                  Negative emotion       0.51      0.28      0.36       191\n",
            "No emotion toward brand or product       0.72      0.81      0.76      1760\n",
            "                  Positive emotion       0.61      0.54      0.57      1001\n",
            "\n",
            "                          accuracy                           0.68      3001\n",
            "                         macro avg       0.49      0.41      0.43      3001\n",
            "                      weighted avg       0.66      0.68      0.66      3001\n",
            "\n"
          ],
          "name": "stdout"
        }
      ]
    },
    {
      "cell_type": "code",
      "metadata": {
        "id": "7LRiHqNWRDSy"
      },
      "source": [
        "from sklearn import metrics"
      ],
      "execution_count": 1171,
      "outputs": []
    },
    {
      "cell_type": "code",
      "metadata": {
        "id": "vRvG4LDPRDS2",
        "outputId": "7a59a299-abf8-483c-f515-faa8dad63e09",
        "colab": {
          "base_uri": "https://localhost:8080/"
        }
      },
      "source": [
        "metrics.accuracy_score(y_test, predictions)"
      ],
      "execution_count": 1172,
      "outputs": [
        {
          "output_type": "execute_result",
          "data": {
            "text/plain": [
              "0.6754415194935022"
            ]
          },
          "metadata": {
            "tags": []
          },
          "execution_count": 1172
        }
      ]
    },
    {
      "cell_type": "code",
      "metadata": {
        "id": "V0wqQmLtRDS5",
        "outputId": "ce3180f9-c77e-4ab1-fa82-356a15e6ee74",
        "colab": {
          "base_uri": "https://localhost:8080/"
        }
      },
      "source": [
        "\"\"\"\n",
        "it is predicting that it's 'No emotion toward'\n",
        "\"\"\"\n",
        "text_clf.predict(['Hi, how are you doing today?'])"
      ],
      "execution_count": 1173,
      "outputs": [
        {
          "output_type": "execute_result",
          "data": {
            "text/plain": [
              "array(['No emotion toward brand or product'], dtype=object)"
            ]
          },
          "metadata": {
            "tags": []
          },
          "execution_count": 1173
        }
      ]
    },
    {
      "cell_type": "code",
      "metadata": {
        "id": "ssYfh3mqRDS7",
        "outputId": "6f29b64a-2c34-428c-ebbc-3d435b13fe4f",
        "colab": {
          "base_uri": "https://localhost:8080/"
        }
      },
      "source": [
        "text_clf.predict(['Congratulation, you have been selected as a winner!!'])"
      ],
      "execution_count": 1174,
      "outputs": [
        {
          "output_type": "execute_result",
          "data": {
            "text/plain": [
              "array(['Positive emotion'], dtype=object)"
            ]
          },
          "metadata": {
            "tags": []
          },
          "execution_count": 1174
        }
      ]
    },
    {
      "cell_type": "code",
      "metadata": {
        "id": "hele3jP1RDS9"
      },
      "source": [
        ""
      ],
      "execution_count": 1174,
      "outputs": []
    },
    {
      "cell_type": "code",
      "metadata": {
        "id": "5XCWAJhmRDS_",
        "outputId": "7e127ffb-e563-4cbf-a8ec-20a3030eaca9",
        "colab": {
          "base_uri": "https://localhost:8080/",
          "height": 204
        }
      },
      "source": [
        "df_data.head()"
      ],
      "execution_count": 1175,
      "outputs": [
        {
          "output_type": "execute_result",
          "data": {
            "text/html": [
              "<div>\n",
              "<style scoped>\n",
              "    .dataframe tbody tr th:only-of-type {\n",
              "        vertical-align: middle;\n",
              "    }\n",
              "\n",
              "    .dataframe tbody tr th {\n",
              "        vertical-align: top;\n",
              "    }\n",
              "\n",
              "    .dataframe thead th {\n",
              "        text-align: right;\n",
              "    }\n",
              "</style>\n",
              "<table border=\"1\" class=\"dataframe\">\n",
              "  <thead>\n",
              "    <tr style=\"text-align: right;\">\n",
              "      <th></th>\n",
              "      <th>tweet_text</th>\n",
              "      <th>label</th>\n",
              "    </tr>\n",
              "  </thead>\n",
              "  <tbody>\n",
              "    <tr>\n",
              "      <th>0</th>\n",
              "      <td>.@wesley83 I have a 3G iPhone. After 3 hrs twe...</td>\n",
              "      <td>Negative emotion</td>\n",
              "    </tr>\n",
              "    <tr>\n",
              "      <th>1</th>\n",
              "      <td>@jessedee Know about @fludapp ? Awesome iPad/i...</td>\n",
              "      <td>Positive emotion</td>\n",
              "    </tr>\n",
              "    <tr>\n",
              "      <th>2</th>\n",
              "      <td>@swonderlin Can not wait for #iPad 2 also. The...</td>\n",
              "      <td>Positive emotion</td>\n",
              "    </tr>\n",
              "    <tr>\n",
              "      <th>3</th>\n",
              "      <td>@sxsw I hope this year's festival isn't as cra...</td>\n",
              "      <td>Negative emotion</td>\n",
              "    </tr>\n",
              "    <tr>\n",
              "      <th>4</th>\n",
              "      <td>@sxtxstate great stuff on Fri #SXSW: Marissa M...</td>\n",
              "      <td>Positive emotion</td>\n",
              "    </tr>\n",
              "  </tbody>\n",
              "</table>\n",
              "</div>"
            ],
            "text/plain": [
              "                                          tweet_text             label\n",
              "0  .@wesley83 I have a 3G iPhone. After 3 hrs twe...  Negative emotion\n",
              "1  @jessedee Know about @fludapp ? Awesome iPad/i...  Positive emotion\n",
              "2  @swonderlin Can not wait for #iPad 2 also. The...  Positive emotion\n",
              "3  @sxsw I hope this year's festival isn't as cra...  Negative emotion\n",
              "4  @sxtxstate great stuff on Fri #SXSW: Marissa M...  Positive emotion"
            ]
          },
          "metadata": {
            "tags": []
          },
          "execution_count": 1175
        }
      ]
    },
    {
      "cell_type": "code",
      "metadata": {
        "id": "ME3z_Og_RDTB",
        "outputId": "d11390ca-d33f-421f-eeda-a9306d9cdbc6",
        "colab": {
          "base_uri": "https://localhost:8080/"
        }
      },
      "source": [
        "df_data['sentiment'] = df_data['label'].replace({\n",
        "               'No emotion toward brand or product':0,\n",
        "               'Positive emotion':1,\n",
        "               'Negative emotion':2,\n",
        "               \"I can't tell\":3})\n"
      ],
      "execution_count": 1176,
      "outputs": [
        {
          "output_type": "stream",
          "text": [
            "/usr/local/lib/python3.6/dist-packages/ipykernel_launcher.py:5: SettingWithCopyWarning: \n",
            "A value is trying to be set on a copy of a slice from a DataFrame.\n",
            "Try using .loc[row_indexer,col_indexer] = value instead\n",
            "\n",
            "See the caveats in the documentation: https://pandas.pydata.org/pandas-docs/stable/user_guide/indexing.html#returning-a-view-versus-a-copy\n",
            "  \"\"\"\n"
          ],
          "name": "stderr"
        }
      ]
    },
    {
      "cell_type": "code",
      "metadata": {
        "id": "gpdNw_-ZRDTL"
      },
      "source": [
        "#df_data = df_data.rename(columns={'oldName1': 'newName1', 'oldName2': 'newName2'})"
      ],
      "execution_count": 1177,
      "outputs": []
    },
    {
      "cell_type": "code",
      "metadata": {
        "id": "T9dMJF7tRDTO",
        "outputId": "7b9fc353-7d19-4aaf-b09c-da7116a2bcb5",
        "colab": {
          "base_uri": "https://localhost:8080/",
          "height": 204
        }
      },
      "source": [
        "df_data.head()"
      ],
      "execution_count": 1178,
      "outputs": [
        {
          "output_type": "execute_result",
          "data": {
            "text/html": [
              "<div>\n",
              "<style scoped>\n",
              "    .dataframe tbody tr th:only-of-type {\n",
              "        vertical-align: middle;\n",
              "    }\n",
              "\n",
              "    .dataframe tbody tr th {\n",
              "        vertical-align: top;\n",
              "    }\n",
              "\n",
              "    .dataframe thead th {\n",
              "        text-align: right;\n",
              "    }\n",
              "</style>\n",
              "<table border=\"1\" class=\"dataframe\">\n",
              "  <thead>\n",
              "    <tr style=\"text-align: right;\">\n",
              "      <th></th>\n",
              "      <th>tweet_text</th>\n",
              "      <th>label</th>\n",
              "      <th>sentiment</th>\n",
              "    </tr>\n",
              "  </thead>\n",
              "  <tbody>\n",
              "    <tr>\n",
              "      <th>0</th>\n",
              "      <td>.@wesley83 I have a 3G iPhone. After 3 hrs twe...</td>\n",
              "      <td>Negative emotion</td>\n",
              "      <td>2</td>\n",
              "    </tr>\n",
              "    <tr>\n",
              "      <th>1</th>\n",
              "      <td>@jessedee Know about @fludapp ? Awesome iPad/i...</td>\n",
              "      <td>Positive emotion</td>\n",
              "      <td>1</td>\n",
              "    </tr>\n",
              "    <tr>\n",
              "      <th>2</th>\n",
              "      <td>@swonderlin Can not wait for #iPad 2 also. The...</td>\n",
              "      <td>Positive emotion</td>\n",
              "      <td>1</td>\n",
              "    </tr>\n",
              "    <tr>\n",
              "      <th>3</th>\n",
              "      <td>@sxsw I hope this year's festival isn't as cra...</td>\n",
              "      <td>Negative emotion</td>\n",
              "      <td>2</td>\n",
              "    </tr>\n",
              "    <tr>\n",
              "      <th>4</th>\n",
              "      <td>@sxtxstate great stuff on Fri #SXSW: Marissa M...</td>\n",
              "      <td>Positive emotion</td>\n",
              "      <td>1</td>\n",
              "    </tr>\n",
              "  </tbody>\n",
              "</table>\n",
              "</div>"
            ],
            "text/plain": [
              "                                          tweet_text  ... sentiment\n",
              "0  .@wesley83 I have a 3G iPhone. After 3 hrs twe...  ...         2\n",
              "1  @jessedee Know about @fludapp ? Awesome iPad/i...  ...         1\n",
              "2  @swonderlin Can not wait for #iPad 2 also. The...  ...         1\n",
              "3  @sxsw I hope this year's festival isn't as cra...  ...         2\n",
              "4  @sxtxstate great stuff on Fri #SXSW: Marissa M...  ...         1\n",
              "\n",
              "[5 rows x 3 columns]"
            ]
          },
          "metadata": {
            "tags": []
          },
          "execution_count": 1178
        }
      ]
    },
    {
      "cell_type": "code",
      "metadata": {
        "id": "xgdbP8JCRDTQ",
        "outputId": "c03603c3-3ed5-4eb4-9987-46c1beb6284c",
        "colab": {
          "base_uri": "https://localhost:8080/"
        }
      },
      "source": [
        "len(df_data)"
      ],
      "execution_count": 1179,
      "outputs": [
        {
          "output_type": "execute_result",
          "data": {
            "text/plain": [
              "9092"
            ]
          },
          "metadata": {
            "tags": []
          },
          "execution_count": 1179
        }
      ]
    },
    {
      "cell_type": "code",
      "metadata": {
        "id": "MvEqfKNDRDTS",
        "outputId": "54b2c948-92a0-4a32-8cf5-35c41d63c51e",
        "colab": {
          "base_uri": "https://localhost:8080/",
          "height": 35
        }
      },
      "source": [
        "df_data['tweet_text'][1]"
      ],
      "execution_count": 1180,
      "outputs": [
        {
          "output_type": "execute_result",
          "data": {
            "application/vnd.google.colaboratory.intrinsic+json": {
              "type": "string"
            },
            "text/plain": [
              "\"@jessedee Know about @fludapp ? Awesome iPad/iPhone app that you'll likely appreciate for its design. Also, they're giving free Ts at #SXSW\""
            ]
          },
          "metadata": {
            "tags": []
          },
          "execution_count": 1180
        }
      ]
    },
    {
      "cell_type": "code",
      "metadata": {
        "id": "BGoyBd5IRDTU",
        "outputId": "13ca411f-d481-4d14-9fc6-c0d3194a6a0b",
        "colab": {
          "base_uri": "https://localhost:8080/"
        }
      },
      "source": [
        "df_data.isnull().sum()"
      ],
      "execution_count": 1181,
      "outputs": [
        {
          "output_type": "execute_result",
          "data": {
            "text/plain": [
              "tweet_text    0\n",
              "label         0\n",
              "sentiment     0\n",
              "dtype: int64"
            ]
          },
          "metadata": {
            "tags": []
          },
          "execution_count": 1181
        }
      ]
    },
    {
      "cell_type": "code",
      "metadata": {
        "id": "yyuzt8eXRDTV",
        "outputId": "a62b7e7f-3ebd-4515-944d-d2c51fc3e88e",
        "colab": {
          "base_uri": "https://localhost:8080/"
        }
      },
      "source": [
        "\"\"\"\n",
        "\n",
        "make sure there is a review there\n",
        "df.drop(blanks, inplace=True)\n",
        "\"\"\"\n",
        "# blanks = []\n",
        "# for i, lb, rv in df_data.itertuples():  #return index of index, label value, review text itself\n",
        "#     if rv.isspace():\n",
        "#         blanks.append(i) #collecting index postion of blank statements\n",
        "# blanks        \n",
        "\n",
        "count = 0\n",
        "for a in df_data: \n",
        "    if (a.isspace()) == True: \n",
        "        count+=1\n",
        "print(count) \n"
      ],
      "execution_count": 1182,
      "outputs": [
        {
          "output_type": "stream",
          "text": [
            "0\n"
          ],
          "name": "stdout"
        }
      ]
    },
    {
      "cell_type": "code",
      "metadata": {
        "id": "JIq0CxWtRDTX"
      },
      "source": [
        ""
      ],
      "execution_count": 1182,
      "outputs": []
    },
    {
      "cell_type": "code",
      "metadata": {
        "id": "c04x0WwiRDTb"
      },
      "source": [
        ""
      ],
      "execution_count": 1182,
      "outputs": []
    },
    {
      "cell_type": "code",
      "metadata": {
        "id": "dmf9Xmh6RDTd"
      },
      "source": [
        "df_data_1 = df_data.copy()"
      ],
      "execution_count": 1183,
      "outputs": []
    },
    {
      "cell_type": "code",
      "metadata": {
        "id": "4uFNNblQRDTf"
      },
      "source": [
        "#df['trump_tweet'] = (df['source']=='Twitter for Android').astype(int)\n",
        "#df_data_1['sentiment'] = (df_data_1['is_there_an_emotion_directed_at_a_brand_or_product']== 'No emotion toward brand or product').astype(int)\n",
        "#df['n'] = df['n'].replace({'a': 'x', 'b': 'y', 'c': 'w', 'd': 'z'})\n",
        "\n",
        "df_data_1['sentiment'] = df_data_1['label'].replace({\n",
        "               'No emotion toward brand or product':0,\n",
        "               'Positive emotion':1,\n",
        "               'Negative emotion':2,\n",
        "               \"I can't tell\":3})\n"
      ],
      "execution_count": 1184,
      "outputs": []
    },
    {
      "cell_type": "code",
      "metadata": {
        "id": "RyIFyLqkRDTh",
        "outputId": "98f74c9a-ac7e-46a9-b211-e6fdc473d0b2",
        "colab": {
          "base_uri": "https://localhost:8080/"
        }
      },
      "source": [
        "\"\"\"\n",
        "0    No emotion toward brand or product\n",
        "1    Positive emotion\n",
        "2    Negative emotion\n",
        "3    I can't tell\n",
        "\n",
        "\"\"\"\n",
        "df_data_1['sentiment'].value_counts()"
      ],
      "execution_count": 1185,
      "outputs": [
        {
          "output_type": "execute_result",
          "data": {
            "text/plain": [
              "0    5388\n",
              "1    2978\n",
              "2     570\n",
              "3     156\n",
              "Name: sentiment, dtype: int64"
            ]
          },
          "metadata": {
            "tags": []
          },
          "execution_count": 1185
        }
      ]
    },
    {
      "cell_type": "code",
      "metadata": {
        "id": "UAV-fZ1FRDTj",
        "outputId": "f6b52385-4c72-419b-e4dc-771e721b51a7",
        "colab": {
          "base_uri": "https://localhost:8080/"
        }
      },
      "source": [
        "df_data_1.isna().sum()"
      ],
      "execution_count": 1186,
      "outputs": [
        {
          "output_type": "execute_result",
          "data": {
            "text/plain": [
              "tweet_text    0\n",
              "label         0\n",
              "sentiment     0\n",
              "dtype: int64"
            ]
          },
          "metadata": {
            "tags": []
          },
          "execution_count": 1186
        }
      ]
    },
    {
      "cell_type": "code",
      "metadata": {
        "id": "70LRYNL1RDTl"
      },
      "source": [
        "import re"
      ],
      "execution_count": 1187,
      "outputs": []
    },
    {
      "cell_type": "code",
      "metadata": {
        "id": "TufKef7DRDTn"
      },
      "source": [
        "def remove_pattern(input_text,pattern):\n",
        "    r = re.findall(pattern,input_text)\n",
        "    for i in r:\n",
        "        input_txt = re.sub(i,'', input_text)\n",
        "        return input_txt"
      ],
      "execution_count": 1188,
      "outputs": []
    },
    {
      "cell_type": "code",
      "metadata": {
        "id": "PfYp-UYHRDTp"
      },
      "source": [
        "df_data_1['tiddy_tweet'] = np.vectorize(remove_pattern)(df_data_1['tweet_text'],'@[\\w]*')"
      ],
      "execution_count": 1189,
      "outputs": []
    },
    {
      "cell_type": "code",
      "metadata": {
        "id": "Z-Sly9T4RDTq",
        "outputId": "6cf194a5-0fe1-48bd-d520-41464c48fa6e",
        "colab": {
          "base_uri": "https://localhost:8080/",
          "height": 359
        }
      },
      "source": [
        "df_data_1.head(10)"
      ],
      "execution_count": 1190,
      "outputs": [
        {
          "output_type": "execute_result",
          "data": {
            "text/html": [
              "<div>\n",
              "<style scoped>\n",
              "    .dataframe tbody tr th:only-of-type {\n",
              "        vertical-align: middle;\n",
              "    }\n",
              "\n",
              "    .dataframe tbody tr th {\n",
              "        vertical-align: top;\n",
              "    }\n",
              "\n",
              "    .dataframe thead th {\n",
              "        text-align: right;\n",
              "    }\n",
              "</style>\n",
              "<table border=\"1\" class=\"dataframe\">\n",
              "  <thead>\n",
              "    <tr style=\"text-align: right;\">\n",
              "      <th></th>\n",
              "      <th>tweet_text</th>\n",
              "      <th>label</th>\n",
              "      <th>sentiment</th>\n",
              "      <th>tiddy_tweet</th>\n",
              "    </tr>\n",
              "  </thead>\n",
              "  <tbody>\n",
              "    <tr>\n",
              "      <th>0</th>\n",
              "      <td>.@wesley83 I have a 3G iPhone. After 3 hrs twe...</td>\n",
              "      <td>Negative emotion</td>\n",
              "      <td>2</td>\n",
              "      <td>. I have a 3G iPhone. After 3 hrs tweeting at ...</td>\n",
              "    </tr>\n",
              "    <tr>\n",
              "      <th>1</th>\n",
              "      <td>@jessedee Know about @fludapp ? Awesome iPad/i...</td>\n",
              "      <td>Positive emotion</td>\n",
              "      <td>1</td>\n",
              "      <td>Know about @fludapp ? Awesome iPad/iPhone app...</td>\n",
              "    </tr>\n",
              "    <tr>\n",
              "      <th>2</th>\n",
              "      <td>@swonderlin Can not wait for #iPad 2 also. The...</td>\n",
              "      <td>Positive emotion</td>\n",
              "      <td>1</td>\n",
              "      <td>Can not wait for #iPad 2 also. They should sa...</td>\n",
              "    </tr>\n",
              "    <tr>\n",
              "      <th>3</th>\n",
              "      <td>@sxsw I hope this year's festival isn't as cra...</td>\n",
              "      <td>Negative emotion</td>\n",
              "      <td>2</td>\n",
              "      <td>I hope this year's festival isn't as crashy a...</td>\n",
              "    </tr>\n",
              "    <tr>\n",
              "      <th>4</th>\n",
              "      <td>@sxtxstate great stuff on Fri #SXSW: Marissa M...</td>\n",
              "      <td>Positive emotion</td>\n",
              "      <td>1</td>\n",
              "      <td>great stuff on Fri #SXSW: Marissa Mayer (Goog...</td>\n",
              "    </tr>\n",
              "    <tr>\n",
              "      <th>5</th>\n",
              "      <td>@teachntech00 New iPad Apps For #SpeechTherapy...</td>\n",
              "      <td>No emotion toward brand or product</td>\n",
              "      <td>0</td>\n",
              "      <td>New iPad Apps For #SpeechTherapy And Communic...</td>\n",
              "    </tr>\n",
              "    <tr>\n",
              "      <th>7</th>\n",
              "      <td>#SXSW is just starting, #CTIA is around the co...</td>\n",
              "      <td>Positive emotion</td>\n",
              "      <td>1</td>\n",
              "      <td>None</td>\n",
              "    </tr>\n",
              "    <tr>\n",
              "      <th>8</th>\n",
              "      <td>Beautifully smart and simple idea RT @madebyma...</td>\n",
              "      <td>Positive emotion</td>\n",
              "      <td>1</td>\n",
              "      <td>Beautifully smart and simple idea RT  @thenext...</td>\n",
              "    </tr>\n",
              "    <tr>\n",
              "      <th>9</th>\n",
              "      <td>Counting down the days to #sxsw plus strong Ca...</td>\n",
              "      <td>Positive emotion</td>\n",
              "      <td>1</td>\n",
              "      <td>None</td>\n",
              "    </tr>\n",
              "    <tr>\n",
              "      <th>10</th>\n",
              "      <td>Excited to meet the @samsungmobileus at #sxsw ...</td>\n",
              "      <td>Positive emotion</td>\n",
              "      <td>1</td>\n",
              "      <td>Excited to meet the  at #sxsw so I can show th...</td>\n",
              "    </tr>\n",
              "  </tbody>\n",
              "</table>\n",
              "</div>"
            ],
            "text/plain": [
              "                                           tweet_text  ...                                        tiddy_tweet\n",
              "0   .@wesley83 I have a 3G iPhone. After 3 hrs twe...  ...  . I have a 3G iPhone. After 3 hrs tweeting at ...\n",
              "1   @jessedee Know about @fludapp ? Awesome iPad/i...  ...   Know about @fludapp ? Awesome iPad/iPhone app...\n",
              "2   @swonderlin Can not wait for #iPad 2 also. The...  ...   Can not wait for #iPad 2 also. They should sa...\n",
              "3   @sxsw I hope this year's festival isn't as cra...  ...   I hope this year's festival isn't as crashy a...\n",
              "4   @sxtxstate great stuff on Fri #SXSW: Marissa M...  ...   great stuff on Fri #SXSW: Marissa Mayer (Goog...\n",
              "5   @teachntech00 New iPad Apps For #SpeechTherapy...  ...   New iPad Apps For #SpeechTherapy And Communic...\n",
              "7   #SXSW is just starting, #CTIA is around the co...  ...                                               None\n",
              "8   Beautifully smart and simple idea RT @madebyma...  ...  Beautifully smart and simple idea RT  @thenext...\n",
              "9   Counting down the days to #sxsw plus strong Ca...  ...                                               None\n",
              "10  Excited to meet the @samsungmobileus at #sxsw ...  ...  Excited to meet the  at #sxsw so I can show th...\n",
              "\n",
              "[10 rows x 4 columns]"
            ]
          },
          "metadata": {
            "tags": []
          },
          "execution_count": 1190
        }
      ]
    },
    {
      "cell_type": "markdown",
      "metadata": {
        "id": "5ISOTLJXRDTs"
      },
      "source": [
        "### Removing Punctuations, Numbers, and special Characters"
      ]
    },
    {
      "cell_type": "code",
      "metadata": {
        "id": "bvC_PGWwRDTt"
      },
      "source": [
        "#replace w/space\n",
        "df_data_1['tiddy_tweet'] = df_data_1['tiddy_tweet'].str.replace('[^a-zA-Z#]+',' ')"
      ],
      "execution_count": 1191,
      "outputs": []
    },
    {
      "cell_type": "code",
      "metadata": {
        "id": "goPyfs-IRDTu",
        "outputId": "197b4576-937a-4ad1-e33d-05bfe05f59f5",
        "colab": {
          "base_uri": "https://localhost:8080/",
          "height": 0
        }
      },
      "source": [
        "df_data_1.head()"
      ],
      "execution_count": 1192,
      "outputs": [
        {
          "output_type": "execute_result",
          "data": {
            "text/html": [
              "<div>\n",
              "<style scoped>\n",
              "    .dataframe tbody tr th:only-of-type {\n",
              "        vertical-align: middle;\n",
              "    }\n",
              "\n",
              "    .dataframe tbody tr th {\n",
              "        vertical-align: top;\n",
              "    }\n",
              "\n",
              "    .dataframe thead th {\n",
              "        text-align: right;\n",
              "    }\n",
              "</style>\n",
              "<table border=\"1\" class=\"dataframe\">\n",
              "  <thead>\n",
              "    <tr style=\"text-align: right;\">\n",
              "      <th></th>\n",
              "      <th>tweet_text</th>\n",
              "      <th>label</th>\n",
              "      <th>sentiment</th>\n",
              "      <th>tiddy_tweet</th>\n",
              "    </tr>\n",
              "  </thead>\n",
              "  <tbody>\n",
              "    <tr>\n",
              "      <th>0</th>\n",
              "      <td>.@wesley83 I have a 3G iPhone. After 3 hrs twe...</td>\n",
              "      <td>Negative emotion</td>\n",
              "      <td>2</td>\n",
              "      <td>I have a G iPhone After hrs tweeting at #RISE...</td>\n",
              "    </tr>\n",
              "    <tr>\n",
              "      <th>1</th>\n",
              "      <td>@jessedee Know about @fludapp ? Awesome iPad/i...</td>\n",
              "      <td>Positive emotion</td>\n",
              "      <td>1</td>\n",
              "      <td>Know about fludapp Awesome iPad iPhone app th...</td>\n",
              "    </tr>\n",
              "    <tr>\n",
              "      <th>2</th>\n",
              "      <td>@swonderlin Can not wait for #iPad 2 also. The...</td>\n",
              "      <td>Positive emotion</td>\n",
              "      <td>1</td>\n",
              "      <td>Can not wait for #iPad also They should sale ...</td>\n",
              "    </tr>\n",
              "    <tr>\n",
              "      <th>3</th>\n",
              "      <td>@sxsw I hope this year's festival isn't as cra...</td>\n",
              "      <td>Negative emotion</td>\n",
              "      <td>2</td>\n",
              "      <td>I hope this year s festival isn t as crashy a...</td>\n",
              "    </tr>\n",
              "    <tr>\n",
              "      <th>4</th>\n",
              "      <td>@sxtxstate great stuff on Fri #SXSW: Marissa M...</td>\n",
              "      <td>Positive emotion</td>\n",
              "      <td>1</td>\n",
              "      <td>great stuff on Fri #SXSW Marissa Mayer Google...</td>\n",
              "    </tr>\n",
              "  </tbody>\n",
              "</table>\n",
              "</div>"
            ],
            "text/plain": [
              "                                          tweet_text  ...                                        tiddy_tweet\n",
              "0  .@wesley83 I have a 3G iPhone. After 3 hrs twe...  ...   I have a G iPhone After hrs tweeting at #RISE...\n",
              "1  @jessedee Know about @fludapp ? Awesome iPad/i...  ...   Know about fludapp Awesome iPad iPhone app th...\n",
              "2  @swonderlin Can not wait for #iPad 2 also. The...  ...   Can not wait for #iPad also They should sale ...\n",
              "3  @sxsw I hope this year's festival isn't as cra...  ...   I hope this year s festival isn t as crashy a...\n",
              "4  @sxtxstate great stuff on Fri #SXSW: Marissa M...  ...   great stuff on Fri #SXSW Marissa Mayer Google...\n",
              "\n",
              "[5 rows x 4 columns]"
            ]
          },
          "metadata": {
            "tags": []
          },
          "execution_count": 1192
        }
      ]
    },
    {
      "cell_type": "code",
      "metadata": {
        "id": "5bAqMTsaRDTw",
        "outputId": "bc9c2f24-bc46-48ad-d240-a00adc19536f",
        "colab": {
          "base_uri": "https://localhost:8080/",
          "height": 0
        }
      },
      "source": [
        "df_data_1"
      ],
      "execution_count": 1193,
      "outputs": [
        {
          "output_type": "execute_result",
          "data": {
            "text/html": [
              "<div>\n",
              "<style scoped>\n",
              "    .dataframe tbody tr th:only-of-type {\n",
              "        vertical-align: middle;\n",
              "    }\n",
              "\n",
              "    .dataframe tbody tr th {\n",
              "        vertical-align: top;\n",
              "    }\n",
              "\n",
              "    .dataframe thead th {\n",
              "        text-align: right;\n",
              "    }\n",
              "</style>\n",
              "<table border=\"1\" class=\"dataframe\">\n",
              "  <thead>\n",
              "    <tr style=\"text-align: right;\">\n",
              "      <th></th>\n",
              "      <th>tweet_text</th>\n",
              "      <th>label</th>\n",
              "      <th>sentiment</th>\n",
              "      <th>tiddy_tweet</th>\n",
              "    </tr>\n",
              "  </thead>\n",
              "  <tbody>\n",
              "    <tr>\n",
              "      <th>0</th>\n",
              "      <td>.@wesley83 I have a 3G iPhone. After 3 hrs twe...</td>\n",
              "      <td>Negative emotion</td>\n",
              "      <td>2</td>\n",
              "      <td>I have a G iPhone After hrs tweeting at #RISE...</td>\n",
              "    </tr>\n",
              "    <tr>\n",
              "      <th>1</th>\n",
              "      <td>@jessedee Know about @fludapp ? Awesome iPad/i...</td>\n",
              "      <td>Positive emotion</td>\n",
              "      <td>1</td>\n",
              "      <td>Know about fludapp Awesome iPad iPhone app th...</td>\n",
              "    </tr>\n",
              "    <tr>\n",
              "      <th>2</th>\n",
              "      <td>@swonderlin Can not wait for #iPad 2 also. The...</td>\n",
              "      <td>Positive emotion</td>\n",
              "      <td>1</td>\n",
              "      <td>Can not wait for #iPad also They should sale ...</td>\n",
              "    </tr>\n",
              "    <tr>\n",
              "      <th>3</th>\n",
              "      <td>@sxsw I hope this year's festival isn't as cra...</td>\n",
              "      <td>Negative emotion</td>\n",
              "      <td>2</td>\n",
              "      <td>I hope this year s festival isn t as crashy a...</td>\n",
              "    </tr>\n",
              "    <tr>\n",
              "      <th>4</th>\n",
              "      <td>@sxtxstate great stuff on Fri #SXSW: Marissa M...</td>\n",
              "      <td>Positive emotion</td>\n",
              "      <td>1</td>\n",
              "      <td>great stuff on Fri #SXSW Marissa Mayer Google...</td>\n",
              "    </tr>\n",
              "    <tr>\n",
              "      <th>...</th>\n",
              "      <td>...</td>\n",
              "      <td>...</td>\n",
              "      <td>...</td>\n",
              "      <td>...</td>\n",
              "    </tr>\n",
              "    <tr>\n",
              "      <th>9088</th>\n",
              "      <td>Ipad everywhere. #SXSW {link}</td>\n",
              "      <td>Positive emotion</td>\n",
              "      <td>1</td>\n",
              "      <td>None</td>\n",
              "    </tr>\n",
              "    <tr>\n",
              "      <th>9089</th>\n",
              "      <td>Wave, buzz... RT @mention We interrupt your re...</td>\n",
              "      <td>No emotion toward brand or product</td>\n",
              "      <td>0</td>\n",
              "      <td>Wave buzz RT We interrupt your regularly sched...</td>\n",
              "    </tr>\n",
              "    <tr>\n",
              "      <th>9090</th>\n",
              "      <td>Google's Zeiger, a physician never reported po...</td>\n",
              "      <td>No emotion toward brand or product</td>\n",
              "      <td>0</td>\n",
              "      <td>None</td>\n",
              "    </tr>\n",
              "    <tr>\n",
              "      <th>9091</th>\n",
              "      <td>Some Verizon iPhone customers complained their...</td>\n",
              "      <td>No emotion toward brand or product</td>\n",
              "      <td>0</td>\n",
              "      <td>None</td>\n",
              "    </tr>\n",
              "    <tr>\n",
              "      <th>9092</th>\n",
              "      <td>Ï¡Ïàü_ÊÎÒ£Áââ_£â_ÛâRT @...</td>\n",
              "      <td>No emotion toward brand or product</td>\n",
              "      <td>0</td>\n",
              "      <td>RT Google Tests Check in Offers At #SXSW link</td>\n",
              "    </tr>\n",
              "  </tbody>\n",
              "</table>\n",
              "<p>9092 rows × 4 columns</p>\n",
              "</div>"
            ],
            "text/plain": [
              "                                             tweet_text  ...                                        tiddy_tweet\n",
              "0     .@wesley83 I have a 3G iPhone. After 3 hrs twe...  ...   I have a G iPhone After hrs tweeting at #RISE...\n",
              "1     @jessedee Know about @fludapp ? Awesome iPad/i...  ...   Know about fludapp Awesome iPad iPhone app th...\n",
              "2     @swonderlin Can not wait for #iPad 2 also. The...  ...   Can not wait for #iPad also They should sale ...\n",
              "3     @sxsw I hope this year's festival isn't as cra...  ...   I hope this year s festival isn t as crashy a...\n",
              "4     @sxtxstate great stuff on Fri #SXSW: Marissa M...  ...   great stuff on Fri #SXSW Marissa Mayer Google...\n",
              "...                                                 ...  ...                                                ...\n",
              "9088                      Ipad everywhere. #SXSW {link}  ...                                               None\n",
              "9089  Wave, buzz... RT @mention We interrupt your re...  ...  Wave buzz RT We interrupt your regularly sched...\n",
              "9090  Google's Zeiger, a physician never reported po...  ...                                               None\n",
              "9091  Some Verizon iPhone customers complained their...  ...                                               None\n",
              "9092  Ï¡Ïàü_ÊÎÒ£Áââ_£â_ÛâRT @...  ...     RT Google Tests Check in Offers At #SXSW link \n",
              "\n",
              "[9092 rows x 4 columns]"
            ]
          },
          "metadata": {
            "tags": []
          },
          "execution_count": 1193
        }
      ]
    },
    {
      "cell_type": "code",
      "metadata": {
        "id": "HCJrLP96RDTy"
      },
      "source": [
        ""
      ],
      "execution_count": 1193,
      "outputs": []
    },
    {
      "cell_type": "code",
      "metadata": {
        "id": "OXbArl3fRDTz"
      },
      "source": [
        "df_1 = df_data.copy()"
      ],
      "execution_count": 1194,
      "outputs": []
    },
    {
      "cell_type": "code",
      "metadata": {
        "id": "7KeozY64RDT1",
        "outputId": "789d370e-cd66-4955-a2bb-3b77740c4e8a",
        "colab": {
          "base_uri": "https://localhost:8080/"
        }
      },
      "source": [
        "df_1.shape"
      ],
      "execution_count": 1195,
      "outputs": [
        {
          "output_type": "execute_result",
          "data": {
            "text/plain": [
              "(9092, 3)"
            ]
          },
          "metadata": {
            "tags": []
          },
          "execution_count": 1195
        }
      ]
    },
    {
      "cell_type": "code",
      "metadata": {
        "id": "MxLvOM4fRDT5",
        "outputId": "80c9e117-036e-4f4b-dd1b-58e6a24d1479",
        "colab": {
          "base_uri": "https://localhost:8080/",
          "height": 0
        }
      },
      "source": [
        "df_1.head()"
      ],
      "execution_count": 1196,
      "outputs": [
        {
          "output_type": "execute_result",
          "data": {
            "text/html": [
              "<div>\n",
              "<style scoped>\n",
              "    .dataframe tbody tr th:only-of-type {\n",
              "        vertical-align: middle;\n",
              "    }\n",
              "\n",
              "    .dataframe tbody tr th {\n",
              "        vertical-align: top;\n",
              "    }\n",
              "\n",
              "    .dataframe thead th {\n",
              "        text-align: right;\n",
              "    }\n",
              "</style>\n",
              "<table border=\"1\" class=\"dataframe\">\n",
              "  <thead>\n",
              "    <tr style=\"text-align: right;\">\n",
              "      <th></th>\n",
              "      <th>tweet_text</th>\n",
              "      <th>label</th>\n",
              "      <th>sentiment</th>\n",
              "    </tr>\n",
              "  </thead>\n",
              "  <tbody>\n",
              "    <tr>\n",
              "      <th>0</th>\n",
              "      <td>.@wesley83 I have a 3G iPhone. After 3 hrs twe...</td>\n",
              "      <td>Negative emotion</td>\n",
              "      <td>2</td>\n",
              "    </tr>\n",
              "    <tr>\n",
              "      <th>1</th>\n",
              "      <td>@jessedee Know about @fludapp ? Awesome iPad/i...</td>\n",
              "      <td>Positive emotion</td>\n",
              "      <td>1</td>\n",
              "    </tr>\n",
              "    <tr>\n",
              "      <th>2</th>\n",
              "      <td>@swonderlin Can not wait for #iPad 2 also. The...</td>\n",
              "      <td>Positive emotion</td>\n",
              "      <td>1</td>\n",
              "    </tr>\n",
              "    <tr>\n",
              "      <th>3</th>\n",
              "      <td>@sxsw I hope this year's festival isn't as cra...</td>\n",
              "      <td>Negative emotion</td>\n",
              "      <td>2</td>\n",
              "    </tr>\n",
              "    <tr>\n",
              "      <th>4</th>\n",
              "      <td>@sxtxstate great stuff on Fri #SXSW: Marissa M...</td>\n",
              "      <td>Positive emotion</td>\n",
              "      <td>1</td>\n",
              "    </tr>\n",
              "  </tbody>\n",
              "</table>\n",
              "</div>"
            ],
            "text/plain": [
              "                                          tweet_text  ... sentiment\n",
              "0  .@wesley83 I have a 3G iPhone. After 3 hrs twe...  ...         2\n",
              "1  @jessedee Know about @fludapp ? Awesome iPad/i...  ...         1\n",
              "2  @swonderlin Can not wait for #iPad 2 also. The...  ...         1\n",
              "3  @sxsw I hope this year's festival isn't as cra...  ...         2\n",
              "4  @sxtxstate great stuff on Fri #SXSW: Marissa M...  ...         1\n",
              "\n",
              "[5 rows x 3 columns]"
            ]
          },
          "metadata": {
            "tags": []
          },
          "execution_count": 1196
        }
      ]
    },
    {
      "cell_type": "code",
      "metadata": {
        "id": "tSXDJLWCRDT7"
      },
      "source": [
        ""
      ],
      "execution_count": 1196,
      "outputs": []
    },
    {
      "cell_type": "code",
      "metadata": {
        "id": "7cJCJzcVRDT-"
      },
      "source": [
        ""
      ],
      "execution_count": 1196,
      "outputs": []
    },
    {
      "cell_type": "code",
      "metadata": {
        "id": "H2oiRyhuRDUA"
      },
      "source": [
        ""
      ],
      "execution_count": 1196,
      "outputs": []
    },
    {
      "cell_type": "markdown",
      "metadata": {
        "id": "9xUTSzOeRDUB"
      },
      "source": [
        "### Remove Short Words"
      ]
    },
    {
      "cell_type": "code",
      "metadata": {
        "id": "Bm0Kp_SWRDUC"
      },
      "source": [
        "#df_data_1['tiddy_tweet'] = df_data_1['tiddy_tweet'].apply(lambda x: [for w in ])"
      ],
      "execution_count": 1197,
      "outputs": []
    },
    {
      "cell_type": "code",
      "metadata": {
        "id": "HxD9pL9MRDUD"
      },
      "source": [
        ""
      ],
      "execution_count": 1197,
      "outputs": []
    },
    {
      "cell_type": "code",
      "metadata": {
        "id": "T0Q21JhzRDUE"
      },
      "source": [
        ""
      ],
      "execution_count": 1197,
      "outputs": []
    },
    {
      "cell_type": "code",
      "metadata": {
        "id": "lHZ5X7C-RDUG",
        "outputId": "98ad02aa-0651-482e-c61f-aa797e420a40",
        "colab": {
          "base_uri": "https://localhost:8080/"
        }
      },
      "source": [
        "df_data['tweet_text'].isnull().values.any()"
      ],
      "execution_count": 1198,
      "outputs": [
        {
          "output_type": "execute_result",
          "data": {
            "text/plain": [
              "False"
            ]
          },
          "metadata": {
            "tags": []
          },
          "execution_count": 1198
        }
      ]
    },
    {
      "cell_type": "code",
      "metadata": {
        "id": "G3eKNonkRDUI",
        "outputId": "01580345-a65a-4b4b-b8fc-f42da413e244",
        "colab": {
          "base_uri": "https://localhost:8080/"
        }
      },
      "source": [
        "df_data['tweet_text'].isna().sum()"
      ],
      "execution_count": 1199,
      "outputs": [
        {
          "output_type": "execute_result",
          "data": {
            "text/plain": [
              "0"
            ]
          },
          "metadata": {
            "tags": []
          },
          "execution_count": 1199
        }
      ]
    },
    {
      "cell_type": "code",
      "metadata": {
        "id": "1yzPPT-xRDUK",
        "outputId": "a09e4029-6305-4108-ccb7-4ac9e61f41e6",
        "colab": {
          "base_uri": "https://localhost:8080/",
          "height": 49
        }
      },
      "source": [
        "df_data[df_data['tweet_text']== np.NaN]"
      ],
      "execution_count": 1200,
      "outputs": [
        {
          "output_type": "execute_result",
          "data": {
            "text/html": [
              "<div>\n",
              "<style scoped>\n",
              "    .dataframe tbody tr th:only-of-type {\n",
              "        vertical-align: middle;\n",
              "    }\n",
              "\n",
              "    .dataframe tbody tr th {\n",
              "        vertical-align: top;\n",
              "    }\n",
              "\n",
              "    .dataframe thead th {\n",
              "        text-align: right;\n",
              "    }\n",
              "</style>\n",
              "<table border=\"1\" class=\"dataframe\">\n",
              "  <thead>\n",
              "    <tr style=\"text-align: right;\">\n",
              "      <th></th>\n",
              "      <th>tweet_text</th>\n",
              "      <th>label</th>\n",
              "      <th>sentiment</th>\n",
              "    </tr>\n",
              "  </thead>\n",
              "  <tbody>\n",
              "  </tbody>\n",
              "</table>\n",
              "</div>"
            ],
            "text/plain": [
              "Empty DataFrame\n",
              "Columns: [tweet_text, label, sentiment]\n",
              "Index: []"
            ]
          },
          "metadata": {
            "tags": []
          },
          "execution_count": 1200
        }
      ]
    },
    {
      "cell_type": "code",
      "metadata": {
        "id": "eldRjR60RDUL",
        "outputId": "5f4d222c-c4fc-45f9-c204-3f1ffc785c81",
        "colab": {
          "base_uri": "https://localhost:8080/",
          "height": 419
        }
      },
      "source": [
        "df"
      ],
      "execution_count": 1201,
      "outputs": [
        {
          "output_type": "execute_result",
          "data": {
            "text/html": [
              "<div>\n",
              "<style scoped>\n",
              "    .dataframe tbody tr th:only-of-type {\n",
              "        vertical-align: middle;\n",
              "    }\n",
              "\n",
              "    .dataframe tbody tr th {\n",
              "        vertical-align: top;\n",
              "    }\n",
              "\n",
              "    .dataframe thead th {\n",
              "        text-align: right;\n",
              "    }\n",
              "</style>\n",
              "<table border=\"1\" class=\"dataframe\">\n",
              "  <thead>\n",
              "    <tr style=\"text-align: right;\">\n",
              "      <th></th>\n",
              "      <th>tweet_text</th>\n",
              "      <th>emotion_in_tweet_is_directed_at</th>\n",
              "      <th>label</th>\n",
              "    </tr>\n",
              "  </thead>\n",
              "  <tbody>\n",
              "    <tr>\n",
              "      <th>0</th>\n",
              "      <td>.@wesley83 I have a 3G iPhone. After 3 hrs twe...</td>\n",
              "      <td>iPhone</td>\n",
              "      <td>Negative emotion</td>\n",
              "    </tr>\n",
              "    <tr>\n",
              "      <th>1</th>\n",
              "      <td>@jessedee Know about @fludapp ? Awesome iPad/i...</td>\n",
              "      <td>iPad or iPhone App</td>\n",
              "      <td>Positive emotion</td>\n",
              "    </tr>\n",
              "    <tr>\n",
              "      <th>2</th>\n",
              "      <td>@swonderlin Can not wait for #iPad 2 also. The...</td>\n",
              "      <td>iPad</td>\n",
              "      <td>Positive emotion</td>\n",
              "    </tr>\n",
              "    <tr>\n",
              "      <th>3</th>\n",
              "      <td>@sxsw I hope this year's festival isn't as cra...</td>\n",
              "      <td>iPad or iPhone App</td>\n",
              "      <td>Negative emotion</td>\n",
              "    </tr>\n",
              "    <tr>\n",
              "      <th>4</th>\n",
              "      <td>@sxtxstate great stuff on Fri #SXSW: Marissa M...</td>\n",
              "      <td>Google</td>\n",
              "      <td>Positive emotion</td>\n",
              "    </tr>\n",
              "    <tr>\n",
              "      <th>...</th>\n",
              "      <td>...</td>\n",
              "      <td>...</td>\n",
              "      <td>...</td>\n",
              "    </tr>\n",
              "    <tr>\n",
              "      <th>9088</th>\n",
              "      <td>Ipad everywhere. #SXSW {link}</td>\n",
              "      <td>iPad</td>\n",
              "      <td>Positive emotion</td>\n",
              "    </tr>\n",
              "    <tr>\n",
              "      <th>9089</th>\n",
              "      <td>Wave, buzz... RT @mention We interrupt your re...</td>\n",
              "      <td>NaN</td>\n",
              "      <td>No emotion toward brand or product</td>\n",
              "    </tr>\n",
              "    <tr>\n",
              "      <th>9090</th>\n",
              "      <td>Google's Zeiger, a physician never reported po...</td>\n",
              "      <td>NaN</td>\n",
              "      <td>No emotion toward brand or product</td>\n",
              "    </tr>\n",
              "    <tr>\n",
              "      <th>9091</th>\n",
              "      <td>Some Verizon iPhone customers complained their...</td>\n",
              "      <td>NaN</td>\n",
              "      <td>No emotion toward brand or product</td>\n",
              "    </tr>\n",
              "    <tr>\n",
              "      <th>9092</th>\n",
              "      <td>Ï¡Ïàü_ÊÎÒ£Áââ_£â_ÛâRT @...</td>\n",
              "      <td>NaN</td>\n",
              "      <td>No emotion toward brand or product</td>\n",
              "    </tr>\n",
              "  </tbody>\n",
              "</table>\n",
              "<p>9093 rows × 3 columns</p>\n",
              "</div>"
            ],
            "text/plain": [
              "                                             tweet_text  ...                               label\n",
              "0     .@wesley83 I have a 3G iPhone. After 3 hrs twe...  ...                    Negative emotion\n",
              "1     @jessedee Know about @fludapp ? Awesome iPad/i...  ...                    Positive emotion\n",
              "2     @swonderlin Can not wait for #iPad 2 also. The...  ...                    Positive emotion\n",
              "3     @sxsw I hope this year's festival isn't as cra...  ...                    Negative emotion\n",
              "4     @sxtxstate great stuff on Fri #SXSW: Marissa M...  ...                    Positive emotion\n",
              "...                                                 ...  ...                                 ...\n",
              "9088                      Ipad everywhere. #SXSW {link}  ...                    Positive emotion\n",
              "9089  Wave, buzz... RT @mention We interrupt your re...  ...  No emotion toward brand or product\n",
              "9090  Google's Zeiger, a physician never reported po...  ...  No emotion toward brand or product\n",
              "9091  Some Verizon iPhone customers complained their...  ...  No emotion toward brand or product\n",
              "9092  Ï¡Ïàü_ÊÎÒ£Áââ_£â_ÛâRT @...  ...  No emotion toward brand or product\n",
              "\n",
              "[9093 rows x 3 columns]"
            ]
          },
          "metadata": {
            "tags": []
          },
          "execution_count": 1201
        }
      ]
    },
    {
      "cell_type": "code",
      "metadata": {
        "id": "FgQC0yHcRDUN",
        "outputId": "0729e451-3ab2-4104-8ee9-fba8eee5bc1b",
        "colab": {
          "base_uri": "https://localhost:8080/"
        }
      },
      "source": [
        "## Create a variable \"corpus\" containing all text\n",
        "\n",
        "corpus = df_data['tweet_text'].to_list()\n",
        "corpus[:10]"
      ],
      "execution_count": 1202,
      "outputs": [
        {
          "output_type": "execute_result",
          "data": {
            "text/plain": [
              "['.@wesley83 I have a 3G iPhone. After 3 hrs tweeting at #RISE_Austin, it was dead!  I need to upgrade. Plugin stations at #SXSW.',\n",
              " \"@jessedee Know about @fludapp ? Awesome iPad/iPhone app that you'll likely appreciate for its design. Also, they're giving free Ts at #SXSW\",\n",
              " '@swonderlin Can not wait for #iPad 2 also. They should sale them down at #SXSW.',\n",
              " \"@sxsw I hope this year's festival isn't as crashy as this year's iPhone app. #sxsw\",\n",
              " \"@sxtxstate great stuff on Fri #SXSW: Marissa Mayer (Google), Tim O'Reilly (tech books/conferences) &amp; Matt Mullenweg (Wordpress)\",\n",
              " '@teachntech00 New iPad Apps For #SpeechTherapy And Communication Are Showcased At The #SXSW Conference http://ht.ly/49n4M #iear #edchat #asd',\n",
              " '#SXSW is just starting, #CTIA is around the corner and #googleio is only a hop skip and a jump from there, good time to be an #android fan',\n",
              " 'Beautifully smart and simple idea RT @madebymany @thenextweb wrote about our #hollergram iPad app for #sxsw! http://bit.ly/ieaVOB',\n",
              " 'Counting down the days to #sxsw plus strong Canadian dollar means stock up on Apple gear',\n",
              " 'Excited to meet the @samsungmobileus at #sxsw so I can show them my Sprint Galaxy S still running Android 2.1.   #fail']"
            ]
          },
          "metadata": {
            "tags": []
          },
          "execution_count": 1202
        }
      ]
    },
    {
      "cell_type": "code",
      "metadata": {
        "id": "SG8skEuwRDUR"
      },
      "source": [
        "#Make a Bag-of-Words Frequency Distribution\n",
        "from nltk import FreqDist"
      ],
      "execution_count": 1203,
      "outputs": []
    },
    {
      "cell_type": "code",
      "metadata": {
        "id": "Nao2uD7FRDUT"
      },
      "source": [
        ""
      ],
      "execution_count": 1203,
      "outputs": []
    },
    {
      "cell_type": "code",
      "metadata": {
        "id": "J9HYRQXmRDUU",
        "outputId": "454b6944-21de-45c2-e45c-25200faa94af",
        "colab": {
          "base_uri": "https://localhost:8080/"
        }
      },
      "source": [
        "#values = ','.join(str(v) for v in corpus)\n",
        "freq = FreqDist(','.join(corpus))\n",
        "## Display 100 most common words\n",
        "freq.most_common(100)\n"
      ],
      "execution_count": 1204,
      "outputs": [
        {
          "output_type": "execute_result",
          "data": {
            "text/plain": [
              "[(' ', 153873),\n",
              " ('e', 72593),\n",
              " ('o', 62850),\n",
              " ('n', 56651),\n",
              " ('t', 55549),\n",
              " ('i', 51978),\n",
              " ('a', 46024),\n",
              " ('s', 43823),\n",
              " ('r', 31903),\n",
              " ('l', 30420),\n",
              " ('h', 21549),\n",
              " ('p', 21506),\n",
              " ('d', 20073),\n",
              " ('m', 19206),\n",
              " ('u', 18363),\n",
              " ('w', 15979),\n",
              " ('#', 15875),\n",
              " ('g', 15602),\n",
              " ('c', 14950),\n",
              " ('S', 13550),\n",
              " (',', 12649),\n",
              " ('y', 11753),\n",
              " ('k', 10404),\n",
              " ('f', 9839),\n",
              " ('.', 8382),\n",
              " ('b', 7514),\n",
              " ('@', 7194),\n",
              " ('W', 6831),\n",
              " ('x', 6460),\n",
              " ('T', 5977),\n",
              " ('P', 5701),\n",
              " ('A', 5597),\n",
              " ('v', 5258),\n",
              " ('X', 5211),\n",
              " ('}', 4298),\n",
              " ('{', 4296),\n",
              " ('R', 3865),\n",
              " ('G', 3585),\n",
              " ('I', 2982),\n",
              " (\"'\", 2903),\n",
              " (';', 2800),\n",
              " ('&', 2707),\n",
              " ('C', 2689),\n",
              " ('-', 2438),\n",
              " ('M', 2412),\n",
              " ('!', 2398),\n",
              " (':', 2310),\n",
              " ('2', 2213),\n",
              " ('q', 2098),\n",
              " ('N', 1898),\n",
              " ('?', 1659),\n",
              " ('B', 1476),\n",
              " ('L', 1446),\n",
              " ('D', 1332),\n",
              " ('H', 1295),\n",
              " ('1', 1248),\n",
              " ('F', 1161),\n",
              " ('O', 1110),\n",
              " ('j', 1054),\n",
              " ('0', 1040),\n",
              " ('/', 1019),\n",
              " ('E', 1013),\n",
              " (')', 801),\n",
              " ('(', 770),\n",
              " ('U', 740),\n",
              " ('z', 721),\n",
              " ('\\x89', 691),\n",
              " ('3', 616),\n",
              " ('Û', 582),\n",
              " ('J', 563),\n",
              " ('4', 523),\n",
              " ('5', 493),\n",
              " ('V', 446),\n",
              " ('Y', 430),\n",
              " ('_', 318),\n",
              " ('6', 318),\n",
              " ('9', 314),\n",
              " ('K', 251),\n",
              " ('Ï', 216),\n",
              " ('\\n', 195),\n",
              " ('8', 191),\n",
              " ('7', 187),\n",
              " ('[', 183),\n",
              " (']', 182),\n",
              " ('+', 166),\n",
              " ('Q', 164),\n",
              " ('$', 157),\n",
              " ('\\x9d', 152),\n",
              " ('%', 149),\n",
              " ('Z', 96),\n",
              " ('ª', 96),\n",
              " ('*', 95),\n",
              " ('=', 91),\n",
              " ('÷', 88),\n",
              " ('|', 82),\n",
              " ('~', 50),\n",
              " ('¼', 40),\n",
              " ('^', 38),\n",
              " ('\\x8b', 37),\n",
              " ('å', 35)]"
            ]
          },
          "metadata": {
            "tags": []
          },
          "execution_count": 1204
        }
      ]
    },
    {
      "cell_type": "code",
      "metadata": {
        "id": "63_MmsqNRDUW",
        "outputId": "fb9cb68f-fd75-4cec-e970-dab601995222",
        "colab": {
          "base_uri": "https://localhost:8080/"
        }
      },
      "source": [
        "#fdist1[100]\n",
        "import nltk\n",
        "nltk.download('punkt')"
      ],
      "execution_count": 1205,
      "outputs": [
        {
          "output_type": "stream",
          "text": [
            "[nltk_data] Downloading package punkt to /root/nltk_data...\n",
            "[nltk_data]   Package punkt is already up-to-date!\n"
          ],
          "name": "stdout"
        },
        {
          "output_type": "execute_result",
          "data": {
            "text/plain": [
              "True"
            ]
          },
          "metadata": {
            "tags": []
          },
          "execution_count": 1205
        }
      ]
    },
    {
      "cell_type": "code",
      "metadata": {
        "id": "DUgyCjEXRDUa",
        "outputId": "a2a8d268-0bf2-4bed-c52f-16d900cc2b93",
        "colab": {
          "base_uri": "https://localhost:8080/"
        }
      },
      "source": [
        "from nltk import word_tokenize\n",
        "tokens = word_tokenize(','.join(corpus))\n",
        "tokens[:100]"
      ],
      "execution_count": 1206,
      "outputs": [
        {
          "output_type": "execute_result",
          "data": {
            "text/plain": [
              "['.',\n",
              " '@',\n",
              " 'wesley83',\n",
              " 'I',\n",
              " 'have',\n",
              " 'a',\n",
              " '3G',\n",
              " 'iPhone',\n",
              " '.',\n",
              " 'After',\n",
              " '3',\n",
              " 'hrs',\n",
              " 'tweeting',\n",
              " 'at',\n",
              " '#',\n",
              " 'RISE_Austin',\n",
              " ',',\n",
              " 'it',\n",
              " 'was',\n",
              " 'dead',\n",
              " '!',\n",
              " 'I',\n",
              " 'need',\n",
              " 'to',\n",
              " 'upgrade',\n",
              " '.',\n",
              " 'Plugin',\n",
              " 'stations',\n",
              " 'at',\n",
              " '#',\n",
              " 'SXSW.',\n",
              " ',',\n",
              " '@',\n",
              " 'jessedee',\n",
              " 'Know',\n",
              " 'about',\n",
              " '@',\n",
              " 'fludapp',\n",
              " '?',\n",
              " 'Awesome',\n",
              " 'iPad/iPhone',\n",
              " 'app',\n",
              " 'that',\n",
              " 'you',\n",
              " \"'ll\",\n",
              " 'likely',\n",
              " 'appreciate',\n",
              " 'for',\n",
              " 'its',\n",
              " 'design',\n",
              " '.',\n",
              " 'Also',\n",
              " ',',\n",
              " 'they',\n",
              " \"'re\",\n",
              " 'giving',\n",
              " 'free',\n",
              " 'Ts',\n",
              " 'at',\n",
              " '#',\n",
              " 'SXSW',\n",
              " ',',\n",
              " '@',\n",
              " 'swonderlin',\n",
              " 'Can',\n",
              " 'not',\n",
              " 'wait',\n",
              " 'for',\n",
              " '#',\n",
              " 'iPad',\n",
              " '2',\n",
              " 'also',\n",
              " '.',\n",
              " 'They',\n",
              " 'should',\n",
              " 'sale',\n",
              " 'them',\n",
              " 'down',\n",
              " 'at',\n",
              " '#',\n",
              " 'SXSW.',\n",
              " ',',\n",
              " '@',\n",
              " 'sxsw',\n",
              " 'I',\n",
              " 'hope',\n",
              " 'this',\n",
              " 'year',\n",
              " \"'s\",\n",
              " 'festival',\n",
              " 'is',\n",
              " \"n't\",\n",
              " 'as',\n",
              " 'crashy',\n",
              " 'as',\n",
              " 'this',\n",
              " 'year',\n",
              " \"'s\",\n",
              " 'iPhone',\n",
              " 'app']"
            ]
          },
          "metadata": {
            "tags": []
          },
          "execution_count": 1206
        }
      ]
    },
    {
      "cell_type": "code",
      "metadata": {
        "id": "c5MAi-NCRDUb",
        "outputId": "b232e3d6-e4ce-47e7-c030-e9fb39e18dbe",
        "colab": {
          "base_uri": "https://localhost:8080/"
        }
      },
      "source": [
        "freq = FreqDist(tokens)\n",
        "freq.most_common(100)"
      ],
      "execution_count": 1207,
      "outputs": [
        {
          "output_type": "execute_result",
          "data": {
            "text/plain": [
              "[('#', 15875),\n",
              " (',', 12553),\n",
              " ('@', 7194),\n",
              " ('mention', 7119),\n",
              " ('.', 4957),\n",
              " ('SXSW', 4735),\n",
              " ('sxsw', 4476),\n",
              " ('link', 4311),\n",
              " ('}', 4298),\n",
              " ('{', 4296),\n",
              " ('the', 3926),\n",
              " ('to', 3519),\n",
              " ('RT', 2945),\n",
              " ('at', 2859),\n",
              " (';', 2800),\n",
              " ('&', 2707),\n",
              " ('for', 2439),\n",
              " ('!', 2398),\n",
              " ('a', 2172),\n",
              " ('Google', 2134),\n",
              " ('iPad', 2115),\n",
              " (':', 2075),\n",
              " ('Apple', 1879),\n",
              " ('in', 1830),\n",
              " ('quot', 1696),\n",
              " ('of', 1691),\n",
              " ('?', 1659),\n",
              " ('is', 1647),\n",
              " ('and', 1525),\n",
              " ('I', 1457),\n",
              " ('iPhone', 1298),\n",
              " ('on', 1271),\n",
              " (\"'s\", 1232),\n",
              " ('2', 1114),\n",
              " ('store', 1046),\n",
              " ('-', 972),\n",
              " ('you', 944),\n",
              " ('Austin', 900),\n",
              " ('an', 853),\n",
              " ('amp', 836),\n",
              " ('with', 804),\n",
              " (')', 801),\n",
              " ('up', 778),\n",
              " ('(', 770),\n",
              " ('it', 764),\n",
              " ('my', 711),\n",
              " ('...', 643),\n",
              " ('app', 630),\n",
              " ('Circles', 582),\n",
              " ('new', 566),\n",
              " ('be', 544),\n",
              " ('New', 518),\n",
              " ('from', 505),\n",
              " ('this', 496),\n",
              " ('by', 485),\n",
              " ('The', 483),\n",
              " (\"n't\", 478),\n",
              " ('out', 478),\n",
              " ('that', 465),\n",
              " ('are', 456),\n",
              " ('google', 448),\n",
              " ('Android', 445),\n",
              " ('your', 431),\n",
              " ('not', 426),\n",
              " ('Store', 423),\n",
              " ('apple', 417),\n",
              " ('have', 414),\n",
              " ('via', 397),\n",
              " ('Social', 382),\n",
              " ('about', 373),\n",
              " ('line', 351),\n",
              " ('just', 345),\n",
              " ('launch', 341),\n",
              " ('will', 326),\n",
              " ('me', 326),\n",
              " ('today', 324),\n",
              " ('pop-up', 319),\n",
              " ('Launch', 312),\n",
              " ('Network', 311),\n",
              " ('do', 310),\n",
              " ('now', 305),\n",
              " ('get', 291),\n",
              " ('Called', 280),\n",
              " ('free', 276),\n",
              " ('party', 274),\n",
              " ('one', 272),\n",
              " ('like', 269),\n",
              " ('Major', 269),\n",
              " ('or', 269),\n",
              " ('has', 267),\n",
              " (\"'re\", 265),\n",
              " ('social', 265),\n",
              " ('iPad2', 264),\n",
              " ('but', 263),\n",
              " ('It', 260),\n",
              " ('they', 257),\n",
              " ('all', 256),\n",
              " (\"'m\", 254),\n",
              " ('ipad', 251),\n",
              " ('Today', 250)]"
            ]
          },
          "metadata": {
            "tags": []
          },
          "execution_count": 1207
        }
      ]
    },
    {
      "cell_type": "code",
      "metadata": {
        "id": "OmbYZ-38RDUd",
        "outputId": "1ecd2e10-3bba-4ac5-eeeb-4ffb63b374fe",
        "colab": {
          "base_uri": "https://localhost:8080/"
        }
      },
      "source": [
        "from nltk.corpus import stopwords\n",
        "import string\n",
        "\n",
        "import nltk\n",
        "nltk.download('stopwords')"
      ],
      "execution_count": 1208,
      "outputs": [
        {
          "output_type": "stream",
          "text": [
            "[nltk_data] Downloading package stopwords to /root/nltk_data...\n",
            "[nltk_data]   Package stopwords is already up-to-date!\n"
          ],
          "name": "stdout"
        },
        {
          "output_type": "execute_result",
          "data": {
            "text/plain": [
              "True"
            ]
          },
          "metadata": {
            "tags": []
          },
          "execution_count": 1208
        }
      ]
    },
    {
      "cell_type": "code",
      "metadata": {
        "id": "6ccqk23_RDUf",
        "outputId": "00f437d8-676a-45d2-c94d-037d61234dc1",
        "colab": {
          "base_uri": "https://localhost:8080/"
        }
      },
      "source": [
        "# Get all the stop words in the English language\n",
        "stopwords_list = stopwords.words('english')\n",
        "stopwords_list"
      ],
      "execution_count": 1209,
      "outputs": [
        {
          "output_type": "execute_result",
          "data": {
            "text/plain": [
              "['i',\n",
              " 'me',\n",
              " 'my',\n",
              " 'myself',\n",
              " 'we',\n",
              " 'our',\n",
              " 'ours',\n",
              " 'ourselves',\n",
              " 'you',\n",
              " \"you're\",\n",
              " \"you've\",\n",
              " \"you'll\",\n",
              " \"you'd\",\n",
              " 'your',\n",
              " 'yours',\n",
              " 'yourself',\n",
              " 'yourselves',\n",
              " 'he',\n",
              " 'him',\n",
              " 'his',\n",
              " 'himself',\n",
              " 'she',\n",
              " \"she's\",\n",
              " 'her',\n",
              " 'hers',\n",
              " 'herself',\n",
              " 'it',\n",
              " \"it's\",\n",
              " 'its',\n",
              " 'itself',\n",
              " 'they',\n",
              " 'them',\n",
              " 'their',\n",
              " 'theirs',\n",
              " 'themselves',\n",
              " 'what',\n",
              " 'which',\n",
              " 'who',\n",
              " 'whom',\n",
              " 'this',\n",
              " 'that',\n",
              " \"that'll\",\n",
              " 'these',\n",
              " 'those',\n",
              " 'am',\n",
              " 'is',\n",
              " 'are',\n",
              " 'was',\n",
              " 'were',\n",
              " 'be',\n",
              " 'been',\n",
              " 'being',\n",
              " 'have',\n",
              " 'has',\n",
              " 'had',\n",
              " 'having',\n",
              " 'do',\n",
              " 'does',\n",
              " 'did',\n",
              " 'doing',\n",
              " 'a',\n",
              " 'an',\n",
              " 'the',\n",
              " 'and',\n",
              " 'but',\n",
              " 'if',\n",
              " 'or',\n",
              " 'because',\n",
              " 'as',\n",
              " 'until',\n",
              " 'while',\n",
              " 'of',\n",
              " 'at',\n",
              " 'by',\n",
              " 'for',\n",
              " 'with',\n",
              " 'about',\n",
              " 'against',\n",
              " 'between',\n",
              " 'into',\n",
              " 'through',\n",
              " 'during',\n",
              " 'before',\n",
              " 'after',\n",
              " 'above',\n",
              " 'below',\n",
              " 'to',\n",
              " 'from',\n",
              " 'up',\n",
              " 'down',\n",
              " 'in',\n",
              " 'out',\n",
              " 'on',\n",
              " 'off',\n",
              " 'over',\n",
              " 'under',\n",
              " 'again',\n",
              " 'further',\n",
              " 'then',\n",
              " 'once',\n",
              " 'here',\n",
              " 'there',\n",
              " 'when',\n",
              " 'where',\n",
              " 'why',\n",
              " 'how',\n",
              " 'all',\n",
              " 'any',\n",
              " 'both',\n",
              " 'each',\n",
              " 'few',\n",
              " 'more',\n",
              " 'most',\n",
              " 'other',\n",
              " 'some',\n",
              " 'such',\n",
              " 'no',\n",
              " 'nor',\n",
              " 'not',\n",
              " 'only',\n",
              " 'own',\n",
              " 'same',\n",
              " 'so',\n",
              " 'than',\n",
              " 'too',\n",
              " 'very',\n",
              " 's',\n",
              " 't',\n",
              " 'can',\n",
              " 'will',\n",
              " 'just',\n",
              " 'don',\n",
              " \"don't\",\n",
              " 'should',\n",
              " \"should've\",\n",
              " 'now',\n",
              " 'd',\n",
              " 'll',\n",
              " 'm',\n",
              " 'o',\n",
              " 're',\n",
              " 've',\n",
              " 'y',\n",
              " 'ain',\n",
              " 'aren',\n",
              " \"aren't\",\n",
              " 'couldn',\n",
              " \"couldn't\",\n",
              " 'didn',\n",
              " \"didn't\",\n",
              " 'doesn',\n",
              " \"doesn't\",\n",
              " 'hadn',\n",
              " \"hadn't\",\n",
              " 'hasn',\n",
              " \"hasn't\",\n",
              " 'haven',\n",
              " \"haven't\",\n",
              " 'isn',\n",
              " \"isn't\",\n",
              " 'ma',\n",
              " 'mightn',\n",
              " \"mightn't\",\n",
              " 'mustn',\n",
              " \"mustn't\",\n",
              " 'needn',\n",
              " \"needn't\",\n",
              " 'shan',\n",
              " \"shan't\",\n",
              " 'shouldn',\n",
              " \"shouldn't\",\n",
              " 'wasn',\n",
              " \"wasn't\",\n",
              " 'weren',\n",
              " \"weren't\",\n",
              " 'won',\n",
              " \"won't\",\n",
              " 'wouldn',\n",
              " \"wouldn't\"]"
            ]
          },
          "metadata": {
            "tags": []
          },
          "execution_count": 1209
        }
      ]
    },
    {
      "cell_type": "code",
      "metadata": {
        "id": "nMhZNkH1RDUg"
      },
      "source": [
        "df_1 = df.copy()"
      ],
      "execution_count": 1210,
      "outputs": []
    },
    {
      "cell_type": "code",
      "metadata": {
        "id": "NgOF84aQvY0G"
      },
      "source": [
        ""
      ],
      "execution_count": 1210,
      "outputs": []
    },
    {
      "cell_type": "code",
      "metadata": {
        "id": "T2a3O0iwRDUi",
        "outputId": "ed423a2d-ca2d-407e-f6bd-034f9714d5e5",
        "colab": {
          "base_uri": "https://localhost:8080/",
          "height": 204
        }
      },
      "source": [
        "df_1.head()"
      ],
      "execution_count": 1211,
      "outputs": [
        {
          "output_type": "execute_result",
          "data": {
            "text/html": [
              "<div>\n",
              "<style scoped>\n",
              "    .dataframe tbody tr th:only-of-type {\n",
              "        vertical-align: middle;\n",
              "    }\n",
              "\n",
              "    .dataframe tbody tr th {\n",
              "        vertical-align: top;\n",
              "    }\n",
              "\n",
              "    .dataframe thead th {\n",
              "        text-align: right;\n",
              "    }\n",
              "</style>\n",
              "<table border=\"1\" class=\"dataframe\">\n",
              "  <thead>\n",
              "    <tr style=\"text-align: right;\">\n",
              "      <th></th>\n",
              "      <th>tweet_text</th>\n",
              "      <th>emotion_in_tweet_is_directed_at</th>\n",
              "      <th>label</th>\n",
              "    </tr>\n",
              "  </thead>\n",
              "  <tbody>\n",
              "    <tr>\n",
              "      <th>0</th>\n",
              "      <td>.@wesley83 I have a 3G iPhone. After 3 hrs twe...</td>\n",
              "      <td>iPhone</td>\n",
              "      <td>Negative emotion</td>\n",
              "    </tr>\n",
              "    <tr>\n",
              "      <th>1</th>\n",
              "      <td>@jessedee Know about @fludapp ? Awesome iPad/i...</td>\n",
              "      <td>iPad or iPhone App</td>\n",
              "      <td>Positive emotion</td>\n",
              "    </tr>\n",
              "    <tr>\n",
              "      <th>2</th>\n",
              "      <td>@swonderlin Can not wait for #iPad 2 also. The...</td>\n",
              "      <td>iPad</td>\n",
              "      <td>Positive emotion</td>\n",
              "    </tr>\n",
              "    <tr>\n",
              "      <th>3</th>\n",
              "      <td>@sxsw I hope this year's festival isn't as cra...</td>\n",
              "      <td>iPad or iPhone App</td>\n",
              "      <td>Negative emotion</td>\n",
              "    </tr>\n",
              "    <tr>\n",
              "      <th>4</th>\n",
              "      <td>@sxtxstate great stuff on Fri #SXSW: Marissa M...</td>\n",
              "      <td>Google</td>\n",
              "      <td>Positive emotion</td>\n",
              "    </tr>\n",
              "  </tbody>\n",
              "</table>\n",
              "</div>"
            ],
            "text/plain": [
              "                                          tweet_text  ...             label\n",
              "0  .@wesley83 I have a 3G iPhone. After 3 hrs twe...  ...  Negative emotion\n",
              "1  @jessedee Know about @fludapp ? Awesome iPad/i...  ...  Positive emotion\n",
              "2  @swonderlin Can not wait for #iPad 2 also. The...  ...  Positive emotion\n",
              "3  @sxsw I hope this year's festival isn't as cra...  ...  Negative emotion\n",
              "4  @sxtxstate great stuff on Fri #SXSW: Marissa M...  ...  Positive emotion\n",
              "\n",
              "[5 rows x 3 columns]"
            ]
          },
          "metadata": {
            "tags": []
          },
          "execution_count": 1211
        }
      ]
    },
    {
      "cell_type": "code",
      "metadata": {
        "id": "-EtVp2g9RDUj",
        "outputId": "75b77aa6-4ffd-4289-ba24-d26d5aaa9354",
        "colab": {
          "base_uri": "https://localhost:8080/"
        }
      },
      "source": [
        "df_1.isna().sum()"
      ],
      "execution_count": 1212,
      "outputs": [
        {
          "output_type": "execute_result",
          "data": {
            "text/plain": [
              "tweet_text                            1\n",
              "emotion_in_tweet_is_directed_at    5802\n",
              "label                                 0\n",
              "dtype: int64"
            ]
          },
          "metadata": {
            "tags": []
          },
          "execution_count": 1212
        }
      ]
    },
    {
      "cell_type": "code",
      "metadata": {
        "id": "zFqDLNfTRDUl"
      },
      "source": [
        "df_1.dropna(inplace=True)"
      ],
      "execution_count": 1213,
      "outputs": []
    },
    {
      "cell_type": "code",
      "metadata": {
        "id": "k5jC5hsYRDUn"
      },
      "source": [
        "\"\"\"\n",
        "create function to clean text\n",
        "removal of words and symbols\n",
        "substitue out whatever pattern we find for empty string\n",
        "+ is for 1 or more\n",
        "r tells python that pattern is a raw string\n",
        "once we find pattern substitue for empty string\n",
        "?-may ormay not have s\n",
        "\"\"\"\n",
        "def cleantxt(text):\n",
        "    text = re.sub(r'@[A-Za-z0-9]+', '',text)  #removes @ mentions\n",
        "    text = re.sub(r'#', '',text) #get rid of hashtags or number signs\n",
        "    text = re.sub(r'RT[\\s]+', '',text) #get rid of RT from text, RTs followed by 1 or more white spaces\n",
        "    text = re.sub(r'https?:\\/\\/\\S+', '',text) #get rid of hyperlink, check if followed by 1 or more white spaces\n",
        "    \n",
        "    return text"
      ],
      "execution_count": 1214,
      "outputs": []
    },
    {
      "cell_type": "code",
      "metadata": {
        "id": "UyRAIq1xRDUo"
      },
      "source": [
        "#cleaning the text\n",
        "df_1['tweet_text'] = df_1['tweet_text'].apply(cleantxt)"
      ],
      "execution_count": 1215,
      "outputs": []
    },
    {
      "cell_type": "code",
      "metadata": {
        "id": "EjdEo_lCRDUp",
        "outputId": "7026292d-2a27-4460-fc47-f6c7cbcbc35b",
        "colab": {
          "base_uri": "https://localhost:8080/",
          "height": 545
        }
      },
      "source": [
        "#show text\n",
        "df_1.head(16)"
      ],
      "execution_count": 1216,
      "outputs": [
        {
          "output_type": "execute_result",
          "data": {
            "text/html": [
              "<div>\n",
              "<style scoped>\n",
              "    .dataframe tbody tr th:only-of-type {\n",
              "        vertical-align: middle;\n",
              "    }\n",
              "\n",
              "    .dataframe tbody tr th {\n",
              "        vertical-align: top;\n",
              "    }\n",
              "\n",
              "    .dataframe thead th {\n",
              "        text-align: right;\n",
              "    }\n",
              "</style>\n",
              "<table border=\"1\" class=\"dataframe\">\n",
              "  <thead>\n",
              "    <tr style=\"text-align: right;\">\n",
              "      <th></th>\n",
              "      <th>tweet_text</th>\n",
              "      <th>emotion_in_tweet_is_directed_at</th>\n",
              "      <th>label</th>\n",
              "    </tr>\n",
              "  </thead>\n",
              "  <tbody>\n",
              "    <tr>\n",
              "      <th>0</th>\n",
              "      <td>. I have a 3G iPhone. After 3 hrs tweeting at ...</td>\n",
              "      <td>iPhone</td>\n",
              "      <td>Negative emotion</td>\n",
              "    </tr>\n",
              "    <tr>\n",
              "      <th>1</th>\n",
              "      <td>Know about  ? Awesome iPad/iPhone app that yo...</td>\n",
              "      <td>iPad or iPhone App</td>\n",
              "      <td>Positive emotion</td>\n",
              "    </tr>\n",
              "    <tr>\n",
              "      <th>2</th>\n",
              "      <td>Can not wait for iPad 2 also. They should sal...</td>\n",
              "      <td>iPad</td>\n",
              "      <td>Positive emotion</td>\n",
              "    </tr>\n",
              "    <tr>\n",
              "      <th>3</th>\n",
              "      <td>I hope this year's festival isn't as crashy a...</td>\n",
              "      <td>iPad or iPhone App</td>\n",
              "      <td>Negative emotion</td>\n",
              "    </tr>\n",
              "    <tr>\n",
              "      <th>4</th>\n",
              "      <td>great stuff on Fri SXSW: Marissa Mayer (Googl...</td>\n",
              "      <td>Google</td>\n",
              "      <td>Positive emotion</td>\n",
              "    </tr>\n",
              "    <tr>\n",
              "      <th>7</th>\n",
              "      <td>SXSW is just starting, CTIA is around the corn...</td>\n",
              "      <td>Android</td>\n",
              "      <td>Positive emotion</td>\n",
              "    </tr>\n",
              "    <tr>\n",
              "      <th>8</th>\n",
              "      <td>Beautifully smart and simple idea wrote about ...</td>\n",
              "      <td>iPad or iPhone App</td>\n",
              "      <td>Positive emotion</td>\n",
              "    </tr>\n",
              "    <tr>\n",
              "      <th>9</th>\n",
              "      <td>Counting down the days to sxsw plus strong Can...</td>\n",
              "      <td>Apple</td>\n",
              "      <td>Positive emotion</td>\n",
              "    </tr>\n",
              "    <tr>\n",
              "      <th>10</th>\n",
              "      <td>Excited to meet the  at sxsw so I can show the...</td>\n",
              "      <td>Android</td>\n",
              "      <td>Positive emotion</td>\n",
              "    </tr>\n",
              "    <tr>\n",
              "      <th>11</th>\n",
              "      <td>Find &amp;amp; Start Impromptu Parties at SXSW Wit...</td>\n",
              "      <td>Android App</td>\n",
              "      <td>Positive emotion</td>\n",
              "    </tr>\n",
              "    <tr>\n",
              "      <th>12</th>\n",
              "      <td>Foursquare ups the game, just in time for SXSW...</td>\n",
              "      <td>Android App</td>\n",
              "      <td>Positive emotion</td>\n",
              "    </tr>\n",
              "    <tr>\n",
              "      <th>13</th>\n",
              "      <td>Gotta love this SXSW Google Calendar featuring...</td>\n",
              "      <td>Other Google product or service</td>\n",
              "      <td>Positive emotion</td>\n",
              "    </tr>\n",
              "    <tr>\n",
              "      <th>14</th>\n",
              "      <td>Great sxsw ipad app from :</td>\n",
              "      <td>iPad or iPhone App</td>\n",
              "      <td>Positive emotion</td>\n",
              "    </tr>\n",
              "    <tr>\n",
              "      <th>15</th>\n",
              "      <td>haha, awesomely rad iPad app by   hollergram sxsw</td>\n",
              "      <td>iPad or iPhone App</td>\n",
              "      <td>Positive emotion</td>\n",
              "    </tr>\n",
              "    <tr>\n",
              "      <th>17</th>\n",
              "      <td>I just noticed DST is coming this weekend. How...</td>\n",
              "      <td>iPhone</td>\n",
              "      <td>Negative emotion</td>\n",
              "    </tr>\n",
              "    <tr>\n",
              "      <th>18</th>\n",
              "      <td>Just added my SXSW flights to . Matching peopl...</td>\n",
              "      <td>iPad or iPhone App</td>\n",
              "      <td>Positive emotion</td>\n",
              "    </tr>\n",
              "  </tbody>\n",
              "</table>\n",
              "</div>"
            ],
            "text/plain": [
              "                                           tweet_text  ...             label\n",
              "0   . I have a 3G iPhone. After 3 hrs tweeting at ...  ...  Negative emotion\n",
              "1    Know about  ? Awesome iPad/iPhone app that yo...  ...  Positive emotion\n",
              "2    Can not wait for iPad 2 also. They should sal...  ...  Positive emotion\n",
              "3    I hope this year's festival isn't as crashy a...  ...  Negative emotion\n",
              "4    great stuff on Fri SXSW: Marissa Mayer (Googl...  ...  Positive emotion\n",
              "7   SXSW is just starting, CTIA is around the corn...  ...  Positive emotion\n",
              "8   Beautifully smart and simple idea wrote about ...  ...  Positive emotion\n",
              "9   Counting down the days to sxsw plus strong Can...  ...  Positive emotion\n",
              "10  Excited to meet the  at sxsw so I can show the...  ...  Positive emotion\n",
              "11  Find &amp; Start Impromptu Parties at SXSW Wit...  ...  Positive emotion\n",
              "12  Foursquare ups the game, just in time for SXSW...  ...  Positive emotion\n",
              "13  Gotta love this SXSW Google Calendar featuring...  ...  Positive emotion\n",
              "14                        Great sxsw ipad app from :   ...  Positive emotion\n",
              "15  haha, awesomely rad iPad app by   hollergram sxsw  ...  Positive emotion\n",
              "17  I just noticed DST is coming this weekend. How...  ...  Negative emotion\n",
              "18  Just added my SXSW flights to . Matching peopl...  ...  Positive emotion\n",
              "\n",
              "[16 rows x 3 columns]"
            ]
          },
          "metadata": {
            "tags": []
          },
          "execution_count": 1216
        }
      ]
    },
    {
      "cell_type": "code",
      "metadata": {
        "id": "P5eu1k23RDUt",
        "outputId": "a34a64cd-bb9c-4cbe-fc9e-bb42f5782202",
        "colab": {
          "base_uri": "https://localhost:8080/"
        }
      },
      "source": [
        "df['tweet_text'].head(40)"
      ],
      "execution_count": 1217,
      "outputs": [
        {
          "output_type": "execute_result",
          "data": {
            "text/plain": [
              "0     .@wesley83 I have a 3G iPhone. After 3 hrs twe...\n",
              "1     @jessedee Know about @fludapp ? Awesome iPad/i...\n",
              "2     @swonderlin Can not wait for #iPad 2 also. The...\n",
              "3     @sxsw I hope this year's festival isn't as cra...\n",
              "4     @sxtxstate great stuff on Fri #SXSW: Marissa M...\n",
              "5     @teachntech00 New iPad Apps For #SpeechTherapy...\n",
              "6                                                   NaN\n",
              "7     #SXSW is just starting, #CTIA is around the co...\n",
              "8     Beautifully smart and simple idea RT @madebyma...\n",
              "9     Counting down the days to #sxsw plus strong Ca...\n",
              "10    Excited to meet the @samsungmobileus at #sxsw ...\n",
              "11    Find &amp; Start Impromptu Parties at #SXSW Wi...\n",
              "12    Foursquare ups the game, just in time for #SXS...\n",
              "13    Gotta love this #SXSW Google Calendar featurin...\n",
              "14    Great #sxsw ipad app from @madebymany: http://...\n",
              "15    haha, awesomely rad iPad app by @madebymany ht...\n",
              "16    Holler Gram for iPad on the iTunes App Store -...\n",
              "17    I just noticed DST is coming this weekend. How...\n",
              "18    Just added my #SXSW flights to @planely. Match...\n",
              "19    Must have #SXSW app! RT @malbonster: Lovely re...\n",
              "20    Need to buy an iPad2 while I'm in Austin at #s...\n",
              "21    Oh. My. God. The #SXSW app for iPad is pure, u...\n",
              "22    Okay, this is really it: yay new @Foursquare f...\n",
              "23    Photo: Just installed the #SXSW iPhone app, wh...\n",
              "24    Really enjoying the changes in Gowalla 3.0 for...\n",
              "25    RT @LaurieShook: I'm looking forward to the #S...\n",
              "26    RT haha, awesomely rad iPad app by @madebymany...\n",
              "27    someone started an #austin @PartnerHub group i...\n",
              "28    The new #4sq3 looks like it is going to rock. ...\n",
              "29    They were right, the @gowalla 3 app on #androi...\n",
              "30    Very smart from @madebymany #hollergram iPad a...\n",
              "31    You must have this app for your iPad if you ar...\n",
              "32    Attn: All  #SXSW frineds, @mention Register fo...\n",
              "33        Anyone at  #sxsw want to sell their old iPad?\n",
              "34    Anyone at  #SXSW who bought the new iPad want ...\n",
              "35    At #sxsw.  Oooh. RT @mention Google to Launch ...\n",
              "36    The best!  RT @mention Ha! First in line for #...\n",
              "37    SPIN Play - a new concept in music discovery f...\n",
              "38    @mention  - False Alarm: Google Circles Not Co...\n",
              "39    VatorNews - Google And Apple Force Print Media...\n",
              "Name: tweet_text, dtype: object"
            ]
          },
          "metadata": {
            "tags": []
          },
          "execution_count": 1217
        }
      ]
    },
    {
      "cell_type": "code",
      "metadata": {
        "id": "7K3cr9SFRDUu",
        "outputId": "da0e8e5c-772e-473b-ea76-b3722046b343",
        "colab": {
          "base_uri": "https://localhost:8080/"
        }
      },
      "source": [
        "import re\n",
        "sentence = \"The development of snowboarding was 123 inspired by skateboarding, sledding, surfing and skiing.\"\n",
        "pattern = r\"[^\\w]\"\n",
        "print(re.sub(pattern, \" \", sentence))"
      ],
      "execution_count": 1218,
      "outputs": [
        {
          "output_type": "stream",
          "text": [
            "The development of snowboarding was 123 inspired by skateboarding  sledding  surfing and skiing \n"
          ],
          "name": "stdout"
        }
      ]
    },
    {
      "cell_type": "code",
      "metadata": {
        "id": "spXz7w7_tmQQ",
        "outputId": "527e198e-5d71-4928-976a-a31831344fa4",
        "colab": {
          "base_uri": "https://localhost:8080/"
        }
      },
      "source": [
        "pattern = r\"[^\\D]\"\n",
        "print(re.sub(pattern, \" \", sentence))"
      ],
      "execution_count": 1219,
      "outputs": [
        {
          "output_type": "stream",
          "text": [
            "The development of snowboarding was     inspired by skateboarding, sledding, surfing and skiing.\n"
          ],
          "name": "stdout"
        }
      ]
    },
    {
      "cell_type": "code",
      "metadata": {
        "id": "KeZcf0F989JC"
      },
      "source": [
        "### Computer Science"
      ],
      "execution_count": 1220,
      "outputs": []
    },
    {
      "cell_type": "markdown",
      "metadata": {
        "id": "7RuzARnm9ChA"
      },
      "source": [
        "### Computer Science"
      ]
    },
    {
      "cell_type": "markdown",
      "metadata": {
        "id": "vz5wd6L79AB0"
      },
      "source": [
        ""
      ]
    },
    {
      "cell_type": "code",
      "metadata": {
        "id": "yKXcutTh38FZ"
      },
      "source": [
        "df_nlp = df_data.copy()"
      ],
      "execution_count": 1221,
      "outputs": []
    },
    {
      "cell_type": "code",
      "metadata": {
        "id": "IWNOvcbI38C0",
        "outputId": "a4239ab8-0927-422c-9dae-16e6f5bed505",
        "colab": {
          "base_uri": "https://localhost:8080/",
          "height": 204
        }
      },
      "source": [
        "df_nlp.head()"
      ],
      "execution_count": 1222,
      "outputs": [
        {
          "output_type": "execute_result",
          "data": {
            "text/html": [
              "<div>\n",
              "<style scoped>\n",
              "    .dataframe tbody tr th:only-of-type {\n",
              "        vertical-align: middle;\n",
              "    }\n",
              "\n",
              "    .dataframe tbody tr th {\n",
              "        vertical-align: top;\n",
              "    }\n",
              "\n",
              "    .dataframe thead th {\n",
              "        text-align: right;\n",
              "    }\n",
              "</style>\n",
              "<table border=\"1\" class=\"dataframe\">\n",
              "  <thead>\n",
              "    <tr style=\"text-align: right;\">\n",
              "      <th></th>\n",
              "      <th>tweet_text</th>\n",
              "      <th>label</th>\n",
              "      <th>sentiment</th>\n",
              "    </tr>\n",
              "  </thead>\n",
              "  <tbody>\n",
              "    <tr>\n",
              "      <th>0</th>\n",
              "      <td>.@wesley83 I have a 3G iPhone. After 3 hrs twe...</td>\n",
              "      <td>Negative emotion</td>\n",
              "      <td>2</td>\n",
              "    </tr>\n",
              "    <tr>\n",
              "      <th>1</th>\n",
              "      <td>@jessedee Know about @fludapp ? Awesome iPad/i...</td>\n",
              "      <td>Positive emotion</td>\n",
              "      <td>1</td>\n",
              "    </tr>\n",
              "    <tr>\n",
              "      <th>2</th>\n",
              "      <td>@swonderlin Can not wait for #iPad 2 also. The...</td>\n",
              "      <td>Positive emotion</td>\n",
              "      <td>1</td>\n",
              "    </tr>\n",
              "    <tr>\n",
              "      <th>3</th>\n",
              "      <td>@sxsw I hope this year's festival isn't as cra...</td>\n",
              "      <td>Negative emotion</td>\n",
              "      <td>2</td>\n",
              "    </tr>\n",
              "    <tr>\n",
              "      <th>4</th>\n",
              "      <td>@sxtxstate great stuff on Fri #SXSW: Marissa M...</td>\n",
              "      <td>Positive emotion</td>\n",
              "      <td>1</td>\n",
              "    </tr>\n",
              "  </tbody>\n",
              "</table>\n",
              "</div>"
            ],
            "text/plain": [
              "                                          tweet_text  ... sentiment\n",
              "0  .@wesley83 I have a 3G iPhone. After 3 hrs twe...  ...         2\n",
              "1  @jessedee Know about @fludapp ? Awesome iPad/i...  ...         1\n",
              "2  @swonderlin Can not wait for #iPad 2 also. The...  ...         1\n",
              "3  @sxsw I hope this year's festival isn't as cra...  ...         2\n",
              "4  @sxtxstate great stuff on Fri #SXSW: Marissa M...  ...         1\n",
              "\n",
              "[5 rows x 3 columns]"
            ]
          },
          "metadata": {
            "tags": []
          },
          "execution_count": 1222
        }
      ]
    },
    {
      "cell_type": "code",
      "metadata": {
        "id": "RpTpis6Y4Evc",
        "outputId": "abc73ffa-6118-401a-c343-bd1207bd38c5",
        "colab": {
          "base_uri": "https://localhost:8080/"
        }
      },
      "source": [
        "df_nlp.shape"
      ],
      "execution_count": 1223,
      "outputs": [
        {
          "output_type": "execute_result",
          "data": {
            "text/plain": [
              "(9092, 3)"
            ]
          },
          "metadata": {
            "tags": []
          },
          "execution_count": 1223
        }
      ]
    },
    {
      "cell_type": "code",
      "metadata": {
        "id": "4RHYPE-96X42"
      },
      "source": [
        "df_nlp.drop_duplicates(inplace=True)"
      ],
      "execution_count": 1224,
      "outputs": []
    },
    {
      "cell_type": "code",
      "metadata": {
        "id": "31cuV9AP6d7-",
        "outputId": "14f6f792-7d15-4abf-8c74-658bbd6959b3",
        "colab": {
          "base_uri": "https://localhost:8080/"
        }
      },
      "source": [
        "df_nlp.shape"
      ],
      "execution_count": 1225,
      "outputs": [
        {
          "output_type": "execute_result",
          "data": {
            "text/plain": [
              "(9070, 3)"
            ]
          },
          "metadata": {
            "tags": []
          },
          "execution_count": 1225
        }
      ]
    },
    {
      "cell_type": "code",
      "metadata": {
        "id": "yFA9kPf86gbS",
        "outputId": "2b65080a-72de-4e75-f5b3-da09fa5b3762",
        "colab": {
          "base_uri": "https://localhost:8080/"
        }
      },
      "source": [
        "df_nlp.isna().sum()"
      ],
      "execution_count": 1226,
      "outputs": [
        {
          "output_type": "execute_result",
          "data": {
            "text/plain": [
              "tweet_text    0\n",
              "label         0\n",
              "sentiment     0\n",
              "dtype: int64"
            ]
          },
          "metadata": {
            "tags": []
          },
          "execution_count": 1226
        }
      ]
    },
    {
      "cell_type": "code",
      "metadata": {
        "id": "-IbuLJXL9Sy_",
        "outputId": "5082ee27-8db0-4c39-fbd4-a55c66eaa171",
        "colab": {
          "base_uri": "https://localhost:8080/"
        }
      },
      "source": [
        "#stopwords package\n",
        "nltk.download('stopwords')"
      ],
      "execution_count": 1227,
      "outputs": [
        {
          "output_type": "stream",
          "text": [
            "[nltk_data] Downloading package stopwords to /root/nltk_data...\n",
            "[nltk_data]   Package stopwords is already up-to-date!\n"
          ],
          "name": "stdout"
        },
        {
          "output_type": "execute_result",
          "data": {
            "text/plain": [
              "True"
            ]
          },
          "metadata": {
            "tags": []
          },
          "execution_count": 1227
        }
      ]
    },
    {
      "cell_type": "code",
      "metadata": {
        "id": "-okwegdS_cpV"
      },
      "source": [
        "def process_text(text):\n",
        "  #remove punctuation\n",
        "  #text w/o any punctuation is now in no punc\n",
        "  nopunc = [char for char in text if char not in string.punctuation]\n",
        "  nopunc = ''.join(nopunc)\n",
        "  #remove stopwords\n",
        "  #clean words\n",
        "  #separating each word by comma\n",
        "  clean_words = [word for word in nopunc.split() if word.lower() not in stopwords.words('english')]\n",
        "\n",
        "  #return a list of clean text words\n",
        "  return clean_words\n"
      ],
      "execution_count": 1228,
      "outputs": []
    },
    {
      "cell_type": "code",
      "metadata": {
        "id": "6NceZKTM_lKQ",
        "outputId": "73f5f705-0b8f-4771-8146-0861672a1064",
        "colab": {
          "base_uri": "https://localhost:8080/"
        }
      },
      "source": [
        "\"\"\"\n",
        "show tokenization. That's what e did w/nopunc.splt()\n",
        "separate words by commas\n",
        "show a list of lemmas\n",
        "\"\"\"\n",
        "df_nlp['tweet_text'].head().apply(process_text)"
      ],
      "execution_count": 1229,
      "outputs": [
        {
          "output_type": "execute_result",
          "data": {
            "text/plain": [
              "0    [wesley83, 3G, iPhone, 3, hrs, tweeting, RISEA...\n",
              "1    [jessedee, Know, fludapp, Awesome, iPadiPhone,...\n",
              "2        [swonderlin, wait, iPad, 2, also, sale, SXSW]\n",
              "3    [sxsw, hope, years, festival, isnt, crashy, ye...\n",
              "4    [sxtxstate, great, stuff, Fri, SXSW, Marissa, ...\n",
              "Name: tweet_text, dtype: object"
            ]
          },
          "metadata": {
            "tags": []
          },
          "execution_count": 1229
        }
      ]
    },
    {
      "cell_type": "code",
      "metadata": {
        "id": "sC0dQgAGJaGu",
        "outputId": "a30922e8-399d-4491-ddbe-18c5fcffd0ba",
        "colab": {
          "base_uri": "https://localhost:8080/"
        }
      },
      "source": [
        "#show tokenization. Separated by commas\n",
        "#show a ist of tokens (lemmas)\n",
        "\n",
        "df_nlp['tweet_text'].head(10)"
      ],
      "execution_count": 1230,
      "outputs": [
        {
          "output_type": "execute_result",
          "data": {
            "text/plain": [
              "0     .@wesley83 I have a 3G iPhone. After 3 hrs twe...\n",
              "1     @jessedee Know about @fludapp ? Awesome iPad/i...\n",
              "2     @swonderlin Can not wait for #iPad 2 also. The...\n",
              "3     @sxsw I hope this year's festival isn't as cra...\n",
              "4     @sxtxstate great stuff on Fri #SXSW: Marissa M...\n",
              "5     @teachntech00 New iPad Apps For #SpeechTherapy...\n",
              "7     #SXSW is just starting, #CTIA is around the co...\n",
              "8     Beautifully smart and simple idea RT @madebyma...\n",
              "9     Counting down the days to #sxsw plus strong Ca...\n",
              "10    Excited to meet the @samsungmobileus at #sxsw ...\n",
              "Name: tweet_text, dtype: object"
            ]
          },
          "metadata": {
            "tags": []
          },
          "execution_count": 1230
        }
      ]
    },
    {
      "cell_type": "code",
      "metadata": {
        "id": "8S7-UHP0MFcF"
      },
      "source": [
        "def cleantxt(text):\n",
        "    text = re.sub(r'@[A-Za-z0-9]+', '',text)  #removes @ mentions\n",
        "    text = re.sub(r'#', '',text) #get rid of hashtags or number signs\n",
        "    text = re.sub(r'RT[\\s]+', '',text) #get rid of RT from text, RTs followed by 1 or more white spaces\n",
        "    text = re.sub(r'https?:\\/\\/\\S+', '',text) #get rid of hyperlink, check if followed by 1 or more white spaces\n",
        "    \n",
        "    return text"
      ],
      "execution_count": 1231,
      "outputs": []
    },
    {
      "cell_type": "code",
      "metadata": {
        "id": "CHyl-txlMHwL"
      },
      "source": [
        "#cleaning the text\n",
        "df_nlp['tweet_text'] = df_nlp['tweet_text'].apply(cleantxt)"
      ],
      "execution_count": 1232,
      "outputs": []
    },
    {
      "cell_type": "code",
      "metadata": {
        "id": "wSEUR3hAMw1i",
        "outputId": "fc2d1f85-0fee-4939-8b5e-17a353477cc4",
        "colab": {
          "base_uri": "https://localhost:8080/"
        }
      },
      "source": [
        "df_nlp['tweet_text']"
      ],
      "execution_count": 1233,
      "outputs": [
        {
          "output_type": "execute_result",
          "data": {
            "text/plain": [
              "0       . I have a 3G iPhone. After 3 hrs tweeting at ...\n",
              "1        Know about  ? Awesome iPad/iPhone app that yo...\n",
              "2        Can not wait for iPad 2 also. They should sal...\n",
              "3        I hope this year's festival isn't as crashy a...\n",
              "4        great stuff on Fri SXSW: Marissa Mayer (Googl...\n",
              "                              ...                        \n",
              "9088                         Ipad everywhere. SXSW {link}\n",
              "9089    Wave, buzz... We interrupt your regularly sche...\n",
              "9090    Google's Zeiger, a physician never reported po...\n",
              "9091    Some Verizon iPhone customers complained their...\n",
              "9092    Ï¡Ïàü_ÊÎÒ£Áââ_£â_ÛâGoog...\n",
              "Name: tweet_text, Length: 9070, dtype: object"
            ]
          },
          "metadata": {
            "tags": []
          },
          "execution_count": 1233
        }
      ]
    },
    {
      "cell_type": "code",
      "metadata": {
        "id": "gMcdX1UaMqeL",
        "outputId": "c7c4eaf3-6515-4f58-c312-0e3828134fad",
        "colab": {
          "base_uri": "https://localhost:8080/"
        }
      },
      "source": [
        "#example\n",
        "message4 = \"hello world hellow world hello hello play\"\n",
        "message5 = 'test test test one hello'\n",
        "print(message4)\n",
        "\n",
        "#convert text to a matrix of tokens. token count\n",
        "from sklearn.feature_extraction.text import CountVectorizer\n",
        "bow4 = CountVectorizer(analyzer=process_text).fit_transform([[message4], [message5]])\n",
        "print(bow4)"
      ],
      "execution_count": 1234,
      "outputs": [
        {
          "output_type": "stream",
          "text": [
            "hello world hellow world hello hello play\n",
            "  (0, 0)\t3\n",
            "  (0, 5)\t2\n",
            "  (0, 1)\t1\n",
            "  (0, 3)\t1\n",
            "  (1, 0)\t1\n",
            "  (1, 4)\t3\n",
            "  (1, 2)\t1\n"
          ],
          "name": "stdout"
        }
      ]
    },
    {
      "cell_type": "code",
      "metadata": {
        "id": "6LgFJz9eNpOe"
      },
      "source": [
        "#convert collection of text to a matrix of tokens\n",
        "message_bow = CountVectorizer(analyzer=process_text).fit_transform(df_nlp['tweet_text'])"
      ],
      "execution_count": 1235,
      "outputs": []
    },
    {
      "cell_type": "code",
      "metadata": {
        "id": "fVaCQQpzP6GB"
      },
      "source": [
        "#split data\n",
        "X_1 = message_bow\n",
        "y = df_nlp['sentiment']"
      ],
      "execution_count": 1236,
      "outputs": []
    },
    {
      "cell_type": "code",
      "metadata": {
        "id": "8GtlUbQOS2sD"
      },
      "source": [
        "from sklearn.model_selection import train_test_split\n",
        "X_train, X_test, y_train, y_test = train_test_split(X_1, y, test_size=0.33, random_state=42)"
      ],
      "execution_count": 1237,
      "outputs": []
    },
    {
      "cell_type": "code",
      "metadata": {
        "id": "NBxTYv0BQ45s",
        "outputId": "b1cad11c-8ef2-48ab-f980-423bf66ea867",
        "colab": {
          "base_uri": "https://localhost:8080/"
        }
      },
      "source": [
        "print(message_bow.shape)\n"
      ],
      "execution_count": 1238,
      "outputs": [
        {
          "output_type": "stream",
          "text": [
            "(9070, 13254)\n"
          ],
          "name": "stdout"
        }
      ]
    },
    {
      "cell_type": "code",
      "metadata": {
        "id": "HEk2BA1USMUc"
      },
      "source": [
        "\n",
        "#create and train NB Classifier\n",
        "from sklearn.naive_bayes import MultinomialNB"
      ],
      "execution_count": 1239,
      "outputs": []
    },
    {
      "cell_type": "code",
      "metadata": {
        "id": "YF8FQcBPSTin"
      },
      "source": [
        "classifier = MultinomialNB().fit(X_train,y_train)"
      ],
      "execution_count": 1240,
      "outputs": []
    },
    {
      "cell_type": "code",
      "metadata": {
        "id": "h9PlMKvRSqhG",
        "outputId": "01dacde8-6154-4730-fd92-e6f92a1bbe2d",
        "colab": {
          "base_uri": "https://localhost:8080/"
        }
      },
      "source": [
        "#predictions\n",
        "predictions = classifier.predict(X_train)\n",
        "print(predictions)"
      ],
      "execution_count": 1241,
      "outputs": [
        {
          "output_type": "stream",
          "text": [
            "[0 0 1 ... 0 0 0]\n"
          ],
          "name": "stdout"
        }
      ]
    },
    {
      "cell_type": "code",
      "metadata": {
        "id": "D_vJzB63TeSq",
        "outputId": "93c592dd-730c-4b88-a3a4-ca97d4331d6c",
        "colab": {
          "base_uri": "https://localhost:8080/"
        }
      },
      "source": [
        "print(classifier.predict(X_train))\n",
        "print(y_train.values)"
      ],
      "execution_count": 1242,
      "outputs": [
        {
          "output_type": "stream",
          "text": [
            "[0 0 1 ... 0 0 0]\n",
            "[0 0 1 ... 0 0 0]\n"
          ],
          "name": "stdout"
        }
      ]
    },
    {
      "cell_type": "code",
      "metadata": {
        "id": "kUGNE2hbTopJ"
      },
      "source": [
        "#evaluate model\n",
        "from sklearn.metrics import classification_report, confusion_matrix, accuracy_score"
      ],
      "execution_count": 1243,
      "outputs": []
    },
    {
      "cell_type": "code",
      "metadata": {
        "id": "KO3zv6_uU6im",
        "outputId": "3e62b1b5-326c-4725-8310-7ad532890587",
        "colab": {
          "base_uri": "https://localhost:8080/"
        }
      },
      "source": [
        "#model is 83% correct in predciting emotion of tweet\n",
        "pred = classifier.predict(X_train)\n",
        "print(classification_report(y_train,pred))\n",
        "print()\n",
        "print(\"Confusion Matrix: \\n\", confusion_matrix(y_train, pred))\n",
        "print()\n",
        "print(\"Accuracy:\", accuracy_score(y_train, pred))"
      ],
      "execution_count": 1244,
      "outputs": [
        {
          "output_type": "stream",
          "text": [
            "              precision    recall  f1-score   support\n",
            "\n",
            "           0       0.84      0.93      0.88      3531\n",
            "           1       0.81      0.80      0.81      2074\n",
            "           2       0.91      0.37      0.52       369\n",
            "           3       1.00      0.06      0.11       102\n",
            "\n",
            "    accuracy                           0.83      6076\n",
            "   macro avg       0.89      0.54      0.58      6076\n",
            "weighted avg       0.84      0.83      0.82      6076\n",
            "\n",
            "\n",
            "Confusion Matrix: \n",
            " [[3271  250   10    0]\n",
            " [ 412 1660    2    0]\n",
            " [ 135   98  136    0]\n",
            " [  64   30    2    6]]\n",
            "\n",
            "Accuracy: 0.8349242922975642\n"
          ],
          "name": "stdout"
        }
      ]
    },
    {
      "cell_type": "code",
      "metadata": {
        "id": "DbBSiFKTVIaI",
        "outputId": "bf7cce39-751c-4f6d-90cf-1ea0c47d7bf9",
        "colab": {
          "base_uri": "https://localhost:8080/"
        }
      },
      "source": [
        "#how is model doing on test data\n",
        "print(classifier.predict(X_test))\n",
        "print(y_test.values)\n"
      ],
      "execution_count": 1245,
      "outputs": [
        {
          "output_type": "stream",
          "text": [
            "[0 2 0 ... 0 0 0]\n",
            "[2 2 0 ... 0 0 2]\n"
          ],
          "name": "stdout"
        }
      ]
    },
    {
      "cell_type": "code",
      "metadata": {
        "id": "-3EKRm-BWwhU",
        "outputId": "14b65fca-1feb-4d12-b9fd-3c27907c38ae",
        "colab": {
          "base_uri": "https://localhost:8080/"
        }
      },
      "source": [
        "#model is 65% correct in predciting emotion of tweet\n",
        "pred = classifier.predict(X_test)\n",
        "print(classification_report(y_test,pred))\n",
        "print()\n",
        "print(\"Confusion Matrix: \\n\", confusion_matrix(y_test, pred))\n",
        "print()\n",
        "print(\"Accuracy:\", accuracy_score(y_test, pred))"
      ],
      "execution_count": 1246,
      "outputs": [
        {
          "output_type": "stream",
          "text": [
            "              precision    recall  f1-score   support\n",
            "\n",
            "           0       0.74      0.75      0.75      1844\n",
            "           1       0.50      0.59      0.54       896\n",
            "           2       0.50      0.15      0.24       200\n",
            "           3       0.00      0.00      0.00        54\n",
            "\n",
            "    accuracy                           0.65      2994\n",
            "   macro avg       0.44      0.37      0.38      2994\n",
            "weighted avg       0.64      0.65      0.64      2994\n",
            "\n",
            "\n",
            "Confusion Matrix: \n",
            " [[1392  428   23    1]\n",
            " [ 362  528    6    0]\n",
            " [  83   84   31    2]\n",
            " [  36   16    2    0]]\n",
            "\n",
            "Accuracy: 0.6516366065464262\n"
          ],
          "name": "stdout"
        }
      ]
    }
  ]
}