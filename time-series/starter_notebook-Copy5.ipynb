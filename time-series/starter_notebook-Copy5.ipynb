{
 "cells": [
  {
   "cell_type": "markdown",
   "metadata": {},
   "source": [
    "# Mod 4 Project - Starter Notebook\n",
    "\n",
    "This notebook has been provided to you so that you can make use of the following starter code to help with the trickier parts of preprocessing the Zillow dataset. \n",
    "\n",
    "The notebook contains a rough outline the general order you'll likely want to take in this project. You'll notice that most of the areas are left blank. This is so that it's more obvious exactly when you should make use of the starter code provided for preprocessing. \n",
    "\n",
    "**_NOTE:_** The number of empty cells are not meant to infer how much or how little code should be involved in any given step--we've just provided a few for your convenience. Add, delete, and change things around in this notebook as needed!\n",
    "\n",
    "# Some Notes Before Starting\n",
    "\n",
    "This project will be one of the more challenging projects you complete in this program. This is because working with Time Series data is a bit different than working with regular datasets. In order to make this a bit less frustrating and help you understand what you need to do (and when you need to do it), we'll quickly review the dataset formats that you'll encounter in this project. \n",
    "\n",
    "## Wide Format vs Long Format\n",
    "\n",
    "If you take a look at the format of the data in `zillow_data.csv`, you'll notice that the actual Time Series values are stored as separate columns. Here's a sample: \n",
    "\n",
    "<img src='https://raw.githubusercontent.com/learn-co-students/dsc-mod-4-project-seattle-ds-102819/master/images/df_head.png'>\n",
    "\n",
    "You'll notice that the first seven columns look like any other dataset you're used to working with. However, column 8 refers to the median housing sales values for April 1996, column 9 for May 1996, and so on. This This is called **_Wide Format_**, and it makes the dataframe intuitive and easy to read. However, there are problems with this format when it comes to actually learning from the data, because the data only makes sense if you know the name of the column that the data can be found it. Since column names are metadata, our algorithms will miss out on what dates each value is for. This means that before we pass this data to our ARIMA model, we'll need to reshape our dataset to **_Long Format_**. Reshaped into long format, the dataframe above would now look like:\n",
    "\n",
    "<img src='https://raw.githubusercontent.com/learn-co-students/dsc-mod-4-project-seattle-ds-102819/master/images/melted1.png'>\n",
    "\n",
    "There are now many more rows in this dataset--one for each unique time and zipcode combination in the data! Once our dataset is in this format, we'll be able to train an ARIMA model on it. The method used to convert from Wide to Long is `pd.melt()`, and it is common to refer to our dataset as 'melted' after the transition to denote that it is in long format. \n",
    "\n",
    "# Helper Functions Provided\n",
    "\n",
    "Melting a dataset can be tricky if you've never done it before, so you'll see that we have provided a sample function, `melt_data()`, to help you with this step below. Also provided is:\n",
    "\n",
    "* `get_datetimes()`, a function to deal with converting the column values for datetimes as a pandas series of datetime objects\n",
    "* Some good parameters for matplotlib to help make your visualizations more readable. \n",
    "\n",
    "Good luck!\n",
    "\n",
    "\n",
    "# Step 1: Load the Data/Filtering for Chosen Zipcodes"
   ]
  },
  {
   "cell_type": "code",
   "execution_count": 1,
   "metadata": {},
   "outputs": [
    {
     "name": "stderr",
     "output_type": "stream",
     "text": [
      "/Users/davidtorres/opt/anaconda3/envs/learn-env/lib/python3.6/site-packages/statsmodels/tools/_testing.py:19: FutureWarning: pandas.util.testing is deprecated. Use the functions in the public API at pandas.testing instead.\n",
      "  import pandas.util.testing as tm\n"
     ]
    }
   ],
   "source": [
    "\"\"\"\n",
    "you will be forecasting real estate prices of various zip codes \n",
    "\n",
    "What are the top 5 best zip codes for us to invest in?\n",
    "\n",
    "Should your recommendation be focused on profit margins only? \n",
    "What about risk? \n",
    "What sort of time horizon are you predicting against? \n",
    "Your recommendation will need to detail your rationale and answer any sort of lingering questions like these \n",
    "    in order to demonstrate how you define \"best\".\n",
    "\n",
    "Evaluation\n",
    "In addition to deciding which quantitative metric(s) you want to target (e.g. minimizing mean squared error), \n",
    "    you need to start with a definition of \"best investment\". \n",
    "    Consider additional metrics like risk vs. profitability, or ROI yield.\n",
    "\n",
    "\n",
    "\"\"\"\n",
    "import pandas as pd\n",
    "import numpy as np\n",
    "import matplotlib.pyplot as plt\n",
    "%matplotlib inline\n",
    "\n",
    "from statsmodels.tsa.stattools import adfuller\n",
    "\n",
    "import warnings\n",
    "warnings.filterwarnings('ignore')\n",
    "import itertools\n",
    "import statsmodels.api as sm\n",
    "\n",
    "#from matplotlib.pylab import rcParams"
   ]
  },
  {
   "cell_type": "code",
   "execution_count": 2,
   "metadata": {},
   "outputs": [
    {
     "data": {
      "text/html": [
       "<div>\n",
       "<style scoped>\n",
       "    .dataframe tbody tr th:only-of-type {\n",
       "        vertical-align: middle;\n",
       "    }\n",
       "\n",
       "    .dataframe tbody tr th {\n",
       "        vertical-align: top;\n",
       "    }\n",
       "\n",
       "    .dataframe thead th {\n",
       "        text-align: right;\n",
       "    }\n",
       "</style>\n",
       "<table border=\"1\" class=\"dataframe\">\n",
       "  <thead>\n",
       "    <tr style=\"text-align: right;\">\n",
       "      <th></th>\n",
       "      <th>RegionID</th>\n",
       "      <th>RegionName</th>\n",
       "      <th>City</th>\n",
       "      <th>State</th>\n",
       "      <th>Metro</th>\n",
       "      <th>CountyName</th>\n",
       "      <th>SizeRank</th>\n",
       "      <th>1996-04</th>\n",
       "      <th>1996-05</th>\n",
       "      <th>1996-06</th>\n",
       "      <th>...</th>\n",
       "      <th>2017-07</th>\n",
       "      <th>2017-08</th>\n",
       "      <th>2017-09</th>\n",
       "      <th>2017-10</th>\n",
       "      <th>2017-11</th>\n",
       "      <th>2017-12</th>\n",
       "      <th>2018-01</th>\n",
       "      <th>2018-02</th>\n",
       "      <th>2018-03</th>\n",
       "      <th>2018-04</th>\n",
       "    </tr>\n",
       "  </thead>\n",
       "  <tbody>\n",
       "    <tr>\n",
       "      <th>0</th>\n",
       "      <td>84654</td>\n",
       "      <td>60657</td>\n",
       "      <td>Chicago</td>\n",
       "      <td>IL</td>\n",
       "      <td>Chicago</td>\n",
       "      <td>Cook</td>\n",
       "      <td>1</td>\n",
       "      <td>334200.0</td>\n",
       "      <td>335400.0</td>\n",
       "      <td>336500.0</td>\n",
       "      <td>...</td>\n",
       "      <td>1005500</td>\n",
       "      <td>1007500</td>\n",
       "      <td>1007800</td>\n",
       "      <td>1009600</td>\n",
       "      <td>1013300</td>\n",
       "      <td>1018700</td>\n",
       "      <td>1024400</td>\n",
       "      <td>1030700</td>\n",
       "      <td>1033800</td>\n",
       "      <td>1030600</td>\n",
       "    </tr>\n",
       "    <tr>\n",
       "      <th>1</th>\n",
       "      <td>90668</td>\n",
       "      <td>75070</td>\n",
       "      <td>McKinney</td>\n",
       "      <td>TX</td>\n",
       "      <td>Dallas-Fort Worth</td>\n",
       "      <td>Collin</td>\n",
       "      <td>2</td>\n",
       "      <td>235700.0</td>\n",
       "      <td>236900.0</td>\n",
       "      <td>236700.0</td>\n",
       "      <td>...</td>\n",
       "      <td>308000</td>\n",
       "      <td>310000</td>\n",
       "      <td>312500</td>\n",
       "      <td>314100</td>\n",
       "      <td>315000</td>\n",
       "      <td>316600</td>\n",
       "      <td>318100</td>\n",
       "      <td>319600</td>\n",
       "      <td>321100</td>\n",
       "      <td>321800</td>\n",
       "    </tr>\n",
       "    <tr>\n",
       "      <th>2</th>\n",
       "      <td>91982</td>\n",
       "      <td>77494</td>\n",
       "      <td>Katy</td>\n",
       "      <td>TX</td>\n",
       "      <td>Houston</td>\n",
       "      <td>Harris</td>\n",
       "      <td>3</td>\n",
       "      <td>210400.0</td>\n",
       "      <td>212200.0</td>\n",
       "      <td>212200.0</td>\n",
       "      <td>...</td>\n",
       "      <td>321000</td>\n",
       "      <td>320600</td>\n",
       "      <td>320200</td>\n",
       "      <td>320400</td>\n",
       "      <td>320800</td>\n",
       "      <td>321200</td>\n",
       "      <td>321200</td>\n",
       "      <td>323000</td>\n",
       "      <td>326900</td>\n",
       "      <td>329900</td>\n",
       "    </tr>\n",
       "    <tr>\n",
       "      <th>3</th>\n",
       "      <td>84616</td>\n",
       "      <td>60614</td>\n",
       "      <td>Chicago</td>\n",
       "      <td>IL</td>\n",
       "      <td>Chicago</td>\n",
       "      <td>Cook</td>\n",
       "      <td>4</td>\n",
       "      <td>498100.0</td>\n",
       "      <td>500900.0</td>\n",
       "      <td>503100.0</td>\n",
       "      <td>...</td>\n",
       "      <td>1289800</td>\n",
       "      <td>1287700</td>\n",
       "      <td>1287400</td>\n",
       "      <td>1291500</td>\n",
       "      <td>1296600</td>\n",
       "      <td>1299000</td>\n",
       "      <td>1302700</td>\n",
       "      <td>1306400</td>\n",
       "      <td>1308500</td>\n",
       "      <td>1307000</td>\n",
       "    </tr>\n",
       "    <tr>\n",
       "      <th>4</th>\n",
       "      <td>93144</td>\n",
       "      <td>79936</td>\n",
       "      <td>El Paso</td>\n",
       "      <td>TX</td>\n",
       "      <td>El Paso</td>\n",
       "      <td>El Paso</td>\n",
       "      <td>5</td>\n",
       "      <td>77300.0</td>\n",
       "      <td>77300.0</td>\n",
       "      <td>77300.0</td>\n",
       "      <td>...</td>\n",
       "      <td>119100</td>\n",
       "      <td>119400</td>\n",
       "      <td>120000</td>\n",
       "      <td>120300</td>\n",
       "      <td>120300</td>\n",
       "      <td>120300</td>\n",
       "      <td>120300</td>\n",
       "      <td>120500</td>\n",
       "      <td>121000</td>\n",
       "      <td>121500</td>\n",
       "    </tr>\n",
       "  </tbody>\n",
       "</table>\n",
       "<p>5 rows × 272 columns</p>\n",
       "</div>"
      ],
      "text/plain": [
       "   RegionID  RegionName      City State              Metro CountyName  \\\n",
       "0     84654       60657   Chicago    IL            Chicago       Cook   \n",
       "1     90668       75070  McKinney    TX  Dallas-Fort Worth     Collin   \n",
       "2     91982       77494      Katy    TX            Houston     Harris   \n",
       "3     84616       60614   Chicago    IL            Chicago       Cook   \n",
       "4     93144       79936   El Paso    TX            El Paso    El Paso   \n",
       "\n",
       "   SizeRank   1996-04   1996-05   1996-06  ...  2017-07  2017-08  2017-09  \\\n",
       "0         1  334200.0  335400.0  336500.0  ...  1005500  1007500  1007800   \n",
       "1         2  235700.0  236900.0  236700.0  ...   308000   310000   312500   \n",
       "2         3  210400.0  212200.0  212200.0  ...   321000   320600   320200   \n",
       "3         4  498100.0  500900.0  503100.0  ...  1289800  1287700  1287400   \n",
       "4         5   77300.0   77300.0   77300.0  ...   119100   119400   120000   \n",
       "\n",
       "   2017-10  2017-11  2017-12  2018-01  2018-02  2018-03  2018-04  \n",
       "0  1009600  1013300  1018700  1024400  1030700  1033800  1030600  \n",
       "1   314100   315000   316600   318100   319600   321100   321800  \n",
       "2   320400   320800   321200   321200   323000   326900   329900  \n",
       "3  1291500  1296600  1299000  1302700  1306400  1308500  1307000  \n",
       "4   120300   120300   120300   120300   120500   121000   121500  \n",
       "\n",
       "[5 rows x 272 columns]"
      ]
     },
     "execution_count": 2,
     "metadata": {},
     "output_type": "execute_result"
    }
   ],
   "source": [
    "#pd.set_option('display.max_columns', None)  \n",
    "zillow = pd.read_csv('zillow_data.csv')\n",
    "zillow.head()"
   ]
  },
  {
   "cell_type": "code",
   "execution_count": 3,
   "metadata": {},
   "outputs": [
    {
     "data": {
      "text/html": [
       "<div>\n",
       "<style scoped>\n",
       "    .dataframe tbody tr th:only-of-type {\n",
       "        vertical-align: middle;\n",
       "    }\n",
       "\n",
       "    .dataframe tbody tr th {\n",
       "        vertical-align: top;\n",
       "    }\n",
       "\n",
       "    .dataframe thead th {\n",
       "        text-align: right;\n",
       "    }\n",
       "</style>\n",
       "<table border=\"1\" class=\"dataframe\">\n",
       "  <thead>\n",
       "    <tr style=\"text-align: right;\">\n",
       "      <th></th>\n",
       "      <th>RegionID</th>\n",
       "      <th>Zipcode</th>\n",
       "      <th>City</th>\n",
       "      <th>State</th>\n",
       "      <th>Metro</th>\n",
       "      <th>CountyName</th>\n",
       "      <th>SizeRank</th>\n",
       "      <th>1996-04</th>\n",
       "      <th>1996-05</th>\n",
       "      <th>1996-06</th>\n",
       "      <th>...</th>\n",
       "      <th>2017-07</th>\n",
       "      <th>2017-08</th>\n",
       "      <th>2017-09</th>\n",
       "      <th>2017-10</th>\n",
       "      <th>2017-11</th>\n",
       "      <th>2017-12</th>\n",
       "      <th>2018-01</th>\n",
       "      <th>2018-02</th>\n",
       "      <th>2018-03</th>\n",
       "      <th>2018-04</th>\n",
       "    </tr>\n",
       "  </thead>\n",
       "  <tbody>\n",
       "    <tr>\n",
       "      <th>0</th>\n",
       "      <td>84654</td>\n",
       "      <td>60657</td>\n",
       "      <td>Chicago</td>\n",
       "      <td>IL</td>\n",
       "      <td>Chicago</td>\n",
       "      <td>Cook</td>\n",
       "      <td>1</td>\n",
       "      <td>334200.0</td>\n",
       "      <td>335400.0</td>\n",
       "      <td>336500.0</td>\n",
       "      <td>...</td>\n",
       "      <td>1005500</td>\n",
       "      <td>1007500</td>\n",
       "      <td>1007800</td>\n",
       "      <td>1009600</td>\n",
       "      <td>1013300</td>\n",
       "      <td>1018700</td>\n",
       "      <td>1024400</td>\n",
       "      <td>1030700</td>\n",
       "      <td>1033800</td>\n",
       "      <td>1030600</td>\n",
       "    </tr>\n",
       "    <tr>\n",
       "      <th>1</th>\n",
       "      <td>90668</td>\n",
       "      <td>75070</td>\n",
       "      <td>McKinney</td>\n",
       "      <td>TX</td>\n",
       "      <td>Dallas-Fort Worth</td>\n",
       "      <td>Collin</td>\n",
       "      <td>2</td>\n",
       "      <td>235700.0</td>\n",
       "      <td>236900.0</td>\n",
       "      <td>236700.0</td>\n",
       "      <td>...</td>\n",
       "      <td>308000</td>\n",
       "      <td>310000</td>\n",
       "      <td>312500</td>\n",
       "      <td>314100</td>\n",
       "      <td>315000</td>\n",
       "      <td>316600</td>\n",
       "      <td>318100</td>\n",
       "      <td>319600</td>\n",
       "      <td>321100</td>\n",
       "      <td>321800</td>\n",
       "    </tr>\n",
       "    <tr>\n",
       "      <th>2</th>\n",
       "      <td>91982</td>\n",
       "      <td>77494</td>\n",
       "      <td>Katy</td>\n",
       "      <td>TX</td>\n",
       "      <td>Houston</td>\n",
       "      <td>Harris</td>\n",
       "      <td>3</td>\n",
       "      <td>210400.0</td>\n",
       "      <td>212200.0</td>\n",
       "      <td>212200.0</td>\n",
       "      <td>...</td>\n",
       "      <td>321000</td>\n",
       "      <td>320600</td>\n",
       "      <td>320200</td>\n",
       "      <td>320400</td>\n",
       "      <td>320800</td>\n",
       "      <td>321200</td>\n",
       "      <td>321200</td>\n",
       "      <td>323000</td>\n",
       "      <td>326900</td>\n",
       "      <td>329900</td>\n",
       "    </tr>\n",
       "    <tr>\n",
       "      <th>3</th>\n",
       "      <td>84616</td>\n",
       "      <td>60614</td>\n",
       "      <td>Chicago</td>\n",
       "      <td>IL</td>\n",
       "      <td>Chicago</td>\n",
       "      <td>Cook</td>\n",
       "      <td>4</td>\n",
       "      <td>498100.0</td>\n",
       "      <td>500900.0</td>\n",
       "      <td>503100.0</td>\n",
       "      <td>...</td>\n",
       "      <td>1289800</td>\n",
       "      <td>1287700</td>\n",
       "      <td>1287400</td>\n",
       "      <td>1291500</td>\n",
       "      <td>1296600</td>\n",
       "      <td>1299000</td>\n",
       "      <td>1302700</td>\n",
       "      <td>1306400</td>\n",
       "      <td>1308500</td>\n",
       "      <td>1307000</td>\n",
       "    </tr>\n",
       "    <tr>\n",
       "      <th>4</th>\n",
       "      <td>93144</td>\n",
       "      <td>79936</td>\n",
       "      <td>El Paso</td>\n",
       "      <td>TX</td>\n",
       "      <td>El Paso</td>\n",
       "      <td>El Paso</td>\n",
       "      <td>5</td>\n",
       "      <td>77300.0</td>\n",
       "      <td>77300.0</td>\n",
       "      <td>77300.0</td>\n",
       "      <td>...</td>\n",
       "      <td>119100</td>\n",
       "      <td>119400</td>\n",
       "      <td>120000</td>\n",
       "      <td>120300</td>\n",
       "      <td>120300</td>\n",
       "      <td>120300</td>\n",
       "      <td>120300</td>\n",
       "      <td>120500</td>\n",
       "      <td>121000</td>\n",
       "      <td>121500</td>\n",
       "    </tr>\n",
       "  </tbody>\n",
       "</table>\n",
       "<p>5 rows × 272 columns</p>\n",
       "</div>"
      ],
      "text/plain": [
       "   RegionID  Zipcode      City State              Metro CountyName  SizeRank  \\\n",
       "0     84654    60657   Chicago    IL            Chicago       Cook         1   \n",
       "1     90668    75070  McKinney    TX  Dallas-Fort Worth     Collin         2   \n",
       "2     91982    77494      Katy    TX            Houston     Harris         3   \n",
       "3     84616    60614   Chicago    IL            Chicago       Cook         4   \n",
       "4     93144    79936   El Paso    TX            El Paso    El Paso         5   \n",
       "\n",
       "    1996-04   1996-05   1996-06  ...  2017-07  2017-08  2017-09  2017-10  \\\n",
       "0  334200.0  335400.0  336500.0  ...  1005500  1007500  1007800  1009600   \n",
       "1  235700.0  236900.0  236700.0  ...   308000   310000   312500   314100   \n",
       "2  210400.0  212200.0  212200.0  ...   321000   320600   320200   320400   \n",
       "3  498100.0  500900.0  503100.0  ...  1289800  1287700  1287400  1291500   \n",
       "4   77300.0   77300.0   77300.0  ...   119100   119400   120000   120300   \n",
       "\n",
       "   2017-11  2017-12  2018-01  2018-02  2018-03  2018-04  \n",
       "0  1013300  1018700  1024400  1030700  1033800  1030600  \n",
       "1   315000   316600   318100   319600   321100   321800  \n",
       "2   320800   321200   321200   323000   326900   329900  \n",
       "3  1296600  1299000  1302700  1306400  1308500  1307000  \n",
       "4   120300   120300   120300   120500   121000   121500  \n",
       "\n",
       "[5 rows x 272 columns]"
      ]
     },
     "execution_count": 3,
     "metadata": {},
     "output_type": "execute_result"
    }
   ],
   "source": [
    "zillow.rename(columns={'RegionName': 'Zipcode'}, inplace=True)\n",
    "zillow.head()"
   ]
  },
  {
   "cell_type": "code",
   "execution_count": 4,
   "metadata": {},
   "outputs": [],
   "source": [
    "def melt_data(df):\n",
    "    melted = pd.melt(df, id_vars=['RegionID','Zipcode', 'City', 'State', 'Metro', 'CountyName', \n",
    "                                  'SizeRank'], var_name='Month', value_name='MeanValue')\n",
    "    melted['Month'] = pd.to_datetime(melted['Month'], format='%Y-%m')\n",
    "    #melted = melted.set_index('Month')\n",
    "    melted = melted.dropna(subset=['MeanValue'])\n",
    "    return melted"
   ]
  },
  {
   "cell_type": "code",
   "execution_count": 5,
   "metadata": {},
   "outputs": [],
   "source": [
    "all_zipcodes = melt_data(zillow)"
   ]
  },
  {
   "cell_type": "code",
   "execution_count": 6,
   "metadata": {},
   "outputs": [
    {
     "data": {
      "text/plain": [
       "Index(['RegionID', 'Zipcode', 'City', 'State', 'Metro', 'CountyName',\n",
       "       'SizeRank', 'Month', 'MeanValue'],\n",
       "      dtype='object')"
      ]
     },
     "execution_count": 6,
     "metadata": {},
     "output_type": "execute_result"
    }
   ],
   "source": [
    "all_zipcodes.columns"
   ]
  },
  {
   "cell_type": "code",
   "execution_count": 7,
   "metadata": {
    "scrolled": true
   },
   "outputs": [
    {
     "data": {
      "text/html": [
       "<div>\n",
       "<style scoped>\n",
       "    .dataframe tbody tr th:only-of-type {\n",
       "        vertical-align: middle;\n",
       "    }\n",
       "\n",
       "    .dataframe tbody tr th {\n",
       "        vertical-align: top;\n",
       "    }\n",
       "\n",
       "    .dataframe thead th {\n",
       "        text-align: right;\n",
       "    }\n",
       "</style>\n",
       "<table border=\"1\" class=\"dataframe\">\n",
       "  <thead>\n",
       "    <tr style=\"text-align: right;\">\n",
       "      <th></th>\n",
       "      <th>RegionID</th>\n",
       "      <th>Zipcode</th>\n",
       "      <th>City</th>\n",
       "      <th>State</th>\n",
       "      <th>Metro</th>\n",
       "      <th>CountyName</th>\n",
       "      <th>SizeRank</th>\n",
       "      <th>Month</th>\n",
       "      <th>MeanValue</th>\n",
       "    </tr>\n",
       "  </thead>\n",
       "  <tbody>\n",
       "    <tr>\n",
       "      <th>0</th>\n",
       "      <td>84654</td>\n",
       "      <td>60657</td>\n",
       "      <td>Chicago</td>\n",
       "      <td>IL</td>\n",
       "      <td>Chicago</td>\n",
       "      <td>Cook</td>\n",
       "      <td>1</td>\n",
       "      <td>1996-04-01</td>\n",
       "      <td>334200.0</td>\n",
       "    </tr>\n",
       "    <tr>\n",
       "      <th>1</th>\n",
       "      <td>90668</td>\n",
       "      <td>75070</td>\n",
       "      <td>McKinney</td>\n",
       "      <td>TX</td>\n",
       "      <td>Dallas-Fort Worth</td>\n",
       "      <td>Collin</td>\n",
       "      <td>2</td>\n",
       "      <td>1996-04-01</td>\n",
       "      <td>235700.0</td>\n",
       "    </tr>\n",
       "    <tr>\n",
       "      <th>2</th>\n",
       "      <td>91982</td>\n",
       "      <td>77494</td>\n",
       "      <td>Katy</td>\n",
       "      <td>TX</td>\n",
       "      <td>Houston</td>\n",
       "      <td>Harris</td>\n",
       "      <td>3</td>\n",
       "      <td>1996-04-01</td>\n",
       "      <td>210400.0</td>\n",
       "    </tr>\n",
       "    <tr>\n",
       "      <th>3</th>\n",
       "      <td>84616</td>\n",
       "      <td>60614</td>\n",
       "      <td>Chicago</td>\n",
       "      <td>IL</td>\n",
       "      <td>Chicago</td>\n",
       "      <td>Cook</td>\n",
       "      <td>4</td>\n",
       "      <td>1996-04-01</td>\n",
       "      <td>498100.0</td>\n",
       "    </tr>\n",
       "    <tr>\n",
       "      <th>4</th>\n",
       "      <td>93144</td>\n",
       "      <td>79936</td>\n",
       "      <td>El Paso</td>\n",
       "      <td>TX</td>\n",
       "      <td>El Paso</td>\n",
       "      <td>El Paso</td>\n",
       "      <td>5</td>\n",
       "      <td>1996-04-01</td>\n",
       "      <td>77300.0</td>\n",
       "    </tr>\n",
       "    <tr>\n",
       "      <th>5</th>\n",
       "      <td>91733</td>\n",
       "      <td>77084</td>\n",
       "      <td>Houston</td>\n",
       "      <td>TX</td>\n",
       "      <td>Houston</td>\n",
       "      <td>Harris</td>\n",
       "      <td>6</td>\n",
       "      <td>1996-04-01</td>\n",
       "      <td>95000.0</td>\n",
       "    </tr>\n",
       "    <tr>\n",
       "      <th>6</th>\n",
       "      <td>61807</td>\n",
       "      <td>10467</td>\n",
       "      <td>New York</td>\n",
       "      <td>NY</td>\n",
       "      <td>New York</td>\n",
       "      <td>Bronx</td>\n",
       "      <td>7</td>\n",
       "      <td>1996-04-01</td>\n",
       "      <td>152900.0</td>\n",
       "    </tr>\n",
       "    <tr>\n",
       "      <th>7</th>\n",
       "      <td>84640</td>\n",
       "      <td>60640</td>\n",
       "      <td>Chicago</td>\n",
       "      <td>IL</td>\n",
       "      <td>Chicago</td>\n",
       "      <td>Cook</td>\n",
       "      <td>8</td>\n",
       "      <td>1996-04-01</td>\n",
       "      <td>216500.0</td>\n",
       "    </tr>\n",
       "    <tr>\n",
       "      <th>8</th>\n",
       "      <td>91940</td>\n",
       "      <td>77449</td>\n",
       "      <td>Katy</td>\n",
       "      <td>TX</td>\n",
       "      <td>Houston</td>\n",
       "      <td>Harris</td>\n",
       "      <td>9</td>\n",
       "      <td>1996-04-01</td>\n",
       "      <td>95400.0</td>\n",
       "    </tr>\n",
       "    <tr>\n",
       "      <th>9</th>\n",
       "      <td>97564</td>\n",
       "      <td>94109</td>\n",
       "      <td>San Francisco</td>\n",
       "      <td>CA</td>\n",
       "      <td>San Francisco</td>\n",
       "      <td>San Francisco</td>\n",
       "      <td>10</td>\n",
       "      <td>1996-04-01</td>\n",
       "      <td>766000.0</td>\n",
       "    </tr>\n",
       "  </tbody>\n",
       "</table>\n",
       "</div>"
      ],
      "text/plain": [
       "   RegionID  Zipcode           City State              Metro     CountyName  \\\n",
       "0     84654    60657        Chicago    IL            Chicago           Cook   \n",
       "1     90668    75070       McKinney    TX  Dallas-Fort Worth         Collin   \n",
       "2     91982    77494           Katy    TX            Houston         Harris   \n",
       "3     84616    60614        Chicago    IL            Chicago           Cook   \n",
       "4     93144    79936        El Paso    TX            El Paso        El Paso   \n",
       "5     91733    77084        Houston    TX            Houston         Harris   \n",
       "6     61807    10467       New York    NY           New York          Bronx   \n",
       "7     84640    60640        Chicago    IL            Chicago           Cook   \n",
       "8     91940    77449           Katy    TX            Houston         Harris   \n",
       "9     97564    94109  San Francisco    CA      San Francisco  San Francisco   \n",
       "\n",
       "   SizeRank      Month  MeanValue  \n",
       "0         1 1996-04-01   334200.0  \n",
       "1         2 1996-04-01   235700.0  \n",
       "2         3 1996-04-01   210400.0  \n",
       "3         4 1996-04-01   498100.0  \n",
       "4         5 1996-04-01    77300.0  \n",
       "5         6 1996-04-01    95000.0  \n",
       "6         7 1996-04-01   152900.0  \n",
       "7         8 1996-04-01   216500.0  \n",
       "8         9 1996-04-01    95400.0  \n",
       "9        10 1996-04-01   766000.0  "
      ]
     },
     "execution_count": 7,
     "metadata": {},
     "output_type": "execute_result"
    }
   ],
   "source": [
    "all_zipcodes.head(10)"
   ]
  },
  {
   "cell_type": "code",
   "execution_count": 8,
   "metadata": {},
   "outputs": [
    {
     "data": {
      "text/html": [
       "<div>\n",
       "<style scoped>\n",
       "    .dataframe tbody tr th:only-of-type {\n",
       "        vertical-align: middle;\n",
       "    }\n",
       "\n",
       "    .dataframe tbody tr th {\n",
       "        vertical-align: top;\n",
       "    }\n",
       "\n",
       "    .dataframe thead th {\n",
       "        text-align: right;\n",
       "    }\n",
       "</style>\n",
       "<table border=\"1\" class=\"dataframe\">\n",
       "  <thead>\n",
       "    <tr style=\"text-align: right;\">\n",
       "      <th></th>\n",
       "      <th>RegionID</th>\n",
       "      <th>Zipcode</th>\n",
       "      <th>City</th>\n",
       "      <th>State</th>\n",
       "      <th>Metro</th>\n",
       "      <th>CountyName</th>\n",
       "      <th>SizeRank</th>\n",
       "      <th>Month</th>\n",
       "      <th>MeanValue</th>\n",
       "    </tr>\n",
       "  </thead>\n",
       "  <tbody>\n",
       "    <tr>\n",
       "      <th>10</th>\n",
       "      <td>62037</td>\n",
       "      <td>11226</td>\n",
       "      <td>New York</td>\n",
       "      <td>NY</td>\n",
       "      <td>New York</td>\n",
       "      <td>Kings</td>\n",
       "      <td>11</td>\n",
       "      <td>1996-04-01</td>\n",
       "      <td>162000.0</td>\n",
       "    </tr>\n",
       "    <tr>\n",
       "      <th>13</th>\n",
       "      <td>62045</td>\n",
       "      <td>11235</td>\n",
       "      <td>New York</td>\n",
       "      <td>NY</td>\n",
       "      <td>New York</td>\n",
       "      <td>Kings</td>\n",
       "      <td>14</td>\n",
       "      <td>1996-04-01</td>\n",
       "      <td>190500.0</td>\n",
       "    </tr>\n",
       "    <tr>\n",
       "      <th>47</th>\n",
       "      <td>62040</td>\n",
       "      <td>11230</td>\n",
       "      <td>New York</td>\n",
       "      <td>NY</td>\n",
       "      <td>New York</td>\n",
       "      <td>Kings</td>\n",
       "      <td>48</td>\n",
       "      <td>1996-04-01</td>\n",
       "      <td>230100.0</td>\n",
       "    </tr>\n",
       "    <tr>\n",
       "      <th>49</th>\n",
       "      <td>62020</td>\n",
       "      <td>11209</td>\n",
       "      <td>New York</td>\n",
       "      <td>NY</td>\n",
       "      <td>New York</td>\n",
       "      <td>Kings</td>\n",
       "      <td>50</td>\n",
       "      <td>1996-04-01</td>\n",
       "      <td>255700.0</td>\n",
       "    </tr>\n",
       "    <tr>\n",
       "      <th>53</th>\n",
       "      <td>62023</td>\n",
       "      <td>11212</td>\n",
       "      <td>New York</td>\n",
       "      <td>NY</td>\n",
       "      <td>New York</td>\n",
       "      <td>Kings</td>\n",
       "      <td>54</td>\n",
       "      <td>1996-04-01</td>\n",
       "      <td>125000.0</td>\n",
       "    </tr>\n",
       "    <tr>\n",
       "      <th>...</th>\n",
       "      <td>...</td>\n",
       "      <td>...</td>\n",
       "      <td>...</td>\n",
       "      <td>...</td>\n",
       "      <td>...</td>\n",
       "      <td>...</td>\n",
       "      <td>...</td>\n",
       "      <td>...</td>\n",
       "      <td>...</td>\n",
       "    </tr>\n",
       "    <tr>\n",
       "      <th>3887683</th>\n",
       "      <td>62035</td>\n",
       "      <td>11224</td>\n",
       "      <td>New York</td>\n",
       "      <td>NY</td>\n",
       "      <td>New York</td>\n",
       "      <td>Kings</td>\n",
       "      <td>812</td>\n",
       "      <td>2018-04-01</td>\n",
       "      <td>517900.0</td>\n",
       "    </tr>\n",
       "    <tr>\n",
       "      <th>3888027</th>\n",
       "      <td>62033</td>\n",
       "      <td>11222</td>\n",
       "      <td>New York</td>\n",
       "      <td>NY</td>\n",
       "      <td>New York</td>\n",
       "      <td>Kings</td>\n",
       "      <td>1156</td>\n",
       "      <td>2018-04-01</td>\n",
       "      <td>1721100.0</td>\n",
       "    </tr>\n",
       "    <tr>\n",
       "      <th>3888306</th>\n",
       "      <td>62016</td>\n",
       "      <td>11205</td>\n",
       "      <td>New York</td>\n",
       "      <td>NY</td>\n",
       "      <td>New York</td>\n",
       "      <td>Kings</td>\n",
       "      <td>1435</td>\n",
       "      <td>2018-04-01</td>\n",
       "      <td>2248400.0</td>\n",
       "    </tr>\n",
       "    <tr>\n",
       "      <th>3888406</th>\n",
       "      <td>62028</td>\n",
       "      <td>11217</td>\n",
       "      <td>New York</td>\n",
       "      <td>NY</td>\n",
       "      <td>New York</td>\n",
       "      <td>Kings</td>\n",
       "      <td>1535</td>\n",
       "      <td>2018-04-01</td>\n",
       "      <td>3656000.0</td>\n",
       "    </tr>\n",
       "    <tr>\n",
       "      <th>3890600</th>\n",
       "      <td>62038</td>\n",
       "      <td>11228</td>\n",
       "      <td>New York</td>\n",
       "      <td>NY</td>\n",
       "      <td>New York</td>\n",
       "      <td>Kings</td>\n",
       "      <td>3729</td>\n",
       "      <td>2018-04-01</td>\n",
       "      <td>915300.0</td>\n",
       "    </tr>\n",
       "  </tbody>\n",
       "</table>\n",
       "<p>7141 rows × 9 columns</p>\n",
       "</div>"
      ],
      "text/plain": [
       "         RegionID  Zipcode      City State     Metro CountyName  SizeRank  \\\n",
       "10          62037    11226  New York    NY  New York      Kings        11   \n",
       "13          62045    11235  New York    NY  New York      Kings        14   \n",
       "47          62040    11230  New York    NY  New York      Kings        48   \n",
       "49          62020    11209  New York    NY  New York      Kings        50   \n",
       "53          62023    11212  New York    NY  New York      Kings        54   \n",
       "...           ...      ...       ...   ...       ...        ...       ...   \n",
       "3887683     62035    11224  New York    NY  New York      Kings       812   \n",
       "3888027     62033    11222  New York    NY  New York      Kings      1156   \n",
       "3888306     62016    11205  New York    NY  New York      Kings      1435   \n",
       "3888406     62028    11217  New York    NY  New York      Kings      1535   \n",
       "3890600     62038    11228  New York    NY  New York      Kings      3729   \n",
       "\n",
       "             Month  MeanValue  \n",
       "10      1996-04-01   162000.0  \n",
       "13      1996-04-01   190500.0  \n",
       "47      1996-04-01   230100.0  \n",
       "49      1996-04-01   255700.0  \n",
       "53      1996-04-01   125000.0  \n",
       "...            ...        ...  \n",
       "3887683 2018-04-01   517900.0  \n",
       "3888027 2018-04-01  1721100.0  \n",
       "3888306 2018-04-01  2248400.0  \n",
       "3888406 2018-04-01  3656000.0  \n",
       "3890600 2018-04-01   915300.0  \n",
       "\n",
       "[7141 rows x 9 columns]"
      ]
     },
     "execution_count": 8,
     "metadata": {},
     "output_type": "execute_result"
    }
   ],
   "source": [
    "kings_zips = all_zipcodes[(all_zipcodes['CountyName']=='Kings') & (all_zipcodes['State']== 'NY')]\n",
    "kings_zips"
   ]
  },
  {
   "cell_type": "code",
   "execution_count": 9,
   "metadata": {},
   "outputs": [],
   "source": [
    "\"\"\"\n",
    "test_dict = {}\n",
    "\n",
    "for zipcode in kings['Zipcode'].unique(): \n",
    "    all_zips = kings[kings['Zipcode'] == zipcode]\n",
    "    all_zips = all_zips.set_index('Month')['MeanValue']\n",
    "    all_zips = all_zips.asfreq('MS')\n",
    "    brooklyn_zips[zipcode] = all_zips\n",
    "\"\"\"\n",
    "test_dict = {}\n",
    "\n",
    "for zipcode in kings_zips['Zipcode'].unique(): \n",
    "    all_zips = kings_zips[kings_zips['Zipcode'] == zipcode]\n",
    "    all_zips = all_zips.set_index('Month')['MeanValue']\n",
    "    all_zips = all_zips.asfreq('MS')\n",
    "    all_zips.name = zipcode\n",
    "    test_dict[zipcode] = all_zips"
   ]
  },
  {
   "cell_type": "code",
   "execution_count": 10,
   "metadata": {},
   "outputs": [
    {
     "data": {
      "text/plain": [
       "{11226: Month\n",
       " 1996-04-01    162000.0\n",
       " 1996-05-01    162300.0\n",
       " 1996-06-01    162600.0\n",
       " 1996-07-01    163000.0\n",
       " 1996-08-01    163400.0\n",
       "                 ...   \n",
       " 2017-12-01    887800.0\n",
       " 2018-01-01    890500.0\n",
       " 2018-02-01    901700.0\n",
       " 2018-03-01    930700.0\n",
       " 2018-04-01    963200.0\n",
       " Freq: MS, Name: 11226, Length: 265, dtype: float64,\n",
       " 11235: Month\n",
       " 1996-04-01    190500.0\n",
       " 1996-05-01    191000.0\n",
       " 1996-06-01    191500.0\n",
       " 1996-07-01    192000.0\n",
       " 1996-08-01    192500.0\n",
       "                 ...   \n",
       " 2017-12-01    799700.0\n",
       " 2018-01-01    806600.0\n",
       " 2018-02-01    810600.0\n",
       " 2018-03-01    813400.0\n",
       " 2018-04-01    816200.0\n",
       " Freq: MS, Name: 11235, Length: 265, dtype: float64,\n",
       " 11230: Month\n",
       " 1996-04-01     230100.0\n",
       " 1996-05-01     230800.0\n",
       " 1996-06-01     231500.0\n",
       " 1996-07-01     232100.0\n",
       " 1996-08-01     232800.0\n",
       "                 ...    \n",
       " 2017-12-01    1102400.0\n",
       " 2018-01-01    1120200.0\n",
       " 2018-02-01    1141600.0\n",
       " 2018-03-01    1170000.0\n",
       " 2018-04-01    1195400.0\n",
       " Freq: MS, Name: 11230, Length: 265, dtype: float64,\n",
       " 11209: Month\n",
       " 1996-04-01     255700.0\n",
       " 1996-05-01     256600.0\n",
       " 1996-06-01     257300.0\n",
       " 1996-07-01     258100.0\n",
       " 1996-08-01     258900.0\n",
       "                 ...    \n",
       " 2017-12-01    1018900.0\n",
       " 2018-01-01    1023500.0\n",
       " 2018-02-01    1029200.0\n",
       " 2018-03-01    1023000.0\n",
       " 2018-04-01    1015800.0\n",
       " Freq: MS, Name: 11209, Length: 265, dtype: float64,\n",
       " 11212: Month\n",
       " 1996-04-01    125000.0\n",
       " 1996-05-01    125000.0\n",
       " 1996-06-01    125000.0\n",
       " 1996-07-01    125000.0\n",
       " 1996-08-01    125100.0\n",
       "                 ...   \n",
       " 2017-12-01    414900.0\n",
       " 2018-01-01    422300.0\n",
       " 2018-02-01    426300.0\n",
       " 2018-03-01    427100.0\n",
       " 2018-04-01    428400.0\n",
       " Freq: MS, Name: 11212, Length: 265, dtype: float64,\n",
       " 11214: Month\n",
       " 1996-04-01    191000.0\n",
       " 1996-05-01    191200.0\n",
       " 1996-06-01    191500.0\n",
       " 1996-07-01    191900.0\n",
       " 1996-08-01    192100.0\n",
       "                 ...   \n",
       " 2017-12-01    826300.0\n",
       " 2018-01-01    827600.0\n",
       " 2018-02-01    830500.0\n",
       " 2018-03-01    837300.0\n",
       " 2018-04-01    844100.0\n",
       " Freq: MS, Name: 11214, Length: 265, dtype: float64,\n",
       " 11221: Month\n",
       " 1996-04-01     133700.0\n",
       " 1996-05-01     133700.0\n",
       " 1996-06-01     133700.0\n",
       " 1996-07-01     133700.0\n",
       " 1996-08-01     133900.0\n",
       "                 ...    \n",
       " 2017-12-01     998100.0\n",
       " 2018-01-01    1000900.0\n",
       " 2018-02-01    1015400.0\n",
       " 2018-03-01    1037300.0\n",
       " 2018-04-01    1048700.0\n",
       " Freq: MS, Name: 11221, Length: 265, dtype: float64,\n",
       " 11229: Month\n",
       " 1996-04-01    183900.0\n",
       " 1996-05-01    184200.0\n",
       " 1996-06-01    184500.0\n",
       " 1996-07-01    184800.0\n",
       " 1996-08-01    185000.0\n",
       "                 ...   \n",
       " 2017-12-01    741000.0\n",
       " 2018-01-01    748100.0\n",
       " 2018-02-01    755800.0\n",
       " 2018-03-01    766200.0\n",
       " 2018-04-01    775500.0\n",
       " Freq: MS, Name: 11229, Length: 265, dtype: float64,\n",
       " 11234: Month\n",
       " 1996-04-01    172300.0\n",
       " 1996-05-01    172100.0\n",
       " 1996-06-01    171900.0\n",
       " 1996-07-01    171600.0\n",
       " 1996-08-01    171400.0\n",
       "                 ...   \n",
       " 2017-12-01    575000.0\n",
       " 2018-01-01    579400.0\n",
       " 2018-02-01    583200.0\n",
       " 2018-03-01    589400.0\n",
       " 2018-04-01    593300.0\n",
       " Freq: MS, Name: 11234, Length: 265, dtype: float64,\n",
       " 11215: Month\n",
       " 1996-04-01     225700.0\n",
       " 1996-05-01     227500.0\n",
       " 1996-06-01     229400.0\n",
       " 1996-07-01     231600.0\n",
       " 1996-08-01     234100.0\n",
       "                 ...    \n",
       " 2017-12-01    2287100.0\n",
       " 2018-01-01    2288900.0\n",
       " 2018-02-01    2265300.0\n",
       " 2018-03-01    2244900.0\n",
       " 2018-04-01    2243900.0\n",
       " Freq: MS, Name: 11215, Length: 265, dtype: float64,\n",
       " 11211: Month\n",
       " 1996-04-01     133200.0\n",
       " 1996-05-01     132900.0\n",
       " 1996-06-01     132500.0\n",
       " 1996-07-01     132200.0\n",
       " 1996-08-01     131800.0\n",
       "                 ...    \n",
       " 2017-12-01    1463100.0\n",
       " 2018-01-01    1496100.0\n",
       " 2018-02-01    1531100.0\n",
       " 2018-03-01    1581900.0\n",
       " 2018-04-01    1623700.0\n",
       " Freq: MS, Name: 11211, Length: 265, dtype: float64,\n",
       " 11233: Month\n",
       " 1996-04-01    124500.0\n",
       " 1996-05-01    124500.0\n",
       " 1996-06-01    124500.0\n",
       " 1996-07-01    124500.0\n",
       " 1996-08-01    124700.0\n",
       "                 ...   \n",
       " 2017-12-01    809800.0\n",
       " 2018-01-01    800800.0\n",
       " 2018-02-01    806100.0\n",
       " 2018-03-01    829200.0\n",
       " 2018-04-01    852300.0\n",
       " Freq: MS, Name: 11233, Length: 265, dtype: float64,\n",
       " 11236: Month\n",
       " 1996-04-01    160900.0\n",
       " 1996-05-01    161000.0\n",
       " 1996-06-01    161200.0\n",
       " 1996-07-01    161300.0\n",
       " 1996-08-01    161500.0\n",
       "                 ...   \n",
       " 2017-12-01    453600.0\n",
       " 2018-01-01    458400.0\n",
       " 2018-02-01    461600.0\n",
       " 2018-03-01    467200.0\n",
       " 2018-04-01    472000.0\n",
       " Freq: MS, Name: 11236, Length: 265, dtype: float64,\n",
       " 11218: Month\n",
       " 1996-04-01     177200.0\n",
       " 1996-05-01     177000.0\n",
       " 1996-06-01     176800.0\n",
       " 1996-07-01     176700.0\n",
       " 1996-08-01     176800.0\n",
       "                 ...    \n",
       " 2017-12-01    1186400.0\n",
       " 2018-01-01    1174500.0\n",
       " 2018-02-01    1173900.0\n",
       " 2018-03-01    1196100.0\n",
       " 2018-04-01    1220900.0\n",
       " Freq: MS, Name: 11218, Length: 265, dtype: float64,\n",
       " 11223: Month\n",
       " 1996-04-01     207600.0\n",
       " 1996-05-01     208000.0\n",
       " 1996-06-01     208400.0\n",
       " 1996-07-01     208800.0\n",
       " 1996-08-01     209300.0\n",
       "                 ...    \n",
       " 2017-12-01     947800.0\n",
       " 2018-01-01     952100.0\n",
       " 2018-02-01     966600.0\n",
       " 2018-03-01     997000.0\n",
       " 2018-04-01    1026600.0\n",
       " Freq: MS, Name: 11223, Length: 265, dtype: float64,\n",
       " 11208: Month\n",
       " 1996-04-01    126800.0\n",
       " 1996-05-01    126700.0\n",
       " 1996-06-01    126700.0\n",
       " 1996-07-01    126600.0\n",
       " 1996-08-01    126600.0\n",
       "                 ...   \n",
       " 2017-12-01    435400.0\n",
       " 2018-01-01    429900.0\n",
       " 2018-02-01    432300.0\n",
       " 2018-03-01    442400.0\n",
       " 2018-04-01    450600.0\n",
       " Freq: MS, Name: 11208, Length: 265, dtype: float64,\n",
       " 11204: Month\n",
       " 1996-04-01    201100.0\n",
       " 1996-05-01    201100.0\n",
       " 1996-06-01    201100.0\n",
       " 1996-07-01    201100.0\n",
       " 1996-08-01    201100.0\n",
       "                 ...   \n",
       " 2017-12-01    958900.0\n",
       " 2018-01-01    963200.0\n",
       " 2018-02-01    967900.0\n",
       " 2018-03-01    972800.0\n",
       " 2018-04-01    976400.0\n",
       " Freq: MS, Name: 11204, Length: 265, dtype: float64,\n",
       " 11219: Month\n",
       " 1996-04-01     213200.0\n",
       " 1996-05-01     212600.0\n",
       " 1996-06-01     211900.0\n",
       " 1996-07-01     211300.0\n",
       " 1996-08-01     210800.0\n",
       "                 ...    \n",
       " 2017-12-01    1016000.0\n",
       " 2018-01-01    1014400.0\n",
       " 2018-02-01    1023800.0\n",
       " 2018-03-01    1053000.0\n",
       " 2018-04-01    1079600.0\n",
       " Freq: MS, Name: 11219, Length: 265, dtype: float64,\n",
       " 11203: Month\n",
       " 1996-04-01    149000.0\n",
       " 1996-05-01    149200.0\n",
       " 1996-06-01    149400.0\n",
       " 1996-07-01    149600.0\n",
       " 1996-08-01    149700.0\n",
       "                 ...   \n",
       " 2017-12-01    474500.0\n",
       " 2018-01-01    475300.0\n",
       " 2018-02-01    474800.0\n",
       " 2018-03-01    481000.0\n",
       " 2018-04-01    489900.0\n",
       " Freq: MS, Name: 11203, Length: 265, dtype: float64,\n",
       " 11220: Month\n",
       " 1996-04-01    188500.0\n",
       " 1996-05-01    188700.0\n",
       " 1996-06-01    188800.0\n",
       " 1996-07-01    189000.0\n",
       " 1996-08-01    189400.0\n",
       "                 ...   \n",
       " 2017-12-01    903000.0\n",
       " 2018-01-01    906500.0\n",
       " 2018-02-01    910700.0\n",
       " 2018-03-01    915600.0\n",
       " 2018-04-01    917900.0\n",
       " Freq: MS, Name: 11220, Length: 265, dtype: float64,\n",
       " 11216: Month\n",
       " 1996-04-01     146100.0\n",
       " 1996-05-01     146600.0\n",
       " 1996-06-01     147200.0\n",
       " 1996-07-01     147700.0\n",
       " 1996-08-01     148400.0\n",
       "                 ...    \n",
       " 2017-12-01    1545700.0\n",
       " 2018-01-01    1540200.0\n",
       " 2018-02-01    1553600.0\n",
       " 2018-03-01    1578400.0\n",
       " 2018-04-01    1598700.0\n",
       " Freq: MS, Name: 11216, Length: 265, dtype: float64,\n",
       " 11210: Month\n",
       " 1996-04-01    187300.0\n",
       " 1996-05-01    187300.0\n",
       " 1996-06-01    187200.0\n",
       " 1996-07-01    187100.0\n",
       " 1996-08-01    187000.0\n",
       "                 ...   \n",
       " 2017-12-01    802900.0\n",
       " 2018-01-01    809100.0\n",
       " 2018-02-01    814500.0\n",
       " 2018-03-01    816900.0\n",
       " 2018-04-01    819600.0\n",
       " Freq: MS, Name: 11210, Length: 265, dtype: float64,\n",
       " 11224: Month\n",
       " 1996-04-01    158000.0\n",
       " 1996-05-01    157300.0\n",
       " 1996-06-01    156700.0\n",
       " 1996-07-01    156100.0\n",
       " 1996-08-01    155600.0\n",
       "                 ...   \n",
       " 2017-12-01    498700.0\n",
       " 2018-01-01    502000.0\n",
       " 2018-02-01    505600.0\n",
       " 2018-03-01    511600.0\n",
       " 2018-04-01    517900.0\n",
       " Freq: MS, Name: 11224, Length: 265, dtype: float64,\n",
       " 11222: Month\n",
       " 1996-04-01     149200.0\n",
       " 1996-05-01     148400.0\n",
       " 1996-06-01     147500.0\n",
       " 1996-07-01     146600.0\n",
       " 1996-08-01     146000.0\n",
       "                 ...    \n",
       " 2017-12-01    1651200.0\n",
       " 2018-01-01    1661800.0\n",
       " 2018-02-01    1672800.0\n",
       " 2018-03-01    1694000.0\n",
       " 2018-04-01    1721100.0\n",
       " Freq: MS, Name: 11222, Length: 265, dtype: float64,\n",
       " 11228: Month\n",
       " 1996-04-01    219300.0\n",
       " 1996-05-01    219600.0\n",
       " 1996-06-01    219900.0\n",
       " 1996-07-01    220200.0\n",
       " 1996-08-01    220600.0\n",
       "                 ...   \n",
       " 2017-12-01    902200.0\n",
       " 2018-01-01    909000.0\n",
       " 2018-02-01    912800.0\n",
       " 2018-03-01    913900.0\n",
       " 2018-04-01    915300.0\n",
       " Freq: MS, Name: 11228, Length: 265, dtype: float64,\n",
       " 11238: Month\n",
       " 2004-01-01     671200.0\n",
       " 2004-02-01     665400.0\n",
       " 2004-03-01     662500.0\n",
       " 2004-04-01     660200.0\n",
       " 2004-05-01     659200.0\n",
       "                 ...    \n",
       " 2017-12-01    2768900.0\n",
       " 2018-01-01    2810700.0\n",
       " 2018-02-01    2848100.0\n",
       " 2018-03-01    2869600.0\n",
       " 2018-04-01    2885300.0\n",
       " Freq: MS, Name: 11238, Length: 172, dtype: float64,\n",
       " 11205: Month\n",
       " 2004-01-01     833100.0\n",
       " 2004-02-01     821400.0\n",
       " 2004-03-01     812000.0\n",
       " 2004-04-01     805500.0\n",
       " 2004-05-01     801400.0\n",
       "                 ...    \n",
       " 2017-12-01    2251000.0\n",
       " 2018-01-01    2251600.0\n",
       " 2018-02-01    2245300.0\n",
       " 2018-03-01    2243700.0\n",
       " 2018-04-01    2248400.0\n",
       " Freq: MS, Name: 11205, Length: 172, dtype: float64,\n",
       " 11217: Month\n",
       " 2004-01-01    1037600.0\n",
       " 2004-02-01    1035300.0\n",
       " 2004-03-01    1031400.0\n",
       " 2004-04-01    1024000.0\n",
       " 2004-05-01    1014300.0\n",
       "                 ...    \n",
       " 2017-12-01    3404100.0\n",
       " 2018-01-01    3413800.0\n",
       " 2018-02-01    3482900.0\n",
       " 2018-03-01    3588100.0\n",
       " 2018-04-01    3656000.0\n",
       " Freq: MS, Name: 11217, Length: 172, dtype: float64}"
      ]
     },
     "execution_count": 10,
     "metadata": {},
     "output_type": "execute_result"
    }
   ],
   "source": [
    "test_dict"
   ]
  },
  {
   "cell_type": "code",
   "execution_count": 11,
   "metadata": {},
   "outputs": [],
   "source": [
    "zip_df = pd.concat(test_dict, axis=1)"
   ]
  },
  {
   "cell_type": "code",
   "execution_count": 12,
   "metadata": {},
   "outputs": [
    {
     "data": {
      "text/plain": [
       "265"
      ]
     },
     "execution_count": 12,
     "metadata": {},
     "output_type": "execute_result"
    }
   ],
   "source": [
    "len(zip_df)"
   ]
  },
  {
   "cell_type": "code",
   "execution_count": 13,
   "metadata": {},
   "outputs": [
    {
     "data": {
      "text/html": [
       "<div>\n",
       "<style scoped>\n",
       "    .dataframe tbody tr th:only-of-type {\n",
       "        vertical-align: middle;\n",
       "    }\n",
       "\n",
       "    .dataframe tbody tr th {\n",
       "        vertical-align: top;\n",
       "    }\n",
       "\n",
       "    .dataframe thead th {\n",
       "        text-align: right;\n",
       "    }\n",
       "</style>\n",
       "<table border=\"1\" class=\"dataframe\">\n",
       "  <thead>\n",
       "    <tr style=\"text-align: right;\">\n",
       "      <th></th>\n",
       "      <th>11226</th>\n",
       "      <th>11235</th>\n",
       "      <th>11230</th>\n",
       "      <th>11209</th>\n",
       "      <th>11212</th>\n",
       "      <th>11214</th>\n",
       "      <th>11221</th>\n",
       "      <th>11229</th>\n",
       "      <th>11234</th>\n",
       "      <th>11215</th>\n",
       "      <th>...</th>\n",
       "      <th>11203</th>\n",
       "      <th>11220</th>\n",
       "      <th>11216</th>\n",
       "      <th>11210</th>\n",
       "      <th>11224</th>\n",
       "      <th>11222</th>\n",
       "      <th>11228</th>\n",
       "      <th>11238</th>\n",
       "      <th>11205</th>\n",
       "      <th>11217</th>\n",
       "    </tr>\n",
       "    <tr>\n",
       "      <th>Month</th>\n",
       "      <th></th>\n",
       "      <th></th>\n",
       "      <th></th>\n",
       "      <th></th>\n",
       "      <th></th>\n",
       "      <th></th>\n",
       "      <th></th>\n",
       "      <th></th>\n",
       "      <th></th>\n",
       "      <th></th>\n",
       "      <th></th>\n",
       "      <th></th>\n",
       "      <th></th>\n",
       "      <th></th>\n",
       "      <th></th>\n",
       "      <th></th>\n",
       "      <th></th>\n",
       "      <th></th>\n",
       "      <th></th>\n",
       "      <th></th>\n",
       "      <th></th>\n",
       "    </tr>\n",
       "  </thead>\n",
       "  <tbody>\n",
       "    <tr>\n",
       "      <th>1996-04-01</th>\n",
       "      <td>162000.0</td>\n",
       "      <td>190500.0</td>\n",
       "      <td>230100.0</td>\n",
       "      <td>255700.0</td>\n",
       "      <td>125000.0</td>\n",
       "      <td>191000.0</td>\n",
       "      <td>133700.0</td>\n",
       "      <td>183900.0</td>\n",
       "      <td>172300.0</td>\n",
       "      <td>225700.0</td>\n",
       "      <td>...</td>\n",
       "      <td>149000.0</td>\n",
       "      <td>188500.0</td>\n",
       "      <td>146100.0</td>\n",
       "      <td>187300.0</td>\n",
       "      <td>158000.0</td>\n",
       "      <td>149200.0</td>\n",
       "      <td>219300.0</td>\n",
       "      <td>NaN</td>\n",
       "      <td>NaN</td>\n",
       "      <td>NaN</td>\n",
       "    </tr>\n",
       "    <tr>\n",
       "      <th>1996-05-01</th>\n",
       "      <td>162300.0</td>\n",
       "      <td>191000.0</td>\n",
       "      <td>230800.0</td>\n",
       "      <td>256600.0</td>\n",
       "      <td>125000.0</td>\n",
       "      <td>191200.0</td>\n",
       "      <td>133700.0</td>\n",
       "      <td>184200.0</td>\n",
       "      <td>172100.0</td>\n",
       "      <td>227500.0</td>\n",
       "      <td>...</td>\n",
       "      <td>149200.0</td>\n",
       "      <td>188700.0</td>\n",
       "      <td>146600.0</td>\n",
       "      <td>187300.0</td>\n",
       "      <td>157300.0</td>\n",
       "      <td>148400.0</td>\n",
       "      <td>219600.0</td>\n",
       "      <td>NaN</td>\n",
       "      <td>NaN</td>\n",
       "      <td>NaN</td>\n",
       "    </tr>\n",
       "    <tr>\n",
       "      <th>1996-06-01</th>\n",
       "      <td>162600.0</td>\n",
       "      <td>191500.0</td>\n",
       "      <td>231500.0</td>\n",
       "      <td>257300.0</td>\n",
       "      <td>125000.0</td>\n",
       "      <td>191500.0</td>\n",
       "      <td>133700.0</td>\n",
       "      <td>184500.0</td>\n",
       "      <td>171900.0</td>\n",
       "      <td>229400.0</td>\n",
       "      <td>...</td>\n",
       "      <td>149400.0</td>\n",
       "      <td>188800.0</td>\n",
       "      <td>147200.0</td>\n",
       "      <td>187200.0</td>\n",
       "      <td>156700.0</td>\n",
       "      <td>147500.0</td>\n",
       "      <td>219900.0</td>\n",
       "      <td>NaN</td>\n",
       "      <td>NaN</td>\n",
       "      <td>NaN</td>\n",
       "    </tr>\n",
       "    <tr>\n",
       "      <th>1996-07-01</th>\n",
       "      <td>163000.0</td>\n",
       "      <td>192000.0</td>\n",
       "      <td>232100.0</td>\n",
       "      <td>258100.0</td>\n",
       "      <td>125000.0</td>\n",
       "      <td>191900.0</td>\n",
       "      <td>133700.0</td>\n",
       "      <td>184800.0</td>\n",
       "      <td>171600.0</td>\n",
       "      <td>231600.0</td>\n",
       "      <td>...</td>\n",
       "      <td>149600.0</td>\n",
       "      <td>189000.0</td>\n",
       "      <td>147700.0</td>\n",
       "      <td>187100.0</td>\n",
       "      <td>156100.0</td>\n",
       "      <td>146600.0</td>\n",
       "      <td>220200.0</td>\n",
       "      <td>NaN</td>\n",
       "      <td>NaN</td>\n",
       "      <td>NaN</td>\n",
       "    </tr>\n",
       "    <tr>\n",
       "      <th>1996-08-01</th>\n",
       "      <td>163400.0</td>\n",
       "      <td>192500.0</td>\n",
       "      <td>232800.0</td>\n",
       "      <td>258900.0</td>\n",
       "      <td>125100.0</td>\n",
       "      <td>192100.0</td>\n",
       "      <td>133900.0</td>\n",
       "      <td>185000.0</td>\n",
       "      <td>171400.0</td>\n",
       "      <td>234100.0</td>\n",
       "      <td>...</td>\n",
       "      <td>149700.0</td>\n",
       "      <td>189400.0</td>\n",
       "      <td>148400.0</td>\n",
       "      <td>187000.0</td>\n",
       "      <td>155600.0</td>\n",
       "      <td>146000.0</td>\n",
       "      <td>220600.0</td>\n",
       "      <td>NaN</td>\n",
       "      <td>NaN</td>\n",
       "      <td>NaN</td>\n",
       "    </tr>\n",
       "  </tbody>\n",
       "</table>\n",
       "<p>5 rows × 28 columns</p>\n",
       "</div>"
      ],
      "text/plain": [
       "               11226     11235     11230     11209     11212     11214  \\\n",
       "Month                                                                    \n",
       "1996-04-01  162000.0  190500.0  230100.0  255700.0  125000.0  191000.0   \n",
       "1996-05-01  162300.0  191000.0  230800.0  256600.0  125000.0  191200.0   \n",
       "1996-06-01  162600.0  191500.0  231500.0  257300.0  125000.0  191500.0   \n",
       "1996-07-01  163000.0  192000.0  232100.0  258100.0  125000.0  191900.0   \n",
       "1996-08-01  163400.0  192500.0  232800.0  258900.0  125100.0  192100.0   \n",
       "\n",
       "               11221     11229     11234     11215  ...     11203     11220  \\\n",
       "Month                                               ...                       \n",
       "1996-04-01  133700.0  183900.0  172300.0  225700.0  ...  149000.0  188500.0   \n",
       "1996-05-01  133700.0  184200.0  172100.0  227500.0  ...  149200.0  188700.0   \n",
       "1996-06-01  133700.0  184500.0  171900.0  229400.0  ...  149400.0  188800.0   \n",
       "1996-07-01  133700.0  184800.0  171600.0  231600.0  ...  149600.0  189000.0   \n",
       "1996-08-01  133900.0  185000.0  171400.0  234100.0  ...  149700.0  189400.0   \n",
       "\n",
       "               11216     11210     11224     11222     11228  11238  11205  \\\n",
       "Month                                                                        \n",
       "1996-04-01  146100.0  187300.0  158000.0  149200.0  219300.0    NaN    NaN   \n",
       "1996-05-01  146600.0  187300.0  157300.0  148400.0  219600.0    NaN    NaN   \n",
       "1996-06-01  147200.0  187200.0  156700.0  147500.0  219900.0    NaN    NaN   \n",
       "1996-07-01  147700.0  187100.0  156100.0  146600.0  220200.0    NaN    NaN   \n",
       "1996-08-01  148400.0  187000.0  155600.0  146000.0  220600.0    NaN    NaN   \n",
       "\n",
       "            11217  \n",
       "Month              \n",
       "1996-04-01    NaN  \n",
       "1996-05-01    NaN  \n",
       "1996-06-01    NaN  \n",
       "1996-07-01    NaN  \n",
       "1996-08-01    NaN  \n",
       "\n",
       "[5 rows x 28 columns]"
      ]
     },
     "execution_count": 13,
     "metadata": {},
     "output_type": "execute_result"
    }
   ],
   "source": [
    "zip_df.head()"
   ]
  },
  {
   "cell_type": "code",
   "execution_count": 14,
   "metadata": {},
   "outputs": [
    {
     "data": {
      "text/html": [
       "<div>\n",
       "<style scoped>\n",
       "    .dataframe tbody tr th:only-of-type {\n",
       "        vertical-align: middle;\n",
       "    }\n",
       "\n",
       "    .dataframe tbody tr th {\n",
       "        vertical-align: top;\n",
       "    }\n",
       "\n",
       "    .dataframe thead th {\n",
       "        text-align: right;\n",
       "    }\n",
       "</style>\n",
       "<table border=\"1\" class=\"dataframe\">\n",
       "  <thead>\n",
       "    <tr style=\"text-align: right;\">\n",
       "      <th></th>\n",
       "      <th>11226</th>\n",
       "      <th>11235</th>\n",
       "      <th>11230</th>\n",
       "      <th>11209</th>\n",
       "      <th>11212</th>\n",
       "      <th>11214</th>\n",
       "      <th>11221</th>\n",
       "      <th>11229</th>\n",
       "      <th>11234</th>\n",
       "      <th>11215</th>\n",
       "      <th>...</th>\n",
       "      <th>11203</th>\n",
       "      <th>11220</th>\n",
       "      <th>11216</th>\n",
       "      <th>11210</th>\n",
       "      <th>11224</th>\n",
       "      <th>11222</th>\n",
       "      <th>11228</th>\n",
       "      <th>11238</th>\n",
       "      <th>11205</th>\n",
       "      <th>11217</th>\n",
       "    </tr>\n",
       "    <tr>\n",
       "      <th>Month</th>\n",
       "      <th></th>\n",
       "      <th></th>\n",
       "      <th></th>\n",
       "      <th></th>\n",
       "      <th></th>\n",
       "      <th></th>\n",
       "      <th></th>\n",
       "      <th></th>\n",
       "      <th></th>\n",
       "      <th></th>\n",
       "      <th></th>\n",
       "      <th></th>\n",
       "      <th></th>\n",
       "      <th></th>\n",
       "      <th></th>\n",
       "      <th></th>\n",
       "      <th></th>\n",
       "      <th></th>\n",
       "      <th></th>\n",
       "      <th></th>\n",
       "      <th></th>\n",
       "    </tr>\n",
       "  </thead>\n",
       "  <tbody>\n",
       "    <tr>\n",
       "      <th>2017-12-01</th>\n",
       "      <td>887800.0</td>\n",
       "      <td>799700.0</td>\n",
       "      <td>1102400.0</td>\n",
       "      <td>1018900.0</td>\n",
       "      <td>414900.0</td>\n",
       "      <td>826300.0</td>\n",
       "      <td>998100.0</td>\n",
       "      <td>741000.0</td>\n",
       "      <td>575000.0</td>\n",
       "      <td>2287100.0</td>\n",
       "      <td>...</td>\n",
       "      <td>474500.0</td>\n",
       "      <td>903000.0</td>\n",
       "      <td>1545700.0</td>\n",
       "      <td>802900.0</td>\n",
       "      <td>498700.0</td>\n",
       "      <td>1651200.0</td>\n",
       "      <td>902200.0</td>\n",
       "      <td>2768900.0</td>\n",
       "      <td>2251000.0</td>\n",
       "      <td>3404100.0</td>\n",
       "    </tr>\n",
       "    <tr>\n",
       "      <th>2018-01-01</th>\n",
       "      <td>890500.0</td>\n",
       "      <td>806600.0</td>\n",
       "      <td>1120200.0</td>\n",
       "      <td>1023500.0</td>\n",
       "      <td>422300.0</td>\n",
       "      <td>827600.0</td>\n",
       "      <td>1000900.0</td>\n",
       "      <td>748100.0</td>\n",
       "      <td>579400.0</td>\n",
       "      <td>2288900.0</td>\n",
       "      <td>...</td>\n",
       "      <td>475300.0</td>\n",
       "      <td>906500.0</td>\n",
       "      <td>1540200.0</td>\n",
       "      <td>809100.0</td>\n",
       "      <td>502000.0</td>\n",
       "      <td>1661800.0</td>\n",
       "      <td>909000.0</td>\n",
       "      <td>2810700.0</td>\n",
       "      <td>2251600.0</td>\n",
       "      <td>3413800.0</td>\n",
       "    </tr>\n",
       "    <tr>\n",
       "      <th>2018-02-01</th>\n",
       "      <td>901700.0</td>\n",
       "      <td>810600.0</td>\n",
       "      <td>1141600.0</td>\n",
       "      <td>1029200.0</td>\n",
       "      <td>426300.0</td>\n",
       "      <td>830500.0</td>\n",
       "      <td>1015400.0</td>\n",
       "      <td>755800.0</td>\n",
       "      <td>583200.0</td>\n",
       "      <td>2265300.0</td>\n",
       "      <td>...</td>\n",
       "      <td>474800.0</td>\n",
       "      <td>910700.0</td>\n",
       "      <td>1553600.0</td>\n",
       "      <td>814500.0</td>\n",
       "      <td>505600.0</td>\n",
       "      <td>1672800.0</td>\n",
       "      <td>912800.0</td>\n",
       "      <td>2848100.0</td>\n",
       "      <td>2245300.0</td>\n",
       "      <td>3482900.0</td>\n",
       "    </tr>\n",
       "    <tr>\n",
       "      <th>2018-03-01</th>\n",
       "      <td>930700.0</td>\n",
       "      <td>813400.0</td>\n",
       "      <td>1170000.0</td>\n",
       "      <td>1023000.0</td>\n",
       "      <td>427100.0</td>\n",
       "      <td>837300.0</td>\n",
       "      <td>1037300.0</td>\n",
       "      <td>766200.0</td>\n",
       "      <td>589400.0</td>\n",
       "      <td>2244900.0</td>\n",
       "      <td>...</td>\n",
       "      <td>481000.0</td>\n",
       "      <td>915600.0</td>\n",
       "      <td>1578400.0</td>\n",
       "      <td>816900.0</td>\n",
       "      <td>511600.0</td>\n",
       "      <td>1694000.0</td>\n",
       "      <td>913900.0</td>\n",
       "      <td>2869600.0</td>\n",
       "      <td>2243700.0</td>\n",
       "      <td>3588100.0</td>\n",
       "    </tr>\n",
       "    <tr>\n",
       "      <th>2018-04-01</th>\n",
       "      <td>963200.0</td>\n",
       "      <td>816200.0</td>\n",
       "      <td>1195400.0</td>\n",
       "      <td>1015800.0</td>\n",
       "      <td>428400.0</td>\n",
       "      <td>844100.0</td>\n",
       "      <td>1048700.0</td>\n",
       "      <td>775500.0</td>\n",
       "      <td>593300.0</td>\n",
       "      <td>2243900.0</td>\n",
       "      <td>...</td>\n",
       "      <td>489900.0</td>\n",
       "      <td>917900.0</td>\n",
       "      <td>1598700.0</td>\n",
       "      <td>819600.0</td>\n",
       "      <td>517900.0</td>\n",
       "      <td>1721100.0</td>\n",
       "      <td>915300.0</td>\n",
       "      <td>2885300.0</td>\n",
       "      <td>2248400.0</td>\n",
       "      <td>3656000.0</td>\n",
       "    </tr>\n",
       "  </tbody>\n",
       "</table>\n",
       "<p>5 rows × 28 columns</p>\n",
       "</div>"
      ],
      "text/plain": [
       "               11226     11235      11230      11209     11212     11214  \\\n",
       "Month                                                                      \n",
       "2017-12-01  887800.0  799700.0  1102400.0  1018900.0  414900.0  826300.0   \n",
       "2018-01-01  890500.0  806600.0  1120200.0  1023500.0  422300.0  827600.0   \n",
       "2018-02-01  901700.0  810600.0  1141600.0  1029200.0  426300.0  830500.0   \n",
       "2018-03-01  930700.0  813400.0  1170000.0  1023000.0  427100.0  837300.0   \n",
       "2018-04-01  963200.0  816200.0  1195400.0  1015800.0  428400.0  844100.0   \n",
       "\n",
       "                11221     11229     11234      11215  ...     11203     11220  \\\n",
       "Month                                                 ...                       \n",
       "2017-12-01   998100.0  741000.0  575000.0  2287100.0  ...  474500.0  903000.0   \n",
       "2018-01-01  1000900.0  748100.0  579400.0  2288900.0  ...  475300.0  906500.0   \n",
       "2018-02-01  1015400.0  755800.0  583200.0  2265300.0  ...  474800.0  910700.0   \n",
       "2018-03-01  1037300.0  766200.0  589400.0  2244900.0  ...  481000.0  915600.0   \n",
       "2018-04-01  1048700.0  775500.0  593300.0  2243900.0  ...  489900.0  917900.0   \n",
       "\n",
       "                11216     11210     11224      11222     11228      11238  \\\n",
       "Month                                                                       \n",
       "2017-12-01  1545700.0  802900.0  498700.0  1651200.0  902200.0  2768900.0   \n",
       "2018-01-01  1540200.0  809100.0  502000.0  1661800.0  909000.0  2810700.0   \n",
       "2018-02-01  1553600.0  814500.0  505600.0  1672800.0  912800.0  2848100.0   \n",
       "2018-03-01  1578400.0  816900.0  511600.0  1694000.0  913900.0  2869600.0   \n",
       "2018-04-01  1598700.0  819600.0  517900.0  1721100.0  915300.0  2885300.0   \n",
       "\n",
       "                11205      11217  \n",
       "Month                             \n",
       "2017-12-01  2251000.0  3404100.0  \n",
       "2018-01-01  2251600.0  3413800.0  \n",
       "2018-02-01  2245300.0  3482900.0  \n",
       "2018-03-01  2243700.0  3588100.0  \n",
       "2018-04-01  2248400.0  3656000.0  \n",
       "\n",
       "[5 rows x 28 columns]"
      ]
     },
     "execution_count": 14,
     "metadata": {},
     "output_type": "execute_result"
    }
   ],
   "source": [
    "zip_df.tail()"
   ]
  },
  {
   "cell_type": "code",
   "execution_count": 15,
   "metadata": {},
   "outputs": [
    {
     "data": {
      "text/plain": [
       "DatetimeIndex(['1996-04-01', '1996-05-01', '1996-06-01', '1996-07-01',\n",
       "               '1996-08-01', '1996-09-01', '1996-10-01', '1996-11-01',\n",
       "               '1996-12-01', '1997-01-01',\n",
       "               ...\n",
       "               '2017-07-01', '2017-08-01', '2017-09-01', '2017-10-01',\n",
       "               '2017-11-01', '2017-12-01', '2018-01-01', '2018-02-01',\n",
       "               '2018-03-01', '2018-04-01'],\n",
       "              dtype='datetime64[ns]', name='Month', length=265, freq='MS')"
      ]
     },
     "execution_count": 15,
     "metadata": {},
     "output_type": "execute_result"
    }
   ],
   "source": [
    "zip_df.index"
   ]
  },
  {
   "cell_type": "code",
   "execution_count": 16,
   "metadata": {},
   "outputs": [
    {
     "data": {
      "text/plain": [
       "11226     0\n",
       "11235     0\n",
       "11230     0\n",
       "11209     0\n",
       "11212     0\n",
       "11214     0\n",
       "11221     0\n",
       "11229     0\n",
       "11234     0\n",
       "11215     0\n",
       "11211     0\n",
       "11233     0\n",
       "11236     0\n",
       "11218     0\n",
       "11223     0\n",
       "11208     0\n",
       "11204     0\n",
       "11219     0\n",
       "11203     0\n",
       "11220     0\n",
       "11216     0\n",
       "11210     0\n",
       "11224     0\n",
       "11222     0\n",
       "11228     0\n",
       "11238    93\n",
       "11205    93\n",
       "11217    93\n",
       "dtype: int64"
      ]
     },
     "execution_count": 16,
     "metadata": {},
     "output_type": "execute_result"
    }
   ],
   "source": [
    "zip_df.isna().sum()"
   ]
  },
  {
   "cell_type": "code",
   "execution_count": 17,
   "metadata": {},
   "outputs": [],
   "source": [
    "zip_df.bfill(inplace=True)"
   ]
  },
  {
   "cell_type": "code",
   "execution_count": 18,
   "metadata": {},
   "outputs": [
    {
     "data": {
      "text/plain": [
       "833100.0     94\n",
       "1290900.0     2\n",
       "2351000.0     2\n",
       "1355000.0     2\n",
       "2248400.0     2\n",
       "             ..\n",
       "1411700.0     1\n",
       "1036600.0     1\n",
       "1659500.0     1\n",
       "1345800.0     1\n",
       "1258500.0     1\n",
       "Name: 11205, Length: 168, dtype: int64"
      ]
     },
     "execution_count": 18,
     "metadata": {},
     "output_type": "execute_result"
    }
   ],
   "source": [
    "zip_df[11205].value_counts(dropna=False)"
   ]
  },
  {
   "cell_type": "code",
   "execution_count": 19,
   "metadata": {},
   "outputs": [
    {
     "data": {
      "text/plain": [
       "Int64Index([11226, 11235, 11230, 11209, 11212, 11214, 11221, 11229, 11234,\n",
       "            11215, 11211, 11233, 11236, 11218, 11223, 11208, 11204, 11219,\n",
       "            11203, 11220, 11216, 11210, 11224, 11222, 11228, 11238, 11205,\n",
       "            11217],\n",
       "           dtype='int64')"
      ]
     },
     "execution_count": 19,
     "metadata": {},
     "output_type": "execute_result"
    }
   ],
   "source": [
    "zip_df.keys()"
   ]
  },
  {
   "cell_type": "code",
   "execution_count": 98,
   "metadata": {},
   "outputs": [
    {
     "data": {
      "text/plain": [
       "<matplotlib.legend.Legend at 0x7f93d3e839b0>"
      ]
     },
     "execution_count": 98,
     "metadata": {},
     "output_type": "execute_result"
    },
    {
     "data": {
      "image/png": "[encoded data removed]",
      "text/plain": [
       "<Figure size 864x576 with 1 Axes>"
      ]
     },
     "metadata": {
      "needs_background": "light"
     },
     "output_type": "display_data"
    }
   ],
   "source": [
    "zip_df.plot(figsize=(12,8))\n",
    "plt.title(\"Housing Price Trends \")\n",
    "#plt.set(title=f'Baltimore Crime Rates - {zip_df.index.freq}')\n",
    "plt.xlabel('Year')\n",
    "plt.ylabel('Home Price $')\n",
    "plt.legend(bbox_to_anchor=(1.05,1),loc='upper left')"
   ]
  },
  {
   "cell_type": "code",
   "execution_count": 21,
   "metadata": {},
   "outputs": [],
   "source": [
    "year = '2014'\n",
    "train_brk = zip_df.loc[:year]\n",
    "test_brk = zip_df.loc[year:]"
   ]
  },
  {
   "cell_type": "code",
   "execution_count": 22,
   "metadata": {},
   "outputs": [
    {
     "name": "stdout",
     "output_type": "stream",
     "text": [
      "265\n",
      "(225, 28)\n",
      "(52, 28)\n"
     ]
    }
   ],
   "source": [
    "print(len(zip_df))\n",
    "print(train_brk.shape)\n",
    "print(test_brk.shape)"
   ]
  },
  {
   "cell_type": "code",
   "execution_count": 23,
   "metadata": {},
   "outputs": [
    {
     "data": {
      "text/plain": [
       "Month\n",
       "1996-04-01    188500.0\n",
       "1996-05-01    188700.0\n",
       "1996-06-01    188800.0\n",
       "1996-07-01    189000.0\n",
       "1996-08-01    189400.0\n",
       "                ...   \n",
       "2017-12-01    903000.0\n",
       "2018-01-01    906500.0\n",
       "2018-02-01    910700.0\n",
       "2018-03-01    915600.0\n",
       "2018-04-01    917900.0\n",
       "Freq: MS, Name: 11220, Length: 265, dtype: float64"
      ]
     },
     "execution_count": 23,
     "metadata": {},
     "output_type": "execute_result"
    }
   ],
   "source": [
    "zip_df[11220]"
   ]
  },
  {
   "cell_type": "code",
   "execution_count": 24,
   "metadata": {},
   "outputs": [
    {
     "data": {
      "text/plain": [
       "Month\n",
       "1996-04-01    188500.0\n",
       "1996-05-01    188700.0\n",
       "1996-06-01    188800.0\n",
       "1996-07-01    189000.0\n",
       "1996-08-01    189400.0\n",
       "                ...   \n",
       "2014-08-01    680000.0\n",
       "2014-09-01    684100.0\n",
       "2014-10-01    688300.0\n",
       "2014-11-01    695400.0\n",
       "2014-12-01    699600.0\n",
       "Freq: MS, Name: 11220, Length: 225, dtype: float64"
      ]
     },
     "execution_count": 24,
     "metadata": {},
     "output_type": "execute_result"
    }
   ],
   "source": [
    "train_brk[11220]"
   ]
  },
  {
   "cell_type": "code",
   "execution_count": 25,
   "metadata": {},
   "outputs": [],
   "source": [
    "import six\n",
    "import sys\n",
    "sys.modules['sklearn.externals.six'] = six"
   ]
  },
  {
   "cell_type": "code",
   "execution_count": 26,
   "metadata": {},
   "outputs": [],
   "source": [
    "import six\n",
    "import joblib\n",
    "import sys\n",
    "sys.modules['sklearn.externals.six'] = six\n",
    "sys.modules['sklearn.externals.joblib'] = joblib\n",
    "import pmdarima as pm\n",
    "from pmdarima import auto_arima"
   ]
  },
  {
   "cell_type": "code",
   "execution_count": 27,
   "metadata": {},
   "outputs": [],
   "source": [
    "#stepwise_fit = auto_arima(train_brk[11220],start_p=0, start_q=0,max_p=6,max_q=3, trace=True)\n",
    "\n",
    "def arima_model(df):\n",
    "    autoarima_model = auto_arima(df, start_p = 1, start_q = 1, \n",
    "                              test='adf',             # use adftest to find optimal 'd'\n",
    "                              max_p = 3, max_q = 3,   # maximum p and q\n",
    "                              m = 12,                  #frequency of series \n",
    "                              d = 1,               # let model determine 'd'\n",
    "                              seasonal = True, \n",
    "                              start_P=1, D=1, trace = True, \n",
    "                              error_action ='ignore',   # we don't want to know if an order does not work \n",
    "                              suppress_warnings = True,  # we don't want convergence warnings \n",
    "                              stepwise = True)           # set to stepwise  \n",
    "    \n",
    "    print('\\n')\n",
    "    display(autoarima_model.summary())\n",
    "    \n",
    "    #autoarima_model.plot_diagnostics(figsize=(12,10))\n",
    "    \n",
    "    return autoarima_model\n",
    "\n",
    "    #autoarima_model.summary()"
   ]
  },
  {
   "cell_type": "code",
   "execution_count": 29,
   "metadata": {},
   "outputs": [
    {
     "name": "stdout",
     "output_type": "stream",
     "text": [
      "Fit ARIMA: order=(1, 1, 1) seasonal_order=(1, 1, 1, 12); AIC=4327.373, BIC=4347.513, Fit time=2.159 seconds\n",
      "Fit ARIMA: order=(0, 1, 0) seasonal_order=(0, 1, 0, 12); AIC=4341.425, BIC=4348.139, Fit time=0.025 seconds\n",
      "Fit ARIMA: order=(1, 1, 0) seasonal_order=(1, 1, 0, 12); AIC=4417.531, BIC=4430.958, Fit time=0.405 seconds\n",
      "Fit ARIMA: order=(0, 1, 1) seasonal_order=(0, 1, 1, 12); AIC=4315.571, BIC=4328.998, Fit time=0.445 seconds\n",
      "Fit ARIMA: order=(0, 1, 1) seasonal_order=(1, 1, 1, 12); AIC=4276.972, BIC=4293.755, Fit time=1.812 seconds\n",
      "Fit ARIMA: order=(0, 1, 1) seasonal_order=(1, 1, 0, 12); AIC=4321.820, BIC=4335.246, Fit time=0.293 seconds\n",
      "Fit ARIMA: order=(0, 1, 1) seasonal_order=(1, 1, 2, 12); AIC=4282.564, BIC=4302.703, Fit time=4.006 seconds\n",
      "Fit ARIMA: order=(0, 1, 1) seasonal_order=(0, 1, 0, 12); AIC=4312.603, BIC=4322.673, Fit time=0.256 seconds\n",
      "Fit ARIMA: order=(0, 1, 1) seasonal_order=(2, 1, 2, 12); AIC=4282.622, BIC=4306.118, Fit time=4.744 seconds\n",
      "Fit ARIMA: order=(0, 1, 0) seasonal_order=(1, 1, 1, 12); AIC=4301.054, BIC=4314.480, Fit time=1.556 seconds\n",
      "Fit ARIMA: order=(0, 1, 2) seasonal_order=(1, 1, 1, 12); AIC=4270.432, BIC=4290.572, Fit time=1.849 seconds\n",
      "Fit ARIMA: order=(1, 1, 3) seasonal_order=(1, 1, 1, 12); AIC=4353.402, BIC=4380.255, Fit time=2.731 seconds\n",
      "Fit ARIMA: order=(0, 1, 2) seasonal_order=(0, 1, 1, 12); AIC=4284.110, BIC=4300.893, Fit time=1.166 seconds\n",
      "Fit ARIMA: order=(0, 1, 2) seasonal_order=(2, 1, 1, 12); AIC=4271.402, BIC=4294.898, Fit time=4.624 seconds\n",
      "Fit ARIMA: order=(0, 1, 2) seasonal_order=(1, 1, 0, 12); AIC=4402.351, BIC=4419.134, Fit time=0.337 seconds\n",
      "Fit ARIMA: order=(0, 1, 2) seasonal_order=(1, 1, 2, 12); AIC=4271.802, BIC=4295.298, Fit time=4.846 seconds\n",
      "Fit ARIMA: order=(0, 1, 2) seasonal_order=(0, 1, 0, 12); AIC=4303.394, BIC=4316.820, Fit time=0.362 seconds\n",
      "Fit ARIMA: order=(0, 1, 2) seasonal_order=(2, 1, 2, 12); AIC=4272.604, BIC=4299.457, Fit time=5.200 seconds\n",
      "Fit ARIMA: order=(1, 1, 2) seasonal_order=(1, 1, 1, 12); AIC=4299.662, BIC=4323.158, Fit time=2.101 seconds\n",
      "Fit ARIMA: order=(0, 1, 3) seasonal_order=(1, 1, 1, 12); AIC=4269.292, BIC=4292.788, Fit time=4.128 seconds\n",
      "Fit ARIMA: order=(0, 1, 3) seasonal_order=(0, 1, 1, 12); AIC=4282.628, BIC=4302.767, Fit time=2.587 seconds\n",
      "Fit ARIMA: order=(0, 1, 3) seasonal_order=(2, 1, 1, 12); AIC=4270.230, BIC=4297.083, Fit time=10.625 seconds\n",
      "Fit ARIMA: order=(0, 1, 3) seasonal_order=(1, 1, 0, 12); AIC=4286.570, BIC=4306.709, Fit time=1.232 seconds\n",
      "Fit ARIMA: order=(0, 1, 3) seasonal_order=(1, 1, 2, 12); AIC=4275.881, BIC=4302.734, Fit time=7.072 seconds\n",
      "Fit ARIMA: order=(0, 1, 3) seasonal_order=(0, 1, 0, 12); AIC=4301.716, BIC=4318.498, Fit time=0.744 seconds\n",
      "Fit ARIMA: order=(0, 1, 3) seasonal_order=(2, 1, 2, 12); AIC=4309.047, BIC=4339.257, Fit time=7.155 seconds\n",
      "Total fit time: 72.468 seconds\n",
      "\n",
      "\n"
     ]
    },
    {
     "data": {
      "text/html": [
       "<table class=\"simpletable\">\n",
       "<caption>Statespace Model Results</caption>\n",
       "<tr>\n",
       "  <th>Dep. Variable:</th>                  <td>y</td>               <th>  No. Observations:  </th>    <td>225</td>   \n",
       "</tr>\n",
       "<tr>\n",
       "  <th>Model:</th>           <td>SARIMAX(0, 1, 3)x(1, 1, 1, 12)</td> <th>  Log Likelihood     </th> <td>-2127.646</td>\n",
       "</tr>\n",
       "<tr>\n",
       "  <th>Date:</th>                   <td>Thu, 05 Nov 2020</td>        <th>  AIC                </th> <td>4269.292</td> \n",
       "</tr>\n",
       "<tr>\n",
       "  <th>Time:</th>                       <td>11:35:38</td>            <th>  BIC                </th> <td>4292.788</td> \n",
       "</tr>\n",
       "<tr>\n",
       "  <th>Sample:</th>                         <td>0</td>               <th>  HQIC               </th> <td>4278.789</td> \n",
       "</tr>\n",
       "<tr>\n",
       "  <th></th>                             <td> - 225</td>             <th>                     </th>     <td> </td>    \n",
       "</tr>\n",
       "<tr>\n",
       "  <th>Covariance Type:</th>               <td>opg</td>              <th>                     </th>     <td> </td>    \n",
       "</tr>\n",
       "</table>\n",
       "<table class=\"simpletable\">\n",
       "<tr>\n",
       "      <td></td>         <th>coef</th>     <th>std err</th>      <th>z</th>      <th>P>|z|</th>  <th>[0.025</th>    <th>0.975]</th>  \n",
       "</tr>\n",
       "<tr>\n",
       "  <th>intercept</th> <td>   85.9357</td> <td>   60.462</td> <td>    1.421</td> <td> 0.155</td> <td>  -32.567</td> <td>  204.439</td>\n",
       "</tr>\n",
       "<tr>\n",
       "  <th>ma.L1</th>     <td>    0.1707</td> <td>    0.011</td> <td>   15.897</td> <td> 0.000</td> <td>    0.150</td> <td>    0.192</td>\n",
       "</tr>\n",
       "<tr>\n",
       "  <th>ma.L2</th>     <td>    0.1064</td> <td>    0.018</td> <td>    5.823</td> <td> 0.000</td> <td>    0.071</td> <td>    0.142</td>\n",
       "</tr>\n",
       "<tr>\n",
       "  <th>ma.L3</th>     <td>    0.0600</td> <td>    0.039</td> <td>    1.556</td> <td> 0.120</td> <td>   -0.016</td> <td>    0.136</td>\n",
       "</tr>\n",
       "<tr>\n",
       "  <th>ar.S.L12</th>  <td>    0.6425</td> <td>    0.031</td> <td>   20.775</td> <td> 0.000</td> <td>    0.582</td> <td>    0.703</td>\n",
       "</tr>\n",
       "<tr>\n",
       "  <th>ma.S.L12</th>  <td>   -1.0000</td> <td>    0.087</td> <td>  -11.547</td> <td> 0.000</td> <td>   -1.170</td> <td>   -0.830</td>\n",
       "</tr>\n",
       "<tr>\n",
       "  <th>sigma2</th>    <td>  2.73e+07</td> <td> 3.15e-09</td> <td> 8.68e+15</td> <td> 0.000</td> <td> 2.73e+07</td> <td> 2.73e+07</td>\n",
       "</tr>\n",
       "</table>\n",
       "<table class=\"simpletable\">\n",
       "<tr>\n",
       "  <th>Ljung-Box (Q):</th>          <td>297.08</td> <th>  Jarque-Bera (JB):  </th> <td>28.17</td>\n",
       "</tr>\n",
       "<tr>\n",
       "  <th>Prob(Q):</th>                 <td>0.00</td>  <th>  Prob(JB):          </th> <td>0.00</td> \n",
       "</tr>\n",
       "<tr>\n",
       "  <th>Heteroskedasticity (H):</th>  <td>2.50</td>  <th>  Skew:              </th> <td>0.16</td> \n",
       "</tr>\n",
       "<tr>\n",
       "  <th>Prob(H) (two-sided):</th>     <td>0.00</td>  <th>  Kurtosis:          </th> <td>4.76</td> \n",
       "</tr>\n",
       "</table><br/><br/>Warnings:<br/>[1] Covariance matrix calculated using the outer product of gradients (complex-step).<br/>[2] Covariance matrix is singular or near-singular, with condition number 1.68e+36. Standard errors may be unstable."
      ],
      "text/plain": [
       "<class 'statsmodels.iolib.summary.Summary'>\n",
       "\"\"\"\n",
       "                                 Statespace Model Results                                 \n",
       "==========================================================================================\n",
       "Dep. Variable:                                  y   No. Observations:                  225\n",
       "Model:             SARIMAX(0, 1, 3)x(1, 1, 1, 12)   Log Likelihood               -2127.646\n",
       "Date:                            Thu, 05 Nov 2020   AIC                           4269.292\n",
       "Time:                                    11:35:38   BIC                           4292.788\n",
       "Sample:                                         0   HQIC                          4278.789\n",
       "                                            - 225                                         \n",
       "Covariance Type:                              opg                                         \n",
       "==============================================================================\n",
       "                 coef    std err          z      P>|z|      [0.025      0.975]\n",
       "------------------------------------------------------------------------------\n",
       "intercept     85.9357     60.462      1.421      0.155     -32.567     204.439\n",
       "ma.L1          0.1707      0.011     15.897      0.000       0.150       0.192\n",
       "ma.L2          0.1064      0.018      5.823      0.000       0.071       0.142\n",
       "ma.L3          0.0600      0.039      1.556      0.120      -0.016       0.136\n",
       "ar.S.L12       0.6425      0.031     20.775      0.000       0.582       0.703\n",
       "ma.S.L12      -1.0000      0.087    -11.547      0.000      -1.170      -0.830\n",
       "sigma2       2.73e+07   3.15e-09   8.68e+15      0.000    2.73e+07    2.73e+07\n",
       "===================================================================================\n",
       "Ljung-Box (Q):                      297.08   Jarque-Bera (JB):                28.17\n",
       "Prob(Q):                              0.00   Prob(JB):                         0.00\n",
       "Heteroskedasticity (H):               2.50   Skew:                             0.16\n",
       "Prob(H) (two-sided):                  0.00   Kurtosis:                         4.76\n",
       "===================================================================================\n",
       "\n",
       "Warnings:\n",
       "[1] Covariance matrix calculated using the outer product of gradients (complex-step).\n",
       "[2] Covariance matrix is singular or near-singular, with condition number 1.68e+36. Standard errors may be unstable.\n",
       "\"\"\""
      ]
     },
     "metadata": {},
     "output_type": "display_data"
    }
   ],
   "source": [
    "stepwise_fit = arima_model(train_brk[11220])"
   ]
  },
  {
   "cell_type": "code",
   "execution_count": 30,
   "metadata": {},
   "outputs": [
    {
     "data": {
      "text/html": [
       "<table class=\"simpletable\">\n",
       "<caption>Statespace Model Results</caption>\n",
       "<tr>\n",
       "  <th>Dep. Variable:</th>                  <td>y</td>               <th>  No. Observations:  </th>    <td>225</td>   \n",
       "</tr>\n",
       "<tr>\n",
       "  <th>Model:</th>           <td>SARIMAX(0, 1, 3)x(1, 1, 1, 12)</td> <th>  Log Likelihood     </th> <td>-2127.646</td>\n",
       "</tr>\n",
       "<tr>\n",
       "  <th>Date:</th>                   <td>Thu, 05 Nov 2020</td>        <th>  AIC                </th> <td>4269.292</td> \n",
       "</tr>\n",
       "<tr>\n",
       "  <th>Time:</th>                       <td>11:35:38</td>            <th>  BIC                </th> <td>4292.788</td> \n",
       "</tr>\n",
       "<tr>\n",
       "  <th>Sample:</th>                         <td>0</td>               <th>  HQIC               </th> <td>4278.789</td> \n",
       "</tr>\n",
       "<tr>\n",
       "  <th></th>                             <td> - 225</td>             <th>                     </th>     <td> </td>    \n",
       "</tr>\n",
       "<tr>\n",
       "  <th>Covariance Type:</th>               <td>opg</td>              <th>                     </th>     <td> </td>    \n",
       "</tr>\n",
       "</table>\n",
       "<table class=\"simpletable\">\n",
       "<tr>\n",
       "      <td></td>         <th>coef</th>     <th>std err</th>      <th>z</th>      <th>P>|z|</th>  <th>[0.025</th>    <th>0.975]</th>  \n",
       "</tr>\n",
       "<tr>\n",
       "  <th>intercept</th> <td>   85.9357</td> <td>   60.462</td> <td>    1.421</td> <td> 0.155</td> <td>  -32.567</td> <td>  204.439</td>\n",
       "</tr>\n",
       "<tr>\n",
       "  <th>ma.L1</th>     <td>    0.1707</td> <td>    0.011</td> <td>   15.897</td> <td> 0.000</td> <td>    0.150</td> <td>    0.192</td>\n",
       "</tr>\n",
       "<tr>\n",
       "  <th>ma.L2</th>     <td>    0.1064</td> <td>    0.018</td> <td>    5.823</td> <td> 0.000</td> <td>    0.071</td> <td>    0.142</td>\n",
       "</tr>\n",
       "<tr>\n",
       "  <th>ma.L3</th>     <td>    0.0600</td> <td>    0.039</td> <td>    1.556</td> <td> 0.120</td> <td>   -0.016</td> <td>    0.136</td>\n",
       "</tr>\n",
       "<tr>\n",
       "  <th>ar.S.L12</th>  <td>    0.6425</td> <td>    0.031</td> <td>   20.775</td> <td> 0.000</td> <td>    0.582</td> <td>    0.703</td>\n",
       "</tr>\n",
       "<tr>\n",
       "  <th>ma.S.L12</th>  <td>   -1.0000</td> <td>    0.087</td> <td>  -11.547</td> <td> 0.000</td> <td>   -1.170</td> <td>   -0.830</td>\n",
       "</tr>\n",
       "<tr>\n",
       "  <th>sigma2</th>    <td>  2.73e+07</td> <td> 3.15e-09</td> <td> 8.68e+15</td> <td> 0.000</td> <td> 2.73e+07</td> <td> 2.73e+07</td>\n",
       "</tr>\n",
       "</table>\n",
       "<table class=\"simpletable\">\n",
       "<tr>\n",
       "  <th>Ljung-Box (Q):</th>          <td>297.08</td> <th>  Jarque-Bera (JB):  </th> <td>28.17</td>\n",
       "</tr>\n",
       "<tr>\n",
       "  <th>Prob(Q):</th>                 <td>0.00</td>  <th>  Prob(JB):          </th> <td>0.00</td> \n",
       "</tr>\n",
       "<tr>\n",
       "  <th>Heteroskedasticity (H):</th>  <td>2.50</td>  <th>  Skew:              </th> <td>0.16</td> \n",
       "</tr>\n",
       "<tr>\n",
       "  <th>Prob(H) (two-sided):</th>     <td>0.00</td>  <th>  Kurtosis:          </th> <td>4.76</td> \n",
       "</tr>\n",
       "</table><br/><br/>Warnings:<br/>[1] Covariance matrix calculated using the outer product of gradients (complex-step).<br/>[2] Covariance matrix is singular or near-singular, with condition number 1.68e+36. Standard errors may be unstable."
      ],
      "text/plain": [
       "<class 'statsmodels.iolib.summary.Summary'>\n",
       "\"\"\"\n",
       "                                 Statespace Model Results                                 \n",
       "==========================================================================================\n",
       "Dep. Variable:                                  y   No. Observations:                  225\n",
       "Model:             SARIMAX(0, 1, 3)x(1, 1, 1, 12)   Log Likelihood               -2127.646\n",
       "Date:                            Thu, 05 Nov 2020   AIC                           4269.292\n",
       "Time:                                    11:35:38   BIC                           4292.788\n",
       "Sample:                                         0   HQIC                          4278.789\n",
       "                                            - 225                                         \n",
       "Covariance Type:                              opg                                         \n",
       "==============================================================================\n",
       "                 coef    std err          z      P>|z|      [0.025      0.975]\n",
       "------------------------------------------------------------------------------\n",
       "intercept     85.9357     60.462      1.421      0.155     -32.567     204.439\n",
       "ma.L1          0.1707      0.011     15.897      0.000       0.150       0.192\n",
       "ma.L2          0.1064      0.018      5.823      0.000       0.071       0.142\n",
       "ma.L3          0.0600      0.039      1.556      0.120      -0.016       0.136\n",
       "ar.S.L12       0.6425      0.031     20.775      0.000       0.582       0.703\n",
       "ma.S.L12      -1.0000      0.087    -11.547      0.000      -1.170      -0.830\n",
       "sigma2       2.73e+07   3.15e-09   8.68e+15      0.000    2.73e+07    2.73e+07\n",
       "===================================================================================\n",
       "Ljung-Box (Q):                      297.08   Jarque-Bera (JB):                28.17\n",
       "Prob(Q):                              0.00   Prob(JB):                         0.00\n",
       "Heteroskedasticity (H):               2.50   Skew:                             0.16\n",
       "Prob(H) (two-sided):                  0.00   Kurtosis:                         4.76\n",
       "===================================================================================\n",
       "\n",
       "Warnings:\n",
       "[1] Covariance matrix calculated using the outer product of gradients (complex-step).\n",
       "[2] Covariance matrix is singular or near-singular, with condition number 1.68e+36. Standard errors may be unstable.\n",
       "\"\"\""
      ]
     },
     "execution_count": 30,
     "metadata": {},
     "output_type": "execute_result"
    }
   ],
   "source": [
    "stepwise_fit.summary()"
   ]
  },
  {
   "cell_type": "code",
   "execution_count": 31,
   "metadata": {},
   "outputs": [
    {
     "name": "stdout",
     "output_type": "stream",
     "text": [
      "[704378.10870094 710162.41865624 713611.82304689 717350.83104583\n",
      " 717270.41566033 716943.8461212  718138.62697148 721715.50368646\n",
      " 726192.01344076 730777.07822044 737339.69891881 741911.65929357\n",
      " 746605.97631541 751763.5809553  755034.51350744 762032.8195601\n",
      " 763592.94735586 765005.76850213 767503.90083509 771665.86437858\n",
      " 776470.22116105 781388.62965877 787691.91447223 792588.79885304\n",
      " 797315.214601   802156.0904934  805398.28881666 814576.66238364\n",
      " 817276.79140185 819893.12428649 823314.60878307 827938.43222341\n",
      " 833039.36974292 838257.89065623 844480.4852774  849672.07232412\n",
      " 854505.04754953 859228.35775802 862538.02977308 873203.05437468\n",
      " 876721.58137085 880197.1183789  884297.80165344 889304.31044725\n",
      " 894681.73979716 900179.02167988 906435.70776366 911902.5799612\n",
      " 916889.95644592 921623.66524263 925062.6255065  936768.77407801]\n"
     ]
    }
   ],
   "source": [
    "#length of test data\n",
    "future_forecast = stepwise_fit.predict(n_periods=52)\n",
    "print(future_forecast)"
   ]
  },
  {
   "cell_type": "code",
   "execution_count": 32,
   "metadata": {},
   "outputs": [
    {
     "data": {
      "text/plain": [
       "<AxesSubplot:xlabel='Month'>"
      ]
     },
     "execution_count": 32,
     "metadata": {},
     "output_type": "execute_result"
    },
    {
     "data": {
      "image/png": "[encoded data removed]",
      "text/plain": [
       "<Figure size 432x288 with 1 Axes>"
      ]
     },
     "metadata": {
      "needs_background": "light"
     },
     "output_type": "display_data"
    }
   ],
   "source": [
    "future_forecast = pd.DataFrame(future_forecast,index = test_brk.index,columns=['Prediction'])\n",
    "pd.concat([train_brk[11220],future_forecast],axis=1).plot()"
   ]
  },
  {
   "cell_type": "code",
   "execution_count": 33,
   "metadata": {},
   "outputs": [
    {
     "data": {
      "text/plain": [
       "<matplotlib.legend.Legend at 0x7f940783b080>"
      ]
     },
     "execution_count": 33,
     "metadata": {},
     "output_type": "execute_result"
    },
    {
     "data": {
      "image/png": "[encoded data removed]",
      "text/plain": [
       "<Figure size 864x360 with 1 Axes>"
      ]
     },
     "metadata": {
      "needs_background": "light"
     },
     "output_type": "display_data"
    }
   ],
   "source": [
    "plt.figure(figsize=(12,5))\n",
    "plt.plot(train_brk[11220], label='Train')\n",
    "plt.plot(test_brk[11220],label='Test')\n",
    "plt.plot(future_forecast,label='Predicted')\n",
    "plt.legend()"
   ]
  },
  {
   "cell_type": "code",
   "execution_count": 34,
   "metadata": {},
   "outputs": [
    {
     "name": "stdout",
     "output_type": "stream",
     "text": [
      "24462.197147875693\n"
     ]
    }
   ],
   "source": [
    "from sklearn.metrics import mean_squared_error\n",
    "from math import sqrt\n",
    "\n",
    "mse = mean_squared_error(test_brk[11220], future_forecast)\n",
    "rmse = sqrt(mse)\n",
    "print(rmse)"
   ]
  },
  {
   "cell_type": "code",
   "execution_count": null,
   "metadata": {},
   "outputs": [],
   "source": []
  },
  {
   "cell_type": "code",
   "execution_count": 35,
   "metadata": {},
   "outputs": [
    {
     "data": {
      "text/html": [
       "<div>\n",
       "<style scoped>\n",
       "    .dataframe tbody tr th:only-of-type {\n",
       "        vertical-align: middle;\n",
       "    }\n",
       "\n",
       "    .dataframe tbody tr th {\n",
       "        vertical-align: top;\n",
       "    }\n",
       "\n",
       "    .dataframe thead th {\n",
       "        text-align: right;\n",
       "    }\n",
       "</style>\n",
       "<table border=\"1\" class=\"dataframe\">\n",
       "  <thead>\n",
       "    <tr style=\"text-align: right;\">\n",
       "      <th></th>\n",
       "      <th>RegionID</th>\n",
       "      <th>Zipcode</th>\n",
       "      <th>City</th>\n",
       "      <th>State</th>\n",
       "      <th>Metro</th>\n",
       "      <th>CountyName</th>\n",
       "      <th>SizeRank</th>\n",
       "      <th>Month</th>\n",
       "      <th>MeanValue</th>\n",
       "    </tr>\n",
       "  </thead>\n",
       "  <tbody>\n",
       "    <tr>\n",
       "      <th>427073</th>\n",
       "      <td>62026</td>\n",
       "      <td>11215</td>\n",
       "      <td>New York</td>\n",
       "      <td>NY</td>\n",
       "      <td>New York</td>\n",
       "      <td>Kings</td>\n",
       "      <td>107</td>\n",
       "      <td>1998-09-01</td>\n",
       "      <td>302800.0</td>\n",
       "    </tr>\n",
       "    <tr>\n",
       "      <th>441796</th>\n",
       "      <td>62026</td>\n",
       "      <td>11215</td>\n",
       "      <td>New York</td>\n",
       "      <td>NY</td>\n",
       "      <td>New York</td>\n",
       "      <td>Kings</td>\n",
       "      <td>107</td>\n",
       "      <td>1998-10-01</td>\n",
       "      <td>308200.0</td>\n",
       "    </tr>\n",
       "    <tr>\n",
       "      <th>456519</th>\n",
       "      <td>62026</td>\n",
       "      <td>11215</td>\n",
       "      <td>New York</td>\n",
       "      <td>NY</td>\n",
       "      <td>New York</td>\n",
       "      <td>Kings</td>\n",
       "      <td>107</td>\n",
       "      <td>1998-11-01</td>\n",
       "      <td>314100.0</td>\n",
       "    </tr>\n",
       "    <tr>\n",
       "      <th>471242</th>\n",
       "      <td>62026</td>\n",
       "      <td>11215</td>\n",
       "      <td>New York</td>\n",
       "      <td>NY</td>\n",
       "      <td>New York</td>\n",
       "      <td>Kings</td>\n",
       "      <td>107</td>\n",
       "      <td>1998-12-01</td>\n",
       "      <td>321000.0</td>\n",
       "    </tr>\n",
       "    <tr>\n",
       "      <th>485965</th>\n",
       "      <td>62026</td>\n",
       "      <td>11215</td>\n",
       "      <td>New York</td>\n",
       "      <td>NY</td>\n",
       "      <td>New York</td>\n",
       "      <td>Kings</td>\n",
       "      <td>107</td>\n",
       "      <td>1999-01-01</td>\n",
       "      <td>327800.0</td>\n",
       "    </tr>\n",
       "    <tr>\n",
       "      <th>...</th>\n",
       "      <td>...</td>\n",
       "      <td>...</td>\n",
       "      <td>...</td>\n",
       "      <td>...</td>\n",
       "      <td>...</td>\n",
       "      <td>...</td>\n",
       "      <td>...</td>\n",
       "      <td>...</td>\n",
       "      <td>...</td>\n",
       "    </tr>\n",
       "    <tr>\n",
       "      <th>3887683</th>\n",
       "      <td>62035</td>\n",
       "      <td>11224</td>\n",
       "      <td>New York</td>\n",
       "      <td>NY</td>\n",
       "      <td>New York</td>\n",
       "      <td>Kings</td>\n",
       "      <td>812</td>\n",
       "      <td>2018-04-01</td>\n",
       "      <td>517900.0</td>\n",
       "    </tr>\n",
       "    <tr>\n",
       "      <th>3888027</th>\n",
       "      <td>62033</td>\n",
       "      <td>11222</td>\n",
       "      <td>New York</td>\n",
       "      <td>NY</td>\n",
       "      <td>New York</td>\n",
       "      <td>Kings</td>\n",
       "      <td>1156</td>\n",
       "      <td>2018-04-01</td>\n",
       "      <td>1721100.0</td>\n",
       "    </tr>\n",
       "    <tr>\n",
       "      <th>3888306</th>\n",
       "      <td>62016</td>\n",
       "      <td>11205</td>\n",
       "      <td>New York</td>\n",
       "      <td>NY</td>\n",
       "      <td>New York</td>\n",
       "      <td>Kings</td>\n",
       "      <td>1435</td>\n",
       "      <td>2018-04-01</td>\n",
       "      <td>2248400.0</td>\n",
       "    </tr>\n",
       "    <tr>\n",
       "      <th>3888406</th>\n",
       "      <td>62028</td>\n",
       "      <td>11217</td>\n",
       "      <td>New York</td>\n",
       "      <td>NY</td>\n",
       "      <td>New York</td>\n",
       "      <td>Kings</td>\n",
       "      <td>1535</td>\n",
       "      <td>2018-04-01</td>\n",
       "      <td>3656000.0</td>\n",
       "    </tr>\n",
       "    <tr>\n",
       "      <th>3890600</th>\n",
       "      <td>62038</td>\n",
       "      <td>11228</td>\n",
       "      <td>New York</td>\n",
       "      <td>NY</td>\n",
       "      <td>New York</td>\n",
       "      <td>Kings</td>\n",
       "      <td>3729</td>\n",
       "      <td>2018-04-01</td>\n",
       "      <td>915300.0</td>\n",
       "    </tr>\n",
       "  </tbody>\n",
       "</table>\n",
       "<p>5193 rows × 9 columns</p>\n",
       "</div>"
      ],
      "text/plain": [
       "         RegionID  Zipcode      City State     Metro CountyName  SizeRank  \\\n",
       "427073      62026    11215  New York    NY  New York      Kings       107   \n",
       "441796      62026    11215  New York    NY  New York      Kings       107   \n",
       "456519      62026    11215  New York    NY  New York      Kings       107   \n",
       "471242      62026    11215  New York    NY  New York      Kings       107   \n",
       "485965      62026    11215  New York    NY  New York      Kings       107   \n",
       "...           ...      ...       ...   ...       ...        ...       ...   \n",
       "3887683     62035    11224  New York    NY  New York      Kings       812   \n",
       "3888027     62033    11222  New York    NY  New York      Kings      1156   \n",
       "3888306     62016    11205  New York    NY  New York      Kings      1435   \n",
       "3888406     62028    11217  New York    NY  New York      Kings      1535   \n",
       "3890600     62038    11228  New York    NY  New York      Kings      3729   \n",
       "\n",
       "             Month  MeanValue  \n",
       "427073  1998-09-01   302800.0  \n",
       "441796  1998-10-01   308200.0  \n",
       "456519  1998-11-01   314100.0  \n",
       "471242  1998-12-01   321000.0  \n",
       "485965  1999-01-01   327800.0  \n",
       "...            ...        ...  \n",
       "3887683 2018-04-01   517900.0  \n",
       "3888027 2018-04-01  1721100.0  \n",
       "3888306 2018-04-01  2248400.0  \n",
       "3888406 2018-04-01  3656000.0  \n",
       "3890600 2018-04-01   915300.0  \n",
       "\n",
       "[5193 rows x 9 columns]"
      ]
     },
     "execution_count": 35,
     "metadata": {},
     "output_type": "execute_result"
    }
   ],
   "source": [
    "kings = all_zipcodes[(all_zipcodes['CountyName']=='Kings') & (all_zipcodes['State']== 'NY') &\n",
    "                    (all_zipcodes['MeanValue']> 300000.0)]\n",
    "kings"
   ]
  },
  {
   "cell_type": "code",
   "execution_count": 36,
   "metadata": {},
   "outputs": [
    {
     "data": {
      "text/plain": [
       "28"
      ]
     },
     "execution_count": 36,
     "metadata": {},
     "output_type": "execute_result"
    }
   ],
   "source": [
    "kings['Zipcode'].nunique()"
   ]
  },
  {
   "cell_type": "code",
   "execution_count": 37,
   "metadata": {},
   "outputs": [
    {
     "data": {
      "text/plain": [
       "Int64Index([ 427073,  441796,  456519,  471242,  485965,  500631,  500688,\n",
       "             515354,  515411,  530077,\n",
       "            ...\n",
       "            3887238, 3887295, 3887311, 3887347, 3887572, 3887683, 3888027,\n",
       "            3888306, 3888406, 3890600],\n",
       "           dtype='int64', length=5193)"
      ]
     },
     "execution_count": 37,
     "metadata": {},
     "output_type": "execute_result"
    }
   ],
   "source": [
    "kings.index"
   ]
  },
  {
   "cell_type": "markdown",
   "metadata": {},
   "source": [
    "### Zipcode: 11217"
   ]
  },
  {
   "cell_type": "code",
   "execution_count": 38,
   "metadata": {},
   "outputs": [],
   "source": [
    "#make loop\n",
    "# brooklyn_zips = {}\n",
    "\n",
    "# for zipcode in kings['Zipcode'].unique(): \n",
    "#     all_zips = kings[kings['Zipcode'] == zipcode]\n",
    "#     all_zips = all_zips.set_index('Month')['MeanValue']\n",
    "#     all_zips = all_zips.asfreq('MS')\n",
    "#     brooklyn_zips[zipcode] = all_zips"
   ]
  },
  {
   "cell_type": "code",
   "execution_count": 39,
   "metadata": {},
   "outputs": [
    {
     "data": {
      "text/plain": [
       "<AxesSubplot:xlabel='Month'>"
      ]
     },
     "execution_count": 39,
     "metadata": {},
     "output_type": "execute_result"
    },
    {
     "data": {
      "image/png": "[encoded data removed]",
      "text/plain": [
       "<Figure size 432x288 with 1 Axes>"
      ]
     },
     "metadata": {
      "needs_background": "light"
     },
     "output_type": "display_data"
    }
   ],
   "source": [
    "zip_df[11217].plot()"
   ]
  },
  {
   "cell_type": "code",
   "execution_count": 40,
   "metadata": {},
   "outputs": [],
   "source": [
    "def stationary_test(df):\n",
    "    rolling_mean = df.rolling(window=12).mean()\n",
    "    rolling_std = df.rolling(window=12).std()\n",
    "\n",
    "    plt.plot(df,color='blue',label='orignal')\n",
    "    plt.plot(rolling_mean, color='red',label='Rolling Mean')\n",
    "    plt.plot(rolling_std, color='green',label='Rolling STD')\n",
    "    plt.legend(loc='best')\n",
    "    plt.title('Rolling Mean and Rolling Standard Deviation')\n",
    "    #plt.show()\n",
    "    result = adfuller(df)\n",
    "    print('ADF statistic: {}'.format(result[0]))\n",
    "    print('p-value: {}'.format(result[1]))\n",
    "    print('Critical Values:')\n",
    "    for key, value in result[4].items():\n",
    "        print('\\t{} : {}'.format(key,value))\n",
    "        \n",
    "    names = ['Test Statistic','p-value','#Lags Used','# of Observations Used']\n",
    "    res  = dict(zip(names,result[:4]))\n",
    "    res['Stationary Results'] = res['p-value']<.05\n",
    "    \n",
    "    return pd.DataFrame(res,index=['AD Fuller Results'])    "
   ]
  },
  {
   "cell_type": "code",
   "execution_count": 41,
   "metadata": {},
   "outputs": [
    {
     "name": "stdout",
     "output_type": "stream",
     "text": [
      "ADF statistic: 0.8851083655203256\n",
      "p-value: 0.992892876384823\n",
      "Critical Values:\n",
      "\t1% : -3.4569962781990573\n",
      "\t5% : -2.8732659015936024\n",
      "\t10% : -2.573018897632674\n"
     ]
    },
    {
     "data": {
      "text/html": [
       "<div>\n",
       "<style scoped>\n",
       "    .dataframe tbody tr th:only-of-type {\n",
       "        vertical-align: middle;\n",
       "    }\n",
       "\n",
       "    .dataframe tbody tr th {\n",
       "        vertical-align: top;\n",
       "    }\n",
       "\n",
       "    .dataframe thead th {\n",
       "        text-align: right;\n",
       "    }\n",
       "</style>\n",
       "<table border=\"1\" class=\"dataframe\">\n",
       "  <thead>\n",
       "    <tr style=\"text-align: right;\">\n",
       "      <th></th>\n",
       "      <th>Test Statistic</th>\n",
       "      <th>p-value</th>\n",
       "      <th>#Lags Used</th>\n",
       "      <th># of Observations Used</th>\n",
       "      <th>Stationary Results</th>\n",
       "    </tr>\n",
       "  </thead>\n",
       "  <tbody>\n",
       "    <tr>\n",
       "      <th>AD Fuller Results</th>\n",
       "      <td>0.885108</td>\n",
       "      <td>0.992893</td>\n",
       "      <td>16</td>\n",
       "      <td>248</td>\n",
       "      <td>False</td>\n",
       "    </tr>\n",
       "  </tbody>\n",
       "</table>\n",
       "</div>"
      ],
      "text/plain": [
       "                   Test Statistic   p-value  #Lags Used  \\\n",
       "AD Fuller Results        0.885108  0.992893          16   \n",
       "\n",
       "                   # of Observations Used  Stationary Results  \n",
       "AD Fuller Results                     248               False  "
      ]
     },
     "execution_count": 41,
     "metadata": {},
     "output_type": "execute_result"
    },
    {
     "data": {
      "image/png": "[encoded data removed]",
      "text/plain": [
       "<Figure size 432x288 with 1 Axes>"
      ]
     },
     "metadata": {
      "needs_background": "light"
     },
     "output_type": "display_data"
    }
   ],
   "source": [
    "stationary_test(zip_df[11217])"
   ]
  },
  {
   "cell_type": "markdown",
   "metadata": {},
   "source": [
    "###  Zipcode:  11238"
   ]
  },
  {
   "cell_type": "code",
   "execution_count": 42,
   "metadata": {},
   "outputs": [],
   "source": [
    "#brooklyn_zips[11238]"
   ]
  },
  {
   "cell_type": "code",
   "execution_count": 43,
   "metadata": {},
   "outputs": [
    {
     "name": "stdout",
     "output_type": "stream",
     "text": [
      "ADF statistic: 1.3300142358520741\n",
      "p-value: 0.9967718123702427\n",
      "Critical Values:\n",
      "\t1% : -3.4566744514553016\n",
      "\t5% : -2.8731248767783426\n",
      "\t10% : -2.5729436702592023\n"
     ]
    },
    {
     "data": {
      "text/html": [
       "<div>\n",
       "<style scoped>\n",
       "    .dataframe tbody tr th:only-of-type {\n",
       "        vertical-align: middle;\n",
       "    }\n",
       "\n",
       "    .dataframe tbody tr th {\n",
       "        vertical-align: top;\n",
       "    }\n",
       "\n",
       "    .dataframe thead th {\n",
       "        text-align: right;\n",
       "    }\n",
       "</style>\n",
       "<table border=\"1\" class=\"dataframe\">\n",
       "  <thead>\n",
       "    <tr style=\"text-align: right;\">\n",
       "      <th></th>\n",
       "      <th>Test Statistic</th>\n",
       "      <th>p-value</th>\n",
       "      <th>#Lags Used</th>\n",
       "      <th># of Observations Used</th>\n",
       "      <th>Stationary Results</th>\n",
       "    </tr>\n",
       "  </thead>\n",
       "  <tbody>\n",
       "    <tr>\n",
       "      <th>AD Fuller Results</th>\n",
       "      <td>1.330014</td>\n",
       "      <td>0.996772</td>\n",
       "      <td>13</td>\n",
       "      <td>251</td>\n",
       "      <td>False</td>\n",
       "    </tr>\n",
       "  </tbody>\n",
       "</table>\n",
       "</div>"
      ],
      "text/plain": [
       "                   Test Statistic   p-value  #Lags Used  \\\n",
       "AD Fuller Results        1.330014  0.996772          13   \n",
       "\n",
       "                   # of Observations Used  Stationary Results  \n",
       "AD Fuller Results                     251               False  "
      ]
     },
     "execution_count": 43,
     "metadata": {},
     "output_type": "execute_result"
    },
    {
     "data": {
      "image/png": "[encoded data removed]",
      "text/plain": [
       "<Figure size 432x288 with 1 Axes>"
      ]
     },
     "metadata": {
      "needs_background": "light"
     },
     "output_type": "display_data"
    }
   ],
   "source": [
    "stationary_test(zip_df[11238])"
   ]
  },
  {
   "cell_type": "markdown",
   "metadata": {},
   "source": [
    "### Zipcode:  11215"
   ]
  },
  {
   "cell_type": "code",
   "execution_count": 44,
   "metadata": {},
   "outputs": [
    {
     "name": "stdout",
     "output_type": "stream",
     "text": [
      "ADF statistic: 0.4646259676014641\n",
      "p-value: 0.9837573347851628\n",
      "Critical Values:\n",
      "\t1% : -3.4569962781990573\n",
      "\t5% : -2.8732659015936024\n",
      "\t10% : -2.573018897632674\n"
     ]
    },
    {
     "data": {
      "text/html": [
       "<div>\n",
       "<style scoped>\n",
       "    .dataframe tbody tr th:only-of-type {\n",
       "        vertical-align: middle;\n",
       "    }\n",
       "\n",
       "    .dataframe tbody tr th {\n",
       "        vertical-align: top;\n",
       "    }\n",
       "\n",
       "    .dataframe thead th {\n",
       "        text-align: right;\n",
       "    }\n",
       "</style>\n",
       "<table border=\"1\" class=\"dataframe\">\n",
       "  <thead>\n",
       "    <tr style=\"text-align: right;\">\n",
       "      <th></th>\n",
       "      <th>Test Statistic</th>\n",
       "      <th>p-value</th>\n",
       "      <th>#Lags Used</th>\n",
       "      <th># of Observations Used</th>\n",
       "      <th>Stationary Results</th>\n",
       "    </tr>\n",
       "  </thead>\n",
       "  <tbody>\n",
       "    <tr>\n",
       "      <th>AD Fuller Results</th>\n",
       "      <td>0.464626</td>\n",
       "      <td>0.983757</td>\n",
       "      <td>16</td>\n",
       "      <td>248</td>\n",
       "      <td>False</td>\n",
       "    </tr>\n",
       "  </tbody>\n",
       "</table>\n",
       "</div>"
      ],
      "text/plain": [
       "                   Test Statistic   p-value  #Lags Used  \\\n",
       "AD Fuller Results        0.464626  0.983757          16   \n",
       "\n",
       "                   # of Observations Used  Stationary Results  \n",
       "AD Fuller Results                     248               False  "
      ]
     },
     "execution_count": 44,
     "metadata": {},
     "output_type": "execute_result"
    },
    {
     "data": {
      "image/png": "[encoded data removed]",
      "text/plain": [
       "<Figure size 432x288 with 1 Axes>"
      ]
     },
     "metadata": {
      "needs_background": "light"
     },
     "output_type": "display_data"
    }
   ],
   "source": [
    "stationary_test(zip_df[11215])"
   ]
  },
  {
   "cell_type": "markdown",
   "metadata": {},
   "source": [
    "### Removing Trend\n",
    "#### Log-Transformation (np.log)"
   ]
  },
  {
   "cell_type": "code",
   "execution_count": 45,
   "metadata": {},
   "outputs": [
    {
     "name": "stdout",
     "output_type": "stream",
     "text": [
      "ADF statistic: 0.0945230624252297\n",
      "p-value: 0.9656851626501418\n",
      "Critical Values:\n",
      "\t1% : -3.4566744514553016\n",
      "\t5% : -2.8731248767783426\n",
      "\t10% : -2.5729436702592023\n"
     ]
    },
    {
     "data": {
      "text/html": [
       "<div>\n",
       "<style scoped>\n",
       "    .dataframe tbody tr th:only-of-type {\n",
       "        vertical-align: middle;\n",
       "    }\n",
       "\n",
       "    .dataframe tbody tr th {\n",
       "        vertical-align: top;\n",
       "    }\n",
       "\n",
       "    .dataframe thead th {\n",
       "        text-align: right;\n",
       "    }\n",
       "</style>\n",
       "<table border=\"1\" class=\"dataframe\">\n",
       "  <thead>\n",
       "    <tr style=\"text-align: right;\">\n",
       "      <th></th>\n",
       "      <th>Test Statistic</th>\n",
       "      <th>p-value</th>\n",
       "      <th>#Lags Used</th>\n",
       "      <th># of Observations Used</th>\n",
       "      <th>Stationary Results</th>\n",
       "    </tr>\n",
       "  </thead>\n",
       "  <tbody>\n",
       "    <tr>\n",
       "      <th>AD Fuller Results</th>\n",
       "      <td>0.094523</td>\n",
       "      <td>0.965685</td>\n",
       "      <td>13</td>\n",
       "      <td>251</td>\n",
       "      <td>False</td>\n",
       "    </tr>\n",
       "  </tbody>\n",
       "</table>\n",
       "</div>"
      ],
      "text/plain": [
       "                   Test Statistic   p-value  #Lags Used  \\\n",
       "AD Fuller Results        0.094523  0.965685          13   \n",
       "\n",
       "                   # of Observations Used  Stationary Results  \n",
       "AD Fuller Results                     251               False  "
      ]
     },
     "execution_count": 45,
     "metadata": {},
     "output_type": "execute_result"
    },
    {
     "data": {
      "image/png": "[encoded data removed]",
      "text/plain": [
       "<Figure size 432x288 with 1 Axes>"
      ]
     },
     "metadata": {
      "needs_background": "light"
     },
     "output_type": "display_data"
    }
   ],
   "source": [
    "## Log Transform\n",
    "ts3 = np.log(zip_df[11238])\n",
    "#ts3.plot()\n",
    "stationary_test(ts3)"
   ]
  },
  {
   "cell_type": "markdown",
   "metadata": {},
   "source": [
    "#### Differencing"
   ]
  },
  {
   "cell_type": "code",
   "execution_count": 46,
   "metadata": {},
   "outputs": [
    {
     "name": "stdout",
     "output_type": "stream",
     "text": [
      "ADF statistic: -1.9076797092516773\n",
      "p-value: 0.32845700267119693\n",
      "Critical Values:\n",
      "\t1% : -3.4566744514553016\n",
      "\t5% : -2.8731248767783426\n",
      "\t10% : -2.5729436702592023\n"
     ]
    },
    {
     "data": {
      "text/html": [
       "<div>\n",
       "<style scoped>\n",
       "    .dataframe tbody tr th:only-of-type {\n",
       "        vertical-align: middle;\n",
       "    }\n",
       "\n",
       "    .dataframe tbody tr th {\n",
       "        vertical-align: top;\n",
       "    }\n",
       "\n",
       "    .dataframe thead th {\n",
       "        text-align: right;\n",
       "    }\n",
       "</style>\n",
       "<table border=\"1\" class=\"dataframe\">\n",
       "  <thead>\n",
       "    <tr style=\"text-align: right;\">\n",
       "      <th></th>\n",
       "      <th>Test Statistic</th>\n",
       "      <th>p-value</th>\n",
       "      <th>#Lags Used</th>\n",
       "      <th># of Observations Used</th>\n",
       "      <th>Stationary Results</th>\n",
       "    </tr>\n",
       "  </thead>\n",
       "  <tbody>\n",
       "    <tr>\n",
       "      <th>AD Fuller Results</th>\n",
       "      <td>-1.90768</td>\n",
       "      <td>0.328457</td>\n",
       "      <td>12</td>\n",
       "      <td>251</td>\n",
       "      <td>False</td>\n",
       "    </tr>\n",
       "  </tbody>\n",
       "</table>\n",
       "</div>"
      ],
      "text/plain": [
       "                   Test Statistic   p-value  #Lags Used  \\\n",
       "AD Fuller Results        -1.90768  0.328457          12   \n",
       "\n",
       "                   # of Observations Used  Stationary Results  \n",
       "AD Fuller Results                     251               False  "
      ]
     },
     "execution_count": 46,
     "metadata": {},
     "output_type": "execute_result"
    },
    {
     "data": {
      "image/png": "[encoded data removed]",
      "text/plain": [
       "<Figure size 432x288 with 1 Axes>"
      ]
     },
     "metadata": {
      "needs_background": "light"
     },
     "output_type": "display_data"
    }
   ],
   "source": [
    "\"\"\"\n",
    "#subtracts the ts 1 step forward from itself. Good way of eliminting trend\n",
    "\n",
    "#below ts centered around 0\n",
    "#we achieved stationarity\n",
    "#eliminating day-to-day patterns\n",
    "\"\"\"\n",
    "ts0 = zip_df[11238].diff().dropna()\n",
    "#ts0.plot()\n",
    "\n",
    "stationary_test(ts0)"
   ]
  },
  {
   "cell_type": "markdown",
   "metadata": {},
   "source": [
    "#### Subtract Rolling Mean "
   ]
  },
  {
   "cell_type": "code",
   "execution_count": 47,
   "metadata": {},
   "outputs": [
    {
     "name": "stdout",
     "output_type": "stream",
     "text": [
      "ADF statistic: -1.9071669762331833\n",
      "p-value: 0.3286970868825541\n",
      "Critical Values:\n",
      "\t1% : -3.4568881317725864\n",
      "\t5% : -2.8732185133016057\n",
      "\t10% : -2.5729936189738876\n"
     ]
    },
    {
     "data": {
      "text/html": [
       "<div>\n",
       "<style scoped>\n",
       "    .dataframe tbody tr th:only-of-type {\n",
       "        vertical-align: middle;\n",
       "    }\n",
       "\n",
       "    .dataframe tbody tr th {\n",
       "        vertical-align: top;\n",
       "    }\n",
       "\n",
       "    .dataframe thead th {\n",
       "        text-align: right;\n",
       "    }\n",
       "</style>\n",
       "<table border=\"1\" class=\"dataframe\">\n",
       "  <thead>\n",
       "    <tr style=\"text-align: right;\">\n",
       "      <th></th>\n",
       "      <th>Test Statistic</th>\n",
       "      <th>p-value</th>\n",
       "      <th>#Lags Used</th>\n",
       "      <th># of Observations Used</th>\n",
       "      <th>Stationary Results</th>\n",
       "    </tr>\n",
       "  </thead>\n",
       "  <tbody>\n",
       "    <tr>\n",
       "      <th>AD Fuller Results</th>\n",
       "      <td>-1.907167</td>\n",
       "      <td>0.328697</td>\n",
       "      <td>13</td>\n",
       "      <td>249</td>\n",
       "      <td>False</td>\n",
       "    </tr>\n",
       "  </tbody>\n",
       "</table>\n",
       "</div>"
      ],
      "text/plain": [
       "                   Test Statistic   p-value  #Lags Used  \\\n",
       "AD Fuller Results       -1.907167  0.328697          13   \n",
       "\n",
       "                   # of Observations Used  Stationary Results  \n",
       "AD Fuller Results                     249               False  "
      ]
     },
     "execution_count": 47,
     "metadata": {},
     "output_type": "execute_result"
    },
    {
     "data": {
      "image/png": "[encoded data removed]",
      "text/plain": [
       "<Figure size 432x288 with 1 Axes>"
      ]
     },
     "metadata": {
      "needs_background": "light"
     },
     "output_type": "display_data"
    }
   ],
   "source": [
    "## Subtract Rolling mean\n",
    "ts2 = (zip_df[11238] - zip_df[11238].rolling(3).mean()).dropna()\n",
    "#ts2.plot()\n",
    "stationary_test(ts2)"
   ]
  },
  {
   "cell_type": "markdown",
   "metadata": {},
   "source": [
    "#### Subtract Exponentially-Weighted Mean "
   ]
  },
  {
   "cell_type": "code",
   "execution_count": 48,
   "metadata": {},
   "outputs": [
    {
     "name": "stdout",
     "output_type": "stream",
     "text": [
      "ADF statistic: -1.2695172364186622\n",
      "p-value: 0.6430003071656758\n",
      "Critical Values:\n",
      "\t1% : -3.4566744514553016\n",
      "\t5% : -2.8731248767783426\n",
      "\t10% : -2.5729436702592023\n"
     ]
    },
    {
     "data": {
      "text/html": [
       "<div>\n",
       "<style scoped>\n",
       "    .dataframe tbody tr th:only-of-type {\n",
       "        vertical-align: middle;\n",
       "    }\n",
       "\n",
       "    .dataframe tbody tr th {\n",
       "        vertical-align: top;\n",
       "    }\n",
       "\n",
       "    .dataframe thead th {\n",
       "        text-align: right;\n",
       "    }\n",
       "</style>\n",
       "<table border=\"1\" class=\"dataframe\">\n",
       "  <thead>\n",
       "    <tr style=\"text-align: right;\">\n",
       "      <th></th>\n",
       "      <th>Test Statistic</th>\n",
       "      <th>p-value</th>\n",
       "      <th>#Lags Used</th>\n",
       "      <th># of Observations Used</th>\n",
       "      <th>Stationary Results</th>\n",
       "    </tr>\n",
       "  </thead>\n",
       "  <tbody>\n",
       "    <tr>\n",
       "      <th>AD Fuller Results</th>\n",
       "      <td>-1.269517</td>\n",
       "      <td>0.643</td>\n",
       "      <td>13</td>\n",
       "      <td>251</td>\n",
       "      <td>False</td>\n",
       "    </tr>\n",
       "  </tbody>\n",
       "</table>\n",
       "</div>"
      ],
      "text/plain": [
       "                   Test Statistic  p-value  #Lags Used  \\\n",
       "AD Fuller Results       -1.269517    0.643          13   \n",
       "\n",
       "                   # of Observations Used  Stationary Results  \n",
       "AD Fuller Results                     251               False  "
      ]
     },
     "execution_count": 48,
     "metadata": {},
     "output_type": "execute_result"
    },
    {
     "data": {
      "image/png": "[encoded data removed]",
      "text/plain": [
       "<Figure size 432x288 with 1 Axes>"
      ]
     },
     "metadata": {
      "needs_background": "light"
     },
     "output_type": "display_data"
    }
   ],
   "source": [
    "## Subtract Exponentially Weight Mean Rolling mean\n",
    "ts4 = (zip_df[11238] - zip_df[11238].ewm(halflife=7).mean()).dropna()\n",
    "#ts4.plot()\n",
    "stationary_test(ts4)"
   ]
  },
  {
   "cell_type": "markdown",
   "metadata": {},
   "source": [
    "#### Seasonal Decomposition "
   ]
  },
  {
   "cell_type": "code",
   "execution_count": 49,
   "metadata": {},
   "outputs": [
    {
     "data": {
      "image/png": "[encoded data removed]",
      "text/plain": [
       "<Figure size 432x288 with 4 Axes>"
      ]
     },
     "metadata": {
      "needs_background": "light"
     },
     "output_type": "display_data"
    }
   ],
   "source": [
    "\"\"\"\n",
    "it will identfies patterns, trends in ts and separate them into 3 new ts.\n",
    "residual-what was left over after removing all the other components.\n",
    "\"\"\"\n",
    "from statsmodels.tsa.seasonal import seasonal_decompose\n",
    "decomp = seasonal_decompose(zip_df[11238])#,model='mul')\n",
    "decomp.plot();"
   ]
  },
  {
   "cell_type": "code",
   "execution_count": 50,
   "metadata": {},
   "outputs": [
    {
     "name": "stdout",
     "output_type": "stream",
     "text": [
      "ADF statistic: -3936202969399442.5\n",
      "p-value: 0.0\n",
      "Critical Values:\n",
      "\t1% : -3.4568881317725864\n",
      "\t5% : -2.8732185133016057\n",
      "\t10% : -2.5729936189738876\n"
     ]
    },
    {
     "data": {
      "text/html": [
       "<div>\n",
       "<style scoped>\n",
       "    .dataframe tbody tr th:only-of-type {\n",
       "        vertical-align: middle;\n",
       "    }\n",
       "\n",
       "    .dataframe tbody tr th {\n",
       "        vertical-align: top;\n",
       "    }\n",
       "\n",
       "    .dataframe thead th {\n",
       "        text-align: right;\n",
       "    }\n",
       "</style>\n",
       "<table border=\"1\" class=\"dataframe\">\n",
       "  <thead>\n",
       "    <tr style=\"text-align: right;\">\n",
       "      <th></th>\n",
       "      <th>Test Statistic</th>\n",
       "      <th>p-value</th>\n",
       "      <th>#Lags Used</th>\n",
       "      <th># of Observations Used</th>\n",
       "      <th>Stationary Results</th>\n",
       "    </tr>\n",
       "  </thead>\n",
       "  <tbody>\n",
       "    <tr>\n",
       "      <th>AD Fuller Results</th>\n",
       "      <td>-3.936203e+15</td>\n",
       "      <td>0.0</td>\n",
       "      <td>15</td>\n",
       "      <td>249</td>\n",
       "      <td>True</td>\n",
       "    </tr>\n",
       "  </tbody>\n",
       "</table>\n",
       "</div>"
      ],
      "text/plain": [
       "                   Test Statistic  p-value  #Lags Used  \\\n",
       "AD Fuller Results   -3.936203e+15      0.0          15   \n",
       "\n",
       "                   # of Observations Used  Stationary Results  \n",
       "AD Fuller Results                     249                True  "
      ]
     },
     "execution_count": 50,
     "metadata": {},
     "output_type": "execute_result"
    },
    {
     "data": {
      "image/png": "[encoded data removed]",
      "text/plain": [
       "<Figure size 432x288 with 1 Axes>"
      ]
     },
     "metadata": {
      "needs_background": "light"
     },
     "output_type": "display_data"
    }
   ],
   "source": [
    "## Get ADFuller Results for seasonal component\n",
    "stationary_test(decomp.seasonal)"
   ]
  },
  {
   "cell_type": "code",
   "execution_count": 51,
   "metadata": {},
   "outputs": [
    {
     "name": "stdout",
     "output_type": "stream",
     "text": [
      "ADF statistic: 1.423078821514143\n",
      "p-value: 0.9972165043232137\n",
      "Critical Values:\n",
      "\t1% : -3.4582467982399105\n",
      "\t5% : -2.8738137461081323\n",
      "\t10% : -2.5733111490323846\n"
     ]
    },
    {
     "data": {
      "text/html": [
       "<div>\n",
       "<style scoped>\n",
       "    .dataframe tbody tr th:only-of-type {\n",
       "        vertical-align: middle;\n",
       "    }\n",
       "\n",
       "    .dataframe tbody tr th {\n",
       "        vertical-align: top;\n",
       "    }\n",
       "\n",
       "    .dataframe thead th {\n",
       "        text-align: right;\n",
       "    }\n",
       "</style>\n",
       "<table border=\"1\" class=\"dataframe\">\n",
       "  <thead>\n",
       "    <tr style=\"text-align: right;\">\n",
       "      <th></th>\n",
       "      <th>Test Statistic</th>\n",
       "      <th>p-value</th>\n",
       "      <th>#Lags Used</th>\n",
       "      <th># of Observations Used</th>\n",
       "      <th>Stationary Results</th>\n",
       "    </tr>\n",
       "  </thead>\n",
       "  <tbody>\n",
       "    <tr>\n",
       "      <th>AD Fuller Results</th>\n",
       "      <td>1.423079</td>\n",
       "      <td>0.997217</td>\n",
       "      <td>15</td>\n",
       "      <td>237</td>\n",
       "      <td>False</td>\n",
       "    </tr>\n",
       "  </tbody>\n",
       "</table>\n",
       "</div>"
      ],
      "text/plain": [
       "                   Test Statistic   p-value  #Lags Used  \\\n",
       "AD Fuller Results        1.423079  0.997217          15   \n",
       "\n",
       "                   # of Observations Used  Stationary Results  \n",
       "AD Fuller Results                     237               False  "
      ]
     },
     "execution_count": 51,
     "metadata": {},
     "output_type": "execute_result"
    },
    {
     "data": {
      "image/png": "[encoded data removed]",
      "text/plain": [
       "<Figure size 432x288 with 1 Axes>"
      ]
     },
     "metadata": {
      "needs_background": "light"
     },
     "output_type": "display_data"
    }
   ],
   "source": [
    "## Get ADFuller Results for trend component\n",
    "stationary_test(decomp.trend.dropna())"
   ]
  },
  {
   "cell_type": "code",
   "execution_count": 52,
   "metadata": {},
   "outputs": [
    {
     "name": "stdout",
     "output_type": "stream",
     "text": [
      "ADF statistic: -5.576233902155626\n",
      "p-value: 1.4300620546612478e-06\n",
      "Critical Values:\n",
      "\t1% : -3.458010773719797\n",
      "\t5% : -2.8737103617125186\n",
      "\t10% : -2.5732559963936206\n"
     ]
    },
    {
     "data": {
      "text/html": [
       "<div>\n",
       "<style scoped>\n",
       "    .dataframe tbody tr th:only-of-type {\n",
       "        vertical-align: middle;\n",
       "    }\n",
       "\n",
       "    .dataframe tbody tr th {\n",
       "        vertical-align: top;\n",
       "    }\n",
       "\n",
       "    .dataframe thead th {\n",
       "        text-align: right;\n",
       "    }\n",
       "</style>\n",
       "<table border=\"1\" class=\"dataframe\">\n",
       "  <thead>\n",
       "    <tr style=\"text-align: right;\">\n",
       "      <th></th>\n",
       "      <th>Test Statistic</th>\n",
       "      <th>p-value</th>\n",
       "      <th>#Lags Used</th>\n",
       "      <th># of Observations Used</th>\n",
       "      <th>Stationary Results</th>\n",
       "    </tr>\n",
       "  </thead>\n",
       "  <tbody>\n",
       "    <tr>\n",
       "      <th>AD Fuller Results</th>\n",
       "      <td>-5.576234</td>\n",
       "      <td>0.000001</td>\n",
       "      <td>13</td>\n",
       "      <td>239</td>\n",
       "      <td>True</td>\n",
       "    </tr>\n",
       "  </tbody>\n",
       "</table>\n",
       "</div>"
      ],
      "text/plain": [
       "                   Test Statistic   p-value  #Lags Used  \\\n",
       "AD Fuller Results       -5.576234  0.000001          13   \n",
       "\n",
       "                   # of Observations Used  Stationary Results  \n",
       "AD Fuller Results                     239                True  "
      ]
     },
     "execution_count": 52,
     "metadata": {},
     "output_type": "execute_result"
    },
    {
     "data": {
      "image/png": "[encoded data removed]",
      "text/plain": [
       "<Figure size 432x288 with 1 Axes>"
      ]
     },
     "metadata": {
      "needs_background": "light"
     },
     "output_type": "display_data"
    }
   ],
   "source": [
    "## Get ADFuller Results for resid component\n",
    "stationary_test(decomp.resid.dropna())"
   ]
  },
  {
   "cell_type": "code",
   "execution_count": 53,
   "metadata": {},
   "outputs": [
    {
     "data": {
      "text/plain": [
       "Month\n",
       "1996-10-01     -417.286706\n",
       "1996-11-01    -1543.305826\n",
       "1996-12-01    -1613.940747\n",
       "1997-01-01    -2127.829636\n",
       "1997-02-01    -1927.035985\n",
       "                  ...     \n",
       "2017-06-01     9493.400523\n",
       "2017-07-01     5377.924333\n",
       "2017-08-01     3973.162428\n",
       "2017-09-01    -1224.853445\n",
       "2017-10-01   -17713.120040\n",
       "Freq: MS, Name: 11238, Length: 253, dtype: float64"
      ]
     },
     "execution_count": 53,
     "metadata": {},
     "output_type": "execute_result"
    }
   ],
   "source": [
    "decomp.resid.dropna()"
   ]
  },
  {
   "cell_type": "markdown",
   "metadata": {},
   "source": [
    "### GridSearch "
   ]
  },
  {
   "cell_type": "markdown",
   "metadata": {},
   "source": [
    "#### Find the values of ARIMA(p,d,q)(P,D,Q)s"
   ]
  },
  {
   "cell_type": "code",
   "execution_count": 54,
   "metadata": {},
   "outputs": [],
   "source": [
    "# Define the p, d and q parameters to take any value between 0 and 2\n",
    "p = d = q = range(0, 2)\n",
    "\n",
    "# Generate all different combinations of p, q and q triplets\n",
    "pdq = list(itertools.product(p, d, q))\n",
    "\n",
    "# Generate all different combinations of seasonal p, q and q triplets\n",
    "pdqs = [(x[0], x[1], x[2], 12) for x in list(itertools.product(p, d, q))]"
   ]
  },
  {
   "cell_type": "markdown",
   "metadata": {},
   "source": [
    "#### Identify the set of parameters that will produce the best fitting model to time series dataset."
   ]
  },
  {
   "cell_type": "code",
   "execution_count": 55,
   "metadata": {},
   "outputs": [],
   "source": [
    "\"\"\"\n",
    "(AIC) is an estimator of the relative quality of statistical models for a given set of data. \n",
    "Given a collection of models for the data, AIC estimates the quality of each model, relative to each of \n",
    "    the other models. AIC provides a means for model selection.\n",
    "\n",
    "Model that fits the data very well while using lots of features will be assigned a larger AIC score than a model\n",
    "    that uses fewer features to achieve the same goodness-of-fit. \n",
    "    We are interested in finding the model that yields the lowest AIC value. \n",
    "\n",
    "\"\"\"\n",
    "# Run a grid with pdq and seasonal pdq parameters calculated above and get the best AIC value\n",
    "def gridsearch_pdq(pdq, pdqs, df):\n",
    "    ans = []\n",
    "    for comb in pdq:\n",
    "        for combs in pdqs:\n",
    "            try:\n",
    "                mod = sm.tsa.statespace.SARIMAX(df,\n",
    "                                                order=comb,\n",
    "                                                seasonal_order=combs,\n",
    "                                                enforce_stationarity=False,\n",
    "                                                enforce_invertibility=False)\n",
    "\n",
    "                output = mod.fit()\n",
    "                ans.append([comb, combs, output.aic])\n",
    "                print('ARIMA {} x {}12 : AIC Calculated ={}'.format(comb, combs, output.aic))\n",
    "                \n",
    "            except:\n",
    "                continue\n",
    "    \n",
    "    \n",
    "    \n",
    "    # Find the parameters with minimal AIC value\n",
    "    ans_df = pd.DataFrame(ans, columns=['pdq', 'pdqs', 'aic'])\n",
    "    #ans_df.loc[ans_df['aic'].idxmin()]\n",
    "\n",
    "    \n",
    "    return ans_df           "
   ]
  },
  {
   "cell_type": "code",
   "execution_count": 56,
   "metadata": {},
   "outputs": [
    {
     "name": "stdout",
     "output_type": "stream",
     "text": [
      "ARIMA (0, 0, 0) x (0, 0, 0, 12)12 : AIC Calculated =8213.126218595695\n",
      "ARIMA (0, 0, 0) x (0, 0, 1, 12)12 : AIC Calculated =7690.372383847679\n",
      "ARIMA (0, 0, 0) x (0, 1, 0, 12)12 : AIC Calculated =6770.362307042525\n",
      "ARIMA (0, 0, 0) x (0, 1, 1, 12)12 : AIC Calculated =6461.447825371176\n",
      "ARIMA (0, 0, 0) x (1, 0, 0, 12)12 : AIC Calculated =6590.012697927848\n",
      "ARIMA (0, 0, 0) x (1, 0, 1, 12)12 : AIC Calculated =6560.483562053177\n",
      "ARIMA (0, 0, 0) x (1, 1, 0, 12)12 : AIC Calculated =6283.456480602297\n",
      "ARIMA (0, 0, 0) x (1, 1, 1, 12)12 : AIC Calculated =6257.929031462751\n",
      "ARIMA (0, 0, 1) x (0, 0, 0, 12)12 : AIC Calculated =7991.823749048385\n",
      "ARIMA (0, 0, 1) x (0, 0, 1, 12)12 : AIC Calculated =8079.520526946769\n",
      "ARIMA (0, 0, 1) x (0, 1, 0, 12)12 : AIC Calculated =6907.405815506904\n",
      "ARIMA (0, 0, 1) x (0, 1, 1, 12)12 : AIC Calculated =2264846.0146940104\n",
      "ARIMA (0, 0, 1) x (1, 0, 0, 12)12 : AIC Calculated =8241.977606343593\n",
      "ARIMA (0, 0, 1) x (1, 0, 1, 12)12 : AIC Calculated =8074.044640172859\n",
      "ARIMA (0, 0, 1) x (1, 1, 0, 12)12 : AIC Calculated =6438.593862546835\n",
      "ARIMA (0, 0, 1) x (1, 1, 1, 12)12 : AIC Calculated =6374.845730837593\n",
      "ARIMA (0, 1, 0) x (0, 0, 0, 12)12 : AIC Calculated =5862.292194965844\n",
      "ARIMA (0, 1, 0) x (0, 0, 1, 12)12 : AIC Calculated =5572.793614221391\n",
      "ARIMA (0, 1, 0) x (0, 1, 0, 12)12 : AIC Calculated =5602.242014326189\n",
      "ARIMA (0, 1, 0) x (0, 1, 1, 12)12 : AIC Calculated =5311.321782385168\n",
      "ARIMA (0, 1, 0) x (1, 0, 0, 12)12 : AIC Calculated =5562.58441051257\n",
      "ARIMA (0, 1, 0) x (1, 0, 1, 12)12 : AIC Calculated =5541.360060986484\n",
      "ARIMA (0, 1, 0) x (1, 1, 0, 12)12 : AIC Calculated =5316.725278271786\n",
      "ARIMA (0, 1, 0) x (1, 1, 1, 12)12 : AIC Calculated =5296.257533151147\n",
      "ARIMA (0, 1, 1) x (0, 0, 0, 12)12 : AIC Calculated =5631.590282051856\n",
      "ARIMA (0, 1, 1) x (0, 0, 1, 12)12 : AIC Calculated =5365.650759976432\n",
      "ARIMA (0, 1, 1) x (0, 1, 0, 12)12 : AIC Calculated =5546.188465078697\n",
      "ARIMA (0, 1, 1) x (0, 1, 1, 12)12 : AIC Calculated =5167.93700222882\n",
      "ARIMA (0, 1, 1) x (1, 0, 0, 12)12 : AIC Calculated =5421.983134284983\n",
      "ARIMA (0, 1, 1) x (1, 0, 1, 12)12 : AIC Calculated =5390.561050936138\n",
      "ARIMA (0, 1, 1) x (1, 1, 0, 12)12 : AIC Calculated =5212.782089728207\n",
      "ARIMA (0, 1, 1) x (1, 1, 1, 12)12 : AIC Calculated =5124.745487559632\n",
      "ARIMA (1, 0, 0) x (0, 0, 0, 12)12 : AIC Calculated =5739.787007890982\n",
      "ARIMA (1, 0, 0) x (0, 0, 1, 12)12 : AIC Calculated =5558.756785537293\n",
      "ARIMA (1, 0, 0) x (0, 1, 0, 12)12 : AIC Calculated =5625.171938352632\n",
      "ARIMA (1, 0, 0) x (0, 1, 1, 12)12 : AIC Calculated =5793.602015195196\n",
      "ARIMA (1, 0, 0) x (1, 0, 0, 12)12 : AIC Calculated =5486.531539773486\n",
      "ARIMA (1, 0, 0) x (1, 0, 1, 12)12 : AIC Calculated =5488.457622440032\n",
      "ARIMA (1, 0, 0) x (1, 1, 0, 12)12 : AIC Calculated =5321.288318993971\n",
      "ARIMA (1, 0, 0) x (1, 1, 1, 12)12 : AIC Calculated =5322.245932968522\n",
      "ARIMA (1, 0, 1) x (0, 0, 0, 12)12 : AIC Calculated =5548.295331228293\n",
      "ARIMA (1, 0, 1) x (0, 0, 1, 12)12 : AIC Calculated =5358.154545774319\n",
      "ARIMA (1, 0, 1) x (0, 1, 0, 12)12 : AIC Calculated =5674.30711776932\n",
      "ARIMA (1, 0, 1) x (0, 1, 1, 12)12 : AIC Calculated =7975.507879046705\n",
      "ARIMA (1, 0, 1) x (1, 0, 0, 12)12 : AIC Calculated =5288.283818992768\n",
      "ARIMA (1, 0, 1) x (1, 0, 1, 12)12 : AIC Calculated =5299.816521378525\n",
      "ARIMA (1, 0, 1) x (1, 1, 0, 12)12 : AIC Calculated =5220.430513221838\n",
      "ARIMA (1, 0, 1) x (1, 1, 1, 12)12 : AIC Calculated =7523.735021617757\n",
      "ARIMA (1, 1, 0) x (0, 0, 0, 12)12 : AIC Calculated =5428.614575295882\n",
      "ARIMA (1, 1, 0) x (0, 0, 1, 12)12 : AIC Calculated =5195.03427269866\n",
      "ARIMA (1, 1, 0) x (0, 1, 0, 12)12 : AIC Calculated =5352.208131411971\n",
      "ARIMA (1, 1, 0) x (0, 1, 1, 12)12 : AIC Calculated =5080.417107768392\n",
      "ARIMA (1, 1, 0) x (1, 0, 0, 12)12 : AIC Calculated =5195.063422758854\n",
      "ARIMA (1, 1, 0) x (1, 0, 1, 12)12 : AIC Calculated =5196.916783442885\n",
      "ARIMA (1, 1, 0) x (1, 1, 0, 12)12 : AIC Calculated =5062.415869232977\n",
      "ARIMA (1, 1, 0) x (1, 1, 1, 12)12 : AIC Calculated =5065.883870099515\n",
      "ARIMA (1, 1, 1) x (0, 0, 0, 12)12 : AIC Calculated =5387.8010640283155\n",
      "ARIMA (1, 1, 1) x (0, 0, 1, 12)12 : AIC Calculated =5133.898943637865\n",
      "ARIMA (1, 1, 1) x (0, 1, 0, 12)12 : AIC Calculated =5306.926299806719\n",
      "ARIMA (1, 1, 1) x (0, 1, 1, 12)12 : AIC Calculated =5018.708892925972\n",
      "ARIMA (1, 1, 1) x (1, 0, 0, 12)12 : AIC Calculated =5153.568131514214\n",
      "ARIMA (1, 1, 1) x (1, 0, 1, 12)12 : AIC Calculated =5135.56421422524\n",
      "ARIMA (1, 1, 1) x (1, 1, 0, 12)12 : AIC Calculated =5048.530058352629\n",
      "ARIMA (1, 1, 1) x (1, 1, 1, 12)12 : AIC Calculated =5013.628763420529\n"
     ]
    }
   ],
   "source": [
    "gs_pdq = gridsearch_pdq(pdq, pdqs,zip_df[11238])"
   ]
  },
  {
   "cell_type": "code",
   "execution_count": 57,
   "metadata": {},
   "outputs": [
    {
     "data": {
      "text/html": [
       "<div>\n",
       "<style scoped>\n",
       "    .dataframe tbody tr th:only-of-type {\n",
       "        vertical-align: middle;\n",
       "    }\n",
       "\n",
       "    .dataframe tbody tr th {\n",
       "        vertical-align: top;\n",
       "    }\n",
       "\n",
       "    .dataframe thead th {\n",
       "        text-align: right;\n",
       "    }\n",
       "</style>\n",
       "<table border=\"1\" class=\"dataframe\">\n",
       "  <thead>\n",
       "    <tr style=\"text-align: right;\">\n",
       "      <th></th>\n",
       "      <th>pdq</th>\n",
       "      <th>pdqs</th>\n",
       "      <th>aic</th>\n",
       "    </tr>\n",
       "  </thead>\n",
       "  <tbody>\n",
       "    <tr>\n",
       "      <th>63</th>\n",
       "      <td>(1, 1, 1)</td>\n",
       "      <td>(1, 1, 1, 12)</td>\n",
       "      <td>5.013629e+03</td>\n",
       "    </tr>\n",
       "    <tr>\n",
       "      <th>59</th>\n",
       "      <td>(1, 1, 1)</td>\n",
       "      <td>(0, 1, 1, 12)</td>\n",
       "      <td>5.018709e+03</td>\n",
       "    </tr>\n",
       "    <tr>\n",
       "      <th>62</th>\n",
       "      <td>(1, 1, 1)</td>\n",
       "      <td>(1, 1, 0, 12)</td>\n",
       "      <td>5.048530e+03</td>\n",
       "    </tr>\n",
       "    <tr>\n",
       "      <th>54</th>\n",
       "      <td>(1, 1, 0)</td>\n",
       "      <td>(1, 1, 0, 12)</td>\n",
       "      <td>5.062416e+03</td>\n",
       "    </tr>\n",
       "    <tr>\n",
       "      <th>55</th>\n",
       "      <td>(1, 1, 0)</td>\n",
       "      <td>(1, 1, 1, 12)</td>\n",
       "      <td>5.065884e+03</td>\n",
       "    </tr>\n",
       "    <tr>\n",
       "      <th>...</th>\n",
       "      <td>...</td>\n",
       "      <td>...</td>\n",
       "      <td>...</td>\n",
       "    </tr>\n",
       "    <tr>\n",
       "      <th>13</th>\n",
       "      <td>(0, 0, 1)</td>\n",
       "      <td>(1, 0, 1, 12)</td>\n",
       "      <td>8.074045e+03</td>\n",
       "    </tr>\n",
       "    <tr>\n",
       "      <th>9</th>\n",
       "      <td>(0, 0, 1)</td>\n",
       "      <td>(0, 0, 1, 12)</td>\n",
       "      <td>8.079521e+03</td>\n",
       "    </tr>\n",
       "    <tr>\n",
       "      <th>0</th>\n",
       "      <td>(0, 0, 0)</td>\n",
       "      <td>(0, 0, 0, 12)</td>\n",
       "      <td>8.213126e+03</td>\n",
       "    </tr>\n",
       "    <tr>\n",
       "      <th>12</th>\n",
       "      <td>(0, 0, 1)</td>\n",
       "      <td>(1, 0, 0, 12)</td>\n",
       "      <td>8.241978e+03</td>\n",
       "    </tr>\n",
       "    <tr>\n",
       "      <th>11</th>\n",
       "      <td>(0, 0, 1)</td>\n",
       "      <td>(0, 1, 1, 12)</td>\n",
       "      <td>2.264846e+06</td>\n",
       "    </tr>\n",
       "  </tbody>\n",
       "</table>\n",
       "<p>64 rows × 3 columns</p>\n",
       "</div>"
      ],
      "text/plain": [
       "          pdq           pdqs           aic\n",
       "63  (1, 1, 1)  (1, 1, 1, 12)  5.013629e+03\n",
       "59  (1, 1, 1)  (0, 1, 1, 12)  5.018709e+03\n",
       "62  (1, 1, 1)  (1, 1, 0, 12)  5.048530e+03\n",
       "54  (1, 1, 0)  (1, 1, 0, 12)  5.062416e+03\n",
       "55  (1, 1, 0)  (1, 1, 1, 12)  5.065884e+03\n",
       "..        ...            ...           ...\n",
       "13  (0, 0, 1)  (1, 0, 1, 12)  8.074045e+03\n",
       "9   (0, 0, 1)  (0, 0, 1, 12)  8.079521e+03\n",
       "0   (0, 0, 0)  (0, 0, 0, 12)  8.213126e+03\n",
       "12  (0, 0, 1)  (1, 0, 0, 12)  8.241978e+03\n",
       "11  (0, 0, 1)  (0, 1, 1, 12)  2.264846e+06\n",
       "\n",
       "[64 rows x 3 columns]"
      ]
     },
     "execution_count": 57,
     "metadata": {},
     "output_type": "execute_result"
    }
   ],
   "source": [
    "gs_pdq.sort_values(by='aic')"
   ]
  },
  {
   "cell_type": "code",
   "execution_count": 58,
   "metadata": {},
   "outputs": [
    {
     "data": {
      "text/plain": [
       "pdq         (1, 1, 1)\n",
       "pdqs    (1, 1, 1, 12)\n",
       "aic           5013.63\n",
       "Name: 63, dtype: object"
      ]
     },
     "execution_count": 58,
     "metadata": {},
     "output_type": "execute_result"
    }
   ],
   "source": [
    "# Find the parameters with minimal AIC value\n",
    "ans_df = pd.DataFrame(gs_pdq, columns=['pdq', 'pdqs', 'aic'])\n",
    "ans_df.loc[ans_df['aic'].idxmin()]"
   ]
  },
  {
   "cell_type": "markdown",
   "metadata": {},
   "source": [
    "### Creating a SARIMA TS Model"
   ]
  },
  {
   "cell_type": "code",
   "execution_count": 59,
   "metadata": {},
   "outputs": [],
   "source": [
    "\"\"\"\n",
    "Using grid search, we have identified the set of parameters that produces the best fitting model \n",
    "    to our time series data. \n",
    "\n",
    "coef column above shows the importance of each feature and how each one impacts the time series patterns. \n",
    "The P>|z| provides the significance of each feature weight.\n",
    "\n",
    "each weight has a p-value lower or close to 0.05, so it is reasonable to retain all of them in our model.\n",
    "\n",
    "model diagnostics-The purpose is to ensure that residuals remain uncorrelated, normally distributed having zero mean.\n",
    "where N(0,1)) is the standard notation for a normal distribution with mean 0 and standard deviation of 1). \n",
    "This is a good indication that the residuals are normally distributed.\n",
    "\n",
    "\n",
    "\n",
    "# Plug the optimal parameter values into a new SARIMAX model\n",
    "ARIMA_MODEL = sm.tsa.statespace.SARIMAX(brooklyn_zips[11238], \n",
    "                                        order=(1, 1, 1), \n",
    "                                        seasonal_order=(1, 1, 1, 12), \n",
    "                                        enforce_stationarity=False, \n",
    "                                        enforce_invertibility=False)\n",
    "\n",
    "# Fit the model and print results\n",
    "output = ARIMA_MODEL.fit()\n",
    "\n",
    "print(output.summary().tables[1])\n",
    "\"\"\"\n",
    "def fit_ARIMA(df, order=None, seasonal_order=None):\n",
    "    ARIMA_MODEL = sm.tsa.statespace.SARIMAX(df, \n",
    "                                        order=order, \n",
    "                                        seasonal_order=seasonal_order, \n",
    "                                        enforce_stationarity=False, \n",
    "                                        enforce_invertibility=False)\n",
    "\n",
    "    # Fit the model and print results\n",
    "    output = ARIMA_MODEL.fit()\n",
    "\n",
    "    #display / no tables 1\n",
    "    print(output.summary().tables[1])\n",
    "    \n",
    "    print('\\n')\n",
    "    print('MODEL DIAGNOSTICS')\n",
    "    \n",
    "    output.plot_diagnostics(figsize=(15, 18));\n",
    "    \n",
    "    return output"
   ]
  },
  {
   "cell_type": "code",
   "execution_count": 60,
   "metadata": {},
   "outputs": [
    {
     "name": "stdout",
     "output_type": "stream",
     "text": [
      "==============================================================================\n",
      "                 coef    std err          z      P>|z|      [0.025      0.975]\n",
      "------------------------------------------------------------------------------\n",
      "ar.L1          0.6873      0.045     15.420      0.000       0.600       0.775\n",
      "ma.L1          0.3540      0.031     11.303      0.000       0.293       0.415\n",
      "ar.S.L12      -0.3288      0.071     -4.603      0.000      -0.469      -0.189\n",
      "ma.S.L12      -0.0368      0.058     -0.633      0.527      -0.151       0.077\n",
      "sigma2      8.221e+07   2.84e-10    2.9e+17      0.000    8.22e+07    8.22e+07\n",
      "==============================================================================\n",
      "\n",
      "\n",
      "MODEL DIAGNOSTICS\n"
     ]
    },
    {
     "data": {
      "image/png": "[encoded data removed]",
      "text/plain": [
       "<Figure size 1080x1296 with 4 Axes>"
      ]
     },
     "metadata": {
      "needs_background": "light"
     },
     "output_type": "display_data"
    }
   ],
   "source": [
    "output_summ = fit_ARIMA(zip_df[11238], order=(1,1,1), seasonal_order=(1,1,1,12))"
   ]
  },
  {
   "cell_type": "markdown",
   "metadata": {},
   "source": [
    "### Validating the Model"
   ]
  },
  {
   "cell_type": "code",
   "execution_count": 61,
   "metadata": {},
   "outputs": [
    {
     "data": {
      "text/plain": [
       "Month\n",
       "1996-04-01    671200.0\n",
       "1996-05-01    671200.0\n",
       "1996-06-01    671200.0\n",
       "1996-07-01    671200.0\n",
       "1996-08-01    671200.0\n",
       "Freq: MS, Name: 11238, dtype: float64"
      ]
     },
     "execution_count": 61,
     "metadata": {},
     "output_type": "execute_result"
    }
   ],
   "source": [
    "zip_df[11238].head()"
   ]
  },
  {
   "cell_type": "code",
   "execution_count": 62,
   "metadata": {},
   "outputs": [],
   "source": [
    "\"\"\"\n",
    "start by comparing predicted values to real values of the time series, which will help us understand the accuracy of \n",
    "    our forecasts\n",
    "\n",
    "plot the real and forecasted values of the time series to assess how well we did\n",
    "\n",
    "\"\"\"\n",
    "# Get predictions starting from 01-01-1998 and calculate confidence intervals\n",
    "pred = output_summ.get_prediction(start=pd.to_datetime('2016-01-01'), dynamic=True)\n",
    "pred_conf = pred.conf_int()"
   ]
  },
  {
   "cell_type": "code",
   "execution_count": 63,
   "metadata": {},
   "outputs": [
    {
     "data": {
      "text/html": [
       "<div>\n",
       "<style scoped>\n",
       "    .dataframe tbody tr th:only-of-type {\n",
       "        vertical-align: middle;\n",
       "    }\n",
       "\n",
       "    .dataframe tbody tr th {\n",
       "        vertical-align: top;\n",
       "    }\n",
       "\n",
       "    .dataframe thead th {\n",
       "        text-align: right;\n",
       "    }\n",
       "</style>\n",
       "<table border=\"1\" class=\"dataframe\">\n",
       "  <thead>\n",
       "    <tr style=\"text-align: right;\">\n",
       "      <th></th>\n",
       "      <th>lower 11238</th>\n",
       "      <th>upper 11238</th>\n",
       "    </tr>\n",
       "    <tr>\n",
       "      <th>Month</th>\n",
       "      <th></th>\n",
       "      <th></th>\n",
       "    </tr>\n",
       "  </thead>\n",
       "  <tbody>\n",
       "    <tr>\n",
       "      <th>2016-01-01</th>\n",
       "      <td>2.311733e+06</td>\n",
       "      <td>2.347275e+06</td>\n",
       "    </tr>\n",
       "    <tr>\n",
       "      <th>2016-02-01</th>\n",
       "      <td>2.312395e+06</td>\n",
       "      <td>2.393185e+06</td>\n",
       "    </tr>\n",
       "    <tr>\n",
       "      <th>2016-03-01</th>\n",
       "      <td>2.302481e+06</td>\n",
       "      <td>2.429480e+06</td>\n",
       "    </tr>\n",
       "    <tr>\n",
       "      <th>2016-04-01</th>\n",
       "      <td>2.305329e+06</td>\n",
       "      <td>2.476974e+06</td>\n",
       "    </tr>\n",
       "    <tr>\n",
       "      <th>2016-05-01</th>\n",
       "      <td>2.311142e+06</td>\n",
       "      <td>2.524950e+06</td>\n",
       "    </tr>\n",
       "    <tr>\n",
       "      <th>2016-06-01</th>\n",
       "      <td>2.314008e+06</td>\n",
       "      <td>2.567266e+06</td>\n",
       "    </tr>\n",
       "    <tr>\n",
       "      <th>2016-07-01</th>\n",
       "      <td>2.320503e+06</td>\n",
       "      <td>2.610569e+06</td>\n",
       "    </tr>\n",
       "    <tr>\n",
       "      <th>2016-08-01</th>\n",
       "      <td>2.331039e+06</td>\n",
       "      <td>2.655468e+06</td>\n",
       "    </tr>\n",
       "    <tr>\n",
       "      <th>2016-09-01</th>\n",
       "      <td>2.343588e+06</td>\n",
       "      <td>2.700179e+06</td>\n",
       "    </tr>\n",
       "    <tr>\n",
       "      <th>2016-10-01</th>\n",
       "      <td>2.364243e+06</td>\n",
       "      <td>2.751036e+06</td>\n",
       "    </tr>\n",
       "    <tr>\n",
       "      <th>2016-11-01</th>\n",
       "      <td>2.380605e+06</td>\n",
       "      <td>2.795866e+06</td>\n",
       "    </tr>\n",
       "    <tr>\n",
       "      <th>2016-12-01</th>\n",
       "      <td>2.392373e+06</td>\n",
       "      <td>2.834569e+06</td>\n",
       "    </tr>\n",
       "    <tr>\n",
       "      <th>2017-01-01</th>\n",
       "      <td>2.401429e+06</td>\n",
       "      <td>2.877039e+06</td>\n",
       "    </tr>\n",
       "    <tr>\n",
       "      <th>2017-02-01</th>\n",
       "      <td>2.402091e+06</td>\n",
       "      <td>2.917659e+06</td>\n",
       "    </tr>\n",
       "    <tr>\n",
       "      <th>2017-03-01</th>\n",
       "      <td>2.391755e+06</td>\n",
       "      <td>2.950521e+06</td>\n",
       "    </tr>\n",
       "    <tr>\n",
       "      <th>2017-04-01</th>\n",
       "      <td>2.394887e+06</td>\n",
       "      <td>2.997895e+06</td>\n",
       "    </tr>\n",
       "    <tr>\n",
       "      <th>2017-05-01</th>\n",
       "      <td>2.401211e+06</td>\n",
       "      <td>3.048199e+06</td>\n",
       "    </tr>\n",
       "    <tr>\n",
       "      <th>2017-06-01</th>\n",
       "      <td>2.405393e+06</td>\n",
       "      <td>3.095392e+06</td>\n",
       "    </tr>\n",
       "    <tr>\n",
       "      <th>2017-07-01</th>\n",
       "      <td>2.411290e+06</td>\n",
       "      <td>3.142981e+06</td>\n",
       "    </tr>\n",
       "    <tr>\n",
       "      <th>2017-08-01</th>\n",
       "      <td>2.418982e+06</td>\n",
       "      <td>3.190913e+06</td>\n",
       "    </tr>\n",
       "    <tr>\n",
       "      <th>2017-09-01</th>\n",
       "      <td>2.428119e+06</td>\n",
       "      <td>3.238821e+06</td>\n",
       "    </tr>\n",
       "    <tr>\n",
       "      <th>2017-10-01</th>\n",
       "      <td>2.444953e+06</td>\n",
       "      <td>3.293003e+06</td>\n",
       "    </tr>\n",
       "    <tr>\n",
       "      <th>2017-11-01</th>\n",
       "      <td>2.456728e+06</td>\n",
       "      <td>3.340779e+06</td>\n",
       "    </tr>\n",
       "    <tr>\n",
       "      <th>2017-12-01</th>\n",
       "      <td>2.464383e+06</td>\n",
       "      <td>3.383178e+06</td>\n",
       "    </tr>\n",
       "    <tr>\n",
       "      <th>2018-01-01</th>\n",
       "      <td>2.470619e+06</td>\n",
       "      <td>3.430402e+06</td>\n",
       "    </tr>\n",
       "    <tr>\n",
       "      <th>2018-02-01</th>\n",
       "      <td>2.468379e+06</td>\n",
       "      <td>3.475664e+06</td>\n",
       "    </tr>\n",
       "    <tr>\n",
       "      <th>2018-03-01</th>\n",
       "      <td>2.454701e+06</td>\n",
       "      <td>3.513135e+06</td>\n",
       "    </tr>\n",
       "    <tr>\n",
       "      <th>2018-04-01</th>\n",
       "      <td>2.453542e+06</td>\n",
       "      <td>3.564747e+06</td>\n",
       "    </tr>\n",
       "  </tbody>\n",
       "</table>\n",
       "</div>"
      ],
      "text/plain": [
       "             lower 11238   upper 11238\n",
       "Month                                 \n",
       "2016-01-01  2.311733e+06  2.347275e+06\n",
       "2016-02-01  2.312395e+06  2.393185e+06\n",
       "2016-03-01  2.302481e+06  2.429480e+06\n",
       "2016-04-01  2.305329e+06  2.476974e+06\n",
       "2016-05-01  2.311142e+06  2.524950e+06\n",
       "2016-06-01  2.314008e+06  2.567266e+06\n",
       "2016-07-01  2.320503e+06  2.610569e+06\n",
       "2016-08-01  2.331039e+06  2.655468e+06\n",
       "2016-09-01  2.343588e+06  2.700179e+06\n",
       "2016-10-01  2.364243e+06  2.751036e+06\n",
       "2016-11-01  2.380605e+06  2.795866e+06\n",
       "2016-12-01  2.392373e+06  2.834569e+06\n",
       "2017-01-01  2.401429e+06  2.877039e+06\n",
       "2017-02-01  2.402091e+06  2.917659e+06\n",
       "2017-03-01  2.391755e+06  2.950521e+06\n",
       "2017-04-01  2.394887e+06  2.997895e+06\n",
       "2017-05-01  2.401211e+06  3.048199e+06\n",
       "2017-06-01  2.405393e+06  3.095392e+06\n",
       "2017-07-01  2.411290e+06  3.142981e+06\n",
       "2017-08-01  2.418982e+06  3.190913e+06\n",
       "2017-09-01  2.428119e+06  3.238821e+06\n",
       "2017-10-01  2.444953e+06  3.293003e+06\n",
       "2017-11-01  2.456728e+06  3.340779e+06\n",
       "2017-12-01  2.464383e+06  3.383178e+06\n",
       "2018-01-01  2.470619e+06  3.430402e+06\n",
       "2018-02-01  2.468379e+06  3.475664e+06\n",
       "2018-03-01  2.454701e+06  3.513135e+06\n",
       "2018-04-01  2.453542e+06  3.564747e+06"
      ]
     },
     "execution_count": 63,
     "metadata": {},
     "output_type": "execute_result"
    }
   ],
   "source": [
    "pred_conf"
   ]
  },
  {
   "cell_type": "code",
   "execution_count": 64,
   "metadata": {},
   "outputs": [
    {
     "data": {
      "text/plain": [
       "<matplotlib.legend.Legend at 0x7f93d152a7b8>"
      ]
     },
     "execution_count": 64,
     "metadata": {},
     "output_type": "execute_result"
    },
    {
     "data": {
      "image/png": "[encoded data removed]",
      "text/plain": [
       "<Figure size 864x360 with 1 Axes>"
      ]
     },
     "metadata": {
      "needs_background": "light"
     },
     "output_type": "display_data"
    }
   ],
   "source": [
    "# Plot real vs predicted values along with confidence interval\n",
    "\n",
    "plt.figure(figsize=(12,5))\n",
    "# Plot observed values\n",
    "ax = zip_df[11238]['2004':].plot(label='observed')\n",
    "\n",
    "# Plot predicted values\n",
    "pred.predicted_mean.plot(ax=ax, label='One-step ahead Forecast', alpha=0.9)\n",
    "\n",
    "# Plot the range for confidence intervals\n",
    "ax.fill_between(pred_conf.index,\n",
    "                pred_conf.iloc[:, 0],\n",
    "                pred_conf.iloc[:, 1], color='g', alpha=0.5)\n",
    "\n",
    "# Set axes labels\n",
    "ax.set_xlabel('Date')\n",
    "ax.set_ylabel('Sale Price')\n",
    "plt.legend()\n",
    "#confidence interval"
   ]
  },
  {
   "cell_type": "code",
   "execution_count": 65,
   "metadata": {},
   "outputs": [
    {
     "name": "stdout",
     "output_type": "stream",
     "text": [
      "The Mean Squared Error of our forecasts is 8750875016.05\n",
      "The Root Mean Squared Error of our forecasts is 93546.11\n"
     ]
    }
   ],
   "source": [
    "\"\"\"\n",
    "check for the accuracy of our forecasts using MSE (Mean Squared Error). \n",
    "This will provide us with the average error of our forecasts\n",
    "\n",
    "An MSE this close to 0 indicates that the estimator is predicting observations of the parameter with perfect \n",
    "    accuracy, which would be an ideal\n",
    "\"\"\"\n",
    "# Get the real and predicted values\n",
    "forecasted_11238 = pred.predicted_mean\n",
    "truth_1128 = zip_df[11238]['2004':]\n",
    "\n",
    "# Compute the mean square error\n",
    "mse = ((forecasted_11238 - truth_1128) ** 2).mean()\n",
    "print('The Mean Squared Error of our forecasts is {}'.format(round(mse, 2)))\n",
    "#np.sqrt(np.mean((predictions-targets)**2))\n",
    "rmse = np.sqrt(np.mean((forecasted_11238 - truth_1128) ** 2))\n",
    "print('The Root Mean Squared Error of our forecasts is {}'.format(round(rmse, 2)))"
   ]
  },
  {
   "cell_type": "code",
   "execution_count": 66,
   "metadata": {},
   "outputs": [],
   "source": [
    "\"\"\"\n",
    "pred = output.get_prediction(start=pd.to_datetime('1998-01-01'), dynamic=False)\n",
    "pred_conf = pred.conf_int()\n",
    "\"\"\"\n",
    "pred = output_summ.get_prediction(start=pd.to_datetime('2016-01-01'), dynamic=False)\n",
    "pred_conf = pred.conf_int()"
   ]
  },
  {
   "cell_type": "code",
   "execution_count": 67,
   "metadata": {},
   "outputs": [
    {
     "data": {
      "text/plain": [
       "<matplotlib.legend.Legend at 0x7f93f7898630>"
      ]
     },
     "execution_count": 67,
     "metadata": {},
     "output_type": "execute_result"
    },
    {
     "data": {
      "image/png": "[encoded data removed]",
      "text/plain": [
       "<Figure size 864x360 with 1 Axes>"
      ]
     },
     "metadata": {
      "needs_background": "light"
     },
     "output_type": "display_data"
    }
   ],
   "source": [
    "# Plot the dynamic forecast with confidence intervals.\n",
    "plt.figure(figsize=(12,5))\n",
    "# Plot observed values\n",
    "ax = zip_df[11238]['2004':].plot(label='observed')\n",
    "\n",
    "# Plot predicted values\n",
    "pred.predicted_mean.plot(ax=ax, label='One-step ahead Forecast', alpha=0.9)\n",
    "\n",
    "# Plot the range for confidence intervals\n",
    "ax.fill_between(pred_conf.index,\n",
    "                pred_conf.iloc[:, 0],\n",
    "                pred_conf.iloc[:, 1], color='g', alpha=0.5)\n",
    "\n",
    "# Set axes labels\n",
    "ax.set_xlabel('Date')\n",
    "ax.set_ylabel('Sale Price')\n",
    "plt.legend()\n"
   ]
  },
  {
   "cell_type": "markdown",
   "metadata": {},
   "source": [
    "### AUTOARIMA Model"
   ]
  },
  {
   "cell_type": "code",
   "execution_count": 68,
   "metadata": {},
   "outputs": [],
   "source": [
    "import six\n",
    "import sys\n",
    "sys.modules['sklearn.externals.six'] = six"
   ]
  },
  {
   "cell_type": "code",
   "execution_count": 69,
   "metadata": {},
   "outputs": [],
   "source": [
    "import six\n",
    "import joblib\n",
    "import sys\n",
    "sys.modules['sklearn.externals.six'] = six\n",
    "sys.modules['sklearn.externals.joblib'] = joblib\n",
    "import pmdarima as pm\n",
    "\n",
    "from sklearn.model_selection import train_test_split\n"
   ]
  },
  {
   "cell_type": "code",
   "execution_count": 70,
   "metadata": {},
   "outputs": [],
   "source": [
    "from pmdarima import auto_arima"
   ]
  },
  {
   "cell_type": "code",
   "execution_count": 71,
   "metadata": {},
   "outputs": [
    {
     "data": {
      "text/plain": [
       "\"\\nstepwise-stepping through different combinations\\ntrace=let's us see different models that auto arima tried out\\nreports back aic and bic\\nlot's similar aic values, it figures out that it's no longer worth to increase order of more complex models\\n    all the way to max_p=6 value\\n    instead it say these ar estaying the same. No longer worth it to increase aic b/c it' something we're trying to \\n    minimize.\\n    \\n\""
      ]
     },
     "execution_count": 71,
     "metadata": {},
     "output_type": "execute_result"
    }
   ],
   "source": [
    "\"\"\"\n",
    "stepwise-stepping through different combinations\n",
    "trace=let's us see different models that auto arima tried out\n",
    "reports back aic and bic\n",
    "lot's similar aic values, it figures out that it's no longer worth to increase order of more complex models\n",
    "    all the way to max_p=6 value\n",
    "    instead it say these ar estaying the same. No longer worth it to increase aic b/c it' something we're trying to \n",
    "    minimize.\n",
    "    \n",
    "\"\"\"\n",
    "#stepwise_fit = auto_arima(,start_p=0, start_q=0,max_p=6,max_q=3, trace=True)"
   ]
  },
  {
   "cell_type": "code",
   "execution_count": 72,
   "metadata": {},
   "outputs": [
    {
     "data": {
      "text/plain": [
       "'\\ngives summary of bet performing model that autoarima thinks we should use.\\n'"
      ]
     },
     "execution_count": 72,
     "metadata": {},
     "output_type": "execute_result"
    }
   ],
   "source": [
    "\"\"\"\n",
    "gives summary of bet performing model that autoarima thinks we should use.\n",
    "\"\"\"\n",
    "#stepwise_fit.summary()"
   ]
  },
  {
   "cell_type": "code",
   "execution_count": 73,
   "metadata": {},
   "outputs": [
    {
     "data": {
      "text/plain": [
       "\"\\ncreate an arima model using statsmodel of order 0,2,0\\ntrain tst split\\nforecasting\\ndon't need to read auto_correlation and partial auto_correlation plots\\n\\ndefaults are 2,2\\n0. or 1. p,q\\nseasonal by default=True\\nsee rtace results of different arima models\\nm= number of periods per season\\n    there is normal differencing and seasonal differencing\\n    4 for quarterly data \\n    12 for monthly data\\n    1 for annual for non-seasonal data\\n    \\n abd sarimax model   \\n\""
      ]
     },
     "execution_count": 73,
     "metadata": {},
     "output_type": "execute_result"
    }
   ],
   "source": [
    "\"\"\"\n",
    "create an arima model using statsmodel of order 0,2,0\n",
    "train tst split\n",
    "forecasting\n",
    "don't need to read auto_correlation and partial auto_correlation plots\n",
    "\n",
    "defaults are 2,2\n",
    "0. or 1. p,q\n",
    "seasonal by default=True\n",
    "see rtace results of different arima models\n",
    "m= number of periods per season\n",
    "    there is normal differencing and seasonal differencing\n",
    "    4 for quarterly data \n",
    "    12 for monthly data\n",
    "    1 for annual for non-seasonal data\n",
    "    \n",
    " abd sarimax model   \n",
    "\"\"\"\n",
    "# def autoarima_model(df):\n",
    "#     stepwise_fit_1 = auto_arima(df,start_p=0, start_q=0,max_p=6,max_q=6, seasonal=True, \n",
    "#                             trace=True,m=12)\n",
    "    \n",
    "#     print('\\n')\n",
    "#     print(stepwise_fit_1.summary())\n",
    "#     return stepwise_fit_1"
   ]
  },
  {
   "cell_type": "code",
   "execution_count": 74,
   "metadata": {},
   "outputs": [],
   "source": [
    "#autoarima_model(brooklyn_zips[11238])"
   ]
  },
  {
   "cell_type": "code",
   "execution_count": 75,
   "metadata": {},
   "outputs": [
    {
     "data": {
      "text/plain": [
       "'\\nthis is whatwe should apss into statsmodels when performing forecasting\\nreturns best performing model\\n\\n'"
      ]
     },
     "execution_count": 75,
     "metadata": {},
     "output_type": "execute_result"
    }
   ],
   "source": [
    "\"\"\"\n",
    "this is whatwe should apss into statsmodels when performing forecasting\n",
    "returns best performing model\n",
    "\n",
    "\"\"\"\n",
    "#stepwise_fit_1.summary()"
   ]
  },
  {
   "cell_type": "code",
   "execution_count": 76,
   "metadata": {},
   "outputs": [],
   "source": [
    "#train test split\n",
    "#brook_zip = brooklyn_zips[11238]"
   ]
  },
  {
   "cell_type": "code",
   "execution_count": 77,
   "metadata": {},
   "outputs": [
    {
     "data": {
      "text/plain": [
       "'\\nbirth_train = f_births[0:330]\\nbirth_test = f_births[330:365]\\n\\nshampoo_train = shampoo[0:25]\\nshampoo_test = shampoo[25:36]\\n'"
      ]
     },
     "execution_count": 77,
     "metadata": {},
     "output_type": "execute_result"
    }
   ],
   "source": [
    "\"\"\"\n",
    "birth_train = f_births[0:330]\n",
    "birth_test = f_births[330:365]\n",
    "\n",
    "shampoo_train = shampoo[0:25]\n",
    "shampoo_test = shampoo[25:36]\n",
    "\"\"\"\n",
    "\n",
    "# train = brooklyn_zips[11238][0:138]\n",
    "# test = brooklyn_zips[11238][138:172]"
   ]
  },
  {
   "cell_type": "code",
   "execution_count": 78,
   "metadata": {},
   "outputs": [],
   "source": [
    "# print(train.shape)\n",
    "# print(test.shape)"
   ]
  },
  {
   "cell_type": "code",
   "execution_count": 79,
   "metadata": {},
   "outputs": [],
   "source": [
    "# plt.plot(train)\n",
    "# plt.plot(test)"
   ]
  },
  {
   "cell_type": "markdown",
   "metadata": {},
   "source": [
    "### Build AutoArima Model"
   ]
  },
  {
   "cell_type": "code",
   "execution_count": 80,
   "metadata": {},
   "outputs": [
    {
     "data": {
      "text/plain": [
       "'\\nAIC and BIC depend on log liklihood\\n\\n'"
      ]
     },
     "execution_count": 80,
     "metadata": {},
     "output_type": "execute_result"
    }
   ],
   "source": [
    "\"\"\"\n",
    "AIC and BIC depend on log liklihood\n",
    "\n",
    "\"\"\"\n",
    "# arima_model = auto_arima(brooklyn_zips[11238],start_p=1, start_q=1,\n",
    "           \n",
    "#                             start_P=0, start_Q=0, D=1,max_P=5,max_D=5,max_Q=5, m=12,\n",
    "#                             seasonal=True, error_action='warn',trace=True, stepwise=True,\n",
    "#                            random_state=20, n_fits=50)\n",
    "# arima_model = auto_arima(brooklyn_zips[11238],start_p=1, start_q=1, \n",
    "#                              max_p=3,max_q=3,m=12,d=1, D=1, trace=True,  error_action='ignore',\n",
    "#                              suppress_warnings=True, stepwise=True)"
   ]
  },
  {
   "cell_type": "code",
   "execution_count": 81,
   "metadata": {},
   "outputs": [],
   "source": [
    "def train_test(X, perct=None): \n",
    "    train_size = int(len(X) * perct)\n",
    "    train, test = X[0:train_size], X[train_size: len(X)]\n",
    "    print('Observations:{}'.format(len(X)))\n",
    "    print('Train Set: {}'.format(len(train)))   \n",
    "    print('Test Set: {}'.format(len(test))) \n",
    "\n",
    "    return train, test"
   ]
  },
  {
   "cell_type": "code",
   "execution_count": 82,
   "metadata": {},
   "outputs": [],
   "source": [
    "#train, test = train_test(brooklyn_zips[11238])"
   ]
  },
  {
   "cell_type": "code",
   "execution_count": 83,
   "metadata": {},
   "outputs": [],
   "source": [
    "\"\"\"\n",
    "create an arima model using statsmodel of order 0,2,0\n",
    "train tst split\n",
    "forecasting\n",
    "don't need to read auto_correlation and partial auto_correlation plots\n",
    "\n",
    "defaults are 2,2\n",
    "0. or 1. p,q\n",
    "seasonal by default=True\n",
    "see rtace results of different arima models\n",
    "m= number of periods per season\n",
    "    there is normal differencing and seasonal differencing\n",
    "    4 for quarterly data \n",
    "    12 for monthly data\n",
    "    1 for annual for non-seasonal data\n",
    "    \n",
    " abd sarimax model   \n",
    "\n",
    "\"\"\"\n",
    "def arima_model(df):\n",
    "    autoarima_model = auto_arima(df, start_p = 1, start_q = 1, \n",
    "                              test='adf',             # use adftest to find optimal 'd'\n",
    "                              max_p = 3, max_q = 3,   # maximum p and q\n",
    "                              m = 12,                  #frequency of series \n",
    "                              d = 1,               # let model determine 'd'\n",
    "                              seasonal = True, \n",
    "                              start_P=1, D=1, trace = True, \n",
    "                              error_action ='ignore',   # we don't want to know if an order does not work \n",
    "                              suppress_warnings = True,  # we don't want convergence warnings \n",
    "                              stepwise = True)           # set to stepwise  \n",
    "    \n",
    "    print('\\n')\n",
    "    print(autoarima_model.summary())\n",
    "    \n",
    "    #autoarima_model.plot_diagnostics(figsize=(12,10))\n",
    "    \n",
    "    return autoarima_model\n",
    "\n",
    "    #autoarima_model.summary()"
   ]
  },
  {
   "cell_type": "code",
   "execution_count": 84,
   "metadata": {},
   "outputs": [],
   "source": [
    "#sf = arima_model()"
   ]
  },
  {
   "cell_type": "code",
   "execution_count": 85,
   "metadata": {},
   "outputs": [],
   "source": [
    "#sf.summary()"
   ]
  },
  {
   "cell_type": "code",
   "execution_count": 86,
   "metadata": {},
   "outputs": [
    {
     "data": {
      "text/plain": [
       "'\\nAIC- which estimates the relative amount of information lost by a given model\\na lower AIC value is preferred\\n\\n'"
      ]
     },
     "execution_count": 86,
     "metadata": {},
     "output_type": "execute_result"
    }
   ],
   "source": [
    "\"\"\"\n",
    "AIC- which estimates the relative amount of information lost by a given model\n",
    "a lower AIC value is preferred\n",
    "\n",
    "\"\"\"\n",
    "#print(sf.aic())"
   ]
  },
  {
   "cell_type": "code",
   "execution_count": 87,
   "metadata": {},
   "outputs": [],
   "source": [
    "# sf.plot_diagnostics()\n",
    "# plt.figure(figsize=(12,10))"
   ]
  },
  {
   "cell_type": "markdown",
   "metadata": {},
   "source": [
    "### Train Test Split"
   ]
  },
  {
   "cell_type": "code",
   "execution_count": null,
   "metadata": {},
   "outputs": [],
   "source": []
  },
  {
   "cell_type": "code",
   "execution_count": 88,
   "metadata": {},
   "outputs": [],
   "source": [
    "#train, test = train_test(brooklyn_zips[11238], perct=0.80)"
   ]
  },
  {
   "cell_type": "code",
   "execution_count": 89,
   "metadata": {},
   "outputs": [],
   "source": [
    "#len(train)"
   ]
  },
  {
   "cell_type": "markdown",
   "metadata": {},
   "source": [
    "### Forecasting on Test Data"
   ]
  },
  {
   "cell_type": "code",
   "execution_count": 90,
   "metadata": {},
   "outputs": [],
   "source": [
    "# #length of test data\n",
    "# future_forecast = sf.predict(n_periods=35)\n",
    "# print(future_forecast)"
   ]
  },
  {
   "cell_type": "code",
   "execution_count": 91,
   "metadata": {},
   "outputs": [],
   "source": [
    "# future_forecast = pd.DataFrame(future_forecast,index = test.index,columns=['Prediction'])\n",
    "# pd.concat([brooklyn_zips[11238],future_forecast],axis=1).plot()"
   ]
  },
  {
   "cell_type": "code",
   "execution_count": 92,
   "metadata": {},
   "outputs": [],
   "source": [
    "# plt.figure(figsize=(12,5))\n",
    "# plt.plot(train, label='Train')\n",
    "# plt.plot(test,label='Test')\n",
    "# plt.plot(future_forecast,label='Predicted')\n",
    "# plt.legend()"
   ]
  },
  {
   "cell_type": "code",
   "execution_count": 93,
   "metadata": {},
   "outputs": [],
   "source": [
    "# from sklearn.metrics import mean_squared_error\n",
    "# from math import sqrt\n",
    "\n",
    "# mse = mean_squared_error(test, future_forecast)\n",
    "# rmse = sqrt(mse)\n",
    "# print(rmse)"
   ]
  },
  {
   "cell_type": "markdown",
   "metadata": {},
   "source": [
    "#### Return on Investment"
   ]
  },
  {
   "cell_type": "code",
   "execution_count": 94,
   "metadata": {},
   "outputs": [
    {
     "name": "stdout",
     "output_type": "stream",
     "text": [
      "18.5\n"
     ]
    }
   ],
   "source": [
    "investment = 40000\n",
    "rent = 700\n",
    "loss = 1000  #cost of 1000 per year\n",
    "\n",
    "def roi(investment, rent, loss):\n",
    "    \"\"\"\n",
    "    return on investment is calcualted by net_profit / investment * 100\n",
    "    12 = # of months in year \n",
    "    investment part doesn't need to be touched investment amount is just capital cost of building\n",
    "    \"\"\"\n",
    "    netprofit = rent * 12 - loss\n",
    "    ROI = (netprofit / investment) * 100\n",
    "    print(ROI)\n",
    "    \n",
    "#roi(investment, rent, loss) \n",
    "#calculated return on investment for these parameters\n",
    "roi(investment, rent, loss)   "
   ]
  },
  {
   "cell_type": "code",
   "execution_count": null,
   "metadata": {},
   "outputs": [],
   "source": []
  }
 ],
 "metadata": {
  "kernelspec": {
   "display_name": "Python [conda env:learn-env] *",
   "language": "python",
   "name": "conda-env-learn-env-py"
  },
  "language_info": {
   "codemirror_mode": {
    "name": "ipython",
    "version": 3
   },
   "file_extension": ".py",
   "mimetype": "text/x-python",
   "name": "python",
   "nbconvert_exporter": "python",
   "pygments_lexer": "ipython3",
   "version": "3.6.9"
  },
  "toc": {
   "base_numbering": 1,
   "nav_menu": {},
   "number_sections": true,
   "sideBar": true,
   "skip_h1_title": false,
   "title_cell": "Table of Contents",
   "title_sidebar": "Contents",
   "toc_cell": false,
   "toc_position": {},
   "toc_section_display": true,
   "toc_window_display": false
  }
 },
 "nbformat": 4,
 "nbformat_minor": 2
}
