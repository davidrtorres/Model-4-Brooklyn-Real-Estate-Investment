{
 "cells": [
  {
   "cell_type": "markdown",
   "metadata": {},
   "source": [
    "# Mod 4 Project - Starter Notebook\n",
    "\n",
    "This notebook has been provided to you so that you can make use of the following starter code to help with the trickier parts of preprocessing the Zillow dataset. \n",
    "\n",
    "The notebook contains a rough outline the general order you'll likely want to take in this project. You'll notice that most of the areas are left blank. This is so that it's more obvious exactly when you should make use of the starter code provided for preprocessing. \n",
    "\n",
    "**_NOTE:_** The number of empty cells are not meant to infer how much or how little code should be involved in any given step--we've just provided a few for your convenience. Add, delete, and change things around in this notebook as needed!\n",
    "\n",
    "# Some Notes Before Starting\n",
    "\n",
    "This project will be one of the more challenging projects you complete in this program. This is because working with Time Series data is a bit different than working with regular datasets. In order to make this a bit less frustrating and help you understand what you need to do (and when you need to do it), we'll quickly review the dataset formats that you'll encounter in this project. \n",
    "\n",
    "## Wide Format vs Long Format\n",
    "\n",
    "If you take a look at the format of the data in `zillow_data.csv`, you'll notice that the actual Time Series values are stored as separate columns. Here's a sample: \n",
    "\n",
    "<img src='https://raw.githubusercontent.com/learn-co-students/dsc-mod-4-project-seattle-ds-102819/master/images/df_head.png'>\n",
    "\n",
    "You'll notice that the first seven columns look like any other dataset you're used to working with. However, column 8 refers to the median housing sales values for April 1996, column 9 for May 1996, and so on. This This is called **_Wide Format_**, and it makes the dataframe intuitive and easy to read. However, there are problems with this format when it comes to actually learning from the data, because the data only makes sense if you know the name of the column that the data can be found it. Since column names are metadata, our algorithms will miss out on what dates each value is for. This means that before we pass this data to our ARIMA model, we'll need to reshape our dataset to **_Long Format_**. Reshaped into long format, the dataframe above would now look like:\n",
    "\n",
    "<img src='https://raw.githubusercontent.com/learn-co-students/dsc-mod-4-project-seattle-ds-102819/master/images/melted1.png'>\n",
    "\n",
    "There are now many more rows in this dataset--one for each unique time and zipcode combination in the data! Once our dataset is in this format, we'll be able to train an ARIMA model on it. The method used to convert from Wide to Long is `pd.melt()`, and it is common to refer to our dataset as 'melted' after the transition to denote that it is in long format. \n",
    "\n",
    "# Helper Functions Provided\n",
    "\n",
    "Melting a dataset can be tricky if you've never done it before, so you'll see that we have provided a sample function, `melt_data()`, to help you with this step below. Also provided is:\n",
    "\n",
    "* `get_datetimes()`, a function to deal with converting the column values for datetimes as a pandas series of datetime objects\n",
    "* Some good parameters for matplotlib to help make your visualizations more readable. \n",
    "\n",
    "Good luck!\n",
    "\n",
    "\n",
    "# Step 1: Load the Data/Filtering for Chosen Zipcodes"
   ]
  },
  {
   "cell_type": "code",
   "execution_count": 1,
   "metadata": {},
   "outputs": [
    {
     "name": "stderr",
     "output_type": "stream",
     "text": [
      "/Users/davidtorres/opt/anaconda3/envs/learn-env/lib/python3.6/site-packages/statsmodels/tools/_testing.py:19: FutureWarning: pandas.util.testing is deprecated. Use the functions in the public API at pandas.testing instead.\n",
      "  import pandas.util.testing as tm\n"
     ]
    }
   ],
   "source": [
    "\"\"\"\n",
    "you will be forecasting real estate prices of various zip codes \n",
    "\n",
    "What are the top 5 best zip codes for us to invest in?\n",
    "\n",
    "Should your recommendation be focused on profit margins only? \n",
    "What about risk? \n",
    "What sort of time horizon are you predicting against? \n",
    "Your recommendation will need to detail your rationale and answer any sort of lingering questions like these \n",
    "    in order to demonstrate how you define \"best\".\n",
    "\n",
    "Evaluation\n",
    "In addition to deciding which quantitative metric(s) you want to target (e.g. minimizing mean squared error), \n",
    "    you need to start with a definition of \"best investment\". \n",
    "    Consider additional metrics like risk vs. profitability, or ROI yield.\n",
    "\n",
    "\n",
    "\"\"\"\n",
    "import pandas as pd\n",
    "import numpy as np\n",
    "import matplotlib.pyplot as plt\n",
    "%matplotlib inline\n",
    "\n",
    "from statsmodels.tsa.stattools import adfuller"
   ]
  },
  {
   "cell_type": "code",
   "execution_count": 2,
   "metadata": {},
   "outputs": [],
   "source": [
    "# pd.set_option('display.max_columns', None)  \n",
    "# df = pd.read_csv('zillow_data.csv')\n",
    "# df.head()"
   ]
  },
  {
   "cell_type": "code",
   "execution_count": 3,
   "metadata": {},
   "outputs": [],
   "source": [
    "# pd.set_option('display.max_columns', None)  \n",
    "# df_1 = pd.read_csv('zillow_data.csv')\n",
    "# df_1.head()"
   ]
  },
  {
   "cell_type": "code",
   "execution_count": 4,
   "metadata": {},
   "outputs": [],
   "source": [
    "# pd.set_option('display.max_columns', None)  \n",
    "# data_ny = pd.read_csv('zillow_data.csv')\n",
    "# data_ny.head()"
   ]
  },
  {
   "cell_type": "code",
   "execution_count": 5,
   "metadata": {},
   "outputs": [],
   "source": [
    "#data_ny=data_ny.drop([\"RegionID\", \"City\", \"State\", \"Metro\", \"CountyName\", \"SizeRank\"], axis=1)"
   ]
  },
  {
   "cell_type": "code",
   "execution_count": 6,
   "metadata": {},
   "outputs": [],
   "source": [
    "# data_ny.rename(columns={'RegionName': 'Zipcode'}, inplace=True)\n",
    "# data_ny.head()"
   ]
  },
  {
   "cell_type": "code",
   "execution_count": null,
   "metadata": {},
   "outputs": [],
   "source": []
  },
  {
   "cell_type": "code",
   "execution_count": 7,
   "metadata": {},
   "outputs": [
    {
     "data": {
      "text/html": [
       "<div>\n",
       "<style scoped>\n",
       "    .dataframe tbody tr th:only-of-type {\n",
       "        vertical-align: middle;\n",
       "    }\n",
       "\n",
       "    .dataframe tbody tr th {\n",
       "        vertical-align: top;\n",
       "    }\n",
       "\n",
       "    .dataframe thead th {\n",
       "        text-align: right;\n",
       "    }\n",
       "</style>\n",
       "<table border=\"1\" class=\"dataframe\">\n",
       "  <thead>\n",
       "    <tr style=\"text-align: right;\">\n",
       "      <th></th>\n",
       "      <th>RegionID</th>\n",
       "      <th>RegionName</th>\n",
       "      <th>City</th>\n",
       "      <th>State</th>\n",
       "      <th>Metro</th>\n",
       "      <th>CountyName</th>\n",
       "      <th>SizeRank</th>\n",
       "      <th>1996-04</th>\n",
       "      <th>1996-05</th>\n",
       "      <th>1996-06</th>\n",
       "      <th>...</th>\n",
       "      <th>2017-07</th>\n",
       "      <th>2017-08</th>\n",
       "      <th>2017-09</th>\n",
       "      <th>2017-10</th>\n",
       "      <th>2017-11</th>\n",
       "      <th>2017-12</th>\n",
       "      <th>2018-01</th>\n",
       "      <th>2018-02</th>\n",
       "      <th>2018-03</th>\n",
       "      <th>2018-04</th>\n",
       "    </tr>\n",
       "  </thead>\n",
       "  <tbody>\n",
       "    <tr>\n",
       "      <th>0</th>\n",
       "      <td>84654</td>\n",
       "      <td>60657</td>\n",
       "      <td>Chicago</td>\n",
       "      <td>IL</td>\n",
       "      <td>Chicago</td>\n",
       "      <td>Cook</td>\n",
       "      <td>1</td>\n",
       "      <td>334200.0</td>\n",
       "      <td>335400.0</td>\n",
       "      <td>336500.0</td>\n",
       "      <td>...</td>\n",
       "      <td>1005500</td>\n",
       "      <td>1007500</td>\n",
       "      <td>1007800</td>\n",
       "      <td>1009600</td>\n",
       "      <td>1013300</td>\n",
       "      <td>1018700</td>\n",
       "      <td>1024400</td>\n",
       "      <td>1030700</td>\n",
       "      <td>1033800</td>\n",
       "      <td>1030600</td>\n",
       "    </tr>\n",
       "    <tr>\n",
       "      <th>1</th>\n",
       "      <td>90668</td>\n",
       "      <td>75070</td>\n",
       "      <td>McKinney</td>\n",
       "      <td>TX</td>\n",
       "      <td>Dallas-Fort Worth</td>\n",
       "      <td>Collin</td>\n",
       "      <td>2</td>\n",
       "      <td>235700.0</td>\n",
       "      <td>236900.0</td>\n",
       "      <td>236700.0</td>\n",
       "      <td>...</td>\n",
       "      <td>308000</td>\n",
       "      <td>310000</td>\n",
       "      <td>312500</td>\n",
       "      <td>314100</td>\n",
       "      <td>315000</td>\n",
       "      <td>316600</td>\n",
       "      <td>318100</td>\n",
       "      <td>319600</td>\n",
       "      <td>321100</td>\n",
       "      <td>321800</td>\n",
       "    </tr>\n",
       "    <tr>\n",
       "      <th>2</th>\n",
       "      <td>91982</td>\n",
       "      <td>77494</td>\n",
       "      <td>Katy</td>\n",
       "      <td>TX</td>\n",
       "      <td>Houston</td>\n",
       "      <td>Harris</td>\n",
       "      <td>3</td>\n",
       "      <td>210400.0</td>\n",
       "      <td>212200.0</td>\n",
       "      <td>212200.0</td>\n",
       "      <td>...</td>\n",
       "      <td>321000</td>\n",
       "      <td>320600</td>\n",
       "      <td>320200</td>\n",
       "      <td>320400</td>\n",
       "      <td>320800</td>\n",
       "      <td>321200</td>\n",
       "      <td>321200</td>\n",
       "      <td>323000</td>\n",
       "      <td>326900</td>\n",
       "      <td>329900</td>\n",
       "    </tr>\n",
       "    <tr>\n",
       "      <th>3</th>\n",
       "      <td>84616</td>\n",
       "      <td>60614</td>\n",
       "      <td>Chicago</td>\n",
       "      <td>IL</td>\n",
       "      <td>Chicago</td>\n",
       "      <td>Cook</td>\n",
       "      <td>4</td>\n",
       "      <td>498100.0</td>\n",
       "      <td>500900.0</td>\n",
       "      <td>503100.0</td>\n",
       "      <td>...</td>\n",
       "      <td>1289800</td>\n",
       "      <td>1287700</td>\n",
       "      <td>1287400</td>\n",
       "      <td>1291500</td>\n",
       "      <td>1296600</td>\n",
       "      <td>1299000</td>\n",
       "      <td>1302700</td>\n",
       "      <td>1306400</td>\n",
       "      <td>1308500</td>\n",
       "      <td>1307000</td>\n",
       "    </tr>\n",
       "    <tr>\n",
       "      <th>4</th>\n",
       "      <td>93144</td>\n",
       "      <td>79936</td>\n",
       "      <td>El Paso</td>\n",
       "      <td>TX</td>\n",
       "      <td>El Paso</td>\n",
       "      <td>El Paso</td>\n",
       "      <td>5</td>\n",
       "      <td>77300.0</td>\n",
       "      <td>77300.0</td>\n",
       "      <td>77300.0</td>\n",
       "      <td>...</td>\n",
       "      <td>119100</td>\n",
       "      <td>119400</td>\n",
       "      <td>120000</td>\n",
       "      <td>120300</td>\n",
       "      <td>120300</td>\n",
       "      <td>120300</td>\n",
       "      <td>120300</td>\n",
       "      <td>120500</td>\n",
       "      <td>121000</td>\n",
       "      <td>121500</td>\n",
       "    </tr>\n",
       "  </tbody>\n",
       "</table>\n",
       "<p>5 rows × 272 columns</p>\n",
       "</div>"
      ],
      "text/plain": [
       "   RegionID  RegionName      City State              Metro CountyName  \\\n",
       "0     84654       60657   Chicago    IL            Chicago       Cook   \n",
       "1     90668       75070  McKinney    TX  Dallas-Fort Worth     Collin   \n",
       "2     91982       77494      Katy    TX            Houston     Harris   \n",
       "3     84616       60614   Chicago    IL            Chicago       Cook   \n",
       "4     93144       79936   El Paso    TX            El Paso    El Paso   \n",
       "\n",
       "   SizeRank   1996-04   1996-05   1996-06  ...  2017-07  2017-08  2017-09  \\\n",
       "0         1  334200.0  335400.0  336500.0  ...  1005500  1007500  1007800   \n",
       "1         2  235700.0  236900.0  236700.0  ...   308000   310000   312500   \n",
       "2         3  210400.0  212200.0  212200.0  ...   321000   320600   320200   \n",
       "3         4  498100.0  500900.0  503100.0  ...  1289800  1287700  1287400   \n",
       "4         5   77300.0   77300.0   77300.0  ...   119100   119400   120000   \n",
       "\n",
       "   2017-10  2017-11  2017-12  2018-01  2018-02  2018-03  2018-04  \n",
       "0  1009600  1013300  1018700  1024400  1030700  1033800  1030600  \n",
       "1   314100   315000   316600   318100   319600   321100   321800  \n",
       "2   320400   320800   321200   321200   323000   326900   329900  \n",
       "3  1291500  1296600  1299000  1302700  1306400  1308500  1307000  \n",
       "4   120300   120300   120300   120300   120500   121000   121500  \n",
       "\n",
       "[5 rows x 272 columns]"
      ]
     },
     "execution_count": 7,
     "metadata": {},
     "output_type": "execute_result"
    }
   ],
   "source": [
    "#pd.set_option('display.max_columns', None)  \n",
    "zillow = pd.read_csv('zillow_data.csv')\n",
    "zillow.head()"
   ]
  },
  {
   "cell_type": "code",
   "execution_count": 8,
   "metadata": {},
   "outputs": [
    {
     "data": {
      "text/html": [
       "<div>\n",
       "<style scoped>\n",
       "    .dataframe tbody tr th:only-of-type {\n",
       "        vertical-align: middle;\n",
       "    }\n",
       "\n",
       "    .dataframe tbody tr th {\n",
       "        vertical-align: top;\n",
       "    }\n",
       "\n",
       "    .dataframe thead th {\n",
       "        text-align: right;\n",
       "    }\n",
       "</style>\n",
       "<table border=\"1\" class=\"dataframe\">\n",
       "  <thead>\n",
       "    <tr style=\"text-align: right;\">\n",
       "      <th></th>\n",
       "      <th>RegionID</th>\n",
       "      <th>Zipcode</th>\n",
       "      <th>City</th>\n",
       "      <th>State</th>\n",
       "      <th>Metro</th>\n",
       "      <th>CountyName</th>\n",
       "      <th>SizeRank</th>\n",
       "      <th>1996-04</th>\n",
       "      <th>1996-05</th>\n",
       "      <th>1996-06</th>\n",
       "      <th>...</th>\n",
       "      <th>2017-07</th>\n",
       "      <th>2017-08</th>\n",
       "      <th>2017-09</th>\n",
       "      <th>2017-10</th>\n",
       "      <th>2017-11</th>\n",
       "      <th>2017-12</th>\n",
       "      <th>2018-01</th>\n",
       "      <th>2018-02</th>\n",
       "      <th>2018-03</th>\n",
       "      <th>2018-04</th>\n",
       "    </tr>\n",
       "  </thead>\n",
       "  <tbody>\n",
       "    <tr>\n",
       "      <th>0</th>\n",
       "      <td>84654</td>\n",
       "      <td>60657</td>\n",
       "      <td>Chicago</td>\n",
       "      <td>IL</td>\n",
       "      <td>Chicago</td>\n",
       "      <td>Cook</td>\n",
       "      <td>1</td>\n",
       "      <td>334200.0</td>\n",
       "      <td>335400.0</td>\n",
       "      <td>336500.0</td>\n",
       "      <td>...</td>\n",
       "      <td>1005500</td>\n",
       "      <td>1007500</td>\n",
       "      <td>1007800</td>\n",
       "      <td>1009600</td>\n",
       "      <td>1013300</td>\n",
       "      <td>1018700</td>\n",
       "      <td>1024400</td>\n",
       "      <td>1030700</td>\n",
       "      <td>1033800</td>\n",
       "      <td>1030600</td>\n",
       "    </tr>\n",
       "    <tr>\n",
       "      <th>1</th>\n",
       "      <td>90668</td>\n",
       "      <td>75070</td>\n",
       "      <td>McKinney</td>\n",
       "      <td>TX</td>\n",
       "      <td>Dallas-Fort Worth</td>\n",
       "      <td>Collin</td>\n",
       "      <td>2</td>\n",
       "      <td>235700.0</td>\n",
       "      <td>236900.0</td>\n",
       "      <td>236700.0</td>\n",
       "      <td>...</td>\n",
       "      <td>308000</td>\n",
       "      <td>310000</td>\n",
       "      <td>312500</td>\n",
       "      <td>314100</td>\n",
       "      <td>315000</td>\n",
       "      <td>316600</td>\n",
       "      <td>318100</td>\n",
       "      <td>319600</td>\n",
       "      <td>321100</td>\n",
       "      <td>321800</td>\n",
       "    </tr>\n",
       "    <tr>\n",
       "      <th>2</th>\n",
       "      <td>91982</td>\n",
       "      <td>77494</td>\n",
       "      <td>Katy</td>\n",
       "      <td>TX</td>\n",
       "      <td>Houston</td>\n",
       "      <td>Harris</td>\n",
       "      <td>3</td>\n",
       "      <td>210400.0</td>\n",
       "      <td>212200.0</td>\n",
       "      <td>212200.0</td>\n",
       "      <td>...</td>\n",
       "      <td>321000</td>\n",
       "      <td>320600</td>\n",
       "      <td>320200</td>\n",
       "      <td>320400</td>\n",
       "      <td>320800</td>\n",
       "      <td>321200</td>\n",
       "      <td>321200</td>\n",
       "      <td>323000</td>\n",
       "      <td>326900</td>\n",
       "      <td>329900</td>\n",
       "    </tr>\n",
       "    <tr>\n",
       "      <th>3</th>\n",
       "      <td>84616</td>\n",
       "      <td>60614</td>\n",
       "      <td>Chicago</td>\n",
       "      <td>IL</td>\n",
       "      <td>Chicago</td>\n",
       "      <td>Cook</td>\n",
       "      <td>4</td>\n",
       "      <td>498100.0</td>\n",
       "      <td>500900.0</td>\n",
       "      <td>503100.0</td>\n",
       "      <td>...</td>\n",
       "      <td>1289800</td>\n",
       "      <td>1287700</td>\n",
       "      <td>1287400</td>\n",
       "      <td>1291500</td>\n",
       "      <td>1296600</td>\n",
       "      <td>1299000</td>\n",
       "      <td>1302700</td>\n",
       "      <td>1306400</td>\n",
       "      <td>1308500</td>\n",
       "      <td>1307000</td>\n",
       "    </tr>\n",
       "    <tr>\n",
       "      <th>4</th>\n",
       "      <td>93144</td>\n",
       "      <td>79936</td>\n",
       "      <td>El Paso</td>\n",
       "      <td>TX</td>\n",
       "      <td>El Paso</td>\n",
       "      <td>El Paso</td>\n",
       "      <td>5</td>\n",
       "      <td>77300.0</td>\n",
       "      <td>77300.0</td>\n",
       "      <td>77300.0</td>\n",
       "      <td>...</td>\n",
       "      <td>119100</td>\n",
       "      <td>119400</td>\n",
       "      <td>120000</td>\n",
       "      <td>120300</td>\n",
       "      <td>120300</td>\n",
       "      <td>120300</td>\n",
       "      <td>120300</td>\n",
       "      <td>120500</td>\n",
       "      <td>121000</td>\n",
       "      <td>121500</td>\n",
       "    </tr>\n",
       "  </tbody>\n",
       "</table>\n",
       "<p>5 rows × 272 columns</p>\n",
       "</div>"
      ],
      "text/plain": [
       "   RegionID  Zipcode      City State              Metro CountyName  SizeRank  \\\n",
       "0     84654    60657   Chicago    IL            Chicago       Cook         1   \n",
       "1     90668    75070  McKinney    TX  Dallas-Fort Worth     Collin         2   \n",
       "2     91982    77494      Katy    TX            Houston     Harris         3   \n",
       "3     84616    60614   Chicago    IL            Chicago       Cook         4   \n",
       "4     93144    79936   El Paso    TX            El Paso    El Paso         5   \n",
       "\n",
       "    1996-04   1996-05   1996-06  ...  2017-07  2017-08  2017-09  2017-10  \\\n",
       "0  334200.0  335400.0  336500.0  ...  1005500  1007500  1007800  1009600   \n",
       "1  235700.0  236900.0  236700.0  ...   308000   310000   312500   314100   \n",
       "2  210400.0  212200.0  212200.0  ...   321000   320600   320200   320400   \n",
       "3  498100.0  500900.0  503100.0  ...  1289800  1287700  1287400  1291500   \n",
       "4   77300.0   77300.0   77300.0  ...   119100   119400   120000   120300   \n",
       "\n",
       "   2017-11  2017-12  2018-01  2018-02  2018-03  2018-04  \n",
       "0  1013300  1018700  1024400  1030700  1033800  1030600  \n",
       "1   315000   316600   318100   319600   321100   321800  \n",
       "2   320800   321200   321200   323000   326900   329900  \n",
       "3  1296600  1299000  1302700  1306400  1308500  1307000  \n",
       "4   120300   120300   120300   120500   121000   121500  \n",
       "\n",
       "[5 rows x 272 columns]"
      ]
     },
     "execution_count": 8,
     "metadata": {},
     "output_type": "execute_result"
    }
   ],
   "source": [
    "zillow.rename(columns={'RegionName': 'Zipcode'}, inplace=True)\n",
    "zillow.head()"
   ]
  },
  {
   "cell_type": "code",
   "execution_count": 9,
   "metadata": {},
   "outputs": [],
   "source": [
    "\"\"\"\n",
    "from datetime import datetime\n",
    "#con=data['Month']\n",
    "df_ny['Date']=pd.to_datetime(df_ny['Date'])\n",
    "df_ny.set_index('Date', inplace=True)\n",
    "df_ny.head()\n",
    "\n",
    "\n",
    "def melt_data(df):\n",
    "    melted = pd.melt(df, id_vars=['RegionName', 'City', 'State', 'Metro', 'CountyName'], var_name='time')\n",
    "    melted['time'] = pd.to_datetime(melted['time'], infer_datetime_format=True)\n",
    "    melted = melted.dropna(subset=['value'])\n",
    "    return melted.groupby('time').aggregate({'value':'mean'})\n",
    "\n",
    "\"\"\"\n",
    "\n",
    "# def melt_data(df):\n",
    "#     melted = pd.melt(df, id_vars=['Zipcode'], var_name='Date', value_name='SalePrice')\n",
    "#     melted['Date'] = pd.to_datetime(melted['Date'], infer_datetime_format=True)\n",
    "#     melted = melted.dropna(subset=['SalePrice'])\n",
    "#     melted.index=melted['Date']\n",
    "#     melted.drop('Date',axis=1,inplace=True)\n",
    "#     return melted#.groupby('Date').aggregate({'SalePrice':'mean'})\n",
    "   \n",
    "    \n",
    "def melt_data(df):\n",
    "    melted = pd.melt(df, id_vars=['RegionID','Zipcode', 'City', 'State', 'Metro', 'CountyName', \n",
    "                                  'SizeRank'], var_name='Month', value_name='MeanValue')\n",
    "    melted['Month'] = pd.to_datetime(melted['Month'], format='%Y-%m')\n",
    "    #melted = melted.set_index('Month')\n",
    "    melted = melted.dropna(subset=['MeanValue'])\n",
    "    return melted"
   ]
  },
  {
   "cell_type": "code",
   "execution_count": 10,
   "metadata": {},
   "outputs": [],
   "source": [
    "\n",
    "all_zipcodes = melt_data(zillow)"
   ]
  },
  {
   "cell_type": "code",
   "execution_count": 11,
   "metadata": {},
   "outputs": [
    {
     "data": {
      "text/plain": [
       "Index(['RegionID', 'Zipcode', 'City', 'State', 'Metro', 'CountyName',\n",
       "       'SizeRank', 'Month', 'MeanValue'],\n",
       "      dtype='object')"
      ]
     },
     "execution_count": 11,
     "metadata": {},
     "output_type": "execute_result"
    }
   ],
   "source": [
    "all_zipcodes.columns"
   ]
  },
  {
   "cell_type": "code",
   "execution_count": 12,
   "metadata": {
    "scrolled": true
   },
   "outputs": [
    {
     "data": {
      "text/html": [
       "<div>\n",
       "<style scoped>\n",
       "    .dataframe tbody tr th:only-of-type {\n",
       "        vertical-align: middle;\n",
       "    }\n",
       "\n",
       "    .dataframe tbody tr th {\n",
       "        vertical-align: top;\n",
       "    }\n",
       "\n",
       "    .dataframe thead th {\n",
       "        text-align: right;\n",
       "    }\n",
       "</style>\n",
       "<table border=\"1\" class=\"dataframe\">\n",
       "  <thead>\n",
       "    <tr style=\"text-align: right;\">\n",
       "      <th></th>\n",
       "      <th>RegionID</th>\n",
       "      <th>Zipcode</th>\n",
       "      <th>City</th>\n",
       "      <th>State</th>\n",
       "      <th>Metro</th>\n",
       "      <th>CountyName</th>\n",
       "      <th>SizeRank</th>\n",
       "      <th>Month</th>\n",
       "      <th>MeanValue</th>\n",
       "    </tr>\n",
       "  </thead>\n",
       "  <tbody>\n",
       "    <tr>\n",
       "      <th>0</th>\n",
       "      <td>84654</td>\n",
       "      <td>60657</td>\n",
       "      <td>Chicago</td>\n",
       "      <td>IL</td>\n",
       "      <td>Chicago</td>\n",
       "      <td>Cook</td>\n",
       "      <td>1</td>\n",
       "      <td>1996-04-01</td>\n",
       "      <td>334200.0</td>\n",
       "    </tr>\n",
       "    <tr>\n",
       "      <th>1</th>\n",
       "      <td>90668</td>\n",
       "      <td>75070</td>\n",
       "      <td>McKinney</td>\n",
       "      <td>TX</td>\n",
       "      <td>Dallas-Fort Worth</td>\n",
       "      <td>Collin</td>\n",
       "      <td>2</td>\n",
       "      <td>1996-04-01</td>\n",
       "      <td>235700.0</td>\n",
       "    </tr>\n",
       "    <tr>\n",
       "      <th>2</th>\n",
       "      <td>91982</td>\n",
       "      <td>77494</td>\n",
       "      <td>Katy</td>\n",
       "      <td>TX</td>\n",
       "      <td>Houston</td>\n",
       "      <td>Harris</td>\n",
       "      <td>3</td>\n",
       "      <td>1996-04-01</td>\n",
       "      <td>210400.0</td>\n",
       "    </tr>\n",
       "    <tr>\n",
       "      <th>3</th>\n",
       "      <td>84616</td>\n",
       "      <td>60614</td>\n",
       "      <td>Chicago</td>\n",
       "      <td>IL</td>\n",
       "      <td>Chicago</td>\n",
       "      <td>Cook</td>\n",
       "      <td>4</td>\n",
       "      <td>1996-04-01</td>\n",
       "      <td>498100.0</td>\n",
       "    </tr>\n",
       "    <tr>\n",
       "      <th>4</th>\n",
       "      <td>93144</td>\n",
       "      <td>79936</td>\n",
       "      <td>El Paso</td>\n",
       "      <td>TX</td>\n",
       "      <td>El Paso</td>\n",
       "      <td>El Paso</td>\n",
       "      <td>5</td>\n",
       "      <td>1996-04-01</td>\n",
       "      <td>77300.0</td>\n",
       "    </tr>\n",
       "  </tbody>\n",
       "</table>\n",
       "</div>"
      ],
      "text/plain": [
       "   RegionID  Zipcode      City State              Metro CountyName  SizeRank  \\\n",
       "0     84654    60657   Chicago    IL            Chicago       Cook         1   \n",
       "1     90668    75070  McKinney    TX  Dallas-Fort Worth     Collin         2   \n",
       "2     91982    77494      Katy    TX            Houston     Harris         3   \n",
       "3     84616    60614   Chicago    IL            Chicago       Cook         4   \n",
       "4     93144    79936   El Paso    TX            El Paso    El Paso         5   \n",
       "\n",
       "       Month  MeanValue  \n",
       "0 1996-04-01   334200.0  \n",
       "1 1996-04-01   235700.0  \n",
       "2 1996-04-01   210400.0  \n",
       "3 1996-04-01   498100.0  \n",
       "4 1996-04-01    77300.0  "
      ]
     },
     "execution_count": 12,
     "metadata": {},
     "output_type": "execute_result"
    }
   ],
   "source": [
    "all_zipcodes.head()"
   ]
  },
  {
   "cell_type": "code",
   "execution_count": 13,
   "metadata": {},
   "outputs": [
    {
     "data": {
      "text/html": [
       "<div>\n",
       "<style scoped>\n",
       "    .dataframe tbody tr th:only-of-type {\n",
       "        vertical-align: middle;\n",
       "    }\n",
       "\n",
       "    .dataframe tbody tr th {\n",
       "        vertical-align: top;\n",
       "    }\n",
       "\n",
       "    .dataframe thead th {\n",
       "        text-align: right;\n",
       "    }\n",
       "</style>\n",
       "<table border=\"1\" class=\"dataframe\">\n",
       "  <thead>\n",
       "    <tr style=\"text-align: right;\">\n",
       "      <th></th>\n",
       "      <th>RegionID</th>\n",
       "      <th>Zipcode</th>\n",
       "      <th>City</th>\n",
       "      <th>State</th>\n",
       "      <th>Metro</th>\n",
       "      <th>CountyName</th>\n",
       "      <th>SizeRank</th>\n",
       "      <th>Month</th>\n",
       "      <th>MeanValue</th>\n",
       "    </tr>\n",
       "  </thead>\n",
       "  <tbody>\n",
       "    <tr>\n",
       "      <th>10</th>\n",
       "      <td>62037</td>\n",
       "      <td>11226</td>\n",
       "      <td>New York</td>\n",
       "      <td>NY</td>\n",
       "      <td>New York</td>\n",
       "      <td>Kings</td>\n",
       "      <td>11</td>\n",
       "      <td>1996-04-01</td>\n",
       "      <td>162000.0</td>\n",
       "    </tr>\n",
       "    <tr>\n",
       "      <th>13</th>\n",
       "      <td>62045</td>\n",
       "      <td>11235</td>\n",
       "      <td>New York</td>\n",
       "      <td>NY</td>\n",
       "      <td>New York</td>\n",
       "      <td>Kings</td>\n",
       "      <td>14</td>\n",
       "      <td>1996-04-01</td>\n",
       "      <td>190500.0</td>\n",
       "    </tr>\n",
       "    <tr>\n",
       "      <th>47</th>\n",
       "      <td>62040</td>\n",
       "      <td>11230</td>\n",
       "      <td>New York</td>\n",
       "      <td>NY</td>\n",
       "      <td>New York</td>\n",
       "      <td>Kings</td>\n",
       "      <td>48</td>\n",
       "      <td>1996-04-01</td>\n",
       "      <td>230100.0</td>\n",
       "    </tr>\n",
       "    <tr>\n",
       "      <th>49</th>\n",
       "      <td>62020</td>\n",
       "      <td>11209</td>\n",
       "      <td>New York</td>\n",
       "      <td>NY</td>\n",
       "      <td>New York</td>\n",
       "      <td>Kings</td>\n",
       "      <td>50</td>\n",
       "      <td>1996-04-01</td>\n",
       "      <td>255700.0</td>\n",
       "    </tr>\n",
       "    <tr>\n",
       "      <th>53</th>\n",
       "      <td>62023</td>\n",
       "      <td>11212</td>\n",
       "      <td>New York</td>\n",
       "      <td>NY</td>\n",
       "      <td>New York</td>\n",
       "      <td>Kings</td>\n",
       "      <td>54</td>\n",
       "      <td>1996-04-01</td>\n",
       "      <td>125000.0</td>\n",
       "    </tr>\n",
       "    <tr>\n",
       "      <th>...</th>\n",
       "      <td>...</td>\n",
       "      <td>...</td>\n",
       "      <td>...</td>\n",
       "      <td>...</td>\n",
       "      <td>...</td>\n",
       "      <td>...</td>\n",
       "      <td>...</td>\n",
       "      <td>...</td>\n",
       "      <td>...</td>\n",
       "    </tr>\n",
       "    <tr>\n",
       "      <th>3887683</th>\n",
       "      <td>62035</td>\n",
       "      <td>11224</td>\n",
       "      <td>New York</td>\n",
       "      <td>NY</td>\n",
       "      <td>New York</td>\n",
       "      <td>Kings</td>\n",
       "      <td>812</td>\n",
       "      <td>2018-04-01</td>\n",
       "      <td>517900.0</td>\n",
       "    </tr>\n",
       "    <tr>\n",
       "      <th>3888027</th>\n",
       "      <td>62033</td>\n",
       "      <td>11222</td>\n",
       "      <td>New York</td>\n",
       "      <td>NY</td>\n",
       "      <td>New York</td>\n",
       "      <td>Kings</td>\n",
       "      <td>1156</td>\n",
       "      <td>2018-04-01</td>\n",
       "      <td>1721100.0</td>\n",
       "    </tr>\n",
       "    <tr>\n",
       "      <th>3888306</th>\n",
       "      <td>62016</td>\n",
       "      <td>11205</td>\n",
       "      <td>New York</td>\n",
       "      <td>NY</td>\n",
       "      <td>New York</td>\n",
       "      <td>Kings</td>\n",
       "      <td>1435</td>\n",
       "      <td>2018-04-01</td>\n",
       "      <td>2248400.0</td>\n",
       "    </tr>\n",
       "    <tr>\n",
       "      <th>3888406</th>\n",
       "      <td>62028</td>\n",
       "      <td>11217</td>\n",
       "      <td>New York</td>\n",
       "      <td>NY</td>\n",
       "      <td>New York</td>\n",
       "      <td>Kings</td>\n",
       "      <td>1535</td>\n",
       "      <td>2018-04-01</td>\n",
       "      <td>3656000.0</td>\n",
       "    </tr>\n",
       "    <tr>\n",
       "      <th>3890600</th>\n",
       "      <td>62038</td>\n",
       "      <td>11228</td>\n",
       "      <td>New York</td>\n",
       "      <td>NY</td>\n",
       "      <td>New York</td>\n",
       "      <td>Kings</td>\n",
       "      <td>3729</td>\n",
       "      <td>2018-04-01</td>\n",
       "      <td>915300.0</td>\n",
       "    </tr>\n",
       "  </tbody>\n",
       "</table>\n",
       "<p>7141 rows × 9 columns</p>\n",
       "</div>"
      ],
      "text/plain": [
       "         RegionID  Zipcode      City State     Metro CountyName  SizeRank  \\\n",
       "10          62037    11226  New York    NY  New York      Kings        11   \n",
       "13          62045    11235  New York    NY  New York      Kings        14   \n",
       "47          62040    11230  New York    NY  New York      Kings        48   \n",
       "49          62020    11209  New York    NY  New York      Kings        50   \n",
       "53          62023    11212  New York    NY  New York      Kings        54   \n",
       "...           ...      ...       ...   ...       ...        ...       ...   \n",
       "3887683     62035    11224  New York    NY  New York      Kings       812   \n",
       "3888027     62033    11222  New York    NY  New York      Kings      1156   \n",
       "3888306     62016    11205  New York    NY  New York      Kings      1435   \n",
       "3888406     62028    11217  New York    NY  New York      Kings      1535   \n",
       "3890600     62038    11228  New York    NY  New York      Kings      3729   \n",
       "\n",
       "             Month  MeanValue  \n",
       "10      1996-04-01   162000.0  \n",
       "13      1996-04-01   190500.0  \n",
       "47      1996-04-01   230100.0  \n",
       "49      1996-04-01   255700.0  \n",
       "53      1996-04-01   125000.0  \n",
       "...            ...        ...  \n",
       "3887683 2018-04-01   517900.0  \n",
       "3888027 2018-04-01  1721100.0  \n",
       "3888306 2018-04-01  2248400.0  \n",
       "3888406 2018-04-01  3656000.0  \n",
       "3890600 2018-04-01   915300.0  \n",
       "\n",
       "[7141 rows x 9 columns]"
      ]
     },
     "execution_count": 13,
     "metadata": {},
     "output_type": "execute_result"
    }
   ],
   "source": [
    "kings = all_zipcodes[(all_zipcodes['CountyName']=='Kings') & (all_zipcodes['State']== 'NY')]\n",
    "kings"
   ]
  },
  {
   "cell_type": "code",
   "execution_count": 14,
   "metadata": {},
   "outputs": [
    {
     "data": {
      "text/plain": [
       "28"
      ]
     },
     "execution_count": 14,
     "metadata": {},
     "output_type": "execute_result"
    }
   ],
   "source": [
    "kings['Zipcode'].nunique()"
   ]
  },
  {
   "cell_type": "code",
   "execution_count": 15,
   "metadata": {},
   "outputs": [
    {
     "data": {
      "text/plain": [
       "Int64Index([     10,      13,      47,      49,      53,      58,      70,\n",
       "                 72,      95,     106,\n",
       "            ...\n",
       "            3887238, 3887295, 3887311, 3887347, 3887572, 3887683, 3888027,\n",
       "            3888306, 3888406, 3890600],\n",
       "           dtype='int64', length=7141)"
      ]
     },
     "execution_count": 15,
     "metadata": {},
     "output_type": "execute_result"
    }
   ],
   "source": [
    "kings.index"
   ]
  },
  {
   "cell_type": "code",
   "execution_count": 16,
   "metadata": {},
   "outputs": [],
   "source": [
    "# zip_11226 = kings[kings['Zipcode'] == 11226]\n",
    "# zip_11226\n",
    "# zip_11226 = zip_11226.set_index('Month')['MeanValue']\n",
    "# zip_11226"
   ]
  },
  {
   "cell_type": "code",
   "execution_count": 17,
   "metadata": {},
   "outputs": [],
   "source": [
    "#zip_11226.index"
   ]
  },
  {
   "cell_type": "code",
   "execution_count": 18,
   "metadata": {},
   "outputs": [],
   "source": [
    "# zip_11226 = zip_11226.asfreq('MS')"
   ]
  },
  {
   "cell_type": "code",
   "execution_count": 19,
   "metadata": {},
   "outputs": [],
   "source": [
    "# zip_11226.name = 11226\n",
    "# zip_11226"
   ]
  },
  {
   "cell_type": "code",
   "execution_count": 20,
   "metadata": {},
   "outputs": [],
   "source": [
    "# #make loop\n",
    "# brooklyn_zips = {}\n",
    "\n",
    "# for zipcode in kings['Zipcode'].unique(): \n",
    "#     all_zips = kings[kings['Zipcode'] == zipcode]\n",
    "#     all_zips = all_zips.set_index('Month')['MeanValue']\n",
    "#     all_zips = all_zips.asfreq('MS')\n",
    "#     brooklyn_zips[zipcode] = all_zips"
   ]
  },
  {
   "cell_type": "code",
   "execution_count": 21,
   "metadata": {},
   "outputs": [],
   "source": [
    "# brooklyn_zips[11224]"
   ]
  },
  {
   "cell_type": "code",
   "execution_count": 22,
   "metadata": {},
   "outputs": [],
   "source": [
    "#brooklyn_zips"
   ]
  },
  {
   "cell_type": "code",
   "execution_count": 23,
   "metadata": {},
   "outputs": [],
   "source": [
    "# k = k.resample('MS').mean()\n",
    "# brooklyn.index"
   ]
  },
  {
   "cell_type": "code",
   "execution_count": 24,
   "metadata": {},
   "outputs": [],
   "source": [
    "# brooklyn_zips[11226].plot()"
   ]
  },
  {
   "cell_type": "code",
   "execution_count": 25,
   "metadata": {},
   "outputs": [],
   "source": [
    "kings_1 = zillow.copy()\n",
    "#kings_1 = kings_1.set_index('Month')\n",
    "kings_plot = kings_1[(kings_1['CountyName']=='Kings') & (kings_1['State']== 'NY')]\n"
   ]
  },
  {
   "cell_type": "code",
   "execution_count": 26,
   "metadata": {},
   "outputs": [
    {
     "data": {
      "text/html": [
       "<div>\n",
       "<style scoped>\n",
       "    .dataframe tbody tr th:only-of-type {\n",
       "        vertical-align: middle;\n",
       "    }\n",
       "\n",
       "    .dataframe tbody tr th {\n",
       "        vertical-align: top;\n",
       "    }\n",
       "\n",
       "    .dataframe thead th {\n",
       "        text-align: right;\n",
       "    }\n",
       "</style>\n",
       "<table border=\"1\" class=\"dataframe\">\n",
       "  <thead>\n",
       "    <tr style=\"text-align: right;\">\n",
       "      <th></th>\n",
       "      <th>Zipcode</th>\n",
       "      <th>1996-04</th>\n",
       "      <th>1996-05</th>\n",
       "      <th>1996-06</th>\n",
       "      <th>1996-07</th>\n",
       "      <th>1996-08</th>\n",
       "      <th>1996-09</th>\n",
       "      <th>1996-10</th>\n",
       "      <th>1996-11</th>\n",
       "      <th>1996-12</th>\n",
       "      <th>...</th>\n",
       "      <th>2017-07</th>\n",
       "      <th>2017-08</th>\n",
       "      <th>2017-09</th>\n",
       "      <th>2017-10</th>\n",
       "      <th>2017-11</th>\n",
       "      <th>2017-12</th>\n",
       "      <th>2018-01</th>\n",
       "      <th>2018-02</th>\n",
       "      <th>2018-03</th>\n",
       "      <th>2018-04</th>\n",
       "    </tr>\n",
       "  </thead>\n",
       "  <tbody>\n",
       "    <tr>\n",
       "      <th>10</th>\n",
       "      <td>11226</td>\n",
       "      <td>162000.0</td>\n",
       "      <td>162300.0</td>\n",
       "      <td>162600.0</td>\n",
       "      <td>163000.0</td>\n",
       "      <td>163400.0</td>\n",
       "      <td>164000.0</td>\n",
       "      <td>164700.0</td>\n",
       "      <td>165700.0</td>\n",
       "      <td>166800.0</td>\n",
       "      <td>...</td>\n",
       "      <td>860200</td>\n",
       "      <td>851000</td>\n",
       "      <td>853900</td>\n",
       "      <td>870000</td>\n",
       "      <td>885100</td>\n",
       "      <td>887800</td>\n",
       "      <td>890500</td>\n",
       "      <td>901700</td>\n",
       "      <td>930700</td>\n",
       "      <td>963200</td>\n",
       "    </tr>\n",
       "    <tr>\n",
       "      <th>13</th>\n",
       "      <td>11235</td>\n",
       "      <td>190500.0</td>\n",
       "      <td>191000.0</td>\n",
       "      <td>191500.0</td>\n",
       "      <td>192000.0</td>\n",
       "      <td>192500.0</td>\n",
       "      <td>193000.0</td>\n",
       "      <td>193600.0</td>\n",
       "      <td>194300.0</td>\n",
       "      <td>195300.0</td>\n",
       "      <td>...</td>\n",
       "      <td>767300</td>\n",
       "      <td>777300</td>\n",
       "      <td>788800</td>\n",
       "      <td>793900</td>\n",
       "      <td>796000</td>\n",
       "      <td>799700</td>\n",
       "      <td>806600</td>\n",
       "      <td>810600</td>\n",
       "      <td>813400</td>\n",
       "      <td>816200</td>\n",
       "    </tr>\n",
       "    <tr>\n",
       "      <th>47</th>\n",
       "      <td>11230</td>\n",
       "      <td>230100.0</td>\n",
       "      <td>230800.0</td>\n",
       "      <td>231500.0</td>\n",
       "      <td>232100.0</td>\n",
       "      <td>232800.0</td>\n",
       "      <td>233600.0</td>\n",
       "      <td>234700.0</td>\n",
       "      <td>235900.0</td>\n",
       "      <td>237500.0</td>\n",
       "      <td>...</td>\n",
       "      <td>1079200</td>\n",
       "      <td>1082700</td>\n",
       "      <td>1082800</td>\n",
       "      <td>1084900</td>\n",
       "      <td>1091200</td>\n",
       "      <td>1102400</td>\n",
       "      <td>1120200</td>\n",
       "      <td>1141600</td>\n",
       "      <td>1170000</td>\n",
       "      <td>1195400</td>\n",
       "    </tr>\n",
       "    <tr>\n",
       "      <th>49</th>\n",
       "      <td>11209</td>\n",
       "      <td>255700.0</td>\n",
       "      <td>256600.0</td>\n",
       "      <td>257300.0</td>\n",
       "      <td>258100.0</td>\n",
       "      <td>258900.0</td>\n",
       "      <td>259800.0</td>\n",
       "      <td>260900.0</td>\n",
       "      <td>262000.0</td>\n",
       "      <td>263600.0</td>\n",
       "      <td>...</td>\n",
       "      <td>1005000</td>\n",
       "      <td>1013400</td>\n",
       "      <td>1019500</td>\n",
       "      <td>1024400</td>\n",
       "      <td>1024900</td>\n",
       "      <td>1018900</td>\n",
       "      <td>1023500</td>\n",
       "      <td>1029200</td>\n",
       "      <td>1023000</td>\n",
       "      <td>1015800</td>\n",
       "    </tr>\n",
       "    <tr>\n",
       "      <th>53</th>\n",
       "      <td>11212</td>\n",
       "      <td>125000.0</td>\n",
       "      <td>125000.0</td>\n",
       "      <td>125000.0</td>\n",
       "      <td>125000.0</td>\n",
       "      <td>125100.0</td>\n",
       "      <td>125100.0</td>\n",
       "      <td>125000.0</td>\n",
       "      <td>124800.0</td>\n",
       "      <td>124600.0</td>\n",
       "      <td>...</td>\n",
       "      <td>380000</td>\n",
       "      <td>387000</td>\n",
       "      <td>394600</td>\n",
       "      <td>401500</td>\n",
       "      <td>407900</td>\n",
       "      <td>414900</td>\n",
       "      <td>422300</td>\n",
       "      <td>426300</td>\n",
       "      <td>427100</td>\n",
       "      <td>428400</td>\n",
       "    </tr>\n",
       "  </tbody>\n",
       "</table>\n",
       "<p>5 rows × 266 columns</p>\n",
       "</div>"
      ],
      "text/plain": [
       "    Zipcode   1996-04   1996-05   1996-06   1996-07   1996-08   1996-09  \\\n",
       "10    11226  162000.0  162300.0  162600.0  163000.0  163400.0  164000.0   \n",
       "13    11235  190500.0  191000.0  191500.0  192000.0  192500.0  193000.0   \n",
       "47    11230  230100.0  230800.0  231500.0  232100.0  232800.0  233600.0   \n",
       "49    11209  255700.0  256600.0  257300.0  258100.0  258900.0  259800.0   \n",
       "53    11212  125000.0  125000.0  125000.0  125000.0  125100.0  125100.0   \n",
       "\n",
       "     1996-10   1996-11   1996-12  ...  2017-07  2017-08  2017-09  2017-10  \\\n",
       "10  164700.0  165700.0  166800.0  ...   860200   851000   853900   870000   \n",
       "13  193600.0  194300.0  195300.0  ...   767300   777300   788800   793900   \n",
       "47  234700.0  235900.0  237500.0  ...  1079200  1082700  1082800  1084900   \n",
       "49  260900.0  262000.0  263600.0  ...  1005000  1013400  1019500  1024400   \n",
       "53  125000.0  124800.0  124600.0  ...   380000   387000   394600   401500   \n",
       "\n",
       "    2017-11  2017-12  2018-01  2018-02  2018-03  2018-04  \n",
       "10   885100   887800   890500   901700   930700   963200  \n",
       "13   796000   799700   806600   810600   813400   816200  \n",
       "47  1091200  1102400  1120200  1141600  1170000  1195400  \n",
       "49  1024900  1018900  1023500  1029200  1023000  1015800  \n",
       "53   407900   414900   422300   426300   427100   428400  \n",
       "\n",
       "[5 rows x 266 columns]"
      ]
     },
     "execution_count": 26,
     "metadata": {},
     "output_type": "execute_result"
    }
   ],
   "source": [
    "kings_plot = kings_plot.drop([\"RegionID\", \"City\", \"State\", \"Metro\", \"CountyName\", \"SizeRank\"], axis=1)\n",
    "kings_plot.head()"
   ]
  },
  {
   "cell_type": "code",
   "execution_count": 27,
   "metadata": {},
   "outputs": [],
   "source": [
    "kings_plot = kings_plot.transpose()\n"
   ]
  },
  {
   "cell_type": "code",
   "execution_count": 28,
   "metadata": {},
   "outputs": [],
   "source": [
    "new_header=kings_plot.iloc[0] ##grab all first row data for the column headers\n",
    "kings_plot = kings_plot[1:] ## take all rows after first row\n",
    "kings_plot.columns=new_header ## assign all column headers to be equal to row 0 data"
   ]
  },
  {
   "cell_type": "code",
   "execution_count": 29,
   "metadata": {},
   "outputs": [
    {
     "data": {
      "text/html": [
       "<div>\n",
       "<style scoped>\n",
       "    .dataframe tbody tr th:only-of-type {\n",
       "        vertical-align: middle;\n",
       "    }\n",
       "\n",
       "    .dataframe tbody tr th {\n",
       "        vertical-align: top;\n",
       "    }\n",
       "\n",
       "    .dataframe thead th {\n",
       "        text-align: right;\n",
       "    }\n",
       "</style>\n",
       "<table border=\"1\" class=\"dataframe\">\n",
       "  <thead>\n",
       "    <tr style=\"text-align: right;\">\n",
       "      <th>Zipcode</th>\n",
       "      <th>11226.0</th>\n",
       "      <th>11235.0</th>\n",
       "      <th>11230.0</th>\n",
       "      <th>11209.0</th>\n",
       "      <th>11212.0</th>\n",
       "      <th>11214.0</th>\n",
       "      <th>11221.0</th>\n",
       "      <th>11229.0</th>\n",
       "      <th>11234.0</th>\n",
       "      <th>11215.0</th>\n",
       "      <th>...</th>\n",
       "      <th>11219.0</th>\n",
       "      <th>11203.0</th>\n",
       "      <th>11220.0</th>\n",
       "      <th>11216.0</th>\n",
       "      <th>11210.0</th>\n",
       "      <th>11224.0</th>\n",
       "      <th>11222.0</th>\n",
       "      <th>11205.0</th>\n",
       "      <th>11217.0</th>\n",
       "      <th>11228.0</th>\n",
       "    </tr>\n",
       "  </thead>\n",
       "  <tbody>\n",
       "    <tr>\n",
       "      <th>1996-04</th>\n",
       "      <td>162000.0</td>\n",
       "      <td>190500.0</td>\n",
       "      <td>230100.0</td>\n",
       "      <td>255700.0</td>\n",
       "      <td>125000.0</td>\n",
       "      <td>191000.0</td>\n",
       "      <td>133700.0</td>\n",
       "      <td>183900.0</td>\n",
       "      <td>172300.0</td>\n",
       "      <td>225700.0</td>\n",
       "      <td>...</td>\n",
       "      <td>213200.0</td>\n",
       "      <td>149000.0</td>\n",
       "      <td>188500.0</td>\n",
       "      <td>146100.0</td>\n",
       "      <td>187300.0</td>\n",
       "      <td>158000.0</td>\n",
       "      <td>149200.0</td>\n",
       "      <td>NaN</td>\n",
       "      <td>NaN</td>\n",
       "      <td>219300.0</td>\n",
       "    </tr>\n",
       "    <tr>\n",
       "      <th>1996-05</th>\n",
       "      <td>162300.0</td>\n",
       "      <td>191000.0</td>\n",
       "      <td>230800.0</td>\n",
       "      <td>256600.0</td>\n",
       "      <td>125000.0</td>\n",
       "      <td>191200.0</td>\n",
       "      <td>133700.0</td>\n",
       "      <td>184200.0</td>\n",
       "      <td>172100.0</td>\n",
       "      <td>227500.0</td>\n",
       "      <td>...</td>\n",
       "      <td>212600.0</td>\n",
       "      <td>149200.0</td>\n",
       "      <td>188700.0</td>\n",
       "      <td>146600.0</td>\n",
       "      <td>187300.0</td>\n",
       "      <td>157300.0</td>\n",
       "      <td>148400.0</td>\n",
       "      <td>NaN</td>\n",
       "      <td>NaN</td>\n",
       "      <td>219600.0</td>\n",
       "    </tr>\n",
       "    <tr>\n",
       "      <th>1996-06</th>\n",
       "      <td>162600.0</td>\n",
       "      <td>191500.0</td>\n",
       "      <td>231500.0</td>\n",
       "      <td>257300.0</td>\n",
       "      <td>125000.0</td>\n",
       "      <td>191500.0</td>\n",
       "      <td>133700.0</td>\n",
       "      <td>184500.0</td>\n",
       "      <td>171900.0</td>\n",
       "      <td>229400.0</td>\n",
       "      <td>...</td>\n",
       "      <td>211900.0</td>\n",
       "      <td>149400.0</td>\n",
       "      <td>188800.0</td>\n",
       "      <td>147200.0</td>\n",
       "      <td>187200.0</td>\n",
       "      <td>156700.0</td>\n",
       "      <td>147500.0</td>\n",
       "      <td>NaN</td>\n",
       "      <td>NaN</td>\n",
       "      <td>219900.0</td>\n",
       "    </tr>\n",
       "    <tr>\n",
       "      <th>1996-07</th>\n",
       "      <td>163000.0</td>\n",
       "      <td>192000.0</td>\n",
       "      <td>232100.0</td>\n",
       "      <td>258100.0</td>\n",
       "      <td>125000.0</td>\n",
       "      <td>191900.0</td>\n",
       "      <td>133700.0</td>\n",
       "      <td>184800.0</td>\n",
       "      <td>171600.0</td>\n",
       "      <td>231600.0</td>\n",
       "      <td>...</td>\n",
       "      <td>211300.0</td>\n",
       "      <td>149600.0</td>\n",
       "      <td>189000.0</td>\n",
       "      <td>147700.0</td>\n",
       "      <td>187100.0</td>\n",
       "      <td>156100.0</td>\n",
       "      <td>146600.0</td>\n",
       "      <td>NaN</td>\n",
       "      <td>NaN</td>\n",
       "      <td>220200.0</td>\n",
       "    </tr>\n",
       "    <tr>\n",
       "      <th>1996-08</th>\n",
       "      <td>163400.0</td>\n",
       "      <td>192500.0</td>\n",
       "      <td>232800.0</td>\n",
       "      <td>258900.0</td>\n",
       "      <td>125100.0</td>\n",
       "      <td>192100.0</td>\n",
       "      <td>133900.0</td>\n",
       "      <td>185000.0</td>\n",
       "      <td>171400.0</td>\n",
       "      <td>234100.0</td>\n",
       "      <td>...</td>\n",
       "      <td>210800.0</td>\n",
       "      <td>149700.0</td>\n",
       "      <td>189400.0</td>\n",
       "      <td>148400.0</td>\n",
       "      <td>187000.0</td>\n",
       "      <td>155600.0</td>\n",
       "      <td>146000.0</td>\n",
       "      <td>NaN</td>\n",
       "      <td>NaN</td>\n",
       "      <td>220600.0</td>\n",
       "    </tr>\n",
       "  </tbody>\n",
       "</table>\n",
       "<p>5 rows × 28 columns</p>\n",
       "</div>"
      ],
      "text/plain": [
       "Zipcode   11226.0   11235.0   11230.0   11209.0   11212.0   11214.0   11221.0  \\\n",
       "1996-04  162000.0  190500.0  230100.0  255700.0  125000.0  191000.0  133700.0   \n",
       "1996-05  162300.0  191000.0  230800.0  256600.0  125000.0  191200.0  133700.0   \n",
       "1996-06  162600.0  191500.0  231500.0  257300.0  125000.0  191500.0  133700.0   \n",
       "1996-07  163000.0  192000.0  232100.0  258100.0  125000.0  191900.0  133700.0   \n",
       "1996-08  163400.0  192500.0  232800.0  258900.0  125100.0  192100.0  133900.0   \n",
       "\n",
       "Zipcode   11229.0   11234.0   11215.0  ...   11219.0   11203.0   11220.0  \\\n",
       "1996-04  183900.0  172300.0  225700.0  ...  213200.0  149000.0  188500.0   \n",
       "1996-05  184200.0  172100.0  227500.0  ...  212600.0  149200.0  188700.0   \n",
       "1996-06  184500.0  171900.0  229400.0  ...  211900.0  149400.0  188800.0   \n",
       "1996-07  184800.0  171600.0  231600.0  ...  211300.0  149600.0  189000.0   \n",
       "1996-08  185000.0  171400.0  234100.0  ...  210800.0  149700.0  189400.0   \n",
       "\n",
       "Zipcode   11216.0   11210.0   11224.0   11222.0  11205.0  11217.0   11228.0  \n",
       "1996-04  146100.0  187300.0  158000.0  149200.0      NaN      NaN  219300.0  \n",
       "1996-05  146600.0  187300.0  157300.0  148400.0      NaN      NaN  219600.0  \n",
       "1996-06  147200.0  187200.0  156700.0  147500.0      NaN      NaN  219900.0  \n",
       "1996-07  147700.0  187100.0  156100.0  146600.0      NaN      NaN  220200.0  \n",
       "1996-08  148400.0  187000.0  155600.0  146000.0      NaN      NaN  220600.0  \n",
       "\n",
       "[5 rows x 28 columns]"
      ]
     },
     "execution_count": 29,
     "metadata": {},
     "output_type": "execute_result"
    }
   ],
   "source": [
    "kings_plot.head()"
   ]
  },
  {
   "cell_type": "code",
   "execution_count": 30,
   "metadata": {},
   "outputs": [
    {
     "data": {
      "text/plain": [
       "Index(['1996-04', '1996-05', '1996-06', '1996-07', '1996-08', '1996-09',\n",
       "       '1996-10', '1996-11', '1996-12', '1997-01',\n",
       "       ...\n",
       "       '2017-07', '2017-08', '2017-09', '2017-10', '2017-11', '2017-12',\n",
       "       '2018-01', '2018-02', '2018-03', '2018-04'],\n",
       "      dtype='object', length=265)"
      ]
     },
     "execution_count": 30,
     "metadata": {},
     "output_type": "execute_result"
    }
   ],
   "source": [
    "kings_plot.index"
   ]
  },
  {
   "cell_type": "code",
   "execution_count": 31,
   "metadata": {},
   "outputs": [
    {
     "data": {
      "text/plain": [
       "<matplotlib.legend.Legend at 0x7fdadee549e8>"
      ]
     },
     "execution_count": 31,
     "metadata": {},
     "output_type": "execute_result"
    },
    {
     "data": {
      "image/png": "[encoded data removed]",
      "text/plain": [
       "<Figure size 1224x720 with 1 Axes>"
      ]
     },
     "metadata": {
      "needs_background": "light"
     },
     "output_type": "display_data"
    }
   ],
   "source": [
    "kings_plot.plot(figsize=(17,10))\n",
    "plt.title(\"Housing Price Trends \")\n",
    "plt.xlabel('Year')\n",
    "plt.ylabel('Home Price $')\n",
    "plt.legend(bbox_to_anchor=(1.05,1),loc='upper left')"
   ]
  },
  {
   "cell_type": "code",
   "execution_count": 32,
   "metadata": {},
   "outputs": [
    {
     "data": {
      "text/plain": [
       "Month\n",
       "1996-04-01    162000.0\n",
       "1996-05-01    162300.0\n",
       "1996-06-01    162600.0\n",
       "1996-07-01    163000.0\n",
       "1996-08-01    163400.0\n",
       "                ...   \n",
       "2017-12-01    887800.0\n",
       "2018-01-01    890500.0\n",
       "2018-02-01    901700.0\n",
       "2018-03-01    930700.0\n",
       "2018-04-01    963200.0\n",
       "Name: MeanValue, Length: 265, dtype: float64"
      ]
     },
     "execution_count": 32,
     "metadata": {},
     "output_type": "execute_result"
    }
   ],
   "source": [
    "zip_11226 = kings[kings['Zipcode'] == 11226]\n",
    "zip_11226\n",
    "zip_11226 = zip_11226.set_index('Month')['MeanValue']\n",
    "zip_11226"
   ]
  },
  {
   "cell_type": "code",
   "execution_count": 33,
   "metadata": {},
   "outputs": [],
   "source": [
    "zip_11226 = zip_11226.asfreq('MS')"
   ]
  },
  {
   "cell_type": "code",
   "execution_count": 34,
   "metadata": {},
   "outputs": [
    {
     "data": {
      "text/plain": [
       "Month\n",
       "1996-04-01    162000.0\n",
       "1996-05-01    162300.0\n",
       "1996-06-01    162600.0\n",
       "1996-07-01    163000.0\n",
       "1996-08-01    163400.0\n",
       "                ...   \n",
       "2017-12-01    887800.0\n",
       "2018-01-01    890500.0\n",
       "2018-02-01    901700.0\n",
       "2018-03-01    930700.0\n",
       "2018-04-01    963200.0\n",
       "Freq: MS, Name: 11226, Length: 265, dtype: float64"
      ]
     },
     "execution_count": 34,
     "metadata": {},
     "output_type": "execute_result"
    }
   ],
   "source": [
    "zip_11226.name = 11226\n",
    "zip_11226"
   ]
  },
  {
   "cell_type": "code",
   "execution_count": 35,
   "metadata": {},
   "outputs": [],
   "source": [
    "#make loop\n",
    "brooklyn_zips = {}\n",
    "\n",
    "for zipcode in kings['Zipcode'].unique(): \n",
    "    all_zips = kings[kings['Zipcode'] == zipcode]\n",
    "    all_zips = all_zips.set_index('Month')['MeanValue']\n",
    "    all_zips = all_zips.asfreq('MS')\n",
    "    brooklyn_zips[zipcode] = all_zips"
   ]
  },
  {
   "cell_type": "code",
   "execution_count": 36,
   "metadata": {},
   "outputs": [
    {
     "data": {
      "text/plain": [
       "Month\n",
       "1996-04-01    158000.0\n",
       "1996-05-01    157300.0\n",
       "1996-06-01    156700.0\n",
       "1996-07-01    156100.0\n",
       "1996-08-01    155600.0\n",
       "                ...   \n",
       "2017-12-01    498700.0\n",
       "2018-01-01    502000.0\n",
       "2018-02-01    505600.0\n",
       "2018-03-01    511600.0\n",
       "2018-04-01    517900.0\n",
       "Freq: MS, Name: MeanValue, Length: 265, dtype: float64"
      ]
     },
     "execution_count": 36,
     "metadata": {},
     "output_type": "execute_result"
    }
   ],
   "source": [
    "brooklyn_zips[11224]"
   ]
  },
  {
   "cell_type": "code",
   "execution_count": 37,
   "metadata": {},
   "outputs": [
    {
     "data": {
      "text/plain": [
       "<matplotlib.axes._subplots.AxesSubplot at 0x7fdadf3e20b8>"
      ]
     },
     "execution_count": 37,
     "metadata": {},
     "output_type": "execute_result"
    },
    {
     "data": {
      "image/png": "[encoded data removed]",
      "text/plain": [
       "<Figure size 432x288 with 1 Axes>"
      ]
     },
     "metadata": {
      "needs_background": "light"
     },
     "output_type": "display_data"
    }
   ],
   "source": [
    "brooklyn_zips[11226].plot()"
   ]
  },
  {
   "cell_type": "code",
   "execution_count": 38,
   "metadata": {},
   "outputs": [],
   "source": [
    "def stationary_test(df):\n",
    "    rolling_mean = df.rolling(window=12).mean()\n",
    "    rolling_std = df.rolling(window=12).std()\n",
    "\n",
    "    plt.plot(df,color='blue',label='orignal')\n",
    "    plt.plot(rolling_mean, color='red',label='Rolling Mean')\n",
    "    plt.plot(rolling_std, color='green',label='Rolling STD')\n",
    "    plt.legend(loc='best')\n",
    "    plt.title('Rolling Mean and Rolling Standard Deviation')\n",
    "    #plt.show()\n",
    "    result = adfuller(df)\n",
    "    print('ADF statistic: {}'.format(result[0]))\n",
    "    print('p-value: {}'.format(result[1]))\n",
    "    print('Critical Values:')\n",
    "    for key, value in result[4].items():\n",
    "        print('\\t{} : {}'.format(key,value))\n",
    "        \n",
    "    names = ['Test Statistic','p-value','#Lags Used','# of Observations Used']\n",
    "    res  = dict(zip(names,result[:4]))\n",
    "    res['Stationary Results'] = res['p-value']<.05\n",
    "    \n",
    "    return pd.DataFrame(res,index=['AD Fuller Results'])    "
   ]
  },
  {
   "cell_type": "code",
   "execution_count": 39,
   "metadata": {},
   "outputs": [
    {
     "name": "stdout",
     "output_type": "stream",
     "text": [
      "ADF statistic: 0.6254102589740157\n",
      "p-value: 0.9882254867110694\n",
      "Critical Values:\n",
      "\t1% : -3.4568881317725864\n",
      "\t5% : -2.8732185133016057\n",
      "\t10% : -2.5729936189738876\n"
     ]
    },
    {
     "data": {
      "text/html": [
       "<div>\n",
       "<style scoped>\n",
       "    .dataframe tbody tr th:only-of-type {\n",
       "        vertical-align: middle;\n",
       "    }\n",
       "\n",
       "    .dataframe tbody tr th {\n",
       "        vertical-align: top;\n",
       "    }\n",
       "\n",
       "    .dataframe thead th {\n",
       "        text-align: right;\n",
       "    }\n",
       "</style>\n",
       "<table border=\"1\" class=\"dataframe\">\n",
       "  <thead>\n",
       "    <tr style=\"text-align: right;\">\n",
       "      <th></th>\n",
       "      <th>Test Statistic</th>\n",
       "      <th>p-value</th>\n",
       "      <th>#Lags Used</th>\n",
       "      <th># of Observations Used</th>\n",
       "      <th>Stationary Results</th>\n",
       "    </tr>\n",
       "  </thead>\n",
       "  <tbody>\n",
       "    <tr>\n",
       "      <th>AD Fuller Results</th>\n",
       "      <td>0.62541</td>\n",
       "      <td>0.988225</td>\n",
       "      <td>15</td>\n",
       "      <td>249</td>\n",
       "      <td>False</td>\n",
       "    </tr>\n",
       "  </tbody>\n",
       "</table>\n",
       "</div>"
      ],
      "text/plain": [
       "                   Test Statistic   p-value  #Lags Used  \\\n",
       "AD Fuller Results         0.62541  0.988225          15   \n",
       "\n",
       "                   # of Observations Used  Stationary Results  \n",
       "AD Fuller Results                     249               False  "
      ]
     },
     "execution_count": 39,
     "metadata": {},
     "output_type": "execute_result"
    },
    {
     "data": {
      "image/png": "[encoded data removed]",
      "text/plain": [
       "<Figure size 432x288 with 1 Axes>"
      ]
     },
     "metadata": {
      "needs_background": "light"
     },
     "output_type": "display_data"
    }
   ],
   "source": [
    "stationary_test(brooklyn_zips[11226])"
   ]
  },
  {
   "cell_type": "code",
   "execution_count": null,
   "metadata": {},
   "outputs": [],
   "source": []
  },
  {
   "cell_type": "code",
   "execution_count": null,
   "metadata": {},
   "outputs": [],
   "source": []
  },
  {
   "cell_type": "code",
   "execution_count": 40,
   "metadata": {},
   "outputs": [],
   "source": [
    "#nyc = df[df['CountyName']== 'Kings']\n",
    "#df_kings = df_1[df_1['CountyName']== 'Kings']"
   ]
  },
  {
   "cell_type": "code",
   "execution_count": 41,
   "metadata": {},
   "outputs": [],
   "source": [
    "#df_kings = df_kings.drop([\"RegionID\", \"City\", \"State\", \"Metro\", \"CountyName\", \"SizeRank\"], axis=1)"
   ]
  },
  {
   "cell_type": "code",
   "execution_count": 42,
   "metadata": {},
   "outputs": [],
   "source": [
    "# df_kings.rename(columns={'RegionName': 'Zipcode'}, inplace=True)\n",
    "# df_kings.head()"
   ]
  },
  {
   "cell_type": "code",
   "execution_count": 43,
   "metadata": {},
   "outputs": [],
   "source": [
    "# df_kings.rename(columns={'RegionName': 'Zipcode'}, inplace=True)\n",
    "# df_kings.head()"
   ]
  },
  {
   "cell_type": "code",
   "execution_count": 44,
   "metadata": {},
   "outputs": [],
   "source": [
    "## Reset dataframe index and drop old index related to original zillow dataset\n",
    "#df_kings.reset_index(drop=True)"
   ]
  },
  {
   "cell_type": "code",
   "execution_count": 45,
   "metadata": {},
   "outputs": [],
   "source": [
    "#df_kings[\"Zipcode\"]=df_kings[\"Zipcode\"].astype(str)"
   ]
  },
  {
   "cell_type": "code",
   "execution_count": 46,
   "metadata": {},
   "outputs": [],
   "source": [
    "## transpose dates to rows\n",
    "# df_kings=df_kings.transpose()\n",
    "# df_kings.head()"
   ]
  },
  {
   "cell_type": "code",
   "execution_count": 47,
   "metadata": {},
   "outputs": [],
   "source": [
    "# new_header=df_kings.iloc[0] ##grab all first row data for the column headers\n",
    "# df_kings=df_kings[1:] ## take all rows after first row\n",
    "# df_kings.columns=new_header ## assign all column headers to be equal to row 0 data"
   ]
  },
  {
   "cell_type": "code",
   "execution_count": 48,
   "metadata": {},
   "outputs": [],
   "source": [
    "# df_kings.plot(figsize=(17,8))\n",
    "# plt.legend(bbox_to_anchor=(1.05,1),loc='upper left')\n",
    "# plt.title(\"Housing Price Trends \")\n",
    "# plt.xlabel('Year')\n",
    "# plt.ylabel('Home Price $')"
   ]
  },
  {
   "cell_type": "markdown",
   "metadata": {},
   "source": [
    "# Step 2: Data Preprocessing"
   ]
  },
  {
   "cell_type": "code",
   "execution_count": 49,
   "metadata": {},
   "outputs": [],
   "source": [
    "def get_datetimes(df):\n",
    "    return pd.to_datetime(df.columns.values[1:], format='%Y-%m')"
   ]
  },
  {
   "cell_type": "code",
   "execution_count": 50,
   "metadata": {},
   "outputs": [],
   "source": [
    "from datetime import datetime\n",
    "#con=data['Month']\n",
    "# df_wide['Date']=pd.to_datetime(df_wide['Date'])\n",
    "# df_wide.set_index('Date', inplace=True)\n",
    "# df_wide.head()"
   ]
  },
  {
   "cell_type": "code",
   "execution_count": null,
   "metadata": {},
   "outputs": [],
   "source": []
  },
  {
   "cell_type": "code",
   "execution_count": 51,
   "metadata": {},
   "outputs": [],
   "source": [
    "#ts_plot(sales_daily, title='Daily Sales')"
   ]
  },
  {
   "cell_type": "code",
   "execution_count": 52,
   "metadata": {},
   "outputs": [],
   "source": [
    "#stationary_test(sales_daily)"
   ]
  },
  {
   "cell_type": "code",
   "execution_count": 53,
   "metadata": {},
   "outputs": [],
   "source": [
    "def stationarity_check(TS,plot=True,col=None):\n",
    "    \"\"\"From: https://learn.co/tracks/data-science-career-v2/module-4-a-complete-data-science-project-using-multiple-regression/working-with-time-series-data/time-series-decomposition\n",
    "    \"\"\"\n",
    "    \n",
    "    # Import adfuller\n",
    "    from statsmodels.tsa.stattools import adfuller\n",
    "\n",
    "    if col is not None:\n",
    "        # Perform the Dickey Fuller Test\n",
    "        dftest = adfuller(TS[col]) # change the passengers column as required \n",
    "    else:\n",
    "        dftest=adfuller(TS)\n",
    " \n",
    "    if plot:\n",
    "        # Calculate rolling statistics\n",
    "        rolmean = TS.rolling(window = 8, center = False).mean()\n",
    "        rolstd = TS.rolling(window = 8, center = False).std()\n",
    "\n",
    "        #Plot rolling statistics:\n",
    "        fig = plt.figure(figsize=(12,6))\n",
    "        orig = plt.plot(TS, color='blue',label='Original')\n",
    "        mean = plt.plot(rolmean, color='red', label='Rolling Mean')\n",
    "        std = plt.plot(rolstd, color='black', label = 'Rolling Std')\n",
    "        plt.legend(loc='best')\n",
    "        plt.title('Rolling Mean & Standard Deviation')\n",
    "#     plt.show(block=False)\n",
    "    \n",
    "    # Print Dickey-Fuller test results\n",
    "    print ('Results of Dickey-Fuller Test:')\n",
    "\n",
    "    dfoutput = pd.Series(dftest[0:4],\n",
    "                         index=['Test Statistic','p-value','#Lags Used','Number of Observations Used'])\n",
    "    for key,value in dftest[4].items():\n",
    "        dfoutput['Critical Value (%s)'%key] = value\n",
    "        \n",
    "    dfoutput['sig'] = dfoutput['p-value']<.05\n",
    "    display (dfoutput.round(3))\n",
    "    \n",
    "    return dfoutput"
   ]
  },
  {
   "cell_type": "code",
   "execution_count": 54,
   "metadata": {},
   "outputs": [],
   "source": [
    "#stationarity_check(brooklyn);"
   ]
  },
  {
   "cell_type": "markdown",
   "metadata": {},
   "source": [
    "## Removing Trends\n",
    "\n",
    "### Log-Transformation (np.log)\n"
   ]
  },
  {
   "cell_type": "code",
   "execution_count": 55,
   "metadata": {},
   "outputs": [],
   "source": [
    "# sales_log = np.log(sales_daily)\n",
    "# sales_log.plot()\n",
    "# stationarity_check(sales_log)"
   ]
  },
  {
   "cell_type": "code",
   "execution_count": 56,
   "metadata": {},
   "outputs": [],
   "source": [
    "def adfuller_test_df(ts):\n",
    "    \"\"\"Returns the AD Fuller Test Results and p-values for the null hypothesis\n",
    "    that there the data is non-stationary (that there is a unit root in the data)\"\"\"\n",
    "    df_res = adfuller(ts)\n",
    "    names = ['Test Statistic','p-value','#Lags Used','# of Observations Used']\n",
    "    res  = dict(zip(names,df_res[:4]))\n",
    "    res['p<.05'] = res['p-value']<.05\n",
    "    res['Stationary?'] = res['p<.05']\n",
    "    \n",
    "    return pd.DataFrame(res,index=['AD Fuller Results'])"
   ]
  },
  {
   "cell_type": "code",
   "execution_count": 57,
   "metadata": {},
   "outputs": [],
   "source": [
    "# ts3 = np.log(sales_log)\n",
    "# ts3.plot()\n",
    "# adfuller_test_df(ts3)"
   ]
  },
  {
   "cell_type": "markdown",
   "metadata": {},
   "source": [
    "### Differencing"
   ]
  },
  {
   "cell_type": "code",
   "execution_count": 58,
   "metadata": {},
   "outputs": [],
   "source": [
    "# ts0 = sales_daily.diff().dropna()\n",
    "# ts0.plot()\n",
    "\n",
    "# adfuller_test_df(ts0)"
   ]
  },
  {
   "cell_type": "markdown",
   "metadata": {},
   "source": [
    "### Subtract Rolling Mean (ts-ts.rolling().mean())"
   ]
  },
  {
   "cell_type": "code",
   "execution_count": 59,
   "metadata": {},
   "outputs": [],
   "source": [
    "## Subtract Rolling mean\n",
    "# ts2 = (sales_daily - sales_daily.rolling(3).mean()).dropna()\n",
    "# ts2.plot()\n",
    "# adfuller_test_df(ts2)"
   ]
  },
  {
   "cell_type": "code",
   "execution_count": 60,
   "metadata": {},
   "outputs": [],
   "source": [
    "## Subtract Exponentially Weight Mean Rolling mean\n",
    "# ts4 = (sales_daily - sales_daily.ewm(halflife=7).mean()).dropna()\n",
    "# ts4.plot()\n",
    "# adfuller_test_df(ts4)"
   ]
  },
  {
   "cell_type": "code",
   "execution_count": null,
   "metadata": {},
   "outputs": [],
   "source": []
  },
  {
   "cell_type": "markdown",
   "metadata": {},
   "source": [
    "# Step 3: EDA and Visualization"
   ]
  },
  {
   "cell_type": "code",
   "execution_count": 61,
   "metadata": {},
   "outputs": [],
   "source": [
    "# font = {'family' : 'normal',\n",
    "#         'weight' : 'bold',\n",
    "#         'size'   : 22}\n",
    "\n",
    "# matplotlib.rc('font', **font)\n",
    "\n",
    "# NOTE: if you visualizations are too cluttered to read, try calling 'plt.gcf().autofmt_xdate()'!"
   ]
  },
  {
   "cell_type": "code",
   "execution_count": 62,
   "metadata": {},
   "outputs": [],
   "source": [
    "#ny_county_1.head()"
   ]
  },
  {
   "cell_type": "code",
   "execution_count": null,
   "metadata": {},
   "outputs": [],
   "source": []
  },
  {
   "cell_type": "code",
   "execution_count": null,
   "metadata": {},
   "outputs": [],
   "source": []
  },
  {
   "cell_type": "markdown",
   "metadata": {},
   "source": [
    "# Step 4: Reshape from Wide to Long Format"
   ]
  },
  {
   "cell_type": "code",
   "execution_count": 63,
   "metadata": {},
   "outputs": [],
   "source": [
    "def melt_data(df):\n",
    "    melted = pd.melt(df, id_vars=['RegionName', 'City', 'State', 'Metro', 'CountyName'], var_name='time')\n",
    "    melted['time'] = pd.to_datetime(melted['time'], infer_datetime_format=True)\n",
    "    melted = melted.dropna(subset=['value'])\n",
    "    return melted.groupby('time').aggregate({'value':'mean'})"
   ]
  },
  {
   "cell_type": "code",
   "execution_count": 64,
   "metadata": {},
   "outputs": [],
   "source": [
    "#melt_data(ny_county_1)"
   ]
  },
  {
   "cell_type": "code",
   "execution_count": null,
   "metadata": {},
   "outputs": [],
   "source": []
  },
  {
   "cell_type": "code",
   "execution_count": null,
   "metadata": {},
   "outputs": [],
   "source": []
  },
  {
   "cell_type": "code",
   "execution_count": null,
   "metadata": {},
   "outputs": [],
   "source": []
  },
  {
   "cell_type": "markdown",
   "metadata": {},
   "source": [
    "# Step 5: ARIMA Modeling"
   ]
  },
  {
   "cell_type": "code",
   "execution_count": null,
   "metadata": {},
   "outputs": [],
   "source": []
  },
  {
   "cell_type": "code",
   "execution_count": null,
   "metadata": {},
   "outputs": [],
   "source": []
  },
  {
   "cell_type": "code",
   "execution_count": null,
   "metadata": {},
   "outputs": [],
   "source": []
  },
  {
   "cell_type": "code",
   "execution_count": null,
   "metadata": {},
   "outputs": [],
   "source": []
  },
  {
   "cell_type": "markdown",
   "metadata": {},
   "source": [
    "### Return on Investment (ROI)"
   ]
  },
  {
   "cell_type": "code",
   "execution_count": 65,
   "metadata": {},
   "outputs": [
    {
     "name": "stdout",
     "output_type": "stream",
     "text": [
      "18.5\n"
     ]
    }
   ],
   "source": [
    "investment = 40000\n",
    "rent = 700\n",
    "loss = 1000  #cost of 1000 per year\n",
    "\n",
    "def roi(investment, rent, loss):\n",
    "    \"\"\"\n",
    "    return on investment is calcualted by net_profit / investment * 100\n",
    "    12 = # of months in year \n",
    "    investment part doesn't need to be touched investment amount is just capital cost of building\n",
    "    \"\"\"\n",
    "    netprofit = rent * 12 - loss\n",
    "    ROI = (netprofit / investment) * 100\n",
    "    print(ROI)\n",
    "    \n",
    "#roi(investment, rent, loss) \n",
    "#calculated return on investment for these parameters\n",
    "roi(investment, rent, loss)   "
   ]
  },
  {
   "cell_type": "code",
   "execution_count": 66,
   "metadata": {},
   "outputs": [
    {
     "name": "stdout",
     "output_type": "stream",
     "text": [
      "12.333333333333334\n"
     ]
    }
   ],
   "source": [
    "#want to buy a house that is 60000 instead of 40,000\n",
    "investment = 60000\n",
    "rent = 700\n",
    "loss = 1000  #cost of 1000 per year\n",
    "\n",
    "def roi(investment, rent, loss):\n",
    "    \"\"\"\n",
    "    return on investment is calcualted by net_profit / investment * 100\n",
    "    12 = # of months in year \n",
    "    investment part doesn't need to be touched investment amount is just capital cost of building\n",
    "    \"\"\"\n",
    "    netprofit = rent * 12 - loss\n",
    "    ROI = (netprofit / investment) * 100\n",
    "    print(ROI)\n",
    "    \n",
    "#roi(investment, rent, loss) \n",
    "#calculated return on investment for these parameters\n",
    "roi(investment, rent, loss)   "
   ]
  },
  {
   "cell_type": "code",
   "execution_count": null,
   "metadata": {},
   "outputs": [],
   "source": []
  }
 ],
 "metadata": {
  "kernelspec": {
   "display_name": "Python [conda env:learn-env] *",
   "language": "python",
   "name": "conda-env-learn-env-py"
  },
  "language_info": {
   "codemirror_mode": {
    "name": "ipython",
    "version": 3
   },
   "file_extension": ".py",
   "mimetype": "text/x-python",
   "name": "python",
   "nbconvert_exporter": "python",
   "pygments_lexer": "ipython3",
   "version": "3.6.9"
  },
  "toc": {
   "base_numbering": 1,
   "nav_menu": {},
   "number_sections": true,
   "sideBar": true,
   "skip_h1_title": false,
   "title_cell": "Table of Contents",
   "title_sidebar": "Contents",
   "toc_cell": false,
   "toc_position": {},
   "toc_section_display": true,
   "toc_window_display": false
  }
 },
 "nbformat": 4,
 "nbformat_minor": 2
}
