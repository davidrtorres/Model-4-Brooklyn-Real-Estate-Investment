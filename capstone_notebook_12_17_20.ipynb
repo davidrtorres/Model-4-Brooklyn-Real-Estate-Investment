{
 "cells": [
  {
   "cell_type": "markdown",
   "metadata": {
    "colab_type": "text",
    "id": "view-in-github"
   },
   "source": [
    "<a href=\"https://colab.research.google.com/github/davidrtorres/dsc-mod-4-project-v2-1-onl01-dtsc-pt-041320/blob/master/ts_model_notebook_12_15_20.ipynb\" target=\"_parent\"><img src=\"https://colab.research.google.com/assets/colab-badge.svg\" alt=\"Open In Colab\"/></a>"
   ]
  },
  {
   "cell_type": "markdown",
   "metadata": {
    "id": "CJtzem1QCZLa"
   },
   "source": [
    "# **Model 4 Time Series Notebook**"
   ]
  },
  {
   "cell_type": "markdown",
   "metadata": {
    "id": "M3f3mRul-rQB"
   },
   "source": [
    "### **Introduction**\n",
    "Business Problem: I am a consultant for Premium Real Estate, LLC.  The firm asked me to provide analysis and recommendations for investing in the top 5 zipcodes in Brooklyn that will provide the highest return on investment.  The investment firm is looking for short-term investments with the highest returns over a 3 year period.  The investment firm isn't looking for long term investments, ie, where a family is looking to purchase a home and stay in the home 10 to 15 years to build equity.<br>\n",
    "<br>\n",
    "I will make recommendations based on the market forecasting of real estate prices in Brooklyn. The top 5 zipcodes or 'best' zipcodes will be those with the highest ROI over the 3 year period.<br>\n",
    "<br>\n",
    "For the task, I analyzed real estate sales data from Zillow which covers time period 4-1-1996 to 4-1-2018.<br>\n",
    "I used an auto_arima model to conduct a gridsearch and find the lowest AIC scores and corresponding p,d,qs and Seasonal P,D,Qs.  I used SARIMA model to make predictions regarding the test data so I could get an idea of how my models were working with making predictions.  I used RMSE to evaluate how my models were performing.  I then made models to perform dynamic forecasts for 3 years.<br>\n"
   ]
  },
  {
   "cell_type": "code",
   "execution_count": 1,
   "metadata": {
    "colab": {
     "base_uri": "https://localhost:8080/"
    },
    "id": "0Hrqf3EGbiTQ",
    "outputId": "de1ef389-2810-4efc-dc6d-8c3dd31fd940"
   },
   "outputs": [
    {
     "name": "stdout",
     "output_type": "stream",
     "text": [
      "Colab Notebook 12-15-20\n"
     ]
    },
    {
     "name": "stderr",
     "output_type": "stream",
     "text": [
      "/Users/davidtorres/opt/anaconda3/envs/learn-env/lib/python3.6/site-packages/statsmodels/tools/_testing.py:19: FutureWarning: pandas.util.testing is deprecated. Use the functions in the public API at pandas.testing instead.\n",
      "  import pandas.util.testing as tm\n"
     ]
    }
   ],
   "source": [
    "print('Colab Notebook 12-15-20')\n",
    "import pandas as pd\n",
    "import numpy as np\n",
    "import matplotlib.pyplot as plt\n",
    "%matplotlib inline\n",
    "\n",
    "from statsmodels.tsa.stattools import adfuller\n",
    "\n",
    "import warnings\n",
    "warnings.filterwarnings('ignore')\n",
    "import itertools\n",
    "import statsmodels.api as sm\n",
    "\n",
    "#from matplotlib.pylab import rcParams"
   ]
  },
  {
   "cell_type": "code",
   "execution_count": 2,
   "metadata": {
    "id": "c4jPr_sabxSU"
   },
   "outputs": [],
   "source": [
    "# from pydrive.auth import GoogleAuth\n",
    "# from pydrive.drive import GoogleDrive\n",
    "# from google.colab import auth\n",
    "# from oauth2client.client import GoogleCredentials"
   ]
  },
  {
   "cell_type": "code",
   "execution_count": 3,
   "metadata": {
    "id": "fDmQP-f7biTV"
   },
   "outputs": [],
   "source": [
    "# from google.colab import drive\n",
    "# drive.mount('/content/gdrive')"
   ]
  },
  {
   "cell_type": "markdown",
   "metadata": {
    "id": "2sHi7PMpykLU"
   },
   "source": [
    "## **Auto_Arima Model**\n",
    "The auto-ARIMA process seeks to identify the most optimal parameters for an ARIMA model.  In the ARIMA model there are 3 parameters that are used to help model the major aspects of a times series: \n",
    "  seasonality, trend, and noise. These parameters are labeled p,d,and q.<br>\n",
    " \n",
    "p is the parameter associated with the auto-regressive aspect of the model, which incorporates past values. \n",
    "  For example, forecasting that if it rained a lot over the past few days, you state its likely that it will rain tomorrow as well.<br>  \n",
    "d is the parameter associated with the integrated part of the model, which effects the amount of \n",
    "differencing to apply to a time series. ie, forecasting that the amount of rain tomorrow will be similar to the amount of rain today, if the daily amounts of rain have been similar over the past few days.<br>\n",
    "\n",
    "q is the parameter associated with the moving average part of the model.<br>\n",
    "\n",
    "P,D, and Q describe the same associations as p,d, and q, but correspond with the seasonal components \n",
    "  of the model.<br>"
   ]
  },
  {
   "cell_type": "code",
   "execution_count": 33,
   "metadata": {
    "id": "eiGr0NJ8biUq"
   },
   "outputs": [],
   "source": [
    "import six\n",
    "import sys\n",
    "sys.modules['sklearn.externals.six'] = six"
   ]
  },
  {
   "cell_type": "code",
   "execution_count": 34,
   "metadata": {
    "colab": {
     "base_uri": "https://localhost:8080/",
     "height": 599
    },
    "id": "WfPzSzhPeMxS",
    "outputId": "fc3b293a-e9c1-4a30-b40f-96e2c23d1b0e"
   },
   "outputs": [
    {
     "name": "stdout",
     "output_type": "stream",
     "text": [
      "Requirement already satisfied: pmdarima in /Users/davidtorres/opt/anaconda3/envs/learn-env/lib/python3.6/site-packages (1.2.0)\n",
      "Requirement already satisfied: statsmodels>=0.9.0 in /Users/davidtorres/opt/anaconda3/envs/learn-env/lib/python3.6/site-packages (from pmdarima) (0.10.1)\n",
      "Requirement already satisfied: scikit-learn>=0.19 in /Users/davidtorres/opt/anaconda3/envs/learn-env/lib/python3.6/site-packages (from pmdarima) (0.23.2)\n",
      "Requirement already satisfied: scipy>=1.2 in /Users/davidtorres/opt/anaconda3/envs/learn-env/lib/python3.6/site-packages (from pmdarima) (1.3.2)\n",
      "Requirement already satisfied: numpy>=1.15 in /Users/davidtorres/opt/anaconda3/envs/learn-env/lib/python3.6/site-packages (from pmdarima) (1.18.1)\n",
      "Requirement already satisfied: Cython>=0.29 in /Users/davidtorres/opt/anaconda3/envs/learn-env/lib/python3.6/site-packages (from pmdarima) (0.29.17)\n",
      "Requirement already satisfied: pandas>=0.19 in /Users/davidtorres/opt/anaconda3/envs/learn-env/lib/python3.6/site-packages (from pmdarima) (1.1.5)\n",
      "Requirement already satisfied: pytz>=2017.2 in /Users/davidtorres/opt/anaconda3/envs/learn-env/lib/python3.6/site-packages (from pandas>=0.19->pmdarima) (2020.1)\n",
      "Requirement already satisfied: numpy>=1.15 in /Users/davidtorres/opt/anaconda3/envs/learn-env/lib/python3.6/site-packages (from pmdarima) (1.18.1)\n",
      "Requirement already satisfied: python-dateutil>=2.7.3 in /Users/davidtorres/opt/anaconda3/envs/learn-env/lib/python3.6/site-packages (from pandas>=0.19->pmdarima) (2.8.1)\n",
      "Requirement already satisfied: six>=1.5 in /Users/davidtorres/opt/anaconda3/envs/learn-env/lib/python3.6/site-packages (from python-dateutil>=2.7.3->pandas>=0.19->pmdarima) (1.14.0)\n",
      "Requirement already satisfied: scipy>=1.2 in /Users/davidtorres/opt/anaconda3/envs/learn-env/lib/python3.6/site-packages (from pmdarima) (1.3.2)\n",
      "Requirement already satisfied: numpy>=1.15 in /Users/davidtorres/opt/anaconda3/envs/learn-env/lib/python3.6/site-packages (from pmdarima) (1.18.1)\n",
      "Requirement already satisfied: joblib>=0.11 in /Users/davidtorres/opt/anaconda3/envs/learn-env/lib/python3.6/site-packages (from scikit-learn>=0.19->pmdarima) (0.15.1)\n",
      "Requirement already satisfied: threadpoolctl>=2.0.0 in /Users/davidtorres/opt/anaconda3/envs/learn-env/lib/python3.6/site-packages (from scikit-learn>=0.19->pmdarima) (2.1.0)\n",
      "Requirement already satisfied: scipy>=1.2 in /Users/davidtorres/opt/anaconda3/envs/learn-env/lib/python3.6/site-packages (from pmdarima) (1.3.2)\n",
      "Requirement already satisfied: numpy>=1.15 in /Users/davidtorres/opt/anaconda3/envs/learn-env/lib/python3.6/site-packages (from pmdarima) (1.18.1)\n",
      "Requirement already satisfied: pandas>=0.19 in /Users/davidtorres/opt/anaconda3/envs/learn-env/lib/python3.6/site-packages (from pmdarima) (1.1.5)\n",
      "Requirement already satisfied: patsy>=0.4.0 in /Users/davidtorres/opt/anaconda3/envs/learn-env/lib/python3.6/site-packages (from statsmodels>=0.9.0->pmdarima) (0.5.1)\n",
      "Requirement already satisfied: six>=1.5 in /Users/davidtorres/opt/anaconda3/envs/learn-env/lib/python3.6/site-packages (from python-dateutil>=2.7.3->pandas>=0.19->pmdarima) (1.14.0)\n",
      "Requirement already satisfied: numpy>=1.15 in /Users/davidtorres/opt/anaconda3/envs/learn-env/lib/python3.6/site-packages (from pmdarima) (1.18.1)\n"
     ]
    }
   ],
   "source": [
    "!pip install pmdarima"
   ]
  },
  {
   "cell_type": "code",
   "execution_count": 35,
   "metadata": {
    "id": "DvupPiHBbiUt"
   },
   "outputs": [],
   "source": [
    "import six\n",
    "import joblib\n",
    "import sys\n",
    "sys.modules['sklearn.externals.six'] = six\n",
    "sys.modules['sklearn.externals.joblib'] = joblib\n",
    "import pmdarima as pm\n",
    "from pmdarima import auto_arima"
   ]
  },
  {
   "cell_type": "code",
   "execution_count": 36,
   "metadata": {
    "id": "Y-IO0XR0biUy"
   },
   "outputs": [],
   "source": [
    "def arima_model(df):\n",
    "    \"\"\"\n",
    "    df- dataframe\n",
    "    function is a gridsearch to get optimal p,d,qs and lowest for AIC for model.\n",
    "\n",
    "    \"\"\"\n",
    "    autoarima_model = auto_arima(df, start_p = 0, start_q = 1, \n",
    "                              test='adf',             # use adftest to find optimal 'd'\n",
    "                              max_p = 3, max_q = 3,   # maximum p and q\n",
    "                              m = 12,                  #frequency of series \n",
    "                              d = None,               # let model determine 'd', was 1\n",
    "                              seasonal = True, \n",
    "                              start_P=0, D=1, trace = False, #start  #trace= True\n",
    "                              error_action ='ignore',   # we don't want to know if an order does not work \n",
    "                              suppress_warnings = True,  # we don't want convergence warnings \n",
    "                              stepwise = True)           # set to stepwise  \n",
    "    \n",
    "    #print('\\n')\n",
    "    #display(autoarima_model.summary())\n",
    "    \n",
    "    return autoarima_model\n"
   ]
  },
  {
   "cell_type": "code",
   "execution_count": 37,
   "metadata": {
    "id": "gVj63y1ObiU2"
   },
   "outputs": [],
   "source": [
    "stepwise_fit = arima_model(train_brk[11226])"
   ]
  },
  {
   "cell_type": "code",
   "execution_count": 38,
   "metadata": {
    "colab": {
     "base_uri": "https://localhost:8080/",
     "height": 482
    },
    "id": "EAlk0GeubiU5",
    "outputId": "4f6f54f3-7f90-45ae-c45f-7a93396657a4"
   },
   "outputs": [
    {
     "data": {
      "text/html": [
       "<table class=\"simpletable\">\n",
       "<caption>Statespace Model Results</caption>\n",
       "<tr>\n",
       "  <th>Dep. Variable:</th>                  <td>y</td>               <th>  No. Observations:  </th>    <td>214</td>   \n",
       "</tr>\n",
       "<tr>\n",
       "  <th>Model:</th>           <td>SARIMAX(1, 1, 1)x(2, 1, 0, 12)</td> <th>  Log Likelihood     </th> <td>-2042.084</td>\n",
       "</tr>\n",
       "<tr>\n",
       "  <th>Date:</th>                   <td>Wed, 16 Dec 2020</td>        <th>  AIC                </th> <td>4096.169</td> \n",
       "</tr>\n",
       "<tr>\n",
       "  <th>Time:</th>                       <td>20:16:18</td>            <th>  BIC                </th> <td>4115.989</td> \n",
       "</tr>\n",
       "<tr>\n",
       "  <th>Sample:</th>                         <td>0</td>               <th>  HQIC               </th> <td>4104.189</td> \n",
       "</tr>\n",
       "<tr>\n",
       "  <th></th>                             <td> - 214</td>             <th>                     </th>     <td> </td>    \n",
       "</tr>\n",
       "<tr>\n",
       "  <th>Covariance Type:</th>               <td>opg</td>              <th>                     </th>     <td> </td>    \n",
       "</tr>\n",
       "</table>\n",
       "<table class=\"simpletable\">\n",
       "<tr>\n",
       "      <td></td>         <th>coef</th>     <th>std err</th>      <th>z</th>      <th>P>|z|</th>  <th>[0.025</th>    <th>0.975]</th>  \n",
       "</tr>\n",
       "<tr>\n",
       "  <th>intercept</th> <td>  207.0293</td> <td>  282.514</td> <td>    0.733</td> <td> 0.464</td> <td> -346.687</td> <td>  760.746</td>\n",
       "</tr>\n",
       "<tr>\n",
       "  <th>ar.L1</th>     <td>    0.7237</td> <td>    0.053</td> <td>   13.635</td> <td> 0.000</td> <td>    0.620</td> <td>    0.828</td>\n",
       "</tr>\n",
       "<tr>\n",
       "  <th>ma.L1</th>     <td>   -0.4512</td> <td>    0.053</td> <td>   -8.472</td> <td> 0.000</td> <td>   -0.556</td> <td>   -0.347</td>\n",
       "</tr>\n",
       "<tr>\n",
       "  <th>ar.S.L12</th>  <td>   -0.2665</td> <td>    0.017</td> <td>  -15.377</td> <td> 0.000</td> <td>   -0.300</td> <td>   -0.233</td>\n",
       "</tr>\n",
       "<tr>\n",
       "  <th>ar.S.L24</th>  <td>   -0.1027</td> <td>    0.015</td> <td>   -6.693</td> <td> 0.000</td> <td>   -0.133</td> <td>   -0.073</td>\n",
       "</tr>\n",
       "<tr>\n",
       "  <th>sigma2</th>    <td> 3.838e+07</td> <td>    0.008</td> <td> 4.58e+09</td> <td> 0.000</td> <td> 3.84e+07</td> <td> 3.84e+07</td>\n",
       "</tr>\n",
       "</table>\n",
       "<table class=\"simpletable\">\n",
       "<tr>\n",
       "  <th>Ljung-Box (Q):</th>          <td>184.31</td> <th>  Jarque-Bera (JB):  </th> <td>247.55</td>\n",
       "</tr>\n",
       "<tr>\n",
       "  <th>Prob(Q):</th>                 <td>0.00</td>  <th>  Prob(JB):          </th>  <td>0.00</td> \n",
       "</tr>\n",
       "<tr>\n",
       "  <th>Heteroskedasticity (H):</th>  <td>1.90</td>  <th>  Skew:              </th>  <td>0.68</td> \n",
       "</tr>\n",
       "<tr>\n",
       "  <th>Prob(H) (two-sided):</th>     <td>0.01</td>  <th>  Kurtosis:          </th>  <td>8.27</td> \n",
       "</tr>\n",
       "</table><br/><br/>Warnings:<br/>[1] Covariance matrix calculated using the outer product of gradients (complex-step).<br/>[2] Covariance matrix is singular or near-singular, with condition number 8.87e+24. Standard errors may be unstable."
      ],
      "text/plain": [
       "<class 'statsmodels.iolib.summary.Summary'>\n",
       "\"\"\"\n",
       "                                 Statespace Model Results                                 \n",
       "==========================================================================================\n",
       "Dep. Variable:                                  y   No. Observations:                  214\n",
       "Model:             SARIMAX(1, 1, 1)x(2, 1, 0, 12)   Log Likelihood               -2042.084\n",
       "Date:                            Wed, 16 Dec 2020   AIC                           4096.169\n",
       "Time:                                    20:16:18   BIC                           4115.989\n",
       "Sample:                                         0   HQIC                          4104.189\n",
       "                                            - 214                                         \n",
       "Covariance Type:                              opg                                         \n",
       "==============================================================================\n",
       "                 coef    std err          z      P>|z|      [0.025      0.975]\n",
       "------------------------------------------------------------------------------\n",
       "intercept    207.0293    282.514      0.733      0.464    -346.687     760.746\n",
       "ar.L1          0.7237      0.053     13.635      0.000       0.620       0.828\n",
       "ma.L1         -0.4512      0.053     -8.472      0.000      -0.556      -0.347\n",
       "ar.S.L12      -0.2665      0.017    -15.377      0.000      -0.300      -0.233\n",
       "ar.S.L24      -0.1027      0.015     -6.693      0.000      -0.133      -0.073\n",
       "sigma2      3.838e+07      0.008   4.58e+09      0.000    3.84e+07    3.84e+07\n",
       "===================================================================================\n",
       "Ljung-Box (Q):                      184.31   Jarque-Bera (JB):               247.55\n",
       "Prob(Q):                              0.00   Prob(JB):                         0.00\n",
       "Heteroskedasticity (H):               1.90   Skew:                             0.68\n",
       "Prob(H) (two-sided):                  0.01   Kurtosis:                         8.27\n",
       "===================================================================================\n",
       "\n",
       "Warnings:\n",
       "[1] Covariance matrix calculated using the outer product of gradients (complex-step).\n",
       "[2] Covariance matrix is singular or near-singular, with condition number 8.87e+24. Standard errors may be unstable.\n",
       "\"\"\""
      ]
     },
     "execution_count": 38,
     "metadata": {},
     "output_type": "execute_result"
    }
   ],
   "source": [
    "stepwise_fit.summary()"
   ]
  },
  {
   "cell_type": "markdown",
   "metadata": {
    "id": "9sB-cPoAF5Qw"
   },
   "source": [
    "### **Statsmodel Summary of Brooklyn Zipcodes**"
   ]
  },
  {
   "cell_type": "code",
   "execution_count": null,
   "metadata": {
    "colab": {
     "base_uri": "https://localhost:8080/",
     "height": 917
    },
    "id": "YUSiFW3MIHdV",
    "outputId": "737315c7-5909-4af3-c81b-00f66bf64f3d"
   },
   "outputs": [],
   "source": [
    "\"\"\"\n",
    "for loop iterates through dataframe and gets the best fit parameters (p,d,qs, Seasonal p,d,qs) and lowest AICs \n",
    "  for each Brooklyn zipcode.\n",
    "\"\"\"\n",
    "arima_list = [['zipcode', 'pdq','seasonal_pdq','aic']] \n",
    "for col in zip_df.columns:\n",
    "  zip_test_2 = arima_model(zip_df[col])\n",
    "  arima_list.append([col,zip_test_2.order, zip_test_2.seasonal_order, zip_test_2.aic()])\n",
    "#result   \n",
    "output_df = pd.DataFrame(arima_list[1:],columns=arima_list[0]) \n",
    "output_df  "
   ]
  },
  {
   "cell_type": "markdown",
   "metadata": {
    "id": "LkznKDEK8w-B"
   },
   "source": []
  },
  {
   "cell_type": "markdown",
   "metadata": {
    "id": "rxybUHbBZDar"
   },
   "source": [
    "### **Dataframe of PDQs, Seasonal PDQs and AICs**"
   ]
  },
  {
   "cell_type": "code",
   "execution_count": null,
   "metadata": {
    "colab": {
     "base_uri": "https://localhost:8080/",
     "height": 917
    },
    "id": "0v6cc7bdFQZU",
    "outputId": "1299845c-e3c2-4e45-eec5-4334df81e068"
   },
   "outputs": [],
   "source": [
    "output_df"
   ]
  },
  {
   "cell_type": "markdown",
   "metadata": {
    "id": "9nCuBStdpptV"
   },
   "source": [
    "## **SARIMA Model**"
   ]
  },
  {
   "cell_type": "markdown",
   "metadata": {
    "id": "o0_z6kcVT5sT"
   },
   "source": [
    "### **Fitting an ARIMA Time Series Model**\n",
    "Using grid search, model identified the set of parameters that produces the best fitting model \n",
    "to time series data.  Then inputted the optimal parameter values into a new SARIMAX model.<br>    \n",
    "\n",
    "Coef column above shows the importance of each feature and how each one impacts the time series patterns. \n",
    "The P>|z| provides the significance of each feature weight.<br>\n",
    "\n",
    "Each weight has a p-value lower or close to 0.05, so it is reasonable to retain all of them in our model.<br>\n",
    "\n",
    "model diagnostics-The purpose is to ensure that residuals remain uncorrelated, normally distributed having zero mean.  N(0,1)) is the standard notation for a normal distribution with mean 0 and standard deviation of 1).  This is a good indication that the residuals are normally distributed.<br>"
   ]
  },
  {
   "cell_type": "code",
   "execution_count": null,
   "metadata": {
    "id": "CI-u7raor5KT"
   },
   "outputs": [],
   "source": [
    "def fit_ARIMA(df, order=None, seasonal_order=None):\n",
    "    \"\"\"\n",
    "    forecasting model\n",
    "    \"\"\"\n",
    "    ARIMA_MODEL = sm.tsa.statespace.SARIMAX(df, \n",
    "                                        order=order, \n",
    "                                        seasonal_order=seasonal_order, \n",
    "                                        enforce_stationarity=False, \n",
    "                                        enforce_invertibility=False)\n",
    "\n",
    "    # Fit the model and print results\n",
    "    output = ARIMA_MODEL.fit()\n",
    "\n",
    "    #display / no tables 1\n",
    "    print(output.summary().tables[1])\n",
    "    \n",
    "    print('\\n')\n",
    "    print('MODEL DIAGNOSTICS')\n",
    "    \n",
    "    output.plot_diagnostics(figsize=(15, 18));\n",
    "    \n",
    "    return output"
   ]
  },
  {
   "cell_type": "markdown",
   "metadata": {
    "id": "Kn2YvJbJW69c"
   },
   "source": [
    "### **Validating the Model**"
   ]
  },
  {
   "cell_type": "markdown",
   "metadata": {
    "id": "pnDW2sDjXQ4k"
   },
   "source": [
    "## **One-Step Ahead Forecasting**"
   ]
  },
  {
   "cell_type": "code",
   "execution_count": null,
   "metadata": {
    "colab": {
     "base_uri": "https://localhost:8080/",
     "height": 917
    },
    "id": "Vh8eaFva8Jhh",
    "outputId": "e8013c3b-5edc-4217-b606-f8847531dd0d"
   },
   "outputs": [],
   "source": [
    "output_df"
   ]
  },
  {
   "cell_type": "code",
   "execution_count": null,
   "metadata": {
    "colab": {
     "base_uri": "https://localhost:8080/"
    },
    "id": "d6GMcTPaMKLQ",
    "outputId": "a6b3c392-0372-44e7-ac42-c28f1d6a1402"
   },
   "outputs": [],
   "source": [
    "train_brk[11238].head()"
   ]
  },
  {
   "cell_type": "code",
   "execution_count": null,
   "metadata": {
    "colab": {
     "base_uri": "https://localhost:8080/"
    },
    "id": "X4QeP1IIPUxf",
    "outputId": "c97f81f4-f03a-45fa-a702-39c244034136"
   },
   "outputs": [],
   "source": [
    "train_brk[11238].tail()"
   ]
  },
  {
   "cell_type": "code",
   "execution_count": null,
   "metadata": {
    "colab": {
     "base_uri": "https://localhost:8080/"
    },
    "id": "t0VPJumTO4eS",
    "outputId": "f98d617c-c29a-487b-c38d-22adfa2b8a2b"
   },
   "outputs": [],
   "source": [
    "test_brk[11238][[0,-1]]"
   ]
  },
  {
   "cell_type": "code",
   "execution_count": null,
   "metadata": {
    "colab": {
     "base_uri": "https://localhost:8080/",
     "height": 1000
    },
    "id": "zPItuqTwr44f",
    "outputId": "8301f885-5f8b-432d-95b8-0302af8858bc"
   },
   "outputs": [],
   "source": [
    "\"\"\"\n",
    "In order to validate model, I started by comparing predicted values to real values of the time series, which will help us understand the accuracy of \n",
    "    our forecasts\n",
    "\n",
    "get_prediction() and .conf_int() methods allow us to obtain the values and associated confidence intervals for forecasts of the time series.\n",
    "Get the confidence intervals for all predictions\n",
    "\n",
    "\"\"\"\n",
    "current_zip = 11218\n",
    "zip_params= output_df[output_df['zipcode']==current_zip]\n",
    "zip_params.pdq.values[0]\n",
    "zip_params.seasonal_pdq.values[0]\n",
    "\n",
    "output_sarima = fit_ARIMA(zip_df[current_zip],order=zip_params.pdq.values[0], seasonal_order= zip_params.seasonal_pdq.values[0] )\n",
    "# Get dynamic predictions with confidence intervals as above \n",
    "\n",
    "pred = output_sarima.get_prediction(start=pd.to_datetime('2014-01-01'), dynamic=False)\n",
    "pred_conf = pred.conf_int()"
   ]
  },
  {
   "cell_type": "code",
   "execution_count": null,
   "metadata": {
    "colab": {
     "base_uri": "https://localhost:8080/",
     "height": 362
    },
    "id": "thNfaFgWIHXe",
    "outputId": "26a6f4bc-80ee-439f-c3e1-ab70568883ac"
   },
   "outputs": [],
   "source": [
    "\"\"\"\n",
    "plot the real and forecasted values of the time series to assess how well model did\n",
    "Plot the confidence intervals overlapping the predicted values\n",
    "Plot real vs predicted values along with confidence interval\n",
    "The forecasts align with the true values as seen above, with overall increase trend.\n",
    "\"\"\"\n",
    "plt.figure(figsize=(12,5))\n",
    "# Plot observed values\n",
    "ax = train_brk[11218]['1996':].plot(label='observed')\n",
    "test_brk[11218]['1996':].plot(label='Test')\n",
    "# Plot predicted values\n",
    "pred.predicted_mean.plot(ax=ax, label='One-step ahead Forecast', alpha=0.9)\n",
    "\n",
    "# Plot the range for confidence intervals\n",
    "ax.fill_between(pred_conf.index,\n",
    "                pred_conf.iloc[:, 0],\n",
    "                pred_conf.iloc[:, 1], color='g', alpha=0.5)\n",
    "\n",
    "# Set axes labels\n",
    "ax.set_xlabel('Date')\n",
    "ax.set_ylabel('Sale Price')\n",
    "plt.legend()\n",
    "#confidence interval"
   ]
  },
  {
   "cell_type": "code",
   "execution_count": null,
   "metadata": {
    "colab": {
     "base_uri": "https://localhost:8080/"
    },
    "id": "2iNxZriVIcKZ",
    "outputId": "7c1013c7-3ad2-4f9d-83ff-ed9011d0c429"
   },
   "outputs": [],
   "source": [
    "\"\"\"\n",
    "check for the accuracy of the prediction using RMSE (Mean Squared Error). \n",
    "This will provide us with the average error of prediction\n",
    "\n",
    "Model was able to forecast the average daily real estate sales in the test set within 8,068.75 of the real sales. \n",
    "  sales range from around 1,003,700.00 to 2,,202,400.00.     \n",
    "\"\"\"\n",
    "# Get the real and predicted values\n",
    "forecasted_11238 = pred.predicted_mean\n",
    "truth_1128 =test_brk[11218]['1996':]\n",
    "\n",
    "# Compute the root mean square error\n",
    "mse = ((forecasted_11238 - truth_1128) ** 2).mean()\n",
    "print('The Mean Squared Error of our forecasts is {}'.format(round(mse, 2)))\n",
    "#np.sqrt(np.mean((predictions-targets)**2))\n",
    "rmse = np.sqrt(np.mean((forecasted_11238 - truth_1128) ** 2))\n",
    "print('The Root Mean Squared Error of our forecasts is {}'.format(round(rmse, 2)))"
   ]
  },
  {
   "cell_type": "code",
   "execution_count": null,
   "metadata": {
    "colab": {
     "base_uri": "https://localhost:8080/"
    },
    "id": "8dvZmONPccci",
    "outputId": "77ce5b76-d429-4591-f0a0-8928b7e9b9c8"
   },
   "outputs": [],
   "source": [
    "train_brk[zipcode].describe().round(3)"
   ]
  },
  {
   "cell_type": "code",
   "execution_count": null,
   "metadata": {
    "colab": {
     "base_uri": "https://localhost:8080/",
     "height": 80
    },
    "id": "Rx6SHrkYCdnK",
    "outputId": "9e05808d-afd1-491e-b679-23915effb494"
   },
   "outputs": [],
   "source": [
    "zip_params = output_df[output_df['zipcode']==11218]\n",
    "zip_params"
   ]
  },
  {
   "cell_type": "code",
   "execution_count": null,
   "metadata": {
    "colab": {
     "base_uri": "https://localhost:8080/"
    },
    "id": "r3WKFRaZDDEV",
    "outputId": "c38fd985-89bf-446f-d6da-8583931a2fe2"
   },
   "outputs": [],
   "source": [
    "zip_params['pdq']"
   ]
  },
  {
   "cell_type": "code",
   "execution_count": null,
   "metadata": {
    "colab": {
     "base_uri": "https://localhost:8080/"
    },
    "id": "jaoyOTzmDSQm",
    "outputId": "f133b2ae-1b0b-4aab-f425-2fbec936f450"
   },
   "outputs": [],
   "source": [
    "zip_params.pdq.values[0]"
   ]
  },
  {
   "cell_type": "code",
   "execution_count": null,
   "metadata": {
    "colab": {
     "base_uri": "https://localhost:8080/"
    },
    "id": "dAI_edeVDi8g",
    "outputId": "3ddac71e-ef29-4da2-d394-6d61352045de"
   },
   "outputs": [],
   "source": [
    "zip_params.seasonal_pdq.values[0]"
   ]
  },
  {
   "cell_type": "code",
   "execution_count": null,
   "metadata": {
    "colab": {
     "base_uri": "https://localhost:8080/",
     "height": 1000
    },
    "id": "7V0OghhNIwdW",
    "outputId": "5be0ff34-1120-4913-bf8f-110c2ed25e17"
   },
   "outputs": [],
   "source": [
    "\"\"\"\n",
    "we only use information from the time series up to a certain point, \n",
    "  and after that, forecasts are generated using values from previous forecasted time points.\n",
    "\n",
    "pred_dynamic = output.get_prediction(start=pd.to_datetime('1998-01-01'), dynamic=True, full_results=True)\n",
    "pred_dynamic_conf = pred_dynamic.conf_int()\n",
    "\n",
    "calculation for predictions post 2014.\n",
    "\"\"\"\n",
    "current_zip = 11218\n",
    "zip_params = output_df[output_df['zipcode']==current_zip]\n",
    "zip_params.pdq.values[0]\n",
    "zip_params.seasonal_pdq.values[0]\n",
    "\n",
    "output_sarima = fit_ARIMA(zip_df[current_zip],order=zip_params.pdq.values[0] ,seasonal_order= zip_params.seasonal_pdq.values[0] )\n",
    "# Get dynamic predictions with confidence intervals as above \n",
    "pred_dynamic = output_sarima.get_prediction(start=pd.to_datetime('2014-01-01'), dynamic=True,full_results=True)\n",
    "pred_dynamic_conf = pred_dynamic.conf_int()"
   ]
  },
  {
   "cell_type": "code",
   "execution_count": null,
   "metadata": {
    "id": "QYGkYw8CNXp8"
   },
   "outputs": [],
   "source": [
    "\"\"\"\n",
    "Plotting the observed and forecasted values of the time series, we see that the overall forecasts are accurate even when using dynamic forecasts. \n",
    "All forecasted values (yellow line) match pretty closely to the ground truth (blue line), \n",
    "  and are well within the confidence intervals of our forecast.\n",
    "  \n",
    "before used 2004\n",
    "pred_dynamic = output_sarima.get_prediction(start=pd.to_datetime('2014-01-01'), dynamic=True,full_results=True)\n",
    "pred_dynamic_conf = pred_dynamic.conf_int()\n",
    "\"\"\"\n",
    "\n",
    "def prediction_vis(pred_dynamic,pred_dynamic_conf, y):\n",
    "  # Plot the dynamic forecast with confidence intervals.\n",
    "  plt.figure(figsize=(12,5))\n",
    "  # Plot observed values\n",
    "  ax = y.plot(label='Observed')\n",
    "\n",
    "  # Plot predicted values\n",
    "  pred_dynamic.predicted_mean.plot(ax=ax, label='Dynamic Forecast', alpha=0.9)\n",
    "\n",
    "  # Plot the range for confidence intervals\n",
    "  ax.fill_between(pred_dynamic_conf.index,\n",
    "                  pred_dynamic_conf.iloc[:, 0],\n",
    "                  pred_dynamic_conf.iloc[:, 1], color='g', alpha=0.5)\n",
    "\n",
    "  # Set axes labels\n",
    "  ax.set_xlabel('Date')\n",
    "  ax.set_ylabel('Sale Price')\n",
    "  plt.legend()\n",
    "\n",
    "  return ax"
   ]
  },
  {
   "cell_type": "code",
   "execution_count": null,
   "metadata": {
    "colab": {
     "base_uri": "https://localhost:8080/",
     "height": 362
    },
    "id": "46DeuFE_OC4R",
    "outputId": "67c152e6-9fa2-48fe-88ae-f266ec000286"
   },
   "outputs": [],
   "source": [
    "prediction_visual = prediction_vis(pred_dynamic,pred_dynamic_conf,train_brk[current_zip])\n",
    "prediction_visual"
   ]
  },
  {
   "cell_type": "code",
   "execution_count": null,
   "metadata": {
    "colab": {
     "base_uri": "https://localhost:8080/"
    },
    "id": "nVyr6JPa1BHz",
    "outputId": "7b96e3fd-737a-4ae0-9329-9c55852b3320"
   },
   "outputs": [],
   "source": [
    "# Get the real and predicted values\n",
    "forecast_11238 = pred_dynamic.predicted_mean\n",
    "truth_11238 = train_brk[current_zip]#['1996':]\n",
    "\n",
    "# Compute the mean square error\n",
    "mse = ((forecast_11238 - truth_11238) ** 2).mean()\n",
    "print('The Mean Squared Error of our forecasts is {}'.format(round(mse, 2)))\n",
    "#np.sqrt(np.mean((predictions-targets)**2))\n",
    "rmse = np.sqrt(np.mean((forecast_11238 - truth_11238) ** 2))\n",
    "print('The Root Mean Squared Error of our forecasts is {}'.format(round(rmse, 2)))"
   ]
  },
  {
   "cell_type": "markdown",
   "metadata": {
    "id": "3bPEYL5i3dBa"
   },
   "source": [
    "### **Return on Investment DataFrame**"
   ]
  },
  {
   "cell_type": "code",
   "execution_count": null,
   "metadata": {
    "id": "BayCQRuWawzp"
   },
   "outputs": [],
   "source": [
    "\"\"\"\n",
    ".get_forecast() method of our time series output can compute forecasted values for a specified number of steps ahead.\n",
    "\n",
    "prediction = output.get_forecast(steps=500)\n",
    "\n",
    "# Get confidence intervals of forecasts\n",
    "pred_conf = prediction.conf_int()\n",
    "\n",
    "pred_dynamic = output_sarima.get_prediction(start=pd.to_datetime('2014-01-01'), dynamic=True,full_results=True)\n",
    "pred_dynamic_conf = pred_dynamic.conf_int()\n",
    "\"\"\"\n",
    "# Get forecast --- steps ahead in future\n",
    "prediction = output_sarima.get_forecast(steps=36, dynamic=True)\n",
    "prediction.predicted_mean\n",
    "\n",
    "# Get confidence intervals of forecasts\n",
    "predict_conf = prediction.conf_int()\n"
   ]
  },
  {
   "cell_type": "code",
   "execution_count": null,
   "metadata": {
    "id": "gJbRKj4aT2vW"
   },
   "outputs": [],
   "source": [
    "#Ben\n",
    "steps = 36\n",
    "# Get forecast --- steps ahead in future\n",
    "prediction_object = output_sarima.get_forecast(steps=steps, dynamic=True)"
   ]
  },
  {
   "cell_type": "code",
   "execution_count": null,
   "metadata": {
    "id": "Mddn9EwEFoq9"
   },
   "outputs": [],
   "source": [
    "def my_function(prediction_object, zip):\n",
    "  \"\"\"\n",
    "  function gets ROI for 1 zipcode \n",
    "  \"\"\"\n",
    "  df_Summary = pd.concat([pd.DataFrame({f'Predicted_Mean {zip}':prediction_object.predicted_mean}), prediction_object.conf_int()],axis = 1)\n",
    "  my_sample = df_Summary.iloc[[0, -1]].round(3)\n",
    "\n",
    "  return my_sample"
   ]
  },
  {
   "cell_type": "code",
   "execution_count": null,
   "metadata": {
    "colab": {
     "base_uri": "https://localhost:8080/",
     "height": 111
    },
    "id": "vXF5UCgRWAV5",
    "outputId": "c8e2385a-de26-4b3c-ff00-e45c9aeb9f9e"
   },
   "outputs": [],
   "source": [
    "my_output = my_function(prediction_object, zip='11218')\n",
    "my_output"
   ]
  },
  {
   "cell_type": "code",
   "execution_count": null,
   "metadata": {
    "id": "LPTbCzd6Hqip"
   },
   "outputs": [],
   "source": [
    "\"\"\"\n",
    "​\t  \n",
    "ROI= \n",
    "Cost of Investment\n",
    "Current Value of Investment−Cost of Investment\n",
    "​\t \n",
    "\"\"\"\n",
    "def my_roi(cost, current):\n",
    "  #function to calculate ROI \n",
    "  return (current - cost) / cost\n"
   ]
  },
  {
   "cell_type": "code",
   "execution_count": null,
   "metadata": {
    "id": "plXRR5cFINMr"
   },
   "outputs": [],
   "source": [
    "cost = my_output.iloc[0,0]\n",
    "current = my_output.iloc[-1,0]"
   ]
  },
  {
   "cell_type": "code",
   "execution_count": null,
   "metadata": {
    "id": "T3wkU7THKDQE"
   },
   "outputs": [],
   "source": [
    "\n",
    "current_lower = my_output.iloc[-1,1]\n",
    "current_upper = my_output.iloc[-1,2]"
   ]
  },
  {
   "cell_type": "code",
   "execution_count": null,
   "metadata": {
    "colab": {
     "base_uri": "https://localhost:8080/"
    },
    "id": "zu7gH1XAJHRb",
    "outputId": "fd304708-ec4e-4c30-8acf-efce1b18abad"
   },
   "outputs": [],
   "source": [
    "#upper lower end\n",
    "roi_dic = {}\n",
    "\n",
    "cost = my_output.iloc[0,0]\n",
    "current = my_output.iloc[-1,0]\n",
    "current_lower = my_output.iloc[-1,1]\n",
    "current_upper = my_output.iloc[-1,2]\n",
    "\n",
    "\n",
    "my_roi(cost, current)\n",
    "roi_dic['roi'] = my_roi(cost, current)\n",
    "roi_dic['roi_lower'] = my_roi(cost, current_lower)\n",
    "roi_dic['roi_upper'] = my_roi(cost, current_upper)\n",
    "\n",
    "roi_dic"
   ]
  },
  {
   "cell_type": "markdown",
   "metadata": {
    "id": "hqynAAdYP17B"
   },
   "source": []
  },
  {
   "cell_type": "code",
   "execution_count": null,
   "metadata": {
    "colab": {
     "base_uri": "https://localhost:8080/",
     "height": 1000
    },
    "id": "klZp9060EOkH",
    "outputId": "91a7409d-9a4f-4897-8685-97de389b78a8"
   },
   "outputs": [],
   "source": [
    "zip_rois={}\n",
    "steps = 36\n",
    "\n",
    "#def zipcode_roi(output_df,):\n",
    "for zipcode in output_df['zipcode'].unique():\n",
    "  pdq = output_df.loc[ output_df['zipcode']==zipcode, 'pdq'].iloc[0] \n",
    "  seasonal = output_df.loc[ output_df['zipcode']==zipcode, 'seasonal_pdq'].iloc[0] \n",
    "  df_ts = zip_df[zipcode]\n",
    "\n",
    "\n",
    "  output_sarima = fit_ARIMA(df_ts, order=pdq, seasonal_order=seasonal)\n",
    "  prediction_object = output_sarima.get_forecast(steps=steps, dynamic=True)\n",
    "  my_output = my_function(prediction_object, zip=zipcode)\n",
    "  \n",
    "  roi_dic = {}\n",
    "\n",
    "  cost = my_output.iloc[0,0]\n",
    "  current = my_output.iloc[-1,0]\n",
    "  current_lower = my_output.iloc[-1,1]\n",
    "  current_upper = my_output.iloc[-1,2]\n",
    "\n",
    "  my_roi(cost, current)\n",
    "  roi_dic['roi'] = my_roi(cost, current)\n",
    "  roi_dic['roi_lower'] = my_roi(cost, current_lower)\n",
    "  roi_dic['roi_upper'] = my_roi(cost, current_upper)\n",
    "\n",
    "  zip_rois[zipcode] = pd.Series(roi_dic)\n",
    "ROI = pd.DataFrame(zip_rois)"
   ]
  },
  {
   "cell_type": "code",
   "execution_count": null,
   "metadata": {
    "colab": {
     "base_uri": "https://localhost:8080/",
     "height": 628
    },
    "id": "0_wficvjr8XV",
    "outputId": "28396d0e-9c0b-4765-f0e0-0181bf836af3"
   },
   "outputs": [],
   "source": [
    "roi_df = ROI.T \n",
    "roi_df.reset_index(inplace=True)\n",
    "roi_df.rename(columns={'index':'zipcode'}, inplace=True)\n",
    "roi_df.style.background_gradient()"
   ]
  },
  {
   "cell_type": "code",
   "execution_count": null,
   "metadata": {
    "colab": {
     "base_uri": "https://localhost:8080/",
     "height": 628
    },
    "id": "ixZdrPIPHEpC",
    "outputId": "9b9bdd32-b5f0-4345-e78a-1d5be334445a"
   },
   "outputs": [],
   "source": [
    "#changed column names\n",
    "roi_chart = ROI.T\n",
    "roi_chart.reset_index(inplace=True)\n",
    "roi_chart.rename(columns={'index':'zipcode', 'roi_lower': '1_yr_roi','roi_upper':'3_yr_roi'}, inplace=True) \n",
    "roi_chart.style.background_gradient()"
   ]
  },
  {
   "cell_type": "markdown",
   "metadata": {
    "id": "_inANoVNU-tD"
   },
   "source": [
    "#### **ROI Mean Chart**"
   ]
  },
  {
   "cell_type": "code",
   "execution_count": null,
   "metadata": {
    "colab": {
     "base_uri": "https://localhost:8080/",
     "height": 628
    },
    "id": "nW1cpjzYup33",
    "outputId": "bcfd3fa1-9915-474a-a94b-12cddfa836e2"
   },
   "outputs": [],
   "source": [
    "roi_chart_1 = roi_chart.sort_values(by=['roi'],ascending=False)\n",
    "#roi_chart_1 = roi_chart_1.round(3)\n",
    "roi_chart_1.style.background_gradient()"
   ]
  },
  {
   "cell_type": "markdown",
   "metadata": {
    "id": "C02dZ1gesv3N"
   },
   "source": [
    "#### **ROI 1st Year**"
   ]
  },
  {
   "cell_type": "code",
   "execution_count": null,
   "metadata": {
    "colab": {
     "base_uri": "https://localhost:8080/",
     "height": 628
    },
    "id": "ZoFMdU2PJ_Rc",
    "outputId": "70850bf9-8e08-46e1-8c38-1b193fd264e1"
   },
   "outputs": [],
   "source": [
    "roi_df_lower = roi_df.sort_values(by=['roi_lower'],ascending=False) \n",
    "roi_df_lower.style.background_gradient()\n",
    "#roi_df_lower"
   ]
  },
  {
   "cell_type": "markdown",
   "metadata": {
    "id": "MmJzfyDVs1rj"
   },
   "source": [
    "#### **ROI 3rd Year**"
   ]
  },
  {
   "cell_type": "code",
   "execution_count": null,
   "metadata": {
    "colab": {
     "base_uri": "https://localhost:8080/",
     "height": 628
    },
    "id": "WbD35gZPPrn4",
    "outputId": "b481e6a0-1d50-4573-f145-77f319e7f69d"
   },
   "outputs": [],
   "source": [
    "roi_df_upper = roi_df.sort_values(by=['roi_upper'],ascending=False) \n",
    "roi_df_upper.style.background_gradient()"
   ]
  },
  {
   "cell_type": "markdown",
   "metadata": {
    "id": "zX67rcJn1RkE"
   },
   "source": [
    "## **Dynamic Forecasting**\n",
    "Forecasting begins 4-1-2018"
   ]
  },
  {
   "cell_type": "code",
   "execution_count": null,
   "metadata": {
    "id": "hwDI7SlCJDHn"
   },
   "outputs": [],
   "source": [
    "def forecast_function(output_df, current_zip=None,steps=None):\n",
    "  \n",
    "  # roi_t[roi_t[roi_t.name]== current_zip]\n",
    "  # print('\\n')\n",
    "  zip_params = output_df[output_df['zipcode']==current_zip]\n",
    "  zip_params.pdq.values[0]\n",
    "  zip_params.seasonal_pdq.values[0]\n",
    "\n",
    "  #steps = 36\n",
    "  output_sar = fit_ARIMA(zip_df[current_zip], order=zip_params.pdq.values[0], seasonal_order=zip_params.seasonal_pdq.values[0])\n",
    "  prediction = output_sar.get_forecast(steps=steps, dynamic=True)\n",
    "  prediction.predicted_mean\n",
    "\n",
    "  # Get confidence intervals of forecasts\n",
    "  predict_conf = prediction.conf_int()\n",
    "\n",
    "  return prediction, predict_conf, current_zip\n"
   ]
  },
  {
   "cell_type": "code",
   "execution_count": null,
   "metadata": {
    "id": "MI_nUjf6zcfK"
   },
   "outputs": [],
   "source": [
    "\n",
    "def forecast_visual(prediction,predict_conf, y, figsize=None):\n",
    "  \"\"\"\n",
    "  prediction-statsmodel object\n",
    "  predict_conf- pd Dataframe\n",
    "  \"\"\"\n",
    "  print(roi_df[roi_df['zipcode']== current_zip])\n",
    "  print('\\n')\n",
    "  # Plot future predictions with confidence intervals\n",
    "  fig,ax = plt.subplots(figsize=figsize)\n",
    "  ax = y.plot(label='Observed') #(10, 8))\n",
    "  prediction.predicted_mean.plot(ax=ax, label='Future Forecast')\n",
    "  ax.fill_between(predict_conf.index,\n",
    "                  predict_conf.iloc[:, 0],\n",
    "                  predict_conf.iloc[:, 1], color='k', alpha=0.25)\n",
    "  \n",
    "  ax.axvline(prediction.predicted_mean.index[12])\n",
    "\n",
    "  label_font = {'weight':'bold','size':18}\n",
    "  ax.set_xlabel('Date',fontdict=label_font)\n",
    "  ax.set_ylabel('Home Prices',fontdict=label_font)\n",
    "  ax.set_title(f'Price Forecast for Zipcode: {y.name} /{steps} Months ',fontdict=label_font)\n",
    "\n",
    "  ax.legend(loc=\"upper left\")\n",
    "\n",
    "  return ax"
   ]
  },
  {
   "cell_type": "markdown",
   "metadata": {
    "id": "mo571ImXNkJl"
   },
   "source": [
    "\n",
    "\n",
    "\n",
    "\n",
    "### **Zipcode: 11210**\n",
    "Zipcode 11226 ranks in 1st place for ROI.  The ROI will be 60% on average.<br>\n",
    "If an investment is made for a return on the lower end the return will be 5.27.<br> \n",
    "If a ninvestment is made for a return on the upper end the return will be 86.31.  This will take you into year 2021 and after.<br>\n",
    "Either way it's a good return on the investment."
   ]
  },
  {
   "cell_type": "code",
   "execution_count": null,
   "metadata": {
    "colab": {
     "base_uri": "https://localhost:8080/",
     "height": 1000
    },
    "id": "RHe5na7NNYfJ",
    "outputId": "8173b364-0815-46e3-8035-a6b65a4e09ae"
   },
   "outputs": [],
   "source": [
    "prediction, predict_conf, current_zip =  forecast_function(output_df, current_zip=11210, steps=36)"
   ]
  },
  {
   "cell_type": "code",
   "execution_count": null,
   "metadata": {
    "colab": {
     "base_uri": "https://localhost:8080/",
     "height": 296
    },
    "id": "UDHvVgDl4280",
    "outputId": "96214dc0-dc81-4004-908f-b3666e6cc845"
   },
   "outputs": [],
   "source": [
    "test_brk[11210].plot()"
   ]
  },
  {
   "cell_type": "code",
   "execution_count": null,
   "metadata": {
    "colab": {
     "base_uri": "https://localhost:8080/"
    },
    "id": "IENiexVWDV7n",
    "outputId": "4989550b-526c-4dae-bd0d-fe421af37ee6"
   },
   "outputs": [],
   "source": [
    "test_brk[11210].describe()"
   ]
  },
  {
   "cell_type": "code",
   "execution_count": null,
   "metadata": {
    "colab": {
     "base_uri": "https://localhost:8080/",
     "height": 610
    },
    "id": "kEYnbn5D1JVA",
    "outputId": "980e8cf0-b203-47e2-e672-2b6cd10dd412"
   },
   "outputs": [],
   "source": [
    "forecast_visual_zip = forecast_visual(prediction,predict_conf,test_brk[current_zip], figsize=(12,8))\n",
    "forecast_visual_zip"
   ]
  },
  {
   "cell_type": "markdown",
   "metadata": {
    "id": "4vBDuU0xxm7L"
   },
   "source": [
    "### **Zipcode: 11233**"
   ]
  },
  {
   "cell_type": "code",
   "execution_count": null,
   "metadata": {
    "colab": {
     "base_uri": "https://localhost:8080/",
     "height": 1000
    },
    "id": "WTrWMrB2PRMa",
    "outputId": "54091f56-c0f7-49cb-f73a-4eb71774bcee"
   },
   "outputs": [],
   "source": [
    "prediction, predict_conf, current_zip =  forecast_function(output_df, current_zip=11233,steps=36)"
   ]
  },
  {
   "cell_type": "code",
   "execution_count": null,
   "metadata": {
    "colab": {
     "base_uri": "https://localhost:8080/"
    },
    "id": "cQiP3oLuepRY",
    "outputId": "0d0a3ac7-6695-4c0d-bfe1-8ff834bdc273"
   },
   "outputs": [],
   "source": [
    "test_brk[11233].describe()"
   ]
  },
  {
   "cell_type": "code",
   "execution_count": null,
   "metadata": {
    "colab": {
     "base_uri": "https://localhost:8080/",
     "height": 296
    },
    "id": "K5Hix1fpGfLF",
    "outputId": "9549d9aa-c1ff-48de-fcfb-2b6d75989ad2"
   },
   "outputs": [],
   "source": [
    "test_brk[11233].plot()"
   ]
  },
  {
   "cell_type": "code",
   "execution_count": null,
   "metadata": {
    "colab": {
     "base_uri": "https://localhost:8080/",
     "height": 610
    },
    "id": "8XiBQRYRxwDh",
    "outputId": "0ea021de-4219-4fa9-c8ad-8d0282bdaf66"
   },
   "outputs": [],
   "source": [
    "forecast_visual_zip = forecast_visual(prediction,predict_conf,test_brk[current_zip], figsize=(12,8))\n",
    "forecast_visual_zip"
   ]
  },
  {
   "cell_type": "markdown",
   "metadata": {
    "id": "UeHWN_hdWGzz"
   },
   "source": [
    "### **Zipcode: 11218**"
   ]
  },
  {
   "cell_type": "code",
   "execution_count": null,
   "metadata": {
    "colab": {
     "base_uri": "https://localhost:8080/",
     "height": 1000
    },
    "id": "JVOo_NLvOgur",
    "outputId": "75ac6067-fea7-459c-e6ee-e601fcc311a2"
   },
   "outputs": [],
   "source": [
    "prediction, predict_conf, current_zip =  forecast_function(output_df, current_zip=11218,steps=36)"
   ]
  },
  {
   "cell_type": "code",
   "execution_count": null,
   "metadata": {
    "colab": {
     "base_uri": "https://localhost:8080/"
    },
    "id": "2MQSYku1fCnt",
    "outputId": "e9f1129b-8d28-4a2c-db53-4173a70c73e6"
   },
   "outputs": [],
   "source": [
    "test_brk[11218].describe().round(3)"
   ]
  },
  {
   "cell_type": "code",
   "execution_count": null,
   "metadata": {
    "colab": {
     "base_uri": "https://localhost:8080/",
     "height": 307
    },
    "id": "3jnMlG4pSCwC",
    "outputId": "a3fbe691-e4dd-44f4-872d-ad9c5182909f"
   },
   "outputs": [],
   "source": [
    "test_brk[11218].plot()"
   ]
  },
  {
   "cell_type": "code",
   "execution_count": null,
   "metadata": {
    "colab": {
     "base_uri": "https://localhost:8080/",
     "height": 610
    },
    "id": "LFU_H54wzNjQ",
    "outputId": "4030f62f-731c-474a-a1d8-4bf5bb728eb9"
   },
   "outputs": [],
   "source": [
    "forecast_visual_zip = forecast_visual(prediction,predict_conf,test_brk[current_zip], figsize=(12,8))\n",
    "forecast_visual_zip"
   ]
  },
  {
   "cell_type": "markdown",
   "metadata": {
    "id": "DrTx3pQBSs6k"
   },
   "source": [
    "### **Zipcode: 11230**"
   ]
  },
  {
   "cell_type": "code",
   "execution_count": null,
   "metadata": {
    "colab": {
     "base_uri": "https://localhost:8080/",
     "height": 1000
    },
    "id": "lwXaHQI8Shx1",
    "outputId": "bd0073ab-bf8b-4fdb-c42a-f6be524559d7"
   },
   "outputs": [],
   "source": [
    "prediction, predict_conf, current_zip =  forecast_function(output_df, current_zip=11230,steps=36)"
   ]
  },
  {
   "cell_type": "code",
   "execution_count": null,
   "metadata": {
    "colab": {
     "base_uri": "https://localhost:8080/"
    },
    "id": "hf8IYy0bfWOO",
    "outputId": "8c07e3ef-6dad-4316-c373-92e8665e5bc9"
   },
   "outputs": [],
   "source": [
    "test_brk[11230].describe().round(3)"
   ]
  },
  {
   "cell_type": "code",
   "execution_count": null,
   "metadata": {
    "colab": {
     "base_uri": "https://localhost:8080/",
     "height": 307
    },
    "id": "PLoTjN18TMbH",
    "outputId": "08c2fe12-6a9e-4ad9-e2af-96362fb23d3a"
   },
   "outputs": [],
   "source": [
    "test_brk[current_zip].plot()"
   ]
  },
  {
   "cell_type": "code",
   "execution_count": null,
   "metadata": {
    "colab": {
     "base_uri": "https://localhost:8080/",
     "height": 610
    },
    "id": "3MEd2AyGSiMK",
    "outputId": "47fe1a38-1e77-428f-af8b-2d43cb20a7e2"
   },
   "outputs": [],
   "source": [
    "forecast_visual_zip = forecast_visual(prediction,predict_conf,test_brk[current_zip], figsize=(12,8))\n",
    "forecast_visual_zip"
   ]
  },
  {
   "cell_type": "markdown",
   "metadata": {
    "id": "prGAdm_JUMxT"
   },
   "source": [
    "### **Zipcode: 11212**"
   ]
  },
  {
   "cell_type": "code",
   "execution_count": null,
   "metadata": {
    "colab": {
     "base_uri": "https://localhost:8080/",
     "height": 1000
    },
    "id": "Q-f6sZyHShhC",
    "outputId": "8f30f1c1-cae1-41cb-ff52-412b0f7abe00"
   },
   "outputs": [],
   "source": [
    "prediction, predict_conf, current_zip =  forecast_function(output_df, current_zip=11212,steps=36)"
   ]
  },
  {
   "cell_type": "code",
   "execution_count": null,
   "metadata": {
    "colab": {
     "base_uri": "https://localhost:8080/"
    },
    "id": "rwefTf3VfmJR",
    "outputId": "da303c30-37e7-4be7-83c3-78ac1fe1132d"
   },
   "outputs": [],
   "source": [
    "test_brk[11212].describe().round(3)"
   ]
  },
  {
   "cell_type": "code",
   "execution_count": null,
   "metadata": {
    "colab": {
     "base_uri": "https://localhost:8080/",
     "height": 296
    },
    "id": "wZJNOGZjUGGv",
    "outputId": "562cc2da-07da-47bf-bba1-e064c433d8f2"
   },
   "outputs": [],
   "source": [
    "test_brk[current_zip].plot()"
   ]
  },
  {
   "cell_type": "code",
   "execution_count": null,
   "metadata": {
    "colab": {
     "base_uri": "https://localhost:8080/",
     "height": 610
    },
    "id": "cK924y5iUFto",
    "outputId": "b07f0f42-534d-4537-c166-78b1d8b5980a"
   },
   "outputs": [],
   "source": [
    "#11212\t0.371624\t-0.027713\t0.770960\n",
    "forecast_visual_zip = forecast_visual(prediction,predict_conf,test_brk[current_zip], figsize=(12,8))\n",
    "forecast_visual_zip"
   ]
  },
  {
   "cell_type": "markdown",
   "metadata": {
    "id": "nK-iG68vnSYF"
   },
   "source": [
    "## ***Stationarity***"
   ]
  },
  {
   "cell_type": "markdown",
   "metadata": {
    "id": "1_eC0LxVbiVW"
   },
   "source": [
    "### **Zipcode: 11226**"
   ]
  },
  {
   "cell_type": "code",
   "execution_count": null,
   "metadata": {
    "colab": {
     "base_uri": "https://localhost:8080/",
     "height": 307
    },
    "id": "kiyoxXRrbiVa",
    "outputId": "139da917-2b94-49fc-d99b-0c8c9f377e31"
   },
   "outputs": [],
   "source": [
    "zip_df[11226].plot()"
   ]
  },
  {
   "cell_type": "code",
   "execution_count": null,
   "metadata": {
    "id": "Vs5jehRibiVc"
   },
   "outputs": [],
   "source": [
    "def test_stationarity_1(timeseries, window):\n",
    "    \n",
    "    #Defining rolling statistics\n",
    "    rolmean = timeseries.rolling(window=window).mean()\n",
    "    rolstd = timeseries.rolling(window=window).std()\n",
    "\n",
    "    #Plot rolling statistics:\n",
    "    fig = plt.figure(figsize=(12, 8))\n",
    "    orig = plt.plot(timeseries.iloc[window:], color='blue',label='Original')\n",
    "    mean = plt.plot(rolmean, color='red', label='Rolling Mean')\n",
    "    std = plt.plot(rolstd, color='black', label = 'Rolling Std')\n",
    "    plt.legend(loc='upper left')\n",
    "    plt.title('Rolling Mean & Standard Deviation')\n",
    "    plt.legend(bbox_to_anchor=(1.05,1),loc='upper left')\n",
    "    plt.show()\n",
    "    "
   ]
  },
  {
   "cell_type": "code",
   "execution_count": null,
   "metadata": {
    "colab": {
     "base_uri": "https://localhost:8080/",
     "height": 1000
    },
    "id": "Rgx8VD3IbiVf",
    "outputId": "d652a0ee-de19-48e3-f93d-a80a6498293c"
   },
   "outputs": [],
   "source": [
    "test_stationarity_1(zip_df,12)"
   ]
  },
  {
   "cell_type": "code",
   "execution_count": null,
   "metadata": {
    "id": "13wkO7v8biVl"
   },
   "outputs": [],
   "source": [
    "#Not mine\n",
    "\n",
    "def dickey_fuller_test_ind_zip(zip_code):\n",
    "    dftest = adfuller(zip_code)\n",
    "\n",
    "    # Extract and display test results in a user friendly manner\n",
    "    dfoutput = pd.Series(dftest[0:4], index=['Test Statistic','p-value','#Lags Used','Number of Observations Used'])\n",
    "    for key,value in dftest[4].items():\n",
    "        dfoutput['Critical Value (%s)'%key] = value\n",
    "    print(dftest)\n",
    "\n",
    "    print ('Results of Dickey-Fuller Test:')\n",
    "\n",
    "    return dfoutput"
   ]
  },
  {
   "cell_type": "code",
   "execution_count": null,
   "metadata": {
    "colab": {
     "base_uri": "https://localhost:8080/"
    },
    "id": "qyVRzPIeDZ1g",
    "outputId": "e787eb0b-180e-4e3e-d908-d6e74c9da4c6"
   },
   "outputs": [],
   "source": [
    "new_dic = {}\n",
    "for col in zip_df.columns:\n",
    "  zip_test = dickey_fuller_test_ind_zip(zip_df[col])\n",
    "  new_dic[col] = zip_test"
   ]
  },
  {
   "cell_type": "code",
   "execution_count": null,
   "metadata": {
    "colab": {
     "base_uri": "https://localhost:8080/"
    },
    "id": "hBFqk98vDwwJ",
    "outputId": "fff85d2e-2029-447a-94f3-48da46c10cd2"
   },
   "outputs": [],
   "source": [
    "new_dic[11226]"
   ]
  },
  {
   "cell_type": "code",
   "execution_count": null,
   "metadata": {
    "id": "ziJemkmLbiVo"
   },
   "outputs": [],
   "source": [
    "\n",
    "def dickey_fuller_test_zipcodes(df):\n",
    "    for col in df.columns:\n",
    "        dftest = adfuller(df[col])\n",
    "        dfoutput = pd.Series(dftest[0:4], index=['Test Statistic','p-value','#Lags Used','Number of Observations Used'])\n",
    "        for key,value in dftest[4].items():\n",
    "            dfoutput['Critical Value (%s)'%key] = value\n",
    "        print ('Results of Dickey-Fuller Test:')\n",
    "        \n",
    "        print(dfoutput) \n",
    "        #print(dftest)\n",
    "        print ('\\n')         "
   ]
  },
  {
   "cell_type": "code",
   "execution_count": null,
   "metadata": {
    "colab": {
     "base_uri": "https://localhost:8080/"
    },
    "id": "Qz6HY0rlbiVr",
    "outputId": "550a54eb-6e99-4100-92b8-abf422554f43"
   },
   "outputs": [],
   "source": [
    "dickey_fuller_test_zipcodes(zip_df)"
   ]
  },
  {
   "cell_type": "code",
   "execution_count": null,
   "metadata": {
    "id": "lB0sVoPSbiVw"
   },
   "outputs": [],
   "source": [
    "X_1 = zip_df.copy()"
   ]
  },
  {
   "cell_type": "code",
   "execution_count": null,
   "metadata": {
    "id": "ABPM-PSLbiWW"
   },
   "outputs": [],
   "source": [
    "def stationary_test(df):\n",
    "    rolling_mean = df.rolling(window=12).mean()\n",
    "    rolling_std = df.rolling(window=12).std()\n",
    "\n",
    "    plt.plot(df,color='blue',label='orignal')\n",
    "    plt.plot(rolling_mean, color='red',label='Rolling Mean')\n",
    "    plt.plot(rolling_std, color='green',label='Rolling STD')\n",
    "    plt.legend(loc='best')\n",
    "    plt.title('Rolling Mean and Rolling Standard Deviation')\n",
    "    #plt.show()\n",
    "    result = adfuller(df)\n",
    "    print('ADF statistic: {}'.format(result[0]))\n",
    "    print('p-value: {}'.format(result[1]))\n",
    "    print('Critical Values:')\n",
    "    for key, value in result[4].items():\n",
    "        print('\\t{} : {}'.format(key,value))\n",
    "        \n",
    "    names = ['Test Statistic','p-value','#Lags Used','# of Observations Used']\n",
    "    res  = dict(zip(names,result[:4]))\n",
    "    res['Stationary Results'] = res['p-value']<.05\n",
    "    \n",
    "    return pd.DataFrame(res,index=['AD Fuller Results'])    "
   ]
  },
  {
   "cell_type": "code",
   "execution_count": null,
   "metadata": {
    "colab": {
     "base_uri": "https://localhost:8080/",
     "height": 446
    },
    "id": "HqQ1UejybiWg",
    "outputId": "fdcd0580-fd8f-4d7f-95c1-13fdfc73a16a"
   },
   "outputs": [],
   "source": [
    "stationary_test(zip_df[11226])"
   ]
  },
  {
   "cell_type": "markdown",
   "metadata": {
    "id": "nfGy_tMXbiWl"
   },
   "source": [
    "###  Zipcode:  11238"
   ]
  },
  {
   "cell_type": "code",
   "execution_count": null,
   "metadata": {
    "id": "H5_2LrbTbiWl"
   },
   "outputs": [],
   "source": [
    "#brooklyn_zips[11226]"
   ]
  },
  {
   "cell_type": "code",
   "execution_count": null,
   "metadata": {
    "id": "o1-rQeYebiWn"
   },
   "outputs": [],
   "source": [
    "#stationary_test(zip_df[11238])"
   ]
  },
  {
   "cell_type": "markdown",
   "metadata": {
    "id": "mEBu8mMMbiWr"
   },
   "source": [
    "### Zipcode:  11215"
   ]
  },
  {
   "cell_type": "code",
   "execution_count": null,
   "metadata": {
    "colab": {
     "base_uri": "https://localhost:8080/",
     "height": 446
    },
    "id": "RqmZzL9EbiWs",
    "outputId": "3e0b4ceb-350c-4696-fbd1-8a2b5bf6b8fd"
   },
   "outputs": [],
   "source": [
    "stationary_test(zip_df[11226])"
   ]
  },
  {
   "cell_type": "markdown",
   "metadata": {
    "id": "lPfZPRqKbiWu"
   },
   "source": [
    "### Removing Trend\n",
    "#### Log-Transformation (np.log)"
   ]
  },
  {
   "cell_type": "code",
   "execution_count": null,
   "metadata": {
    "colab": {
     "base_uri": "https://localhost:8080/",
     "height": 446
    },
    "id": "zmRJNworbiWv",
    "outputId": "60ae9d14-a748-492c-ba5f-7cc5113880d3"
   },
   "outputs": [],
   "source": [
    "## Log Transform\n",
    "ts3 = np.log(zip_df[11226])\n",
    "#ts3.plot()\n",
    "stationary_test(ts3)"
   ]
  },
  {
   "cell_type": "markdown",
   "metadata": {
    "id": "GNhy76XObiWz"
   },
   "source": [
    "#### Differencing"
   ]
  },
  {
   "cell_type": "code",
   "execution_count": null,
   "metadata": {
    "colab": {
     "base_uri": "https://localhost:8080/",
     "height": 446
    },
    "id": "tW2BO9YabiW0",
    "outputId": "21a9d597-1f2f-4ac9-b62c-bd474686f6b4"
   },
   "outputs": [],
   "source": [
    "\"\"\"\n",
    "#subtracts the ts 1 step forward from itself. Good way of eliminting trend\n",
    "\n",
    "#below ts centered around 0\n",
    "#we achieved stationarity\n",
    "#eliminating day-to-day patterns\n",
    "\"\"\"\n",
    "ts0 = zip_df[11226].diff().dropna()\n",
    "#ts0.plot()\n",
    "\n",
    "stationary_test(ts0)"
   ]
  },
  {
   "cell_type": "markdown",
   "metadata": {
    "id": "997jzmLvbiW4"
   },
   "source": [
    "#### Subtract Rolling Mean "
   ]
  },
  {
   "cell_type": "code",
   "execution_count": null,
   "metadata": {
    "colab": {
     "base_uri": "https://localhost:8080/",
     "height": 446
    },
    "id": "SRxKzj3HbiW4",
    "outputId": "c86e9fb3-91ba-451a-e17e-02bc37f7e2a1"
   },
   "outputs": [],
   "source": [
    "## Subtract Rolling mean\n",
    "ts2 = (zip_df[11226] - zip_df[11226].rolling(3).mean()).dropna()\n",
    "#ts2.plot()\n",
    "stationary_test(ts2)"
   ]
  },
  {
   "cell_type": "markdown",
   "metadata": {
    "id": "exZwBt4pbiW7"
   },
   "source": [
    "#### Subtract Exponentially-Weighted Mean "
   ]
  },
  {
   "cell_type": "code",
   "execution_count": null,
   "metadata": {
    "colab": {
     "base_uri": "https://localhost:8080/",
     "height": 446
    },
    "id": "tmUDhjm9biW8",
    "outputId": "2604a512-8033-4352-8ec4-3f92ca18a9bf"
   },
   "outputs": [],
   "source": [
    "## Subtract Exponentially Weight Mean Rolling mean\n",
    "ts4 = (zip_df[11226] - zip_df[11226].ewm(halflife=7).mean()).dropna()\n",
    "#ts4.plot()\n",
    "stationary_test(ts4)"
   ]
  },
  {
   "cell_type": "markdown",
   "metadata": {
    "id": "aCZ_c82dbiW_"
   },
   "source": [
    "#### Seasonal Decomposition "
   ]
  },
  {
   "cell_type": "code",
   "execution_count": null,
   "metadata": {
    "colab": {
     "base_uri": "https://localhost:8080/",
     "height": 297
    },
    "id": "leunRXJLbiW_",
    "outputId": "64a82be0-b10e-4421-a61e-757e31d0c04b"
   },
   "outputs": [],
   "source": [
    "\"\"\"\n",
    "it will identfies patterns, trends in ts and separate them into 3 new ts.\n",
    "residual-what was left over after removing all the other components.\n",
    "\"\"\"\n",
    "from statsmodels.tsa.seasonal import seasonal_decompose\n",
    "decomp = seasonal_decompose(zip_df[11226])#,model='mul')\n",
    "decomp.plot();"
   ]
  },
  {
   "cell_type": "code",
   "execution_count": null,
   "metadata": {
    "colab": {
     "base_uri": "https://localhost:8080/",
     "height": 446
    },
    "id": "gkHCCnT2biXB",
    "outputId": "46b39c8f-a057-4af2-d22d-cff871bcad53"
   },
   "outputs": [],
   "source": [
    "## Get ADFuller Results for seasonal component\n",
    "stationary_test(decomp.seasonal)"
   ]
  },
  {
   "cell_type": "code",
   "execution_count": null,
   "metadata": {
    "colab": {
     "base_uri": "https://localhost:8080/",
     "height": 446
    },
    "id": "dZXqBfP1biXD",
    "outputId": "c44bfd5e-44bb-4373-b2d8-f1037ea50c8c"
   },
   "outputs": [],
   "source": [
    "## Get ADFuller Results for trend component\n",
    "stationary_test(decomp.trend.dropna())"
   ]
  },
  {
   "cell_type": "code",
   "execution_count": null,
   "metadata": {
    "colab": {
     "base_uri": "https://localhost:8080/",
     "height": 446
    },
    "id": "eMm09mYMbiXF",
    "outputId": "4922c189-32a3-42f2-97e7-57a98f5673f8"
   },
   "outputs": [],
   "source": [
    "## Get ADFuller Results for resid component\n",
    "stationary_test(decomp.resid.dropna())"
   ]
  },
  {
   "cell_type": "code",
   "execution_count": null,
   "metadata": {
    "colab": {
     "base_uri": "https://localhost:8080/"
    },
    "id": "pCKduOGAbiXG",
    "outputId": "d156d94c-30f4-48f3-e8be-11a8083e9c7a"
   },
   "outputs": [],
   "source": [
    "decomp.resid.dropna()"
   ]
  },
  {
   "cell_type": "markdown",
   "metadata": {
    "id": "5z_0dUz3pHix"
   },
   "source": [
    "## **RNN**"
   ]
  },
  {
   "cell_type": "code",
   "execution_count": null,
   "metadata": {
    "id": "UcgF16-aC9HY"
   },
   "outputs": [],
   "source": [
    "df_rnn = zip_df[[11238]]"
   ]
  },
  {
   "cell_type": "code",
   "execution_count": null,
   "metadata": {
    "colab": {
     "base_uri": "https://localhost:8080/",
     "height": 235
    },
    "id": "EuApwYLOpNYi",
    "outputId": "33c01c70-deeb-4341-bfff-2e278503c607"
   },
   "outputs": [],
   "source": [
    "df_rnn.head()"
   ]
  },
  {
   "cell_type": "code",
   "execution_count": null,
   "metadata": {
    "colab": {
     "base_uri": "https://localhost:8080/",
     "height": 307
    },
    "id": "RldYgVvKpb2U",
    "outputId": "012fc3d8-25de-4bfb-8f2a-9a455fef8bc2"
   },
   "outputs": [],
   "source": [
    "df_rnn.plot()"
   ]
  },
  {
   "cell_type": "code",
   "execution_count": null,
   "metadata": {
    "colab": {
     "base_uri": "https://localhost:8080/"
    },
    "id": "UICQH8rFpg_7",
    "outputId": "c01a01f3-69bf-4ae1-de78-0392db3e9b82"
   },
   "outputs": [],
   "source": [
    "len(df_rnn)"
   ]
  },
  {
   "cell_type": "code",
   "execution_count": null,
   "metadata": {
    "colab": {
     "base_uri": "https://localhost:8080/"
    },
    "id": "k53J6wRSprSk",
    "outputId": "d04056ec-39cb-4b19-8587-4f30e61ee4fe"
   },
   "outputs": [],
   "source": [
    "265-12"
   ]
  },
  {
   "cell_type": "code",
   "execution_count": null,
   "metadata": {
    "id": "OzY_swDSpv9p"
   },
   "outputs": [],
   "source": [
    "\"\"\"\n",
    "x_train= x_train.reshape(-1, 1)\n",
    "y_train= y_train.reshape(-1, 1)\n",
    "x_test = x_test.reshape(-1, 1)\n",
    "\"\"\"\n",
    "train = df_rnn.iloc[:253]\n",
    "test = df_rnn.iloc[253:]\n",
    "#test = test.reshape(1, -1)\n",
    "#train= train.reshape(-1, 1)"
   ]
  },
  {
   "cell_type": "code",
   "execution_count": null,
   "metadata": {
    "colab": {
     "base_uri": "https://localhost:8080/",
     "height": 452
    },
    "id": "s-KkKABmsVwp",
    "outputId": "5225563e-897a-4dda-f4ca-0e02e75d0e0a"
   },
   "outputs": [],
   "source": [
    "test"
   ]
  },
  {
   "cell_type": "code",
   "execution_count": null,
   "metadata": {
    "colab": {
     "base_uri": "https://localhost:8080/"
    },
    "id": "CdJPVZ5lp9Vk",
    "outputId": "b5396040-e85a-4c04-f624-19d64609c0e4"
   },
   "outputs": [],
   "source": [
    "len(test)"
   ]
  },
  {
   "cell_type": "code",
   "execution_count": null,
   "metadata": {
    "colab": {
     "base_uri": "https://localhost:8080/"
    },
    "id": "M6PLWCIvrYe5",
    "outputId": "e0f84c15-32a0-4706-8554-995ce8193fdc"
   },
   "outputs": [],
   "source": [
    "train.shape"
   ]
  },
  {
   "cell_type": "code",
   "execution_count": null,
   "metadata": {
    "id": "qOZKOfn3p_hb"
   },
   "outputs": [],
   "source": [
    "from sklearn.preprocessing import MinMaxScaler"
   ]
  },
  {
   "cell_type": "code",
   "execution_count": null,
   "metadata": {
    "id": "EY9a7CYLqK5v"
   },
   "outputs": [],
   "source": [
    "scaler = MinMaxScaler()\n",
    "scaler.fit(train)\n",
    "scaled_train = scaler.transform(train)\n",
    "scaled_test = scaler.transform(test)"
   ]
  },
  {
   "cell_type": "code",
   "execution_count": null,
   "metadata": {
    "colab": {
     "base_uri": "https://localhost:8080/"
    },
    "id": "lVTsgQRqqN9E",
    "outputId": "19cbbc0c-02ff-43f1-82ed-583df3f8e233"
   },
   "outputs": [],
   "source": [
    "scaled_train"
   ]
  },
  {
   "cell_type": "code",
   "execution_count": null,
   "metadata": {
    "id": "1BqiRwzBtsyv"
   },
   "outputs": [],
   "source": [
    "from keras.preprocessing.sequence import TimeseriesGenerator"
   ]
  },
  {
   "cell_type": "code",
   "execution_count": null,
   "metadata": {
    "id": "lSgXoTnHtfv5"
   },
   "outputs": [],
   "source": [
    "n_input = 2\n",
    "n_features = 1 #smaller batch sizes lead to better training\n",
    "\n",
    "generator = TimeseriesGenerator(scaled_train, scaled_train, length=n_input, batch_size=1)"
   ]
  },
  {
   "cell_type": "code",
   "execution_count": null,
   "metadata": {
    "colab": {
     "base_uri": "https://localhost:8080/"
    },
    "id": "XPb4lO6muERC",
    "outputId": "889239a5-aabb-4f26-f957-5f4ad997204a"
   },
   "outputs": [],
   "source": [
    "scaled_train[:5]"
   ]
  },
  {
   "cell_type": "code",
   "execution_count": null,
   "metadata": {
    "colab": {
     "base_uri": "https://localhost:8080/"
    },
    "id": "Rld4djT0uLxl",
    "outputId": "fbac8c3e-80c0-413d-af70-0012288bfa25"
   },
   "outputs": [],
   "source": [
    "len(scaled_train)"
   ]
  },
  {
   "cell_type": "code",
   "execution_count": null,
   "metadata": {
    "colab": {
     "base_uri": "https://localhost:8080/"
    },
    "id": "CflS6hSStmxx",
    "outputId": "404525ac-4598-4c5e-91b6-b8d8240c1fbf"
   },
   "outputs": [],
   "source": [
    "\"\"\"\n",
    "\n",
    "253 - n_input(2)\n",
    "\n",
    "\"\"\"\n",
    "len(generator)"
   ]
  },
  {
   "cell_type": "code",
   "execution_count": null,
   "metadata": {
    "id": "ybi9O1Set5KZ"
   },
   "outputs": [],
   "source": [
    "#create model and fit it to the generator object\n",
    "from keras.models import Sequential\n",
    "from keras.layers import Dense  #for final output later\n",
    "from keras.layers import LSTM #long short term memory"
   ]
  },
  {
   "cell_type": "code",
   "execution_count": null,
   "metadata": {
    "id": "ctvwCzruugGf"
   },
   "outputs": [],
   "source": [
    "n_input = 12 #look at full year of data or 12 months before predicting 13th month\n",
    "n_features = 1 #smaller batch sizes lead to better training\n",
    "               #how many columns you have. WE have 1 column which is time stamp for y\n",
    "\n",
    "train_generator = TimeseriesGenerator(scaled_train, scaled_train, length=n_input, batch_size=1)"
   ]
  },
  {
   "cell_type": "code",
   "execution_count": null,
   "metadata": {
    "colab": {
     "base_uri": "https://localhost:8080/"
    },
    "id": "RDdsdHC9ujNE",
    "outputId": "3985a469-08c1-451d-e74d-de50a49df138"
   },
   "outputs": [],
   "source": [
    "model = Sequential()\n",
    "\n",
    "model.add(LSTM(150, activation='relu', input_shape=(n_input, n_features)))\n",
    "#need to aggregate all the neurons to sngle prediciton\n",
    "model.add(Dense(1)) #added single dense neuron which will directly output our prediction\n",
    "model.compile(optimizer='adam', loss='mse')"
   ]
  },
  {
   "cell_type": "code",
   "execution_count": null,
   "metadata": {
    "colab": {
     "base_uri": "https://localhost:8080/"
    },
    "id": "_aOIy_gJumuu",
    "outputId": "8890a0df-850b-40d4-986a-0e5e37458fd8"
   },
   "outputs": [],
   "source": [
    "\"\"\"\n",
    "may want to play around w/number of neurons on LSTM layer\n",
    "\"\"\"\n",
    "model.summary()"
   ]
  },
  {
   "cell_type": "code",
   "execution_count": null,
   "metadata": {
    "colab": {
     "base_uri": "https://localhost:8080/"
    },
    "id": "6uCWYAW-up-U",
    "outputId": "962763e9-7bcf-4f0f-f43a-be7dde9d1ff7"
   },
   "outputs": [],
   "source": [
    "\"\"\"\n",
    "fit tou our training generator\n",
    "more epochs you use hte longer it's going to take to train\n",
    "1 epoch is a single entire run through of training data\n",
    "\n",
    "We get significant reduciton over 1st couple of epochs then around 15 start seeing convergence\n",
    "\n",
    "\"\"\"\n",
    "model.fit_generator(train_generator, epochs=25)"
   ]
  },
  {
   "cell_type": "code",
   "execution_count": null,
   "metadata": {
    "colab": {
     "base_uri": "https://localhost:8080/"
    },
    "id": "LMNR-bBZuuHw",
    "outputId": "870a44ae-0630-4a1b-dad6-5928bc1cd4f0"
   },
   "outputs": [],
   "source": [
    "model.history.history.keys()"
   ]
  },
  {
   "cell_type": "code",
   "execution_count": null,
   "metadata": {
    "colab": {
     "base_uri": "https://localhost:8080/",
     "height": 265
    },
    "id": "15Sj6zlbu86t",
    "outputId": "4ccba022-a4f2-4b98-8d06-c1a3882a30d3"
   },
   "outputs": [],
   "source": [
    "plt.plot(range(len(model.history.history['loss'])),model.history.history['loss']);"
   ]
  },
  {
   "cell_type": "code",
   "execution_count": null,
   "metadata": {
    "colab": {
     "base_uri": "https://localhost:8080/"
    },
    "id": "W-xSv_-UvGe6",
    "outputId": "21a3dc43-19e3-453e-a416-7b546dcbe9a2"
   },
   "outputs": [],
   "source": [
    "\"\"\"\n",
    "evalute on the test data\n",
    "create an evlauation batch\n",
    "our network trains 1 step ahead\n",
    "\n",
    "our network is 12 network steps \n",
    "    then predict step 13\n",
    "    \n",
    "need last 12 points of training data inorder to predict pt. 1 of test data \n",
    "\n",
    "these are last 12 points of training set\n",
    "\"\"\"\n",
    "first_eval_batch = scaled_train[-12:]\n",
    "first_eval_batch"
   ]
  },
  {
   "cell_type": "code",
   "execution_count": null,
   "metadata": {
    "colab": {
     "base_uri": "https://localhost:8080/"
    },
    "id": "vgCzkxazvHPl",
    "outputId": "01a16c3e-0f59-4cd3-a575-9ce13828e60e"
   },
   "outputs": [],
   "source": [
    "\"\"\"\n",
    "it now has 3 brackets at the top\n",
    "\"\"\"\n",
    "first_eval_batch = first_eval_batch.reshape((1,n_input,n_features))\n",
    "first_eval_batch"
   ]
  },
  {
   "cell_type": "code",
   "execution_count": null,
   "metadata": {
    "colab": {
     "base_uri": "https://localhost:8080/"
    },
    "id": "88VY8RZGvLFj",
    "outputId": "9715877a-2b09-4a55-e195-9ff6e3a82f58"
   },
   "outputs": [],
   "source": [
    "\"\"\"\n",
    "call model on first_eval_batch\n",
    "gives array prediciton\n",
    "means given these 12 points of training data it predicts taht below should be 1st point of test data set\n",
    "\"\"\"\n",
    "model.predict(first_eval_batch)"
   ]
  },
  {
   "cell_type": "code",
   "execution_count": null,
   "metadata": {
    "colab": {
     "base_uri": "https://localhost:8080/"
    },
    "id": "ULYw3tlmvOZl",
    "outputId": "d3588292-dd52-4598-e465-a0b95b3ef3bb"
   },
   "outputs": [],
   "source": [
    "scaled_test"
   ]
  },
  {
   "cell_type": "code",
   "execution_count": null,
   "metadata": {
    "id": "aDye7VyzvdkR"
   },
   "outputs": [],
   "source": [
    "\"\"\"\n",
    "not just predict 1st point in test set but the entire test set\n",
    "how to forecast into the future\n",
    "Forecast using RNN model\n",
    "\"\"\"\n",
    "#hold predicitons\n",
    "test_predictions = []\n",
    "#last n_input points from training set\n",
    "first_eval_batch = scaled_train[-n_input:] \n",
    "#reshape to format of RNN wants, (same format as Timeseriesgenerator \n",
    "current_batch = first_eval_batch.reshape((1,n_input,n_features))\n",
    "\n",
    "#hoe far into the futrue will I forecast: length of test set\n",
    "for i in range(len(test)):\n",
    "    #1time step ahead of historical 12 points\n",
    "    current_pred = model.predict(current_batch)[0] #0 is for formatting \n",
    "    test_predictions.append(current_pred)\n",
    "    \n",
    "    #update current batch to include prediciton\n",
    "    current_batch = np.append(current_batch[:,1:,:],[[current_pred]],axis=1)"
   ]
  },
  {
   "cell_type": "code",
   "execution_count": null,
   "metadata": {
    "colab": {
     "base_uri": "https://localhost:8080/"
    },
    "id": "rUu1zNLavhjj",
    "outputId": "faafb17d-d6b3-4bd0-b3ac-145c6f59c62e"
   },
   "outputs": [],
   "source": [
    "test_predictions"
   ]
  },
  {
   "cell_type": "code",
   "execution_count": null,
   "metadata": {
    "colab": {
     "base_uri": "https://localhost:8080/"
    },
    "id": "XYFfcaWUvlAB",
    "outputId": "1ba15235-370a-452f-9be2-99c9b7eb06f0"
   },
   "outputs": [],
   "source": [
    "true_predictions = scaler.inverse_transform(test_predictions)\n",
    "true_predictions"
   ]
  },
  {
   "cell_type": "code",
   "execution_count": null,
   "metadata": {
    "id": "jmXWtLZJvnp3"
   },
   "outputs": [],
   "source": [
    "test['Predictions'] = true_predictions"
   ]
  },
  {
   "cell_type": "code",
   "execution_count": null,
   "metadata": {
    "colab": {
     "base_uri": "https://localhost:8080/",
     "height": 452
    },
    "id": "pZDdkE08vrEV",
    "outputId": "fb5dae31-5067-4cda-9bb5-803e69b597f0"
   },
   "outputs": [],
   "source": [
    "test"
   ]
  },
  {
   "cell_type": "markdown",
   "metadata": {
    "id": "l01ERN_JJM48"
   },
   "source": [
    "### **RNN Plot / Sales v Predicted Values**"
   ]
  },
  {
   "cell_type": "code",
   "execution_count": null,
   "metadata": {
    "colab": {
     "base_uri": "https://localhost:8080/",
     "height": 356
    },
    "id": "vZrCDEbsvr-G",
    "outputId": "0e16ced3-039e-437c-da1b-8cc3a0e07dc2"
   },
   "outputs": [],
   "source": [
    "\"\"\"\n",
    "sales v predicted values\n",
    "\"\"\"\n",
    "test.plot(figsize=(12,5));"
   ]
  },
  {
   "cell_type": "markdown",
   "metadata": {
    "id": "qYpolS-z3v7q"
   },
   "source": [
    "### **Recommendations**\n",
    "Top Five zipcodes to invest in w/mean ROI:<br>\n",
    "11210  (60%)<br>\n",
    "11233  (42.5%)<br>\n",
    "11218  (37.8%)<br>\n",
    "11230  (37.8%)<br>\n",
    "11212  (37%)<br>\n",
    "\n",
    "Top Five zipcodes to invest in ROI 1st yr.:<br>\n",
    "11238  (19%)<br>\n",
    "11217  (15%)<br>\n",
    "11220  (11%)<br>\n",
    "11230  (9.8%)<br>\n",
    "11224  (8.7%)<br>\n",
    "\n",
    "Top Five zipcodes to invest in ROI 3rd yr.:<br>\n",
    "11210  (489%)<br>\n",
    "11221  (192%)<br>\n",
    "11218  (90%)<br>\n",
    "11233  (79%)<br>\n",
    "11212  (77%)<br>"
   ]
  }
 ],
 "metadata": {
  "accelerator": "GPU",
  "colab": {
   "collapsed_sections": [],
   "include_colab_link": true,
   "name": "ts_model_notebook-12-15-20.ipynb",
   "provenance": [],
   "toc_visible": true
  },
  "kernelspec": {
   "display_name": "Python [conda env:learn-env] *",
   "language": "python",
   "name": "conda-env-learn-env-py"
  },
  "language_info": {
   "codemirror_mode": {
    "name": "ipython",
    "version": 3
   },
   "file_extension": ".py",
   "mimetype": "text/x-python",
   "name": "python",
   "nbconvert_exporter": "python",
   "pygments_lexer": "ipython3",
   "version": "3.6.9"
  },
  "toc": {
   "base_numbering": 1,
   "nav_menu": {},
   "number_sections": true,
   "sideBar": true,
   "skip_h1_title": false,
   "title_cell": "Table of Contents",
   "title_sidebar": "Contents",
   "toc_cell": false,
   "toc_position": {},
   "toc_section_display": true,
   "toc_window_display": false
  }
 },
 "nbformat": 4,
 "nbformat_minor": 1
}
